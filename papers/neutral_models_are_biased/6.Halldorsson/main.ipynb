{
 "cells": [
  {
   "cell_type": "code",
   "execution_count": null,
   "metadata": {},
   "outputs": [],
   "source": [
    "# TODO: grand plan \n",
    "\n",
    "# 1. Assign GC content, gBGC, BGS, exon status, enhancer status to Halldorsson windows using same infra I used for Chen windows \n",
    "# 2. Copy papers/neutral_models_are_biased/2.ipynb to new notebook, ingest Halldorsson dataframe, and compute PR curves (but not auPRC bar charts) for non-exonic Halldorsson windows \n",
    "# 3. Include PR curves for Halldorsson windows as supp info, showing that trends are same as when using Chen windows \n"
   ]
  },
  {
   "cell_type": "markdown",
   "metadata": {},
   "source": [
    "## Workflow \n",
    "\n",
    "1. intersect Halldorsson windows with enhancers and exons: \n",
    "```\n",
    "bash papers/neutral_models_are_biased/6.Halldorsson/add-overlapAmounts.sh\n",
    "```\n",
    "2. find noncoding Halldorsson windows and determine whether they significantly overlap enhancers or not: \n",
    "```\n",
    "papers/neutral_models_are_biased/6.Halldorsson/assign_enhancer_and_exon_status.ipynb\n",
    "```"
   ]
  },
  {
   "cell_type": "code",
   "execution_count": null,
   "metadata": {},
   "outputs": [],
   "source": [
    "# TODO [Monday]\n",
    "# pull out windows created in step 2 of workflow above, and assign GC content, gBGC and BGS to those windows\n",
    "# do this by finding code that did this for Chen windows and adapt it to Halldorsson windows\n",
    "\n"
   ]
  }
 ],
 "metadata": {
  "kernelspec": {
   "display_name": "constraint-tools",
   "language": "python",
   "name": "python3"
  },
  "language_info": {
   "name": "python",
   "version": "3.9.0"
  }
 },
 "nbformat": 4,
 "nbformat_minor": 2
}
