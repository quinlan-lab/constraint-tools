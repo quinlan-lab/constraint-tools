{
 "cells": [
  {
   "cell_type": "markdown",
   "metadata": {},
   "source": [
    "## Preliminary Workflow \n",
    "\n"
   ]
  },
  {
   "cell_type": "code",
   "execution_count": 1,
   "metadata": {},
   "outputs": [],
   "source": [
    "# 1. intersect Halldorsson windows with enhancers and exons: \n",
    "#    papers/neutral_models_are_biased/6.Halldorsson/add-overlapAmounts.sh\n",
    "# 2. find noncoding Halldorsson windows and determine whether they significantly overlap enhancers or not: \n",
    "#    papers/neutral_models_are_biased/6.Halldorsson/assign_enhancer_and_exon_status.ipynb\n",
    "# 3. compute GC-content for Halldorsson windows: \n",
    "#    papers/neutral_models_are_biased/6.Halldorsson/compute-GC-content-for-all-window-sizes-based-on-Halldorsson-windows.sh"
   ]
  },
  {
   "cell_type": "markdown",
   "metadata": {},
   "source": [
    "# Assign BGS, gBGC, GC_content to Halldorsson windows "
   ]
  },
  {
   "cell_type": "code",
   "execution_count": 2,
   "metadata": {},
   "outputs": [],
   "source": [
    "CONSTRAINT_TOOLS = '/scratch/ucgd/lustre-labs/quinlan/u6018199/constraint-tools'\n",
    "CONSTRAINT_TOOLS_DATA = '/scratch/ucgd/lustre-labs/quinlan/data-shared/constraint-tools'\n",
    "\n",
    "import sys\n",
    "sys.path.append(f'{CONSTRAINT_TOOLS}/utilities')\n",
    "\n",
    "POP = 'EUR'\n",
    "GC_WINDOW_SIZE = 1000"
   ]
  },
  {
   "cell_type": "code",
   "execution_count": 3,
   "metadata": {},
   "outputs": [],
   "source": [
    "import polars as pl \n",
    "\n",
    "from shell import shell \n",
    "from colorize import print_string_as_info\n",
    "from aggregate import aggregate_polars\n",
    "\n",
    "def get_header(filename):\n",
    "  with open(filename) as fh: \n",
    "    header = fh.readline().strip().split('\\t')\n",
    "  return header\n",
    "\n",
    "def intersect(a_filename, b_filename, intersect_filename, b_class): \n",
    "  cmd = (\n",
    "    f'bedtools intersect'\n",
    "    f\" -a <(tail -n +2 {a_filename})\" # contains header\n",
    "    f\" -b <(tail -n +2 {b_filename})\" # contains header\n",
    "    f' -wao -f 0.5' \n",
    "    f' > {intersect_filename}'\n",
    "  )\n",
    "  shell(cmd) \n",
    "  print_string_as_info(f'Wrote {intersect_filename}')\n",
    "\n",
    "  a_file_header = get_header(a_filename) # contains header\n",
    "  b_file_header = get_header(b_filename) # contains header\n",
    "  b_file_header = [f'{b_class}_{field}' for field in b_file_header[:3]] + b_file_header[3:]\n",
    "\n",
    "  return a_file_header, b_file_header\n",
    "\n",
    "def make_scores_numeric(df: pl.DataFrame, b_class: str, b_features: list) -> pl.DataFrame:\n",
    "    # we don't want to include windows that don't overlap any windows with b_feature values\n",
    "    df = df.filter(pl.col(f'{b_class}_chromosome') != '.')\n",
    "\n",
    "    # having removed records where 'b_class_chromosome' is '.', \n",
    "    # we can now convert the 'b_features' columns to floats\n",
    "    for b_feature in b_features:\n",
    "        df = df.filter(pl.col(b_feature) != '.') # gBGC values are floats, but some are missing\n",
    "        df = df.with_columns(pl.col(b_feature).cast(pl.Float64))\n",
    "\n",
    "    return df\n",
    "\n",
    "def intersect_and_aggregate(a_filename_stem, b_filename, b_class, b_features, b_class_aggregation_functions): \n",
    "  a_filename = f'{a_filename_stem}.bed'\n",
    "  intersect_filename = f'{a_filename_stem}.intersect.{b_class}.bed'\n",
    "\n",
    "  a_file_header, b_file_header = intersect(a_filename, b_filename, intersect_filename, b_class)\n",
    "\n",
    "  df = pl.read_csv(\n",
    "    intersect_filename, \n",
    "    separator='\\t',\n",
    "    new_columns=a_file_header + b_file_header + [f'halldorssonWindow_{b_class}Window_overlap'],\n",
    "    infer_schema_length=1000000\n",
    "  )\n",
    "\n",
    "  df = make_scores_numeric(df, b_class, b_features) \n",
    "\n",
    "  # some Halldorsson-windows may intersect multiple b_feature-windows, \n",
    "  # so let's group by Halldorsson-window, and aggregate scores over all b_feature-windows in the group\n",
    "  df = aggregate_polars(\n",
    "    df, \n",
    "    group_columns = a_file_header,\n",
    "    aggregation_functions = b_class_aggregation_functions\n",
    "  )\n",
    "\n",
    "  df.write_csv(\n",
    "    f'{a_filename_stem}.{b_class}.bed',\n",
    "    separator='\\t',\n",
    "  )\n",
    "\n",
    "  print_string_as_info(f'Wrote {a_filename_stem}.{b_class}.bed')\n",
    "\n",
    "  return df "
   ]
  },
  {
   "cell_type": "code",
   "execution_count": 4,
   "metadata": {},
   "outputs": [
    {
     "name": "stdout",
     "output_type": "stream",
     "text": [
      "\n"
     ]
    },
    {
     "name": "stderr",
     "output_type": "stream",
     "text": [
      "\u001b[36mWrote /scratch/ucgd/lustre-labs/quinlan/data-shared/constraint-tools/depletion_rank_scores/41586_2022_4965_MOESM3_ESM.noncoding.enhancer.intersect.BGS.bed\u001b[0m\n",
      "\u001b[36mWrote /scratch/ucgd/lustre-labs/quinlan/data-shared/constraint-tools/depletion_rank_scores/41586_2022_4965_MOESM3_ESM.noncoding.enhancer.BGS.bed\u001b[0m\n"
     ]
    },
    {
     "data": {
      "text/html": [
       "<div><style>\n",
       ".dataframe > thead > tr,\n",
       ".dataframe > tbody > tr {\n",
       "  text-align: right;\n",
       "  white-space: pre-wrap;\n",
       "}\n",
       "</style>\n",
       "<small>shape: (38_935_640, 7)</small><table border=\"1\" class=\"dataframe\"><thead><tr><th>chromosome</th><th>start</th><th>end</th><th>depletion_rank</th><th>enhancer_overlap</th><th>window overlaps enhancer</th><th>B</th></tr><tr><td>str</td><td>i64</td><td>i64</td><td>f64</td><td>i64</td><td>bool</td><td>f64</td></tr></thead><tbody><tr><td>&quot;chr1&quot;</td><td>1382900</td><td>1383400</td><td>0.673671</td><td>500</td><td>true</td><td>0.653</td></tr><tr><td>&quot;chr1&quot;</td><td>1382950</td><td>1383450</td><td>0.637265</td><td>500</td><td>true</td><td>0.653</td></tr><tr><td>&quot;chr1&quot;</td><td>1383000</td><td>1383500</td><td>0.696719</td><td>500</td><td>true</td><td>0.653</td></tr><tr><td>&quot;chr1&quot;</td><td>1383050</td><td>1383550</td><td>0.856514</td><td>500</td><td>true</td><td>0.653</td></tr><tr><td>&quot;chr1&quot;</td><td>1383100</td><td>1383600</td><td>0.848593</td><td>499</td><td>true</td><td>0.653</td></tr><tr><td>&hellip;</td><td>&hellip;</td><td>&hellip;</td><td>&hellip;</td><td>&hellip;</td><td>&hellip;</td><td>&hellip;</td></tr><tr><td>&quot;chr9&quot;</td><td>138171800</td><td>138172300</td><td>0.309646</td><td>null</td><td>false</td><td>0.536</td></tr><tr><td>&quot;chr9&quot;</td><td>138171850</td><td>138172350</td><td>0.508776</td><td>null</td><td>false</td><td>0.536</td></tr><tr><td>&quot;chr9&quot;</td><td>138171900</td><td>138172400</td><td>0.672528</td><td>null</td><td>false</td><td>0.536</td></tr><tr><td>&quot;chr9&quot;</td><td>138171950</td><td>138172450</td><td>0.47483</td><td>null</td><td>false</td><td>0.536</td></tr><tr><td>&quot;chr9&quot;</td><td>138172000</td><td>138172500</td><td>0.403504</td><td>null</td><td>false</td><td>0.536</td></tr></tbody></table></div>"
      ],
      "text/plain": [
       "shape: (38_935_640, 7)\n",
       "┌────────────┬───────────┬───────────┬────────────────┬──────────────────┬─────────────────┬───────┐\n",
       "│ chromosome ┆ start     ┆ end       ┆ depletion_rank ┆ enhancer_overlap ┆ window overlaps ┆ B     │\n",
       "│ ---        ┆ ---       ┆ ---       ┆ ---            ┆ ---              ┆ enhancer        ┆ ---   │\n",
       "│ str        ┆ i64       ┆ i64       ┆ f64            ┆ i64              ┆ ---             ┆ f64   │\n",
       "│            ┆           ┆           ┆                ┆                  ┆ bool            ┆       │\n",
       "╞════════════╪═══════════╪═══════════╪════════════════╪══════════════════╪═════════════════╪═══════╡\n",
       "│ chr1       ┆ 1382900   ┆ 1383400   ┆ 0.673671       ┆ 500              ┆ true            ┆ 0.653 │\n",
       "│ chr1       ┆ 1382950   ┆ 1383450   ┆ 0.637265       ┆ 500              ┆ true            ┆ 0.653 │\n",
       "│ chr1       ┆ 1383000   ┆ 1383500   ┆ 0.696719       ┆ 500              ┆ true            ┆ 0.653 │\n",
       "│ chr1       ┆ 1383050   ┆ 1383550   ┆ 0.856514       ┆ 500              ┆ true            ┆ 0.653 │\n",
       "│ chr1       ┆ 1383100   ┆ 1383600   ┆ 0.848593       ┆ 499              ┆ true            ┆ 0.653 │\n",
       "│ …          ┆ …         ┆ …         ┆ …              ┆ …                ┆ …               ┆ …     │\n",
       "│ chr9       ┆ 138171800 ┆ 138172300 ┆ 0.309646       ┆ null             ┆ false           ┆ 0.536 │\n",
       "│ chr9       ┆ 138171850 ┆ 138172350 ┆ 0.508776       ┆ null             ┆ false           ┆ 0.536 │\n",
       "│ chr9       ┆ 138171900 ┆ 138172400 ┆ 0.672528       ┆ null             ┆ false           ┆ 0.536 │\n",
       "│ chr9       ┆ 138171950 ┆ 138172450 ┆ 0.47483        ┆ null             ┆ false           ┆ 0.536 │\n",
       "│ chr9       ┆ 138172000 ┆ 138172500 ┆ 0.403504       ┆ null             ┆ false           ┆ 0.536 │\n",
       "└────────────┴───────────┴───────────┴────────────────┴──────────────────┴─────────────────┴───────┘"
      ]
     },
     "execution_count": 4,
     "metadata": {},
     "output_type": "execute_result"
    }
   ],
   "source": [
    "# assign BGS values to Halldorsson windows \n",
    "intersect_and_aggregate(\n",
    "    a_filename_stem = f'{CONSTRAINT_TOOLS_DATA}/depletion_rank_scores/41586_2022_4965_MOESM3_ESM.noncoding.enhancer', \n",
    "    b_filename = f'{CONSTRAINT_TOOLS_DATA}/background-selection/CADD-B-map/bmap.hg38.header.bed', \n",
    "    b_class = 'BGS',\n",
    "    b_features = ['B'], \n",
    "    b_class_aggregation_functions = [pl.col('B').min()] \n",
    ")   "
   ]
  },
  {
   "cell_type": "code",
   "execution_count": 5,
   "metadata": {},
   "outputs": [
    {
     "name": "stdout",
     "output_type": "stream",
     "text": [
      "\n"
     ]
    },
    {
     "name": "stderr",
     "output_type": "stream",
     "text": [
      "\u001b[36mWrote /scratch/ucgd/lustre-labs/quinlan/data-shared/constraint-tools/depletion_rank_scores/41586_2022_4965_MOESM3_ESM.noncoding.enhancer.BGS.intersect.gBGC.bed\u001b[0m\n",
      "\u001b[36mWrote /scratch/ucgd/lustre-labs/quinlan/data-shared/constraint-tools/depletion_rank_scores/41586_2022_4965_MOESM3_ESM.noncoding.enhancer.BGS.gBGC.bed\u001b[0m\n"
     ]
    },
    {
     "data": {
      "text/html": [
       "<div><style>\n",
       ".dataframe > thead > tr,\n",
       ".dataframe > tbody > tr {\n",
       "  text-align: right;\n",
       "  white-space: pre-wrap;\n",
       "}\n",
       "</style>\n",
       "<small>shape: (38_632_866, 8)</small><table border=\"1\" class=\"dataframe\"><thead><tr><th>chromosome</th><th>start</th><th>end</th><th>depletion_rank</th><th>enhancer_overlap</th><th>window overlaps enhancer</th><th>B</th><th>B_M1star.EUR</th></tr><tr><td>str</td><td>i64</td><td>i64</td><td>f64</td><td>i64</td><td>bool</td><td>f64</td><td>f64</td></tr></thead><tbody><tr><td>&quot;chr1&quot;</td><td>1382950</td><td>1383450</td><td>0.637265</td><td>500</td><td>true</td><td>0.653</td><td>0.108103</td></tr><tr><td>&quot;chr1&quot;</td><td>1383000</td><td>1383500</td><td>0.696719</td><td>500</td><td>true</td><td>0.653</td><td>0.108103</td></tr><tr><td>&quot;chr1&quot;</td><td>1383050</td><td>1383550</td><td>0.856514</td><td>500</td><td>true</td><td>0.653</td><td>0.108103</td></tr><tr><td>&quot;chr1&quot;</td><td>1383100</td><td>1383600</td><td>0.848593</td><td>499</td><td>true</td><td>0.653</td><td>0.108103</td></tr><tr><td>&quot;chr1&quot;</td><td>1383150</td><td>1383650</td><td>0.94027</td><td>449</td><td>true</td><td>0.653</td><td>0.108103</td></tr><tr><td>&hellip;</td><td>&hellip;</td><td>&hellip;</td><td>&hellip;</td><td>&hellip;</td><td>&hellip;</td><td>&hellip;</td><td>&hellip;</td></tr><tr><td>&quot;chr9&quot;</td><td>137985250</td><td>137985750</td><td>0.16218</td><td>null</td><td>false</td><td>0.536</td><td>0.165515</td></tr><tr><td>&quot;chr9&quot;</td><td>137985300</td><td>137985800</td><td>0.103548</td><td>null</td><td>false</td><td>0.536</td><td>0.165515</td></tr><tr><td>&quot;chr9&quot;</td><td>137985350</td><td>137985850</td><td>0.137103</td><td>null</td><td>false</td><td>0.536</td><td>0.165515</td></tr><tr><td>&quot;chr9&quot;</td><td>137985400</td><td>137985900</td><td>0.192227</td><td>null</td><td>false</td><td>0.536</td><td>0.165515</td></tr><tr><td>&quot;chr9&quot;</td><td>137985450</td><td>137985950</td><td>0.12523</td><td>null</td><td>false</td><td>0.536</td><td>0.165515</td></tr></tbody></table></div>"
      ],
      "text/plain": [
       "shape: (38_632_866, 8)\n",
       "┌────────────┬───────────┬───────────┬─────────────┬─────────────┬────────────┬───────┬────────────┐\n",
       "│ chromosome ┆ start     ┆ end       ┆ depletion_r ┆ enhancer_ov ┆ window     ┆ B     ┆ B_M1star.E │\n",
       "│ ---        ┆ ---       ┆ ---       ┆ ank         ┆ erlap       ┆ overlaps   ┆ ---   ┆ UR         │\n",
       "│ str        ┆ i64       ┆ i64       ┆ ---         ┆ ---         ┆ enhancer   ┆ f64   ┆ ---        │\n",
       "│            ┆           ┆           ┆ f64         ┆ i64         ┆ ---        ┆       ┆ f64        │\n",
       "│            ┆           ┆           ┆             ┆             ┆ bool       ┆       ┆            │\n",
       "╞════════════╪═══════════╪═══════════╪═════════════╪═════════════╪════════════╪═══════╪════════════╡\n",
       "│ chr1       ┆ 1382950   ┆ 1383450   ┆ 0.637265    ┆ 500         ┆ true       ┆ 0.653 ┆ 0.108103   │\n",
       "│ chr1       ┆ 1383000   ┆ 1383500   ┆ 0.696719    ┆ 500         ┆ true       ┆ 0.653 ┆ 0.108103   │\n",
       "│ chr1       ┆ 1383050   ┆ 1383550   ┆ 0.856514    ┆ 500         ┆ true       ┆ 0.653 ┆ 0.108103   │\n",
       "│ chr1       ┆ 1383100   ┆ 1383600   ┆ 0.848593    ┆ 499         ┆ true       ┆ 0.653 ┆ 0.108103   │\n",
       "│ chr1       ┆ 1383150   ┆ 1383650   ┆ 0.94027     ┆ 449         ┆ true       ┆ 0.653 ┆ 0.108103   │\n",
       "│ …          ┆ …         ┆ …         ┆ …           ┆ …           ┆ …          ┆ …     ┆ …          │\n",
       "│ chr9       ┆ 137985250 ┆ 137985750 ┆ 0.16218     ┆ null        ┆ false      ┆ 0.536 ┆ 0.165515   │\n",
       "│ chr9       ┆ 137985300 ┆ 137985800 ┆ 0.103548    ┆ null        ┆ false      ┆ 0.536 ┆ 0.165515   │\n",
       "│ chr9       ┆ 137985350 ┆ 137985850 ┆ 0.137103    ┆ null        ┆ false      ┆ 0.536 ┆ 0.165515   │\n",
       "│ chr9       ┆ 137985400 ┆ 137985900 ┆ 0.192227    ┆ null        ┆ false      ┆ 0.536 ┆ 0.165515   │\n",
       "│ chr9       ┆ 137985450 ┆ 137985950 ┆ 0.12523     ┆ null        ┆ false      ┆ 0.536 ┆ 0.165515   │\n",
       "└────────────┴───────────┴───────────┴─────────────┴─────────────┴────────────┴───────┴────────────┘"
      ]
     },
     "execution_count": 5,
     "metadata": {},
     "output_type": "execute_result"
    }
   ],
   "source": [
    "# assign gBGC coefficients to Halldorsson windows \n",
    "intersect_and_aggregate(\n",
    "    a_filename_stem = f'{CONSTRAINT_TOOLS_DATA}/depletion_rank_scores/41586_2022_4965_MOESM3_ESM.noncoding.enhancer.BGS', \n",
    "    b_filename = f'{CONSTRAINT_TOOLS_DATA}/GC-biased-gene-conversion/gBGC-coefficient.hg38.{POP}.header.bed', \n",
    "    b_class = 'gBGC',\n",
    "    b_features = [f'B_M1star.{POP}'], \n",
    "    b_class_aggregation_functions = [pl.col(f'B_M1star.{POP}').mean()]\n",
    ")   "
   ]
  },
  {
   "cell_type": "code",
   "execution_count": 6,
   "metadata": {},
   "outputs": [
    {
     "name": "stderr",
     "output_type": "stream",
     "text": [
      "\u001b[36mWrote /scratch/ucgd/lustre-labs/quinlan/data-shared/constraint-tools/depletion_rank_scores/41586_2022_4965_MOESM3_ESM.noncoding.enhancer.BGS.gBGC.GC_content.bed\u001b[0m\n"
     ]
    },
    {
     "data": {
      "text/html": [
       "<div><style>\n",
       ".dataframe > thead > tr,\n",
       ".dataframe > tbody > tr {\n",
       "  text-align: right;\n",
       "  white-space: pre-wrap;\n",
       "}\n",
       "</style>\n",
       "<small>shape: (38_632_866, 11)</small><table border=\"1\" class=\"dataframe\"><thead><tr><th>chromosome</th><th>start</th><th>end</th><th>depletion_rank</th><th>enhancer_overlap</th><th>window overlaps enhancer</th><th>B</th><th>B_M1star.EUR</th><th>GC_content_1000bp</th><th>GC_content_10000bp</th><th>GC_content_100000bp</th></tr><tr><td>str</td><td>i64</td><td>i64</td><td>f64</td><td>i64</td><td>bool</td><td>f64</td><td>f64</td><td>f64</td><td>f64</td><td>f64</td></tr></thead><tbody><tr><td>&quot;chr1&quot;</td><td>1382950</td><td>1383450</td><td>0.637265</td><td>500</td><td>true</td><td>0.653</td><td>0.108103</td><td>0.507492</td><td>0.549345</td><td>0.580424</td></tr><tr><td>&quot;chr1&quot;</td><td>1383000</td><td>1383500</td><td>0.696719</td><td>500</td><td>true</td><td>0.653</td><td>0.108103</td><td>0.51049</td><td>0.548945</td><td>0.580354</td></tr><tr><td>&quot;chr1&quot;</td><td>1383050</td><td>1383550</td><td>0.856514</td><td>500</td><td>true</td><td>0.653</td><td>0.108103</td><td>0.508492</td><td>0.550245</td><td>0.580274</td></tr><tr><td>&quot;chr1&quot;</td><td>1383100</td><td>1383600</td><td>0.848593</td><td>499</td><td>true</td><td>0.653</td><td>0.108103</td><td>0.518481</td><td>0.549245</td><td>0.580314</td></tr><tr><td>&quot;chr1&quot;</td><td>1383150</td><td>1383650</td><td>0.94027</td><td>449</td><td>true</td><td>0.653</td><td>0.108103</td><td>0.512488</td><td>0.549545</td><td>0.580284</td></tr><tr><td>&hellip;</td><td>&hellip;</td><td>&hellip;</td><td>&hellip;</td><td>&hellip;</td><td>&hellip;</td><td>&hellip;</td><td>&hellip;</td><td>&hellip;</td><td>&hellip;</td><td>&hellip;</td></tr><tr><td>&quot;chr9&quot;</td><td>137985250</td><td>137985750</td><td>0.16218</td><td>null</td><td>false</td><td>0.536</td><td>0.165515</td><td>0.578422</td><td>0.518648</td><td>0.489205</td></tr><tr><td>&quot;chr9&quot;</td><td>137985300</td><td>137985800</td><td>0.103548</td><td>null</td><td>false</td><td>0.536</td><td>0.165515</td><td>0.575425</td><td>0.519848</td><td>0.489175</td></tr><tr><td>&quot;chr9&quot;</td><td>137985350</td><td>137985850</td><td>0.137103</td><td>null</td><td>false</td><td>0.536</td><td>0.165515</td><td>0.578422</td><td>0.520048</td><td>0.489265</td></tr><tr><td>&quot;chr9&quot;</td><td>137985400</td><td>137985900</td><td>0.192227</td><td>null</td><td>false</td><td>0.536</td><td>0.165515</td><td>0.581419</td><td>0.520548</td><td>0.489265</td></tr><tr><td>&quot;chr9&quot;</td><td>137985450</td><td>137985950</td><td>0.12523</td><td>null</td><td>false</td><td>0.536</td><td>0.165515</td><td>0.581419</td><td>0.519948</td><td>0.489225</td></tr></tbody></table></div>"
      ],
      "text/plain": [
       "shape: (38_632_866, 11)\n",
       "┌───────────┬───────────┬───────────┬───────────┬───┬───────────┬───────────┬───────────┬──────────┐\n",
       "│ chromosom ┆ start     ┆ end       ┆ depletion ┆ … ┆ B_M1star. ┆ GC_conten ┆ GC_conten ┆ GC_conte │\n",
       "│ e         ┆ ---       ┆ ---       ┆ _rank     ┆   ┆ EUR       ┆ t_1000bp  ┆ t_10000bp ┆ nt_10000 │\n",
       "│ ---       ┆ i64       ┆ i64       ┆ ---       ┆   ┆ ---       ┆ ---       ┆ ---       ┆ 0bp      │\n",
       "│ str       ┆           ┆           ┆ f64       ┆   ┆ f64       ┆ f64       ┆ f64       ┆ ---      │\n",
       "│           ┆           ┆           ┆           ┆   ┆           ┆           ┆           ┆ f64      │\n",
       "╞═══════════╪═══════════╪═══════════╪═══════════╪═══╪═══════════╪═══════════╪═══════════╪══════════╡\n",
       "│ chr1      ┆ 1382950   ┆ 1383450   ┆ 0.637265  ┆ … ┆ 0.108103  ┆ 0.507492  ┆ 0.549345  ┆ 0.580424 │\n",
       "│ chr1      ┆ 1383000   ┆ 1383500   ┆ 0.696719  ┆ … ┆ 0.108103  ┆ 0.51049   ┆ 0.548945  ┆ 0.580354 │\n",
       "│ chr1      ┆ 1383050   ┆ 1383550   ┆ 0.856514  ┆ … ┆ 0.108103  ┆ 0.508492  ┆ 0.550245  ┆ 0.580274 │\n",
       "│ chr1      ┆ 1383100   ┆ 1383600   ┆ 0.848593  ┆ … ┆ 0.108103  ┆ 0.518481  ┆ 0.549245  ┆ 0.580314 │\n",
       "│ chr1      ┆ 1383150   ┆ 1383650   ┆ 0.94027   ┆ … ┆ 0.108103  ┆ 0.512488  ┆ 0.549545  ┆ 0.580284 │\n",
       "│ …         ┆ …         ┆ …         ┆ …         ┆ … ┆ …         ┆ …         ┆ …         ┆ …        │\n",
       "│ chr9      ┆ 137985250 ┆ 137985750 ┆ 0.16218   ┆ … ┆ 0.165515  ┆ 0.578422  ┆ 0.518648  ┆ 0.489205 │\n",
       "│ chr9      ┆ 137985300 ┆ 137985800 ┆ 0.103548  ┆ … ┆ 0.165515  ┆ 0.575425  ┆ 0.519848  ┆ 0.489175 │\n",
       "│ chr9      ┆ 137985350 ┆ 137985850 ┆ 0.137103  ┆ … ┆ 0.165515  ┆ 0.578422  ┆ 0.520048  ┆ 0.489265 │\n",
       "│ chr9      ┆ 137985400 ┆ 137985900 ┆ 0.192227  ┆ … ┆ 0.165515  ┆ 0.581419  ┆ 0.520548  ┆ 0.489265 │\n",
       "│ chr9      ┆ 137985450 ┆ 137985950 ┆ 0.12523   ┆ … ┆ 0.165515  ┆ 0.581419  ┆ 0.519948  ┆ 0.489225 │\n",
       "└───────────┴───────────┴───────────┴───────────┴───┴───────────┴───────────┴───────────┴──────────┘"
      ]
     },
     "execution_count": 6,
     "metadata": {},
     "output_type": "execute_result"
    }
   ],
   "source": [
    "def read(gc_window_size): \n",
    "    df = pl.read_csv(\n",
    "        f'{CONSTRAINT_TOOLS_DATA}/depletion_rank_scores/41586_2022_4965_MOESM3_ESM.GC_content_{gc_window_size}.bed',\n",
    "        separator='\\t',\n",
    "        infer_schema_length=1000000\n",
    "    )\n",
    "    df = df.select(pl.col(\n",
    "        \"halldorsson_chrom\",\n",
    "        \"halldorsson_start\",\n",
    "        \"halldorson_end\", # typo \n",
    "        \"halldorsson_score\",\n",
    "        \"window_GC_content\"\n",
    "    ))\n",
    "    df = df.rename({\"window_GC_content\": f'GC_content_{gc_window_size}bp'})\n",
    "    return df\n",
    "\n",
    "def assign_GC_to_halldorsson_windows():\n",
    "    df = pl.read_csv(\n",
    "        f'{CONSTRAINT_TOOLS_DATA}/depletion_rank_scores/41586_2022_4965_MOESM3_ESM.noncoding.enhancer.BGS.gBGC.bed', \n",
    "        separator='\\t',\n",
    "        infer_schema_length=1000000\n",
    "    )\n",
    "\n",
    "    for df_gc in [read(gc_window_size) for gc_window_size in [1000, 10000, 100000]]: \n",
    "        df = df.join(\n",
    "            df_gc, \n",
    "            left_on=['chromosome', 'start', 'end', 'depletion_rank'],\n",
    "            right_on=[\"halldorsson_chrom\", \"halldorsson_start\", \"halldorson_end\", \"halldorsson_score\"], \n",
    "            how='inner'\n",
    "        )\n",
    "\n",
    "    output_filename = f'{CONSTRAINT_TOOLS_DATA}/depletion_rank_scores/41586_2022_4965_MOESM3_ESM.noncoding.enhancer.BGS.gBGC.GC_content.bed'\n",
    "    df.write_csv(output_filename, separator='\\t')\n",
    "    print_string_as_info(f'Wrote {output_filename}')\n",
    "    \n",
    "    return df \n",
    "\n",
    "assign_GC_to_halldorsson_windows()"
   ]
  }
 ],
 "metadata": {
  "kernelspec": {
   "display_name": "constraint-tools",
   "language": "python",
   "name": "python3"
  },
  "language_info": {
   "codemirror_mode": {
    "name": "ipython",
    "version": 3
   },
   "file_extension": ".py",
   "mimetype": "text/x-python",
   "name": "python",
   "nbconvert_exporter": "python",
   "pygments_lexer": "ipython3",
   "version": "3.9.0"
  }
 },
 "nbformat": 4,
 "nbformat_minor": 2
}
