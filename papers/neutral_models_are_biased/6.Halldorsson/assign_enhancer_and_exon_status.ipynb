{
 "cells": [
  {
   "cell_type": "code",
   "execution_count": 1,
   "id": "45dbf2ec",
   "metadata": {},
   "outputs": [],
   "source": [
    "CONSTRAINT_TOOLS_DATA = '/scratch/ucgd/lustre-labs/quinlan/data-shared/constraint-tools'"
   ]
  },
  {
   "cell_type": "code",
   "execution_count": 2,
   "id": "a38d381f",
   "metadata": {},
   "outputs": [
    {
     "data": {
      "text/html": [
       "<div><style>\n",
       ".dataframe > thead > tr,\n",
       ".dataframe > tbody > tr {\n",
       "  text-align: right;\n",
       "  white-space: pre-wrap;\n",
       "}\n",
       "</style>\n",
       "<small>shape: (51_979_175, 6)</small><table border=\"1\" class=\"dataframe\"><thead><tr><th>chromosome</th><th>start</th><th>end</th><th>depletion_rank</th><th>feature</th><th>window_feature_overlap_bps</th></tr><tr><td>str</td><td>i64</td><td>i64</td><td>f64</td><td>str</td><td>i64</td></tr></thead><tbody><tr><td>&quot;chr1&quot;</td><td>777500</td><td>778000</td><td>0.59824</td><td>&quot;enhancer&quot;</td><td>500</td></tr><tr><td>&quot;chr1&quot;</td><td>777550</td><td>778050</td><td>0.649543</td><td>&quot;enhancer&quot;</td><td>500</td></tr><tr><td>&quot;chr1&quot;</td><td>777600</td><td>778100</td><td>0.682882</td><td>&quot;enhancer&quot;</td><td>500</td></tr><tr><td>&quot;chr1&quot;</td><td>777650</td><td>778150</td><td>0.572947</td><td>&quot;enhancer&quot;</td><td>500</td></tr><tr><td>&quot;chr1&quot;</td><td>777700</td><td>778200</td><td>0.502444</td><td>&quot;enhancer&quot;</td><td>500</td></tr><tr><td>&hellip;</td><td>&hellip;</td><td>&hellip;</td><td>&hellip;</td><td>&hellip;</td><td>&hellip;</td></tr><tr><td>&quot;chr9&quot;</td><td>138171800</td><td>138172300</td><td>0.309646</td><td>&quot;.&quot;</td><td>0</td></tr><tr><td>&quot;chr9&quot;</td><td>138171850</td><td>138172350</td><td>0.508776</td><td>&quot;.&quot;</td><td>0</td></tr><tr><td>&quot;chr9&quot;</td><td>138171900</td><td>138172400</td><td>0.672528</td><td>&quot;.&quot;</td><td>0</td></tr><tr><td>&quot;chr9&quot;</td><td>138171950</td><td>138172450</td><td>0.47483</td><td>&quot;.&quot;</td><td>0</td></tr><tr><td>&quot;chr9&quot;</td><td>138172000</td><td>138172500</td><td>0.403504</td><td>&quot;.&quot;</td><td>0</td></tr></tbody></table></div>"
      ],
      "text/plain": [
       "shape: (51_979_175, 6)\n",
       "┌────────────┬───────────┬───────────┬────────────────┬──────────┬────────────────────────────┐\n",
       "│ chromosome ┆ start     ┆ end       ┆ depletion_rank ┆ feature  ┆ window_feature_overlap_bps │\n",
       "│ ---        ┆ ---       ┆ ---       ┆ ---            ┆ ---      ┆ ---                        │\n",
       "│ str        ┆ i64       ┆ i64       ┆ f64            ┆ str      ┆ i64                        │\n",
       "╞════════════╪═══════════╪═══════════╪════════════════╪══════════╪════════════════════════════╡\n",
       "│ chr1       ┆ 777500    ┆ 778000    ┆ 0.59824        ┆ enhancer ┆ 500                        │\n",
       "│ chr1       ┆ 777550    ┆ 778050    ┆ 0.649543       ┆ enhancer ┆ 500                        │\n",
       "│ chr1       ┆ 777600    ┆ 778100    ┆ 0.682882       ┆ enhancer ┆ 500                        │\n",
       "│ chr1       ┆ 777650    ┆ 778150    ┆ 0.572947       ┆ enhancer ┆ 500                        │\n",
       "│ chr1       ┆ 777700    ┆ 778200    ┆ 0.502444       ┆ enhancer ┆ 500                        │\n",
       "│ …          ┆ …         ┆ …         ┆ …              ┆ …        ┆ …                          │\n",
       "│ chr9       ┆ 138171800 ┆ 138172300 ┆ 0.309646       ┆ .        ┆ 0                          │\n",
       "│ chr9       ┆ 138171850 ┆ 138172350 ┆ 0.508776       ┆ .        ┆ 0                          │\n",
       "│ chr9       ┆ 138171900 ┆ 138172400 ┆ 0.672528       ┆ .        ┆ 0                          │\n",
       "│ chr9       ┆ 138171950 ┆ 138172450 ┆ 0.47483        ┆ .        ┆ 0                          │\n",
       "│ chr9       ┆ 138172000 ┆ 138172500 ┆ 0.403504       ┆ .        ┆ 0                          │\n",
       "└────────────┴───────────┴───────────┴────────────────┴──────────┴────────────────────────────┘"
      ]
     },
     "execution_count": 2,
     "metadata": {},
     "output_type": "execute_result"
    }
   ],
   "source": [
    "import polars as pl\n",
    "\n",
    "def get_halldorsson_windows_with_features():\n",
    "    filename = f'{CONSTRAINT_TOOLS_DATA}/depletion_rank_scores/41586_2022_4965_MOESM3_ESM.overlapAmounts.bed'\n",
    "    return (pl\n",
    "        .read_csv(filename, separator='\\t')\n",
    "        .select(pl.col('Chr', 'Fromx', 'To', 'rank', 'feature', 'window_feature_overlap_bps'))\n",
    "        .rename({\n",
    "            'Chr': 'chromosome',\n",
    "            'Fromx': 'start',\n",
    "            'To': 'end',\n",
    "            'rank': 'depletion_rank',        \n",
    "        })\n",
    "    )\n",
    "\n",
    "halldorsson_windows_with_features = get_halldorsson_windows_with_features()\n",
    "halldorsson_windows_with_features"
   ]
  },
  {
   "cell_type": "markdown",
   "id": "aa3533e8",
   "metadata": {},
   "source": [
    "## Create single record for each window, with overlap amounts for each feature type "
   ]
  },
  {
   "cell_type": "code",
   "execution_count": 3,
   "id": "918f4e40",
   "metadata": {},
   "outputs": [
    {
     "data": {
      "text/plain": [
       "['chromosome', 'start', 'end', 'depletion_rank', 'feature']"
      ]
     },
     "execution_count": 3,
     "metadata": {},
     "output_type": "execute_result"
    }
   ],
   "source": [
    "columns_to_group_by = [column for column in halldorsson_windows_with_features.columns if column != 'window_feature_overlap_bps']\n",
    "columns_to_group_by"
   ]
  },
  {
   "cell_type": "code",
   "execution_count": 4,
   "id": "15957981",
   "metadata": {},
   "outputs": [
    {
     "data": {
      "text/html": [
       "<div><style>\n",
       ".dataframe > thead > tr,\n",
       ".dataframe > tbody > tr {\n",
       "  text-align: right;\n",
       "  white-space: pre-wrap;\n",
       "}\n",
       "</style>\n",
       "<small>shape: (51_262_959, 6)</small><table border=\"1\" class=\"dataframe\"><thead><tr><th>chromosome</th><th>start</th><th>end</th><th>depletion_rank</th><th>feature</th><th>window_feature_overlap_bps</th></tr><tr><td>str</td><td>i64</td><td>i64</td><td>f64</td><td>str</td><td>i64</td></tr></thead><tbody><tr><td>&quot;chr1&quot;</td><td>777500</td><td>778000</td><td>0.59824</td><td>&quot;enhancer&quot;</td><td>500</td></tr><tr><td>&quot;chr1&quot;</td><td>777550</td><td>778050</td><td>0.649543</td><td>&quot;enhancer&quot;</td><td>500</td></tr><tr><td>&quot;chr1&quot;</td><td>777600</td><td>778100</td><td>0.682882</td><td>&quot;enhancer&quot;</td><td>500</td></tr><tr><td>&quot;chr1&quot;</td><td>777650</td><td>778150</td><td>0.572947</td><td>&quot;enhancer&quot;</td><td>500</td></tr><tr><td>&quot;chr1&quot;</td><td>777700</td><td>778200</td><td>0.502444</td><td>&quot;enhancer&quot;</td><td>500</td></tr><tr><td>&hellip;</td><td>&hellip;</td><td>&hellip;</td><td>&hellip;</td><td>&hellip;</td><td>&hellip;</td></tr><tr><td>&quot;chr9&quot;</td><td>138171800</td><td>138172300</td><td>0.309646</td><td>&quot;.&quot;</td><td>0</td></tr><tr><td>&quot;chr9&quot;</td><td>138171850</td><td>138172350</td><td>0.508776</td><td>&quot;.&quot;</td><td>0</td></tr><tr><td>&quot;chr9&quot;</td><td>138171900</td><td>138172400</td><td>0.672528</td><td>&quot;.&quot;</td><td>0</td></tr><tr><td>&quot;chr9&quot;</td><td>138171950</td><td>138172450</td><td>0.47483</td><td>&quot;.&quot;</td><td>0</td></tr><tr><td>&quot;chr9&quot;</td><td>138172000</td><td>138172500</td><td>0.403504</td><td>&quot;.&quot;</td><td>0</td></tr></tbody></table></div>"
      ],
      "text/plain": [
       "shape: (51_262_959, 6)\n",
       "┌────────────┬───────────┬───────────┬────────────────┬──────────┬────────────────────────────┐\n",
       "│ chromosome ┆ start     ┆ end       ┆ depletion_rank ┆ feature  ┆ window_feature_overlap_bps │\n",
       "│ ---        ┆ ---       ┆ ---       ┆ ---            ┆ ---      ┆ ---                        │\n",
       "│ str        ┆ i64       ┆ i64       ┆ f64            ┆ str      ┆ i64                        │\n",
       "╞════════════╪═══════════╪═══════════╪════════════════╪══════════╪════════════════════════════╡\n",
       "│ chr1       ┆ 777500    ┆ 778000    ┆ 0.59824        ┆ enhancer ┆ 500                        │\n",
       "│ chr1       ┆ 777550    ┆ 778050    ┆ 0.649543       ┆ enhancer ┆ 500                        │\n",
       "│ chr1       ┆ 777600    ┆ 778100    ┆ 0.682882       ┆ enhancer ┆ 500                        │\n",
       "│ chr1       ┆ 777650    ┆ 778150    ┆ 0.572947       ┆ enhancer ┆ 500                        │\n",
       "│ chr1       ┆ 777700    ┆ 778200    ┆ 0.502444       ┆ enhancer ┆ 500                        │\n",
       "│ …          ┆ …         ┆ …         ┆ …              ┆ …        ┆ …                          │\n",
       "│ chr9       ┆ 138171800 ┆ 138172300 ┆ 0.309646       ┆ .        ┆ 0                          │\n",
       "│ chr9       ┆ 138171850 ┆ 138172350 ┆ 0.508776       ┆ .        ┆ 0                          │\n",
       "│ chr9       ┆ 138171900 ┆ 138172400 ┆ 0.672528       ┆ .        ┆ 0                          │\n",
       "│ chr9       ┆ 138171950 ┆ 138172450 ┆ 0.47483        ┆ .        ┆ 0                          │\n",
       "│ chr9       ┆ 138172000 ┆ 138172500 ┆ 0.403504       ┆ .        ┆ 0                          │\n",
       "└────────────┴───────────┴───────────┴────────────────┴──────────┴────────────────────────────┘"
      ]
     },
     "execution_count": 4,
     "metadata": {},
     "output_type": "execute_result"
    }
   ],
   "source": [
    "halldorsson_windows_with_features_grouped = ( \n",
    "    halldorsson_windows_with_features\n",
    "    .group_by(columns_to_group_by, maintain_order=True)\n",
    "    .agg(pl.col(\"window_feature_overlap_bps\").sum())\n",
    ")\n",
    "halldorsson_windows_with_features_grouped"
   ]
  },
  {
   "cell_type": "code",
   "execution_count": 5,
   "id": "d8db5da2",
   "metadata": {},
   "outputs": [
    {
     "data": {
      "text/plain": [
       "['chromosome', 'start', 'end', 'depletion_rank']"
      ]
     },
     "execution_count": 5,
     "metadata": {},
     "output_type": "execute_result"
    }
   ],
   "source": [
    "pivot_index = [column for column in columns_to_group_by if column != 'feature']\n",
    "pivot_index "
   ]
  },
  {
   "cell_type": "code",
   "execution_count": 6,
   "id": "216f784e",
   "metadata": {},
   "outputs": [
    {
     "data": {
      "text/html": [
       "<div><style>\n",
       ".dataframe > thead > tr,\n",
       ".dataframe > tbody > tr {\n",
       "  text-align: right;\n",
       "  white-space: pre-wrap;\n",
       "}\n",
       "</style>\n",
       "<small>shape: (49_104_026, 6)</small><table border=\"1\" class=\"dataframe\"><thead><tr><th>chromosome</th><th>start</th><th>end</th><th>depletion_rank</th><th>enhancer_overlap</th><th>merged_exon_overlap</th></tr><tr><td>str</td><td>i64</td><td>i64</td><td>f64</td><td>i64</td><td>i64</td></tr></thead><tbody><tr><td>&quot;chr1&quot;</td><td>777500</td><td>778000</td><td>0.59824</td><td>500</td><td>null</td></tr><tr><td>&quot;chr1&quot;</td><td>777550</td><td>778050</td><td>0.649543</td><td>500</td><td>null</td></tr><tr><td>&quot;chr1&quot;</td><td>777600</td><td>778100</td><td>0.682882</td><td>500</td><td>null</td></tr><tr><td>&quot;chr1&quot;</td><td>777650</td><td>778150</td><td>0.572947</td><td>500</td><td>null</td></tr><tr><td>&quot;chr1&quot;</td><td>777700</td><td>778200</td><td>0.502444</td><td>500</td><td>null</td></tr><tr><td>&hellip;</td><td>&hellip;</td><td>&hellip;</td><td>&hellip;</td><td>&hellip;</td><td>&hellip;</td></tr><tr><td>&quot;chr9&quot;</td><td>138171800</td><td>138172300</td><td>0.309646</td><td>null</td><td>null</td></tr><tr><td>&quot;chr9&quot;</td><td>138171850</td><td>138172350</td><td>0.508776</td><td>null</td><td>null</td></tr><tr><td>&quot;chr9&quot;</td><td>138171900</td><td>138172400</td><td>0.672528</td><td>null</td><td>null</td></tr><tr><td>&quot;chr9&quot;</td><td>138171950</td><td>138172450</td><td>0.47483</td><td>null</td><td>null</td></tr><tr><td>&quot;chr9&quot;</td><td>138172000</td><td>138172500</td><td>0.403504</td><td>null</td><td>null</td></tr></tbody></table></div>"
      ],
      "text/plain": [
       "shape: (49_104_026, 6)\n",
       "┌────────────┬───────────┬───────────┬────────────────┬──────────────────┬─────────────────────┐\n",
       "│ chromosome ┆ start     ┆ end       ┆ depletion_rank ┆ enhancer_overlap ┆ merged_exon_overlap │\n",
       "│ ---        ┆ ---       ┆ ---       ┆ ---            ┆ ---              ┆ ---                 │\n",
       "│ str        ┆ i64       ┆ i64       ┆ f64            ┆ i64              ┆ i64                 │\n",
       "╞════════════╪═══════════╪═══════════╪════════════════╪══════════════════╪═════════════════════╡\n",
       "│ chr1       ┆ 777500    ┆ 778000    ┆ 0.59824        ┆ 500              ┆ null                │\n",
       "│ chr1       ┆ 777550    ┆ 778050    ┆ 0.649543       ┆ 500              ┆ null                │\n",
       "│ chr1       ┆ 777600    ┆ 778100    ┆ 0.682882       ┆ 500              ┆ null                │\n",
       "│ chr1       ┆ 777650    ┆ 778150    ┆ 0.572947       ┆ 500              ┆ null                │\n",
       "│ chr1       ┆ 777700    ┆ 778200    ┆ 0.502444       ┆ 500              ┆ null                │\n",
       "│ …          ┆ …         ┆ …         ┆ …              ┆ …                ┆ …                   │\n",
       "│ chr9       ┆ 138171800 ┆ 138172300 ┆ 0.309646       ┆ null             ┆ null                │\n",
       "│ chr9       ┆ 138171850 ┆ 138172350 ┆ 0.508776       ┆ null             ┆ null                │\n",
       "│ chr9       ┆ 138171900 ┆ 138172400 ┆ 0.672528       ┆ null             ┆ null                │\n",
       "│ chr9       ┆ 138171950 ┆ 138172450 ┆ 0.47483        ┆ null             ┆ null                │\n",
       "│ chr9       ┆ 138172000 ┆ 138172500 ┆ 0.403504       ┆ null             ┆ null                │\n",
       "└────────────┴───────────┴───────────┴────────────────┴──────────────────┴─────────────────────┘"
      ]
     },
     "execution_count": 6,
     "metadata": {},
     "output_type": "execute_result"
    }
   ],
   "source": [
    "# pivoting is possible in SQL too, but it is clunky: https://www.databricks.com/blog/2018/11/01/sql-pivot-converting-rows-to-columns.html\n",
    "halldorsson_windows_with_features_pivoted = (\n",
    "    halldorsson_windows_with_features_grouped\n",
    "    .pivot(\n",
    "        index = pivot_index, \n",
    "        columns = \"feature\", \n",
    "        values = \"window_feature_overlap_bps\"\n",
    "    )\n",
    "    .drop('.')\n",
    "    .rename({\n",
    "        'enhancer': 'enhancer_overlap',\n",
    "        'merged_exon': 'merged_exon_overlap',\n",
    "    })\n",
    ")\n",
    "halldorsson_windows_with_features_pivoted"
   ]
  },
  {
   "cell_type": "code",
   "execution_count": 7,
   "id": "12784fad",
   "metadata": {
    "scrolled": true
   },
   "outputs": [
    {
     "data": {
      "image/png": "[encoded data removed]",
      "text/plain": [
       "<Figure size 432x288 with 1 Axes>"
      ]
     },
     "metadata": {
      "needs_background": "light"
     },
     "output_type": "display_data"
    }
   ],
   "source": [
    "import matplotlib.pyplot as plt\n",
    "\n",
    "def plot_distribution_of_overlap_amounts(feature): \n",
    "    data = halldorsson_windows_with_features_pivoted[f'{feature}_overlap']\n",
    "    plt.hist(data, bins=200, log=True)\n",
    "    plt.xlabel(f'window-{feature} overlap (bps)')\n",
    "    plt.ylabel('number of windows')\n",
    "    plt.show()\n",
    "    \n",
    "# Notice that there are peaks in the distribution at multiples of 50bp (which is the window step size)\n",
    "# These correspond to starts and ends of certain enhancers, \n",
    "# presumably those called from a low-resolution tiling approach.\n",
    "# The other category of enhancer has greater spatial resolution, \n",
    "# resulting in a uniform distribution of bp coverage, \n",
    "# as you might expect from features that are comparable in size to the windows \n",
    "plot_distribution_of_overlap_amounts(feature='enhancer')"
   ]
  },
  {
   "cell_type": "code",
   "execution_count": 8,
   "id": "0e92b203",
   "metadata": {},
   "outputs": [
    {
     "data": {
      "image/png": "[encoded data removed]",
      "text/plain": [
       "<Figure size 432x288 with 1 Axes>"
      ]
     },
     "metadata": {
      "needs_background": "light"
     },
     "output_type": "display_data"
    }
   ],
   "source": [
    "# Notice that the distribution is not uniform. \n",
    "# This is because exons are typically smaller than windows, \n",
    "# so that the overlap amounts reflect the exon sizes, \n",
    "# which are typically ~ 100bp \n",
    "plot_distribution_of_overlap_amounts(feature='merged_exon')"
   ]
  },
  {
   "cell_type": "markdown",
   "id": "3a2c9a4f",
   "metadata": {},
   "source": [
    "## Classify windows according to whether they appreciably overlap enhancers or exons "
   ]
  },
  {
   "cell_type": "code",
   "execution_count": 9,
   "id": "0726fc96",
   "metadata": {},
   "outputs": [
    {
     "data": {
      "text/html": [
       "<div><style>\n",
       ".dataframe > thead > tr,\n",
       ".dataframe > tbody > tr {\n",
       "  text-align: right;\n",
       "  white-space: pre-wrap;\n",
       "}\n",
       "</style>\n",
       "<small>shape: (49_104_026, 8)</small><table border=\"1\" class=\"dataframe\"><thead><tr><th>chromosome</th><th>start</th><th>end</th><th>depletion_rank</th><th>enhancer_overlap</th><th>merged_exon_overlap</th><th>window overlaps enhancer</th><th>window overlaps merged_exon</th></tr><tr><td>str</td><td>i64</td><td>i64</td><td>f64</td><td>i64</td><td>i64</td><td>str</td><td>str</td></tr></thead><tbody><tr><td>&quot;chr1&quot;</td><td>777500</td><td>778000</td><td>0.59824</td><td>500</td><td>null</td><td>&quot;yes&quot;</td><td>&quot;no&quot;</td></tr><tr><td>&quot;chr1&quot;</td><td>777550</td><td>778050</td><td>0.649543</td><td>500</td><td>null</td><td>&quot;yes&quot;</td><td>&quot;no&quot;</td></tr><tr><td>&quot;chr1&quot;</td><td>777600</td><td>778100</td><td>0.682882</td><td>500</td><td>null</td><td>&quot;yes&quot;</td><td>&quot;no&quot;</td></tr><tr><td>&quot;chr1&quot;</td><td>777650</td><td>778150</td><td>0.572947</td><td>500</td><td>null</td><td>&quot;yes&quot;</td><td>&quot;no&quot;</td></tr><tr><td>&quot;chr1&quot;</td><td>777700</td><td>778200</td><td>0.502444</td><td>500</td><td>null</td><td>&quot;yes&quot;</td><td>&quot;no&quot;</td></tr><tr><td>&hellip;</td><td>&hellip;</td><td>&hellip;</td><td>&hellip;</td><td>&hellip;</td><td>&hellip;</td><td>&hellip;</td><td>&hellip;</td></tr><tr><td>&quot;chr9&quot;</td><td>138171800</td><td>138172300</td><td>0.309646</td><td>null</td><td>null</td><td>&quot;no&quot;</td><td>&quot;no&quot;</td></tr><tr><td>&quot;chr9&quot;</td><td>138171850</td><td>138172350</td><td>0.508776</td><td>null</td><td>null</td><td>&quot;no&quot;</td><td>&quot;no&quot;</td></tr><tr><td>&quot;chr9&quot;</td><td>138171900</td><td>138172400</td><td>0.672528</td><td>null</td><td>null</td><td>&quot;no&quot;</td><td>&quot;no&quot;</td></tr><tr><td>&quot;chr9&quot;</td><td>138171950</td><td>138172450</td><td>0.47483</td><td>null</td><td>null</td><td>&quot;no&quot;</td><td>&quot;no&quot;</td></tr><tr><td>&quot;chr9&quot;</td><td>138172000</td><td>138172500</td><td>0.403504</td><td>null</td><td>null</td><td>&quot;no&quot;</td><td>&quot;no&quot;</td></tr></tbody></table></div>"
      ],
      "text/plain": [
       "shape: (49_104_026, 8)\n",
       "┌────────────┬───────────┬───────────┬────────────┬────────────┬───────────┬───────────┬───────────┐\n",
       "│ chromosome ┆ start     ┆ end       ┆ depletion_ ┆ enhancer_o ┆ merged_ex ┆ window    ┆ window    │\n",
       "│ ---        ┆ ---       ┆ ---       ┆ rank       ┆ verlap     ┆ on_overla ┆ overlaps  ┆ overlaps  │\n",
       "│ str        ┆ i64       ┆ i64       ┆ ---        ┆ ---        ┆ p         ┆ enhancer  ┆ merged_ex │\n",
       "│            ┆           ┆           ┆ f64        ┆ i64        ┆ ---       ┆ ---       ┆ on        │\n",
       "│            ┆           ┆           ┆            ┆            ┆ i64       ┆ str       ┆ ---       │\n",
       "│            ┆           ┆           ┆            ┆            ┆           ┆           ┆ str       │\n",
       "╞════════════╪═══════════╪═══════════╪════════════╪════════════╪═══════════╪═══════════╪═══════════╡\n",
       "│ chr1       ┆ 777500    ┆ 778000    ┆ 0.59824    ┆ 500        ┆ null      ┆ yes       ┆ no        │\n",
       "│ chr1       ┆ 777550    ┆ 778050    ┆ 0.649543   ┆ 500        ┆ null      ┆ yes       ┆ no        │\n",
       "│ chr1       ┆ 777600    ┆ 778100    ┆ 0.682882   ┆ 500        ┆ null      ┆ yes       ┆ no        │\n",
       "│ chr1       ┆ 777650    ┆ 778150    ┆ 0.572947   ┆ 500        ┆ null      ┆ yes       ┆ no        │\n",
       "│ chr1       ┆ 777700    ┆ 778200    ┆ 0.502444   ┆ 500        ┆ null      ┆ yes       ┆ no        │\n",
       "│ …          ┆ …         ┆ …         ┆ …          ┆ …          ┆ …         ┆ …         ┆ …         │\n",
       "│ chr9       ┆ 138171800 ┆ 138172300 ┆ 0.309646   ┆ null       ┆ null      ┆ no        ┆ no        │\n",
       "│ chr9       ┆ 138171850 ┆ 138172350 ┆ 0.508776   ┆ null       ┆ null      ┆ no        ┆ no        │\n",
       "│ chr9       ┆ 138171900 ┆ 138172400 ┆ 0.672528   ┆ null       ┆ null      ┆ no        ┆ no        │\n",
       "│ chr9       ┆ 138171950 ┆ 138172450 ┆ 0.47483    ┆ null       ┆ null      ┆ no        ┆ no        │\n",
       "│ chr9       ┆ 138172000 ┆ 138172500 ┆ 0.403504   ┆ null       ┆ null      ┆ no        ┆ no        │\n",
       "└────────────┴───────────┴───────────┴────────────┴────────────┴───────────┴───────────┴───────────┘"
      ]
     },
     "execution_count": 9,
     "metadata": {},
     "output_type": "execute_result"
    }
   ],
   "source": [
    "def classify(df): \n",
    "    for feature, min_overlap in [\n",
    "        ('enhancer', 250),\n",
    "        ('merged_exon', 5),\n",
    "    ]:\n",
    "        df = df.with_columns(\n",
    "            pl\n",
    "            .when(pl.col(f'{feature}_overlap') >= min_overlap)\n",
    "            .then(pl.lit(\"yes\"))\n",
    "            .when(pl.col(f'{feature}_overlap') < min_overlap)\n",
    "            .then(pl.lit(\"ambiguous\"))\n",
    "            .otherwise(pl.lit(\"no\"))\n",
    "            .alias(f'window overlaps {feature}')\n",
    "        )\n",
    "    return df\n",
    "    \n",
    "halldorsson_windows_with_features_classified = classify(halldorsson_windows_with_features_pivoted)\n",
    "halldorsson_windows_with_features_classified"
   ]
  },
  {
   "cell_type": "code",
   "execution_count": 10,
   "id": "733a117b",
   "metadata": {},
   "outputs": [
    {
     "data": {
      "text/html": [
       "<div><style>\n",
       ".dataframe > thead > tr,\n",
       ".dataframe > tbody > tr {\n",
       "  text-align: right;\n",
       "  white-space: pre-wrap;\n",
       "}\n",
       "</style>\n",
       "<small>shape: (3, 2)</small><table border=\"1\" class=\"dataframe\"><thead><tr><th>window overlaps enhancer</th><th>count</th></tr><tr><td>str</td><td>u32</td></tr></thead><tbody><tr><td>&quot;yes&quot;</td><td>10601308</td></tr><tr><td>&quot;no&quot;</td><td>35376751</td></tr><tr><td>&quot;ambiguous&quot;</td><td>3125967</td></tr></tbody></table></div>"
      ],
      "text/plain": [
       "shape: (3, 2)\n",
       "┌──────────────────────────┬──────────┐\n",
       "│ window overlaps enhancer ┆ count    │\n",
       "│ ---                      ┆ ---      │\n",
       "│ str                      ┆ u32      │\n",
       "╞══════════════════════════╪══════════╡\n",
       "│ yes                      ┆ 10601308 │\n",
       "│ no                       ┆ 35376751 │\n",
       "│ ambiguous                ┆ 3125967  │\n",
       "└──────────────────────────┴──────────┘"
      ]
     },
     "execution_count": 10,
     "metadata": {},
     "output_type": "execute_result"
    }
   ],
   "source": [
    "halldorsson_windows_with_features_classified['window overlaps enhancer'].value_counts()"
   ]
  },
  {
   "cell_type": "code",
   "execution_count": 11,
   "id": "1b381881",
   "metadata": {},
   "outputs": [
    {
     "data": {
      "text/html": [
       "<div><style>\n",
       ".dataframe > thead > tr,\n",
       ".dataframe > tbody > tr {\n",
       "  text-align: right;\n",
       "  white-space: pre-wrap;\n",
       "}\n",
       "</style>\n",
       "<small>shape: (3, 2)</small><table border=\"1\" class=\"dataframe\"><thead><tr><th>window overlaps merged_exon</th><th>count</th></tr><tr><td>str</td><td>u32</td></tr></thead><tbody><tr><td>&quot;no&quot;</td><td>43927134</td></tr><tr><td>&quot;ambiguous&quot;</td><td>34964</td></tr><tr><td>&quot;yes&quot;</td><td>5141928</td></tr></tbody></table></div>"
      ],
      "text/plain": [
       "shape: (3, 2)\n",
       "┌─────────────────────────────┬──────────┐\n",
       "│ window overlaps merged_exon ┆ count    │\n",
       "│ ---                         ┆ ---      │\n",
       "│ str                         ┆ u32      │\n",
       "╞═════════════════════════════╪══════════╡\n",
       "│ no                          ┆ 43927134 │\n",
       "│ ambiguous                   ┆ 34964    │\n",
       "│ yes                         ┆ 5141928  │\n",
       "└─────────────────────────────┴──────────┘"
      ]
     },
     "execution_count": 11,
     "metadata": {},
     "output_type": "execute_result"
    }
   ],
   "source": [
    "halldorsson_windows_with_features_classified['window overlaps merged_exon'].value_counts()"
   ]
  },
  {
   "cell_type": "code",
   "execution_count": 12,
   "id": "a01754be",
   "metadata": {},
   "outputs": [
    {
     "data": {
      "text/html": [
       "<div><style>\n",
       ".dataframe > thead > tr,\n",
       ".dataframe > tbody > tr {\n",
       "  text-align: right;\n",
       "  white-space: pre-wrap;\n",
       "}\n",
       "</style>\n",
       "<small>shape: (45_945_734, 8)</small><table border=\"1\" class=\"dataframe\"><thead><tr><th>chromosome</th><th>start</th><th>end</th><th>depletion_rank</th><th>enhancer_overlap</th><th>merged_exon_overlap</th><th>window overlaps enhancer</th><th>window overlaps merged_exon</th></tr><tr><td>str</td><td>i64</td><td>i64</td><td>f64</td><td>i64</td><td>i64</td><td>bool</td><td>bool</td></tr></thead><tbody><tr><td>&quot;chr1&quot;</td><td>777500</td><td>778000</td><td>0.59824</td><td>500</td><td>null</td><td>true</td><td>false</td></tr><tr><td>&quot;chr1&quot;</td><td>777550</td><td>778050</td><td>0.649543</td><td>500</td><td>null</td><td>true</td><td>false</td></tr><tr><td>&quot;chr1&quot;</td><td>777600</td><td>778100</td><td>0.682882</td><td>500</td><td>null</td><td>true</td><td>false</td></tr><tr><td>&quot;chr1&quot;</td><td>777650</td><td>778150</td><td>0.572947</td><td>500</td><td>null</td><td>true</td><td>false</td></tr><tr><td>&quot;chr1&quot;</td><td>777700</td><td>778200</td><td>0.502444</td><td>500</td><td>null</td><td>true</td><td>false</td></tr><tr><td>&hellip;</td><td>&hellip;</td><td>&hellip;</td><td>&hellip;</td><td>&hellip;</td><td>&hellip;</td><td>&hellip;</td><td>&hellip;</td></tr><tr><td>&quot;chr9&quot;</td><td>138171800</td><td>138172300</td><td>0.309646</td><td>null</td><td>null</td><td>false</td><td>false</td></tr><tr><td>&quot;chr9&quot;</td><td>138171850</td><td>138172350</td><td>0.508776</td><td>null</td><td>null</td><td>false</td><td>false</td></tr><tr><td>&quot;chr9&quot;</td><td>138171900</td><td>138172400</td><td>0.672528</td><td>null</td><td>null</td><td>false</td><td>false</td></tr><tr><td>&quot;chr9&quot;</td><td>138171950</td><td>138172450</td><td>0.47483</td><td>null</td><td>null</td><td>false</td><td>false</td></tr><tr><td>&quot;chr9&quot;</td><td>138172000</td><td>138172500</td><td>0.403504</td><td>null</td><td>null</td><td>false</td><td>false</td></tr></tbody></table></div>"
      ],
      "text/plain": [
       "shape: (45_945_734, 8)\n",
       "┌────────────┬───────────┬───────────┬────────────┬────────────┬───────────┬───────────┬───────────┐\n",
       "│ chromosome ┆ start     ┆ end       ┆ depletion_ ┆ enhancer_o ┆ merged_ex ┆ window    ┆ window    │\n",
       "│ ---        ┆ ---       ┆ ---       ┆ rank       ┆ verlap     ┆ on_overla ┆ overlaps  ┆ overlaps  │\n",
       "│ str        ┆ i64       ┆ i64       ┆ ---        ┆ ---        ┆ p         ┆ enhancer  ┆ merged_ex │\n",
       "│            ┆           ┆           ┆ f64        ┆ i64        ┆ ---       ┆ ---       ┆ on        │\n",
       "│            ┆           ┆           ┆            ┆            ┆ i64       ┆ bool      ┆ ---       │\n",
       "│            ┆           ┆           ┆            ┆            ┆           ┆           ┆ bool      │\n",
       "╞════════════╪═══════════╪═══════════╪════════════╪════════════╪═══════════╪═══════════╪═══════════╡\n",
       "│ chr1       ┆ 777500    ┆ 778000    ┆ 0.59824    ┆ 500        ┆ null      ┆ true      ┆ false     │\n",
       "│ chr1       ┆ 777550    ┆ 778050    ┆ 0.649543   ┆ 500        ┆ null      ┆ true      ┆ false     │\n",
       "│ chr1       ┆ 777600    ┆ 778100    ┆ 0.682882   ┆ 500        ┆ null      ┆ true      ┆ false     │\n",
       "│ chr1       ┆ 777650    ┆ 778150    ┆ 0.572947   ┆ 500        ┆ null      ┆ true      ┆ false     │\n",
       "│ chr1       ┆ 777700    ┆ 778200    ┆ 0.502444   ┆ 500        ┆ null      ┆ true      ┆ false     │\n",
       "│ …          ┆ …         ┆ …         ┆ …          ┆ …          ┆ …         ┆ …         ┆ …         │\n",
       "│ chr9       ┆ 138171800 ┆ 138172300 ┆ 0.309646   ┆ null       ┆ null      ┆ false     ┆ false     │\n",
       "│ chr9       ┆ 138171850 ┆ 138172350 ┆ 0.508776   ┆ null       ┆ null      ┆ false     ┆ false     │\n",
       "│ chr9       ┆ 138171900 ┆ 138172400 ┆ 0.672528   ┆ null       ┆ null      ┆ false     ┆ false     │\n",
       "│ chr9       ┆ 138171950 ┆ 138172450 ┆ 0.47483    ┆ null       ┆ null      ┆ false     ┆ false     │\n",
       "│ chr9       ┆ 138172000 ┆ 138172500 ┆ 0.403504   ┆ null       ┆ null      ┆ false     ┆ false     │\n",
       "└────────────┴───────────┴───────────┴────────────┴────────────┴───────────┴───────────┴───────────┘"
      ]
     },
     "execution_count": 12,
     "metadata": {},
     "output_type": "execute_result"
    }
   ],
   "source": [
    "def throw_out_ambiguous(df):\n",
    "    df = df.filter(\n",
    "        (pl.col('window overlaps enhancer') != 'ambiguous') & \n",
    "        (pl.col('window overlaps merged_exon') != 'ambiguous')\n",
    "    )\n",
    "    for feature in ['enhancer', 'merged_exon']:\n",
    "        df = df.with_columns(pl\n",
    "            .when(pl.col(f'window overlaps {feature}') == 'yes')\n",
    "            .then(pl.lit(True))\n",
    "            .otherwise(pl.lit(False))\n",
    "            .alias(f'window overlaps {feature}')\n",
    "        )\n",
    "    return df\n",
    "\n",
    "halldorsson_windows_with_features_classified_unambiguous = throw_out_ambiguous(halldorsson_windows_with_features_classified)\n",
    "halldorsson_windows_with_features_classified_unambiguous"
   ]
  },
  {
   "cell_type": "markdown",
   "id": "5a0b4c90",
   "metadata": {},
   "source": [
    "## Restrict to noncoding windows and save to disk "
   ]
  },
  {
   "cell_type": "code",
   "execution_count": 13,
   "id": "dbd69db6",
   "metadata": {},
   "outputs": [],
   "source": [
    "(\n",
    "    halldorsson_windows_with_features_classified_unambiguous\n",
    "    .filter(pl.col('window overlaps merged_exon') == False)\n",
    "    .drop('merged_exon_overlap')\n",
    "    .drop('window overlaps merged_exon')\n",
    "    .write_csv(\n",
    "        f'{CONSTRAINT_TOOLS_DATA}/depletion_rank_scores/41586_2022_4965_MOESM3_ESM.noncoding.enhancer.bed',\n",
    "        separator='\\t'\n",
    "    )\n",
    ")"
   ]
  }
 ],
 "metadata": {
  "kernelspec": {
   "display_name": "Python 3",
   "language": "python",
   "name": "python3"
  },
  "language_info": {
   "codemirror_mode": {
    "name": "ipython",
    "version": 3
   },
   "file_extension": ".py",
   "mimetype": "text/x-python",
   "name": "python",
   "nbconvert_exporter": "python",
   "pygments_lexer": "ipython3",
   "version": "3.9.0"
  }
 },
 "nbformat": 4,
 "nbformat_minor": 5
}
