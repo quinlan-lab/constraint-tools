{
 "cells": [
  {
   "cell_type": "code",
   "execution_count": null,
   "metadata": {},
   "outputs": [],
   "source": [
    "# TODO \n",
    "# Use simulation 3.2 to do a power analysis, showing that power (and SNR) is low when auPRC is low"
   ]
  },
  {
   "cell_type": "code",
   "execution_count": null,
   "metadata": {},
   "outputs": [],
   "source": [
    "# TODO \n",
    "# 1. stratify not by x (see simulation 4), but by TRUE_RATE(x)\n",
    "# 2. then infer the dependence of depletion on x from the divergence of the PR curves \n",
    "\n",
    "# TODO (related) \n",
    "# siepel has already inferred depletion (lambda_s), so learn a mapping from sequence to lambda_s"
   ]
  }
 ],
 "metadata": {
  "language_info": {
   "name": "python"
  }
 },
 "nbformat": 4,
 "nbformat_minor": 2
}
