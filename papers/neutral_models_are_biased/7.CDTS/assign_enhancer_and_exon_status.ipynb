{
 "cells": [
  {
   "cell_type": "code",
   "execution_count": 1,
   "id": "45dbf2ec",
   "metadata": {},
   "outputs": [],
   "source": [
    "CONSTRAINT_TOOLS_DATA = '/scratch/ucgd/lustre-labs/quinlan/data-shared/constraint-tools'"
   ]
  },
  {
   "cell_type": "code",
   "execution_count": 2,
   "id": "a38d381f",
   "metadata": {},
   "outputs": [
    {
     "data": {
      "text/html": [
       "<div><style>\n",
       ".dataframe > thead > tr,\n",
       ".dataframe > tbody > tr {\n",
       "  text-align: right;\n",
       "  white-space: pre-wrap;\n",
       "}\n",
       "</style>\n",
       "<small>shape: (264_770_927, 9)</small><table border=\"1\" class=\"dataframe\"><thead><tr><th>chromosome</th><th>start</th><th>end</th><th>observed_counts</th><th>expected_counts</th><th>observed_minus_expected</th><th>percentile_rank_of_observed_minus_expected</th><th>feature</th><th>window_feature_overlap_bps</th></tr><tr><td>str</td><td>i64</td><td>i64</td><td>i64</td><td>f64</td><td>f64</td><td>f64</td><td>str</td><td>i64</td></tr></thead><tbody><tr><td>&quot;chr1&quot;</td><td>47939</td><td>48490</td><td>2</td><td>10.319328</td><td>-8.31933</td><td>1.452103</td><td>&quot;.&quot;</td><td>0</td></tr><tr><td>&quot;chr1&quot;</td><td>47949</td><td>48500</td><td>2</td><td>10.348492</td><td>-8.34849</td><td>1.432368</td><td>&quot;.&quot;</td><td>0</td></tr><tr><td>&quot;chr1&quot;</td><td>47959</td><td>48510</td><td>2</td><td>10.348492</td><td>-8.34849</td><td>1.432368</td><td>&quot;.&quot;</td><td>0</td></tr><tr><td>&quot;chr1&quot;</td><td>47999</td><td>48550</td><td>2</td><td>10.325869</td><td>-8.32587</td><td>1.447569</td><td>&quot;.&quot;</td><td>0</td></tr><tr><td>&quot;chr1&quot;</td><td>58209</td><td>58760</td><td>7</td><td>8.179362</td><td>-1.17936</td><td>40.981373</td><td>&quot;merged_exon&quot;</td><td>60</td></tr><tr><td>&hellip;</td><td>&hellip;</td><td>&hellip;</td><td>&hellip;</td><td>&hellip;</td><td>&hellip;</td><td>&hellip;</td><td>&hellip;</td><td>&hellip;</td></tr><tr><td>&quot;chr17&quot;</td><td>58762584</td><td>58763135</td><td>16</td><td>16.767538</td><td>-0.767538</td><td>45.423107</td><td>&quot;.&quot;</td><td>0</td></tr><tr><td>&quot;chr17&quot;</td><td>58762594</td><td>58763145</td><td>16</td><td>16.734729</td><td>-0.734729</td><td>45.776368</td><td>&quot;.&quot;</td><td>0</td></tr><tr><td>&quot;chr17&quot;</td><td>58762604</td><td>58763155</td><td>16</td><td>16.730413</td><td>-0.730413</td><td>45.82294</td><td>&quot;.&quot;</td><td>0</td></tr><tr><td>&quot;chr17&quot;</td><td>58762614</td><td>58763165</td><td>16</td><td>16.701082</td><td>-0.701082</td><td>46.137652</td><td>&quot;.&quot;</td><td>0</td></tr><tr><td>&quot;chr17&quot;</td><td>58762624</td><td>58763175</td><td>16</td><td>16.738258</td><td>-0.738258</td><td>45.738397</td><td>&quot;.&quot;</td><td>0</td></tr></tbody></table></div>"
      ],
      "text/plain": [
       "shape: (264_770_927, 9)\n",
       "┌────────────┬──────────┬──────────┬───────────┬───┬───────────┬───────────┬───────────┬───────────┐\n",
       "│ chromosome ┆ start    ┆ end      ┆ observed_ ┆ … ┆ observed_ ┆ percentil ┆ feature   ┆ window_fe │\n",
       "│ ---        ┆ ---      ┆ ---      ┆ counts    ┆   ┆ minus_exp ┆ e_rank_of ┆ ---       ┆ ature_ove │\n",
       "│ str        ┆ i64      ┆ i64      ┆ ---       ┆   ┆ ected     ┆ _observed ┆ str       ┆ rlap_bps  │\n",
       "│            ┆          ┆          ┆ i64       ┆   ┆ ---       ┆ _mi…      ┆           ┆ ---       │\n",
       "│            ┆          ┆          ┆           ┆   ┆ f64       ┆ ---       ┆           ┆ i64       │\n",
       "│            ┆          ┆          ┆           ┆   ┆           ┆ f64       ┆           ┆           │\n",
       "╞════════════╪══════════╪══════════╪═══════════╪═══╪═══════════╪═══════════╪═══════════╪═══════════╡\n",
       "│ chr1       ┆ 47939    ┆ 48490    ┆ 2         ┆ … ┆ -8.31933  ┆ 1.452103  ┆ .         ┆ 0         │\n",
       "│ chr1       ┆ 47949    ┆ 48500    ┆ 2         ┆ … ┆ -8.34849  ┆ 1.432368  ┆ .         ┆ 0         │\n",
       "│ chr1       ┆ 47959    ┆ 48510    ┆ 2         ┆ … ┆ -8.34849  ┆ 1.432368  ┆ .         ┆ 0         │\n",
       "│ chr1       ┆ 47999    ┆ 48550    ┆ 2         ┆ … ┆ -8.32587  ┆ 1.447569  ┆ .         ┆ 0         │\n",
       "│ chr1       ┆ 58209    ┆ 58760    ┆ 7         ┆ … ┆ -1.17936  ┆ 40.981373 ┆ merged_ex ┆ 60        │\n",
       "│            ┆          ┆          ┆           ┆   ┆           ┆           ┆ on        ┆           │\n",
       "│ …          ┆ …        ┆ …        ┆ …         ┆ … ┆ …         ┆ …         ┆ …         ┆ …         │\n",
       "│ chr17      ┆ 58762584 ┆ 58763135 ┆ 16        ┆ … ┆ -0.767538 ┆ 45.423107 ┆ .         ┆ 0         │\n",
       "│ chr17      ┆ 58762594 ┆ 58763145 ┆ 16        ┆ … ┆ -0.734729 ┆ 45.776368 ┆ .         ┆ 0         │\n",
       "│ chr17      ┆ 58762604 ┆ 58763155 ┆ 16        ┆ … ┆ -0.730413 ┆ 45.82294  ┆ .         ┆ 0         │\n",
       "│ chr17      ┆ 58762614 ┆ 58763165 ┆ 16        ┆ … ┆ -0.701082 ┆ 46.137652 ┆ .         ┆ 0         │\n",
       "│ chr17      ┆ 58762624 ┆ 58763175 ┆ 16        ┆ … ┆ -0.738258 ┆ 45.738397 ┆ .         ┆ 0         │\n",
       "└────────────┴──────────┴──────────┴───────────┴───┴───────────┴───────────┴───────────┴───────────┘"
      ]
     },
     "execution_count": 2,
     "metadata": {},
     "output_type": "execute_result"
    }
   ],
   "source": [
    "import polars as pl\n",
    "\n",
    "def get_CDTS_windows_with_features():\n",
    "    filename = f'{CONSTRAINT_TOOLS_DATA}/CDTS/CDTS.gnomAD.hg38.overlapAmounts.bed'\n",
    "    return (pl\n",
    "        .read_csv(filename, separator='\\t')\n",
    "        .select(pl.col('chrom', 'start', 'end', 'observed_counts', 'expected_counts', 'observed_minus_expected', 'percentile_rank_of_observed_minus_expected', 'feature', 'window_feature_overlap_bps'))\n",
    "        .rename({\n",
    "            'chrom': 'chromosome',\n",
    "        })\n",
    "        # .sample(1000000) # for testing\n",
    "    )\n",
    "\n",
    "CDTS_windows = get_CDTS_windows_with_features()\n",
    "CDTS_windows"
   ]
  },
  {
   "cell_type": "markdown",
   "id": "aa3533e8",
   "metadata": {},
   "source": [
    "## Create single record for each window, with overlap amounts for each feature type "
   ]
  },
  {
   "cell_type": "code",
   "execution_count": 3,
   "id": "918f4e40",
   "metadata": {},
   "outputs": [
    {
     "data": {
      "text/plain": [
       "['chromosome',\n",
       " 'start',\n",
       " 'end',\n",
       " 'observed_counts',\n",
       " 'expected_counts',\n",
       " 'observed_minus_expected',\n",
       " 'percentile_rank_of_observed_minus_expected',\n",
       " 'feature']"
      ]
     },
     "execution_count": 3,
     "metadata": {},
     "output_type": "execute_result"
    }
   ],
   "source": [
    "columns_to_group_by = [column for column in CDTS_windows.columns if column != 'window_feature_overlap_bps']\n",
    "columns_to_group_by"
   ]
  },
  {
   "cell_type": "code",
   "execution_count": 4,
   "id": "15957981",
   "metadata": {},
   "outputs": [
    {
     "data": {
      "text/html": [
       "<div><style>\n",
       ".dataframe > thead > tr,\n",
       ".dataframe > tbody > tr {\n",
       "  text-align: right;\n",
       "  white-space: pre-wrap;\n",
       "}\n",
       "</style>\n",
       "<small>shape: (260_254_616, 9)</small><table border=\"1\" class=\"dataframe\"><thead><tr><th>chromosome</th><th>start</th><th>end</th><th>observed_counts</th><th>expected_counts</th><th>observed_minus_expected</th><th>percentile_rank_of_observed_minus_expected</th><th>feature</th><th>window_feature_overlap_bps</th></tr><tr><td>str</td><td>i64</td><td>i64</td><td>i64</td><td>f64</td><td>f64</td><td>f64</td><td>str</td><td>i64</td></tr></thead><tbody><tr><td>&quot;chr1&quot;</td><td>47939</td><td>48490</td><td>2</td><td>10.319328</td><td>-8.31933</td><td>1.452103</td><td>&quot;.&quot;</td><td>0</td></tr><tr><td>&quot;chr1&quot;</td><td>47949</td><td>48500</td><td>2</td><td>10.348492</td><td>-8.34849</td><td>1.432368</td><td>&quot;.&quot;</td><td>0</td></tr><tr><td>&quot;chr1&quot;</td><td>47959</td><td>48510</td><td>2</td><td>10.348492</td><td>-8.34849</td><td>1.432368</td><td>&quot;.&quot;</td><td>0</td></tr><tr><td>&quot;chr1&quot;</td><td>47999</td><td>48550</td><td>2</td><td>10.325869</td><td>-8.32587</td><td>1.447569</td><td>&quot;.&quot;</td><td>0</td></tr><tr><td>&quot;chr1&quot;</td><td>58209</td><td>58760</td><td>7</td><td>8.179362</td><td>-1.17936</td><td>40.981373</td><td>&quot;merged_exon&quot;</td><td>60</td></tr><tr><td>&hellip;</td><td>&hellip;</td><td>&hellip;</td><td>&hellip;</td><td>&hellip;</td><td>&hellip;</td><td>&hellip;</td><td>&hellip;</td><td>&hellip;</td></tr><tr><td>&quot;chr17&quot;</td><td>58762584</td><td>58763135</td><td>16</td><td>16.767538</td><td>-0.767538</td><td>45.423107</td><td>&quot;.&quot;</td><td>0</td></tr><tr><td>&quot;chr17&quot;</td><td>58762594</td><td>58763145</td><td>16</td><td>16.734729</td><td>-0.734729</td><td>45.776368</td><td>&quot;.&quot;</td><td>0</td></tr><tr><td>&quot;chr17&quot;</td><td>58762604</td><td>58763155</td><td>16</td><td>16.730413</td><td>-0.730413</td><td>45.82294</td><td>&quot;.&quot;</td><td>0</td></tr><tr><td>&quot;chr17&quot;</td><td>58762614</td><td>58763165</td><td>16</td><td>16.701082</td><td>-0.701082</td><td>46.137652</td><td>&quot;.&quot;</td><td>0</td></tr><tr><td>&quot;chr17&quot;</td><td>58762624</td><td>58763175</td><td>16</td><td>16.738258</td><td>-0.738258</td><td>45.738397</td><td>&quot;.&quot;</td><td>0</td></tr></tbody></table></div>"
      ],
      "text/plain": [
       "shape: (260_254_616, 9)\n",
       "┌────────────┬──────────┬──────────┬───────────┬───┬───────────┬───────────┬───────────┬───────────┐\n",
       "│ chromosome ┆ start    ┆ end      ┆ observed_ ┆ … ┆ observed_ ┆ percentil ┆ feature   ┆ window_fe │\n",
       "│ ---        ┆ ---      ┆ ---      ┆ counts    ┆   ┆ minus_exp ┆ e_rank_of ┆ ---       ┆ ature_ove │\n",
       "│ str        ┆ i64      ┆ i64      ┆ ---       ┆   ┆ ected     ┆ _observed ┆ str       ┆ rlap_bps  │\n",
       "│            ┆          ┆          ┆ i64       ┆   ┆ ---       ┆ _mi…      ┆           ┆ ---       │\n",
       "│            ┆          ┆          ┆           ┆   ┆ f64       ┆ ---       ┆           ┆ i64       │\n",
       "│            ┆          ┆          ┆           ┆   ┆           ┆ f64       ┆           ┆           │\n",
       "╞════════════╪══════════╪══════════╪═══════════╪═══╪═══════════╪═══════════╪═══════════╪═══════════╡\n",
       "│ chr1       ┆ 47939    ┆ 48490    ┆ 2         ┆ … ┆ -8.31933  ┆ 1.452103  ┆ .         ┆ 0         │\n",
       "│ chr1       ┆ 47949    ┆ 48500    ┆ 2         ┆ … ┆ -8.34849  ┆ 1.432368  ┆ .         ┆ 0         │\n",
       "│ chr1       ┆ 47959    ┆ 48510    ┆ 2         ┆ … ┆ -8.34849  ┆ 1.432368  ┆ .         ┆ 0         │\n",
       "│ chr1       ┆ 47999    ┆ 48550    ┆ 2         ┆ … ┆ -8.32587  ┆ 1.447569  ┆ .         ┆ 0         │\n",
       "│ chr1       ┆ 58209    ┆ 58760    ┆ 7         ┆ … ┆ -1.17936  ┆ 40.981373 ┆ merged_ex ┆ 60        │\n",
       "│            ┆          ┆          ┆           ┆   ┆           ┆           ┆ on        ┆           │\n",
       "│ …          ┆ …        ┆ …        ┆ …         ┆ … ┆ …         ┆ …         ┆ …         ┆ …         │\n",
       "│ chr17      ┆ 58762584 ┆ 58763135 ┆ 16        ┆ … ┆ -0.767538 ┆ 45.423107 ┆ .         ┆ 0         │\n",
       "│ chr17      ┆ 58762594 ┆ 58763145 ┆ 16        ┆ … ┆ -0.734729 ┆ 45.776368 ┆ .         ┆ 0         │\n",
       "│ chr17      ┆ 58762604 ┆ 58763155 ┆ 16        ┆ … ┆ -0.730413 ┆ 45.82294  ┆ .         ┆ 0         │\n",
       "│ chr17      ┆ 58762614 ┆ 58763165 ┆ 16        ┆ … ┆ -0.701082 ┆ 46.137652 ┆ .         ┆ 0         │\n",
       "│ chr17      ┆ 58762624 ┆ 58763175 ┆ 16        ┆ … ┆ -0.738258 ┆ 45.738397 ┆ .         ┆ 0         │\n",
       "└────────────┴──────────┴──────────┴───────────┴───┴───────────┴───────────┴───────────┴───────────┘"
      ]
     },
     "execution_count": 4,
     "metadata": {},
     "output_type": "execute_result"
    }
   ],
   "source": [
    "CDTS_windows = ( \n",
    "    CDTS_windows\n",
    "    .group_by(columns_to_group_by, maintain_order=True)\n",
    "    .agg(pl.col(\"window_feature_overlap_bps\").sum())\n",
    ")\n",
    "CDTS_windows"
   ]
  },
  {
   "cell_type": "code",
   "execution_count": 5,
   "id": "d8db5da2",
   "metadata": {},
   "outputs": [
    {
     "data": {
      "text/plain": [
       "['chromosome',\n",
       " 'start',\n",
       " 'end',\n",
       " 'observed_counts',\n",
       " 'expected_counts',\n",
       " 'observed_minus_expected',\n",
       " 'percentile_rank_of_observed_minus_expected']"
      ]
     },
     "execution_count": 5,
     "metadata": {},
     "output_type": "execute_result"
    }
   ],
   "source": [
    "pivot_index = [column for column in columns_to_group_by if column != 'feature']\n",
    "pivot_index "
   ]
  },
  {
   "cell_type": "code",
   "execution_count": 6,
   "id": "216f784e",
   "metadata": {},
   "outputs": [
    {
     "data": {
      "text/html": [
       "<div><style>\n",
       ".dataframe > thead > tr,\n",
       ".dataframe > tbody > tr {\n",
       "  text-align: right;\n",
       "  white-space: pre-wrap;\n",
       "}\n",
       "</style>\n",
       "<small>shape: (248_864_169, 9)</small><table border=\"1\" class=\"dataframe\"><thead><tr><th>chromosome</th><th>start</th><th>end</th><th>observed_counts</th><th>expected_counts</th><th>observed_minus_expected</th><th>percentile_rank_of_observed_minus_expected</th><th>merged_exon_overlap</th><th>enhancer_overlap</th></tr><tr><td>str</td><td>i64</td><td>i64</td><td>i64</td><td>f64</td><td>f64</td><td>f64</td><td>i64</td><td>i64</td></tr></thead><tbody><tr><td>&quot;chr1&quot;</td><td>47939</td><td>48490</td><td>2</td><td>10.319328</td><td>-8.31933</td><td>1.452103</td><td>null</td><td>null</td></tr><tr><td>&quot;chr1&quot;</td><td>47949</td><td>48500</td><td>2</td><td>10.348492</td><td>-8.34849</td><td>1.432368</td><td>null</td><td>null</td></tr><tr><td>&quot;chr1&quot;</td><td>47959</td><td>48510</td><td>2</td><td>10.348492</td><td>-8.34849</td><td>1.432368</td><td>null</td><td>null</td></tr><tr><td>&quot;chr1&quot;</td><td>47999</td><td>48550</td><td>2</td><td>10.325869</td><td>-8.32587</td><td>1.447569</td><td>null</td><td>null</td></tr><tr><td>&quot;chr1&quot;</td><td>58209</td><td>58760</td><td>7</td><td>8.179362</td><td>-1.17936</td><td>40.981373</td><td>60</td><td>null</td></tr><tr><td>&hellip;</td><td>&hellip;</td><td>&hellip;</td><td>&hellip;</td><td>&hellip;</td><td>&hellip;</td><td>&hellip;</td><td>&hellip;</td><td>&hellip;</td></tr><tr><td>&quot;chr17&quot;</td><td>58762584</td><td>58763135</td><td>16</td><td>16.767538</td><td>-0.767538</td><td>45.423107</td><td>null</td><td>null</td></tr><tr><td>&quot;chr17&quot;</td><td>58762594</td><td>58763145</td><td>16</td><td>16.734729</td><td>-0.734729</td><td>45.776368</td><td>null</td><td>null</td></tr><tr><td>&quot;chr17&quot;</td><td>58762604</td><td>58763155</td><td>16</td><td>16.730413</td><td>-0.730413</td><td>45.82294</td><td>null</td><td>null</td></tr><tr><td>&quot;chr17&quot;</td><td>58762614</td><td>58763165</td><td>16</td><td>16.701082</td><td>-0.701082</td><td>46.137652</td><td>null</td><td>null</td></tr><tr><td>&quot;chr17&quot;</td><td>58762624</td><td>58763175</td><td>16</td><td>16.738258</td><td>-0.738258</td><td>45.738397</td><td>null</td><td>null</td></tr></tbody></table></div>"
      ],
      "text/plain": [
       "shape: (248_864_169, 9)\n",
       "┌────────────┬──────────┬──────────┬───────────┬───┬───────────┬───────────┬───────────┬───────────┐\n",
       "│ chromosome ┆ start    ┆ end      ┆ observed_ ┆ … ┆ observed_ ┆ percentil ┆ merged_ex ┆ enhancer_ │\n",
       "│ ---        ┆ ---      ┆ ---      ┆ counts    ┆   ┆ minus_exp ┆ e_rank_of ┆ on_overla ┆ overlap   │\n",
       "│ str        ┆ i64      ┆ i64      ┆ ---       ┆   ┆ ected     ┆ _observed ┆ p         ┆ ---       │\n",
       "│            ┆          ┆          ┆ i64       ┆   ┆ ---       ┆ _mi…      ┆ ---       ┆ i64       │\n",
       "│            ┆          ┆          ┆           ┆   ┆ f64       ┆ ---       ┆ i64       ┆           │\n",
       "│            ┆          ┆          ┆           ┆   ┆           ┆ f64       ┆           ┆           │\n",
       "╞════════════╪══════════╪══════════╪═══════════╪═══╪═══════════╪═══════════╪═══════════╪═══════════╡\n",
       "│ chr1       ┆ 47939    ┆ 48490    ┆ 2         ┆ … ┆ -8.31933  ┆ 1.452103  ┆ null      ┆ null      │\n",
       "│ chr1       ┆ 47949    ┆ 48500    ┆ 2         ┆ … ┆ -8.34849  ┆ 1.432368  ┆ null      ┆ null      │\n",
       "│ chr1       ┆ 47959    ┆ 48510    ┆ 2         ┆ … ┆ -8.34849  ┆ 1.432368  ┆ null      ┆ null      │\n",
       "│ chr1       ┆ 47999    ┆ 48550    ┆ 2         ┆ … ┆ -8.32587  ┆ 1.447569  ┆ null      ┆ null      │\n",
       "│ chr1       ┆ 58209    ┆ 58760    ┆ 7         ┆ … ┆ -1.17936  ┆ 40.981373 ┆ 60        ┆ null      │\n",
       "│ …          ┆ …        ┆ …        ┆ …         ┆ … ┆ …         ┆ …         ┆ …         ┆ …         │\n",
       "│ chr17      ┆ 58762584 ┆ 58763135 ┆ 16        ┆ … ┆ -0.767538 ┆ 45.423107 ┆ null      ┆ null      │\n",
       "│ chr17      ┆ 58762594 ┆ 58763145 ┆ 16        ┆ … ┆ -0.734729 ┆ 45.776368 ┆ null      ┆ null      │\n",
       "│ chr17      ┆ 58762604 ┆ 58763155 ┆ 16        ┆ … ┆ -0.730413 ┆ 45.82294  ┆ null      ┆ null      │\n",
       "│ chr17      ┆ 58762614 ┆ 58763165 ┆ 16        ┆ … ┆ -0.701082 ┆ 46.137652 ┆ null      ┆ null      │\n",
       "│ chr17      ┆ 58762624 ┆ 58763175 ┆ 16        ┆ … ┆ -0.738258 ┆ 45.738397 ┆ null      ┆ null      │\n",
       "└────────────┴──────────┴──────────┴───────────┴───┴───────────┴───────────┴───────────┴───────────┘"
      ]
     },
     "execution_count": 6,
     "metadata": {},
     "output_type": "execute_result"
    }
   ],
   "source": [
    "# pivoting is possible in SQL too, but it is clunky: https://www.databricks.com/blog/2018/11/01/sql-pivot-converting-rows-to-columns.html\n",
    "CDTS_windows = (\n",
    "    CDTS_windows\n",
    "    .pivot(\n",
    "        index = pivot_index, \n",
    "        columns = \"feature\", \n",
    "        values = \"window_feature_overlap_bps\"\n",
    "    )\n",
    "    .drop('.')\n",
    "    .rename({\n",
    "        'enhancer': 'enhancer_overlap',\n",
    "        'merged_exon': 'merged_exon_overlap',\n",
    "    })\n",
    ")\n",
    "CDTS_windows"
   ]
  },
  {
   "cell_type": "code",
   "execution_count": 7,
   "id": "12784fad",
   "metadata": {
    "scrolled": true
   },
   "outputs": [
    {
     "data": {
      "image/png": "[encoded data removed]",
      "text/plain": [
       "<Figure size 1152x720 with 1 Axes>"
      ]
     },
     "metadata": {
      "needs_background": "light"
     },
     "output_type": "display_data"
    }
   ],
   "source": [
    "import matplotlib.pyplot as plt\n",
    "plt.rcParams['font.size'] = 20\n",
    "\n",
    "def plot_distribution_of_overlap_amounts(df, feature): \n",
    "    plt.figure(figsize=(16, 10))  # Set the figure size\n",
    "    data = df[f'{feature}_overlap']\n",
    "    plt.hist(data, bins=500, log=True)\n",
    "    plt.xlabel(f'window-{feature} overlap (bps)')\n",
    "    plt.ylabel('number of windows')\n",
    "    plt.show()\n",
    "    \n",
    "plot_distribution_of_overlap_amounts(CDTS_windows, feature='enhancer')"
   ]
  },
  {
   "cell_type": "code",
   "execution_count": 8,
   "id": "0e92b203",
   "metadata": {},
   "outputs": [
    {
     "data": {
      "image/png": "[encoded data removed]",
      "text/plain": [
       "<Figure size 1152x720 with 1 Axes>"
      ]
     },
     "metadata": {
      "needs_background": "light"
     },
     "output_type": "display_data"
    }
   ],
   "source": [
    "# Notice that the distribution is not uniform. \n",
    "# This is because exons are typically smaller than windows, \n",
    "# so that the overlap amounts reflect the exon sizes, \n",
    "# which are typically ~ 100bp \n",
    "plot_distribution_of_overlap_amounts(CDTS_windows, feature='merged_exon')"
   ]
  },
  {
   "cell_type": "markdown",
   "id": "3a2c9a4f",
   "metadata": {},
   "source": [
    "## Classify windows according to whether they appreciably overlap enhancers or exons "
   ]
  },
  {
   "cell_type": "code",
   "execution_count": 9,
   "id": "0726fc96",
   "metadata": {},
   "outputs": [
    {
     "data": {
      "text/html": [
       "<div><style>\n",
       ".dataframe > thead > tr,\n",
       ".dataframe > tbody > tr {\n",
       "  text-align: right;\n",
       "  white-space: pre-wrap;\n",
       "}\n",
       "</style>\n",
       "<small>shape: (248_864_169, 11)</small><table border=\"1\" class=\"dataframe\"><thead><tr><th>chromosome</th><th>start</th><th>end</th><th>observed_counts</th><th>expected_counts</th><th>observed_minus_expected</th><th>percentile_rank_of_observed_minus_expected</th><th>merged_exon_overlap</th><th>enhancer_overlap</th><th>window overlaps enhancer</th><th>window overlaps merged_exon</th></tr><tr><td>str</td><td>i64</td><td>i64</td><td>i64</td><td>f64</td><td>f64</td><td>f64</td><td>i64</td><td>i64</td><td>str</td><td>str</td></tr></thead><tbody><tr><td>&quot;chr1&quot;</td><td>47939</td><td>48490</td><td>2</td><td>10.319328</td><td>-8.31933</td><td>1.452103</td><td>null</td><td>null</td><td>&quot;no&quot;</td><td>&quot;no&quot;</td></tr><tr><td>&quot;chr1&quot;</td><td>47949</td><td>48500</td><td>2</td><td>10.348492</td><td>-8.34849</td><td>1.432368</td><td>null</td><td>null</td><td>&quot;no&quot;</td><td>&quot;no&quot;</td></tr><tr><td>&quot;chr1&quot;</td><td>47959</td><td>48510</td><td>2</td><td>10.348492</td><td>-8.34849</td><td>1.432368</td><td>null</td><td>null</td><td>&quot;no&quot;</td><td>&quot;no&quot;</td></tr><tr><td>&quot;chr1&quot;</td><td>47999</td><td>48550</td><td>2</td><td>10.325869</td><td>-8.32587</td><td>1.447569</td><td>null</td><td>null</td><td>&quot;no&quot;</td><td>&quot;no&quot;</td></tr><tr><td>&quot;chr1&quot;</td><td>58209</td><td>58760</td><td>7</td><td>8.179362</td><td>-1.17936</td><td>40.981373</td><td>60</td><td>null</td><td>&quot;no&quot;</td><td>&quot;yes&quot;</td></tr><tr><td>&hellip;</td><td>&hellip;</td><td>&hellip;</td><td>&hellip;</td><td>&hellip;</td><td>&hellip;</td><td>&hellip;</td><td>&hellip;</td><td>&hellip;</td><td>&hellip;</td><td>&hellip;</td></tr><tr><td>&quot;chr17&quot;</td><td>58762584</td><td>58763135</td><td>16</td><td>16.767538</td><td>-0.767538</td><td>45.423107</td><td>null</td><td>null</td><td>&quot;no&quot;</td><td>&quot;no&quot;</td></tr><tr><td>&quot;chr17&quot;</td><td>58762594</td><td>58763145</td><td>16</td><td>16.734729</td><td>-0.734729</td><td>45.776368</td><td>null</td><td>null</td><td>&quot;no&quot;</td><td>&quot;no&quot;</td></tr><tr><td>&quot;chr17&quot;</td><td>58762604</td><td>58763155</td><td>16</td><td>16.730413</td><td>-0.730413</td><td>45.82294</td><td>null</td><td>null</td><td>&quot;no&quot;</td><td>&quot;no&quot;</td></tr><tr><td>&quot;chr17&quot;</td><td>58762614</td><td>58763165</td><td>16</td><td>16.701082</td><td>-0.701082</td><td>46.137652</td><td>null</td><td>null</td><td>&quot;no&quot;</td><td>&quot;no&quot;</td></tr><tr><td>&quot;chr17&quot;</td><td>58762624</td><td>58763175</td><td>16</td><td>16.738258</td><td>-0.738258</td><td>45.738397</td><td>null</td><td>null</td><td>&quot;no&quot;</td><td>&quot;no&quot;</td></tr></tbody></table></div>"
      ],
      "text/plain": [
       "shape: (248_864_169, 11)\n",
       "┌────────────┬──────────┬──────────┬───────────┬───┬───────────┬───────────┬───────────┬───────────┐\n",
       "│ chromosome ┆ start    ┆ end      ┆ observed_ ┆ … ┆ merged_ex ┆ enhancer_ ┆ window    ┆ window    │\n",
       "│ ---        ┆ ---      ┆ ---      ┆ counts    ┆   ┆ on_overla ┆ overlap   ┆ overlaps  ┆ overlaps  │\n",
       "│ str        ┆ i64      ┆ i64      ┆ ---       ┆   ┆ p         ┆ ---       ┆ enhancer  ┆ merged_ex │\n",
       "│            ┆          ┆          ┆ i64       ┆   ┆ ---       ┆ i64       ┆ ---       ┆ on        │\n",
       "│            ┆          ┆          ┆           ┆   ┆ i64       ┆           ┆ str       ┆ ---       │\n",
       "│            ┆          ┆          ┆           ┆   ┆           ┆           ┆           ┆ str       │\n",
       "╞════════════╪══════════╪══════════╪═══════════╪═══╪═══════════╪═══════════╪═══════════╪═══════════╡\n",
       "│ chr1       ┆ 47939    ┆ 48490    ┆ 2         ┆ … ┆ null      ┆ null      ┆ no        ┆ no        │\n",
       "│ chr1       ┆ 47949    ┆ 48500    ┆ 2         ┆ … ┆ null      ┆ null      ┆ no        ┆ no        │\n",
       "│ chr1       ┆ 47959    ┆ 48510    ┆ 2         ┆ … ┆ null      ┆ null      ┆ no        ┆ no        │\n",
       "│ chr1       ┆ 47999    ┆ 48550    ┆ 2         ┆ … ┆ null      ┆ null      ┆ no        ┆ no        │\n",
       "│ chr1       ┆ 58209    ┆ 58760    ┆ 7         ┆ … ┆ 60        ┆ null      ┆ no        ┆ yes       │\n",
       "│ …          ┆ …        ┆ …        ┆ …         ┆ … ┆ …         ┆ …         ┆ …         ┆ …         │\n",
       "│ chr17      ┆ 58762584 ┆ 58763135 ┆ 16        ┆ … ┆ null      ┆ null      ┆ no        ┆ no        │\n",
       "│ chr17      ┆ 58762594 ┆ 58763145 ┆ 16        ┆ … ┆ null      ┆ null      ┆ no        ┆ no        │\n",
       "│ chr17      ┆ 58762604 ┆ 58763155 ┆ 16        ┆ … ┆ null      ┆ null      ┆ no        ┆ no        │\n",
       "│ chr17      ┆ 58762614 ┆ 58763165 ┆ 16        ┆ … ┆ null      ┆ null      ┆ no        ┆ no        │\n",
       "│ chr17      ┆ 58762624 ┆ 58763175 ┆ 16        ┆ … ┆ null      ┆ null      ┆ no        ┆ no        │\n",
       "└────────────┴──────────┴──────────┴───────────┴───┴───────────┴───────────┴───────────┴───────────┘"
      ]
     },
     "execution_count": 9,
     "metadata": {},
     "output_type": "execute_result"
    }
   ],
   "source": [
    "def classify(df): \n",
    "    for feature, min_overlap in [\n",
    "        ('enhancer', 250),\n",
    "        ('merged_exon', 5),\n",
    "    ]:\n",
    "        df = df.with_columns(\n",
    "            pl\n",
    "            .when(pl.col(f'{feature}_overlap') >= min_overlap)\n",
    "            .then(pl.lit(\"yes\"))\n",
    "            .when(pl.col(f'{feature}_overlap') < min_overlap)\n",
    "            .then(pl.lit(\"ambiguous\"))\n",
    "            .otherwise(pl.lit(\"no\"))\n",
    "            .alias(f'window overlaps {feature}')\n",
    "        )\n",
    "    return df\n",
    "    \n",
    "CDTS_windows = classify(CDTS_windows)\n",
    "CDTS_windows"
   ]
  },
  {
   "cell_type": "code",
   "execution_count": 10,
   "id": "733a117b",
   "metadata": {},
   "outputs": [
    {
     "data": {
      "text/html": [
       "<div><style>\n",
       ".dataframe > thead > tr,\n",
       ".dataframe > tbody > tr {\n",
       "  text-align: right;\n",
       "  white-space: pre-wrap;\n",
       "}\n",
       "</style>\n",
       "<small>shape: (3, 2)</small><table border=\"1\" class=\"dataframe\"><thead><tr><th>window overlaps enhancer</th><th>count</th></tr><tr><td>str</td><td>u32</td></tr></thead><tbody><tr><td>&quot;no&quot;</td><td>176929251</td></tr><tr><td>&quot;ambiguous&quot;</td><td>16697046</td></tr><tr><td>&quot;yes&quot;</td><td>55237872</td></tr></tbody></table></div>"
      ],
      "text/plain": [
       "shape: (3, 2)\n",
       "┌──────────────────────────┬───────────┐\n",
       "│ window overlaps enhancer ┆ count     │\n",
       "│ ---                      ┆ ---       │\n",
       "│ str                      ┆ u32       │\n",
       "╞══════════════════════════╪═══════════╡\n",
       "│ no                       ┆ 176929251 │\n",
       "│ ambiguous                ┆ 16697046  │\n",
       "│ yes                      ┆ 55237872  │\n",
       "└──────────────────────────┴───────────┘"
      ]
     },
     "execution_count": 10,
     "metadata": {},
     "output_type": "execute_result"
    }
   ],
   "source": [
    "CDTS_windows['window overlaps enhancer'].value_counts()"
   ]
  },
  {
   "cell_type": "code",
   "execution_count": 11,
   "id": "1b381881",
   "metadata": {},
   "outputs": [
    {
     "data": {
      "text/html": [
       "<div><style>\n",
       ".dataframe > thead > tr,\n",
       ".dataframe > tbody > tr {\n",
       "  text-align: right;\n",
       "  white-space: pre-wrap;\n",
       "}\n",
       "</style>\n",
       "<small>shape: (3, 2)</small><table border=\"1\" class=\"dataframe\"><thead><tr><th>window overlaps merged_exon</th><th>count</th></tr><tr><td>str</td><td>u32</td></tr></thead><tbody><tr><td>&quot;ambiguous&quot;</td><td>174123</td></tr><tr><td>&quot;yes&quot;</td><td>27080923</td></tr><tr><td>&quot;no&quot;</td><td>221609123</td></tr></tbody></table></div>"
      ],
      "text/plain": [
       "shape: (3, 2)\n",
       "┌─────────────────────────────┬───────────┐\n",
       "│ window overlaps merged_exon ┆ count     │\n",
       "│ ---                         ┆ ---       │\n",
       "│ str                         ┆ u32       │\n",
       "╞═════════════════════════════╪═══════════╡\n",
       "│ ambiguous                   ┆ 174123    │\n",
       "│ yes                         ┆ 27080923  │\n",
       "│ no                          ┆ 221609123 │\n",
       "└─────────────────────────────┴───────────┘"
      ]
     },
     "execution_count": 11,
     "metadata": {},
     "output_type": "execute_result"
    }
   ],
   "source": [
    "CDTS_windows['window overlaps merged_exon'].value_counts()"
   ]
  },
  {
   "cell_type": "code",
   "execution_count": 12,
   "id": "a01754be",
   "metadata": {},
   "outputs": [
    {
     "data": {
      "text/html": [
       "<div><style>\n",
       ".dataframe > thead > tr,\n",
       ".dataframe > tbody > tr {\n",
       "  text-align: right;\n",
       "  white-space: pre-wrap;\n",
       "}\n",
       "</style>\n",
       "<small>shape: (232_007_154, 11)</small><table border=\"1\" class=\"dataframe\"><thead><tr><th>chromosome</th><th>start</th><th>end</th><th>observed_counts</th><th>expected_counts</th><th>observed_minus_expected</th><th>percentile_rank_of_observed_minus_expected</th><th>merged_exon_overlap</th><th>enhancer_overlap</th><th>window overlaps enhancer</th><th>window overlaps merged_exon</th></tr><tr><td>str</td><td>i64</td><td>i64</td><td>i64</td><td>f64</td><td>f64</td><td>f64</td><td>i64</td><td>i64</td><td>bool</td><td>bool</td></tr></thead><tbody><tr><td>&quot;chr1&quot;</td><td>47939</td><td>48490</td><td>2</td><td>10.319328</td><td>-8.31933</td><td>1.452103</td><td>null</td><td>null</td><td>false</td><td>false</td></tr><tr><td>&quot;chr1&quot;</td><td>47949</td><td>48500</td><td>2</td><td>10.348492</td><td>-8.34849</td><td>1.432368</td><td>null</td><td>null</td><td>false</td><td>false</td></tr><tr><td>&quot;chr1&quot;</td><td>47959</td><td>48510</td><td>2</td><td>10.348492</td><td>-8.34849</td><td>1.432368</td><td>null</td><td>null</td><td>false</td><td>false</td></tr><tr><td>&quot;chr1&quot;</td><td>47999</td><td>48550</td><td>2</td><td>10.325869</td><td>-8.32587</td><td>1.447569</td><td>null</td><td>null</td><td>false</td><td>false</td></tr><tr><td>&quot;chr1&quot;</td><td>58209</td><td>58760</td><td>7</td><td>8.179362</td><td>-1.17936</td><td>40.981373</td><td>60</td><td>null</td><td>false</td><td>true</td></tr><tr><td>&hellip;</td><td>&hellip;</td><td>&hellip;</td><td>&hellip;</td><td>&hellip;</td><td>&hellip;</td><td>&hellip;</td><td>&hellip;</td><td>&hellip;</td><td>&hellip;</td><td>&hellip;</td></tr><tr><td>&quot;chr17&quot;</td><td>58762584</td><td>58763135</td><td>16</td><td>16.767538</td><td>-0.767538</td><td>45.423107</td><td>null</td><td>null</td><td>false</td><td>false</td></tr><tr><td>&quot;chr17&quot;</td><td>58762594</td><td>58763145</td><td>16</td><td>16.734729</td><td>-0.734729</td><td>45.776368</td><td>null</td><td>null</td><td>false</td><td>false</td></tr><tr><td>&quot;chr17&quot;</td><td>58762604</td><td>58763155</td><td>16</td><td>16.730413</td><td>-0.730413</td><td>45.82294</td><td>null</td><td>null</td><td>false</td><td>false</td></tr><tr><td>&quot;chr17&quot;</td><td>58762614</td><td>58763165</td><td>16</td><td>16.701082</td><td>-0.701082</td><td>46.137652</td><td>null</td><td>null</td><td>false</td><td>false</td></tr><tr><td>&quot;chr17&quot;</td><td>58762624</td><td>58763175</td><td>16</td><td>16.738258</td><td>-0.738258</td><td>45.738397</td><td>null</td><td>null</td><td>false</td><td>false</td></tr></tbody></table></div>"
      ],
      "text/plain": [
       "shape: (232_007_154, 11)\n",
       "┌────────────┬──────────┬──────────┬───────────┬───┬───────────┬───────────┬───────────┬───────────┐\n",
       "│ chromosome ┆ start    ┆ end      ┆ observed_ ┆ … ┆ merged_ex ┆ enhancer_ ┆ window    ┆ window    │\n",
       "│ ---        ┆ ---      ┆ ---      ┆ counts    ┆   ┆ on_overla ┆ overlap   ┆ overlaps  ┆ overlaps  │\n",
       "│ str        ┆ i64      ┆ i64      ┆ ---       ┆   ┆ p         ┆ ---       ┆ enhancer  ┆ merged_ex │\n",
       "│            ┆          ┆          ┆ i64       ┆   ┆ ---       ┆ i64       ┆ ---       ┆ on        │\n",
       "│            ┆          ┆          ┆           ┆   ┆ i64       ┆           ┆ bool      ┆ ---       │\n",
       "│            ┆          ┆          ┆           ┆   ┆           ┆           ┆           ┆ bool      │\n",
       "╞════════════╪══════════╪══════════╪═══════════╪═══╪═══════════╪═══════════╪═══════════╪═══════════╡\n",
       "│ chr1       ┆ 47939    ┆ 48490    ┆ 2         ┆ … ┆ null      ┆ null      ┆ false     ┆ false     │\n",
       "│ chr1       ┆ 47949    ┆ 48500    ┆ 2         ┆ … ┆ null      ┆ null      ┆ false     ┆ false     │\n",
       "│ chr1       ┆ 47959    ┆ 48510    ┆ 2         ┆ … ┆ null      ┆ null      ┆ false     ┆ false     │\n",
       "│ chr1       ┆ 47999    ┆ 48550    ┆ 2         ┆ … ┆ null      ┆ null      ┆ false     ┆ false     │\n",
       "│ chr1       ┆ 58209    ┆ 58760    ┆ 7         ┆ … ┆ 60        ┆ null      ┆ false     ┆ true      │\n",
       "│ …          ┆ …        ┆ …        ┆ …         ┆ … ┆ …         ┆ …         ┆ …         ┆ …         │\n",
       "│ chr17      ┆ 58762584 ┆ 58763135 ┆ 16        ┆ … ┆ null      ┆ null      ┆ false     ┆ false     │\n",
       "│ chr17      ┆ 58762594 ┆ 58763145 ┆ 16        ┆ … ┆ null      ┆ null      ┆ false     ┆ false     │\n",
       "│ chr17      ┆ 58762604 ┆ 58763155 ┆ 16        ┆ … ┆ null      ┆ null      ┆ false     ┆ false     │\n",
       "│ chr17      ┆ 58762614 ┆ 58763165 ┆ 16        ┆ … ┆ null      ┆ null      ┆ false     ┆ false     │\n",
       "│ chr17      ┆ 58762624 ┆ 58763175 ┆ 16        ┆ … ┆ null      ┆ null      ┆ false     ┆ false     │\n",
       "└────────────┴──────────┴──────────┴───────────┴───┴───────────┴───────────┴───────────┴───────────┘"
      ]
     },
     "execution_count": 12,
     "metadata": {},
     "output_type": "execute_result"
    }
   ],
   "source": [
    "def throw_out_ambiguous(df):\n",
    "    df = df.filter(\n",
    "        (pl.col('window overlaps enhancer') != 'ambiguous') & \n",
    "        (pl.col('window overlaps merged_exon') != 'ambiguous')\n",
    "    )\n",
    "    for feature in ['enhancer', 'merged_exon']:\n",
    "        df = df.with_columns(pl\n",
    "            .when(pl.col(f'window overlaps {feature}') == 'yes')\n",
    "            .then(pl.lit(True))\n",
    "            .otherwise(pl.lit(False))\n",
    "            .alias(f'window overlaps {feature}')\n",
    "        )\n",
    "    return df\n",
    "\n",
    "CDTS_windows = throw_out_ambiguous(CDTS_windows)\n",
    "CDTS_windows"
   ]
  },
  {
   "cell_type": "markdown",
   "id": "5a0b4c90",
   "metadata": {},
   "source": [
    "## Restrict to noncoding windows and save to disk "
   ]
  },
  {
   "cell_type": "code",
   "execution_count": 13,
   "id": "dbd69db6",
   "metadata": {},
   "outputs": [],
   "source": [
    "(\n",
    "    CDTS_windows\n",
    "    .filter(pl.col('window overlaps merged_exon') == False)\n",
    "    .drop('merged_exon_overlap')\n",
    "    .drop('window overlaps merged_exon')\n",
    "    .write_csv(\n",
    "        f'{CONSTRAINT_TOOLS_DATA}/CDTS/CDTS.gnomAD.hg38.noncoding.enhancer.bed',\n",
    "        separator='\\t'\n",
    "    )\n",
    ")"
   ]
  }
 ],
 "metadata": {
  "kernelspec": {
   "display_name": "Python 3",
   "language": "python",
   "name": "python3"
  },
  "language_info": {
   "codemirror_mode": {
    "name": "ipython",
    "version": 3
   },
   "file_extension": ".py",
   "mimetype": "text/x-python",
   "name": "python",
   "nbconvert_exporter": "python",
   "pygments_lexer": "ipython3",
   "version": "3.9.0"
  }
 },
 "nbformat": 4,
 "nbformat_minor": 5
}
