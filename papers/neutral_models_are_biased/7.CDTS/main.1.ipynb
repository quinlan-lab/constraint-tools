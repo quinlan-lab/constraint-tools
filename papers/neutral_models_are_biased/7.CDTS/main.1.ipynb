{
 "cells": [
  {
   "cell_type": "markdown",
   "metadata": {},
   "source": [
    "## Preliminary Workflow \n",
    "\n"
   ]
  },
  {
   "cell_type": "code",
   "execution_count": 1,
   "metadata": {},
   "outputs": [],
   "source": [
    "# 1. intersect CDTS windows with enhancers and exons: \n",
    "#    papers/neutral_models_are_biased/7.CDTS/add-overlapAmounts.sh\n",
    "# 2. find noncoding CDTS windows and determine whether they significantly overlap enhancers or not: \n",
    "#    papers/neutral_models_are_biased/7.CDTS/assign_enhancer_and_exon_status.ipynb\n",
    "# 3. compute GC-content for CDTS windows: \n",
    "#    papers/neutral_models_are_biased/7.CDTS/compute-GC-content-for-all-window-sizes-based-on-CDTS-windows.sh"
   ]
  },
  {
   "cell_type": "markdown",
   "metadata": {},
   "source": [
    "# Assign BGS, gBGC, GC_content to CDTS windows "
   ]
  },
  {
   "cell_type": "code",
   "execution_count": 1,
   "metadata": {},
   "outputs": [],
   "source": [
    "CONSTRAINT_TOOLS = '/scratch/ucgd/lustre-labs/quinlan/u6018199/constraint-tools'\n",
    "CONSTRAINT_TOOLS_DATA = '/scratch/ucgd/lustre-labs/quinlan/data-shared/constraint-tools'\n",
    "\n",
    "import sys\n",
    "sys.path.append(f'{CONSTRAINT_TOOLS}/utilities')\n",
    "\n",
    "POP = 'EUR'\n",
    "GC_WINDOW_SIZE = 1000"
   ]
  },
  {
   "cell_type": "code",
   "execution_count": 2,
   "metadata": {},
   "outputs": [],
   "source": [
    "import polars as pl \n",
    "\n",
    "from shell import shell \n",
    "from colorize import print_string_as_info\n",
    "from aggregate import aggregate_polars\n",
    "\n",
    "def get_header(filename):\n",
    "  with open(filename) as fh: \n",
    "    header = fh.readline().strip().split('\\t')\n",
    "  return header\n",
    "\n",
    "def intersect(a_filename, b_filename, intersect_filename, b_class): \n",
    "  cmd = (\n",
    "    f'bedtools intersect'\n",
    "    f\" -a <(tail -n +2 {a_filename})\" # contains header\n",
    "    f\" -b <(tail -n +2 {b_filename})\" # contains header\n",
    "    f' -wao -f 0.5' \n",
    "    f' > {intersect_filename}'\n",
    "  )\n",
    "  shell(cmd) \n",
    "  print_string_as_info(f'Wrote {intersect_filename}')\n",
    "\n",
    "  a_file_header = get_header(a_filename) # contains header\n",
    "  b_file_header = get_header(b_filename) # contains header\n",
    "  b_file_header = [f'{b_class}_{field}' for field in b_file_header[:3]] + b_file_header[3:]\n",
    "\n",
    "  return a_file_header, b_file_header\n",
    "\n",
    "def make_scores_numeric(df: pl.DataFrame, b_class: str, b_features: list) -> pl.DataFrame:\n",
    "    # we don't want to include windows that don't overlap any windows with b_feature values\n",
    "    df = df.filter(pl.col(f'{b_class}_chromosome') != '.')\n",
    "\n",
    "    # having removed records where 'b_class_chromosome' is '.', \n",
    "    # we can now convert the 'b_features' columns to floats\n",
    "    for b_feature in b_features:\n",
    "        df = df.filter(pl.col(b_feature) != '.') # gBGC values are floats, but some are missing\n",
    "        df = df.with_columns(pl.col(b_feature).cast(pl.Float64))\n",
    "\n",
    "    return df\n",
    "\n",
    "def intersect_and_aggregate(a_filename_stem, b_filename, b_class, b_features, b_class_aggregation_functions): \n",
    "  a_filename = f'{a_filename_stem}.bed'\n",
    "  intersect_filename = f'{a_filename_stem}.intersect.{b_class}.bed'\n",
    "\n",
    "  a_file_header, b_file_header = intersect(a_filename, b_filename, intersect_filename, b_class)\n",
    "\n",
    "  df = pl.read_csv(\n",
    "    intersect_filename, \n",
    "    separator='\\t',\n",
    "    new_columns=a_file_header + b_file_header + [f'CDTSWindow_{b_class}Window_overlap'],\n",
    "    infer_schema_length=1000000\n",
    "  )\n",
    "\n",
    "  df = make_scores_numeric(df, b_class, b_features) \n",
    "\n",
    "  # some CDTS-windows may intersect multiple b_feature-windows, \n",
    "  # so let's group by CDTS-window, and aggregate scores over all b_feature-windows in the group\n",
    "  df = aggregate_polars(\n",
    "    df, \n",
    "    group_columns = a_file_header,\n",
    "    aggregation_functions = b_class_aggregation_functions\n",
    "  )\n",
    "\n",
    "  df.write_csv(\n",
    "    f'{a_filename_stem}.{b_class}.bed',\n",
    "    separator='\\t',\n",
    "  )\n",
    "\n",
    "  print_string_as_info(f'Wrote {a_filename_stem}.{b_class}.bed')\n",
    "\n",
    "  return df "
   ]
  },
  {
   "cell_type": "code",
   "execution_count": 3,
   "metadata": {},
   "outputs": [
    {
     "name": "stdout",
     "output_type": "stream",
     "text": [
      "\n"
     ]
    },
    {
     "name": "stderr",
     "output_type": "stream",
     "text": [
      "\u001b[36mWrote /scratch/ucgd/lustre-labs/quinlan/data-shared/constraint-tools/CDTS/CDTS.gnomAD.hg38.noncoding.enhancer.intersect.BGS.bed\u001b[0m\n",
      "\u001b[36mWrote /scratch/ucgd/lustre-labs/quinlan/data-shared/constraint-tools/CDTS/CDTS.gnomAD.hg38.noncoding.enhancer.BGS.bed\u001b[0m\n"
     ]
    },
    {
     "data": {
      "text/html": [
       "<div><style>\n",
       ".dataframe > thead > tr,\n",
       ".dataframe > tbody > tr {\n",
       "  text-align: right;\n",
       "  white-space: pre-wrap;\n",
       "}\n",
       "</style>\n",
       "<small>shape: (195_047_643, 10)</small><table border=\"1\" class=\"dataframe\"><thead><tr><th>chromosome</th><th>start</th><th>end</th><th>observed_counts</th><th>expected_counts</th><th>observed_minus_expected</th><th>percentile_rank_of_observed_minus_expected</th><th>enhancer_overlap</th><th>window overlaps enhancer</th><th>B</th></tr><tr><td>str</td><td>i64</td><td>i64</td><td>i64</td><td>f64</td><td>f64</td><td>f64</td><td>i64</td><td>bool</td><td>f64</td></tr></thead><tbody><tr><td>&quot;chr1&quot;</td><td>1382849</td><td>1383400</td><td>10</td><td>12.513945</td><td>-2.51394</td><td>27.27855</td><td>551</td><td>true</td><td>0.653</td></tr><tr><td>&quot;chr1&quot;</td><td>1382859</td><td>1383410</td><td>10</td><td>12.150556</td><td>-2.15056</td><td>30.844058</td><td>551</td><td>true</td><td>0.653</td></tr><tr><td>&quot;chr1&quot;</td><td>1382869</td><td>1383420</td><td>10</td><td>12.163989</td><td>-2.16399</td><td>30.708951</td><td>551</td><td>true</td><td>0.653</td></tr><tr><td>&quot;chr1&quot;</td><td>1382879</td><td>1383430</td><td>10</td><td>12.142615</td><td>-2.14261</td><td>30.923845</td><td>551</td><td>true</td><td>0.653</td></tr><tr><td>&quot;chr1&quot;</td><td>1382889</td><td>1383440</td><td>9</td><td>12.162707</td><td>-3.16271</td><td>21.38556</td><td>551</td><td>true</td><td>0.653</td></tr><tr><td>&hellip;</td><td>&hellip;</td><td>&hellip;</td><td>&hellip;</td><td>&hellip;</td><td>&hellip;</td><td>&hellip;</td><td>&hellip;</td><td>&hellip;</td><td>&hellip;</td></tr><tr><td>&quot;chr17&quot;</td><td>58762584</td><td>58763135</td><td>16</td><td>16.767538</td><td>-0.767538</td><td>45.423107</td><td>null</td><td>false</td><td>0.536</td></tr><tr><td>&quot;chr17&quot;</td><td>58762594</td><td>58763145</td><td>16</td><td>16.734729</td><td>-0.734729</td><td>45.776368</td><td>null</td><td>false</td><td>0.536</td></tr><tr><td>&quot;chr17&quot;</td><td>58762604</td><td>58763155</td><td>16</td><td>16.730413</td><td>-0.730413</td><td>45.82294</td><td>null</td><td>false</td><td>0.536</td></tr><tr><td>&quot;chr17&quot;</td><td>58762614</td><td>58763165</td><td>16</td><td>16.701082</td><td>-0.701082</td><td>46.137652</td><td>null</td><td>false</td><td>0.536</td></tr><tr><td>&quot;chr17&quot;</td><td>58762624</td><td>58763175</td><td>16</td><td>16.738258</td><td>-0.738258</td><td>45.738397</td><td>null</td><td>false</td><td>0.536</td></tr></tbody></table></div>"
      ],
      "text/plain": [
       "shape: (195_047_643, 10)\n",
       "┌────────────┬──────────┬──────────┬────────────┬───┬────────────┬────────────┬────────────┬───────┐\n",
       "│ chromosome ┆ start    ┆ end      ┆ observed_c ┆ … ┆ percentile ┆ enhancer_o ┆ window     ┆ B     │\n",
       "│ ---        ┆ ---      ┆ ---      ┆ ounts      ┆   ┆ _rank_of_o ┆ verlap     ┆ overlaps   ┆ ---   │\n",
       "│ str        ┆ i64      ┆ i64      ┆ ---        ┆   ┆ bserved_mi ┆ ---        ┆ enhancer   ┆ f64   │\n",
       "│            ┆          ┆          ┆ i64        ┆   ┆ …          ┆ i64        ┆ ---        ┆       │\n",
       "│            ┆          ┆          ┆            ┆   ┆ ---        ┆            ┆ bool       ┆       │\n",
       "│            ┆          ┆          ┆            ┆   ┆ f64        ┆            ┆            ┆       │\n",
       "╞════════════╪══════════╪══════════╪════════════╪═══╪════════════╪════════════╪════════════╪═══════╡\n",
       "│ chr1       ┆ 1382849  ┆ 1383400  ┆ 10         ┆ … ┆ 27.27855   ┆ 551        ┆ true       ┆ 0.653 │\n",
       "│ chr1       ┆ 1382859  ┆ 1383410  ┆ 10         ┆ … ┆ 30.844058  ┆ 551        ┆ true       ┆ 0.653 │\n",
       "│ chr1       ┆ 1382869  ┆ 1383420  ┆ 10         ┆ … ┆ 30.708951  ┆ 551        ┆ true       ┆ 0.653 │\n",
       "│ chr1       ┆ 1382879  ┆ 1383430  ┆ 10         ┆ … ┆ 30.923845  ┆ 551        ┆ true       ┆ 0.653 │\n",
       "│ chr1       ┆ 1382889  ┆ 1383440  ┆ 9          ┆ … ┆ 21.38556   ┆ 551        ┆ true       ┆ 0.653 │\n",
       "│ …          ┆ …        ┆ …        ┆ …          ┆ … ┆ …          ┆ …          ┆ …          ┆ …     │\n",
       "│ chr17      ┆ 58762584 ┆ 58763135 ┆ 16         ┆ … ┆ 45.423107  ┆ null       ┆ false      ┆ 0.536 │\n",
       "│ chr17      ┆ 58762594 ┆ 58763145 ┆ 16         ┆ … ┆ 45.776368  ┆ null       ┆ false      ┆ 0.536 │\n",
       "│ chr17      ┆ 58762604 ┆ 58763155 ┆ 16         ┆ … ┆ 45.82294   ┆ null       ┆ false      ┆ 0.536 │\n",
       "│ chr17      ┆ 58762614 ┆ 58763165 ┆ 16         ┆ … ┆ 46.137652  ┆ null       ┆ false      ┆ 0.536 │\n",
       "│ chr17      ┆ 58762624 ┆ 58763175 ┆ 16         ┆ … ┆ 45.738397  ┆ null       ┆ false      ┆ 0.536 │\n",
       "└────────────┴──────────┴──────────┴────────────┴───┴────────────┴────────────┴────────────┴───────┘"
      ]
     },
     "execution_count": 3,
     "metadata": {},
     "output_type": "execute_result"
    }
   ],
   "source": [
    "# # assign BGS values to CDTS windows \n",
    "# intersect_and_aggregate(\n",
    "#     a_filename_stem = f'{CONSTRAINT_TOOLS_DATA}/CDTS/CDTS.gnomAD.hg38.noncoding.enhancer', \n",
    "#     b_filename = f'{CONSTRAINT_TOOLS_DATA}/background-selection/CADD-B-map/bmap.hg38.header.bed', \n",
    "#     b_class = 'BGS',\n",
    "#     b_features = ['B'], \n",
    "#     b_class_aggregation_functions = [pl.col('B').min()] \n",
    "# )   "
   ]
  },
  {
   "cell_type": "code",
   "execution_count": 4,
   "metadata": {},
   "outputs": [
    {
     "name": "stdout",
     "output_type": "stream",
     "text": [
      "\n"
     ]
    },
    {
     "name": "stderr",
     "output_type": "stream",
     "text": [
      "\u001b[36mWrote /scratch/ucgd/lustre-labs/quinlan/data-shared/constraint-tools/CDTS/CDTS.gnomAD.hg38.noncoding.enhancer.BGS.intersect.gBGC.bed\u001b[0m\n",
      "\u001b[36mWrote /scratch/ucgd/lustre-labs/quinlan/data-shared/constraint-tools/CDTS/CDTS.gnomAD.hg38.noncoding.enhancer.BGS.gBGC.bed\u001b[0m\n"
     ]
    },
    {
     "data": {
      "text/html": [
       "<div><style>\n",
       ".dataframe > thead > tr,\n",
       ".dataframe > tbody > tr {\n",
       "  text-align: right;\n",
       "  white-space: pre-wrap;\n",
       "}\n",
       "</style>\n",
       "<small>shape: (193_455_936, 11)</small><table border=\"1\" class=\"dataframe\"><thead><tr><th>chromosome</th><th>start</th><th>end</th><th>observed_counts</th><th>expected_counts</th><th>observed_minus_expected</th><th>percentile_rank_of_observed_minus_expected</th><th>enhancer_overlap</th><th>window overlaps enhancer</th><th>B</th><th>B_M1star.EUR</th></tr><tr><td>str</td><td>i64</td><td>i64</td><td>i64</td><td>f64</td><td>f64</td><td>f64</td><td>i64</td><td>bool</td><td>f64</td><td>f64</td></tr></thead><tbody><tr><td>&quot;chr1&quot;</td><td>1382859</td><td>1383410</td><td>10</td><td>12.150556</td><td>-2.15056</td><td>30.844058</td><td>551</td><td>true</td><td>0.653</td><td>0.108103</td></tr><tr><td>&quot;chr1&quot;</td><td>1382869</td><td>1383420</td><td>10</td><td>12.163989</td><td>-2.16399</td><td>30.708951</td><td>551</td><td>true</td><td>0.653</td><td>0.108103</td></tr><tr><td>&quot;chr1&quot;</td><td>1382879</td><td>1383430</td><td>10</td><td>12.142615</td><td>-2.14261</td><td>30.923845</td><td>551</td><td>true</td><td>0.653</td><td>0.108103</td></tr><tr><td>&quot;chr1&quot;</td><td>1382889</td><td>1383440</td><td>9</td><td>12.162707</td><td>-3.16271</td><td>21.38556</td><td>551</td><td>true</td><td>0.653</td><td>0.108103</td></tr><tr><td>&quot;chr1&quot;</td><td>1382899</td><td>1383450</td><td>9</td><td>11.994043</td><td>-2.99404</td><td>22.8547</td><td>551</td><td>true</td><td>0.653</td><td>0.108103</td></tr><tr><td>&hellip;</td><td>&hellip;</td><td>&hellip;</td><td>&hellip;</td><td>&hellip;</td><td>&hellip;</td><td>&hellip;</td><td>&hellip;</td><td>&hellip;</td><td>&hellip;</td><td>&hellip;</td></tr><tr><td>&quot;chr17&quot;</td><td>58762584</td><td>58763135</td><td>16</td><td>16.767538</td><td>-0.767538</td><td>45.423107</td><td>null</td><td>false</td><td>0.536</td><td>0.226818</td></tr><tr><td>&quot;chr17&quot;</td><td>58762594</td><td>58763145</td><td>16</td><td>16.734729</td><td>-0.734729</td><td>45.776368</td><td>null</td><td>false</td><td>0.536</td><td>0.226818</td></tr><tr><td>&quot;chr17&quot;</td><td>58762604</td><td>58763155</td><td>16</td><td>16.730413</td><td>-0.730413</td><td>45.82294</td><td>null</td><td>false</td><td>0.536</td><td>0.226818</td></tr><tr><td>&quot;chr17&quot;</td><td>58762614</td><td>58763165</td><td>16</td><td>16.701082</td><td>-0.701082</td><td>46.137652</td><td>null</td><td>false</td><td>0.536</td><td>0.226818</td></tr><tr><td>&quot;chr17&quot;</td><td>58762624</td><td>58763175</td><td>16</td><td>16.738258</td><td>-0.738258</td><td>45.738397</td><td>null</td><td>false</td><td>0.536</td><td>0.226818</td></tr></tbody></table></div>"
      ],
      "text/plain": [
       "shape: (193_455_936, 11)\n",
       "┌────────────┬──────────┬──────────┬────────────┬───┬────────────┬────────────┬───────┬────────────┐\n",
       "│ chromosome ┆ start    ┆ end      ┆ observed_c ┆ … ┆ enhancer_o ┆ window     ┆ B     ┆ B_M1star.E │\n",
       "│ ---        ┆ ---      ┆ ---      ┆ ounts      ┆   ┆ verlap     ┆ overlaps   ┆ ---   ┆ UR         │\n",
       "│ str        ┆ i64      ┆ i64      ┆ ---        ┆   ┆ ---        ┆ enhancer   ┆ f64   ┆ ---        │\n",
       "│            ┆          ┆          ┆ i64        ┆   ┆ i64        ┆ ---        ┆       ┆ f64        │\n",
       "│            ┆          ┆          ┆            ┆   ┆            ┆ bool       ┆       ┆            │\n",
       "╞════════════╪══════════╪══════════╪════════════╪═══╪════════════╪════════════╪═══════╪════════════╡\n",
       "│ chr1       ┆ 1382859  ┆ 1383410  ┆ 10         ┆ … ┆ 551        ┆ true       ┆ 0.653 ┆ 0.108103   │\n",
       "│ chr1       ┆ 1382869  ┆ 1383420  ┆ 10         ┆ … ┆ 551        ┆ true       ┆ 0.653 ┆ 0.108103   │\n",
       "│ chr1       ┆ 1382879  ┆ 1383430  ┆ 10         ┆ … ┆ 551        ┆ true       ┆ 0.653 ┆ 0.108103   │\n",
       "│ chr1       ┆ 1382889  ┆ 1383440  ┆ 9          ┆ … ┆ 551        ┆ true       ┆ 0.653 ┆ 0.108103   │\n",
       "│ chr1       ┆ 1382899  ┆ 1383450  ┆ 9          ┆ … ┆ 551        ┆ true       ┆ 0.653 ┆ 0.108103   │\n",
       "│ …          ┆ …        ┆ …        ┆ …          ┆ … ┆ …          ┆ …          ┆ …     ┆ …          │\n",
       "│ chr17      ┆ 58762584 ┆ 58763135 ┆ 16         ┆ … ┆ null       ┆ false      ┆ 0.536 ┆ 0.226818   │\n",
       "│ chr17      ┆ 58762594 ┆ 58763145 ┆ 16         ┆ … ┆ null       ┆ false      ┆ 0.536 ┆ 0.226818   │\n",
       "│ chr17      ┆ 58762604 ┆ 58763155 ┆ 16         ┆ … ┆ null       ┆ false      ┆ 0.536 ┆ 0.226818   │\n",
       "│ chr17      ┆ 58762614 ┆ 58763165 ┆ 16         ┆ … ┆ null       ┆ false      ┆ 0.536 ┆ 0.226818   │\n",
       "│ chr17      ┆ 58762624 ┆ 58763175 ┆ 16         ┆ … ┆ null       ┆ false      ┆ 0.536 ┆ 0.226818   │\n",
       "└────────────┴──────────┴──────────┴────────────┴───┴────────────┴────────────┴───────┴────────────┘"
      ]
     },
     "execution_count": 4,
     "metadata": {},
     "output_type": "execute_result"
    }
   ],
   "source": [
    "# # assign gBGC coefficients to CDTS windows \n",
    "# intersect_and_aggregate(\n",
    "#     a_filename_stem = f'{CONSTRAINT_TOOLS_DATA}/CDTS/CDTS.gnomAD.hg38.noncoding.enhancer.BGS', \n",
    "#     b_filename = f'{CONSTRAINT_TOOLS_DATA}/GC-biased-gene-conversion/gBGC-coefficient.hg38.{POP}.header.bed', \n",
    "#     b_class = 'gBGC',\n",
    "#     b_features = [f'B_M1star.{POP}'], \n",
    "#     b_class_aggregation_functions = [pl.col(f'B_M1star.{POP}').mean()]\n",
    "# )   "
   ]
  },
  {
   "cell_type": "code",
   "execution_count": 6,
   "metadata": {},
   "outputs": [
    {
     "name": "stderr",
     "output_type": "stream",
     "text": [
      "\u001b[36mWrote /scratch/ucgd/lustre-labs/quinlan/data-shared/constraint-tools/CDTS/CDTS.gnomAD.hg38.noncoding.enhancer.BGS.gBGC.GC_content.bed\u001b[0m\n"
     ]
    },
    {
     "data": {
      "text/html": [
       "<div><style>\n",
       ".dataframe > thead > tr,\n",
       ".dataframe > tbody > tr {\n",
       "  text-align: right;\n",
       "  white-space: pre-wrap;\n",
       "}\n",
       "</style>\n",
       "<small>shape: (193_455_903, 12)</small><table border=\"1\" class=\"dataframe\"><thead><tr><th>chromosome</th><th>start</th><th>end</th><th>observed_counts</th><th>expected_counts</th><th>observed_minus_expected</th><th>percentile_rank_of_observed_minus_expected</th><th>enhancer_overlap</th><th>window overlaps enhancer</th><th>B</th><th>B_M1star.EUR</th><th>GC_content_1000bp</th></tr><tr><td>str</td><td>i64</td><td>i64</td><td>i64</td><td>f64</td><td>f64</td><td>f64</td><td>i64</td><td>bool</td><td>f64</td><td>f64</td><td>f64</td></tr></thead><tbody><tr><td>&quot;chr1&quot;</td><td>1382859</td><td>1383410</td><td>10</td><td>12.150556</td><td>-2.15056</td><td>30.844058</td><td>551</td><td>true</td><td>0.653</td><td>0.108103</td><td>0.499501</td></tr><tr><td>&quot;chr1&quot;</td><td>1382869</td><td>1383420</td><td>10</td><td>12.163989</td><td>-2.16399</td><td>30.708951</td><td>551</td><td>true</td><td>0.653</td><td>0.108103</td><td>0.498502</td></tr><tr><td>&quot;chr1&quot;</td><td>1382879</td><td>1383430</td><td>10</td><td>12.142615</td><td>-2.14261</td><td>30.923845</td><td>551</td><td>true</td><td>0.653</td><td>0.108103</td><td>0.502497</td></tr><tr><td>&quot;chr1&quot;</td><td>1382889</td><td>1383440</td><td>9</td><td>12.162707</td><td>-3.16271</td><td>21.38556</td><td>551</td><td>true</td><td>0.653</td><td>0.108103</td><td>0.504496</td></tr><tr><td>&quot;chr1&quot;</td><td>1382899</td><td>1383450</td><td>9</td><td>11.994043</td><td>-2.99404</td><td>22.8547</td><td>551</td><td>true</td><td>0.653</td><td>0.108103</td><td>0.504496</td></tr><tr><td>&hellip;</td><td>&hellip;</td><td>&hellip;</td><td>&hellip;</td><td>&hellip;</td><td>&hellip;</td><td>&hellip;</td><td>&hellip;</td><td>&hellip;</td><td>&hellip;</td><td>&hellip;</td><td>&hellip;</td></tr><tr><td>&quot;chr17&quot;</td><td>58762584</td><td>58763135</td><td>16</td><td>16.767538</td><td>-0.767538</td><td>45.423107</td><td>null</td><td>false</td><td>0.536</td><td>0.226818</td><td>0.421578</td></tr><tr><td>&quot;chr17&quot;</td><td>58762594</td><td>58763145</td><td>16</td><td>16.734729</td><td>-0.734729</td><td>45.776368</td><td>null</td><td>false</td><td>0.536</td><td>0.226818</td><td>0.420579</td></tr><tr><td>&quot;chr17&quot;</td><td>58762604</td><td>58763155</td><td>16</td><td>16.730413</td><td>-0.730413</td><td>45.82294</td><td>null</td><td>false</td><td>0.536</td><td>0.226818</td><td>0.417582</td></tr><tr><td>&quot;chr17&quot;</td><td>58762614</td><td>58763165</td><td>16</td><td>16.701082</td><td>-0.701082</td><td>46.137652</td><td>null</td><td>false</td><td>0.536</td><td>0.226818</td><td>0.414585</td></tr><tr><td>&quot;chr17&quot;</td><td>58762624</td><td>58763175</td><td>16</td><td>16.738258</td><td>-0.738258</td><td>45.738397</td><td>null</td><td>false</td><td>0.536</td><td>0.226818</td><td>0.412587</td></tr></tbody></table></div>"
      ],
      "text/plain": [
       "shape: (193_455_903, 12)\n",
       "┌────────────┬──────────┬──────────┬────────────┬───┬────────────┬───────┬────────────┬────────────┐\n",
       "│ chromosome ┆ start    ┆ end      ┆ observed_c ┆ … ┆ window     ┆ B     ┆ B_M1star.E ┆ GC_content │\n",
       "│ ---        ┆ ---      ┆ ---      ┆ ounts      ┆   ┆ overlaps   ┆ ---   ┆ UR         ┆ _1000bp    │\n",
       "│ str        ┆ i64      ┆ i64      ┆ ---        ┆   ┆ enhancer   ┆ f64   ┆ ---        ┆ ---        │\n",
       "│            ┆          ┆          ┆ i64        ┆   ┆ ---        ┆       ┆ f64        ┆ f64        │\n",
       "│            ┆          ┆          ┆            ┆   ┆ bool       ┆       ┆            ┆            │\n",
       "╞════════════╪══════════╪══════════╪════════════╪═══╪════════════╪═══════╪════════════╪════════════╡\n",
       "│ chr1       ┆ 1382859  ┆ 1383410  ┆ 10         ┆ … ┆ true       ┆ 0.653 ┆ 0.108103   ┆ 0.499501   │\n",
       "│ chr1       ┆ 1382869  ┆ 1383420  ┆ 10         ┆ … ┆ true       ┆ 0.653 ┆ 0.108103   ┆ 0.498502   │\n",
       "│ chr1       ┆ 1382879  ┆ 1383430  ┆ 10         ┆ … ┆ true       ┆ 0.653 ┆ 0.108103   ┆ 0.502497   │\n",
       "│ chr1       ┆ 1382889  ┆ 1383440  ┆ 9          ┆ … ┆ true       ┆ 0.653 ┆ 0.108103   ┆ 0.504496   │\n",
       "│ chr1       ┆ 1382899  ┆ 1383450  ┆ 9          ┆ … ┆ true       ┆ 0.653 ┆ 0.108103   ┆ 0.504496   │\n",
       "│ …          ┆ …        ┆ …        ┆ …          ┆ … ┆ …          ┆ …     ┆ …          ┆ …          │\n",
       "│ chr17      ┆ 58762584 ┆ 58763135 ┆ 16         ┆ … ┆ false      ┆ 0.536 ┆ 0.226818   ┆ 0.421578   │\n",
       "│ chr17      ┆ 58762594 ┆ 58763145 ┆ 16         ┆ … ┆ false      ┆ 0.536 ┆ 0.226818   ┆ 0.420579   │\n",
       "│ chr17      ┆ 58762604 ┆ 58763155 ┆ 16         ┆ … ┆ false      ┆ 0.536 ┆ 0.226818   ┆ 0.417582   │\n",
       "│ chr17      ┆ 58762614 ┆ 58763165 ┆ 16         ┆ … ┆ false      ┆ 0.536 ┆ 0.226818   ┆ 0.414585   │\n",
       "│ chr17      ┆ 58762624 ┆ 58763175 ┆ 16         ┆ … ┆ false      ┆ 0.536 ┆ 0.226818   ┆ 0.412587   │\n",
       "└────────────┴──────────┴──────────┴────────────┴───┴────────────┴───────┴────────────┴────────────┘"
      ]
     },
     "execution_count": 6,
     "metadata": {},
     "output_type": "execute_result"
    }
   ],
   "source": [
    "def read(gc_window_size): \n",
    "    df = pl.read_csv(\n",
    "        f'{CONSTRAINT_TOOLS_DATA}/CDTS/CDTS.gnomAD.hg38.noncoding.GC_content_{gc_window_size}.bed',\n",
    "        separator='\\t',\n",
    "        infer_schema_length=1000000\n",
    "    )\n",
    "    df = df.select(pl.col(\n",
    "        \"CDTS_window_chrom\",\n",
    "        \"CDTS_window_start\",\n",
    "        \"CDTS_window_end\", \n",
    "        \"GC_window__GC_content\"\n",
    "    ))\n",
    "    df = df.rename({\"GC_window__GC_content\": f'GC_content_{gc_window_size}bp'})\n",
    "    return df\n",
    "\n",
    "def assign_GC_to_CDTS_windows():\n",
    "    df = pl.read_csv(\n",
    "        f'{CONSTRAINT_TOOLS_DATA}/CDTS/CDTS.gnomAD.hg38.noncoding.enhancer.BGS.gBGC.bed', \n",
    "        separator='\\t',\n",
    "        infer_schema_length=1000000\n",
    "    )\n",
    "\n",
    "    for df_gc in [read(gc_window_size) for gc_window_size in [1000]]: \n",
    "        df = df.join(\n",
    "            df_gc, \n",
    "            left_on=['chromosome', 'start', 'end'],\n",
    "            right_on=[\"CDTS_window_chrom\", \"CDTS_window_start\", \"CDTS_window_end\"], \n",
    "            how='inner'\n",
    "        )\n",
    "\n",
    "    df = df.unique(subset=['chromosome', 'start', 'end'], keep='first', maintain_order=True)\n",
    "\n",
    "    output_filename = f'{CONSTRAINT_TOOLS_DATA}/CDTS/CDTS.gnomAD.hg38.noncoding.enhancer.BGS.gBGC.GC_content.bed'\n",
    "    df.write_csv(output_filename, separator='\\t')\n",
    "    print_string_as_info(f'Wrote {output_filename}')\n",
    "    \n",
    "    return df \n",
    "\n",
    "assign_GC_to_CDTS_windows()"
   ]
  }
 ],
 "metadata": {
  "kernelspec": {
   "display_name": "constraint-tools",
   "language": "python",
   "name": "python3"
  },
  "language_info": {
   "codemirror_mode": {
    "name": "ipython",
    "version": 3
   },
   "file_extension": ".py",
   "mimetype": "text/x-python",
   "name": "python",
   "nbconvert_exporter": "python",
   "pygments_lexer": "ipython3",
   "version": "3.9.0"
  }
 },
 "nbformat": 4,
 "nbformat_minor": 2
}
