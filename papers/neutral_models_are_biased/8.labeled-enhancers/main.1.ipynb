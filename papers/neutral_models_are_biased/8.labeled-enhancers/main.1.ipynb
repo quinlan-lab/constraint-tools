{
 "cells": [
  {
   "cell_type": "markdown",
   "metadata": {},
   "source": [
    "## Note on Khurana enhancer set as a positive set"
   ]
  },
  {
   "cell_type": "code",
   "execution_count": 1,
   "metadata": {},
   "outputs": [],
   "source": [
    "# Khurana has a set of disease enhancers, and enhancers that she predicts to be intolerant to deletion, but the size of the set is small (100s): \n",
    "# /scratch/ucgd/lustre-labs/quinlan/u6018199/constraint-tools/download-process-data/khurana"
   ]
  },
  {
   "cell_type": "markdown",
   "metadata": {},
   "source": [
    "## Preliminary Workflow for \"labeled\" enhancers\n",
    "\n",
    "\"Labeled\" enhancers are defined at: https://docs.google.com/presentation/d/1qw3QiWVHSqYA2f4QoahE8FHZPisIftp-tCUWTODjnDY/edit#slide=id.p"
   ]
  },
  {
   "cell_type": "code",
   "execution_count": 2,
   "metadata": {},
   "outputs": [],
   "source": [
    "# 1. computed GC-content for labeled enhancers: \n",
    "#    papers/neutral_models_are_biased/8.labeled-enhancers/compute-GC-content-for-all-window-sizes-based-on-labeled-enhancers.sh"
   ]
  },
  {
   "cell_type": "markdown",
   "metadata": {},
   "source": [
    "## Assign BGS, gBGC, GC_content to \"labeled\" enhancers"
   ]
  },
  {
   "cell_type": "code",
   "execution_count": 3,
   "metadata": {},
   "outputs": [],
   "source": [
    "CONSTRAINT_TOOLS = '/scratch/ucgd/lustre-labs/quinlan/u6018199/constraint-tools'\n",
    "CONSTRAINT_TOOLS_DATA = '/scratch/ucgd/lustre-labs/quinlan/data-shared/constraint-tools'\n",
    "\n",
    "import sys\n",
    "sys.path.append(f'{CONSTRAINT_TOOLS}/utilities')\n",
    "\n",
    "POP = 'EUR'\n",
    "GC_WINDOW_SIZE = 1000"
   ]
  },
  {
   "cell_type": "code",
   "execution_count": 4,
   "metadata": {},
   "outputs": [],
   "source": [
    "import polars as pl \n",
    "\n",
    "from shell import shell \n",
    "from colorize import print_string_as_info\n",
    "from aggregate import aggregate_polars\n",
    "\n",
    "def get_header(filename):\n",
    "  with open(filename) as fh: \n",
    "    header = fh.readline().strip().split('\\t')\n",
    "  return header\n",
    "\n",
    "def intersect(a_filename, b_filename, intersect_filename, b_class): \n",
    "  cmd = (\n",
    "    f'bedtools intersect'\n",
    "    f\" -a <(tail -n +2 {a_filename})\" # contains header\n",
    "    f\" -b <(tail -n +2 {b_filename})\" # contains header\n",
    "    f' -wao -f 0.5' \n",
    "    f' > {intersect_filename}'\n",
    "  )\n",
    "  shell(cmd) \n",
    "  print_string_as_info(f'Wrote {intersect_filename}')\n",
    "\n",
    "  a_file_header = get_header(a_filename) # contains header\n",
    "  b_file_header = get_header(b_filename) # contains header\n",
    "  b_file_header = [f'{b_class}_{field}' for field in b_file_header[:3]] + b_file_header[3:]\n",
    "\n",
    "  return a_file_header, b_file_header\n",
    "\n",
    "def make_scores_numeric(df: pl.DataFrame, b_class: str, b_features: list) -> pl.DataFrame:\n",
    "    # we don't want to include windows that don't overlap any windows with b_feature values\n",
    "    df = df.filter(pl.col(f'{b_class}_chromosome') != '.')\n",
    "\n",
    "    # having removed records where 'b_class_chromosome' is '.', \n",
    "    # we can now convert the 'b_features' columns to floats\n",
    "    for b_feature in b_features:\n",
    "        df = df.filter(pl.col(b_feature) != '.') # gBGC values are floats, but some are missing\n",
    "        df = df.with_columns(pl.col(b_feature).cast(pl.Float64))\n",
    "\n",
    "    return df\n",
    "\n",
    "def intersect_and_aggregate(a_filename_stem, b_filename, b_class, b_features, b_class_aggregation_functions): \n",
    "  a_filename = f'{a_filename_stem}.bed'\n",
    "  intersect_filename = f'{a_filename_stem}.intersect.{b_class}.bed'\n",
    "\n",
    "  a_file_header, b_file_header = intersect(a_filename, b_filename, intersect_filename, b_class)\n",
    "\n",
    "  df = pl.read_csv(\n",
    "    intersect_filename, \n",
    "    separator='\\t',\n",
    "    new_columns=a_file_header + b_file_header + [f'labeledEnhancer_{b_class}Window_overlap'],\n",
    "    infer_schema_length=1000000\n",
    "  )\n",
    "\n",
    "  df = make_scores_numeric(df, b_class, b_features) \n",
    "\n",
    "  # some labeled enhancers may intersect multiple b_feature-windows, \n",
    "  # so let's group by labeled enhancer, and aggregate scores over all b_feature-windows in the group\n",
    "  df = aggregate_polars(\n",
    "    df, \n",
    "    group_columns = a_file_header,\n",
    "    aggregation_functions = b_class_aggregation_functions\n",
    "  )\n",
    "\n",
    "  df.write_csv(\n",
    "    f'{a_filename_stem}.{b_class}.bed',\n",
    "    separator='\\t',\n",
    "  )\n",
    "\n",
    "  print_string_as_info(f'Wrote {a_filename_stem}.{b_class}.bed')\n",
    "\n",
    "  return df "
   ]
  },
  {
   "cell_type": "code",
   "execution_count": 5,
   "metadata": {},
   "outputs": [
    {
     "name": "stdout",
     "output_type": "stream",
     "text": [
      "\n"
     ]
    },
    {
     "name": "stderr",
     "output_type": "stream",
     "text": [
      "\u001b[36mWrote /scratch/ucgd/lustre-labs/quinlan/data-shared/constraint-tools/benchmark-genome-wide-predictions/chen-et-al-2022/labeled-enhancers.gnocchi.GC.intersect.BGS.bed\u001b[0m\n",
      "\u001b[36mWrote /scratch/ucgd/lustre-labs/quinlan/data-shared/constraint-tools/benchmark-genome-wide-predictions/chen-et-al-2022/labeled-enhancers.gnocchi.GC.BGS.bed\u001b[0m\n"
     ]
    },
    {
     "data": {
      "text/html": [
       "<div><style>\n",
       ".dataframe > thead > tr,\n",
       ".dataframe > tbody > tr {\n",
       "  text-align: right;\n",
       "  white-space: pre-wrap;\n",
       "}\n",
       "</style>\n",
       "<small>shape: (3_969, 17)</small><table border=\"1\" class=\"dataframe\"><thead><tr><th>enhancer_chrom</th><th>enhancer_start</th><th>enhancer_end</th><th>gene</th><th>enhancer</th><th>Haploinsufficient</th><th>MGI essential</th><th>OMIM dominant</th><th>LOEUF constrained</th><th>Olfactory</th><th>LOEUF unconstrained</th><th>max chen_score</th><th>max corrected_chen_score</th><th>max filtered_chen_score</th><th>mean window_GC_content</th><th>truly constrained</th><th>B</th></tr><tr><td>str</td><td>i64</td><td>i64</td><td>str</td><td>str</td><td>bool</td><td>bool</td><td>bool</td><td>bool</td><td>bool</td><td>bool</td><td>f64</td><td>f64</td><td>f64</td><td>f64</td><td>bool</td><td>f64</td></tr></thead><tbody><tr><td>&quot;chr1&quot;</td><td>1536220</td><td>1537020</td><td>&quot;TMEM240&quot;</td><td>&quot;chr1-1536220-1537020&quot;</td><td>false</td><td>false</td><td>true</td><td>false</td><td>false</td><td>false</td><td>5.401829</td><td>1.029468</td><td>3.238727</td><td>0.570806</td><td>true</td><td>0.651</td></tr><tr><td>&quot;chr1&quot;</td><td>1554620</td><td>1555020</td><td>&quot;ATAD3A&quot;</td><td>&quot;chr1-1554620-1555020&quot;</td><td>false</td><td>false</td><td>true</td><td>false</td><td>false</td><td>false</td><td>4.059724</td><td>0.304463</td><td>1.584306</td><td>0.569781</td><td>true</td><td>0.652</td></tr><tr><td>&quot;chr1&quot;</td><td>2128961</td><td>2129161</td><td>&quot;GABRD&quot;</td><td>&quot;chr1-2128961-2129161&quot;</td><td>false</td><td>true</td><td>true</td><td>true</td><td>false</td><td>false</td><td>3.499737</td><td>0.045254</td><td>3.531299</td><td>0.565593</td><td>true</td><td>0.841</td></tr><tr><td>&quot;chr1&quot;</td><td>2268561</td><td>2268761</td><td>&quot;SKI&quot;</td><td>&quot;chr1-2268561-2268761&quot;</td><td>false</td><td>true</td><td>true</td><td>true</td><td>false</td><td>false</td><td>5.007183</td><td>1.077828</td><td>2.657948</td><td>0.547951</td><td>true</td><td>0.847</td></tr><tr><td>&quot;chr1&quot;</td><td>2545161</td><td>2545361</td><td>&quot;PANK4&quot;</td><td>&quot;chr1-2545161-2545361&quot;</td><td>false</td><td>false</td><td>true</td><td>false</td><td>false</td><td>false</td><td>2.775673</td><td>-0.264937</td><td>3.898165</td><td>0.557988</td><td>true</td><td>0.84</td></tr><tr><td>&hellip;</td><td>&hellip;</td><td>&hellip;</td><td>&hellip;</td><td>&hellip;</td><td>&hellip;</td><td>&hellip;</td><td>&hellip;</td><td>&hellip;</td><td>&hellip;</td><td>&hellip;</td><td>&hellip;</td><td>&hellip;</td><td>&hellip;</td><td>&hellip;</td><td>&hellip;</td><td>&hellip;</td></tr><tr><td>&quot;chr9&quot;</td><td>122572921</td><td>122573121</td><td>&quot;OR1Q1&quot;</td><td>&quot;chr9-122572921-122573121&quot;</td><td>false</td><td>false</td><td>false</td><td>false</td><td>true</td><td>false</td><td>2.41359</td><td>1.139482</td><td>1.717825</td><td>0.419903</td><td>false</td><td>0.904</td></tr><tr><td>&quot;chr9&quot;</td><td>122807921</td><td>122808121</td><td>&quot;OR1L4&quot;</td><td>&quot;chr9-122807921-122808121&quot;</td><td>false</td><td>false</td><td>false</td><td>false</td><td>true</td><td>false</td><td>1.049799</td><td>0.530994</td><td>1.290332</td><td>0.407189</td><td>false</td><td>0.672</td></tr><tr><td>&quot;chr9&quot;</td><td>122807921</td><td>122808721</td><td>&quot;OR1L3&quot;</td><td>&quot;chr9-122807921-122808721&quot;</td><td>false</td><td>false</td><td>false</td><td>false</td><td>true</td><td>false</td><td>1.049799</td><td>0.530994</td><td>1.290332</td><td>0.407189</td><td>false</td><td>0.672</td></tr><tr><td>&quot;chr9&quot;</td><td>134922954</td><td>134923154</td><td>&quot;FCN1&quot;</td><td>&quot;chr9-134922954-134923154&quot;</td><td>false</td><td>false</td><td>false</td><td>false</td><td>false</td><td>true</td><td>1.5286</td><td>-0.70674</td><td>1.196153</td><td>0.536773</td><td>false</td><td>0.973</td></tr><tr><td>&quot;chr9&quot;</td><td>137056348</td><td>137056748</td><td>&quot;C8G&quot;</td><td>&quot;chr9-137056348-137056748&quot;</td><td>false</td><td>false</td><td>false</td><td>false</td><td>false</td><td>true</td><td>1.791253</td><td>-1.153519</td><td>1.921103</td><td>0.588361</td><td>false</td><td>0.555</td></tr></tbody></table></div>"
      ],
      "text/plain": [
       "shape: (3_969, 17)\n",
       "┌────────────┬────────────┬────────────┬─────────┬───┬────────────┬────────────┬───────────┬───────┐\n",
       "│ enhancer_c ┆ enhancer_s ┆ enhancer_e ┆ gene    ┆ … ┆ max filter ┆ mean windo ┆ truly con ┆ B     │\n",
       "│ hrom       ┆ tart       ┆ nd         ┆ ---     ┆   ┆ ed_chen_sc ┆ w_GC_conte ┆ strained  ┆ ---   │\n",
       "│ ---        ┆ ---        ┆ ---        ┆ str     ┆   ┆ ore        ┆ nt         ┆ ---       ┆ f64   │\n",
       "│ str        ┆ i64        ┆ i64        ┆         ┆   ┆ ---        ┆ ---        ┆ bool      ┆       │\n",
       "│            ┆            ┆            ┆         ┆   ┆ f64        ┆ f64        ┆           ┆       │\n",
       "╞════════════╪════════════╪════════════╪═════════╪═══╪════════════╪════════════╪═══════════╪═══════╡\n",
       "│ chr1       ┆ 1536220    ┆ 1537020    ┆ TMEM240 ┆ … ┆ 3.238727   ┆ 0.570806   ┆ true      ┆ 0.651 │\n",
       "│ chr1       ┆ 1554620    ┆ 1555020    ┆ ATAD3A  ┆ … ┆ 1.584306   ┆ 0.569781   ┆ true      ┆ 0.652 │\n",
       "│ chr1       ┆ 2128961    ┆ 2129161    ┆ GABRD   ┆ … ┆ 3.531299   ┆ 0.565593   ┆ true      ┆ 0.841 │\n",
       "│ chr1       ┆ 2268561    ┆ 2268761    ┆ SKI     ┆ … ┆ 2.657948   ┆ 0.547951   ┆ true      ┆ 0.847 │\n",
       "│ chr1       ┆ 2545161    ┆ 2545361    ┆ PANK4   ┆ … ┆ 3.898165   ┆ 0.557988   ┆ true      ┆ 0.84  │\n",
       "│ …          ┆ …          ┆ …          ┆ …       ┆ … ┆ …          ┆ …          ┆ …         ┆ …     │\n",
       "│ chr9       ┆ 122572921  ┆ 122573121  ┆ OR1Q1   ┆ … ┆ 1.717825   ┆ 0.419903   ┆ false     ┆ 0.904 │\n",
       "│ chr9       ┆ 122807921  ┆ 122808121  ┆ OR1L4   ┆ … ┆ 1.290332   ┆ 0.407189   ┆ false     ┆ 0.672 │\n",
       "│ chr9       ┆ 122807921  ┆ 122808721  ┆ OR1L3   ┆ … ┆ 1.290332   ┆ 0.407189   ┆ false     ┆ 0.672 │\n",
       "│ chr9       ┆ 134922954  ┆ 134923154  ┆ FCN1    ┆ … ┆ 1.196153   ┆ 0.536773   ┆ false     ┆ 0.973 │\n",
       "│ chr9       ┆ 137056348  ┆ 137056748  ┆ C8G     ┆ … ┆ 1.921103   ┆ 0.588361   ┆ false     ┆ 0.555 │\n",
       "└────────────┴────────────┴────────────┴─────────┴───┴────────────┴────────────┴───────────┴───────┘"
      ]
     },
     "execution_count": 5,
     "metadata": {},
     "output_type": "execute_result"
    }
   ],
   "source": [
    "# assign BGS values to labeled enhancers \n",
    "intersect_and_aggregate(\n",
    "    a_filename_stem = f'{CONSTRAINT_TOOLS_DATA}/benchmark-genome-wide-predictions/chen-et-al-2022/labeled-enhancers.gnocchi.GC', \n",
    "    b_filename = f'{CONSTRAINT_TOOLS_DATA}/background-selection/CADD-B-map/bmap.hg38.header.bed', \n",
    "    b_class = 'BGS',\n",
    "    b_features = ['B'], \n",
    "    b_class_aggregation_functions = [pl.col('B').min()] \n",
    ")   "
   ]
  },
  {
   "cell_type": "code",
   "execution_count": 6,
   "metadata": {},
   "outputs": [
    {
     "name": "stdout",
     "output_type": "stream",
     "text": [
      "\n"
     ]
    },
    {
     "name": "stderr",
     "output_type": "stream",
     "text": [
      "\u001b[36mWrote /scratch/ucgd/lustre-labs/quinlan/data-shared/constraint-tools/benchmark-genome-wide-predictions/chen-et-al-2022/labeled-enhancers.gnocchi.GC.BGS.intersect.gBGC.bed\u001b[0m\n",
      "\u001b[36mWrote /scratch/ucgd/lustre-labs/quinlan/data-shared/constraint-tools/benchmark-genome-wide-predictions/chen-et-al-2022/labeled-enhancers.gnocchi.GC.BGS.gBGC.bed\u001b[0m\n"
     ]
    },
    {
     "data": {
      "text/html": [
       "<div><style>\n",
       ".dataframe > thead > tr,\n",
       ".dataframe > tbody > tr {\n",
       "  text-align: right;\n",
       "  white-space: pre-wrap;\n",
       "}\n",
       "</style>\n",
       "<small>shape: (3_920, 18)</small><table border=\"1\" class=\"dataframe\"><thead><tr><th>enhancer_chrom</th><th>enhancer_start</th><th>enhancer_end</th><th>gene</th><th>enhancer</th><th>Haploinsufficient</th><th>MGI essential</th><th>OMIM dominant</th><th>LOEUF constrained</th><th>Olfactory</th><th>LOEUF unconstrained</th><th>max chen_score</th><th>max corrected_chen_score</th><th>max filtered_chen_score</th><th>mean window_GC_content</th><th>truly constrained</th><th>B</th><th>B_M1star.EUR</th></tr><tr><td>str</td><td>i64</td><td>i64</td><td>str</td><td>str</td><td>bool</td><td>bool</td><td>bool</td><td>bool</td><td>bool</td><td>bool</td><td>f64</td><td>f64</td><td>f64</td><td>f64</td><td>bool</td><td>f64</td><td>f64</td></tr></thead><tbody><tr><td>&quot;chr1&quot;</td><td>1554620</td><td>1555020</td><td>&quot;ATAD3A&quot;</td><td>&quot;chr1-1554620-1555020&quot;</td><td>false</td><td>false</td><td>true</td><td>false</td><td>false</td><td>false</td><td>4.059724</td><td>0.304463</td><td>1.584306</td><td>0.569781</td><td>true</td><td>0.652</td><td>0.108103</td></tr><tr><td>&quot;chr1&quot;</td><td>2128961</td><td>2129161</td><td>&quot;GABRD&quot;</td><td>&quot;chr1-2128961-2129161&quot;</td><td>false</td><td>true</td><td>true</td><td>true</td><td>false</td><td>false</td><td>3.499737</td><td>0.045254</td><td>3.531299</td><td>0.565593</td><td>true</td><td>0.841</td><td>0.347981</td></tr><tr><td>&quot;chr1&quot;</td><td>2268561</td><td>2268761</td><td>&quot;SKI&quot;</td><td>&quot;chr1-2268561-2268761&quot;</td><td>false</td><td>true</td><td>true</td><td>true</td><td>false</td><td>false</td><td>5.007183</td><td>1.077828</td><td>2.657948</td><td>0.547951</td><td>true</td><td>0.847</td><td>0.347981</td></tr><tr><td>&quot;chr1&quot;</td><td>2545161</td><td>2545361</td><td>&quot;PANK4&quot;</td><td>&quot;chr1-2545161-2545361&quot;</td><td>false</td><td>false</td><td>true</td><td>false</td><td>false</td><td>false</td><td>2.775673</td><td>-0.264937</td><td>3.898165</td><td>0.557988</td><td>true</td><td>0.84</td><td>0.347981</td></tr><tr><td>&quot;chr1&quot;</td><td>3208836</td><td>3209036</td><td>&quot;PRDM16&quot;</td><td>&quot;chr1-3208836-3209036&quot;</td><td>false</td><td>true</td><td>true</td><td>true</td><td>false</td><td>false</td><td>6.07048</td><td>1.56976</td><td>4.124261</td><td>0.555916</td><td>true</td><td>0.966</td><td>0.788536</td></tr><tr><td>&hellip;</td><td>&hellip;</td><td>&hellip;</td><td>&hellip;</td><td>&hellip;</td><td>&hellip;</td><td>&hellip;</td><td>&hellip;</td><td>&hellip;</td><td>&hellip;</td><td>&hellip;</td><td>&hellip;</td><td>&hellip;</td><td>&hellip;</td><td>&hellip;</td><td>&hellip;</td><td>&hellip;</td><td>&hellip;</td></tr><tr><td>&quot;chr9&quot;</td><td>122562521</td><td>122562921</td><td>&quot;OR1B1&quot;</td><td>&quot;chr9-122562521-122562921&quot;</td><td>false</td><td>false</td><td>false</td><td>false</td><td>true</td><td>false</td><td>2.900355</td><td>1.400654</td><td>1.928357</td><td>0.420672</td><td>false</td><td>0.864</td><td>0.033174</td></tr><tr><td>&quot;chr9&quot;</td><td>122572921</td><td>122573121</td><td>&quot;OR1Q1&quot;</td><td>&quot;chr9-122572921-122573121&quot;</td><td>false</td><td>false</td><td>false</td><td>false</td><td>true</td><td>false</td><td>2.41359</td><td>1.139482</td><td>1.717825</td><td>0.419903</td><td>false</td><td>0.904</td><td>0.033174</td></tr><tr><td>&quot;chr9&quot;</td><td>122807921</td><td>122808121</td><td>&quot;OR1L4&quot;</td><td>&quot;chr9-122807921-122808121&quot;</td><td>false</td><td>false</td><td>false</td><td>false</td><td>true</td><td>false</td><td>1.049799</td><td>0.530994</td><td>1.290332</td><td>0.407189</td><td>false</td><td>0.672</td><td>0.033174</td></tr><tr><td>&quot;chr9&quot;</td><td>122807921</td><td>122808721</td><td>&quot;OR1L3&quot;</td><td>&quot;chr9-122807921-122808721&quot;</td><td>false</td><td>false</td><td>false</td><td>false</td><td>true</td><td>false</td><td>1.049799</td><td>0.530994</td><td>1.290332</td><td>0.407189</td><td>false</td><td>0.672</td><td>0.033174</td></tr><tr><td>&quot;chr9&quot;</td><td>137056348</td><td>137056748</td><td>&quot;C8G&quot;</td><td>&quot;chr9-137056348-137056748&quot;</td><td>false</td><td>false</td><td>false</td><td>false</td><td>false</td><td>true</td><td>1.791253</td><td>-1.153519</td><td>1.921103</td><td>0.588361</td><td>false</td><td>0.555</td><td>0.165515</td></tr></tbody></table></div>"
      ],
      "text/plain": [
       "shape: (3_920, 18)\n",
       "┌────────────┬────────────┬────────────┬────────┬───┬────────────┬────────────┬───────┬────────────┐\n",
       "│ enhancer_c ┆ enhancer_s ┆ enhancer_e ┆ gene   ┆ … ┆ mean windo ┆ truly cons ┆ B     ┆ B_M1star.E │\n",
       "│ hrom       ┆ tart       ┆ nd         ┆ ---    ┆   ┆ w_GC_conte ┆ trained    ┆ ---   ┆ UR         │\n",
       "│ ---        ┆ ---        ┆ ---        ┆ str    ┆   ┆ nt         ┆ ---        ┆ f64   ┆ ---        │\n",
       "│ str        ┆ i64        ┆ i64        ┆        ┆   ┆ ---        ┆ bool       ┆       ┆ f64        │\n",
       "│            ┆            ┆            ┆        ┆   ┆ f64        ┆            ┆       ┆            │\n",
       "╞════════════╪════════════╪════════════╪════════╪═══╪════════════╪════════════╪═══════╪════════════╡\n",
       "│ chr1       ┆ 1554620    ┆ 1555020    ┆ ATAD3A ┆ … ┆ 0.569781   ┆ true       ┆ 0.652 ┆ 0.108103   │\n",
       "│ chr1       ┆ 2128961    ┆ 2129161    ┆ GABRD  ┆ … ┆ 0.565593   ┆ true       ┆ 0.841 ┆ 0.347981   │\n",
       "│ chr1       ┆ 2268561    ┆ 2268761    ┆ SKI    ┆ … ┆ 0.547951   ┆ true       ┆ 0.847 ┆ 0.347981   │\n",
       "│ chr1       ┆ 2545161    ┆ 2545361    ┆ PANK4  ┆ … ┆ 0.557988   ┆ true       ┆ 0.84  ┆ 0.347981   │\n",
       "│ chr1       ┆ 3208836    ┆ 3209036    ┆ PRDM16 ┆ … ┆ 0.555916   ┆ true       ┆ 0.966 ┆ 0.788536   │\n",
       "│ …          ┆ …          ┆ …          ┆ …      ┆ … ┆ …          ┆ …          ┆ …     ┆ …          │\n",
       "│ chr9       ┆ 122562521  ┆ 122562921  ┆ OR1B1  ┆ … ┆ 0.420672   ┆ false      ┆ 0.864 ┆ 0.033174   │\n",
       "│ chr9       ┆ 122572921  ┆ 122573121  ┆ OR1Q1  ┆ … ┆ 0.419903   ┆ false      ┆ 0.904 ┆ 0.033174   │\n",
       "│ chr9       ┆ 122807921  ┆ 122808121  ┆ OR1L4  ┆ … ┆ 0.407189   ┆ false      ┆ 0.672 ┆ 0.033174   │\n",
       "│ chr9       ┆ 122807921  ┆ 122808721  ┆ OR1L3  ┆ … ┆ 0.407189   ┆ false      ┆ 0.672 ┆ 0.033174   │\n",
       "│ chr9       ┆ 137056348  ┆ 137056748  ┆ C8G    ┆ … ┆ 0.588361   ┆ false      ┆ 0.555 ┆ 0.165515   │\n",
       "└────────────┴────────────┴────────────┴────────┴───┴────────────┴────────────┴───────┴────────────┘"
      ]
     },
     "execution_count": 6,
     "metadata": {},
     "output_type": "execute_result"
    }
   ],
   "source": [
    "# assign gBGC coefficients to labeled enhancers\n",
    "intersect_and_aggregate(\n",
    "    a_filename_stem = f'{CONSTRAINT_TOOLS_DATA}/benchmark-genome-wide-predictions/chen-et-al-2022/labeled-enhancers.gnocchi.GC.BGS', \n",
    "    b_filename = f'{CONSTRAINT_TOOLS_DATA}/GC-biased-gene-conversion/gBGC-coefficient.hg38.{POP}.header.bed', \n",
    "    b_class = 'gBGC',\n",
    "    b_features = [f'B_M1star.{POP}'], \n",
    "    b_class_aggregation_functions = [pl.col(f'B_M1star.{POP}').mean()]\n",
    ")   "
   ]
  },
  {
   "cell_type": "code",
   "execution_count": 7,
   "metadata": {},
   "outputs": [
    {
     "name": "stderr",
     "output_type": "stream",
     "text": [
      "\u001b[36mWrote /scratch/ucgd/lustre-labs/quinlan/data-shared/constraint-tools/labeled-enhancers/labeled-enhancers.BGS.gBGC.GC_content.bed\u001b[0m\n"
     ]
    },
    {
     "data": {
      "text/html": [
       "<div><style>\n",
       ".dataframe > thead > tr,\n",
       ".dataframe > tbody > tr {\n",
       "  text-align: right;\n",
       "  white-space: pre-wrap;\n",
       "}\n",
       "</style>\n",
       "<small>shape: (3_882, 15)</small><table border=\"1\" class=\"dataframe\"><thead><tr><th>enhancer_chrom</th><th>enhancer_start</th><th>enhancer_end</th><th>gene</th><th>enhancer</th><th>Haploinsufficient</th><th>MGI essential</th><th>OMIM dominant</th><th>LOEUF constrained</th><th>Olfactory</th><th>LOEUF unconstrained</th><th>truly constrained</th><th>B</th><th>B_M1star.EUR</th><th>GC_content_1000bp</th></tr><tr><td>str</td><td>i64</td><td>i64</td><td>str</td><td>str</td><td>bool</td><td>bool</td><td>bool</td><td>bool</td><td>bool</td><td>bool</td><td>bool</td><td>f64</td><td>f64</td><td>f64</td></tr></thead><tbody><tr><td>&quot;chr1&quot;</td><td>1554620</td><td>1555020</td><td>&quot;ATAD3A&quot;</td><td>&quot;chr1-1554620-1555020&quot;</td><td>false</td><td>false</td><td>true</td><td>false</td><td>false</td><td>false</td><td>true</td><td>0.652</td><td>0.108103</td><td>0.606394</td></tr><tr><td>&quot;chr1&quot;</td><td>2128961</td><td>2129161</td><td>&quot;GABRD&quot;</td><td>&quot;chr1-2128961-2129161&quot;</td><td>false</td><td>true</td><td>true</td><td>true</td><td>false</td><td>false</td><td>true</td><td>0.841</td><td>0.347981</td><td>0.585415</td></tr><tr><td>&quot;chr1&quot;</td><td>2268561</td><td>2268761</td><td>&quot;SKI&quot;</td><td>&quot;chr1-2268561-2268761&quot;</td><td>false</td><td>true</td><td>true</td><td>true</td><td>false</td><td>false</td><td>true</td><td>0.847</td><td>0.347981</td><td>0.602398</td></tr><tr><td>&quot;chr1&quot;</td><td>2545161</td><td>2545361</td><td>&quot;PANK4&quot;</td><td>&quot;chr1-2545161-2545361&quot;</td><td>false</td><td>false</td><td>true</td><td>false</td><td>false</td><td>false</td><td>true</td><td>0.84</td><td>0.347981</td><td>0.64036</td></tr><tr><td>&quot;chr1&quot;</td><td>3208836</td><td>3209036</td><td>&quot;PRDM16&quot;</td><td>&quot;chr1-3208836-3209036&quot;</td><td>false</td><td>true</td><td>true</td><td>true</td><td>false</td><td>false</td><td>true</td><td>0.966</td><td>0.788536</td><td>0.525475</td></tr><tr><td>&hellip;</td><td>&hellip;</td><td>&hellip;</td><td>&hellip;</td><td>&hellip;</td><td>&hellip;</td><td>&hellip;</td><td>&hellip;</td><td>&hellip;</td><td>&hellip;</td><td>&hellip;</td><td>&hellip;</td><td>&hellip;</td><td>&hellip;</td><td>&hellip;</td></tr><tr><td>&quot;chr9&quot;</td><td>122562521</td><td>122562921</td><td>&quot;OR1B1&quot;</td><td>&quot;chr9-122562521-122562921&quot;</td><td>false</td><td>false</td><td>false</td><td>false</td><td>true</td><td>false</td><td>false</td><td>0.864</td><td>0.033174</td><td>0.460539</td></tr><tr><td>&quot;chr9&quot;</td><td>122572921</td><td>122573121</td><td>&quot;OR1Q1&quot;</td><td>&quot;chr9-122572921-122573121&quot;</td><td>false</td><td>false</td><td>false</td><td>false</td><td>true</td><td>false</td><td>false</td><td>0.904</td><td>0.033174</td><td>0.431568</td></tr><tr><td>&quot;chr9&quot;</td><td>122807921</td><td>122808121</td><td>&quot;OR1L4&quot;</td><td>&quot;chr9-122807921-122808121&quot;</td><td>false</td><td>false</td><td>false</td><td>false</td><td>true</td><td>false</td><td>false</td><td>0.672</td><td>0.033174</td><td>0.466533</td></tr><tr><td>&quot;chr9&quot;</td><td>122807921</td><td>122808721</td><td>&quot;OR1L3&quot;</td><td>&quot;chr9-122807921-122808721&quot;</td><td>false</td><td>false</td><td>false</td><td>false</td><td>true</td><td>false</td><td>false</td><td>0.672</td><td>0.033174</td><td>0.478521</td></tr><tr><td>&quot;chr9&quot;</td><td>137056348</td><td>137056748</td><td>&quot;C8G&quot;</td><td>&quot;chr9-137056348-137056748&quot;</td><td>false</td><td>false</td><td>false</td><td>false</td><td>false</td><td>true</td><td>false</td><td>0.555</td><td>0.165515</td><td>0.553447</td></tr></tbody></table></div>"
      ],
      "text/plain": [
       "shape: (3_882, 15)\n",
       "┌────────────┬────────────┬────────────┬────────┬───┬────────────┬───────┬────────────┬────────────┐\n",
       "│ enhancer_c ┆ enhancer_s ┆ enhancer_e ┆ gene   ┆ … ┆ truly cons ┆ B     ┆ B_M1star.E ┆ GC_content │\n",
       "│ hrom       ┆ tart       ┆ nd         ┆ ---    ┆   ┆ trained    ┆ ---   ┆ UR         ┆ _1000bp    │\n",
       "│ ---        ┆ ---        ┆ ---        ┆ str    ┆   ┆ ---        ┆ f64   ┆ ---        ┆ ---        │\n",
       "│ str        ┆ i64        ┆ i64        ┆        ┆   ┆ bool       ┆       ┆ f64        ┆ f64        │\n",
       "╞════════════╪════════════╪════════════╪════════╪═══╪════════════╪═══════╪════════════╪════════════╡\n",
       "│ chr1       ┆ 1554620    ┆ 1555020    ┆ ATAD3A ┆ … ┆ true       ┆ 0.652 ┆ 0.108103   ┆ 0.606394   │\n",
       "│ chr1       ┆ 2128961    ┆ 2129161    ┆ GABRD  ┆ … ┆ true       ┆ 0.841 ┆ 0.347981   ┆ 0.585415   │\n",
       "│ chr1       ┆ 2268561    ┆ 2268761    ┆ SKI    ┆ … ┆ true       ┆ 0.847 ┆ 0.347981   ┆ 0.602398   │\n",
       "│ chr1       ┆ 2545161    ┆ 2545361    ┆ PANK4  ┆ … ┆ true       ┆ 0.84  ┆ 0.347981   ┆ 0.64036    │\n",
       "│ chr1       ┆ 3208836    ┆ 3209036    ┆ PRDM16 ┆ … ┆ true       ┆ 0.966 ┆ 0.788536   ┆ 0.525475   │\n",
       "│ …          ┆ …          ┆ …          ┆ …      ┆ … ┆ …          ┆ …     ┆ …          ┆ …          │\n",
       "│ chr9       ┆ 122562521  ┆ 122562921  ┆ OR1B1  ┆ … ┆ false      ┆ 0.864 ┆ 0.033174   ┆ 0.460539   │\n",
       "│ chr9       ┆ 122572921  ┆ 122573121  ┆ OR1Q1  ┆ … ┆ false      ┆ 0.904 ┆ 0.033174   ┆ 0.431568   │\n",
       "│ chr9       ┆ 122807921  ┆ 122808121  ┆ OR1L4  ┆ … ┆ false      ┆ 0.672 ┆ 0.033174   ┆ 0.466533   │\n",
       "│ chr9       ┆ 122807921  ┆ 122808721  ┆ OR1L3  ┆ … ┆ false      ┆ 0.672 ┆ 0.033174   ┆ 0.478521   │\n",
       "│ chr9       ┆ 137056348  ┆ 137056748  ┆ C8G    ┆ … ┆ false      ┆ 0.555 ┆ 0.165515   ┆ 0.553447   │\n",
       "└────────────┴────────────┴────────────┴────────┴───┴────────────┴───────┴────────────┴────────────┘"
      ]
     },
     "execution_count": 7,
     "metadata": {},
     "output_type": "execute_result"
    }
   ],
   "source": [
    "def read(gc_window_size): \n",
    "    df = pl.read_csv(        \n",
    "        f'{CONSTRAINT_TOOLS_DATA}/labeled-enhancers/labeled-enhancers.GC_content_{gc_window_size}.bed',\n",
    "        separator='\\t',\n",
    "        infer_schema_length=1000000\n",
    "    )\n",
    "    df = df.select(pl.col(\n",
    "        \"labeled_enhancer_chrom\",\n",
    "        \"labeled_enhancer_start\",\n",
    "        \"labeled_enhancer_end\", \n",
    "        \"GC_window__GC_content\"\n",
    "    ))\n",
    "    df = df.rename({\"GC_window__GC_content\": f'GC_content_{gc_window_size}bp'})\n",
    "    return df\n",
    "\n",
    "def assign_GC_to_labeled_enhancers():\n",
    "    df = pl.read_csv(\n",
    "        f'{CONSTRAINT_TOOLS_DATA}/benchmark-genome-wide-predictions/chen-et-al-2022/labeled-enhancers.gnocchi.GC.BGS.gBGC.bed', \n",
    "        separator='\\t',\n",
    "        infer_schema_length=1000000\n",
    "    )\n",
    "\n",
    "    for df_gc in [read(gc_window_size) for gc_window_size in [1000]]: \n",
    "        df = df.join(\n",
    "            df_gc, \n",
    "            left_on=['enhancer_chrom', 'enhancer_start', 'enhancer_end'],\n",
    "            right_on=[\"labeled_enhancer_chrom\", \"labeled_enhancer_start\", \"labeled_enhancer_end\"], \n",
    "            how='inner'\n",
    "        )\n",
    "\n",
    "    df = df.unique(subset=['enhancer_chrom', 'enhancer_start', 'enhancer_end'], keep='first', maintain_order=True)\n",
    "\n",
    "    df = df.drop([\"max chen_score\", \"max corrected_chen_score\", \"max filtered_chen_score\", \"mean window_GC_content\"])\n",
    "    \n",
    "    output_filename = f'{CONSTRAINT_TOOLS_DATA}/labeled-enhancers/labeled-enhancers.BGS.gBGC.GC_content.bed'\n",
    "    df.write_csv(output_filename, separator='\\t')\n",
    "    print_string_as_info(f'Wrote {output_filename}')\n",
    "    \n",
    "    return df \n",
    "\n",
    "assign_GC_to_labeled_enhancers()"
   ]
  }
 ],
 "metadata": {
  "kernelspec": {
   "display_name": "constraint-tools",
   "language": "python",
   "name": "python3"
  },
  "language_info": {
   "codemirror_mode": {
    "name": "ipython",
    "version": 3
   },
   "file_extension": ".py",
   "mimetype": "text/x-python",
   "name": "python",
   "nbconvert_exporter": "python",
   "pygments_lexer": "ipython3",
   "version": "3.9.0"
  }
 },
 "nbformat": 4,
 "nbformat_minor": 2
}
