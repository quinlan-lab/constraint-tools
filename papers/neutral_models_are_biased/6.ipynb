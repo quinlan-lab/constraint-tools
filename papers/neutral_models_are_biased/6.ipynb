{
 "cells": [
  {
   "cell_type": "code",
   "execution_count": null,
   "metadata": {},
   "outputs": [],
   "source": [
    "# TODO: grand plan \n",
    "\n",
    "# 1. Assign GC content, gBGC, BGS, and enhancer status to Halldorsson windows using same infra I used for Chen windows \n",
    "# 2. Copy papers/neutral_models_are_biased/2.ipynb to new notebook, ingest Halldorsson dataframe, and compute PR curves (but not auPRC bar charts)\n",
    "# 3. Include PR curves for Halldorsson windows as supp info, showing that trends are same as when using Chen windows \n"
   ]
  },
  {
   "cell_type": "code",
   "execution_count": null,
   "metadata": {},
   "outputs": [],
   "source": [
    "# TODO: enhancer overlap \n",
    "\n",
    "# 1. adapt experiments/germline-model/chen-et-al-2022/add-overlapAmounts.sh to intersect Halldorsson windows with enhancers \n",
    "# 2. adapt experiments/germline-model/chen-et-al-2022/Fig_2a.ipynb to assign enhancer status to Halldorsson windows\n",
    "#      Along the way, redefine \"ambiguous\" category for enhancer-overlap from (0, 10) to e.g., (0, 500), \n",
    "#      so that we are more confident that windows with window_overlaps_enhancer==True are constrained, \n",
    "#      which hopefully will make our results more \"crisp\""
   ]
  }
 ],
 "metadata": {
  "kernelspec": {
   "display_name": "constraint-tools",
   "language": "python",
   "name": "python3"
  },
  "language_info": {
   "name": "python",
   "version": "3.9.0"
  }
 },
 "nbformat": 4,
 "nbformat_minor": 2
}
