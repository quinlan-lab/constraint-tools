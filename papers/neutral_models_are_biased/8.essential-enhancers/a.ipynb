{
 "cells": [
  {
   "cell_type": "markdown",
   "metadata": {},
   "source": [
    "## Note on Khurana enhancer set as a positive set"
   ]
  },
  {
   "cell_type": "code",
   "execution_count": 1,
   "metadata": {},
   "outputs": [],
   "source": [
    "# Khurana has a set of disease enhancers, and enhancers that she predicts to be intolerant to deletion, but the size of the set is small (100s): \n",
    "# /scratch/ucgd/lustre-labs/quinlan/u6018199/constraint-tools/download-process-data/khurana"
   ]
  },
  {
   "cell_type": "markdown",
   "metadata": {},
   "source": [
    "## Preliminary Workflow for \"essential\" enhancers (defined below)\n",
    "\n"
   ]
  },
  {
   "cell_type": "code",
   "execution_count": null,
   "metadata": {},
   "outputs": [],
   "source": [
    "# TODO \n",
    "# 1. compute GC-content for essential enhancers, by following: \n",
    "#    papers/neutral_models_are_biased/7.CDTS/compute-GC-content-for-all-window-sizes-based-on-CDTS-windows.sh"
   ]
  },
  {
   "cell_type": "markdown",
   "metadata": {},
   "source": [
    "## Assign BGS, gBGC, GC_content to \"essential\" enhancers\n",
    "\n",
    "\"Essential\" enhancers are defined at: https://docs.google.com/presentation/d/1qw3QiWVHSqYA2f4QoahE8FHZPisIftp-tCUWTODjnDY/edit#slide=id.p"
   ]
  },
  {
   "cell_type": "code",
   "execution_count": null,
   "metadata": {},
   "outputs": [],
   "source": [
    "CONSTRAINT_TOOLS = '/scratch/ucgd/lustre-labs/quinlan/u6018199/constraint-tools'\n",
    "CONSTRAINT_TOOLS_DATA = '/scratch/ucgd/lustre-labs/quinlan/data-shared/constraint-tools'\n",
    "\n",
    "import sys\n",
    "sys.path.append(f'{CONSTRAINT_TOOLS}/utilities')\n",
    "\n",
    "POP = 'EUR'\n",
    "GC_WINDOW_SIZE = 1000"
   ]
  },
  {
   "cell_type": "code",
   "execution_count": null,
   "metadata": {},
   "outputs": [],
   "source": [
    "# TODO\n",
    "# 1. essential enhancers are at: \n",
    "#    /scratch/ucgd/lustre-labs/quinlan/data-shared/constraint-tools/benchmark-genome-wide-predictions/chen-et-al-2022/labeled-enhancers.gnocchi.GC.bed\n",
    "#    just pull out their coordinates, their Gnocchi scores, and their \"truly constrained\" statuses\n",
    "# 2. Then follow \"papers/neutral_models_are_biased/7.CDTS/main.1.ipynb># Assign BGS, gBGC, GC_content to CDTS windows\" to assign all three features to essential enhancers \n",
    "\n",
    "\n"
   ]
  },
  {
   "cell_type": "markdown",
   "metadata": {},
   "source": [
    "## Assign constraint scores to \"essential\" enhancers "
   ]
  },
  {
   "cell_type": "code",
   "execution_count": null,
   "metadata": {},
   "outputs": [],
   "source": [
    "# TODO: \n",
    "# 3. [NEW CODE] for all constraint_scores except Gnocchi, assign constraint scores to essential enhancers \n"
   ]
  },
  {
   "cell_type": "markdown",
   "metadata": {},
   "source": [
    "## Concatenate essential enhancers with noncoding windows not overlapping any GeneHancer enhancer"
   ]
  },
  {
   "cell_type": "code",
   "execution_count": 4,
   "metadata": {},
   "outputs": [],
   "source": [
    "# TODO\n",
    "# 4. for all constraint_scores, read in df containing overlap status with GeneHancer enhancers, and pull out a random sample of non-enhancer windows, together with constraint_score, and features, and append to the essential-enhancer df \n"
   ]
  },
  {
   "cell_type": "markdown",
   "metadata": {},
   "source": [
    "## PR curves "
   ]
  },
  {
   "cell_type": "code",
   "execution_count": 3,
   "metadata": {},
   "outputs": [],
   "source": [
    "# TODO \n",
    "# 5. use ../7.CDTS/main.2.ipynb to compute PR curves using the newly constructed dfs (one for each constraint score), as a function of BGS, gBGC, GC\n",
    "#    (note that I've already done this for Gnocchi and BGS: experiments/germline-model/chen-et-al-2022/assess-impact-of-BGS-on-Gnocchi-predictions-at-labeled-enhancers.ipynb)  \n"
   ]
  }
 ],
 "metadata": {
  "kernelspec": {
   "display_name": "constraint-tools",
   "language": "python",
   "name": "python3"
  },
  "language_info": {
   "codemirror_mode": {
    "name": "ipython",
    "version": 3
   },
   "file_extension": ".py",
   "mimetype": "text/x-python",
   "name": "python",
   "nbconvert_exporter": "python",
   "pygments_lexer": "ipython3",
   "version": "3.9.0"
  }
 },
 "nbformat": 4,
 "nbformat_minor": 2
}
