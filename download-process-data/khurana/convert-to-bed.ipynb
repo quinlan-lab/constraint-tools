{
 "cells": [
  {
   "cell_type": "markdown",
   "metadata": {},
   "source": [
    "## Probability of LoF tolerance for a set of enhancers "
   ]
  },
  {
   "cell_type": "code",
   "execution_count": 1,
   "metadata": {},
   "outputs": [],
   "source": [
    "CONSTRAINT_TOOLS = '/scratch/ucgd/lustre-work/quinlan/u6018199/constraint-tools'\n",
    "CONSTRAINT_TOOLS_DATA = '/scratch/ucgd/lustre-work/quinlan/data-shared/constraint-tools'"
   ]
  },
  {
   "cell_type": "code",
   "execution_count": 2,
   "metadata": {},
   "outputs": [],
   "source": [
    "# Khurana paper: \n",
    "# https://journals.plos.org/plosgenetics/article?id=10.1371/journal.pgen.1008663\n",
    "\n",
    "import pandas as pd\n",
    "\n",
    "# Read in the Excel file, which contains multiple sheets\n",
    "khurana_table_S2 = pd.read_excel(f'{CONSTRAINT_TOOLS_DATA}/khurana/table-S2.xlsx', sheet_name=None)"
   ]
  },
  {
   "cell_type": "code",
   "execution_count": 3,
   "metadata": {},
   "outputs": [
    {
     "data": {
      "text/plain": [
       "dict_keys(['SupplementaryTable3', 'LoF-tolerant enhancers', 'Low-LoF-tolerance enhancers', 'Feature importance'])"
      ]
     },
     "execution_count": 3,
     "metadata": {},
     "output_type": "execute_result"
    }
   ],
   "source": [
    "khurana_table_S2.keys()"
   ]
  },
  {
   "cell_type": "code",
   "execution_count": 4,
   "metadata": {},
   "outputs": [
    {
     "data": {
      "text/html": [
       "<div>\n",
       "<style scoped>\n",
       "    .dataframe tbody tr th:only-of-type {\n",
       "        vertical-align: middle;\n",
       "    }\n",
       "\n",
       "    .dataframe tbody tr th {\n",
       "        vertical-align: top;\n",
       "    }\n",
       "\n",
       "    .dataframe thead th {\n",
       "        text-align: right;\n",
       "    }\n",
       "</style>\n",
       "<table border=\"1\" class=\"dataframe\">\n",
       "  <thead>\n",
       "    <tr style=\"text-align: right;\">\n",
       "      <th></th>\n",
       "      <th>enhancer</th>\n",
       "      <th>original</th>\n",
       "      <th>predict LoF-tolerant</th>\n",
       "      <th>prob LoF-tolerance</th>\n",
       "    </tr>\n",
       "  </thead>\n",
       "  <tbody>\n",
       "    <tr>\n",
       "      <th>0</th>\n",
       "      <td>chr13-101408800-101409200</td>\n",
       "      <td>NotDeleted</td>\n",
       "      <td>Low-LoF-tolerance</td>\n",
       "      <td>0.248020</td>\n",
       "    </tr>\n",
       "    <tr>\n",
       "      <th>1</th>\n",
       "      <td>chr18-45880000-45880200</td>\n",
       "      <td>NotDeleted</td>\n",
       "      <td>LoF-tolerant</td>\n",
       "      <td>0.646635</td>\n",
       "    </tr>\n",
       "    <tr>\n",
       "      <th>2</th>\n",
       "      <td>chr5-174837800-174840000</td>\n",
       "      <td>NotDeleted</td>\n",
       "      <td>LoF-tolerant</td>\n",
       "      <td>0.881760</td>\n",
       "    </tr>\n",
       "    <tr>\n",
       "      <th>3</th>\n",
       "      <td>chr9-115430200-115432000</td>\n",
       "      <td>NotDeleted</td>\n",
       "      <td>LoF-tolerant</td>\n",
       "      <td>0.903623</td>\n",
       "    </tr>\n",
       "    <tr>\n",
       "      <th>4</th>\n",
       "      <td>chr11-134077600-134078200</td>\n",
       "      <td>NotDeleted</td>\n",
       "      <td>LoF-tolerant</td>\n",
       "      <td>0.729862</td>\n",
       "    </tr>\n",
       "    <tr>\n",
       "      <th>...</th>\n",
       "      <td>...</td>\n",
       "      <td>...</td>\n",
       "      <td>...</td>\n",
       "      <td>...</td>\n",
       "    </tr>\n",
       "    <tr>\n",
       "      <th>245088</th>\n",
       "      <td>chr22-51047400-51049200</td>\n",
       "      <td>NotDeleted</td>\n",
       "      <td>LoF-tolerant</td>\n",
       "      <td>0.592781</td>\n",
       "    </tr>\n",
       "    <tr>\n",
       "      <th>245089</th>\n",
       "      <td>chr5-55940400-55941400</td>\n",
       "      <td>NotDeleted</td>\n",
       "      <td>LoF-tolerant</td>\n",
       "      <td>0.647929</td>\n",
       "    </tr>\n",
       "    <tr>\n",
       "      <th>245090</th>\n",
       "      <td>chr10-61223600-61224000</td>\n",
       "      <td>NotDeleted</td>\n",
       "      <td>LoF-tolerant</td>\n",
       "      <td>0.516712</td>\n",
       "    </tr>\n",
       "    <tr>\n",
       "      <th>245091</th>\n",
       "      <td>chr14-63648400-63648600</td>\n",
       "      <td>NotDeleted</td>\n",
       "      <td>LoF-tolerant</td>\n",
       "      <td>0.665555</td>\n",
       "    </tr>\n",
       "    <tr>\n",
       "      <th>245092</th>\n",
       "      <td>chr16-30331600-30332200</td>\n",
       "      <td>NotDeleted</td>\n",
       "      <td>LoF-tolerant</td>\n",
       "      <td>0.611116</td>\n",
       "    </tr>\n",
       "  </tbody>\n",
       "</table>\n",
       "<p>245093 rows × 4 columns</p>\n",
       "</div>"
      ],
      "text/plain": [
       "                         enhancer    original predict LoF-tolerant  \\\n",
       "0       chr13-101408800-101409200  NotDeleted    Low-LoF-tolerance   \n",
       "1         chr18-45880000-45880200  NotDeleted         LoF-tolerant   \n",
       "2        chr5-174837800-174840000  NotDeleted         LoF-tolerant   \n",
       "3        chr9-115430200-115432000  NotDeleted         LoF-tolerant   \n",
       "4       chr11-134077600-134078200  NotDeleted         LoF-tolerant   \n",
       "...                           ...         ...                  ...   \n",
       "245088    chr22-51047400-51049200  NotDeleted         LoF-tolerant   \n",
       "245089     chr5-55940400-55941400  NotDeleted         LoF-tolerant   \n",
       "245090    chr10-61223600-61224000  NotDeleted         LoF-tolerant   \n",
       "245091    chr14-63648400-63648600  NotDeleted         LoF-tolerant   \n",
       "245092    chr16-30331600-30332200  NotDeleted         LoF-tolerant   \n",
       "\n",
       "        prob LoF-tolerance  \n",
       "0                 0.248020  \n",
       "1                 0.646635  \n",
       "2                 0.881760  \n",
       "3                 0.903623  \n",
       "4                 0.729862  \n",
       "...                    ...  \n",
       "245088            0.592781  \n",
       "245089            0.647929  \n",
       "245090            0.516712  \n",
       "245091            0.665555  \n",
       "245092            0.611116  \n",
       "\n",
       "[245093 rows x 4 columns]"
      ]
     },
     "execution_count": 4,
     "metadata": {},
     "output_type": "execute_result"
    }
   ],
   "source": [
    "enhancers_and_khurana_scores = khurana_table_S2['SupplementaryTable3']\n",
    "enhancers_and_khurana_scores"
   ]
  },
  {
   "cell_type": "markdown",
   "metadata": {},
   "source": [
    "## Khurana et al used hg19, not hg38\n",
    "\n",
    "Khurana et al obtained enhancers from Cao et al [41], who used [human reference genome hg19](https://www.nature.com/articles/ng.3950#Sec9),\n",
    "and obtained deletions from 1000 Genomes Phase 3 [43], who reported their results [relative to both hg19 and hg38](https://www.nature.com/articles/nature15394#accession-codes). \n",
    "\n",
    "To increase confidence that Khurana et al reported all coordinates relative to hg19, \n",
    "I noted that a sample of their low-LoF-tolerance enhancers had coordinates that were more similar to the hg19 than hg38 coordinates \n",
    "that I had previously obtained for VISTA enhancers. \n"
   ]
  },
  {
   "cell_type": "code",
   "execution_count": 5,
   "metadata": {},
   "outputs": [],
   "source": [
    "import sys\n",
    "sys.path.insert(0, f'{CONSTRAINT_TOOLS}/utilities')  "
   ]
  },
  {
   "cell_type": "code",
   "execution_count": 6,
   "metadata": {},
   "outputs": [
    {
     "data": {
      "text/plain": [
       "'chr1:62053400-62055600'"
      ]
     },
     "execution_count": 6,
     "metadata": {},
     "output_type": "execute_result"
    }
   ],
   "source": [
    "from pack_unpack import pack\n",
    "\n",
    "pack(*tuple(khurana_table_S2['Low-LoF-tolerance enhancers'].iloc[0]))"
   ]
  },
  {
   "cell_type": "code",
   "execution_count": 7,
   "metadata": {},
   "outputs": [
    {
     "data": {
      "text/plain": [
       "'chr1:62053434-62055908'"
      ]
     },
     "execution_count": 7,
     "metadata": {},
     "output_type": "execute_result"
    }
   ],
   "source": [
    "pd.read_csv(f'{CONSTRAINT_TOOLS_DATA}/vista-enhancers/vista-enhancers.hg38.hg19.tsv', sep='\\t', header=None).iloc[59,3]"
   ]
  },
  {
   "cell_type": "markdown",
   "metadata": {},
   "source": [
    "## Convert enhancer data to bed format (for later transformation to hg38)\n"
   ]
  },
  {
   "cell_type": "code",
   "execution_count": null,
   "metadata": {},
   "outputs": [],
   "source": [
    "# TODO \n",
    "\n",
    "def convert_to_bed(): \n",
    "  for line in sys.stdin: \n",
    "    fields = line.split('|')\n",
    "    region = fields[1].strip()\n",
    "    enhancer_class = fields[3].strip()\n",
    "    if enhancer_class == 'negative': continue \n",
    "    chromosome, start, end = unpack(region)\n",
    "    print(f'{chromosome}\\t{start}\\t{end}')\n"
   ]
  },
  {
   "cell_type": "code",
   "execution_count": null,
   "metadata": {},
   "outputs": [],
   "source": [
    "# TODO \n",
    "# sort by chromosome and start position"
   ]
  },
  {
   "cell_type": "code",
   "execution_count": null,
   "metadata": {},
   "outputs": [],
   "source": []
  }
 ],
 "metadata": {
  "kernelspec": {
   "display_name": "constraint-tools",
   "language": "python",
   "name": "python3"
  },
  "language_info": {
   "codemirror_mode": {
    "name": "ipython",
    "version": 3
   },
   "file_extension": ".py",
   "mimetype": "text/x-python",
   "name": "python",
   "nbconvert_exporter": "python",
   "pygments_lexer": "ipython3",
   "version": "3.9.0"
  },
  "orig_nbformat": 4
 },
 "nbformat": 4,
 "nbformat_minor": 2
}
