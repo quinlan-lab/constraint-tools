{
 "cells": [
  {
   "cell_type": "markdown",
   "id": "d7173db2",
   "metadata": {},
   "source": [
    "## Types of single-nucleotide polymorphism \n",
    "\n",
    "In a population of chromosomes, a variety of alleles may be segregating at any given site. \n",
    "For example, the reference allele may be \"C\", \n",
    "but some chromosomes may harbor \"A\" as an ALT allele, and yet others may harbor \"T\" as a second ALT allele. \n",
    "\n",
    "There are eight possible categories to which a given site may belong (considering only single-nucleotide alleles):\n",
    "one representing the case that a site is monomorphic (no ALT allele);\n",
    "three representing the case where one ALT allele is segregating (there are three possible ALT alleles for each REF allele),\n",
    "three representing the case where two ALT alleles are segregating (there are three possible ways to pair each of the three possible ALT alleles), \n",
    "one representing the case where all three possible ALT alleles are found in the population. \n",
    "\n",
    "A concrete description of these scenarios is presented in the following table, \n",
    "which corresponds to a REF allele of \"C\": \n",
    "\n",
    "$$ \n",
    "\\begin{array}{ccccc}\n",
    "A & G & T & \\#ALTs & probs \\\\ \n",
    "\\hline \n",
    "  &   &   & 0 & p_{C \\rightarrow C} \\\\\n",
    "* &   &   & 1 & p_{C \\rightarrow A} \\\\\n",
    "  & * &   & 1 & p_{C \\rightarrow G} \\\\\n",
    "  &   & * & 1 & p_{C \\rightarrow T} \\\\\n",
    "* & * &   & 2 & p_{C \\rightarrow \\{A,G\\}} \\\\\n",
    "* &   & * & 2 & p_{C \\rightarrow \\{A,T\\}} \\\\\n",
    "  & * & * & 2 & p_{C \\rightarrow \\{G,T\\}} \\\\\n",
    "* & * & * & 3 & p_{C \\rightarrow \\{A,G,T\\}} \\\\\n",
    "\\end{array} \n",
    "$$\n",
    "\n",
    "Though 2-ALT probabilities, e.g., $p_{C \\rightarrow \\{G,T\\}}$, may depend upon single-ALT probabilities, e.g., $p_{C \\rightarrow G}$ and $p_{C \\rightarrow T}$, we make no attempt to model the dependence, in part because there are so many ways in which multiple ALT alleles could end up segregating at a site. (For example, if C, G and T alleles are segregating, then did the C allele mutate to the G allele, which then subsequently mutated to the T allele, or did the G and T alleles each arise by mutation of C?) Instead we simply estimate the probability of observing multiple ALT alleles segregating at a site. \n",
    "\n",
    "We estimate the probability $p_{C \\rightarrow \\{G,T\\}}$, say, by\n",
    "the fraction of sites that harbor the C allele in the reference genome, \n",
    "and segregate the C, G and T alleles in the cohort under consideration. \n",
    "Later we will use our estimates of all eight probabilites to predict the SNV count (number of ALT alleles) segregating in a genomic interval.\n",
    "\n"
   ]
  },
  {
   "cell_type": "markdown",
   "id": "33c48b6e",
   "metadata": {},
   "source": [
    "## Sequence-dependent polymorphism\n",
    "\n",
    "It is now well-established that the probabilities mentioned above depend not only on the identity of the base in the reference genome at the polymorphic site, but also the bases in the reference genome that surround the polymorphic site [Halldorsson et al 2021; Li et al 2021; Feng, Deng, Li 2021; Iulio et al 2018, Aggarwala and Voight 2016; Samocha et al 2014]. To account for this,\n",
    "we replace, for example, $p_{C \\rightarrow \\{A, T\\}}$ by $p_{s \\rightarrow \\{A, T\\}}$, where $s$ is a kmer whose center nucleotide is \"C\". \n",
    "\n"
   ]
  },
  {
   "cell_type": "markdown",
   "id": "a7531102",
   "metadata": {},
   "source": [
    "## A model to predict the number of SNVs in a genomic interval\n"
   ]
  },
  {
   "cell_type": "markdown",
   "id": "0f0e145e",
   "metadata": {},
   "source": [
    "\n",
    "Let $N_i$ be a Categorical Random Variable representing the number of distinct ALT alleles at the site (genomic position) $i$, with local sequence context $s_i$.\n",
    "If the center nucleodtide of $s_i$ is C, then the allowed values of $N_i$, and their corresponding probabilities are: \n",
    "\n",
    "$$ \n",
    "N_i = \n",
    "\\left\\{\n",
    "\\begin{array}{ll}\n",
    "0 & p_i^{(0)} = p_{s_i \\rightarrow C} \\\\\n",
    "1 & p_i^{(1)} = p_{s_i \\rightarrow A} + p_{s_i \\rightarrow G} + p_{s_i \\rightarrow T} \\\\\n",
    "2 & p_i^{(2)} = p_{s_i \\rightarrow \\{A,G\\}} + p_{s_i \\rightarrow \\{A,T\\}} + p_{s_i \\rightarrow \\{G,T\\}} \\\\ \n",
    "3 & p_i^{(3)} = p_{s_i \\rightarrow \\{A,G,T\\}}\n",
    "\\end{array}\n",
    "\\right.\n",
    "$$ \n",
    "\n",
    "In an interval containing $L$ sites, there are $L$ \"trials\" of an experiment with four possible outcomes (the possible values of $N_i$ at each site). Though the exact probability distribution of the number of occurrences of each outcome aggregated over $L$ trials is known ([Beaulieu 1991](https://ieeexplore.ieee.org/stamp/stamp.jsp?tp=&arnumber=76452&tag=1)), \n",
    "it is not immediately useful to us, as we are interested in a derived quantity, the number of SNVs in the interval:\n",
    "\n",
    "\\begin{equation*}\n",
    "N = \\sum_{i=1}^L N_i.\n",
    "\\end{equation*}\n",
    "\n",
    "Though it is cumbersome to derive a formula for this distribution (starting from Beaulieu's result), and computationally inefficient to \n",
    "simulate the distribution on a genome-wide scale, \n",
    "we can make headway with the first two moments of the distribution \n",
    "since they are easy to compute. \n",
    "\n",
    "First consider the first two moments of $N_i$: \n",
    "\n",
    "$$ \n",
    "\\begin{align*}\n",
    "\\langle N_i \\rangle & = 1p_i^{(1)} + 2p_i^{(2)} + 3p_i^{(3)} \\\\\n",
    "\\langle N_i^2 \\rangle & = 1^2p_i^{(1)} + 2^2p_i^{(2)} + 3^2p_i^{(3)} \\\\\n",
    "\\end{align*}\n",
    "$$ \n",
    "\n",
    "From these we may compute the mean of $N$: \n",
    "\n",
    "$$ \n",
    "\\begin{align*}\n",
    "\\langle N \\rangle & = \\sum_{i=1}^L \\langle N_i \\rangle \n",
    "\\end{align*}\n",
    "$$ \n",
    "\n",
    "and the variance of $N$,\n",
    "assuming that the number of ALT alleles at nearby sites are not correlated with one another: \n",
    "\n",
    "$$ \n",
    "\\begin{align*}\n",
    "\\text{var}(N) & = \\sum_{i=1}^L \\text{var}(N_i) & \\text{(assumes independence)} \\\\\n",
    "& = \\sum_{i=1}^L \\left( \\langle N_i^2 \\rangle - \\langle N \\rangle^2 \\right)\n",
    "\\end{align*}\n",
    "$$ \n",
    "\n",
    "\n"
   ]
  },
  {
   "cell_type": "markdown",
   "id": "b944f906",
   "metadata": {},
   "source": [
    "## Detecting anomalous SNV counts\n",
    "\n",
    "When the probabilities $p_{s_i \\rightarrow a}$ are estimated using putatively neutral sites, the mean and variance \n",
    "computed above for a given genomic interval \n",
    "represent those expected under the assumption of neutrality, \n",
    "conditioned upon the sequence context of the interval \n",
    "(which would otherwise confound the analysis). \n",
    "Therefore when the test statistic \n",
    "\n",
    "$$ \n",
    "\\overline{N} = \\frac{N - \\langle N \\rangle}{\\sqrt{\\text{var}(N)}}\n",
    "$$\n",
    "\n",
    "is much greater than or much less than one, we reject the null model in favor of positive or negative selection, respectively. \n",
    "\n"
   ]
  },
  {
   "cell_type": "code",
   "execution_count": 1,
   "id": "b41ff9ec",
   "metadata": {},
   "outputs": [
    {
     "ename": "KeyboardInterrupt",
     "evalue": "",
     "output_type": "error",
     "traceback": [
      "\u001b[0;31m---------------------------------------------------------------------------\u001b[0m",
      "\u001b[0;31mKeyboardInterrupt\u001b[0m                         Traceback (most recent call last)",
      "\u001b[0;32m<ipython-input-1-efbd57daf988>\u001b[0m in \u001b[0;36m<module>\u001b[0;34m\u001b[0m\n\u001b[1;32m     13\u001b[0m \u001b[0;32mfor\u001b[0m \u001b[0mexample\u001b[0m \u001b[0;32min\u001b[0m \u001b[0mrange\u001b[0m\u001b[0;34m(\u001b[0m\u001b[0mnumber_examples\u001b[0m\u001b[0;34m)\u001b[0m\u001b[0;34m:\u001b[0m\u001b[0;34m\u001b[0m\u001b[0;34m\u001b[0m\u001b[0m\n\u001b[1;32m     14\u001b[0m   \u001b[0;31m# given those polymorphism probabilities, one generates a set of polymorphisms:\u001b[0m\u001b[0;34m\u001b[0m\u001b[0;34m\u001b[0m\u001b[0;34m\u001b[0m\u001b[0m\n\u001b[0;32m---> 15\u001b[0;31m   \u001b[0mis_polymorphism\u001b[0m \u001b[0;34m=\u001b[0m \u001b[0;34m[\u001b[0m\u001b[0mint\u001b[0m\u001b[0;34m(\u001b[0m\u001b[0mbernoulli\u001b[0m\u001b[0;34m.\u001b[0m\u001b[0mrvs\u001b[0m\u001b[0;34m(\u001b[0m\u001b[0mp\u001b[0m\u001b[0;34m,\u001b[0m \u001b[0msize\u001b[0m\u001b[0;34m=\u001b[0m\u001b[0;36m1\u001b[0m\u001b[0;34m)\u001b[0m\u001b[0;34m)\u001b[0m \u001b[0;32mfor\u001b[0m \u001b[0mp\u001b[0m \u001b[0;32min\u001b[0m \u001b[0mpolymorphism_probabilities\u001b[0m\u001b[0;34m]\u001b[0m\u001b[0;34m\u001b[0m\u001b[0;34m\u001b[0m\u001b[0m\n\u001b[0m\u001b[1;32m     16\u001b[0m   \u001b[0mpolymorphism_counts\u001b[0m\u001b[0;34m.\u001b[0m\u001b[0mappend\u001b[0m\u001b[0;34m(\u001b[0m\u001b[0msum\u001b[0m\u001b[0;34m(\u001b[0m\u001b[0mis_polymorphism\u001b[0m\u001b[0;34m)\u001b[0m\u001b[0;34m)\u001b[0m\u001b[0;34m\u001b[0m\u001b[0;34m\u001b[0m\u001b[0m\n\u001b[1;32m     17\u001b[0m \u001b[0;34m\u001b[0m\u001b[0m\n",
      "\u001b[0;32m<ipython-input-1-efbd57daf988>\u001b[0m in \u001b[0;36m<listcomp>\u001b[0;34m(.0)\u001b[0m\n\u001b[1;32m     13\u001b[0m \u001b[0;32mfor\u001b[0m \u001b[0mexample\u001b[0m \u001b[0;32min\u001b[0m \u001b[0mrange\u001b[0m\u001b[0;34m(\u001b[0m\u001b[0mnumber_examples\u001b[0m\u001b[0;34m)\u001b[0m\u001b[0;34m:\u001b[0m\u001b[0;34m\u001b[0m\u001b[0;34m\u001b[0m\u001b[0m\n\u001b[1;32m     14\u001b[0m   \u001b[0;31m# given those polymorphism probabilities, one generates a set of polymorphisms:\u001b[0m\u001b[0;34m\u001b[0m\u001b[0;34m\u001b[0m\u001b[0;34m\u001b[0m\u001b[0m\n\u001b[0;32m---> 15\u001b[0;31m   \u001b[0mis_polymorphism\u001b[0m \u001b[0;34m=\u001b[0m \u001b[0;34m[\u001b[0m\u001b[0mint\u001b[0m\u001b[0;34m(\u001b[0m\u001b[0mbernoulli\u001b[0m\u001b[0;34m.\u001b[0m\u001b[0mrvs\u001b[0m\u001b[0;34m(\u001b[0m\u001b[0mp\u001b[0m\u001b[0;34m,\u001b[0m \u001b[0msize\u001b[0m\u001b[0;34m=\u001b[0m\u001b[0;36m1\u001b[0m\u001b[0;34m)\u001b[0m\u001b[0;34m)\u001b[0m \u001b[0;32mfor\u001b[0m \u001b[0mp\u001b[0m \u001b[0;32min\u001b[0m \u001b[0mpolymorphism_probabilities\u001b[0m\u001b[0;34m]\u001b[0m\u001b[0;34m\u001b[0m\u001b[0;34m\u001b[0m\u001b[0m\n\u001b[0m\u001b[1;32m     16\u001b[0m   \u001b[0mpolymorphism_counts\u001b[0m\u001b[0;34m.\u001b[0m\u001b[0mappend\u001b[0m\u001b[0;34m(\u001b[0m\u001b[0msum\u001b[0m\u001b[0;34m(\u001b[0m\u001b[0mis_polymorphism\u001b[0m\u001b[0;34m)\u001b[0m\u001b[0;34m)\u001b[0m\u001b[0;34m\u001b[0m\u001b[0;34m\u001b[0m\u001b[0m\n\u001b[1;32m     17\u001b[0m \u001b[0;34m\u001b[0m\u001b[0m\n",
      "\u001b[0;32m~/.conda/envs/constraint-tools/lib/python3.9/site-packages/scipy/stats/_distn_infrastructure.py\u001b[0m in \u001b[0;36mrvs\u001b[0;34m(self, *args, **kwargs)\u001b[0m\n\u001b[1;32m   3115\u001b[0m         \"\"\"\n\u001b[1;32m   3116\u001b[0m         \u001b[0mkwargs\u001b[0m\u001b[0;34m[\u001b[0m\u001b[0;34m'discrete'\u001b[0m\u001b[0;34m]\u001b[0m \u001b[0;34m=\u001b[0m \u001b[0;32mTrue\u001b[0m\u001b[0;34m\u001b[0m\u001b[0;34m\u001b[0m\u001b[0m\n\u001b[0;32m-> 3117\u001b[0;31m         \u001b[0;32mreturn\u001b[0m \u001b[0msuper\u001b[0m\u001b[0;34m(\u001b[0m\u001b[0;34m)\u001b[0m\u001b[0;34m.\u001b[0m\u001b[0mrvs\u001b[0m\u001b[0;34m(\u001b[0m\u001b[0;34m*\u001b[0m\u001b[0margs\u001b[0m\u001b[0;34m,\u001b[0m \u001b[0;34m**\u001b[0m\u001b[0mkwargs\u001b[0m\u001b[0;34m)\u001b[0m\u001b[0;34m\u001b[0m\u001b[0;34m\u001b[0m\u001b[0m\n\u001b[0m\u001b[1;32m   3118\u001b[0m \u001b[0;34m\u001b[0m\u001b[0m\n\u001b[1;32m   3119\u001b[0m     \u001b[0;32mdef\u001b[0m \u001b[0mpmf\u001b[0m\u001b[0;34m(\u001b[0m\u001b[0mself\u001b[0m\u001b[0;34m,\u001b[0m \u001b[0mk\u001b[0m\u001b[0;34m,\u001b[0m \u001b[0;34m*\u001b[0m\u001b[0margs\u001b[0m\u001b[0;34m,\u001b[0m \u001b[0;34m**\u001b[0m\u001b[0mkwds\u001b[0m\u001b[0;34m)\u001b[0m\u001b[0;34m:\u001b[0m\u001b[0;34m\u001b[0m\u001b[0;34m\u001b[0m\u001b[0m\n",
      "\u001b[0;32m~/.conda/envs/constraint-tools/lib/python3.9/site-packages/scipy/stats/_distn_infrastructure.py\u001b[0m in \u001b[0;36mrvs\u001b[0;34m(self, *args, **kwds)\u001b[0m\n\u001b[1;32m   1062\u001b[0m         \u001b[0mdiscrete\u001b[0m \u001b[0;34m=\u001b[0m \u001b[0mkwds\u001b[0m\u001b[0;34m.\u001b[0m\u001b[0mpop\u001b[0m\u001b[0;34m(\u001b[0m\u001b[0;34m'discrete'\u001b[0m\u001b[0;34m,\u001b[0m \u001b[0;32mNone\u001b[0m\u001b[0;34m)\u001b[0m\u001b[0;34m\u001b[0m\u001b[0;34m\u001b[0m\u001b[0m\n\u001b[1;32m   1063\u001b[0m         \u001b[0mrndm\u001b[0m \u001b[0;34m=\u001b[0m \u001b[0mkwds\u001b[0m\u001b[0;34m.\u001b[0m\u001b[0mpop\u001b[0m\u001b[0;34m(\u001b[0m\u001b[0;34m'random_state'\u001b[0m\u001b[0;34m,\u001b[0m \u001b[0;32mNone\u001b[0m\u001b[0;34m)\u001b[0m\u001b[0;34m\u001b[0m\u001b[0;34m\u001b[0m\u001b[0m\n\u001b[0;32m-> 1064\u001b[0;31m         \u001b[0margs\u001b[0m\u001b[0;34m,\u001b[0m \u001b[0mloc\u001b[0m\u001b[0;34m,\u001b[0m \u001b[0mscale\u001b[0m\u001b[0;34m,\u001b[0m \u001b[0msize\u001b[0m \u001b[0;34m=\u001b[0m \u001b[0mself\u001b[0m\u001b[0;34m.\u001b[0m\u001b[0m_parse_args_rvs\u001b[0m\u001b[0;34m(\u001b[0m\u001b[0;34m*\u001b[0m\u001b[0margs\u001b[0m\u001b[0;34m,\u001b[0m \u001b[0;34m**\u001b[0m\u001b[0mkwds\u001b[0m\u001b[0;34m)\u001b[0m\u001b[0;34m\u001b[0m\u001b[0;34m\u001b[0m\u001b[0m\n\u001b[0m\u001b[1;32m   1065\u001b[0m         \u001b[0mcond\u001b[0m \u001b[0;34m=\u001b[0m \u001b[0mlogical_and\u001b[0m\u001b[0;34m(\u001b[0m\u001b[0mself\u001b[0m\u001b[0;34m.\u001b[0m\u001b[0m_argcheck\u001b[0m\u001b[0;34m(\u001b[0m\u001b[0;34m*\u001b[0m\u001b[0margs\u001b[0m\u001b[0;34m)\u001b[0m\u001b[0;34m,\u001b[0m \u001b[0;34m(\u001b[0m\u001b[0mscale\u001b[0m \u001b[0;34m>=\u001b[0m \u001b[0;36m0\u001b[0m\u001b[0;34m)\u001b[0m\u001b[0;34m)\u001b[0m\u001b[0;34m\u001b[0m\u001b[0;34m\u001b[0m\u001b[0m\n\u001b[1;32m   1066\u001b[0m         \u001b[0;32mif\u001b[0m \u001b[0;32mnot\u001b[0m \u001b[0mnp\u001b[0m\u001b[0;34m.\u001b[0m\u001b[0mall\u001b[0m\u001b[0;34m(\u001b[0m\u001b[0mcond\u001b[0m\u001b[0;34m)\u001b[0m\u001b[0;34m:\u001b[0m\u001b[0;34m\u001b[0m\u001b[0;34m\u001b[0m\u001b[0m\n",
      "\u001b[0;32m<string>\u001b[0m in \u001b[0;36m_parse_args_rvs\u001b[0;34m(self, p, loc, size)\u001b[0m\n",
      "\u001b[0;32m~/.conda/envs/constraint-tools/lib/python3.9/site-packages/scipy/stats/_distn_infrastructure.py\u001b[0m in \u001b[0;36m_argcheck_rvs\u001b[0;34m(self, *args, **kwargs)\u001b[0m\n\u001b[1;32m    893\u001b[0m         \u001b[0;31m# The only keyword argument expected is 'size'.\u001b[0m\u001b[0;34m\u001b[0m\u001b[0;34m\u001b[0m\u001b[0;34m\u001b[0m\u001b[0m\n\u001b[1;32m    894\u001b[0m         \u001b[0msize\u001b[0m \u001b[0;34m=\u001b[0m \u001b[0mkwargs\u001b[0m\u001b[0;34m.\u001b[0m\u001b[0mget\u001b[0m\u001b[0;34m(\u001b[0m\u001b[0;34m'size'\u001b[0m\u001b[0;34m,\u001b[0m \u001b[0;32mNone\u001b[0m\u001b[0;34m)\u001b[0m\u001b[0;34m\u001b[0m\u001b[0;34m\u001b[0m\u001b[0m\n\u001b[0;32m--> 895\u001b[0;31m         \u001b[0mall_bcast\u001b[0m \u001b[0;34m=\u001b[0m \u001b[0mnp\u001b[0m\u001b[0;34m.\u001b[0m\u001b[0mbroadcast_arrays\u001b[0m\u001b[0;34m(\u001b[0m\u001b[0;34m*\u001b[0m\u001b[0margs\u001b[0m\u001b[0;34m)\u001b[0m\u001b[0;34m\u001b[0m\u001b[0;34m\u001b[0m\u001b[0m\n\u001b[0m\u001b[1;32m    896\u001b[0m \u001b[0;34m\u001b[0m\u001b[0m\n\u001b[1;32m    897\u001b[0m         \u001b[0;32mdef\u001b[0m \u001b[0msqueeze_left\u001b[0m\u001b[0;34m(\u001b[0m\u001b[0ma\u001b[0m\u001b[0;34m)\u001b[0m\u001b[0;34m:\u001b[0m\u001b[0;34m\u001b[0m\u001b[0;34m\u001b[0m\u001b[0m\n",
      "\u001b[0;32m<__array_function__ internals>\u001b[0m in \u001b[0;36mbroadcast_arrays\u001b[0;34m(*args, **kwargs)\u001b[0m\n",
      "\u001b[0;32m~/.conda/envs/constraint-tools/lib/python3.9/site-packages/numpy/lib/stride_tricks.py\u001b[0m in \u001b[0;36mbroadcast_arrays\u001b[0;34m(subok, *args)\u001b[0m\n\u001b[1;32m    536\u001b[0m     \u001b[0margs\u001b[0m \u001b[0;34m=\u001b[0m \u001b[0;34m[\u001b[0m\u001b[0mnp\u001b[0m\u001b[0;34m.\u001b[0m\u001b[0marray\u001b[0m\u001b[0;34m(\u001b[0m\u001b[0m_m\u001b[0m\u001b[0;34m,\u001b[0m \u001b[0mcopy\u001b[0m\u001b[0;34m=\u001b[0m\u001b[0;32mFalse\u001b[0m\u001b[0;34m,\u001b[0m \u001b[0msubok\u001b[0m\u001b[0;34m=\u001b[0m\u001b[0msubok\u001b[0m\u001b[0;34m)\u001b[0m \u001b[0;32mfor\u001b[0m \u001b[0m_m\u001b[0m \u001b[0;32min\u001b[0m \u001b[0margs\u001b[0m\u001b[0;34m]\u001b[0m\u001b[0;34m\u001b[0m\u001b[0;34m\u001b[0m\u001b[0m\n\u001b[1;32m    537\u001b[0m \u001b[0;34m\u001b[0m\u001b[0m\n\u001b[0;32m--> 538\u001b[0;31m     \u001b[0mshape\u001b[0m \u001b[0;34m=\u001b[0m \u001b[0m_broadcast_shape\u001b[0m\u001b[0;34m(\u001b[0m\u001b[0;34m*\u001b[0m\u001b[0margs\u001b[0m\u001b[0;34m)\u001b[0m\u001b[0;34m\u001b[0m\u001b[0;34m\u001b[0m\u001b[0m\n\u001b[0m\u001b[1;32m    539\u001b[0m \u001b[0;34m\u001b[0m\u001b[0m\n\u001b[1;32m    540\u001b[0m     \u001b[0;32mif\u001b[0m \u001b[0mall\u001b[0m\u001b[0;34m(\u001b[0m\u001b[0marray\u001b[0m\u001b[0;34m.\u001b[0m\u001b[0mshape\u001b[0m \u001b[0;34m==\u001b[0m \u001b[0mshape\u001b[0m \u001b[0;32mfor\u001b[0m \u001b[0marray\u001b[0m \u001b[0;32min\u001b[0m \u001b[0margs\u001b[0m\u001b[0;34m)\u001b[0m\u001b[0;34m:\u001b[0m\u001b[0;34m\u001b[0m\u001b[0;34m\u001b[0m\u001b[0m\n",
      "\u001b[0;32m~/.conda/envs/constraint-tools/lib/python3.9/site-packages/numpy/lib/stride_tricks.py\u001b[0m in \u001b[0;36m_broadcast_shape\u001b[0;34m(*args)\u001b[0m\n\u001b[1;32m    418\u001b[0m     \u001b[0;31m# use the old-iterator because np.nditer does not handle size 0 arrays\u001b[0m\u001b[0;34m\u001b[0m\u001b[0;34m\u001b[0m\u001b[0;34m\u001b[0m\u001b[0m\n\u001b[1;32m    419\u001b[0m     \u001b[0;31m# consistently\u001b[0m\u001b[0;34m\u001b[0m\u001b[0;34m\u001b[0m\u001b[0;34m\u001b[0m\u001b[0m\n\u001b[0;32m--> 420\u001b[0;31m     \u001b[0mb\u001b[0m \u001b[0;34m=\u001b[0m \u001b[0mnp\u001b[0m\u001b[0;34m.\u001b[0m\u001b[0mbroadcast\u001b[0m\u001b[0;34m(\u001b[0m\u001b[0;34m*\u001b[0m\u001b[0margs\u001b[0m\u001b[0;34m[\u001b[0m\u001b[0;34m:\u001b[0m\u001b[0;36m32\u001b[0m\u001b[0;34m]\u001b[0m\u001b[0;34m)\u001b[0m\u001b[0;34m\u001b[0m\u001b[0;34m\u001b[0m\u001b[0m\n\u001b[0m\u001b[1;32m    421\u001b[0m     \u001b[0;31m# unfortunately, it cannot handle 32 or more arguments directly\u001b[0m\u001b[0;34m\u001b[0m\u001b[0;34m\u001b[0m\u001b[0;34m\u001b[0m\u001b[0m\n\u001b[1;32m    422\u001b[0m     \u001b[0;32mfor\u001b[0m \u001b[0mpos\u001b[0m \u001b[0;32min\u001b[0m \u001b[0mrange\u001b[0m\u001b[0;34m(\u001b[0m\u001b[0;36m32\u001b[0m\u001b[0;34m,\u001b[0m \u001b[0mlen\u001b[0m\u001b[0;34m(\u001b[0m\u001b[0margs\u001b[0m\u001b[0;34m)\u001b[0m\u001b[0;34m,\u001b[0m \u001b[0;36m31\u001b[0m\u001b[0;34m)\u001b[0m\u001b[0;34m:\u001b[0m\u001b[0;34m\u001b[0m\u001b[0;34m\u001b[0m\u001b[0m\n",
      "\u001b[0;31mKeyboardInterrupt\u001b[0m: "
     ]
    }
   ],
   "source": [
    "import numpy as np\n",
    "from scipy.stats import bernoulli, poisson\n",
    "from collections import Counter\n",
    "from matplotlib import pyplot as plt \n",
    "%matplotlib inline \n",
    "\n",
    "number_sites = 50\n",
    "exponents = 0.5*np.random.random_sample((number_sites,)) + 0.75\n",
    "polymorphism_probabilities = 10**(-exponents) \n",
    "\n",
    "polymorphism_counts = []\n",
    "number_examples = 10000\n",
    "for example in range(number_examples):\n",
    "  # given those polymorphism probabilities, one generates a set of polymorphisms: \n",
    "  is_polymorphism = [int(bernoulli.rvs(p, size=1)) for p in polymorphism_probabilities]\n",
    "  polymorphism_counts.append(sum(is_polymorphism))\n",
    "\n",
    "polymorphism_counts_histogram = Counter(polymorphism_counts)    \n",
    "max_polymorphism_count = max(polymorphism_counts)\n",
    "x = range(max_polymorphism_count+1)\n",
    "probability_of_polymorphism_count = np.array([\n",
    "    polymorphism_counts_histogram[value] \n",
    "    if value in polymorphism_counts_histogram \n",
    "    else 0 \n",
    "    for value in x\n",
    "])/number_examples\n",
    "\n",
    "poisson_rate = sum(polymorphism_probabilities)\n",
    "\n",
    "plt.figure(figsize=(5,5))\n",
    "plt.rcParams.update({'font.size': 16})    \n",
    "plt.plot(x, probability_of_polymorphism_count, marker='s', label='Sum of Bernoulli variables')\n",
    "plt.plot(x, poisson.pmf(x, poisson_rate), 'r-o', ms=8, label='Poisson variable')\n",
    "plt.xlabel(f'number of polymorphic sites, $n$, in an interval of length {number_sites}')\n",
    "plt.ylabel('probability, $P[N=n]$')\n",
    "plt.legend(loc='upper left', bbox_to_anchor=(1.04,1), fontsize=16) \n",
    "plt.title(f'site polymorphism probabilities range from {np.min(polymorphism_probabilities):.4f} to {np.max(polymorphism_probabilities):.2f}')"
   ]
  },
  {
   "cell_type": "markdown",
   "id": "def3eebf",
   "metadata": {},
   "source": [
    "## A hypothesis test based upon allele frequencies \n",
    "\n",
    "Consider the following data taken from version 3 of the gnomad browser concering a polymorphic site: "
   ]
  },
  {
   "cell_type": "code",
   "execution_count": 49,
   "id": "8f7d940a",
   "metadata": {},
   "outputs": [
    {
     "data": {
      "image/png": "[encoded data removed]",
      "text/plain": [
       "<IPython.core.display.Image object>"
      ]
     },
     "execution_count": 49,
     "metadata": {
      "image/png": {
       "width": 2000
      }
     },
     "output_type": "execute_result"
    }
   ],
   "source": [
    "# embed raw image data in notebook: \n",
    "# https://github.com/microsoft/vscode-jupyter/issues/6437\n",
    "from IPython.display import Image\n",
    "Image(filename='gnomad-allele-frequencies.png', width=2000)"
   ]
  },
  {
   "cell_type": "markdown",
   "id": "f7b177ca",
   "metadata": {},
   "source": [
    "These data tell us that, at site chr1:1,075,005, there are three segregating alleles: T, C and G. If we imagine \"breaking apart\" all the genotypes that were confidently called at this site, \n",
    "and pooling the resulting 152,246 chromosomes, then 185 of those chromosomes harbor the C allele, and 2 of them harbor the G allele. The remaining chromosomes harbor the T allele. (Note that we cannot know, based upon these data alone, how many of each of the possible diploid genotypes (T/T, T/C, T/G, G/C) exist in the cohort.)"
   ]
  },
  {
   "cell_type": "markdown",
   "id": "b7969727",
   "metadata": {},
   "source": [
    "We expect that leveraging both the number of polymorphic sites AND the ALT allele frequencies observed at those sites will increase our ability to reliably discover natural selection. For example, when the number of SNPs in a 100bp interval, say, is smaller than the number expected given the sequence that appears in those 100bp, one *might* suspect that purifing selection has been acting. Further, if the frequencies of the ALT alleles at those sites are smaller, in some sense, than an expectation derived from putatively neutral regions, then one's confidence in rejecting the neutral hypothesis is increased. \n",
    "\n"
   ]
  },
  {
   "cell_type": "markdown",
   "id": "496b7be2",
   "metadata": {},
   "source": [
    "## TODO: \n",
    "We can build a hypothesis test along these lines. Collect a large sample of 100bp regions, say. Stratify by the number of polymorphic sites per window, e.g., a stratum may consist of all windows with 10 or fewer SNPs. For each stratum, compute the fraction of SNPs in each window that are singletons in the population sample (cohort) under consideration. These empirical distributions (one for each stratum) yield approximations to a set of p-values: $P[F > f \\, | \\, N \\leq n]$. The conditioning is important as population-genetics simulations lead us to expect $P[F = f \\, | \\, N = n]$ to be wider when $N$ is smaller ([see here](https://docs.google.com/presentation/d/11jOQA2BSNMa10xb5lSksZDqiiyCr8Kgl6cDOCAFSFGA/edit?usp=sharing)). Reject the null hypothesis of neutrality when the computed p-value lies below a multiple-hypothesis-corrected significance threshold. \n"
   ]
  },
  {
   "cell_type": "markdown",
   "id": "28045cf7",
   "metadata": {},
   "source": [
    "\n",
    "# A combined statistical hypothesis test to call constraint (purifying selection)\n",
    "\n",
    "We now know how to compute two p-values. The first, $P[N \\leq n]$, represents the chance, under neutrality, that a SNP count is as low as observed given the sequence context. The second, $P[F>f \\, | \\, N \\leq n]$, represents the chance that the fraction of those SNPs that are singletons, $F$, is as high as the observed value, $f$, given the event that that there are $n$ or fewer SNPs in the window. \n",
    "\n",
    "Formulating the problem as two (dependent) p-values allows us to gauge the impact of the use of allele frequencies upon constraint discovery. Concretely, we can compare recall-FDR curves obtained using the p-value $P[N \\leq n]$ with those obtained using the *joint* p-value $P[F>f \\, , \\, N \\leq n] = P[F>f \\, | \\, N \\leq n] \\, P[N \\leq n]$. \n",
    "\n",
    "\n",
    "\n",
    "\n",
    "\n"
   ]
  },
  {
   "cell_type": "markdown",
   "id": "94dc4ff2",
   "metadata": {},
   "source": []
  }
 ],
 "metadata": {
  "kernelspec": {
   "display_name": "Python 3",
   "language": "python",
   "name": "python3"
  },
  "language_info": {
   "codemirror_mode": {
    "name": "ipython",
    "version": 3
   },
   "file_extension": ".py",
   "mimetype": "text/x-python",
   "name": "python",
   "nbconvert_exporter": "python",
   "pygments_lexer": "ipython3",
   "version": "3.9.0"
  },
  "toc": {
   "base_numbering": 1,
   "nav_menu": {},
   "number_sections": true,
   "sideBar": true,
   "skip_h1_title": false,
   "title_cell": "Table of Contents",
   "title_sidebar": "Contents",
   "toc_cell": false,
   "toc_position": {},
   "toc_section_display": true,
   "toc_window_display": false
  }
 },
 "nbformat": 4,
 "nbformat_minor": 5
}
