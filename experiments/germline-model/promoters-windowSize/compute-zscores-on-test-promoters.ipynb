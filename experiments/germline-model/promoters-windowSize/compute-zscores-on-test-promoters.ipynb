{
 "cells": [
  {
   "cell_type": "code",
   "execution_count": null,
   "metadata": {},
   "outputs": [],
   "source": [
    "from IPython.display import display, HTML\n",
    "display(HTML(\"<style>.container { width:100% !important; }</style>\"))"
   ]
  },
  {
   "cell_type": "code",
   "execution_count": null,
   "metadata": {
    "execution": {
     "iopub.execute_input": "2022-05-26T22:40:21.800581Z",
     "iopub.status.busy": "2022-05-26T22:40:21.799157Z",
     "iopub.status.idle": "2022-05-26T22:40:21.809360Z",
     "shell.execute_reply": "2022-05-26T22:40:21.808739Z"
    }
   },
   "outputs": [],
   "source": [
    "import logging \n",
    "\n",
    "logging.basicConfig(\n",
    "  format = '%(asctime)s %(message)s',\n",
    "  level=logging.INFO,\n",
    "  datefmt='%Y-%m-%d %H:%M:%S'\n",
    ")"
   ]
  },
  {
   "cell_type": "code",
   "execution_count": null,
   "metadata": {},
   "outputs": [],
   "source": [
    "import pandas as pd\n",
    "\n",
    "CONSTRAINT_TOOLS = '/scratch/ucgd/lustre-work/quinlan/u6018199/constraint-tools'\n",
    "promoters_filename = f'{CONSTRAINT_TOOLS}/download-process-data/promoters/promoters.grch38.test.csv'\n",
    "promoters = pd.read_csv(promoters_filename, sep=',')\n",
    "promoters"
   ]
  },
  {
   "cell_type": "code",
   "execution_count": null,
   "metadata": {},
   "outputs": [],
   "source": [
    "import sys\n",
    "sys.path.append('/scratch/ucgd/lustre-work/quinlan/u6018199/constraint-tools/utilities')\n",
    "\n",
    "from pack_unpack import unpack\n",
    "import pyranges as pr\n",
    "\n",
    "def add_chromosome_start_end(row): \n",
    "    region = row['region_grch38'] \n",
    "    row['Chromosome'], row['Start'], row['End'] = unpack(region)\n",
    "    return row\n",
    "\n",
    "promoters = promoters.apply(add_chromosome_start_end, axis=1)\n",
    "promoters = pr.PyRanges(promoters)\n",
    "promoters"
   ]
  },
  {
   "cell_type": "code",
   "execution_count": null,
   "metadata": {
    "execution": {
     "iopub.execute_input": "2022-05-26T22:40:33.179279Z",
     "iopub.status.busy": "2022-05-26T22:40:33.178153Z",
     "iopub.status.idle": "2022-05-26T22:40:34.428754Z",
     "shell.execute_reply": "2022-05-26T22:40:34.429232Z"
    }
   },
   "outputs": [],
   "source": [
    "\n",
    "# neutral regions that overlap train AND test promoters: \n",
    "neutral_regions = pr.read_bed('/scratch/ucgd/lustre-work/quinlan/data-shared/constraint-tools/work-train-germline-model/neutral-regions.filtered.bed')\n",
    "\n",
    "neutral_regions"
   ]
  },
  {
   "cell_type": "code",
   "execution_count": null,
   "metadata": {
    "execution": {
     "iopub.execute_input": "2022-05-26T22:40:34.441040Z",
     "iopub.status.busy": "2022-05-26T22:40:34.439986Z",
     "iopub.status.idle": "2022-05-26T22:40:34.631410Z",
     "shell.execute_reply": "2022-05-26T22:40:34.631872Z"
    }
   },
   "outputs": [],
   "source": [
    "promoters.promoter_id = promoters.df.index.values\n",
    "\n",
    "promoters"
   ]
  },
  {
   "cell_type": "code",
   "execution_count": null,
   "metadata": {
    "execution": {
     "iopub.execute_input": "2022-05-26T22:40:34.645756Z",
     "iopub.status.busy": "2022-05-26T22:40:34.644819Z",
     "iopub.status.idle": "2022-05-26T22:40:34.837807Z",
     "shell.execute_reply": "2022-05-26T22:40:34.838293Z"
    }
   },
   "outputs": [],
   "source": [
    "# https://pyranges.readthedocs.io/en/latest/autoapi/pyranges/pyranges/index.html?highlight=intersect#pyranges.pyranges.PyRanges.overlap\n",
    "\n",
    "promoters_that_overlap_neutral_regions = promoters.overlap(neutral_regions).df\n",
    "promoters_that_overlap_neutral_regions"
   ]
  },
  {
   "cell_type": "code",
   "execution_count": null,
   "metadata": {
    "execution": {
     "iopub.execute_input": "2022-05-26T22:40:34.852040Z",
     "iopub.status.busy": "2022-05-26T22:40:34.851089Z",
     "iopub.status.idle": "2022-05-26T22:40:35.119582Z",
     "shell.execute_reply": "2022-05-26T22:40:35.120054Z"
    }
   },
   "outputs": [],
   "source": [
    "# https://pyranges.readthedocs.io/en/latest/autoapi/pyranges/pyranges/index.html?highlight=intersect#pyranges.pyranges.PyRanges.intersect\n",
    "\n",
    "neutral_regions_within_promoters = promoters.intersect(neutral_regions).df[['Start', 'End', 'promoter_id']]\n",
    "neutral_regions_within_promoters\n"
   ]
  },
  {
   "cell_type": "code",
   "execution_count": null,
   "metadata": {
    "execution": {
     "iopub.execute_input": "2022-05-26T22:40:35.126530Z",
     "iopub.status.busy": "2022-05-26T22:40:35.125482Z",
     "iopub.status.idle": "2022-05-26T22:40:35.155060Z",
     "shell.execute_reply": "2022-05-26T22:40:35.155504Z"
    }
   },
   "outputs": [],
   "source": [
    "promoters_with_neutral_regions = pd.merge(\n",
    "  promoters_that_overlap_neutral_regions, \n",
    "  neutral_regions_within_promoters,\n",
    "  on='promoter_id', \n",
    "  how='inner'\n",
    ")\n",
    "promoters_with_neutral_regions = promoters_with_neutral_regions.rename(columns={\n",
    "  \"Start_x\": \"Start_promoter\", \n",
    "  \"End_x\": \"End_promoter\",\n",
    "  \"Start_y\": \"Start_neutral_part\", \n",
    "  \"End_y\": \"End_neutral_part\",\n",
    "})\n",
    "promoters_with_neutral_regions\n"
   ]
  },
  {
   "cell_type": "code",
   "execution_count": null,
   "metadata": {
    "execution": {
     "iopub.execute_input": "2022-05-26T22:40:35.161258Z",
     "iopub.status.busy": "2022-05-26T22:40:35.160248Z",
     "iopub.status.idle": "2022-05-26T22:40:35.848372Z",
     "shell.execute_reply": "2022-05-26T22:40:35.848844Z"
    }
   },
   "outputs": [],
   "source": [
    "def compute_neutral_part_length(row):\n",
    "    return row['End_neutral_part'] - row['Start_neutral_part']\n",
    "\n",
    "promoters_with_neutral_regions['neutral_part_length'] = promoters_with_neutral_regions.apply(compute_neutral_part_length, axis=1)\n",
    "promoters_with_neutral_regions"
   ]
  },
  {
   "cell_type": "code",
   "execution_count": null,
   "metadata": {
    "execution": {
     "iopub.execute_input": "2022-05-26T22:40:35.854240Z",
     "iopub.status.busy": "2022-05-26T22:40:35.853188Z",
     "iopub.status.idle": "2022-05-26T22:40:35.861473Z",
     "shell.execute_reply": "2022-05-26T22:40:35.861904Z"
    }
   },
   "outputs": [],
   "source": [
    "promoters_with_neutral_regions = promoters_with_neutral_regions[['promoter_id', 'neutral_part_length']]\n",
    "promoters_with_neutral_regions \n"
   ]
  },
  {
   "cell_type": "code",
   "execution_count": null,
   "metadata": {
    "execution": {
     "iopub.execute_input": "2022-05-26T22:40:35.866830Z",
     "iopub.status.busy": "2022-05-26T22:40:35.865842Z",
     "iopub.status.idle": "2022-05-26T22:40:35.873362Z",
     "shell.execute_reply": "2022-05-26T22:40:35.873771Z"
    }
   },
   "outputs": [],
   "source": [
    "grouped_neutral_regions = promoters_with_neutral_regions.groupby('promoter_id')\n",
    "\n",
    "number_neutral_bases = grouped_neutral_regions['neutral_part_length'].sum().rename(\"number_neutral_bases\")\n",
    "number_neutral_bases"
   ]
  },
  {
   "cell_type": "code",
   "execution_count": null,
   "metadata": {
    "execution": {
     "iopub.execute_input": "2022-05-26T22:40:35.878368Z",
     "iopub.status.busy": "2022-05-26T22:40:35.877311Z",
     "iopub.status.idle": "2022-05-26T22:40:35.882812Z",
     "shell.execute_reply": "2022-05-26T22:40:35.883251Z"
    }
   },
   "outputs": [],
   "source": [
    "number_neutral_parts = grouped_neutral_regions['neutral_part_length'].count().rename('number_neutral_parts')\n",
    "number_neutral_parts"
   ]
  },
  {
   "cell_type": "code",
   "execution_count": null,
   "metadata": {
    "execution": {
     "iopub.execute_input": "2022-05-26T22:40:35.894554Z",
     "iopub.status.busy": "2022-05-26T22:40:35.893504Z",
     "iopub.status.idle": "2022-05-26T22:40:35.937368Z",
     "shell.execute_reply": "2022-05-26T22:40:35.937779Z"
    }
   },
   "outputs": [],
   "source": [
    "promoters = ( \n",
    "  promoters.df\n",
    "  .merge(number_neutral_bases, on='promoter_id', how='inner')\n",
    "  .merge(number_neutral_parts, on='promoter_id', how='inner')\n",
    ")\n",
    "\n",
    "promoters"
   ]
  },
  {
   "cell_type": "code",
   "execution_count": null,
   "metadata": {},
   "outputs": [],
   "source": [
    "promoters['number_neutral_bases'].hist() "
   ]
  },
  {
   "cell_type": "code",
   "execution_count": null,
   "metadata": {
    "tags": [
     "parameters"
    ]
   },
   "outputs": [],
   "source": [
    "# https://papermill.readthedocs.io/en/latest/usage-parameterize.html\n",
    "window_size = None\n",
    "window_stride = None "
   ]
  },
  {
   "cell_type": "code",
   "execution_count": null,
   "metadata": {
    "execution": {
     "iopub.execute_input": "2022-05-26T22:40:35.971682Z",
     "iopub.status.busy": "2022-05-26T22:40:35.970763Z",
     "iopub.status.idle": "2022-05-27T00:45:42.617628Z",
     "shell.execute_reply": "2022-05-27T00:45:42.617003Z"
    }
   },
   "outputs": [],
   "source": [
    "#papermill_description=COMPUTE_ZSCORES\n",
    "\n",
    "import numpy as np \n",
    "\n",
    "sys.path.append('/scratch/ucgd/lustre-work/quinlan/u6018199/constraint-tools/predict-constraint/germline-model')\n",
    "\n",
    "from expected_observed_counts import (\n",
    "    compute_expected_observed_counts,\n",
    "    filter_by_regions\n",
    ")\n",
    "from pack_unpack import pack\n",
    "from read_model import read_model \n",
    "\n",
    "def filter_and_average(xs): \n",
    "    if not xs: return None \n",
    "    elif len(xs) == 0: return None\n",
    "    else: return np.mean([x for x in xs if x])\n",
    "\n",
    "model = read_model(f'/scratch/ucgd/lustre-work/quinlan/u6018199/constraint-tools/dist/model-germline-grch38-exclude-test-promoters.windowSize-{window_size}.json')\n",
    "\n",
    "def compute_neutral_zscores(row): \n",
    "    region = pack(row['Chromosome'], row['Start'], row['End'])  \n",
    "    expected_observed_counts = compute_expected_observed_counts(region, model, window_stride, log=False) \n",
    "    (\n",
    "        window_positions_neutral_regions, \n",
    "        N_bars_neutral_regions, \n",
    "        N_observeds_neutral_regions,\n",
    "        K_bars_neutral_regions,\n",
    "        K_observeds_neutral_regions\n",
    "    ) = filter_by_regions(\n",
    "        expected_observed_counts['windows'], \n",
    "        expected_observed_counts['NBars'], \n",
    "        expected_observed_counts['NObserveds'], \n",
    "        expected_observed_counts['KBars'], \n",
    "        expected_observed_counts['KObserveds'], \n",
    "        regions=neutral_regions, \n",
    "        how='containment'\n",
    "    )    \n",
    "    # https://www.dataquest.io/blog/settingwithcopywarning/\n",
    "    with pd.option_context('mode.chained_assignment', None):\n",
    "        row['N_bar_mean_neutral'] = filter_and_average(N_bars_neutral_regions)\n",
    "        row['N_observeds_mean_neutral'] = filter_and_average(N_observeds_neutral_regions)\n",
    "        row['K_bar_mean_neutral'] = filter_and_average(K_bars_neutral_regions)\n",
    "        row['K_observeds_mean_neutral'] = filter_and_average(K_observeds_neutral_regions)\n",
    "                \n",
    "    return row \n",
    "\n",
    "# https://stackoverflow.com/a/34365537/6674256\n",
    "from tqdm.auto import tqdm  # for notebooks\n",
    "tqdm.pandas()\n",
    "logging.info('Computing z-scores for promoters...')\n",
    "promoters_with_zscores = promoters.progress_apply(compute_neutral_zscores, axis=1)\n",
    "logging.info('...finished computing z-scores for promoters...')\n",
    "\n",
    "promoters_with_zscores"
   ]
  },
  {
   "cell_type": "code",
   "execution_count": null,
   "metadata": {},
   "outputs": [],
   "source": [
    "promoters_with_zscores = promoters_with_zscores.rename(columns={'cpg_density': 'cpg_density_region_grch38'})\n",
    "promoters_with_zscores"
   ]
  },
  {
   "cell_type": "code",
   "execution_count": null,
   "metadata": {
    "execution": {
     "iopub.execute_input": "2022-05-27T00:45:42.636579Z",
     "iopub.status.busy": "2022-05-27T00:45:42.635878Z",
     "iopub.status.idle": "2022-05-27T00:45:42.715930Z",
     "shell.execute_reply": "2022-05-27T00:45:42.716373Z"
    }
   },
   "outputs": [],
   "source": [
    "CONSTRAINT_TOOLS_DATA = '/scratch/ucgd/lustre-work/quinlan/data-shared/constraint-tools'\n",
    "promoters_with_zscores_path = (\n",
    "    f'{CONSTRAINT_TOOLS_DATA}/promoters-windowSize/grch38/'\n",
    "    f'promoters-with-zscores.windowSize-{window_size}.windowStride-{window_stride}.bed'\n",
    ")\n",
    "\n",
    "promoters_with_zscores.to_csv(promoters_with_zscores_path, index=False, sep='\\t')"
   ]
  },
  {
   "cell_type": "code",
   "execution_count": null,
   "metadata": {},
   "outputs": [],
   "source": []
  }
 ],
 "metadata": {
  "celltoolbar": "Tags",
  "interpreter": {
   "hash": "df54cb5dce7dc74a97e2b023bff17ef6454777ffe90e8086233a4289a5a53efc"
  },
  "kernelspec": {
   "display_name": "Python 3",
   "language": "python",
   "name": "python3"
  },
  "language_info": {
   "codemirror_mode": {
    "name": "ipython",
    "version": 3
   },
   "file_extension": ".py",
   "mimetype": "text/x-python",
   "name": "python",
   "nbconvert_exporter": "python",
   "pygments_lexer": "ipython3",
   "version": "3.9.0"
  }
 },
 "nbformat": 4,
 "nbformat_minor": 2
}
