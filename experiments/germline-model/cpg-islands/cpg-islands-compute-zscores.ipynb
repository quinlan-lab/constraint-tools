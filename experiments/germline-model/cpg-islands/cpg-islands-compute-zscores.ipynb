{
 "cells": [
  {
   "cell_type": "code",
   "execution_count": null,
   "metadata": {
    "execution": {
     "iopub.execute_input": "2022-05-26T22:40:21.800581Z",
     "iopub.status.busy": "2022-05-26T22:40:21.799157Z",
     "iopub.status.idle": "2022-05-26T22:40:21.809360Z",
     "shell.execute_reply": "2022-05-26T22:40:21.808739Z"
    }
   },
   "outputs": [],
   "source": [
    "import logging \n",
    "\n",
    "logging.basicConfig(\n",
    "  format = '%(asctime)s %(message)s',\n",
    "  level=logging.INFO,\n",
    "  datefmt='%Y-%m-%d %H:%M:%S'\n",
    ")"
   ]
  },
  {
   "cell_type": "code",
   "execution_count": null,
   "metadata": {
    "execution": {
     "iopub.execute_input": "2022-05-26T22:40:21.813837Z",
     "iopub.status.busy": "2022-05-26T22:40:21.813176Z",
     "iopub.status.idle": "2022-05-26T22:40:33.173708Z",
     "shell.execute_reply": "2022-05-26T22:40:33.174158Z"
    }
   },
   "outputs": [],
   "source": [
    "import pyranges as pr\n",
    "\n",
    "CONSTRAINT_TOOLS_DATA = '/scratch/ucgd/lustre-work/quinlan/data-shared/constraint-tools'\n",
    "cpg_islands_path = f'{CONSTRAINT_TOOLS_DATA}/cpg-islands/grch38/cpg-islands.sorted.bed.gz'\n",
    "\n",
    "# https://biocore-ntnu.github.io/pyranges/loadingcreating-pyranges.html\n",
    "cpg_islands = pr.read_bed(cpg_islands_path)\n",
    "\n",
    "cpg_islands.columns = ['Chromosome', 'Start', 'End', 'Name', 'Length', 'cpgNum', 'gcNum', 'perCpg', 'perGc', 'obsExp']\n",
    "cpg_islands"
   ]
  },
  {
   "cell_type": "code",
   "execution_count": null,
   "metadata": {
    "execution": {
     "iopub.execute_input": "2022-05-26T22:40:33.179279Z",
     "iopub.status.busy": "2022-05-26T22:40:33.178153Z",
     "iopub.status.idle": "2022-05-26T22:40:34.428754Z",
     "shell.execute_reply": "2022-05-26T22:40:34.429232Z"
    }
   },
   "outputs": [],
   "source": [
    "import sys\n",
    "sys.path.append('/scratch/ucgd/lustre-work/quinlan/u6018199/constraint-tools/utilities')\n",
    "\n",
    "from read_model import read_model \n",
    "\n",
    "model = read_model('/scratch/ucgd/lustre-work/quinlan/u6018199/constraint-tools/dist/model-germline-grch38.json')\n",
    "\n",
    "# https://biocore-ntnu.github.io/pyranges/loadingcreating-pyranges.html\n",
    "neutral_regions = pr.read_bed(model['neutralRegions'])\n",
    "\n",
    "neutral_regions"
   ]
  },
  {
   "cell_type": "code",
   "execution_count": null,
   "metadata": {
    "execution": {
     "iopub.execute_input": "2022-05-26T22:40:34.441040Z",
     "iopub.status.busy": "2022-05-26T22:40:34.439986Z",
     "iopub.status.idle": "2022-05-26T22:40:34.631410Z",
     "shell.execute_reply": "2022-05-26T22:40:34.631872Z"
    }
   },
   "outputs": [],
   "source": [
    "cpg_islands.cpg_island_id = cpg_islands.df.index.values\n",
    "\n",
    "def compute_cpg_island_region(row):\n",
    "  return f'{row[\"Chromosome\"]}:{row[\"Start\"]}-{row[\"End\"]}'\n",
    "cpg_islands.cpg_island_region = cpg_islands.df.apply(compute_cpg_island_region, axis=1)\n",
    "\n",
    "cpg_islands"
   ]
  },
  {
   "cell_type": "code",
   "execution_count": null,
   "metadata": {
    "execution": {
     "iopub.execute_input": "2022-05-26T22:40:34.645756Z",
     "iopub.status.busy": "2022-05-26T22:40:34.644819Z",
     "iopub.status.idle": "2022-05-26T22:40:34.837807Z",
     "shell.execute_reply": "2022-05-26T22:40:34.838293Z"
    }
   },
   "outputs": [],
   "source": [
    "# https://pyranges.readthedocs.io/en/latest/autoapi/pyranges/pyranges/index.html?highlight=intersect#pyranges.pyranges.PyRanges.overlap\n",
    "\n",
    "cpg_islands_that_overlap_neutral_regions = cpg_islands.overlap(neutral_regions).df\n",
    "cpg_islands_that_overlap_neutral_regions"
   ]
  },
  {
   "cell_type": "code",
   "execution_count": null,
   "metadata": {
    "execution": {
     "iopub.execute_input": "2022-05-26T22:40:34.852040Z",
     "iopub.status.busy": "2022-05-26T22:40:34.851089Z",
     "iopub.status.idle": "2022-05-26T22:40:35.119582Z",
     "shell.execute_reply": "2022-05-26T22:40:35.120054Z"
    }
   },
   "outputs": [],
   "source": [
    "# https://pyranges.readthedocs.io/en/latest/autoapi/pyranges/pyranges/index.html?highlight=intersect#pyranges.pyranges.PyRanges.intersect\n",
    "\n",
    "neutral_regions_within_cpg_islands = cpg_islands.intersect(neutral_regions).df[['Start', 'End', 'cpg_island_id']]\n",
    "neutral_regions_within_cpg_islands\n"
   ]
  },
  {
   "cell_type": "code",
   "execution_count": null,
   "metadata": {
    "execution": {
     "iopub.execute_input": "2022-05-26T22:40:35.126530Z",
     "iopub.status.busy": "2022-05-26T22:40:35.125482Z",
     "iopub.status.idle": "2022-05-26T22:40:35.155060Z",
     "shell.execute_reply": "2022-05-26T22:40:35.155504Z"
    }
   },
   "outputs": [],
   "source": [
    "import pandas as pd\n",
    "\n",
    "cpg_islands_with_neutral_regions = pd.merge(\n",
    "  cpg_islands_that_overlap_neutral_regions, \n",
    "  neutral_regions_within_cpg_islands, \n",
    "  on='cpg_island_id', \n",
    "  how='inner'\n",
    ")\n",
    "cpg_islands_with_neutral_regions = cpg_islands_with_neutral_regions.rename(columns={\n",
    "  \"Start_x\": \"Start_cpg_island\", \n",
    "  \"End_x\": \"End_cpg_island\",\n",
    "  \"Start_y\": \"Start_neutral_part\", \n",
    "  \"End_y\": \"End_neutral_part\",\n",
    "})\n",
    "cpg_islands_with_neutral_regions\n"
   ]
  },
  {
   "cell_type": "code",
   "execution_count": null,
   "metadata": {
    "execution": {
     "iopub.execute_input": "2022-05-26T22:40:35.161258Z",
     "iopub.status.busy": "2022-05-26T22:40:35.160248Z",
     "iopub.status.idle": "2022-05-26T22:40:35.848372Z",
     "shell.execute_reply": "2022-05-26T22:40:35.848844Z"
    }
   },
   "outputs": [],
   "source": [
    "def compute_neutral_part_length(row):\n",
    "  return row['End_neutral_part'] - row['Start_neutral_part']\n",
    "\n",
    "cpg_islands_with_neutral_regions['neutral_part_length'] = cpg_islands_with_neutral_regions.apply(compute_neutral_part_length, axis=1)\n",
    "cpg_islands_with_neutral_regions"
   ]
  },
  {
   "cell_type": "code",
   "execution_count": null,
   "metadata": {
    "execution": {
     "iopub.execute_input": "2022-05-26T22:40:35.854240Z",
     "iopub.status.busy": "2022-05-26T22:40:35.853188Z",
     "iopub.status.idle": "2022-05-26T22:40:35.861473Z",
     "shell.execute_reply": "2022-05-26T22:40:35.861904Z"
    }
   },
   "outputs": [],
   "source": [
    "cpg_islands_with_neutral_regions = cpg_islands_with_neutral_regions[['cpg_island_id', 'neutral_part_length']]\n",
    "cpg_islands_with_neutral_regions \n"
   ]
  },
  {
   "cell_type": "code",
   "execution_count": null,
   "metadata": {
    "execution": {
     "iopub.execute_input": "2022-05-26T22:40:35.866830Z",
     "iopub.status.busy": "2022-05-26T22:40:35.865842Z",
     "iopub.status.idle": "2022-05-26T22:40:35.873362Z",
     "shell.execute_reply": "2022-05-26T22:40:35.873771Z"
    }
   },
   "outputs": [],
   "source": [
    "grouped_neutral_regions = cpg_islands_with_neutral_regions.groupby('cpg_island_id')\n",
    "\n",
    "number_neutral_bases = grouped_neutral_regions['neutral_part_length'].sum().rename(\"number_neutral_bases\")\n",
    "number_neutral_bases"
   ]
  },
  {
   "cell_type": "code",
   "execution_count": null,
   "metadata": {
    "execution": {
     "iopub.execute_input": "2022-05-26T22:40:35.878368Z",
     "iopub.status.busy": "2022-05-26T22:40:35.877311Z",
     "iopub.status.idle": "2022-05-26T22:40:35.882812Z",
     "shell.execute_reply": "2022-05-26T22:40:35.883251Z"
    }
   },
   "outputs": [],
   "source": [
    "number_neutral_parts = grouped_neutral_regions['neutral_part_length'].count().rename('number_neutral_parts')\n",
    "number_neutral_parts"
   ]
  },
  {
   "cell_type": "code",
   "execution_count": null,
   "metadata": {
    "execution": {
     "iopub.execute_input": "2022-05-26T22:40:35.894554Z",
     "iopub.status.busy": "2022-05-26T22:40:35.893504Z",
     "iopub.status.idle": "2022-05-26T22:40:35.937368Z",
     "shell.execute_reply": "2022-05-26T22:40:35.937779Z"
    }
   },
   "outputs": [],
   "source": [
    "cpg_islands = ( \n",
    "  cpg_islands.df\n",
    "  .merge(number_neutral_bases, on='cpg_island_id', how='inner')\n",
    "  .merge(number_neutral_parts, on='cpg_island_id', how='inner')\n",
    ")\n",
    "\n",
    "cpg_islands"
   ]
  },
  {
   "cell_type": "code",
   "execution_count": null,
   "metadata": {
    "tags": [
     "parameters"
    ]
   },
   "outputs": [],
   "source": [
    "# https://papermill.readthedocs.io/en/latest/usage-parameterize.html\n",
    "number_neutral_bases_lower = None\n",
    "number_neutral_bases_upper = None"
   ]
  },
  {
   "cell_type": "code",
   "execution_count": null,
   "metadata": {
    "execution": {
     "iopub.execute_input": "2022-05-26T22:40:35.943703Z",
     "iopub.status.busy": "2022-05-26T22:40:35.942621Z",
     "iopub.status.idle": "2022-05-26T22:40:35.963895Z",
     "shell.execute_reply": "2022-05-26T22:40:35.964314Z"
    }
   },
   "outputs": [],
   "source": [
    "# https://pandas.pydata.org/pandas-docs/stable/getting_started/intro_tutorials/03_subset_data.html#how-do-i-filter-specific-rows-from-a-dataframe\n",
    "cpg_islands = cpg_islands[\n",
    "    (cpg_islands.number_neutral_bases > number_neutral_bases_lower) & \n",
    "    (cpg_islands.number_neutral_bases < number_neutral_bases_upper) & \n",
    "    (cpg_islands.number_neutral_parts < 5)\n",
    "]\n",
    "cpg_islands"
   ]
  },
  {
   "cell_type": "code",
   "execution_count": null,
   "metadata": {
    "execution": {
     "iopub.execute_input": "2022-05-26T22:40:35.971682Z",
     "iopub.status.busy": "2022-05-26T22:40:35.970763Z",
     "iopub.status.idle": "2022-05-27T00:45:42.617628Z",
     "shell.execute_reply": "2022-05-27T00:45:42.617003Z"
    }
   },
   "outputs": [],
   "source": [
    "#papermill_description=COMPUTE_ZSCORES\n",
    "\n",
    "sys.path.append('/scratch/ucgd/lustre-work/quinlan/u6018199/constraint-tools/predict-constraint/germline-model')\n",
    "\n",
    "import numpy as np \n",
    "\n",
    "from expected_observed_counts import compute_expected_observed_counts\n",
    "from pack_unpack import pack\n",
    "\n",
    "window_stride = 10 \n",
    "\n",
    "def filter_and_average(xs): \n",
    "  if not xs: return None \n",
    "  else: return np.mean([x for x in xs if x])\n",
    "\n",
    "def compute_neutral_zscores(row): \n",
    "  region = pack(row.Chromosome, row.Start, row.End)  \n",
    "  expected_observed_counts = compute_expected_observed_counts(region, model, window_stride, log=False) \n",
    "  # https://www.dataquest.io/blog/settingwithcopywarning/\n",
    "  with pd.option_context('mode.chained_assignment', None):\n",
    "    row['N_bar_mean_neutral'] = filter_and_average(expected_observed_counts['NBarsNeutralRegions'])\n",
    "    row['N_observeds_mean_neutral'] = filter_and_average(expected_observed_counts['NObservedsNeutralRegions'])\n",
    "    row['K_bar_mean_neutral'] = filter_and_average(expected_observed_counts['KBarsNeutralRegions'])\n",
    "    row['K_observeds_mean_neutral'] = filter_and_average(expected_observed_counts['KObservedsNeutralRegions'])\n",
    "  return row \n",
    "\n",
    "# https://stackoverflow.com/a/34365537/6674256\n",
    "from tqdm.auto import tqdm  # for notebooks\n",
    "tqdm.pandas()\n",
    "logging.info('Computing z-scores for cpg islands...')\n",
    "cpg_islands_with_zscores = cpg_islands.progress_apply(compute_neutral_zscores, axis=1)\n",
    "logging.info('...finished computing z-scores for cpg islands...')\n",
    "\n",
    "cpg_islands_with_zscores.head()"
   ]
  },
  {
   "cell_type": "code",
   "execution_count": null,
   "metadata": {
    "execution": {
     "iopub.execute_input": "2022-05-27T00:45:42.636579Z",
     "iopub.status.busy": "2022-05-27T00:45:42.635878Z",
     "iopub.status.idle": "2022-05-27T00:45:42.715930Z",
     "shell.execute_reply": "2022-05-27T00:45:42.716373Z"
    }
   },
   "outputs": [],
   "source": [
    "cpg_islands_with_zscores_path = (\n",
    "    f'{CONSTRAINT_TOOLS_DATA}/cpg-islands/grch38/'\n",
    "    f'cpg-islands-with-zscores.{number_neutral_bases_lower}-{number_neutral_bases_upper}.bed'\n",
    ")\n",
    "\n",
    "cpg_islands_with_zscores.to_csv(cpg_islands_with_zscores_path, index=False, sep='\\t')"
   ]
  }
 ],
 "metadata": {
  "celltoolbar": "Tags",
  "interpreter": {
   "hash": "df54cb5dce7dc74a97e2b023bff17ef6454777ffe90e8086233a4289a5a53efc"
  },
  "kernelspec": {
   "display_name": "Python 3",
   "language": "python",
   "name": "python3"
  },
  "language_info": {
   "codemirror_mode": {
    "name": "ipython",
    "version": 3
   },
   "file_extension": ".py",
   "mimetype": "text/x-python",
   "name": "python",
   "nbconvert_exporter": "python",
   "pygments_lexer": "ipython3",
   "version": "3.9.0"
  }
 },
 "nbformat": 4,
 "nbformat_minor": 2
}
