{
 "cells": [
  {
   "cell_type": "code",
   "execution_count": null,
   "metadata": {
    "execution": {
     "iopub.execute_input": "2022-05-26T17:26:03.212892Z",
     "iopub.status.busy": "2022-05-26T17:26:03.212077Z",
     "iopub.status.idle": "2022-05-26T17:26:03.214813Z",
     "shell.execute_reply": "2022-05-26T17:26:03.215413Z"
    }
   },
   "outputs": [],
   "source": [
    "import logging \n",
    "\n",
    "logging.basicConfig(\n",
    "  format = '%(asctime)s %(message)s',\n",
    "  level=logging.INFO,\n",
    "  datefmt='%Y-%m-%d %H:%M:%S'\n",
    ")"
   ]
  },
  {
   "cell_type": "code",
   "execution_count": null,
   "metadata": {
    "execution": {
     "iopub.execute_input": "2022-05-26T17:26:03.220444Z",
     "iopub.status.busy": "2022-05-26T17:26:03.219367Z",
     "iopub.status.idle": "2022-05-26T17:26:04.310252Z",
     "shell.execute_reply": "2022-05-26T17:26:04.310929Z"
    }
   },
   "outputs": [],
   "source": [
    "import pyranges as pr\n",
    "\n",
    "CONSTRAINT_TOOLS_DATA = '/scratch/ucgd/lustre-work/quinlan/data-shared/constraint-tools'\n",
    "cpg_islands_path = f'{CONSTRAINT_TOOLS_DATA}/cpg-islands/grch38/cpg-islands.sorted.bed.gz'\n",
    "\n",
    "# https://biocore-ntnu.github.io/pyranges/loadingcreating-pyranges.html\n",
    "cpg_islands = pr.read_bed(cpg_islands_path)\n",
    "\n",
    "cpg_islands.columns = ['Chromosome', 'Start', 'End', 'Name', 'Length', 'cpgNum', 'gcNum', 'perCpg', 'perGc', 'obsExp']\n",
    "cpg_islands"
   ]
  },
  {
   "cell_type": "code",
   "execution_count": null,
   "metadata": {
    "execution": {
     "iopub.execute_input": "2022-05-26T17:26:04.316313Z",
     "iopub.status.busy": "2022-05-26T17:26:04.315442Z",
     "iopub.status.idle": "2022-05-26T17:26:05.458974Z",
     "shell.execute_reply": "2022-05-26T17:26:05.459500Z"
    }
   },
   "outputs": [],
   "source": [
    "import sys\n",
    "sys.path.append('/scratch/ucgd/lustre-work/quinlan/u6018199/constraint-tools/utilities')\n",
    "\n",
    "from read_model import read_model \n",
    "\n",
    "model = read_model('/scratch/ucgd/lustre-work/quinlan/u6018199/constraint-tools/dist/model-germline-grch38.json')\n",
    "\n",
    "# https://biocore-ntnu.github.io/pyranges/loadingcreating-pyranges.html\n",
    "neutral_regions = pr.read_bed(model['neutralRegions'])\n",
    "\n",
    "neutral_regions"
   ]
  },
  {
   "cell_type": "code",
   "execution_count": null,
   "metadata": {
    "execution": {
     "iopub.execute_input": "2022-05-26T17:26:05.471327Z",
     "iopub.status.busy": "2022-05-26T17:26:05.470271Z",
     "iopub.status.idle": "2022-05-26T17:26:05.642488Z",
     "shell.execute_reply": "2022-05-26T17:26:05.642920Z"
    }
   },
   "outputs": [],
   "source": [
    "cpg_islands.cpg_island_id = cpg_islands.df.index.values\n",
    "cpg_islands"
   ]
  },
  {
   "cell_type": "code",
   "execution_count": null,
   "metadata": {
    "execution": {
     "iopub.execute_input": "2022-05-26T17:26:05.657070Z",
     "iopub.status.busy": "2022-05-26T17:26:05.656121Z",
     "iopub.status.idle": "2022-05-26T17:26:05.846518Z",
     "shell.execute_reply": "2022-05-26T17:26:05.847042Z"
    }
   },
   "outputs": [],
   "source": [
    "# https://pyranges.readthedocs.io/en/latest/autoapi/pyranges/pyranges/index.html?highlight=intersect#pyranges.pyranges.PyRanges.overlap\n",
    "\n",
    "cpg_islands_that_overlap_neutral_regions = cpg_islands.overlap(neutral_regions).df\n",
    "cpg_islands_that_overlap_neutral_regions"
   ]
  },
  {
   "cell_type": "code",
   "execution_count": null,
   "metadata": {
    "execution": {
     "iopub.execute_input": "2022-05-26T17:26:05.861446Z",
     "iopub.status.busy": "2022-05-26T17:26:05.860485Z",
     "iopub.status.idle": "2022-05-26T17:26:06.131244Z",
     "shell.execute_reply": "2022-05-26T17:26:06.131770Z"
    }
   },
   "outputs": [],
   "source": [
    "# https://pyranges.readthedocs.io/en/latest/autoapi/pyranges/pyranges/index.html?highlight=intersect#pyranges.pyranges.PyRanges.intersect\n",
    "\n",
    "neutral_regions_within_cpg_islands = cpg_islands.intersect(neutral_regions).df[['Start', 'End', 'cpg_island_id']]\n",
    "neutral_regions_within_cpg_islands\n"
   ]
  },
  {
   "cell_type": "code",
   "execution_count": null,
   "metadata": {
    "execution": {
     "iopub.execute_input": "2022-05-26T17:26:06.139208Z",
     "iopub.status.busy": "2022-05-26T17:26:06.138163Z",
     "iopub.status.idle": "2022-05-26T17:26:06.167164Z",
     "shell.execute_reply": "2022-05-26T17:26:06.167600Z"
    }
   },
   "outputs": [],
   "source": [
    "import pandas as pd\n",
    "\n",
    "cpg_islands_with_neutral_regions = pd.merge(cpg_islands_that_overlap_neutral_regions, neutral_regions_within_cpg_islands, on='cpg_island_id', how='inner')\n",
    "cpg_islands_with_neutral_regions = cpg_islands_with_neutral_regions.rename(columns={\n",
    "  \"Start_x\": \"Start_cpg_island\", \n",
    "  \"End_x\": \"End_cpg_island\",\n",
    "  \"Start_y\": \"Start_neutral_part\", \n",
    "  \"End_y\": \"End_neutral_part\",\n",
    "})\n",
    "cpg_islands_with_neutral_regions\n"
   ]
  },
  {
   "cell_type": "code",
   "execution_count": null,
   "metadata": {
    "execution": {
     "iopub.execute_input": "2022-05-26T17:26:06.172765Z",
     "iopub.status.busy": "2022-05-26T17:26:06.171745Z",
     "iopub.status.idle": "2022-05-26T17:26:06.812425Z",
     "shell.execute_reply": "2022-05-26T17:26:06.812947Z"
    }
   },
   "outputs": [],
   "source": [
    "def compute_neutral_part_length(row):\n",
    "  return row['End_neutral_part'] - row['Start_neutral_part']\n",
    "\n",
    "cpg_islands_with_neutral_regions['neutral_part_length'] = cpg_islands_with_neutral_regions.apply(compute_neutral_part_length, axis=1)\n",
    "cpg_islands_with_neutral_regions"
   ]
  },
  {
   "cell_type": "code",
   "execution_count": null,
   "metadata": {
    "execution": {
     "iopub.execute_input": "2022-05-26T17:26:06.818445Z",
     "iopub.status.busy": "2022-05-26T17:26:06.817382Z",
     "iopub.status.idle": "2022-05-26T17:26:06.825568Z",
     "shell.execute_reply": "2022-05-26T17:26:06.826046Z"
    }
   },
   "outputs": [],
   "source": [
    "cpg_islands_with_neutral_regions = cpg_islands_with_neutral_regions[['cpg_island_id', 'neutral_part_length']]\n",
    "cpg_islands_with_neutral_regions \n"
   ]
  },
  {
   "cell_type": "code",
   "execution_count": null,
   "metadata": {
    "execution": {
     "iopub.execute_input": "2022-05-26T17:26:06.831002Z",
     "iopub.status.busy": "2022-05-26T17:26:06.830014Z",
     "iopub.status.idle": "2022-05-26T17:26:06.837510Z",
     "shell.execute_reply": "2022-05-26T17:26:06.837944Z"
    }
   },
   "outputs": [],
   "source": [
    "grouped_neutral_regions = cpg_islands_with_neutral_regions.groupby('cpg_island_id')\n",
    "\n",
    "number_neutral_bases = grouped_neutral_regions['neutral_part_length'].sum().rename(\"number_neutral_bases\")\n",
    "number_neutral_bases"
   ]
  },
  {
   "cell_type": "code",
   "execution_count": null,
   "metadata": {
    "execution": {
     "iopub.execute_input": "2022-05-26T17:26:06.842566Z",
     "iopub.status.busy": "2022-05-26T17:26:06.841515Z",
     "iopub.status.idle": "2022-05-26T17:26:06.847547Z",
     "shell.execute_reply": "2022-05-26T17:26:06.847966Z"
    }
   },
   "outputs": [],
   "source": [
    "number_neutral_parts = grouped_neutral_regions['neutral_part_length'].count().rename('number_neutral_parts')\n",
    "number_neutral_parts"
   ]
  },
  {
   "cell_type": "code",
   "execution_count": null,
   "metadata": {
    "execution": {
     "iopub.execute_input": "2022-05-26T17:26:06.859619Z",
     "iopub.status.busy": "2022-05-26T17:26:06.858564Z",
     "iopub.status.idle": "2022-05-26T17:26:06.902770Z",
     "shell.execute_reply": "2022-05-26T17:26:06.903219Z"
    }
   },
   "outputs": [],
   "source": [
    "cpg_islands = ( \n",
    "  cpg_islands.df\n",
    "  .merge(number_neutral_bases, on='cpg_island_id', how='inner')\n",
    "  .merge(number_neutral_parts, on='cpg_island_id', how='inner')\n",
    ")\n",
    "\n",
    "cpg_islands"
   ]
  },
  {
   "cell_type": "code",
   "execution_count": null,
   "metadata": {
    "execution": {
     "iopub.execute_input": "2022-05-26T17:26:06.909197Z",
     "iopub.status.busy": "2022-05-26T17:26:06.908133Z",
     "iopub.status.idle": "2022-05-26T17:26:06.929645Z",
     "shell.execute_reply": "2022-05-26T17:26:06.930090Z"
    }
   },
   "outputs": [],
   "source": [
    "# https://pandas.pydata.org/pandas-docs/stable/getting_started/intro_tutorials/03_subset_data.html#how-do-i-filter-specific-rows-from-a-dataframe\n",
    "cpg_islands = cpg_islands[(cpg_islands.number_neutral_bases > 1000) & (cpg_islands.number_neutral_parts < 5)]\n",
    "cpg_islands"
   ]
  },
  {
   "cell_type": "code",
   "execution_count": null,
   "metadata": {
    "execution": {
     "iopub.execute_input": "2022-05-26T17:26:06.942621Z",
     "iopub.status.busy": "2022-05-26T17:26:06.941757Z",
     "iopub.status.idle": "2022-05-26T17:30:16.119999Z",
     "shell.execute_reply": "2022-05-26T17:30:16.120417Z"
    }
   },
   "outputs": [],
   "source": [
    "sys.path.append('/scratch/ucgd/lustre-work/quinlan/u6018199/constraint-tools/predict-constraint/germline-model')\n",
    "\n",
    "import numpy as np \n",
    "\n",
    "from expected_observed_counts import compute_expected_observed_counts\n",
    "from pack_unpack import pack\n",
    "\n",
    "window_stride = 10 \n",
    "\n",
    "def filter_and_average(xs): \n",
    "  xs_filtered = [x for x in xs if x]\n",
    "  return np.mean(xs_filtered) \n",
    "\n",
    "def compute_neutral_zscores(row): \n",
    "  region = pack(row.Chromosome, row.Start, row.End)  \n",
    "  expected_observed_counts = compute_expected_observed_counts(region, model, window_stride, log=False) \n",
    "  # https://www.dataquest.io/blog/settingwithcopywarning/\n",
    "  with pd.option_context('mode.chained_assignment', None):\n",
    "    row['N_bar_mean_neutral'] = filter_and_average(expected_observed_counts['NBarsNeutralRegions'])\n",
    "    row['K_bar_mean_neutral'] = filter_and_average(expected_observed_counts['KBarsNeutralRegions'])\n",
    "  return row \n",
    "\n",
    "# https://stackoverflow.com/a/34365537/6674256\n",
    "from tqdm.auto import tqdm  # for notebooks\n",
    "tqdm.pandas()\n",
    "logging.info('Computing z-scores for cpg islands...')\n",
    "cpg_islands_with_zscores = cpg_islands.progress_apply(compute_neutral_zscores, axis=1)\n",
    "logging.info('...finished computing z-scores for cpg islands...')\n",
    "\n",
    "cpg_islands_with_zscores.head()"
   ]
  },
  {
   "cell_type": "code",
   "execution_count": null,
   "metadata": {
    "execution": {
     "iopub.execute_input": "2022-05-26T17:30:16.125153Z",
     "iopub.status.busy": "2022-05-26T17:30:16.124278Z",
     "iopub.status.idle": "2022-05-26T17:30:16.134195Z",
     "shell.execute_reply": "2022-05-26T17:30:16.134606Z"
    }
   },
   "outputs": [],
   "source": [
    "cpg_islands_with_zscores_path = f'{CONSTRAINT_TOOLS_DATA}/cpg-islands/grch38/cpg-islands-with-zscores.bed'\n",
    "\n",
    "cpg_islands_with_zscores.to_csv(cpg_islands_with_zscores_path, index=False, sep='\\t')"
   ]
  },
  {
   "cell_type": "code",
   "execution_count": null,
   "metadata": {
    "execution": {
     "iopub.execute_input": "2022-05-26T17:30:16.139410Z",
     "iopub.status.busy": "2022-05-26T17:30:16.138574Z",
     "iopub.status.idle": "2022-05-26T17:30:16.830579Z",
     "shell.execute_reply": "2022-05-26T17:30:16.831004Z"
    }
   },
   "outputs": [],
   "source": [
    "import matplotlib.pyplot as plt \n",
    "plt.rcParams.update({'font.size': 20})\n",
    "\n",
    "cpg_islands_with_zscores.plot.scatter(x=\"perCpg\", y=\"N_bar_mean_neutral\", alpha=0.5)\n",
    "cpg_islands_with_zscores.plot.scatter(x=\"perCpg\", y=\"K_bar_mean_neutral\", alpha=0.5)"
   ]
  }
 ],
 "metadata": {
  "interpreter": {
   "hash": "df54cb5dce7dc74a97e2b023bff17ef6454777ffe90e8086233a4289a5a53efc"
  },
  "kernelspec": {
   "display_name": "Python 3.9.0 ('constraint-tools')",
   "language": "python",
   "name": "python3"
  },
  "language_info": {
   "codemirror_mode": {
    "name": "ipython",
    "version": 3
   },
   "file_extension": ".py",
   "mimetype": "text/x-python",
   "name": "python",
   "nbconvert_exporter": "python",
   "pygments_lexer": "ipython3",
   "version": "3.9.0"
  }
 },
 "nbformat": 4,
 "nbformat_minor": 2
}
