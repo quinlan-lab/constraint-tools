{
 "cells": [
  {
   "attachments": {},
   "cell_type": "markdown",
   "id": "ef98cb52",
   "metadata": {},
   "source": [
    "## Windows with z-scores for SNV density, and information about the enhancers that overlap those windows \n",
    "\n",
    "I used the following script to add enhancer information (target gene, enhancer-gene association, etc)\n",
    "```\n",
    "experiments/germline-model/chen-et-al-2022/add-enhancer-info.sh\n",
    "```\n",
    "\n",
    "writing the data to\n",
    "\n",
    "```\n",
    "${CONSTRAINT_TOOLS_DATA}/benchmark-genome-wide-predictions/chen-et-al-2022/mchale.kmerSizes.trainSets.noisy.overlapAmounts.cpg-islands.enhancer-info.bed\n",
    "```\n",
    "\n",
    "Genehancer paper: https://www.ncbi.nlm.nih.gov/pmc/articles/PMC5467550/"
   ]
  },
  {
   "cell_type": "code",
   "execution_count": 1,
   "id": "82623862",
   "metadata": {},
   "outputs": [],
   "source": [
    "CONSTRAINT_TOOLS_DATA = '/scratch/ucgd/lustre-work/quinlan/data-shared/constraint-tools'"
   ]
  },
  {
   "cell_type": "code",
   "execution_count": 2,
   "id": "cf9265a1",
   "metadata": {},
   "outputs": [
    {
     "data": {
      "text/html": [
       "<div>\n",
       "<style scoped>\n",
       "    .dataframe tbody tr th:only-of-type {\n",
       "        vertical-align: middle;\n",
       "    }\n",
       "\n",
       "    .dataframe tbody tr th {\n",
       "        vertical-align: top;\n",
       "    }\n",
       "\n",
       "    .dataframe thead th {\n",
       "        text-align: right;\n",
       "    }\n",
       "</style>\n",
       "<table border=\"1\" class=\"dataframe\">\n",
       "  <thead>\n",
       "    <tr style=\"text-align: right;\">\n",
       "      <th></th>\n",
       "      <th>chromosome</th>\n",
       "      <th>start</th>\n",
       "      <th>end</th>\n",
       "      <th>N_observed</th>\n",
       "      <th>N_bar_3_noncoding</th>\n",
       "      <th>N_mean_null_3_noncoding</th>\n",
       "      <th>N_variance_null_3_noncoding</th>\n",
       "      <th>cpg_island overlap</th>\n",
       "      <th>enhancer overlap</th>\n",
       "      <th>merged_exon overlap</th>\n",
       "      <th>window overlaps enhancer</th>\n",
       "      <th>window overlaps merged_exon</th>\n",
       "      <th>window overlaps cpg_island</th>\n",
       "      <th>new chen zscore</th>\n",
       "      <th>negative new chen zscore</th>\n",
       "      <th>enhancer_chromosome</th>\n",
       "      <th>enhancer_start</th>\n",
       "      <th>enhancer_end</th>\n",
       "      <th>GHid</th>\n",
       "      <th>enhancer_type</th>\n",
       "      <th>eliteness_of_enhancer</th>\n",
       "      <th>gene_targeted_by_enhancer|enhancer_gene_association_score|elite_enhancer_gene_association</th>\n",
       "      <th>window_enhancer_overlap_bps</th>\n",
       "    </tr>\n",
       "  </thead>\n",
       "  <tbody>\n",
       "    <tr>\n",
       "      <th>0</th>\n",
       "      <td>chr1</td>\n",
       "      <td>1432000</td>\n",
       "      <td>1433000</td>\n",
       "      <td>260</td>\n",
       "      <td>-0.247615</td>\n",
       "      <td>263.528599</td>\n",
       "      <td>203.072610</td>\n",
       "      <td>NaN</td>\n",
       "      <td>1000.0</td>\n",
       "      <td>NaN</td>\n",
       "      <td>True</td>\n",
       "      <td>False</td>\n",
       "      <td>False</td>\n",
       "      <td>4.299894</td>\n",
       "      <td>-4.299894</td>\n",
       "      <td>chr1</td>\n",
       "      <td>1428218</td>\n",
       "      <td>1438733</td>\n",
       "      <td>GH01J001428</td>\n",
       "      <td>Promoter/Enhancer</td>\n",
       "      <td>1.0</td>\n",
       "      <td>CDK11B|9.84|0;ATAD3B|9.83|0;FAAP20|9.83|0;VWA1...</td>\n",
       "      <td>1000</td>\n",
       "    </tr>\n",
       "    <tr>\n",
       "      <th>1</th>\n",
       "      <td>chr1</td>\n",
       "      <td>1435000</td>\n",
       "      <td>1436000</td>\n",
       "      <td>275</td>\n",
       "      <td>-7.547130</td>\n",
       "      <td>387.939429</td>\n",
       "      <td>223.937877</td>\n",
       "      <td>440.0</td>\n",
       "      <td>1000.0</td>\n",
       "      <td>444.0</td>\n",
       "      <td>True</td>\n",
       "      <td>True</td>\n",
       "      <td>True</td>\n",
       "      <td>3.331645</td>\n",
       "      <td>-3.331645</td>\n",
       "      <td>chr1</td>\n",
       "      <td>1428218</td>\n",
       "      <td>1438733</td>\n",
       "      <td>GH01J001428</td>\n",
       "      <td>Promoter/Enhancer</td>\n",
       "      <td>1.0</td>\n",
       "      <td>CDK11B|9.84|0;ATAD3B|9.83|0;FAAP20|9.83|0;VWA1...</td>\n",
       "      <td>1000</td>\n",
       "    </tr>\n",
       "    <tr>\n",
       "      <th>2</th>\n",
       "      <td>chr1</td>\n",
       "      <td>1449000</td>\n",
       "      <td>1450000</td>\n",
       "      <td>225</td>\n",
       "      <td>0.258359</td>\n",
       "      <td>221.559138</td>\n",
       "      <td>177.372370</td>\n",
       "      <td>NaN</td>\n",
       "      <td>NaN</td>\n",
       "      <td>311.0</td>\n",
       "      <td>False</td>\n",
       "      <td>True</td>\n",
       "      <td>False</td>\n",
       "      <td>1.817267</td>\n",
       "      <td>-1.817267</td>\n",
       "      <td>.</td>\n",
       "      <td>-1</td>\n",
       "      <td>-1</td>\n",
       "      <td>.</td>\n",
       "      <td>.</td>\n",
       "      <td>NaN</td>\n",
       "      <td>.</td>\n",
       "      <td>0</td>\n",
       "    </tr>\n",
       "    <tr>\n",
       "      <th>3</th>\n",
       "      <td>chr1</td>\n",
       "      <td>1450000</td>\n",
       "      <td>1451000</td>\n",
       "      <td>313</td>\n",
       "      <td>2.197534</td>\n",
       "      <td>281.968822</td>\n",
       "      <td>199.400099</td>\n",
       "      <td>NaN</td>\n",
       "      <td>NaN</td>\n",
       "      <td>758.0</td>\n",
       "      <td>False</td>\n",
       "      <td>True</td>\n",
       "      <td>False</td>\n",
       "      <td>1.365863</td>\n",
       "      <td>-1.365863</td>\n",
       "      <td>.</td>\n",
       "      <td>-1</td>\n",
       "      <td>-1</td>\n",
       "      <td>.</td>\n",
       "      <td>.</td>\n",
       "      <td>NaN</td>\n",
       "      <td>.</td>\n",
       "      <td>0</td>\n",
       "    </tr>\n",
       "    <tr>\n",
       "      <th>4</th>\n",
       "      <td>chr1</td>\n",
       "      <td>1451000</td>\n",
       "      <td>1452000</td>\n",
       "      <td>293</td>\n",
       "      <td>2.367303</td>\n",
       "      <td>260.131776</td>\n",
       "      <td>192.772432</td>\n",
       "      <td>NaN</td>\n",
       "      <td>NaN</td>\n",
       "      <td>NaN</td>\n",
       "      <td>False</td>\n",
       "      <td>False</td>\n",
       "      <td>False</td>\n",
       "      <td>0.666316</td>\n",
       "      <td>-0.666316</td>\n",
       "      <td>.</td>\n",
       "      <td>-1</td>\n",
       "      <td>-1</td>\n",
       "      <td>.</td>\n",
       "      <td>.</td>\n",
       "      <td>NaN</td>\n",
       "      <td>.</td>\n",
       "      <td>0</td>\n",
       "    </tr>\n",
       "    <tr>\n",
       "      <th>...</th>\n",
       "      <td>...</td>\n",
       "      <td>...</td>\n",
       "      <td>...</td>\n",
       "      <td>...</td>\n",
       "      <td>...</td>\n",
       "      <td>...</td>\n",
       "      <td>...</td>\n",
       "      <td>...</td>\n",
       "      <td>...</td>\n",
       "      <td>...</td>\n",
       "      <td>...</td>\n",
       "      <td>...</td>\n",
       "      <td>...</td>\n",
       "      <td>...</td>\n",
       "      <td>...</td>\n",
       "      <td>...</td>\n",
       "      <td>...</td>\n",
       "      <td>...</td>\n",
       "      <td>...</td>\n",
       "      <td>...</td>\n",
       "      <td>...</td>\n",
       "      <td>...</td>\n",
       "      <td>...</td>\n",
       "    </tr>\n",
       "    <tr>\n",
       "      <th>1826472</th>\n",
       "      <td>chr9</td>\n",
       "      <td>137275000</td>\n",
       "      <td>137276000</td>\n",
       "      <td>296</td>\n",
       "      <td>1.921453</td>\n",
       "      <td>268.932391</td>\n",
       "      <td>198.445131</td>\n",
       "      <td>NaN</td>\n",
       "      <td>712.0</td>\n",
       "      <td>NaN</td>\n",
       "      <td>True</td>\n",
       "      <td>False</td>\n",
       "      <td>False</td>\n",
       "      <td>2.687348</td>\n",
       "      <td>-2.687348</td>\n",
       "      <td>chr9</td>\n",
       "      <td>137273849</td>\n",
       "      <td>137275002</td>\n",
       "      <td>GH09J137273</td>\n",
       "      <td>Enhancer</td>\n",
       "      <td>1.0</td>\n",
       "      <td>NELFB|23.78|0;HSALNG0075385|0.64|0;TOR4A|0.64|0</td>\n",
       "      <td>2</td>\n",
       "    </tr>\n",
       "    <tr>\n",
       "      <th>1826473</th>\n",
       "      <td>chr9</td>\n",
       "      <td>137275000</td>\n",
       "      <td>137276000</td>\n",
       "      <td>296</td>\n",
       "      <td>1.921453</td>\n",
       "      <td>268.932391</td>\n",
       "      <td>198.445131</td>\n",
       "      <td>NaN</td>\n",
       "      <td>712.0</td>\n",
       "      <td>NaN</td>\n",
       "      <td>True</td>\n",
       "      <td>False</td>\n",
       "      <td>False</td>\n",
       "      <td>2.687348</td>\n",
       "      <td>-2.687348</td>\n",
       "      <td>chr9</td>\n",
       "      <td>137275290</td>\n",
       "      <td>137279215</td>\n",
       "      <td>GH09J137275</td>\n",
       "      <td>Promoter/Enhancer</td>\n",
       "      <td>1.0</td>\n",
       "      <td>EHMT1|762.48|1;TOR4A|750.64|1;SEC16A|11.98|0;S...</td>\n",
       "      <td>710</td>\n",
       "    </tr>\n",
       "    <tr>\n",
       "      <th>1826474</th>\n",
       "      <td>chr9</td>\n",
       "      <td>137282000</td>\n",
       "      <td>137283000</td>\n",
       "      <td>211</td>\n",
       "      <td>-1.919711</td>\n",
       "      <td>237.194349</td>\n",
       "      <td>186.184553</td>\n",
       "      <td>NaN</td>\n",
       "      <td>572.0</td>\n",
       "      <td>641.0</td>\n",
       "      <td>True</td>\n",
       "      <td>True</td>\n",
       "      <td>False</td>\n",
       "      <td>-0.090791</td>\n",
       "      <td>0.090791</td>\n",
       "      <td>chr9</td>\n",
       "      <td>137282428</td>\n",
       "      <td>137283516</td>\n",
       "      <td>GH09J137282</td>\n",
       "      <td>Enhancer</td>\n",
       "      <td>0.0</td>\n",
       "      <td>TOR4A|4.86|1;EXD3|11.79|0;NOXA1|11.79|0;lnc-TO...</td>\n",
       "      <td>572</td>\n",
       "    </tr>\n",
       "    <tr>\n",
       "      <th>1826475</th>\n",
       "      <td>chr9</td>\n",
       "      <td>137290000</td>\n",
       "      <td>137291000</td>\n",
       "      <td>224</td>\n",
       "      <td>-0.682673</td>\n",
       "      <td>233.338243</td>\n",
       "      <td>187.113535</td>\n",
       "      <td>NaN</td>\n",
       "      <td>NaN</td>\n",
       "      <td>NaN</td>\n",
       "      <td>False</td>\n",
       "      <td>False</td>\n",
       "      <td>False</td>\n",
       "      <td>2.162811</td>\n",
       "      <td>-2.162811</td>\n",
       "      <td>.</td>\n",
       "      <td>-1</td>\n",
       "      <td>-1</td>\n",
       "      <td>.</td>\n",
       "      <td>.</td>\n",
       "      <td>NaN</td>\n",
       "      <td>.</td>\n",
       "      <td>0</td>\n",
       "    </tr>\n",
       "    <tr>\n",
       "      <th>1826476</th>\n",
       "      <td>chr9</td>\n",
       "      <td>137294000</td>\n",
       "      <td>137295000</td>\n",
       "      <td>182</td>\n",
       "      <td>-5.749158</td>\n",
       "      <td>262.016662</td>\n",
       "      <td>193.710168</td>\n",
       "      <td>149.0</td>\n",
       "      <td>1000.0</td>\n",
       "      <td>1000.0</td>\n",
       "      <td>True</td>\n",
       "      <td>True</td>\n",
       "      <td>True</td>\n",
       "      <td>4.476550</td>\n",
       "      <td>-4.476550</td>\n",
       "      <td>chr9</td>\n",
       "      <td>137292760</td>\n",
       "      <td>137308148</td>\n",
       "      <td>GH09J137292</td>\n",
       "      <td>Promoter/Enhancer</td>\n",
       "      <td>1.0</td>\n",
       "      <td>NPDC1|9.76|0;TRAF2|9.7|0;NRARP|771.35|1;EHMT1|...</td>\n",
       "      <td>1000</td>\n",
       "    </tr>\n",
       "  </tbody>\n",
       "</table>\n",
       "<p>1826477 rows × 23 columns</p>\n",
       "</div>"
      ],
      "text/plain": [
       "        chromosome      start        end  N_observed  N_bar_3_noncoding  \\\n",
       "0             chr1    1432000    1433000         260          -0.247615   \n",
       "1             chr1    1435000    1436000         275          -7.547130   \n",
       "2             chr1    1449000    1450000         225           0.258359   \n",
       "3             chr1    1450000    1451000         313           2.197534   \n",
       "4             chr1    1451000    1452000         293           2.367303   \n",
       "...            ...        ...        ...         ...                ...   \n",
       "1826472       chr9  137275000  137276000         296           1.921453   \n",
       "1826473       chr9  137275000  137276000         296           1.921453   \n",
       "1826474       chr9  137282000  137283000         211          -1.919711   \n",
       "1826475       chr9  137290000  137291000         224          -0.682673   \n",
       "1826476       chr9  137294000  137295000         182          -5.749158   \n",
       "\n",
       "         N_mean_null_3_noncoding  N_variance_null_3_noncoding  \\\n",
       "0                     263.528599                   203.072610   \n",
       "1                     387.939429                   223.937877   \n",
       "2                     221.559138                   177.372370   \n",
       "3                     281.968822                   199.400099   \n",
       "4                     260.131776                   192.772432   \n",
       "...                          ...                          ...   \n",
       "1826472               268.932391                   198.445131   \n",
       "1826473               268.932391                   198.445131   \n",
       "1826474               237.194349                   186.184553   \n",
       "1826475               233.338243                   187.113535   \n",
       "1826476               262.016662                   193.710168   \n",
       "\n",
       "         cpg_island overlap  enhancer overlap  merged_exon overlap  \\\n",
       "0                       NaN            1000.0                  NaN   \n",
       "1                     440.0            1000.0                444.0   \n",
       "2                       NaN               NaN                311.0   \n",
       "3                       NaN               NaN                758.0   \n",
       "4                       NaN               NaN                  NaN   \n",
       "...                     ...               ...                  ...   \n",
       "1826472                 NaN             712.0                  NaN   \n",
       "1826473                 NaN             712.0                  NaN   \n",
       "1826474                 NaN             572.0                641.0   \n",
       "1826475                 NaN               NaN                  NaN   \n",
       "1826476               149.0            1000.0               1000.0   \n",
       "\n",
       "         window overlaps enhancer  window overlaps merged_exon  \\\n",
       "0                            True                        False   \n",
       "1                            True                         True   \n",
       "2                           False                         True   \n",
       "3                           False                         True   \n",
       "4                           False                        False   \n",
       "...                           ...                          ...   \n",
       "1826472                      True                        False   \n",
       "1826473                      True                        False   \n",
       "1826474                      True                         True   \n",
       "1826475                     False                        False   \n",
       "1826476                      True                         True   \n",
       "\n",
       "         window overlaps cpg_island  new chen zscore  \\\n",
       "0                             False         4.299894   \n",
       "1                              True         3.331645   \n",
       "2                             False         1.817267   \n",
       "3                             False         1.365863   \n",
       "4                             False         0.666316   \n",
       "...                             ...              ...   \n",
       "1826472                       False         2.687348   \n",
       "1826473                       False         2.687348   \n",
       "1826474                       False        -0.090791   \n",
       "1826475                       False         2.162811   \n",
       "1826476                        True         4.476550   \n",
       "\n",
       "         negative new chen zscore enhancer_chromosome  enhancer_start  \\\n",
       "0                       -4.299894                chr1         1428218   \n",
       "1                       -3.331645                chr1         1428218   \n",
       "2                       -1.817267                   .              -1   \n",
       "3                       -1.365863                   .              -1   \n",
       "4                       -0.666316                   .              -1   \n",
       "...                           ...                 ...             ...   \n",
       "1826472                 -2.687348                chr9       137273849   \n",
       "1826473                 -2.687348                chr9       137275290   \n",
       "1826474                  0.090791                chr9       137282428   \n",
       "1826475                 -2.162811                   .              -1   \n",
       "1826476                 -4.476550                chr9       137292760   \n",
       "\n",
       "         enhancer_end         GHid      enhancer_type  eliteness_of_enhancer  \\\n",
       "0             1438733  GH01J001428  Promoter/Enhancer                    1.0   \n",
       "1             1438733  GH01J001428  Promoter/Enhancer                    1.0   \n",
       "2                  -1            .                  .                    NaN   \n",
       "3                  -1            .                  .                    NaN   \n",
       "4                  -1            .                  .                    NaN   \n",
       "...               ...          ...                ...                    ...   \n",
       "1826472     137275002  GH09J137273           Enhancer                    1.0   \n",
       "1826473     137279215  GH09J137275  Promoter/Enhancer                    1.0   \n",
       "1826474     137283516  GH09J137282           Enhancer                    0.0   \n",
       "1826475            -1            .                  .                    NaN   \n",
       "1826476     137308148  GH09J137292  Promoter/Enhancer                    1.0   \n",
       "\n",
       "        gene_targeted_by_enhancer|enhancer_gene_association_score|elite_enhancer_gene_association  \\\n",
       "0        CDK11B|9.84|0;ATAD3B|9.83|0;FAAP20|9.83|0;VWA1...                                          \n",
       "1        CDK11B|9.84|0;ATAD3B|9.83|0;FAAP20|9.83|0;VWA1...                                          \n",
       "2                                                        .                                          \n",
       "3                                                        .                                          \n",
       "4                                                        .                                          \n",
       "...                                                    ...                                          \n",
       "1826472    NELFB|23.78|0;HSALNG0075385|0.64|0;TOR4A|0.64|0                                          \n",
       "1826473  EHMT1|762.48|1;TOR4A|750.64|1;SEC16A|11.98|0;S...                                          \n",
       "1826474  TOR4A|4.86|1;EXD3|11.79|0;NOXA1|11.79|0;lnc-TO...                                          \n",
       "1826475                                                  .                                          \n",
       "1826476  NPDC1|9.76|0;TRAF2|9.7|0;NRARP|771.35|1;EHMT1|...                                          \n",
       "\n",
       "         window_enhancer_overlap_bps  \n",
       "0                               1000  \n",
       "1                               1000  \n",
       "2                                  0  \n",
       "3                                  0  \n",
       "4                                  0  \n",
       "...                              ...  \n",
       "1826472                            2  \n",
       "1826473                          710  \n",
       "1826474                          572  \n",
       "1826475                            0  \n",
       "1826476                         1000  \n",
       "\n",
       "[1826477 rows x 23 columns]"
      ]
     },
     "execution_count": 2,
     "metadata": {},
     "output_type": "execute_result"
    }
   ],
   "source": [
    "import pandas as pd \n",
    "\n",
    "pd.set_option('display.max_columns', 50)\n",
    "\n",
    "TRAIN_SET_LABEL = 'noncoding'\n",
    "\n",
    "def get_chen_mchale_features():\n",
    "    filename = f'{CONSTRAINT_TOOLS_DATA}/benchmark-genome-wide-predictions/chen-et-al-2022/mchale.kmerSizes.trainSets.noisy.overlapAmounts.cpg-islands.enhancer-info.bed'\n",
    "    df = pd.read_csv(filename, sep='\\t')\n",
    "    df['elite_enhancer'] = pd.to_numeric(df['elite_enhancer'], errors='coerce')\n",
    "    df = df.rename(columns={'elite_enhancer': 'eliteness_of_enhancer'})\n",
    "    df = df.drop(\n",
    "      [\n",
    "        f'N_mean_null_7_{TRAIN_SET_LABEL}', \n",
    "        f'N_variance_null_7_{TRAIN_SET_LABEL}', \n",
    "        f'N_bar_7_{TRAIN_SET_LABEL}',\n",
    "        f'N_mean_null_3_{TRAIN_SET_LABEL}_noisy', \n",
    "        f'N_variance_null_3_{TRAIN_SET_LABEL}_noisy', \n",
    "        f'N_bar_3_{TRAIN_SET_LABEL}_noisy'\n",
    "      ], \n",
    "      axis=1\n",
    "    )\n",
    "    for kmer_size in [1, 5]: \n",
    "      for noisy in ['', '_noisy']:\n",
    "        df = df.drop(\n",
    "          [\n",
    "            f'N_mean_null_{kmer_size}_{TRAIN_SET_LABEL}{noisy}', \n",
    "            f'N_variance_null_{kmer_size}_{TRAIN_SET_LABEL}{noisy}', \n",
    "            f'N_bar_{kmer_size}_{TRAIN_SET_LABEL}{noisy}'\n",
    "          ], \n",
    "          axis=1\n",
    "        )\n",
    "    return df\n",
    "\n",
    "chen_mchale_zscores_features = get_chen_mchale_features()\n",
    "chen_mchale_zscores_features"
   ]
  },
  {
   "attachments": {},
   "cell_type": "markdown",
   "id": "278e6134",
   "metadata": {},
   "source": [
    "## Create single record for each window\n",
    "\n",
    "The code in this section is identical to the corresponding code in `Fig_2a.ipynb`. "
   ]
  },
  {
   "cell_type": "code",
   "execution_count": 3,
   "id": "c9b2b2a3",
   "metadata": {},
   "outputs": [
    {
     "data": {
      "text/html": [
       "<div>\n",
       "<style scoped>\n",
       "    .dataframe tbody tr th:only-of-type {\n",
       "        vertical-align: middle;\n",
       "    }\n",
       "\n",
       "    .dataframe tbody tr th {\n",
       "        vertical-align: top;\n",
       "    }\n",
       "\n",
       "    .dataframe thead th {\n",
       "        text-align: right;\n",
       "    }\n",
       "</style>\n",
       "<table border=\"1\" class=\"dataframe\">\n",
       "  <thead>\n",
       "    <tr style=\"text-align: right;\">\n",
       "      <th></th>\n",
       "      <th>chromosome</th>\n",
       "      <th>start</th>\n",
       "      <th>end</th>\n",
       "      <th>N_observed</th>\n",
       "      <th>N_bar_3_noncoding</th>\n",
       "      <th>N_mean_null_3_noncoding</th>\n",
       "      <th>N_variance_null_3_noncoding</th>\n",
       "      <th>cpg_island overlap</th>\n",
       "      <th>enhancer overlap</th>\n",
       "      <th>merged_exon overlap</th>\n",
       "      <th>window overlaps enhancer</th>\n",
       "      <th>window overlaps merged_exon</th>\n",
       "      <th>window overlaps cpg_island</th>\n",
       "      <th>new chen zscore</th>\n",
       "      <th>negative new chen zscore</th>\n",
       "      <th>GHid</th>\n",
       "      <th>enhancer_type</th>\n",
       "      <th>eliteness_of_enhancer</th>\n",
       "      <th>gene_targeted_by_enhancer|enhancer_gene_association_score|elite_enhancer_gene_association</th>\n",
       "      <th>window_enhancer_overlap_bps</th>\n",
       "    </tr>\n",
       "  </thead>\n",
       "  <tbody>\n",
       "    <tr>\n",
       "      <th>0</th>\n",
       "      <td>chr1</td>\n",
       "      <td>1432000</td>\n",
       "      <td>1433000</td>\n",
       "      <td>260</td>\n",
       "      <td>-0.247615</td>\n",
       "      <td>263.528599</td>\n",
       "      <td>203.072610</td>\n",
       "      <td>NaN</td>\n",
       "      <td>1000.0</td>\n",
       "      <td>NaN</td>\n",
       "      <td>True</td>\n",
       "      <td>False</td>\n",
       "      <td>False</td>\n",
       "      <td>4.299894</td>\n",
       "      <td>-4.299894</td>\n",
       "      <td>GH01J001428</td>\n",
       "      <td>Promoter/Enhancer</td>\n",
       "      <td>1.0</td>\n",
       "      <td>CDK11B|9.84|0;ATAD3B|9.83|0;FAAP20|9.83|0;VWA1...</td>\n",
       "      <td>1000</td>\n",
       "    </tr>\n",
       "    <tr>\n",
       "      <th>1</th>\n",
       "      <td>chr1</td>\n",
       "      <td>1435000</td>\n",
       "      <td>1436000</td>\n",
       "      <td>275</td>\n",
       "      <td>-7.547130</td>\n",
       "      <td>387.939429</td>\n",
       "      <td>223.937877</td>\n",
       "      <td>440.0</td>\n",
       "      <td>1000.0</td>\n",
       "      <td>444.0</td>\n",
       "      <td>True</td>\n",
       "      <td>True</td>\n",
       "      <td>True</td>\n",
       "      <td>3.331645</td>\n",
       "      <td>-3.331645</td>\n",
       "      <td>GH01J001428</td>\n",
       "      <td>Promoter/Enhancer</td>\n",
       "      <td>1.0</td>\n",
       "      <td>CDK11B|9.84|0;ATAD3B|9.83|0;FAAP20|9.83|0;VWA1...</td>\n",
       "      <td>1000</td>\n",
       "    </tr>\n",
       "    <tr>\n",
       "      <th>2</th>\n",
       "      <td>chr1</td>\n",
       "      <td>1449000</td>\n",
       "      <td>1450000</td>\n",
       "      <td>225</td>\n",
       "      <td>0.258359</td>\n",
       "      <td>221.559138</td>\n",
       "      <td>177.372370</td>\n",
       "      <td>NaN</td>\n",
       "      <td>NaN</td>\n",
       "      <td>311.0</td>\n",
       "      <td>False</td>\n",
       "      <td>True</td>\n",
       "      <td>False</td>\n",
       "      <td>1.817267</td>\n",
       "      <td>-1.817267</td>\n",
       "      <td>.</td>\n",
       "      <td>.</td>\n",
       "      <td>NaN</td>\n",
       "      <td>.</td>\n",
       "      <td>0</td>\n",
       "    </tr>\n",
       "    <tr>\n",
       "      <th>3</th>\n",
       "      <td>chr1</td>\n",
       "      <td>1450000</td>\n",
       "      <td>1451000</td>\n",
       "      <td>313</td>\n",
       "      <td>2.197534</td>\n",
       "      <td>281.968822</td>\n",
       "      <td>199.400099</td>\n",
       "      <td>NaN</td>\n",
       "      <td>NaN</td>\n",
       "      <td>758.0</td>\n",
       "      <td>False</td>\n",
       "      <td>True</td>\n",
       "      <td>False</td>\n",
       "      <td>1.365863</td>\n",
       "      <td>-1.365863</td>\n",
       "      <td>.</td>\n",
       "      <td>.</td>\n",
       "      <td>NaN</td>\n",
       "      <td>.</td>\n",
       "      <td>0</td>\n",
       "    </tr>\n",
       "    <tr>\n",
       "      <th>4</th>\n",
       "      <td>chr1</td>\n",
       "      <td>1451000</td>\n",
       "      <td>1452000</td>\n",
       "      <td>293</td>\n",
       "      <td>2.367303</td>\n",
       "      <td>260.131776</td>\n",
       "      <td>192.772432</td>\n",
       "      <td>NaN</td>\n",
       "      <td>NaN</td>\n",
       "      <td>NaN</td>\n",
       "      <td>False</td>\n",
       "      <td>False</td>\n",
       "      <td>False</td>\n",
       "      <td>0.666316</td>\n",
       "      <td>-0.666316</td>\n",
       "      <td>.</td>\n",
       "      <td>.</td>\n",
       "      <td>NaN</td>\n",
       "      <td>.</td>\n",
       "      <td>0</td>\n",
       "    </tr>\n",
       "    <tr>\n",
       "      <th>...</th>\n",
       "      <td>...</td>\n",
       "      <td>...</td>\n",
       "      <td>...</td>\n",
       "      <td>...</td>\n",
       "      <td>...</td>\n",
       "      <td>...</td>\n",
       "      <td>...</td>\n",
       "      <td>...</td>\n",
       "      <td>...</td>\n",
       "      <td>...</td>\n",
       "      <td>...</td>\n",
       "      <td>...</td>\n",
       "      <td>...</td>\n",
       "      <td>...</td>\n",
       "      <td>...</td>\n",
       "      <td>...</td>\n",
       "      <td>...</td>\n",
       "      <td>...</td>\n",
       "      <td>...</td>\n",
       "      <td>...</td>\n",
       "    </tr>\n",
       "    <tr>\n",
       "      <th>1826472</th>\n",
       "      <td>chr9</td>\n",
       "      <td>137275000</td>\n",
       "      <td>137276000</td>\n",
       "      <td>296</td>\n",
       "      <td>1.921453</td>\n",
       "      <td>268.932391</td>\n",
       "      <td>198.445131</td>\n",
       "      <td>NaN</td>\n",
       "      <td>712.0</td>\n",
       "      <td>NaN</td>\n",
       "      <td>True</td>\n",
       "      <td>False</td>\n",
       "      <td>False</td>\n",
       "      <td>2.687348</td>\n",
       "      <td>-2.687348</td>\n",
       "      <td>GH09J137273</td>\n",
       "      <td>Enhancer</td>\n",
       "      <td>1.0</td>\n",
       "      <td>NELFB|23.78|0;HSALNG0075385|0.64|0;TOR4A|0.64|0</td>\n",
       "      <td>2</td>\n",
       "    </tr>\n",
       "    <tr>\n",
       "      <th>1826473</th>\n",
       "      <td>chr9</td>\n",
       "      <td>137275000</td>\n",
       "      <td>137276000</td>\n",
       "      <td>296</td>\n",
       "      <td>1.921453</td>\n",
       "      <td>268.932391</td>\n",
       "      <td>198.445131</td>\n",
       "      <td>NaN</td>\n",
       "      <td>712.0</td>\n",
       "      <td>NaN</td>\n",
       "      <td>True</td>\n",
       "      <td>False</td>\n",
       "      <td>False</td>\n",
       "      <td>2.687348</td>\n",
       "      <td>-2.687348</td>\n",
       "      <td>GH09J137275</td>\n",
       "      <td>Promoter/Enhancer</td>\n",
       "      <td>1.0</td>\n",
       "      <td>EHMT1|762.48|1;TOR4A|750.64|1;SEC16A|11.98|0;S...</td>\n",
       "      <td>710</td>\n",
       "    </tr>\n",
       "    <tr>\n",
       "      <th>1826474</th>\n",
       "      <td>chr9</td>\n",
       "      <td>137282000</td>\n",
       "      <td>137283000</td>\n",
       "      <td>211</td>\n",
       "      <td>-1.919711</td>\n",
       "      <td>237.194349</td>\n",
       "      <td>186.184553</td>\n",
       "      <td>NaN</td>\n",
       "      <td>572.0</td>\n",
       "      <td>641.0</td>\n",
       "      <td>True</td>\n",
       "      <td>True</td>\n",
       "      <td>False</td>\n",
       "      <td>-0.090791</td>\n",
       "      <td>0.090791</td>\n",
       "      <td>GH09J137282</td>\n",
       "      <td>Enhancer</td>\n",
       "      <td>0.0</td>\n",
       "      <td>TOR4A|4.86|1;EXD3|11.79|0;NOXA1|11.79|0;lnc-TO...</td>\n",
       "      <td>572</td>\n",
       "    </tr>\n",
       "    <tr>\n",
       "      <th>1826475</th>\n",
       "      <td>chr9</td>\n",
       "      <td>137290000</td>\n",
       "      <td>137291000</td>\n",
       "      <td>224</td>\n",
       "      <td>-0.682673</td>\n",
       "      <td>233.338243</td>\n",
       "      <td>187.113535</td>\n",
       "      <td>NaN</td>\n",
       "      <td>NaN</td>\n",
       "      <td>NaN</td>\n",
       "      <td>False</td>\n",
       "      <td>False</td>\n",
       "      <td>False</td>\n",
       "      <td>2.162811</td>\n",
       "      <td>-2.162811</td>\n",
       "      <td>.</td>\n",
       "      <td>.</td>\n",
       "      <td>NaN</td>\n",
       "      <td>.</td>\n",
       "      <td>0</td>\n",
       "    </tr>\n",
       "    <tr>\n",
       "      <th>1826476</th>\n",
       "      <td>chr9</td>\n",
       "      <td>137294000</td>\n",
       "      <td>137295000</td>\n",
       "      <td>182</td>\n",
       "      <td>-5.749158</td>\n",
       "      <td>262.016662</td>\n",
       "      <td>193.710168</td>\n",
       "      <td>149.0</td>\n",
       "      <td>1000.0</td>\n",
       "      <td>1000.0</td>\n",
       "      <td>True</td>\n",
       "      <td>True</td>\n",
       "      <td>True</td>\n",
       "      <td>4.476550</td>\n",
       "      <td>-4.476550</td>\n",
       "      <td>GH09J137292</td>\n",
       "      <td>Promoter/Enhancer</td>\n",
       "      <td>1.0</td>\n",
       "      <td>NPDC1|9.76|0;TRAF2|9.7|0;NRARP|771.35|1;EHMT1|...</td>\n",
       "      <td>1000</td>\n",
       "    </tr>\n",
       "  </tbody>\n",
       "</table>\n",
       "<p>1826477 rows × 20 columns</p>\n",
       "</div>"
      ],
      "text/plain": [
       "        chromosome      start        end  N_observed  N_bar_3_noncoding  \\\n",
       "0             chr1    1432000    1433000         260          -0.247615   \n",
       "1             chr1    1435000    1436000         275          -7.547130   \n",
       "2             chr1    1449000    1450000         225           0.258359   \n",
       "3             chr1    1450000    1451000         313           2.197534   \n",
       "4             chr1    1451000    1452000         293           2.367303   \n",
       "...            ...        ...        ...         ...                ...   \n",
       "1826472       chr9  137275000  137276000         296           1.921453   \n",
       "1826473       chr9  137275000  137276000         296           1.921453   \n",
       "1826474       chr9  137282000  137283000         211          -1.919711   \n",
       "1826475       chr9  137290000  137291000         224          -0.682673   \n",
       "1826476       chr9  137294000  137295000         182          -5.749158   \n",
       "\n",
       "         N_mean_null_3_noncoding  N_variance_null_3_noncoding  \\\n",
       "0                     263.528599                   203.072610   \n",
       "1                     387.939429                   223.937877   \n",
       "2                     221.559138                   177.372370   \n",
       "3                     281.968822                   199.400099   \n",
       "4                     260.131776                   192.772432   \n",
       "...                          ...                          ...   \n",
       "1826472               268.932391                   198.445131   \n",
       "1826473               268.932391                   198.445131   \n",
       "1826474               237.194349                   186.184553   \n",
       "1826475               233.338243                   187.113535   \n",
       "1826476               262.016662                   193.710168   \n",
       "\n",
       "         cpg_island overlap  enhancer overlap  merged_exon overlap  \\\n",
       "0                       NaN            1000.0                  NaN   \n",
       "1                     440.0            1000.0                444.0   \n",
       "2                       NaN               NaN                311.0   \n",
       "3                       NaN               NaN                758.0   \n",
       "4                       NaN               NaN                  NaN   \n",
       "...                     ...               ...                  ...   \n",
       "1826472                 NaN             712.0                  NaN   \n",
       "1826473                 NaN             712.0                  NaN   \n",
       "1826474                 NaN             572.0                641.0   \n",
       "1826475                 NaN               NaN                  NaN   \n",
       "1826476               149.0            1000.0               1000.0   \n",
       "\n",
       "         window overlaps enhancer  window overlaps merged_exon  \\\n",
       "0                            True                        False   \n",
       "1                            True                         True   \n",
       "2                           False                         True   \n",
       "3                           False                         True   \n",
       "4                           False                        False   \n",
       "...                           ...                          ...   \n",
       "1826472                      True                        False   \n",
       "1826473                      True                        False   \n",
       "1826474                      True                         True   \n",
       "1826475                     False                        False   \n",
       "1826476                      True                         True   \n",
       "\n",
       "         window overlaps cpg_island  new chen zscore  \\\n",
       "0                             False         4.299894   \n",
       "1                              True         3.331645   \n",
       "2                             False         1.817267   \n",
       "3                             False         1.365863   \n",
       "4                             False         0.666316   \n",
       "...                             ...              ...   \n",
       "1826472                       False         2.687348   \n",
       "1826473                       False         2.687348   \n",
       "1826474                       False        -0.090791   \n",
       "1826475                       False         2.162811   \n",
       "1826476                        True         4.476550   \n",
       "\n",
       "         negative new chen zscore         GHid      enhancer_type  \\\n",
       "0                       -4.299894  GH01J001428  Promoter/Enhancer   \n",
       "1                       -3.331645  GH01J001428  Promoter/Enhancer   \n",
       "2                       -1.817267            .                  .   \n",
       "3                       -1.365863            .                  .   \n",
       "4                       -0.666316            .                  .   \n",
       "...                           ...          ...                ...   \n",
       "1826472                 -2.687348  GH09J137273           Enhancer   \n",
       "1826473                 -2.687348  GH09J137275  Promoter/Enhancer   \n",
       "1826474                  0.090791  GH09J137282           Enhancer   \n",
       "1826475                 -2.162811            .                  .   \n",
       "1826476                 -4.476550  GH09J137292  Promoter/Enhancer   \n",
       "\n",
       "         eliteness_of_enhancer  \\\n",
       "0                          1.0   \n",
       "1                          1.0   \n",
       "2                          NaN   \n",
       "3                          NaN   \n",
       "4                          NaN   \n",
       "...                        ...   \n",
       "1826472                    1.0   \n",
       "1826473                    1.0   \n",
       "1826474                    0.0   \n",
       "1826475                    NaN   \n",
       "1826476                    1.0   \n",
       "\n",
       "        gene_targeted_by_enhancer|enhancer_gene_association_score|elite_enhancer_gene_association  \\\n",
       "0        CDK11B|9.84|0;ATAD3B|9.83|0;FAAP20|9.83|0;VWA1...                                          \n",
       "1        CDK11B|9.84|0;ATAD3B|9.83|0;FAAP20|9.83|0;VWA1...                                          \n",
       "2                                                        .                                          \n",
       "3                                                        .                                          \n",
       "4                                                        .                                          \n",
       "...                                                    ...                                          \n",
       "1826472    NELFB|23.78|0;HSALNG0075385|0.64|0;TOR4A|0.64|0                                          \n",
       "1826473  EHMT1|762.48|1;TOR4A|750.64|1;SEC16A|11.98|0;S...                                          \n",
       "1826474  TOR4A|4.86|1;EXD3|11.79|0;NOXA1|11.79|0;lnc-TO...                                          \n",
       "1826475                                                  .                                          \n",
       "1826476  NPDC1|9.76|0;TRAF2|9.7|0;NRARP|771.35|1;EHMT1|...                                          \n",
       "\n",
       "         window_enhancer_overlap_bps  \n",
       "0                               1000  \n",
       "1                               1000  \n",
       "2                                  0  \n",
       "3                                  0  \n",
       "4                                  0  \n",
       "...                              ...  \n",
       "1826472                            2  \n",
       "1826473                          710  \n",
       "1826474                          572  \n",
       "1826475                            0  \n",
       "1826476                         1000  \n",
       "\n",
       "[1826477 rows x 20 columns]"
      ]
     },
     "execution_count": 3,
     "metadata": {},
     "output_type": "execute_result"
    }
   ],
   "source": [
    "chen_mchale_zscores_features = chen_mchale_zscores_features.drop(['enhancer_chromosome', 'enhancer_start', 'enhancer_end'], axis=1)\n",
    "chen_mchale_zscores_features"
   ]
  },
  {
   "cell_type": "code",
   "execution_count": 4,
   "id": "b70ae811",
   "metadata": {},
   "outputs": [
    {
     "name": "stderr",
     "output_type": "stream",
     "text": [
      "100%|███████████████████████████████| 1826477/1826477 [33:42<00:00, 903.28it/s]\n"
     ]
    },
    {
     "data": {
      "text/html": [
       "<div>\n",
       "<style scoped>\n",
       "    .dataframe tbody tr th:only-of-type {\n",
       "        vertical-align: middle;\n",
       "    }\n",
       "\n",
       "    .dataframe tbody tr th {\n",
       "        vertical-align: top;\n",
       "    }\n",
       "\n",
       "    .dataframe thead th {\n",
       "        text-align: right;\n",
       "    }\n",
       "</style>\n",
       "<table border=\"1\" class=\"dataframe\">\n",
       "  <thead>\n",
       "    <tr style=\"text-align: right;\">\n",
       "      <th></th>\n",
       "      <th>chromosome</th>\n",
       "      <th>start</th>\n",
       "      <th>end</th>\n",
       "      <th>N_observed</th>\n",
       "      <th>N_bar_3_noncoding</th>\n",
       "      <th>N_mean_null_3_noncoding</th>\n",
       "      <th>N_variance_null_3_noncoding</th>\n",
       "      <th>cpg_island overlap</th>\n",
       "      <th>enhancer overlap</th>\n",
       "      <th>merged_exon overlap</th>\n",
       "      <th>window overlaps enhancer</th>\n",
       "      <th>window overlaps merged_exon</th>\n",
       "      <th>window overlaps cpg_island</th>\n",
       "      <th>new chen zscore</th>\n",
       "      <th>negative new chen zscore</th>\n",
       "      <th>GHid</th>\n",
       "      <th>enhancer_type</th>\n",
       "      <th>eliteness_of_enhancer</th>\n",
       "      <th>gene_targeted_by_enhancer|enhancer_gene_association_score|elite_enhancer_gene_association</th>\n",
       "      <th>window_enhancer_overlap_bps</th>\n",
       "      <th>optimal_gene_targeted_by_enhancer</th>\n",
       "      <th>optimal_enhancer_gene_association_score</th>\n",
       "      <th>eliteness_of_optimal_enhancer_gene_association</th>\n",
       "    </tr>\n",
       "  </thead>\n",
       "  <tbody>\n",
       "    <tr>\n",
       "      <th>0</th>\n",
       "      <td>chr1</td>\n",
       "      <td>1432000</td>\n",
       "      <td>1433000</td>\n",
       "      <td>260</td>\n",
       "      <td>-0.247615</td>\n",
       "      <td>263.528599</td>\n",
       "      <td>203.072610</td>\n",
       "      <td>NaN</td>\n",
       "      <td>1000.0</td>\n",
       "      <td>NaN</td>\n",
       "      <td>True</td>\n",
       "      <td>False</td>\n",
       "      <td>False</td>\n",
       "      <td>4.299894</td>\n",
       "      <td>-4.299894</td>\n",
       "      <td>GH01J001428</td>\n",
       "      <td>Promoter/Enhancer</td>\n",
       "      <td>1.0</td>\n",
       "      <td>CDK11B|9.84|0;ATAD3B|9.83|0;FAAP20|9.83|0;VWA1...</td>\n",
       "      <td>1000</td>\n",
       "      <td>VWA1</td>\n",
       "      <td>758.12</td>\n",
       "      <td>1.0</td>\n",
       "    </tr>\n",
       "    <tr>\n",
       "      <th>1</th>\n",
       "      <td>chr1</td>\n",
       "      <td>1435000</td>\n",
       "      <td>1436000</td>\n",
       "      <td>275</td>\n",
       "      <td>-7.547130</td>\n",
       "      <td>387.939429</td>\n",
       "      <td>223.937877</td>\n",
       "      <td>440.0</td>\n",
       "      <td>1000.0</td>\n",
       "      <td>444.0</td>\n",
       "      <td>True</td>\n",
       "      <td>True</td>\n",
       "      <td>True</td>\n",
       "      <td>3.331645</td>\n",
       "      <td>-3.331645</td>\n",
       "      <td>GH01J001428</td>\n",
       "      <td>Promoter/Enhancer</td>\n",
       "      <td>1.0</td>\n",
       "      <td>CDK11B|9.84|0;ATAD3B|9.83|0;FAAP20|9.83|0;VWA1...</td>\n",
       "      <td>1000</td>\n",
       "      <td>VWA1</td>\n",
       "      <td>758.12</td>\n",
       "      <td>1.0</td>\n",
       "    </tr>\n",
       "    <tr>\n",
       "      <th>2</th>\n",
       "      <td>chr1</td>\n",
       "      <td>1449000</td>\n",
       "      <td>1450000</td>\n",
       "      <td>225</td>\n",
       "      <td>0.258359</td>\n",
       "      <td>221.559138</td>\n",
       "      <td>177.372370</td>\n",
       "      <td>NaN</td>\n",
       "      <td>NaN</td>\n",
       "      <td>311.0</td>\n",
       "      <td>False</td>\n",
       "      <td>True</td>\n",
       "      <td>False</td>\n",
       "      <td>1.817267</td>\n",
       "      <td>-1.817267</td>\n",
       "      <td>.</td>\n",
       "      <td>.</td>\n",
       "      <td>NaN</td>\n",
       "      <td>.</td>\n",
       "      <td>0</td>\n",
       "      <td>.</td>\n",
       "      <td>NaN</td>\n",
       "      <td>NaN</td>\n",
       "    </tr>\n",
       "    <tr>\n",
       "      <th>3</th>\n",
       "      <td>chr1</td>\n",
       "      <td>1450000</td>\n",
       "      <td>1451000</td>\n",
       "      <td>313</td>\n",
       "      <td>2.197534</td>\n",
       "      <td>281.968822</td>\n",
       "      <td>199.400099</td>\n",
       "      <td>NaN</td>\n",
       "      <td>NaN</td>\n",
       "      <td>758.0</td>\n",
       "      <td>False</td>\n",
       "      <td>True</td>\n",
       "      <td>False</td>\n",
       "      <td>1.365863</td>\n",
       "      <td>-1.365863</td>\n",
       "      <td>.</td>\n",
       "      <td>.</td>\n",
       "      <td>NaN</td>\n",
       "      <td>.</td>\n",
       "      <td>0</td>\n",
       "      <td>.</td>\n",
       "      <td>NaN</td>\n",
       "      <td>NaN</td>\n",
       "    </tr>\n",
       "    <tr>\n",
       "      <th>4</th>\n",
       "      <td>chr1</td>\n",
       "      <td>1451000</td>\n",
       "      <td>1452000</td>\n",
       "      <td>293</td>\n",
       "      <td>2.367303</td>\n",
       "      <td>260.131776</td>\n",
       "      <td>192.772432</td>\n",
       "      <td>NaN</td>\n",
       "      <td>NaN</td>\n",
       "      <td>NaN</td>\n",
       "      <td>False</td>\n",
       "      <td>False</td>\n",
       "      <td>False</td>\n",
       "      <td>0.666316</td>\n",
       "      <td>-0.666316</td>\n",
       "      <td>.</td>\n",
       "      <td>.</td>\n",
       "      <td>NaN</td>\n",
       "      <td>.</td>\n",
       "      <td>0</td>\n",
       "      <td>.</td>\n",
       "      <td>NaN</td>\n",
       "      <td>NaN</td>\n",
       "    </tr>\n",
       "    <tr>\n",
       "      <th>...</th>\n",
       "      <td>...</td>\n",
       "      <td>...</td>\n",
       "      <td>...</td>\n",
       "      <td>...</td>\n",
       "      <td>...</td>\n",
       "      <td>...</td>\n",
       "      <td>...</td>\n",
       "      <td>...</td>\n",
       "      <td>...</td>\n",
       "      <td>...</td>\n",
       "      <td>...</td>\n",
       "      <td>...</td>\n",
       "      <td>...</td>\n",
       "      <td>...</td>\n",
       "      <td>...</td>\n",
       "      <td>...</td>\n",
       "      <td>...</td>\n",
       "      <td>...</td>\n",
       "      <td>...</td>\n",
       "      <td>...</td>\n",
       "      <td>...</td>\n",
       "      <td>...</td>\n",
       "      <td>...</td>\n",
       "    </tr>\n",
       "    <tr>\n",
       "      <th>1826472</th>\n",
       "      <td>chr9</td>\n",
       "      <td>137275000</td>\n",
       "      <td>137276000</td>\n",
       "      <td>296</td>\n",
       "      <td>1.921453</td>\n",
       "      <td>268.932391</td>\n",
       "      <td>198.445131</td>\n",
       "      <td>NaN</td>\n",
       "      <td>712.0</td>\n",
       "      <td>NaN</td>\n",
       "      <td>True</td>\n",
       "      <td>False</td>\n",
       "      <td>False</td>\n",
       "      <td>2.687348</td>\n",
       "      <td>-2.687348</td>\n",
       "      <td>GH09J137273</td>\n",
       "      <td>Enhancer</td>\n",
       "      <td>1.0</td>\n",
       "      <td>NELFB|23.78|0;HSALNG0075385|0.64|0;TOR4A|0.64|0</td>\n",
       "      <td>2</td>\n",
       "      <td>NELFB</td>\n",
       "      <td>23.78</td>\n",
       "      <td>0.0</td>\n",
       "    </tr>\n",
       "    <tr>\n",
       "      <th>1826473</th>\n",
       "      <td>chr9</td>\n",
       "      <td>137275000</td>\n",
       "      <td>137276000</td>\n",
       "      <td>296</td>\n",
       "      <td>1.921453</td>\n",
       "      <td>268.932391</td>\n",
       "      <td>198.445131</td>\n",
       "      <td>NaN</td>\n",
       "      <td>712.0</td>\n",
       "      <td>NaN</td>\n",
       "      <td>True</td>\n",
       "      <td>False</td>\n",
       "      <td>False</td>\n",
       "      <td>2.687348</td>\n",
       "      <td>-2.687348</td>\n",
       "      <td>GH09J137275</td>\n",
       "      <td>Promoter/Enhancer</td>\n",
       "      <td>1.0</td>\n",
       "      <td>EHMT1|762.48|1;TOR4A|750.64|1;SEC16A|11.98|0;S...</td>\n",
       "      <td>710</td>\n",
       "      <td>EHMT1</td>\n",
       "      <td>762.48</td>\n",
       "      <td>1.0</td>\n",
       "    </tr>\n",
       "    <tr>\n",
       "      <th>1826474</th>\n",
       "      <td>chr9</td>\n",
       "      <td>137282000</td>\n",
       "      <td>137283000</td>\n",
       "      <td>211</td>\n",
       "      <td>-1.919711</td>\n",
       "      <td>237.194349</td>\n",
       "      <td>186.184553</td>\n",
       "      <td>NaN</td>\n",
       "      <td>572.0</td>\n",
       "      <td>641.0</td>\n",
       "      <td>True</td>\n",
       "      <td>True</td>\n",
       "      <td>False</td>\n",
       "      <td>-0.090791</td>\n",
       "      <td>0.090791</td>\n",
       "      <td>GH09J137282</td>\n",
       "      <td>Enhancer</td>\n",
       "      <td>0.0</td>\n",
       "      <td>TOR4A|4.86|1;EXD3|11.79|0;NOXA1|11.79|0;lnc-TO...</td>\n",
       "      <td>572</td>\n",
       "      <td>EXD3</td>\n",
       "      <td>11.79</td>\n",
       "      <td>0.0</td>\n",
       "    </tr>\n",
       "    <tr>\n",
       "      <th>1826475</th>\n",
       "      <td>chr9</td>\n",
       "      <td>137290000</td>\n",
       "      <td>137291000</td>\n",
       "      <td>224</td>\n",
       "      <td>-0.682673</td>\n",
       "      <td>233.338243</td>\n",
       "      <td>187.113535</td>\n",
       "      <td>NaN</td>\n",
       "      <td>NaN</td>\n",
       "      <td>NaN</td>\n",
       "      <td>False</td>\n",
       "      <td>False</td>\n",
       "      <td>False</td>\n",
       "      <td>2.162811</td>\n",
       "      <td>-2.162811</td>\n",
       "      <td>.</td>\n",
       "      <td>.</td>\n",
       "      <td>NaN</td>\n",
       "      <td>.</td>\n",
       "      <td>0</td>\n",
       "      <td>.</td>\n",
       "      <td>NaN</td>\n",
       "      <td>NaN</td>\n",
       "    </tr>\n",
       "    <tr>\n",
       "      <th>1826476</th>\n",
       "      <td>chr9</td>\n",
       "      <td>137294000</td>\n",
       "      <td>137295000</td>\n",
       "      <td>182</td>\n",
       "      <td>-5.749158</td>\n",
       "      <td>262.016662</td>\n",
       "      <td>193.710168</td>\n",
       "      <td>149.0</td>\n",
       "      <td>1000.0</td>\n",
       "      <td>1000.0</td>\n",
       "      <td>True</td>\n",
       "      <td>True</td>\n",
       "      <td>True</td>\n",
       "      <td>4.476550</td>\n",
       "      <td>-4.476550</td>\n",
       "      <td>GH09J137292</td>\n",
       "      <td>Promoter/Enhancer</td>\n",
       "      <td>1.0</td>\n",
       "      <td>NPDC1|9.76|0;TRAF2|9.7|0;NRARP|771.35|1;EHMT1|...</td>\n",
       "      <td>1000</td>\n",
       "      <td>NRARP</td>\n",
       "      <td>771.35</td>\n",
       "      <td>1.0</td>\n",
       "    </tr>\n",
       "  </tbody>\n",
       "</table>\n",
       "<p>1826477 rows × 23 columns</p>\n",
       "</div>"
      ],
      "text/plain": [
       "        chromosome      start        end  N_observed  N_bar_3_noncoding  \\\n",
       "0             chr1    1432000    1433000         260          -0.247615   \n",
       "1             chr1    1435000    1436000         275          -7.547130   \n",
       "2             chr1    1449000    1450000         225           0.258359   \n",
       "3             chr1    1450000    1451000         313           2.197534   \n",
       "4             chr1    1451000    1452000         293           2.367303   \n",
       "...            ...        ...        ...         ...                ...   \n",
       "1826472       chr9  137275000  137276000         296           1.921453   \n",
       "1826473       chr9  137275000  137276000         296           1.921453   \n",
       "1826474       chr9  137282000  137283000         211          -1.919711   \n",
       "1826475       chr9  137290000  137291000         224          -0.682673   \n",
       "1826476       chr9  137294000  137295000         182          -5.749158   \n",
       "\n",
       "         N_mean_null_3_noncoding  N_variance_null_3_noncoding  \\\n",
       "0                     263.528599                   203.072610   \n",
       "1                     387.939429                   223.937877   \n",
       "2                     221.559138                   177.372370   \n",
       "3                     281.968822                   199.400099   \n",
       "4                     260.131776                   192.772432   \n",
       "...                          ...                          ...   \n",
       "1826472               268.932391                   198.445131   \n",
       "1826473               268.932391                   198.445131   \n",
       "1826474               237.194349                   186.184553   \n",
       "1826475               233.338243                   187.113535   \n",
       "1826476               262.016662                   193.710168   \n",
       "\n",
       "         cpg_island overlap  enhancer overlap  merged_exon overlap  \\\n",
       "0                       NaN            1000.0                  NaN   \n",
       "1                     440.0            1000.0                444.0   \n",
       "2                       NaN               NaN                311.0   \n",
       "3                       NaN               NaN                758.0   \n",
       "4                       NaN               NaN                  NaN   \n",
       "...                     ...               ...                  ...   \n",
       "1826472                 NaN             712.0                  NaN   \n",
       "1826473                 NaN             712.0                  NaN   \n",
       "1826474                 NaN             572.0                641.0   \n",
       "1826475                 NaN               NaN                  NaN   \n",
       "1826476               149.0            1000.0               1000.0   \n",
       "\n",
       "         window overlaps enhancer  window overlaps merged_exon  \\\n",
       "0                            True                        False   \n",
       "1                            True                         True   \n",
       "2                           False                         True   \n",
       "3                           False                         True   \n",
       "4                           False                        False   \n",
       "...                           ...                          ...   \n",
       "1826472                      True                        False   \n",
       "1826473                      True                        False   \n",
       "1826474                      True                         True   \n",
       "1826475                     False                        False   \n",
       "1826476                      True                         True   \n",
       "\n",
       "         window overlaps cpg_island  new chen zscore  \\\n",
       "0                             False         4.299894   \n",
       "1                              True         3.331645   \n",
       "2                             False         1.817267   \n",
       "3                             False         1.365863   \n",
       "4                             False         0.666316   \n",
       "...                             ...              ...   \n",
       "1826472                       False         2.687348   \n",
       "1826473                       False         2.687348   \n",
       "1826474                       False        -0.090791   \n",
       "1826475                       False         2.162811   \n",
       "1826476                        True         4.476550   \n",
       "\n",
       "         negative new chen zscore         GHid      enhancer_type  \\\n",
       "0                       -4.299894  GH01J001428  Promoter/Enhancer   \n",
       "1                       -3.331645  GH01J001428  Promoter/Enhancer   \n",
       "2                       -1.817267            .                  .   \n",
       "3                       -1.365863            .                  .   \n",
       "4                       -0.666316            .                  .   \n",
       "...                           ...          ...                ...   \n",
       "1826472                 -2.687348  GH09J137273           Enhancer   \n",
       "1826473                 -2.687348  GH09J137275  Promoter/Enhancer   \n",
       "1826474                  0.090791  GH09J137282           Enhancer   \n",
       "1826475                 -2.162811            .                  .   \n",
       "1826476                 -4.476550  GH09J137292  Promoter/Enhancer   \n",
       "\n",
       "         eliteness_of_enhancer  \\\n",
       "0                          1.0   \n",
       "1                          1.0   \n",
       "2                          NaN   \n",
       "3                          NaN   \n",
       "4                          NaN   \n",
       "...                        ...   \n",
       "1826472                    1.0   \n",
       "1826473                    1.0   \n",
       "1826474                    0.0   \n",
       "1826475                    NaN   \n",
       "1826476                    1.0   \n",
       "\n",
       "        gene_targeted_by_enhancer|enhancer_gene_association_score|elite_enhancer_gene_association  \\\n",
       "0        CDK11B|9.84|0;ATAD3B|9.83|0;FAAP20|9.83|0;VWA1...                                          \n",
       "1        CDK11B|9.84|0;ATAD3B|9.83|0;FAAP20|9.83|0;VWA1...                                          \n",
       "2                                                        .                                          \n",
       "3                                                        .                                          \n",
       "4                                                        .                                          \n",
       "...                                                    ...                                          \n",
       "1826472    NELFB|23.78|0;HSALNG0075385|0.64|0;TOR4A|0.64|0                                          \n",
       "1826473  EHMT1|762.48|1;TOR4A|750.64|1;SEC16A|11.98|0;S...                                          \n",
       "1826474  TOR4A|4.86|1;EXD3|11.79|0;NOXA1|11.79|0;lnc-TO...                                          \n",
       "1826475                                                  .                                          \n",
       "1826476  NPDC1|9.76|0;TRAF2|9.7|0;NRARP|771.35|1;EHMT1|...                                          \n",
       "\n",
       "         window_enhancer_overlap_bps optimal_gene_targeted_by_enhancer  \\\n",
       "0                               1000                              VWA1   \n",
       "1                               1000                              VWA1   \n",
       "2                                  0                                 .   \n",
       "3                                  0                                 .   \n",
       "4                                  0                                 .   \n",
       "...                              ...                               ...   \n",
       "1826472                            2                             NELFB   \n",
       "1826473                          710                             EHMT1   \n",
       "1826474                          572                              EXD3   \n",
       "1826475                            0                                 .   \n",
       "1826476                         1000                             NRARP   \n",
       "\n",
       "         optimal_enhancer_gene_association_score  \\\n",
       "0                                         758.12   \n",
       "1                                         758.12   \n",
       "2                                            NaN   \n",
       "3                                            NaN   \n",
       "4                                            NaN   \n",
       "...                                          ...   \n",
       "1826472                                    23.78   \n",
       "1826473                                   762.48   \n",
       "1826474                                    11.79   \n",
       "1826475                                      NaN   \n",
       "1826476                                   771.35   \n",
       "\n",
       "         eliteness_of_optimal_enhancer_gene_association  \n",
       "0                                                   1.0  \n",
       "1                                                   1.0  \n",
       "2                                                   NaN  \n",
       "3                                                   NaN  \n",
       "4                                                   NaN  \n",
       "...                                                 ...  \n",
       "1826472                                             0.0  \n",
       "1826473                                             1.0  \n",
       "1826474                                             0.0  \n",
       "1826475                                             NaN  \n",
       "1826476                                             1.0  \n",
       "\n",
       "[1826477 rows x 23 columns]"
      ]
     },
     "execution_count": 4,
     "metadata": {},
     "output_type": "execute_result"
    }
   ],
   "source": [
    "from tqdm import tqdm\n",
    "import numpy as np \n",
    "\n",
    "tqdm.pandas()\n",
    "\n",
    "def add_enhancer_characteristic_fields(row): \n",
    "  enhancer_characteristics_heading = 'gene_targeted_by_enhancer|enhancer_gene_association_score|elite_enhancer_gene_association'\n",
    "  if row[enhancer_characteristics_heading] == '.': \n",
    "    (\n",
    "      row['optimal_gene_targeted_by_enhancer'], \n",
    "      row['optimal_enhancer_gene_association_score'], \n",
    "      row['eliteness_of_optimal_enhancer_gene_association'] \n",
    "    ) = '.', np.NaN, np.NaN\n",
    "    return row \n",
    "\n",
    "  enhancer_characteristics = row[enhancer_characteristics_heading].split(';')\n",
    "  optimal_enhancer_characteristic = ''\n",
    "  max_enhancer_gene_association_score = 0\n",
    "  for enhancer_characteristic in enhancer_characteristics: \n",
    "    enhancer_gene_association_score = enhancer_characteristic.split('|')[1]\n",
    "    enhancer_gene_association_score = float(enhancer_gene_association_score)\n",
    "    if enhancer_gene_association_score > max_enhancer_gene_association_score: \n",
    "      max_enhancer_gene_association_score = enhancer_gene_association_score\n",
    "      optimal_enhancer_characteristic = enhancer_characteristic\n",
    "  (\n",
    "    row['optimal_gene_targeted_by_enhancer'], \n",
    "    row['optimal_enhancer_gene_association_score'], \n",
    "    row['eliteness_of_optimal_enhancer_gene_association'] \n",
    "  ) = optimal_enhancer_characteristic.split('|')\n",
    "  row['optimal_enhancer_gene_association_score'] = float(row['optimal_enhancer_gene_association_score'])\n",
    "  row['eliteness_of_optimal_enhancer_gene_association'] = int(row['eliteness_of_optimal_enhancer_gene_association'])\n",
    "  return row \n",
    "\n",
    "def add_enhancer_characteristic_columns(df): \n",
    "  df = df.progress_apply(add_enhancer_characteristic_fields, axis=1)\n",
    "  return df \n",
    "\n",
    "chen_mchale_zscores_features = add_enhancer_characteristic_columns(chen_mchale_zscores_features)\n",
    "chen_mchale_zscores_features"
   ]
  },
  {
   "cell_type": "code",
   "execution_count": 5,
   "id": "d7ec48fa",
   "metadata": {},
   "outputs": [
    {
     "data": {
      "text/plain": [
       "['chromosome',\n",
       " 'start',\n",
       " 'end',\n",
       " 'N_observed',\n",
       " 'N_bar_3_noncoding',\n",
       " 'N_mean_null_3_noncoding',\n",
       " 'N_variance_null_3_noncoding',\n",
       " 'cpg_island overlap',\n",
       " 'enhancer overlap',\n",
       " 'merged_exon overlap',\n",
       " 'window overlaps enhancer',\n",
       " 'window overlaps merged_exon',\n",
       " 'window overlaps cpg_island',\n",
       " 'new chen zscore',\n",
       " 'negative new chen zscore']"
      ]
     },
     "execution_count": 5,
     "metadata": {},
     "output_type": "execute_result"
    }
   ],
   "source": [
    "columns_to_group_by = list(chen_mchale_zscores_features.columns[:15])\n",
    "columns_to_group_by"
   ]
  },
  {
   "cell_type": "code",
   "execution_count": 6,
   "id": "421dd621",
   "metadata": {},
   "outputs": [
    {
     "data": {
      "text/html": [
       "<div>\n",
       "<style scoped>\n",
       "    .dataframe tbody tr th:only-of-type {\n",
       "        vertical-align: middle;\n",
       "    }\n",
       "\n",
       "    .dataframe tbody tr th {\n",
       "        vertical-align: top;\n",
       "    }\n",
       "\n",
       "    .dataframe thead tr th {\n",
       "        text-align: left;\n",
       "    }\n",
       "\n",
       "    .dataframe thead tr:last-of-type th {\n",
       "        text-align: right;\n",
       "    }\n",
       "</style>\n",
       "<table border=\"1\" class=\"dataframe\">\n",
       "  <thead>\n",
       "    <tr>\n",
       "      <th></th>\n",
       "      <th></th>\n",
       "      <th></th>\n",
       "      <th></th>\n",
       "      <th></th>\n",
       "      <th></th>\n",
       "      <th></th>\n",
       "      <th></th>\n",
       "      <th></th>\n",
       "      <th></th>\n",
       "      <th></th>\n",
       "      <th></th>\n",
       "      <th></th>\n",
       "      <th></th>\n",
       "      <th></th>\n",
       "      <th colspan=\"2\" halign=\"left\">eliteness_of_enhancer</th>\n",
       "      <th>window_enhancer_overlap_bps</th>\n",
       "      <th>optimal_gene_targeted_by_enhancer</th>\n",
       "      <th>optimal_enhancer_gene_association_score</th>\n",
       "      <th>eliteness_of_optimal_enhancer_gene_association</th>\n",
       "    </tr>\n",
       "    <tr>\n",
       "      <th></th>\n",
       "      <th></th>\n",
       "      <th></th>\n",
       "      <th></th>\n",
       "      <th></th>\n",
       "      <th></th>\n",
       "      <th></th>\n",
       "      <th></th>\n",
       "      <th></th>\n",
       "      <th></th>\n",
       "      <th></th>\n",
       "      <th></th>\n",
       "      <th></th>\n",
       "      <th></th>\n",
       "      <th></th>\n",
       "      <th>max</th>\n",
       "      <th>count</th>\n",
       "      <th>sum</th>\n",
       "      <th>&lt;lambda&gt;</th>\n",
       "      <th>max</th>\n",
       "      <th>max</th>\n",
       "    </tr>\n",
       "    <tr>\n",
       "      <th>chromosome</th>\n",
       "      <th>start</th>\n",
       "      <th>end</th>\n",
       "      <th>N_observed</th>\n",
       "      <th>N_bar_3_noncoding</th>\n",
       "      <th>N_mean_null_3_noncoding</th>\n",
       "      <th>N_variance_null_3_noncoding</th>\n",
       "      <th>cpg_island overlap</th>\n",
       "      <th>enhancer overlap</th>\n",
       "      <th>merged_exon overlap</th>\n",
       "      <th>window overlaps enhancer</th>\n",
       "      <th>window overlaps merged_exon</th>\n",
       "      <th>window overlaps cpg_island</th>\n",
       "      <th>new chen zscore</th>\n",
       "      <th>negative new chen zscore</th>\n",
       "      <th></th>\n",
       "      <th></th>\n",
       "      <th></th>\n",
       "      <th></th>\n",
       "      <th></th>\n",
       "      <th></th>\n",
       "    </tr>\n",
       "  </thead>\n",
       "  <tbody>\n",
       "    <tr>\n",
       "      <th rowspan=\"5\" valign=\"top\">chr1</th>\n",
       "      <th>1432000</th>\n",
       "      <th>1433000</th>\n",
       "      <th>260</th>\n",
       "      <th>-0.247615</th>\n",
       "      <th>263.528599</th>\n",
       "      <th>203.072610</th>\n",
       "      <th>NaN</th>\n",
       "      <th>1000.0</th>\n",
       "      <th>NaN</th>\n",
       "      <th>True</th>\n",
       "      <th>False</th>\n",
       "      <th>False</th>\n",
       "      <th>4.299894</th>\n",
       "      <th>-4.299894</th>\n",
       "      <td>1.0</td>\n",
       "      <td>1</td>\n",
       "      <td>1000</td>\n",
       "      <td>VWA1</td>\n",
       "      <td>758.12</td>\n",
       "      <td>1.0</td>\n",
       "    </tr>\n",
       "    <tr>\n",
       "      <th>1435000</th>\n",
       "      <th>1436000</th>\n",
       "      <th>275</th>\n",
       "      <th>-7.547130</th>\n",
       "      <th>387.939429</th>\n",
       "      <th>223.937877</th>\n",
       "      <th>440.0</th>\n",
       "      <th>1000.0</th>\n",
       "      <th>444.0</th>\n",
       "      <th>True</th>\n",
       "      <th>True</th>\n",
       "      <th>True</th>\n",
       "      <th>3.331645</th>\n",
       "      <th>-3.331645</th>\n",
       "      <td>1.0</td>\n",
       "      <td>1</td>\n",
       "      <td>1000</td>\n",
       "      <td>VWA1</td>\n",
       "      <td>758.12</td>\n",
       "      <td>1.0</td>\n",
       "    </tr>\n",
       "    <tr>\n",
       "      <th>1449000</th>\n",
       "      <th>1450000</th>\n",
       "      <th>225</th>\n",
       "      <th>0.258359</th>\n",
       "      <th>221.559138</th>\n",
       "      <th>177.372370</th>\n",
       "      <th>NaN</th>\n",
       "      <th>NaN</th>\n",
       "      <th>311.0</th>\n",
       "      <th>False</th>\n",
       "      <th>True</th>\n",
       "      <th>False</th>\n",
       "      <th>1.817267</th>\n",
       "      <th>-1.817267</th>\n",
       "      <td>NaN</td>\n",
       "      <td>0</td>\n",
       "      <td>0</td>\n",
       "      <td>.</td>\n",
       "      <td>NaN</td>\n",
       "      <td>NaN</td>\n",
       "    </tr>\n",
       "    <tr>\n",
       "      <th>1450000</th>\n",
       "      <th>1451000</th>\n",
       "      <th>313</th>\n",
       "      <th>2.197534</th>\n",
       "      <th>281.968822</th>\n",
       "      <th>199.400099</th>\n",
       "      <th>NaN</th>\n",
       "      <th>NaN</th>\n",
       "      <th>758.0</th>\n",
       "      <th>False</th>\n",
       "      <th>True</th>\n",
       "      <th>False</th>\n",
       "      <th>1.365863</th>\n",
       "      <th>-1.365863</th>\n",
       "      <td>NaN</td>\n",
       "      <td>0</td>\n",
       "      <td>0</td>\n",
       "      <td>.</td>\n",
       "      <td>NaN</td>\n",
       "      <td>NaN</td>\n",
       "    </tr>\n",
       "    <tr>\n",
       "      <th>1451000</th>\n",
       "      <th>1452000</th>\n",
       "      <th>293</th>\n",
       "      <th>2.367303</th>\n",
       "      <th>260.131776</th>\n",
       "      <th>192.772432</th>\n",
       "      <th>NaN</th>\n",
       "      <th>NaN</th>\n",
       "      <th>NaN</th>\n",
       "      <th>False</th>\n",
       "      <th>False</th>\n",
       "      <th>False</th>\n",
       "      <th>0.666316</th>\n",
       "      <th>-0.666316</th>\n",
       "      <td>NaN</td>\n",
       "      <td>0</td>\n",
       "      <td>0</td>\n",
       "      <td>.</td>\n",
       "      <td>NaN</td>\n",
       "      <td>NaN</td>\n",
       "    </tr>\n",
       "    <tr>\n",
       "      <th>...</th>\n",
       "      <th>...</th>\n",
       "      <th>...</th>\n",
       "      <th>...</th>\n",
       "      <th>...</th>\n",
       "      <th>...</th>\n",
       "      <th>...</th>\n",
       "      <th>...</th>\n",
       "      <th>...</th>\n",
       "      <th>...</th>\n",
       "      <th>...</th>\n",
       "      <th>...</th>\n",
       "      <th>...</th>\n",
       "      <th>...</th>\n",
       "      <th>...</th>\n",
       "      <td>...</td>\n",
       "      <td>...</td>\n",
       "      <td>...</td>\n",
       "      <td>...</td>\n",
       "      <td>...</td>\n",
       "      <td>...</td>\n",
       "    </tr>\n",
       "    <tr>\n",
       "      <th rowspan=\"5\" valign=\"top\">chr9</th>\n",
       "      <th>137269000</th>\n",
       "      <th>137270000</th>\n",
       "      <th>210</th>\n",
       "      <th>-3.445370</th>\n",
       "      <th>257.657992</th>\n",
       "      <th>191.337298</th>\n",
       "      <th>NaN</th>\n",
       "      <th>1000.0</th>\n",
       "      <th>NaN</th>\n",
       "      <th>True</th>\n",
       "      <th>False</th>\n",
       "      <th>False</th>\n",
       "      <th>5.276351</th>\n",
       "      <th>-5.276351</th>\n",
       "      <td>1.0</td>\n",
       "      <td>1</td>\n",
       "      <td>1000</td>\n",
       "      <td>HSALNG0075385</td>\n",
       "      <td>750.64</td>\n",
       "      <td>1.0</td>\n",
       "    </tr>\n",
       "    <tr>\n",
       "      <th>137275000</th>\n",
       "      <th>137276000</th>\n",
       "      <th>296</th>\n",
       "      <th>1.921453</th>\n",
       "      <th>268.932391</th>\n",
       "      <th>198.445131</th>\n",
       "      <th>NaN</th>\n",
       "      <th>712.0</th>\n",
       "      <th>NaN</th>\n",
       "      <th>True</th>\n",
       "      <th>False</th>\n",
       "      <th>False</th>\n",
       "      <th>2.687348</th>\n",
       "      <th>-2.687348</th>\n",
       "      <td>1.0</td>\n",
       "      <td>2</td>\n",
       "      <td>712</td>\n",
       "      <td>NELFB,EHMT1</td>\n",
       "      <td>762.48</td>\n",
       "      <td>1.0</td>\n",
       "    </tr>\n",
       "    <tr>\n",
       "      <th>137282000</th>\n",
       "      <th>137283000</th>\n",
       "      <th>211</th>\n",
       "      <th>-1.919711</th>\n",
       "      <th>237.194349</th>\n",
       "      <th>186.184553</th>\n",
       "      <th>NaN</th>\n",
       "      <th>572.0</th>\n",
       "      <th>641.0</th>\n",
       "      <th>True</th>\n",
       "      <th>True</th>\n",
       "      <th>False</th>\n",
       "      <th>-0.090791</th>\n",
       "      <th>0.090791</th>\n",
       "      <td>0.0</td>\n",
       "      <td>1</td>\n",
       "      <td>572</td>\n",
       "      <td>EXD3</td>\n",
       "      <td>11.79</td>\n",
       "      <td>0.0</td>\n",
       "    </tr>\n",
       "    <tr>\n",
       "      <th>137290000</th>\n",
       "      <th>137291000</th>\n",
       "      <th>224</th>\n",
       "      <th>-0.682673</th>\n",
       "      <th>233.338243</th>\n",
       "      <th>187.113535</th>\n",
       "      <th>NaN</th>\n",
       "      <th>NaN</th>\n",
       "      <th>NaN</th>\n",
       "      <th>False</th>\n",
       "      <th>False</th>\n",
       "      <th>False</th>\n",
       "      <th>2.162811</th>\n",
       "      <th>-2.162811</th>\n",
       "      <td>NaN</td>\n",
       "      <td>0</td>\n",
       "      <td>0</td>\n",
       "      <td>.</td>\n",
       "      <td>NaN</td>\n",
       "      <td>NaN</td>\n",
       "    </tr>\n",
       "    <tr>\n",
       "      <th>137294000</th>\n",
       "      <th>137295000</th>\n",
       "      <th>182</th>\n",
       "      <th>-5.749158</th>\n",
       "      <th>262.016662</th>\n",
       "      <th>193.710168</th>\n",
       "      <th>149.0</th>\n",
       "      <th>1000.0</th>\n",
       "      <th>1000.0</th>\n",
       "      <th>True</th>\n",
       "      <th>True</th>\n",
       "      <th>True</th>\n",
       "      <th>4.476550</th>\n",
       "      <th>-4.476550</th>\n",
       "      <td>1.0</td>\n",
       "      <td>1</td>\n",
       "      <td>1000</td>\n",
       "      <td>NRARP</td>\n",
       "      <td>771.35</td>\n",
       "      <td>1.0</td>\n",
       "    </tr>\n",
       "  </tbody>\n",
       "</table>\n",
       "<p>1785820 rows × 6 columns</p>\n",
       "</div>"
      ],
      "text/plain": [
       "                                                                                                                                                                                                                                                                                                 eliteness_of_enhancer  \\\n",
       "                                                                                                                                                                                                                                                                                                                   max   \n",
       "chromosome start     end       N_observed N_bar_3_noncoding N_mean_null_3_noncoding N_variance_null_3_noncoding cpg_island overlap enhancer overlap merged_exon overlap window overlaps enhancer window overlaps merged_exon window overlaps cpg_island new chen zscore negative new chen zscore                         \n",
       "chr1       1432000   1433000   260        -0.247615         263.528599              203.072610                  NaN                1000.0           NaN                 True                     False                       False                       4.299894       -4.299894                                  1.0   \n",
       "           1435000   1436000   275        -7.547130         387.939429              223.937877                  440.0              1000.0           444.0               True                     True                        True                        3.331645       -3.331645                                  1.0   \n",
       "           1449000   1450000   225         0.258359         221.559138              177.372370                  NaN                NaN              311.0               False                    True                        False                       1.817267       -1.817267                                  NaN   \n",
       "           1450000   1451000   313         2.197534         281.968822              199.400099                  NaN                NaN              758.0               False                    True                        False                       1.365863       -1.365863                                  NaN   \n",
       "           1451000   1452000   293         2.367303         260.131776              192.772432                  NaN                NaN              NaN                 False                    False                       False                       0.666316       -0.666316                                  NaN   \n",
       "...                                                                                                                                                                                                                                                                                                                ...   \n",
       "chr9       137269000 137270000 210        -3.445370         257.657992              191.337298                  NaN                1000.0           NaN                 True                     False                       False                       5.276351       -5.276351                                  1.0   \n",
       "           137275000 137276000 296         1.921453         268.932391              198.445131                  NaN                712.0            NaN                 True                     False                       False                       2.687348       -2.687348                                  1.0   \n",
       "           137282000 137283000 211        -1.919711         237.194349              186.184553                  NaN                572.0            641.0               True                     True                        False                      -0.090791        0.090791                                  0.0   \n",
       "           137290000 137291000 224        -0.682673         233.338243              187.113535                  NaN                NaN              NaN                 False                    False                       False                       2.162811       -2.162811                                  NaN   \n",
       "           137294000 137295000 182        -5.749158         262.016662              193.710168                  149.0              1000.0           1000.0              True                     True                        True                        4.476550       -4.476550                                  1.0   \n",
       "\n",
       "                                                                                                                                                                                                                                                                                                        \\\n",
       "                                                                                                                                                                                                                                                                                                 count   \n",
       "chromosome start     end       N_observed N_bar_3_noncoding N_mean_null_3_noncoding N_variance_null_3_noncoding cpg_island overlap enhancer overlap merged_exon overlap window overlaps enhancer window overlaps merged_exon window overlaps cpg_island new chen zscore negative new chen zscore         \n",
       "chr1       1432000   1433000   260        -0.247615         263.528599              203.072610                  NaN                1000.0           NaN                 True                     False                       False                       4.299894       -4.299894                    1   \n",
       "           1435000   1436000   275        -7.547130         387.939429              223.937877                  440.0              1000.0           444.0               True                     True                        True                        3.331645       -3.331645                    1   \n",
       "           1449000   1450000   225         0.258359         221.559138              177.372370                  NaN                NaN              311.0               False                    True                        False                       1.817267       -1.817267                    0   \n",
       "           1450000   1451000   313         2.197534         281.968822              199.400099                  NaN                NaN              758.0               False                    True                        False                       1.365863       -1.365863                    0   \n",
       "           1451000   1452000   293         2.367303         260.131776              192.772432                  NaN                NaN              NaN                 False                    False                       False                       0.666316       -0.666316                    0   \n",
       "...                                                                                                                                                                                                                                                                                                ...   \n",
       "chr9       137269000 137270000 210        -3.445370         257.657992              191.337298                  NaN                1000.0           NaN                 True                     False                       False                       5.276351       -5.276351                    1   \n",
       "           137275000 137276000 296         1.921453         268.932391              198.445131                  NaN                712.0            NaN                 True                     False                       False                       2.687348       -2.687348                    2   \n",
       "           137282000 137283000 211        -1.919711         237.194349              186.184553                  NaN                572.0            641.0               True                     True                        False                      -0.090791        0.090791                    1   \n",
       "           137290000 137291000 224        -0.682673         233.338243              187.113535                  NaN                NaN              NaN                 False                    False                       False                       2.162811       -2.162811                    0   \n",
       "           137294000 137295000 182        -5.749158         262.016662              193.710168                  149.0              1000.0           1000.0              True                     True                        True                        4.476550       -4.476550                    1   \n",
       "\n",
       "                                                                                                                                                                                                                                                                                                 window_enhancer_overlap_bps  \\\n",
       "                                                                                                                                                                                                                                                                                                                         sum   \n",
       "chromosome start     end       N_observed N_bar_3_noncoding N_mean_null_3_noncoding N_variance_null_3_noncoding cpg_island overlap enhancer overlap merged_exon overlap window overlaps enhancer window overlaps merged_exon window overlaps cpg_island new chen zscore negative new chen zscore                               \n",
       "chr1       1432000   1433000   260        -0.247615         263.528599              203.072610                  NaN                1000.0           NaN                 True                     False                       False                       4.299894       -4.299894                                       1000   \n",
       "           1435000   1436000   275        -7.547130         387.939429              223.937877                  440.0              1000.0           444.0               True                     True                        True                        3.331645       -3.331645                                       1000   \n",
       "           1449000   1450000   225         0.258359         221.559138              177.372370                  NaN                NaN              311.0               False                    True                        False                       1.817267       -1.817267                                          0   \n",
       "           1450000   1451000   313         2.197534         281.968822              199.400099                  NaN                NaN              758.0               False                    True                        False                       1.365863       -1.365863                                          0   \n",
       "           1451000   1452000   293         2.367303         260.131776              192.772432                  NaN                NaN              NaN                 False                    False                       False                       0.666316       -0.666316                                          0   \n",
       "...                                                                                                                                                                                                                                                                                                                      ...   \n",
       "chr9       137269000 137270000 210        -3.445370         257.657992              191.337298                  NaN                1000.0           NaN                 True                     False                       False                       5.276351       -5.276351                                       1000   \n",
       "           137275000 137276000 296         1.921453         268.932391              198.445131                  NaN                712.0            NaN                 True                     False                       False                       2.687348       -2.687348                                        712   \n",
       "           137282000 137283000 211        -1.919711         237.194349              186.184553                  NaN                572.0            641.0               True                     True                        False                      -0.090791        0.090791                                        572   \n",
       "           137290000 137291000 224        -0.682673         233.338243              187.113535                  NaN                NaN              NaN                 False                    False                       False                       2.162811       -2.162811                                          0   \n",
       "           137294000 137295000 182        -5.749158         262.016662              193.710168                  149.0              1000.0           1000.0              True                     True                        True                        4.476550       -4.476550                                       1000   \n",
       "\n",
       "                                                                                                                                                                                                                                                                                                 optimal_gene_targeted_by_enhancer  \\\n",
       "                                                                                                                                                                                                                                                                                                                          <lambda>   \n",
       "chromosome start     end       N_observed N_bar_3_noncoding N_mean_null_3_noncoding N_variance_null_3_noncoding cpg_island overlap enhancer overlap merged_exon overlap window overlaps enhancer window overlaps merged_exon window overlaps cpg_island new chen zscore negative new chen zscore                                     \n",
       "chr1       1432000   1433000   260        -0.247615         263.528599              203.072610                  NaN                1000.0           NaN                 True                     False                       False                       4.299894       -4.299894                                             VWA1   \n",
       "           1435000   1436000   275        -7.547130         387.939429              223.937877                  440.0              1000.0           444.0               True                     True                        True                        3.331645       -3.331645                                             VWA1   \n",
       "           1449000   1450000   225         0.258359         221.559138              177.372370                  NaN                NaN              311.0               False                    True                        False                       1.817267       -1.817267                                                .   \n",
       "           1450000   1451000   313         2.197534         281.968822              199.400099                  NaN                NaN              758.0               False                    True                        False                       1.365863       -1.365863                                                .   \n",
       "           1451000   1452000   293         2.367303         260.131776              192.772432                  NaN                NaN              NaN                 False                    False                       False                       0.666316       -0.666316                                                .   \n",
       "...                                                                                                                                                                                                                                                                                                                            ...   \n",
       "chr9       137269000 137270000 210        -3.445370         257.657992              191.337298                  NaN                1000.0           NaN                 True                     False                       False                       5.276351       -5.276351                                    HSALNG0075385   \n",
       "           137275000 137276000 296         1.921453         268.932391              198.445131                  NaN                712.0            NaN                 True                     False                       False                       2.687348       -2.687348                                      NELFB,EHMT1   \n",
       "           137282000 137283000 211        -1.919711         237.194349              186.184553                  NaN                572.0            641.0               True                     True                        False                      -0.090791        0.090791                                             EXD3   \n",
       "           137290000 137291000 224        -0.682673         233.338243              187.113535                  NaN                NaN              NaN                 False                    False                       False                       2.162811       -2.162811                                                .   \n",
       "           137294000 137295000 182        -5.749158         262.016662              193.710168                  149.0              1000.0           1000.0              True                     True                        True                        4.476550       -4.476550                                            NRARP   \n",
       "\n",
       "                                                                                                                                                                                                                                                                                                 optimal_enhancer_gene_association_score  \\\n",
       "                                                                                                                                                                                                                                                                                                                                     max   \n",
       "chromosome start     end       N_observed N_bar_3_noncoding N_mean_null_3_noncoding N_variance_null_3_noncoding cpg_island overlap enhancer overlap merged_exon overlap window overlaps enhancer window overlaps merged_exon window overlaps cpg_island new chen zscore negative new chen zscore                                           \n",
       "chr1       1432000   1433000   260        -0.247615         263.528599              203.072610                  NaN                1000.0           NaN                 True                     False                       False                       4.299894       -4.299894                                                 758.12   \n",
       "           1435000   1436000   275        -7.547130         387.939429              223.937877                  440.0              1000.0           444.0               True                     True                        True                        3.331645       -3.331645                                                 758.12   \n",
       "           1449000   1450000   225         0.258359         221.559138              177.372370                  NaN                NaN              311.0               False                    True                        False                       1.817267       -1.817267                                                    NaN   \n",
       "           1450000   1451000   313         2.197534         281.968822              199.400099                  NaN                NaN              758.0               False                    True                        False                       1.365863       -1.365863                                                    NaN   \n",
       "           1451000   1452000   293         2.367303         260.131776              192.772432                  NaN                NaN              NaN                 False                    False                       False                       0.666316       -0.666316                                                    NaN   \n",
       "...                                                                                                                                                                                                                                                                                                                                  ...   \n",
       "chr9       137269000 137270000 210        -3.445370         257.657992              191.337298                  NaN                1000.0           NaN                 True                     False                       False                       5.276351       -5.276351                                                 750.64   \n",
       "           137275000 137276000 296         1.921453         268.932391              198.445131                  NaN                712.0            NaN                 True                     False                       False                       2.687348       -2.687348                                                 762.48   \n",
       "           137282000 137283000 211        -1.919711         237.194349              186.184553                  NaN                572.0            641.0               True                     True                        False                      -0.090791        0.090791                                                  11.79   \n",
       "           137290000 137291000 224        -0.682673         233.338243              187.113535                  NaN                NaN              NaN                 False                    False                       False                       2.162811       -2.162811                                                    NaN   \n",
       "           137294000 137295000 182        -5.749158         262.016662              193.710168                  149.0              1000.0           1000.0              True                     True                        True                        4.476550       -4.476550                                                 771.35   \n",
       "\n",
       "                                                                                                                                                                                                                                                                                                 eliteness_of_optimal_enhancer_gene_association  \n",
       "                                                                                                                                                                                                                                                                                                                                            max  \n",
       "chromosome start     end       N_observed N_bar_3_noncoding N_mean_null_3_noncoding N_variance_null_3_noncoding cpg_island overlap enhancer overlap merged_exon overlap window overlaps enhancer window overlaps merged_exon window overlaps cpg_island new chen zscore negative new chen zscore                                                 \n",
       "chr1       1432000   1433000   260        -0.247615         263.528599              203.072610                  NaN                1000.0           NaN                 True                     False                       False                       4.299894       -4.299894                                                           1.0  \n",
       "           1435000   1436000   275        -7.547130         387.939429              223.937877                  440.0              1000.0           444.0               True                     True                        True                        3.331645       -3.331645                                                           1.0  \n",
       "           1449000   1450000   225         0.258359         221.559138              177.372370                  NaN                NaN              311.0               False                    True                        False                       1.817267       -1.817267                                                           NaN  \n",
       "           1450000   1451000   313         2.197534         281.968822              199.400099                  NaN                NaN              758.0               False                    True                        False                       1.365863       -1.365863                                                           NaN  \n",
       "           1451000   1452000   293         2.367303         260.131776              192.772432                  NaN                NaN              NaN                 False                    False                       False                       0.666316       -0.666316                                                           NaN  \n",
       "...                                                                                                                                                                                                                                                                                                                                         ...  \n",
       "chr9       137269000 137270000 210        -3.445370         257.657992              191.337298                  NaN                1000.0           NaN                 True                     False                       False                       5.276351       -5.276351                                                           1.0  \n",
       "           137275000 137276000 296         1.921453         268.932391              198.445131                  NaN                712.0            NaN                 True                     False                       False                       2.687348       -2.687348                                                           1.0  \n",
       "           137282000 137283000 211        -1.919711         237.194349              186.184553                  NaN                572.0            641.0               True                     True                        False                      -0.090791        0.090791                                                           0.0  \n",
       "           137290000 137291000 224        -0.682673         233.338243              187.113535                  NaN                NaN              NaN                 False                    False                       False                       2.162811       -2.162811                                                           NaN  \n",
       "           137294000 137295000 182        -5.749158         262.016662              193.710168                  149.0              1000.0           1000.0              True                     True                        True                        4.476550       -4.476550                                                           1.0  \n",
       "\n",
       "[1785820 rows x 6 columns]"
      ]
     },
     "execution_count": 6,
     "metadata": {},
     "output_type": "execute_result"
    }
   ],
   "source": [
    "chen_mchale_zscores_features = ( \n",
    "    chen_mchale_zscores_features\n",
    "    .groupby(columns_to_group_by, dropna=False)\n",
    "    .agg({\n",
    "      'eliteness_of_enhancer': ['max', 'count'],\n",
    "      'window_enhancer_overlap_bps': ['sum'],\n",
    "      'optimal_gene_targeted_by_enhancer': [lambda x: ','.join(list(x))],\n",
    "      'optimal_enhancer_gene_association_score': ['max'],\n",
    "      'eliteness_of_optimal_enhancer_gene_association': ['max']\n",
    "    })\n",
    ")\n",
    "chen_mchale_zscores_features"
   ]
  },
  {
   "cell_type": "code",
   "execution_count": 7,
   "id": "5ce5d6a7",
   "metadata": {},
   "outputs": [
    {
     "data": {
      "text/html": [
       "<div>\n",
       "<style scoped>\n",
       "    .dataframe tbody tr th:only-of-type {\n",
       "        vertical-align: middle;\n",
       "    }\n",
       "\n",
       "    .dataframe tbody tr th {\n",
       "        vertical-align: top;\n",
       "    }\n",
       "\n",
       "    .dataframe thead th {\n",
       "        text-align: right;\n",
       "    }\n",
       "</style>\n",
       "<table border=\"1\" class=\"dataframe\">\n",
       "  <thead>\n",
       "    <tr style=\"text-align: right;\">\n",
       "      <th></th>\n",
       "      <th>chromosome</th>\n",
       "      <th>start</th>\n",
       "      <th>end</th>\n",
       "      <th>N_observed</th>\n",
       "      <th>N_bar_3_noncoding</th>\n",
       "      <th>N_mean_null_3_noncoding</th>\n",
       "      <th>N_variance_null_3_noncoding</th>\n",
       "      <th>cpg_island overlap</th>\n",
       "      <th>enhancer overlap</th>\n",
       "      <th>merged_exon overlap</th>\n",
       "      <th>window overlaps enhancer</th>\n",
       "      <th>window overlaps merged_exon</th>\n",
       "      <th>window overlaps cpg_island</th>\n",
       "      <th>new chen zscore</th>\n",
       "      <th>negative new chen zscore</th>\n",
       "      <th>eliteness_of_enhancer max</th>\n",
       "      <th>enhancer count</th>\n",
       "      <th>window_enhancer_overlap_bps sum</th>\n",
       "      <th>optimal_gene_targeted_by_enhancer &lt;lambda&gt;</th>\n",
       "      <th>optimal_enhancer_gene_association_score max</th>\n",
       "      <th>eliteness_of_optimal_enhancer_gene_association max</th>\n",
       "    </tr>\n",
       "  </thead>\n",
       "  <tbody>\n",
       "    <tr>\n",
       "      <th>0</th>\n",
       "      <td>chr1</td>\n",
       "      <td>1432000</td>\n",
       "      <td>1433000</td>\n",
       "      <td>260</td>\n",
       "      <td>-0.247615</td>\n",
       "      <td>263.528599</td>\n",
       "      <td>203.072610</td>\n",
       "      <td>NaN</td>\n",
       "      <td>1000.0</td>\n",
       "      <td>NaN</td>\n",
       "      <td>True</td>\n",
       "      <td>False</td>\n",
       "      <td>False</td>\n",
       "      <td>4.299894</td>\n",
       "      <td>-4.299894</td>\n",
       "      <td>1.0</td>\n",
       "      <td>1</td>\n",
       "      <td>1000</td>\n",
       "      <td>VWA1</td>\n",
       "      <td>758.12</td>\n",
       "      <td>1.0</td>\n",
       "    </tr>\n",
       "    <tr>\n",
       "      <th>1</th>\n",
       "      <td>chr1</td>\n",
       "      <td>1435000</td>\n",
       "      <td>1436000</td>\n",
       "      <td>275</td>\n",
       "      <td>-7.547130</td>\n",
       "      <td>387.939429</td>\n",
       "      <td>223.937877</td>\n",
       "      <td>440.0</td>\n",
       "      <td>1000.0</td>\n",
       "      <td>444.0</td>\n",
       "      <td>True</td>\n",
       "      <td>True</td>\n",
       "      <td>True</td>\n",
       "      <td>3.331645</td>\n",
       "      <td>-3.331645</td>\n",
       "      <td>1.0</td>\n",
       "      <td>1</td>\n",
       "      <td>1000</td>\n",
       "      <td>VWA1</td>\n",
       "      <td>758.12</td>\n",
       "      <td>1.0</td>\n",
       "    </tr>\n",
       "    <tr>\n",
       "      <th>2</th>\n",
       "      <td>chr1</td>\n",
       "      <td>1449000</td>\n",
       "      <td>1450000</td>\n",
       "      <td>225</td>\n",
       "      <td>0.258359</td>\n",
       "      <td>221.559138</td>\n",
       "      <td>177.372370</td>\n",
       "      <td>NaN</td>\n",
       "      <td>NaN</td>\n",
       "      <td>311.0</td>\n",
       "      <td>False</td>\n",
       "      <td>True</td>\n",
       "      <td>False</td>\n",
       "      <td>1.817267</td>\n",
       "      <td>-1.817267</td>\n",
       "      <td>NaN</td>\n",
       "      <td>0</td>\n",
       "      <td>0</td>\n",
       "      <td>.</td>\n",
       "      <td>NaN</td>\n",
       "      <td>NaN</td>\n",
       "    </tr>\n",
       "    <tr>\n",
       "      <th>3</th>\n",
       "      <td>chr1</td>\n",
       "      <td>1450000</td>\n",
       "      <td>1451000</td>\n",
       "      <td>313</td>\n",
       "      <td>2.197534</td>\n",
       "      <td>281.968822</td>\n",
       "      <td>199.400099</td>\n",
       "      <td>NaN</td>\n",
       "      <td>NaN</td>\n",
       "      <td>758.0</td>\n",
       "      <td>False</td>\n",
       "      <td>True</td>\n",
       "      <td>False</td>\n",
       "      <td>1.365863</td>\n",
       "      <td>-1.365863</td>\n",
       "      <td>NaN</td>\n",
       "      <td>0</td>\n",
       "      <td>0</td>\n",
       "      <td>.</td>\n",
       "      <td>NaN</td>\n",
       "      <td>NaN</td>\n",
       "    </tr>\n",
       "    <tr>\n",
       "      <th>4</th>\n",
       "      <td>chr1</td>\n",
       "      <td>1451000</td>\n",
       "      <td>1452000</td>\n",
       "      <td>293</td>\n",
       "      <td>2.367303</td>\n",
       "      <td>260.131776</td>\n",
       "      <td>192.772432</td>\n",
       "      <td>NaN</td>\n",
       "      <td>NaN</td>\n",
       "      <td>NaN</td>\n",
       "      <td>False</td>\n",
       "      <td>False</td>\n",
       "      <td>False</td>\n",
       "      <td>0.666316</td>\n",
       "      <td>-0.666316</td>\n",
       "      <td>NaN</td>\n",
       "      <td>0</td>\n",
       "      <td>0</td>\n",
       "      <td>.</td>\n",
       "      <td>NaN</td>\n",
       "      <td>NaN</td>\n",
       "    </tr>\n",
       "    <tr>\n",
       "      <th>...</th>\n",
       "      <td>...</td>\n",
       "      <td>...</td>\n",
       "      <td>...</td>\n",
       "      <td>...</td>\n",
       "      <td>...</td>\n",
       "      <td>...</td>\n",
       "      <td>...</td>\n",
       "      <td>...</td>\n",
       "      <td>...</td>\n",
       "      <td>...</td>\n",
       "      <td>...</td>\n",
       "      <td>...</td>\n",
       "      <td>...</td>\n",
       "      <td>...</td>\n",
       "      <td>...</td>\n",
       "      <td>...</td>\n",
       "      <td>...</td>\n",
       "      <td>...</td>\n",
       "      <td>...</td>\n",
       "      <td>...</td>\n",
       "      <td>...</td>\n",
       "    </tr>\n",
       "    <tr>\n",
       "      <th>1785815</th>\n",
       "      <td>chr9</td>\n",
       "      <td>137269000</td>\n",
       "      <td>137270000</td>\n",
       "      <td>210</td>\n",
       "      <td>-3.445370</td>\n",
       "      <td>257.657992</td>\n",
       "      <td>191.337298</td>\n",
       "      <td>NaN</td>\n",
       "      <td>1000.0</td>\n",
       "      <td>NaN</td>\n",
       "      <td>True</td>\n",
       "      <td>False</td>\n",
       "      <td>False</td>\n",
       "      <td>5.276351</td>\n",
       "      <td>-5.276351</td>\n",
       "      <td>1.0</td>\n",
       "      <td>1</td>\n",
       "      <td>1000</td>\n",
       "      <td>HSALNG0075385</td>\n",
       "      <td>750.64</td>\n",
       "      <td>1.0</td>\n",
       "    </tr>\n",
       "    <tr>\n",
       "      <th>1785816</th>\n",
       "      <td>chr9</td>\n",
       "      <td>137275000</td>\n",
       "      <td>137276000</td>\n",
       "      <td>296</td>\n",
       "      <td>1.921453</td>\n",
       "      <td>268.932391</td>\n",
       "      <td>198.445131</td>\n",
       "      <td>NaN</td>\n",
       "      <td>712.0</td>\n",
       "      <td>NaN</td>\n",
       "      <td>True</td>\n",
       "      <td>False</td>\n",
       "      <td>False</td>\n",
       "      <td>2.687348</td>\n",
       "      <td>-2.687348</td>\n",
       "      <td>1.0</td>\n",
       "      <td>2</td>\n",
       "      <td>712</td>\n",
       "      <td>NELFB,EHMT1</td>\n",
       "      <td>762.48</td>\n",
       "      <td>1.0</td>\n",
       "    </tr>\n",
       "    <tr>\n",
       "      <th>1785817</th>\n",
       "      <td>chr9</td>\n",
       "      <td>137282000</td>\n",
       "      <td>137283000</td>\n",
       "      <td>211</td>\n",
       "      <td>-1.919711</td>\n",
       "      <td>237.194349</td>\n",
       "      <td>186.184553</td>\n",
       "      <td>NaN</td>\n",
       "      <td>572.0</td>\n",
       "      <td>641.0</td>\n",
       "      <td>True</td>\n",
       "      <td>True</td>\n",
       "      <td>False</td>\n",
       "      <td>-0.090791</td>\n",
       "      <td>0.090791</td>\n",
       "      <td>0.0</td>\n",
       "      <td>1</td>\n",
       "      <td>572</td>\n",
       "      <td>EXD3</td>\n",
       "      <td>11.79</td>\n",
       "      <td>0.0</td>\n",
       "    </tr>\n",
       "    <tr>\n",
       "      <th>1785818</th>\n",
       "      <td>chr9</td>\n",
       "      <td>137290000</td>\n",
       "      <td>137291000</td>\n",
       "      <td>224</td>\n",
       "      <td>-0.682673</td>\n",
       "      <td>233.338243</td>\n",
       "      <td>187.113535</td>\n",
       "      <td>NaN</td>\n",
       "      <td>NaN</td>\n",
       "      <td>NaN</td>\n",
       "      <td>False</td>\n",
       "      <td>False</td>\n",
       "      <td>False</td>\n",
       "      <td>2.162811</td>\n",
       "      <td>-2.162811</td>\n",
       "      <td>NaN</td>\n",
       "      <td>0</td>\n",
       "      <td>0</td>\n",
       "      <td>.</td>\n",
       "      <td>NaN</td>\n",
       "      <td>NaN</td>\n",
       "    </tr>\n",
       "    <tr>\n",
       "      <th>1785819</th>\n",
       "      <td>chr9</td>\n",
       "      <td>137294000</td>\n",
       "      <td>137295000</td>\n",
       "      <td>182</td>\n",
       "      <td>-5.749158</td>\n",
       "      <td>262.016662</td>\n",
       "      <td>193.710168</td>\n",
       "      <td>149.0</td>\n",
       "      <td>1000.0</td>\n",
       "      <td>1000.0</td>\n",
       "      <td>True</td>\n",
       "      <td>True</td>\n",
       "      <td>True</td>\n",
       "      <td>4.476550</td>\n",
       "      <td>-4.476550</td>\n",
       "      <td>1.0</td>\n",
       "      <td>1</td>\n",
       "      <td>1000</td>\n",
       "      <td>NRARP</td>\n",
       "      <td>771.35</td>\n",
       "      <td>1.0</td>\n",
       "    </tr>\n",
       "  </tbody>\n",
       "</table>\n",
       "<p>1785820 rows × 21 columns</p>\n",
       "</div>"
      ],
      "text/plain": [
       "        chromosome      start        end  N_observed  N_bar_3_noncoding  \\\n",
       "0             chr1    1432000    1433000         260          -0.247615   \n",
       "1             chr1    1435000    1436000         275          -7.547130   \n",
       "2             chr1    1449000    1450000         225           0.258359   \n",
       "3             chr1    1450000    1451000         313           2.197534   \n",
       "4             chr1    1451000    1452000         293           2.367303   \n",
       "...            ...        ...        ...         ...                ...   \n",
       "1785815       chr9  137269000  137270000         210          -3.445370   \n",
       "1785816       chr9  137275000  137276000         296           1.921453   \n",
       "1785817       chr9  137282000  137283000         211          -1.919711   \n",
       "1785818       chr9  137290000  137291000         224          -0.682673   \n",
       "1785819       chr9  137294000  137295000         182          -5.749158   \n",
       "\n",
       "         N_mean_null_3_noncoding  N_variance_null_3_noncoding  \\\n",
       "0                     263.528599                   203.072610   \n",
       "1                     387.939429                   223.937877   \n",
       "2                     221.559138                   177.372370   \n",
       "3                     281.968822                   199.400099   \n",
       "4                     260.131776                   192.772432   \n",
       "...                          ...                          ...   \n",
       "1785815               257.657992                   191.337298   \n",
       "1785816               268.932391                   198.445131   \n",
       "1785817               237.194349                   186.184553   \n",
       "1785818               233.338243                   187.113535   \n",
       "1785819               262.016662                   193.710168   \n",
       "\n",
       "         cpg_island overlap  enhancer overlap  merged_exon overlap  \\\n",
       "0                       NaN            1000.0                  NaN   \n",
       "1                     440.0            1000.0                444.0   \n",
       "2                       NaN               NaN                311.0   \n",
       "3                       NaN               NaN                758.0   \n",
       "4                       NaN               NaN                  NaN   \n",
       "...                     ...               ...                  ...   \n",
       "1785815                 NaN            1000.0                  NaN   \n",
       "1785816                 NaN             712.0                  NaN   \n",
       "1785817                 NaN             572.0                641.0   \n",
       "1785818                 NaN               NaN                  NaN   \n",
       "1785819               149.0            1000.0               1000.0   \n",
       "\n",
       "         window overlaps enhancer  window overlaps merged_exon  \\\n",
       "0                            True                        False   \n",
       "1                            True                         True   \n",
       "2                           False                         True   \n",
       "3                           False                         True   \n",
       "4                           False                        False   \n",
       "...                           ...                          ...   \n",
       "1785815                      True                        False   \n",
       "1785816                      True                        False   \n",
       "1785817                      True                         True   \n",
       "1785818                     False                        False   \n",
       "1785819                      True                         True   \n",
       "\n",
       "         window overlaps cpg_island  new chen zscore  \\\n",
       "0                             False         4.299894   \n",
       "1                              True         3.331645   \n",
       "2                             False         1.817267   \n",
       "3                             False         1.365863   \n",
       "4                             False         0.666316   \n",
       "...                             ...              ...   \n",
       "1785815                       False         5.276351   \n",
       "1785816                       False         2.687348   \n",
       "1785817                       False        -0.090791   \n",
       "1785818                       False         2.162811   \n",
       "1785819                        True         4.476550   \n",
       "\n",
       "         negative new chen zscore  eliteness_of_enhancer max  enhancer count  \\\n",
       "0                       -4.299894                        1.0               1   \n",
       "1                       -3.331645                        1.0               1   \n",
       "2                       -1.817267                        NaN               0   \n",
       "3                       -1.365863                        NaN               0   \n",
       "4                       -0.666316                        NaN               0   \n",
       "...                           ...                        ...             ...   \n",
       "1785815                 -5.276351                        1.0               1   \n",
       "1785816                 -2.687348                        1.0               2   \n",
       "1785817                  0.090791                        0.0               1   \n",
       "1785818                 -2.162811                        NaN               0   \n",
       "1785819                 -4.476550                        1.0               1   \n",
       "\n",
       "         window_enhancer_overlap_bps sum  \\\n",
       "0                                   1000   \n",
       "1                                   1000   \n",
       "2                                      0   \n",
       "3                                      0   \n",
       "4                                      0   \n",
       "...                                  ...   \n",
       "1785815                             1000   \n",
       "1785816                              712   \n",
       "1785817                              572   \n",
       "1785818                                0   \n",
       "1785819                             1000   \n",
       "\n",
       "        optimal_gene_targeted_by_enhancer <lambda>  \\\n",
       "0                                             VWA1   \n",
       "1                                             VWA1   \n",
       "2                                                .   \n",
       "3                                                .   \n",
       "4                                                .   \n",
       "...                                            ...   \n",
       "1785815                              HSALNG0075385   \n",
       "1785816                                NELFB,EHMT1   \n",
       "1785817                                       EXD3   \n",
       "1785818                                          .   \n",
       "1785819                                      NRARP   \n",
       "\n",
       "         optimal_enhancer_gene_association_score max  \\\n",
       "0                                             758.12   \n",
       "1                                             758.12   \n",
       "2                                                NaN   \n",
       "3                                                NaN   \n",
       "4                                                NaN   \n",
       "...                                              ...   \n",
       "1785815                                       750.64   \n",
       "1785816                                       762.48   \n",
       "1785817                                        11.79   \n",
       "1785818                                          NaN   \n",
       "1785819                                       771.35   \n",
       "\n",
       "         eliteness_of_optimal_enhancer_gene_association max  \n",
       "0                                                      1.0   \n",
       "1                                                      1.0   \n",
       "2                                                      NaN   \n",
       "3                                                      NaN   \n",
       "4                                                      NaN   \n",
       "...                                                    ...   \n",
       "1785815                                                1.0   \n",
       "1785816                                                1.0   \n",
       "1785817                                                0.0   \n",
       "1785818                                                NaN   \n",
       "1785819                                                1.0   \n",
       "\n",
       "[1785820 rows x 21 columns]"
      ]
     },
     "execution_count": 7,
     "metadata": {},
     "output_type": "execute_result"
    }
   ],
   "source": [
    "chen_mchale_zscores_features = (\n",
    "    chen_mchale_zscores_features\n",
    "    .reset_index()\n",
    ")\n",
    "chen_mchale_zscores_features.columns = [\n",
    "  ' '.join(column).rstrip() \n",
    "  for column in chen_mchale_zscores_features.columns.values\n",
    "]\n",
    "chen_mchale_zscores_features = chen_mchale_zscores_features.rename(columns={'eliteness_of_enhancer count': 'enhancer count'})\n",
    "chen_mchale_zscores_features"
   ]
  },
  {
   "attachments": {},
   "cell_type": "markdown",
   "id": "b9e87dff",
   "metadata": {},
   "source": [
    "## Stratify windows by whether they overlap exons or not"
   ]
  },
  {
   "cell_type": "code",
   "execution_count": 8,
   "id": "2054366a",
   "metadata": {},
   "outputs": [],
   "source": [
    "def filter_df(\n",
    "    feature_to_stratify_by,\n",
    "    window_overlaps_stratify_feature\n",
    "): \n",
    "    df = chen_mchale_zscores_features\n",
    "    df = df[\n",
    "        (df[feature_to_stratify_by] == window_overlaps_stratify_feature) \n",
    "    ]\n",
    "    return df\n"
   ]
  },
  {
   "cell_type": "code",
   "execution_count": 9,
   "id": "5a4f60ed",
   "metadata": {},
   "outputs": [],
   "source": [
    "chen_mchale_zscores_features_noncoding = filter_df(\n",
    "    feature_to_stratify_by = 'window overlaps merged_exon',\n",
    "    window_overlaps_stratify_feature = False,\n",
    ")\n",
    "chen_mchale_zscores_features_coding = filter_df(\n",
    "    feature_to_stratify_by = 'window overlaps merged_exon',\n",
    "    window_overlaps_stratify_feature = True,\n",
    ")"
   ]
  },
  {
   "attachments": {},
   "cell_type": "markdown",
   "id": "17c2857a",
   "metadata": {},
   "source": [
    "## McHale’s model enriches for stronger enhancer-gene associations"
   ]
  },
  {
   "cell_type": "code",
   "execution_count": 15,
   "id": "396f9ae9",
   "metadata": {
    "scrolled": false
   },
   "outputs": [
    {
     "name": "stderr",
     "output_type": "stream",
     "text": [
      "plot_enrichment: 100%|███████████████████████████| 2/2 [00:00<00:00,  2.67it/s]\n"
     ]
    },
    {
     "data": {
      "application/vnd.plotly.v1+json": {
       "config": {
        "plotlyServerURL": "https://plot.ly"
       },
       "data": [
        {
         "hovertemplate": "%{text}",
         "marker": {
          "symbol": "square"
         },
         "mode": "lines+markers",
         "name": "negative new chen zscore",
         "text": [
          "negative new chen zscore mean: -5.174585846252422<br>negative new chen zscore std: 0.7074479748078504<br>number of windows: 7643<br>",
          "negative new chen zscore mean: -4.2159381837204055<br>negative new chen zscore std: 0.1442776846318651<br>number of windows: 7643<br>",
          "negative new chen zscore mean: -3.706450278498741<br>negative new chen zscore std: 0.1468509830253984<br>number of windows: 15286<br>",
          "negative new chen zscore mean: -3.0740648734233416<br>negative new chen zscore std: 0.20136070414238103<br>number of windows: 45856<br>",
          "negative new chen zscore mean: -2.4468741780596304<br>negative new chen zscore std: 0.16790350084437314<br>number of windows: 76428<br>",
          "negative new chen zscore mean: -1.6533064005628921<br>negative new chen zscore std: 0.27297372778405693<br>number of windows: 229284<br>",
          "negative new chen zscore mean: -0.654120866594227<br>negative new chen zscore std: 0.3153419794405299<br>number of windows: 382140<br>",
          "negative new chen zscore mean: 0.4571635312665124<br>negative new chen zscore std: 0.34874262895842867<br>number of windows: 382140<br>",
          "negative new chen zscore mean: 1.6669695766784935<br>negative new chen zscore std: 0.3649746505047182<br>number of windows: 229284<br>",
          "negative new chen zscore mean: 2.8150003213822035<br>negative new chen zscore std: 0.27134325880610666<br>number of windows: 76428<br>",
          "negative new chen zscore mean: 3.9225172885701363<br>negative new chen zscore std: 0.39039098591063504<br>number of windows: 45856<br>",
          "negative new chen zscore mean: 5.245233101252732<br>negative new chen zscore std: 0.3274925226532812<br>number of windows: 15286<br>",
          "negative new chen zscore mean: 6.373835304727502<br>negative new chen zscore std: 0.30790407499766753<br>number of windows: 7643<br>",
          "negative new chen zscore mean: 8.040172108989584<br>negative new chen zscore std: 0.806648572134095<br>number of windows: 7643<br>"
         ],
         "type": "scatter",
         "x": [
          "0.0 - 0.005",
          "0.005 - 0.01",
          "0.01 - 0.02",
          "0.02 - 0.05",
          "0.05 - 0.1",
          "0.1 - 0.25",
          "0.25 - 0.5",
          "0.5 - 0.75",
          "0.75 - 0.9",
          "0.9 - 0.95",
          "0.95 - 0.98",
          "0.98 - 0.99",
          "0.99 - 0.995",
          "0.995 - 1.0"
         ],
         "y": [
          0.7373499646975759,
          0.7282001457371873,
          0.7115812917594655,
          0.6890841203602021,
          0.671972005869737,
          0.640862189485545,
          0.5981427109248343,
          0.5552641402877353,
          0.5069026240841794,
          0.4683745583038869,
          0.45587419056429235,
          0.4379610999329309,
          0.4192495921696574,
          0.4011299435028249
         ]
        },
        {
         "hovertemplate": "%{text}",
         "marker": {
          "symbol": "circle"
         },
         "mode": "lines+markers",
         "name": "N_bar_3_noncoding",
         "text": [
          "N_bar_3_noncoding mean: -4.8656137605161875<br>N_bar_3_noncoding std: 0.7481679737060338<br>number of windows: 7643<br>",
          "N_bar_3_noncoding mean: -4.066292024633301<br>N_bar_3_noncoding std: 0.10046122003190436<br>number of windows: 7643<br>",
          "N_bar_3_noncoding mean: -3.701777542423334<br>N_bar_3_noncoding std: 0.10734651089043447<br>number of windows: 15286<br>",
          "N_bar_3_noncoding mean: -3.215828021252798<br>N_bar_3_noncoding std: 0.1594808952651575<br>number of windows: 45856<br>",
          "N_bar_3_noncoding mean: -2.6901289358869085<br>N_bar_3_noncoding std: 0.14679645471963176<br>number of windows: 76428<br>",
          "N_bar_3_noncoding mean: -1.9678862730991906<br>N_bar_3_noncoding std: 0.25619594603999374<br>number of windows: 229284<br>",
          "N_bar_3_noncoding mean: -0.9906301373962754<br>N_bar_3_noncoding std: 0.3189196430058259<br>number of windows: 382140<br>",
          "N_bar_3_noncoding mean: 0.17252275247003737<br>N_bar_3_noncoding std: 0.37783177779912314<br>number of windows: 382140<br>",
          "N_bar_3_noncoding mean: 1.5608483313895878<br>N_bar_3_noncoding std: 0.4507399595568374<br>number of windows: 229284<br>",
          "N_bar_3_noncoding mean: 3.110208395327237<br>N_bar_3_noncoding std: 0.4132759499941197<br>number of windows: 76428<br>",
          "N_bar_3_noncoding mean: 4.925938867236032<br>N_bar_3_noncoding std: 0.6560219847918676<br>number of windows: 45856<br>",
          "N_bar_3_noncoding mean: 7.003687041378851<br>N_bar_3_noncoding std: 0.4785516105073061<br>number of windows: 15286<br>",
          "N_bar_3_noncoding mean: 8.584933084567242<br>N_bar_3_noncoding std: 0.4388848627290331<br>number of windows: 7643<br>",
          "N_bar_3_noncoding mean: 12.103917879462575<br>N_bar_3_noncoding std: 2.6794832651150693<br>number of windows: 7643<br>"
         ],
         "type": "scatter",
         "x": [
          "0.0 - 0.005",
          "0.005 - 0.01",
          "0.01 - 0.02",
          "0.02 - 0.05",
          "0.05 - 0.1",
          "0.1 - 0.25",
          "0.25 - 0.5",
          "0.5 - 0.75",
          "0.75 - 0.9",
          "0.9 - 0.95",
          "0.95 - 0.98",
          "0.98 - 0.99",
          "0.99 - 0.995",
          "0.995 - 1.0"
         ],
         "y": [
          0.7920426579163249,
          0.7120329936923824,
          0.7028224275408176,
          0.677654857347606,
          0.6614731284611632,
          0.6339355355524169,
          0.5976102776030905,
          0.5557137563144857,
          0.5195917096602028,
          0.5076077431689636,
          0.5148168856583729,
          0.5151785714285714,
          0.5133004926108374,
          0.42554991539763115
         ]
        }
       ],
       "layout": {
        "font": {
         "size": 20
        },
        "height": 800,
        "template": {
         "data": {
          "bar": [
           {
            "error_x": {
             "color": "#2a3f5f"
            },
            "error_y": {
             "color": "#2a3f5f"
            },
            "marker": {
             "line": {
              "color": "#E5ECF6",
              "width": 0.5
             },
             "pattern": {
              "fillmode": "overlay",
              "size": 10,
              "solidity": 0.2
             }
            },
            "type": "bar"
           }
          ],
          "barpolar": [
           {
            "marker": {
             "line": {
              "color": "#E5ECF6",
              "width": 0.5
             },
             "pattern": {
              "fillmode": "overlay",
              "size": 10,
              "solidity": 0.2
             }
            },
            "type": "barpolar"
           }
          ],
          "carpet": [
           {
            "aaxis": {
             "endlinecolor": "#2a3f5f",
             "gridcolor": "white",
             "linecolor": "white",
             "minorgridcolor": "white",
             "startlinecolor": "#2a3f5f"
            },
            "baxis": {
             "endlinecolor": "#2a3f5f",
             "gridcolor": "white",
             "linecolor": "white",
             "minorgridcolor": "white",
             "startlinecolor": "#2a3f5f"
            },
            "type": "carpet"
           }
          ],
          "choropleth": [
           {
            "colorbar": {
             "outlinewidth": 0,
             "ticks": ""
            },
            "type": "choropleth"
           }
          ],
          "contour": [
           {
            "colorbar": {
             "outlinewidth": 0,
             "ticks": ""
            },
            "colorscale": [
             [
              0,
              "#0d0887"
             ],
             [
              0.1111111111111111,
              "#46039f"
             ],
             [
              0.2222222222222222,
              "#7201a8"
             ],
             [
              0.3333333333333333,
              "#9c179e"
             ],
             [
              0.4444444444444444,
              "#bd3786"
             ],
             [
              0.5555555555555556,
              "#d8576b"
             ],
             [
              0.6666666666666666,
              "#ed7953"
             ],
             [
              0.7777777777777778,
              "#fb9f3a"
             ],
             [
              0.8888888888888888,
              "#fdca26"
             ],
             [
              1,
              "#f0f921"
             ]
            ],
            "type": "contour"
           }
          ],
          "contourcarpet": [
           {
            "colorbar": {
             "outlinewidth": 0,
             "ticks": ""
            },
            "type": "contourcarpet"
           }
          ],
          "heatmap": [
           {
            "colorbar": {
             "outlinewidth": 0,
             "ticks": ""
            },
            "colorscale": [
             [
              0,
              "#0d0887"
             ],
             [
              0.1111111111111111,
              "#46039f"
             ],
             [
              0.2222222222222222,
              "#7201a8"
             ],
             [
              0.3333333333333333,
              "#9c179e"
             ],
             [
              0.4444444444444444,
              "#bd3786"
             ],
             [
              0.5555555555555556,
              "#d8576b"
             ],
             [
              0.6666666666666666,
              "#ed7953"
             ],
             [
              0.7777777777777778,
              "#fb9f3a"
             ],
             [
              0.8888888888888888,
              "#fdca26"
             ],
             [
              1,
              "#f0f921"
             ]
            ],
            "type": "heatmap"
           }
          ],
          "heatmapgl": [
           {
            "colorbar": {
             "outlinewidth": 0,
             "ticks": ""
            },
            "colorscale": [
             [
              0,
              "#0d0887"
             ],
             [
              0.1111111111111111,
              "#46039f"
             ],
             [
              0.2222222222222222,
              "#7201a8"
             ],
             [
              0.3333333333333333,
              "#9c179e"
             ],
             [
              0.4444444444444444,
              "#bd3786"
             ],
             [
              0.5555555555555556,
              "#d8576b"
             ],
             [
              0.6666666666666666,
              "#ed7953"
             ],
             [
              0.7777777777777778,
              "#fb9f3a"
             ],
             [
              0.8888888888888888,
              "#fdca26"
             ],
             [
              1,
              "#f0f921"
             ]
            ],
            "type": "heatmapgl"
           }
          ],
          "histogram": [
           {
            "marker": {
             "pattern": {
              "fillmode": "overlay",
              "size": 10,
              "solidity": 0.2
             }
            },
            "type": "histogram"
           }
          ],
          "histogram2d": [
           {
            "colorbar": {
             "outlinewidth": 0,
             "ticks": ""
            },
            "colorscale": [
             [
              0,
              "#0d0887"
             ],
             [
              0.1111111111111111,
              "#46039f"
             ],
             [
              0.2222222222222222,
              "#7201a8"
             ],
             [
              0.3333333333333333,
              "#9c179e"
             ],
             [
              0.4444444444444444,
              "#bd3786"
             ],
             [
              0.5555555555555556,
              "#d8576b"
             ],
             [
              0.6666666666666666,
              "#ed7953"
             ],
             [
              0.7777777777777778,
              "#fb9f3a"
             ],
             [
              0.8888888888888888,
              "#fdca26"
             ],
             [
              1,
              "#f0f921"
             ]
            ],
            "type": "histogram2d"
           }
          ],
          "histogram2dcontour": [
           {
            "colorbar": {
             "outlinewidth": 0,
             "ticks": ""
            },
            "colorscale": [
             [
              0,
              "#0d0887"
             ],
             [
              0.1111111111111111,
              "#46039f"
             ],
             [
              0.2222222222222222,
              "#7201a8"
             ],
             [
              0.3333333333333333,
              "#9c179e"
             ],
             [
              0.4444444444444444,
              "#bd3786"
             ],
             [
              0.5555555555555556,
              "#d8576b"
             ],
             [
              0.6666666666666666,
              "#ed7953"
             ],
             [
              0.7777777777777778,
              "#fb9f3a"
             ],
             [
              0.8888888888888888,
              "#fdca26"
             ],
             [
              1,
              "#f0f921"
             ]
            ],
            "type": "histogram2dcontour"
           }
          ],
          "mesh3d": [
           {
            "colorbar": {
             "outlinewidth": 0,
             "ticks": ""
            },
            "type": "mesh3d"
           }
          ],
          "parcoords": [
           {
            "line": {
             "colorbar": {
              "outlinewidth": 0,
              "ticks": ""
             }
            },
            "type": "parcoords"
           }
          ],
          "pie": [
           {
            "automargin": true,
            "type": "pie"
           }
          ],
          "scatter": [
           {
            "marker": {
             "colorbar": {
              "outlinewidth": 0,
              "ticks": ""
             }
            },
            "type": "scatter"
           }
          ],
          "scatter3d": [
           {
            "line": {
             "colorbar": {
              "outlinewidth": 0,
              "ticks": ""
             }
            },
            "marker": {
             "colorbar": {
              "outlinewidth": 0,
              "ticks": ""
             }
            },
            "type": "scatter3d"
           }
          ],
          "scattercarpet": [
           {
            "marker": {
             "colorbar": {
              "outlinewidth": 0,
              "ticks": ""
             }
            },
            "type": "scattercarpet"
           }
          ],
          "scattergeo": [
           {
            "marker": {
             "colorbar": {
              "outlinewidth": 0,
              "ticks": ""
             }
            },
            "type": "scattergeo"
           }
          ],
          "scattergl": [
           {
            "marker": {
             "colorbar": {
              "outlinewidth": 0,
              "ticks": ""
             }
            },
            "type": "scattergl"
           }
          ],
          "scattermapbox": [
           {
            "marker": {
             "colorbar": {
              "outlinewidth": 0,
              "ticks": ""
             }
            },
            "type": "scattermapbox"
           }
          ],
          "scatterpolar": [
           {
            "marker": {
             "colorbar": {
              "outlinewidth": 0,
              "ticks": ""
             }
            },
            "type": "scatterpolar"
           }
          ],
          "scatterpolargl": [
           {
            "marker": {
             "colorbar": {
              "outlinewidth": 0,
              "ticks": ""
             }
            },
            "type": "scatterpolargl"
           }
          ],
          "scatterternary": [
           {
            "marker": {
             "colorbar": {
              "outlinewidth": 0,
              "ticks": ""
             }
            },
            "type": "scatterternary"
           }
          ],
          "surface": [
           {
            "colorbar": {
             "outlinewidth": 0,
             "ticks": ""
            },
            "colorscale": [
             [
              0,
              "#0d0887"
             ],
             [
              0.1111111111111111,
              "#46039f"
             ],
             [
              0.2222222222222222,
              "#7201a8"
             ],
             [
              0.3333333333333333,
              "#9c179e"
             ],
             [
              0.4444444444444444,
              "#bd3786"
             ],
             [
              0.5555555555555556,
              "#d8576b"
             ],
             [
              0.6666666666666666,
              "#ed7953"
             ],
             [
              0.7777777777777778,
              "#fb9f3a"
             ],
             [
              0.8888888888888888,
              "#fdca26"
             ],
             [
              1,
              "#f0f921"
             ]
            ],
            "type": "surface"
           }
          ],
          "table": [
           {
            "cells": {
             "fill": {
              "color": "#EBF0F8"
             },
             "line": {
              "color": "white"
             }
            },
            "header": {
             "fill": {
              "color": "#C8D4E3"
             },
             "line": {
              "color": "white"
             }
            },
            "type": "table"
           }
          ]
         },
         "layout": {
          "annotationdefaults": {
           "arrowcolor": "#2a3f5f",
           "arrowhead": 0,
           "arrowwidth": 1
          },
          "autotypenumbers": "strict",
          "coloraxis": {
           "colorbar": {
            "outlinewidth": 0,
            "ticks": ""
           }
          },
          "colorscale": {
           "diverging": [
            [
             0,
             "#8e0152"
            ],
            [
             0.1,
             "#c51b7d"
            ],
            [
             0.2,
             "#de77ae"
            ],
            [
             0.3,
             "#f1b6da"
            ],
            [
             0.4,
             "#fde0ef"
            ],
            [
             0.5,
             "#f7f7f7"
            ],
            [
             0.6,
             "#e6f5d0"
            ],
            [
             0.7,
             "#b8e186"
            ],
            [
             0.8,
             "#7fbc41"
            ],
            [
             0.9,
             "#4d9221"
            ],
            [
             1,
             "#276419"
            ]
           ],
           "sequential": [
            [
             0,
             "#0d0887"
            ],
            [
             0.1111111111111111,
             "#46039f"
            ],
            [
             0.2222222222222222,
             "#7201a8"
            ],
            [
             0.3333333333333333,
             "#9c179e"
            ],
            [
             0.4444444444444444,
             "#bd3786"
            ],
            [
             0.5555555555555556,
             "#d8576b"
            ],
            [
             0.6666666666666666,
             "#ed7953"
            ],
            [
             0.7777777777777778,
             "#fb9f3a"
            ],
            [
             0.8888888888888888,
             "#fdca26"
            ],
            [
             1,
             "#f0f921"
            ]
           ],
           "sequentialminus": [
            [
             0,
             "#0d0887"
            ],
            [
             0.1111111111111111,
             "#46039f"
            ],
            [
             0.2222222222222222,
             "#7201a8"
            ],
            [
             0.3333333333333333,
             "#9c179e"
            ],
            [
             0.4444444444444444,
             "#bd3786"
            ],
            [
             0.5555555555555556,
             "#d8576b"
            ],
            [
             0.6666666666666666,
             "#ed7953"
            ],
            [
             0.7777777777777778,
             "#fb9f3a"
            ],
            [
             0.8888888888888888,
             "#fdca26"
            ],
            [
             1,
             "#f0f921"
            ]
           ]
          },
          "colorway": [
           "#636efa",
           "#EF553B",
           "#00cc96",
           "#ab63fa",
           "#FFA15A",
           "#19d3f3",
           "#FF6692",
           "#B6E880",
           "#FF97FF",
           "#FECB52"
          ],
          "font": {
           "color": "#2a3f5f"
          },
          "geo": {
           "bgcolor": "white",
           "lakecolor": "white",
           "landcolor": "#E5ECF6",
           "showlakes": true,
           "showland": true,
           "subunitcolor": "white"
          },
          "hoverlabel": {
           "align": "left"
          },
          "hovermode": "closest",
          "mapbox": {
           "style": "light"
          },
          "paper_bgcolor": "white",
          "plot_bgcolor": "#E5ECF6",
          "polar": {
           "angularaxis": {
            "gridcolor": "white",
            "linecolor": "white",
            "ticks": ""
           },
           "bgcolor": "#E5ECF6",
           "radialaxis": {
            "gridcolor": "white",
            "linecolor": "white",
            "ticks": ""
           }
          },
          "scene": {
           "xaxis": {
            "backgroundcolor": "#E5ECF6",
            "gridcolor": "white",
            "gridwidth": 2,
            "linecolor": "white",
            "showbackground": true,
            "ticks": "",
            "zerolinecolor": "white"
           },
           "yaxis": {
            "backgroundcolor": "#E5ECF6",
            "gridcolor": "white",
            "gridwidth": 2,
            "linecolor": "white",
            "showbackground": true,
            "ticks": "",
            "zerolinecolor": "white"
           },
           "zaxis": {
            "backgroundcolor": "#E5ECF6",
            "gridcolor": "white",
            "gridwidth": 2,
            "linecolor": "white",
            "showbackground": true,
            "ticks": "",
            "zerolinecolor": "white"
           }
          },
          "shapedefaults": {
           "line": {
            "color": "#2a3f5f"
           }
          },
          "ternary": {
           "aaxis": {
            "gridcolor": "white",
            "linecolor": "white",
            "ticks": ""
           },
           "baxis": {
            "gridcolor": "white",
            "linecolor": "white",
            "ticks": ""
           },
           "bgcolor": "#E5ECF6",
           "caxis": {
            "gridcolor": "white",
            "linecolor": "white",
            "ticks": ""
           }
          },
          "title": {
           "x": 0.05
          },
          "xaxis": {
           "automargin": true,
           "gridcolor": "white",
           "linecolor": "white",
           "ticks": "",
           "title": {
            "standoff": 15
           },
           "zerolinecolor": "white",
           "zerolinewidth": 2
          },
          "yaxis": {
           "automargin": true,
           "gridcolor": "white",
           "linecolor": "white",
           "ticks": "",
           "title": {
            "standoff": 15
           },
           "zerolinecolor": "white",
           "zerolinewidth": 2
          }
         }
        },
        "width": 1600,
        "xaxis": {
         "title": {
          "text": "quantile of window score"
         }
        },
        "yaxis": {
         "title": {
          "text": "fraction of enhancers that are elite"
         }
        }
       }
      },
      "text/html": [
       "<div>                            <div id=\"01fa0c5c-7cbf-4580-b1bc-8b70b74dd2b3\" class=\"plotly-graph-div\" style=\"height:800px; width:1600px;\"></div>            <script type=\"text/javascript\">                require([\"plotly\"], function(Plotly) {                    window.PLOTLYENV=window.PLOTLYENV || {};                                    if (document.getElementById(\"01fa0c5c-7cbf-4580-b1bc-8b70b74dd2b3\")) {                    Plotly.newPlot(                        \"01fa0c5c-7cbf-4580-b1bc-8b70b74dd2b3\",                        [{\"hovertemplate\":\"%{text}\",\"marker\":{\"symbol\":\"square\"},\"mode\":\"lines+markers\",\"name\":\"negative new chen zscore\",\"text\":[\"negative new chen zscore mean: -5.174585846252422<br>negative new chen zscore std: 0.7074479748078504<br>number of windows: 7643<br>\",\"negative new chen zscore mean: -4.2159381837204055<br>negative new chen zscore std: 0.1442776846318651<br>number of windows: 7643<br>\",\"negative new chen zscore mean: -3.706450278498741<br>negative new chen zscore std: 0.1468509830253984<br>number of windows: 15286<br>\",\"negative new chen zscore mean: -3.0740648734233416<br>negative new chen zscore std: 0.20136070414238103<br>number of windows: 45856<br>\",\"negative new chen zscore mean: -2.4468741780596304<br>negative new chen zscore std: 0.16790350084437314<br>number of windows: 76428<br>\",\"negative new chen zscore mean: -1.6533064005628921<br>negative new chen zscore std: 0.27297372778405693<br>number of windows: 229284<br>\",\"negative new chen zscore mean: -0.654120866594227<br>negative new chen zscore std: 0.3153419794405299<br>number of windows: 382140<br>\",\"negative new chen zscore mean: 0.4571635312665124<br>negative new chen zscore std: 0.34874262895842867<br>number of windows: 382140<br>\",\"negative new chen zscore mean: 1.6669695766784935<br>negative new chen zscore std: 0.3649746505047182<br>number of windows: 229284<br>\",\"negative new chen zscore mean: 2.8150003213822035<br>negative new chen zscore std: 0.27134325880610666<br>number of windows: 76428<br>\",\"negative new chen zscore mean: 3.9225172885701363<br>negative new chen zscore std: 0.39039098591063504<br>number of windows: 45856<br>\",\"negative new chen zscore mean: 5.245233101252732<br>negative new chen zscore std: 0.3274925226532812<br>number of windows: 15286<br>\",\"negative new chen zscore mean: 6.373835304727502<br>negative new chen zscore std: 0.30790407499766753<br>number of windows: 7643<br>\",\"negative new chen zscore mean: 8.040172108989584<br>negative new chen zscore std: 0.806648572134095<br>number of windows: 7643<br>\"],\"type\":\"scatter\",\"x\":[\"0.0 - 0.005\",\"0.005 - 0.01\",\"0.01 - 0.02\",\"0.02 - 0.05\",\"0.05 - 0.1\",\"0.1 - 0.25\",\"0.25 - 0.5\",\"0.5 - 0.75\",\"0.75 - 0.9\",\"0.9 - 0.95\",\"0.95 - 0.98\",\"0.98 - 0.99\",\"0.99 - 0.995\",\"0.995 - 1.0\"],\"y\":[0.7373499646975759,0.7282001457371873,0.7115812917594655,0.6890841203602021,0.671972005869737,0.640862189485545,0.5981427109248343,0.5552641402877353,0.5069026240841794,0.4683745583038869,0.45587419056429235,0.4379610999329309,0.4192495921696574,0.4011299435028249]},{\"hovertemplate\":\"%{text}\",\"marker\":{\"symbol\":\"circle\"},\"mode\":\"lines+markers\",\"name\":\"N_bar_3_noncoding\",\"text\":[\"N_bar_3_noncoding mean: -4.8656137605161875<br>N_bar_3_noncoding std: 0.7481679737060338<br>number of windows: 7643<br>\",\"N_bar_3_noncoding mean: -4.066292024633301<br>N_bar_3_noncoding std: 0.10046122003190436<br>number of windows: 7643<br>\",\"N_bar_3_noncoding mean: -3.701777542423334<br>N_bar_3_noncoding std: 0.10734651089043447<br>number of windows: 15286<br>\",\"N_bar_3_noncoding mean: -3.215828021252798<br>N_bar_3_noncoding std: 0.1594808952651575<br>number of windows: 45856<br>\",\"N_bar_3_noncoding mean: -2.6901289358869085<br>N_bar_3_noncoding std: 0.14679645471963176<br>number of windows: 76428<br>\",\"N_bar_3_noncoding mean: -1.9678862730991906<br>N_bar_3_noncoding std: 0.25619594603999374<br>number of windows: 229284<br>\",\"N_bar_3_noncoding mean: -0.9906301373962754<br>N_bar_3_noncoding std: 0.3189196430058259<br>number of windows: 382140<br>\",\"N_bar_3_noncoding mean: 0.17252275247003737<br>N_bar_3_noncoding std: 0.37783177779912314<br>number of windows: 382140<br>\",\"N_bar_3_noncoding mean: 1.5608483313895878<br>N_bar_3_noncoding std: 0.4507399595568374<br>number of windows: 229284<br>\",\"N_bar_3_noncoding mean: 3.110208395327237<br>N_bar_3_noncoding std: 0.4132759499941197<br>number of windows: 76428<br>\",\"N_bar_3_noncoding mean: 4.925938867236032<br>N_bar_3_noncoding std: 0.6560219847918676<br>number of windows: 45856<br>\",\"N_bar_3_noncoding mean: 7.003687041378851<br>N_bar_3_noncoding std: 0.4785516105073061<br>number of windows: 15286<br>\",\"N_bar_3_noncoding mean: 8.584933084567242<br>N_bar_3_noncoding std: 0.4388848627290331<br>number of windows: 7643<br>\",\"N_bar_3_noncoding mean: 12.103917879462575<br>N_bar_3_noncoding std: 2.6794832651150693<br>number of windows: 7643<br>\"],\"type\":\"scatter\",\"x\":[\"0.0 - 0.005\",\"0.005 - 0.01\",\"0.01 - 0.02\",\"0.02 - 0.05\",\"0.05 - 0.1\",\"0.1 - 0.25\",\"0.25 - 0.5\",\"0.5 - 0.75\",\"0.75 - 0.9\",\"0.9 - 0.95\",\"0.95 - 0.98\",\"0.98 - 0.99\",\"0.99 - 0.995\",\"0.995 - 1.0\"],\"y\":[0.7920426579163249,0.7120329936923824,0.7028224275408176,0.677654857347606,0.6614731284611632,0.6339355355524169,0.5976102776030905,0.5557137563144857,0.5195917096602028,0.5076077431689636,0.5148168856583729,0.5151785714285714,0.5133004926108374,0.42554991539763115]}],                        {\"font\":{\"size\":20},\"height\":800,\"template\":{\"data\":{\"bar\":[{\"error_x\":{\"color\":\"#2a3f5f\"},\"error_y\":{\"color\":\"#2a3f5f\"},\"marker\":{\"line\":{\"color\":\"#E5ECF6\",\"width\":0.5},\"pattern\":{\"fillmode\":\"overlay\",\"size\":10,\"solidity\":0.2}},\"type\":\"bar\"}],\"barpolar\":[{\"marker\":{\"line\":{\"color\":\"#E5ECF6\",\"width\":0.5},\"pattern\":{\"fillmode\":\"overlay\",\"size\":10,\"solidity\":0.2}},\"type\":\"barpolar\"}],\"carpet\":[{\"aaxis\":{\"endlinecolor\":\"#2a3f5f\",\"gridcolor\":\"white\",\"linecolor\":\"white\",\"minorgridcolor\":\"white\",\"startlinecolor\":\"#2a3f5f\"},\"baxis\":{\"endlinecolor\":\"#2a3f5f\",\"gridcolor\":\"white\",\"linecolor\":\"white\",\"minorgridcolor\":\"white\",\"startlinecolor\":\"#2a3f5f\"},\"type\":\"carpet\"}],\"choropleth\":[{\"colorbar\":{\"outlinewidth\":0,\"ticks\":\"\"},\"type\":\"choropleth\"}],\"contour\":[{\"colorbar\":{\"outlinewidth\":0,\"ticks\":\"\"},\"colorscale\":[[0.0,\"#0d0887\"],[0.1111111111111111,\"#46039f\"],[0.2222222222222222,\"#7201a8\"],[0.3333333333333333,\"#9c179e\"],[0.4444444444444444,\"#bd3786\"],[0.5555555555555556,\"#d8576b\"],[0.6666666666666666,\"#ed7953\"],[0.7777777777777778,\"#fb9f3a\"],[0.8888888888888888,\"#fdca26\"],[1.0,\"#f0f921\"]],\"type\":\"contour\"}],\"contourcarpet\":[{\"colorbar\":{\"outlinewidth\":0,\"ticks\":\"\"},\"type\":\"contourcarpet\"}],\"heatmap\":[{\"colorbar\":{\"outlinewidth\":0,\"ticks\":\"\"},\"colorscale\":[[0.0,\"#0d0887\"],[0.1111111111111111,\"#46039f\"],[0.2222222222222222,\"#7201a8\"],[0.3333333333333333,\"#9c179e\"],[0.4444444444444444,\"#bd3786\"],[0.5555555555555556,\"#d8576b\"],[0.6666666666666666,\"#ed7953\"],[0.7777777777777778,\"#fb9f3a\"],[0.8888888888888888,\"#fdca26\"],[1.0,\"#f0f921\"]],\"type\":\"heatmap\"}],\"heatmapgl\":[{\"colorbar\":{\"outlinewidth\":0,\"ticks\":\"\"},\"colorscale\":[[0.0,\"#0d0887\"],[0.1111111111111111,\"#46039f\"],[0.2222222222222222,\"#7201a8\"],[0.3333333333333333,\"#9c179e\"],[0.4444444444444444,\"#bd3786\"],[0.5555555555555556,\"#d8576b\"],[0.6666666666666666,\"#ed7953\"],[0.7777777777777778,\"#fb9f3a\"],[0.8888888888888888,\"#fdca26\"],[1.0,\"#f0f921\"]],\"type\":\"heatmapgl\"}],\"histogram\":[{\"marker\":{\"pattern\":{\"fillmode\":\"overlay\",\"size\":10,\"solidity\":0.2}},\"type\":\"histogram\"}],\"histogram2d\":[{\"colorbar\":{\"outlinewidth\":0,\"ticks\":\"\"},\"colorscale\":[[0.0,\"#0d0887\"],[0.1111111111111111,\"#46039f\"],[0.2222222222222222,\"#7201a8\"],[0.3333333333333333,\"#9c179e\"],[0.4444444444444444,\"#bd3786\"],[0.5555555555555556,\"#d8576b\"],[0.6666666666666666,\"#ed7953\"],[0.7777777777777778,\"#fb9f3a\"],[0.8888888888888888,\"#fdca26\"],[1.0,\"#f0f921\"]],\"type\":\"histogram2d\"}],\"histogram2dcontour\":[{\"colorbar\":{\"outlinewidth\":0,\"ticks\":\"\"},\"colorscale\":[[0.0,\"#0d0887\"],[0.1111111111111111,\"#46039f\"],[0.2222222222222222,\"#7201a8\"],[0.3333333333333333,\"#9c179e\"],[0.4444444444444444,\"#bd3786\"],[0.5555555555555556,\"#d8576b\"],[0.6666666666666666,\"#ed7953\"],[0.7777777777777778,\"#fb9f3a\"],[0.8888888888888888,\"#fdca26\"],[1.0,\"#f0f921\"]],\"type\":\"histogram2dcontour\"}],\"mesh3d\":[{\"colorbar\":{\"outlinewidth\":0,\"ticks\":\"\"},\"type\":\"mesh3d\"}],\"parcoords\":[{\"line\":{\"colorbar\":{\"outlinewidth\":0,\"ticks\":\"\"}},\"type\":\"parcoords\"}],\"pie\":[{\"automargin\":true,\"type\":\"pie\"}],\"scatter\":[{\"marker\":{\"colorbar\":{\"outlinewidth\":0,\"ticks\":\"\"}},\"type\":\"scatter\"}],\"scatter3d\":[{\"line\":{\"colorbar\":{\"outlinewidth\":0,\"ticks\":\"\"}},\"marker\":{\"colorbar\":{\"outlinewidth\":0,\"ticks\":\"\"}},\"type\":\"scatter3d\"}],\"scattercarpet\":[{\"marker\":{\"colorbar\":{\"outlinewidth\":0,\"ticks\":\"\"}},\"type\":\"scattercarpet\"}],\"scattergeo\":[{\"marker\":{\"colorbar\":{\"outlinewidth\":0,\"ticks\":\"\"}},\"type\":\"scattergeo\"}],\"scattergl\":[{\"marker\":{\"colorbar\":{\"outlinewidth\":0,\"ticks\":\"\"}},\"type\":\"scattergl\"}],\"scattermapbox\":[{\"marker\":{\"colorbar\":{\"outlinewidth\":0,\"ticks\":\"\"}},\"type\":\"scattermapbox\"}],\"scatterpolar\":[{\"marker\":{\"colorbar\":{\"outlinewidth\":0,\"ticks\":\"\"}},\"type\":\"scatterpolar\"}],\"scatterpolargl\":[{\"marker\":{\"colorbar\":{\"outlinewidth\":0,\"ticks\":\"\"}},\"type\":\"scatterpolargl\"}],\"scatterternary\":[{\"marker\":{\"colorbar\":{\"outlinewidth\":0,\"ticks\":\"\"}},\"type\":\"scatterternary\"}],\"surface\":[{\"colorbar\":{\"outlinewidth\":0,\"ticks\":\"\"},\"colorscale\":[[0.0,\"#0d0887\"],[0.1111111111111111,\"#46039f\"],[0.2222222222222222,\"#7201a8\"],[0.3333333333333333,\"#9c179e\"],[0.4444444444444444,\"#bd3786\"],[0.5555555555555556,\"#d8576b\"],[0.6666666666666666,\"#ed7953\"],[0.7777777777777778,\"#fb9f3a\"],[0.8888888888888888,\"#fdca26\"],[1.0,\"#f0f921\"]],\"type\":\"surface\"}],\"table\":[{\"cells\":{\"fill\":{\"color\":\"#EBF0F8\"},\"line\":{\"color\":\"white\"}},\"header\":{\"fill\":{\"color\":\"#C8D4E3\"},\"line\":{\"color\":\"white\"}},\"type\":\"table\"}]},\"layout\":{\"annotationdefaults\":{\"arrowcolor\":\"#2a3f5f\",\"arrowhead\":0,\"arrowwidth\":1},\"autotypenumbers\":\"strict\",\"coloraxis\":{\"colorbar\":{\"outlinewidth\":0,\"ticks\":\"\"}},\"colorscale\":{\"diverging\":[[0,\"#8e0152\"],[0.1,\"#c51b7d\"],[0.2,\"#de77ae\"],[0.3,\"#f1b6da\"],[0.4,\"#fde0ef\"],[0.5,\"#f7f7f7\"],[0.6,\"#e6f5d0\"],[0.7,\"#b8e186\"],[0.8,\"#7fbc41\"],[0.9,\"#4d9221\"],[1,\"#276419\"]],\"sequential\":[[0.0,\"#0d0887\"],[0.1111111111111111,\"#46039f\"],[0.2222222222222222,\"#7201a8\"],[0.3333333333333333,\"#9c179e\"],[0.4444444444444444,\"#bd3786\"],[0.5555555555555556,\"#d8576b\"],[0.6666666666666666,\"#ed7953\"],[0.7777777777777778,\"#fb9f3a\"],[0.8888888888888888,\"#fdca26\"],[1.0,\"#f0f921\"]],\"sequentialminus\":[[0.0,\"#0d0887\"],[0.1111111111111111,\"#46039f\"],[0.2222222222222222,\"#7201a8\"],[0.3333333333333333,\"#9c179e\"],[0.4444444444444444,\"#bd3786\"],[0.5555555555555556,\"#d8576b\"],[0.6666666666666666,\"#ed7953\"],[0.7777777777777778,\"#fb9f3a\"],[0.8888888888888888,\"#fdca26\"],[1.0,\"#f0f921\"]]},\"colorway\":[\"#636efa\",\"#EF553B\",\"#00cc96\",\"#ab63fa\",\"#FFA15A\",\"#19d3f3\",\"#FF6692\",\"#B6E880\",\"#FF97FF\",\"#FECB52\"],\"font\":{\"color\":\"#2a3f5f\"},\"geo\":{\"bgcolor\":\"white\",\"lakecolor\":\"white\",\"landcolor\":\"#E5ECF6\",\"showlakes\":true,\"showland\":true,\"subunitcolor\":\"white\"},\"hoverlabel\":{\"align\":\"left\"},\"hovermode\":\"closest\",\"mapbox\":{\"style\":\"light\"},\"paper_bgcolor\":\"white\",\"plot_bgcolor\":\"#E5ECF6\",\"polar\":{\"angularaxis\":{\"gridcolor\":\"white\",\"linecolor\":\"white\",\"ticks\":\"\"},\"bgcolor\":\"#E5ECF6\",\"radialaxis\":{\"gridcolor\":\"white\",\"linecolor\":\"white\",\"ticks\":\"\"}},\"scene\":{\"xaxis\":{\"backgroundcolor\":\"#E5ECF6\",\"gridcolor\":\"white\",\"gridwidth\":2,\"linecolor\":\"white\",\"showbackground\":true,\"ticks\":\"\",\"zerolinecolor\":\"white\"},\"yaxis\":{\"backgroundcolor\":\"#E5ECF6\",\"gridcolor\":\"white\",\"gridwidth\":2,\"linecolor\":\"white\",\"showbackground\":true,\"ticks\":\"\",\"zerolinecolor\":\"white\"},\"zaxis\":{\"backgroundcolor\":\"#E5ECF6\",\"gridcolor\":\"white\",\"gridwidth\":2,\"linecolor\":\"white\",\"showbackground\":true,\"ticks\":\"\",\"zerolinecolor\":\"white\"}},\"shapedefaults\":{\"line\":{\"color\":\"#2a3f5f\"}},\"ternary\":{\"aaxis\":{\"gridcolor\":\"white\",\"linecolor\":\"white\",\"ticks\":\"\"},\"baxis\":{\"gridcolor\":\"white\",\"linecolor\":\"white\",\"ticks\":\"\"},\"bgcolor\":\"#E5ECF6\",\"caxis\":{\"gridcolor\":\"white\",\"linecolor\":\"white\",\"ticks\":\"\"}},\"title\":{\"x\":0.05},\"xaxis\":{\"automargin\":true,\"gridcolor\":\"white\",\"linecolor\":\"white\",\"ticks\":\"\",\"title\":{\"standoff\":15},\"zerolinecolor\":\"white\",\"zerolinewidth\":2},\"yaxis\":{\"automargin\":true,\"gridcolor\":\"white\",\"linecolor\":\"white\",\"ticks\":\"\",\"title\":{\"standoff\":15},\"zerolinecolor\":\"white\",\"zerolinewidth\":2}}},\"width\":1600,\"xaxis\":{\"title\":{\"text\":\"quantile of window score\"}},\"yaxis\":{\"title\":{\"text\":\"fraction of enhancers that are elite\"}}},                        {\"responsive\": true}                    ).then(function(){\n",
       "                            \n",
       "var gd = document.getElementById('01fa0c5c-7cbf-4580-b1bc-8b70b74dd2b3');\n",
       "var x = new MutationObserver(function (mutations, observer) {{\n",
       "        var display = window.getComputedStyle(gd).display;\n",
       "        if (!display || display === 'none') {{\n",
       "            console.log([gd, 'removed!']);\n",
       "            Plotly.purge(gd);\n",
       "            observer.disconnect();\n",
       "        }}\n",
       "}});\n",
       "\n",
       "// Listen for the removal of the full notebook cells\n",
       "var notebookContainer = gd.closest('#notebook-container');\n",
       "if (notebookContainer) {{\n",
       "    x.observe(notebookContainer, {childList: true});\n",
       "}}\n",
       "\n",
       "// Listen for the clearing of the current output cell\n",
       "var outputEl = gd.closest('.output');\n",
       "if (outputEl) {{\n",
       "    x.observe(outputEl, {childList: true});\n",
       "}}\n",
       "\n",
       "                        })                };                });            </script>        </div>"
      ]
     },
     "metadata": {},
     "output_type": "display_data"
    }
   ],
   "source": [
    "import warnings\n",
    "\n",
    "def compute_array_of_quantiles():\n",
    "    array_of_quantiles = [0.00, 0.005, 0.01, 0.02, 0.05, 0.10, 0.25, 0.5, 0.75, 0.90, 0.95, 0.98, 0.99, 0.995, 1.00]\n",
    "    # array_of_quantiles = [0.00, 0.01, 0.02, 0.05, 0.10, 0.25, 0.5, 0.75, 0.90, 0.95, 0.98, 0.99, 1.00]\n",
    "    starts = array_of_quantiles[:-1]\n",
    "    ends = array_of_quantiles[1:]\n",
    "    quantile_labels = [f'{start} - {end}' for start, end in zip(starts, ends)]\n",
    "    return array_of_quantiles, quantile_labels\n",
    "\n",
    "def label_windows_with_score_quantiles_core(df, score): \n",
    "    with warnings.catch_warnings():\n",
    "        warnings.simplefilter(\"ignore\")        \n",
    "\n",
    "        array_of_quantiles, quantile_labels = compute_array_of_quantiles()\n",
    "\n",
    "        df[f'{score} quantile'], bins = pd.qcut(\n",
    "            df[score],\n",
    "            q = array_of_quantiles, \n",
    "            labels = quantile_labels, \n",
    "            retbins = True,\n",
    "    #         duplicates='drop'\n",
    "        )\n",
    "\n",
    "        return df\n",
    "    \n",
    "import seaborn as sns\n",
    "sns.set(font_scale = 1.5)\n",
    "\n",
    "import plotly.graph_objects as go\n",
    "\n",
    "def compute_y_vs_quantile(df, score, y): \n",
    "    df = label_windows_with_score_quantiles_core(df, score)\n",
    "\n",
    "    groups = df.groupby([f'{score} quantile'])\n",
    "    aggregated = groups.agg({\n",
    "        y: ['mean', 'std', 'count'],\n",
    "        score: ['mean', 'std', 'count']\n",
    "    })\n",
    "\n",
    "    quantiles = np.array(aggregated.index)\n",
    "    mean_y = np.array(aggregated[(y, 'mean')])\n",
    "    hover_data = aggregated.to_dict(orient='records')\n",
    "\n",
    "    return quantiles, mean_y, hover_data\n",
    "\n",
    "def create_text(hover_datum, score):\n",
    "    mean_score = hover_datum[(score, 'mean')]\n",
    "    std_score = hover_datum[(score, 'std')]\n",
    "    number_windows = hover_datum[(score, 'count')]\n",
    "    return (\n",
    "        f'{score} mean: {mean_score}<br>'\n",
    "        f'{score} std: {std_score}<br>' \n",
    "        f'number of windows: {number_windows}<br>' \n",
    "    )\n",
    "\n",
    "def plot_enrichment(df, y, ylabel): \n",
    "    with warnings.catch_warnings():\n",
    "        warnings.simplefilter(\"ignore\")    \n",
    "    \n",
    "        sns.set(font_scale = 1.6)\n",
    "        fig = go.Figure() # type: ignore\n",
    "\n",
    "        scores_markers = [\n",
    "            ('negative new chen zscore', 'square'),\n",
    "            (f'N_bar_3_{TRAIN_SET_LABEL}', 'circle')\n",
    "        ]\n",
    "\n",
    "        for (score, marker) in tqdm(scores_markers, desc=f'plot_enrichment'): \n",
    "            (\n",
    "                quantiles, \n",
    "                mean_y,\n",
    "                hover_data \n",
    "            ) = compute_y_vs_quantile(df, score, y)\n",
    "            fig.add_trace(\n",
    "                go.Scatter(\n",
    "                    x = quantiles, \n",
    "                    y = mean_y,\n",
    "                    mode = 'lines+markers',\n",
    "                    marker = {\n",
    "                        'symbol': marker,\n",
    "                    },\n",
    "                    name = score,\n",
    "                    hovertemplate = (\n",
    "                        '%{text}'\n",
    "                    ),\n",
    "                    text = [create_text(hover_datum, score) for hover_datum in hover_data],\n",
    "                ) # type: ignore\n",
    "            )\n",
    "\n",
    "        fig.update_xaxes( # type: ignore\n",
    "            title = 'quantile of window score',\n",
    "#             type = \"log\", \n",
    "#             exponentformat = 'power'\n",
    "        )\n",
    "        fig.update_yaxes( # type: ignore\n",
    "            title = ylabel,\n",
    "            range=None, \n",
    "            # type='log',\n",
    "            # exponentformat = 'power'\n",
    "        )    \n",
    "        fig.update_layout(\n",
    "            height = 800, \n",
    "            width = 1600,\n",
    "            font = dict(\n",
    "                size = 20,\n",
    "            )        \n",
    "        )\n",
    "        fig.update_annotations(font_size=24) # type: ignore\n",
    "        fig.show()\n",
    "\n",
    "plot_enrichment(\n",
    "    chen_mchale_zscores_features_noncoding, \n",
    "    y='eliteness_of_enhancer max', \n",
    "    ylabel='fraction of enhancers that are elite'\n",
    ")"
   ]
  },
  {
   "cell_type": "code",
   "execution_count": 16,
   "id": "71a75356",
   "metadata": {},
   "outputs": [
    {
     "name": "stderr",
     "output_type": "stream",
     "text": [
      "plot_enrichment: 100%|███████████████████████████| 2/2 [00:00<00:00,  2.57it/s]\n"
     ]
    },
    {
     "data": {
      "application/vnd.plotly.v1+json": {
       "config": {
        "plotlyServerURL": "https://plot.ly"
       },
       "data": [
        {
         "hovertemplate": "%{text}",
         "marker": {
          "symbol": "square"
         },
         "mode": "lines+markers",
         "name": "negative new chen zscore",
         "text": [
          "negative new chen zscore mean: -5.174585846252422<br>negative new chen zscore std: 0.7074479748078504<br>number of windows: 7643<br>",
          "negative new chen zscore mean: -4.2159381837204055<br>negative new chen zscore std: 0.1442776846318651<br>number of windows: 7643<br>",
          "negative new chen zscore mean: -3.706450278498741<br>negative new chen zscore std: 0.1468509830253984<br>number of windows: 15286<br>",
          "negative new chen zscore mean: -3.0740648734233416<br>negative new chen zscore std: 0.20136070414238103<br>number of windows: 45856<br>",
          "negative new chen zscore mean: -2.4468741780596304<br>negative new chen zscore std: 0.16790350084437314<br>number of windows: 76428<br>",
          "negative new chen zscore mean: -1.6533064005628921<br>negative new chen zscore std: 0.27297372778405693<br>number of windows: 229284<br>",
          "negative new chen zscore mean: -0.654120866594227<br>negative new chen zscore std: 0.3153419794405299<br>number of windows: 382140<br>",
          "negative new chen zscore mean: 0.4571635312665124<br>negative new chen zscore std: 0.34874262895842867<br>number of windows: 382140<br>",
          "negative new chen zscore mean: 1.6669695766784935<br>negative new chen zscore std: 0.3649746505047182<br>number of windows: 229284<br>",
          "negative new chen zscore mean: 2.8150003213822035<br>negative new chen zscore std: 0.27134325880610666<br>number of windows: 76428<br>",
          "negative new chen zscore mean: 3.9225172885701363<br>negative new chen zscore std: 0.39039098591063504<br>number of windows: 45856<br>",
          "negative new chen zscore mean: 5.245233101252732<br>negative new chen zscore std: 0.3274925226532812<br>number of windows: 15286<br>",
          "negative new chen zscore mean: 6.373835304727502<br>negative new chen zscore std: 0.30790407499766753<br>number of windows: 7643<br>",
          "negative new chen zscore mean: 8.040172108989584<br>negative new chen zscore std: 0.806648572134095<br>number of windows: 7643<br>"
         ],
         "type": "scatter",
         "x": [
          "0.0 - 0.005",
          "0.005 - 0.01",
          "0.01 - 0.02",
          "0.02 - 0.05",
          "0.05 - 0.1",
          "0.1 - 0.25",
          "0.25 - 0.5",
          "0.5 - 0.75",
          "0.75 - 0.9",
          "0.9 - 0.95",
          "0.95 - 0.98",
          "0.98 - 0.99",
          "0.99 - 0.995",
          "0.995 - 1.0"
         ],
         "y": [
          244.4975994351612,
          248.11416079669664,
          227.46255877258102,
          221.58759103887544,
          208.42805960040636,
          190.5783624242298,
          174.0194626114112,
          158.5711483569603,
          154.3687583972868,
          158.92076590106007,
          172.6760610545791,
          217.4795975855131,
          238.7184828711256,
          217.97284369114877
         ]
        },
        {
         "hovertemplate": "%{text}",
         "marker": {
          "symbol": "circle"
         },
         "mode": "lines+markers",
         "name": "N_bar_3_noncoding",
         "text": [
          "N_bar_3_noncoding mean: -4.8656137605161875<br>N_bar_3_noncoding std: 0.7481679737060338<br>number of windows: 7643<br>",
          "N_bar_3_noncoding mean: -4.066292024633301<br>N_bar_3_noncoding std: 0.10046122003190436<br>number of windows: 7643<br>",
          "N_bar_3_noncoding mean: -3.701777542423334<br>N_bar_3_noncoding std: 0.10734651089043447<br>number of windows: 15286<br>",
          "N_bar_3_noncoding mean: -3.215828021252798<br>N_bar_3_noncoding std: 0.1594808952651575<br>number of windows: 45856<br>",
          "N_bar_3_noncoding mean: -2.6901289358869085<br>N_bar_3_noncoding std: 0.14679645471963176<br>number of windows: 76428<br>",
          "N_bar_3_noncoding mean: -1.9678862730991906<br>N_bar_3_noncoding std: 0.25619594603999374<br>number of windows: 229284<br>",
          "N_bar_3_noncoding mean: -0.9906301373962754<br>N_bar_3_noncoding std: 0.3189196430058259<br>number of windows: 382140<br>",
          "N_bar_3_noncoding mean: 0.17252275247003737<br>N_bar_3_noncoding std: 0.37783177779912314<br>number of windows: 382140<br>",
          "N_bar_3_noncoding mean: 1.5608483313895878<br>N_bar_3_noncoding std: 0.4507399595568374<br>number of windows: 229284<br>",
          "N_bar_3_noncoding mean: 3.110208395327237<br>N_bar_3_noncoding std: 0.4132759499941197<br>number of windows: 76428<br>",
          "N_bar_3_noncoding mean: 4.925938867236032<br>N_bar_3_noncoding std: 0.6560219847918676<br>number of windows: 45856<br>",
          "N_bar_3_noncoding mean: 7.003687041378851<br>N_bar_3_noncoding std: 0.4785516105073061<br>number of windows: 15286<br>",
          "N_bar_3_noncoding mean: 8.584933084567242<br>N_bar_3_noncoding std: 0.4388848627290331<br>number of windows: 7643<br>",
          "N_bar_3_noncoding mean: 12.103917879462575<br>N_bar_3_noncoding std: 2.6794832651150693<br>number of windows: 7643<br>"
         ],
         "type": "scatter",
         "x": [
          "0.0 - 0.005",
          "0.005 - 0.01",
          "0.01 - 0.02",
          "0.02 - 0.05",
          "0.05 - 0.1",
          "0.1 - 0.25",
          "0.25 - 0.5",
          "0.5 - 0.75",
          "0.75 - 0.9",
          "0.9 - 0.95",
          "0.95 - 0.98",
          "0.98 - 0.99",
          "0.99 - 0.995",
          "0.995 - 1.0"
         ],
         "y": [
          381.61720262510255,
          279.8149781659389,
          260.80118086318186,
          227.04059837864466,
          207.97382456744427,
          187.28909111031473,
          166.91441394903126,
          155.25909012892276,
          154.9353649261697,
          180.58659204970922,
          197.8347497903271,
          199.46576339285716,
          188.5278128078818,
          177.35198815566835
         ]
        }
       ],
       "layout": {
        "font": {
         "size": 20
        },
        "height": 800,
        "template": {
         "data": {
          "bar": [
           {
            "error_x": {
             "color": "#2a3f5f"
            },
            "error_y": {
             "color": "#2a3f5f"
            },
            "marker": {
             "line": {
              "color": "#E5ECF6",
              "width": 0.5
             },
             "pattern": {
              "fillmode": "overlay",
              "size": 10,
              "solidity": 0.2
             }
            },
            "type": "bar"
           }
          ],
          "barpolar": [
           {
            "marker": {
             "line": {
              "color": "#E5ECF6",
              "width": 0.5
             },
             "pattern": {
              "fillmode": "overlay",
              "size": 10,
              "solidity": 0.2
             }
            },
            "type": "barpolar"
           }
          ],
          "carpet": [
           {
            "aaxis": {
             "endlinecolor": "#2a3f5f",
             "gridcolor": "white",
             "linecolor": "white",
             "minorgridcolor": "white",
             "startlinecolor": "#2a3f5f"
            },
            "baxis": {
             "endlinecolor": "#2a3f5f",
             "gridcolor": "white",
             "linecolor": "white",
             "minorgridcolor": "white",
             "startlinecolor": "#2a3f5f"
            },
            "type": "carpet"
           }
          ],
          "choropleth": [
           {
            "colorbar": {
             "outlinewidth": 0,
             "ticks": ""
            },
            "type": "choropleth"
           }
          ],
          "contour": [
           {
            "colorbar": {
             "outlinewidth": 0,
             "ticks": ""
            },
            "colorscale": [
             [
              0,
              "#0d0887"
             ],
             [
              0.1111111111111111,
              "#46039f"
             ],
             [
              0.2222222222222222,
              "#7201a8"
             ],
             [
              0.3333333333333333,
              "#9c179e"
             ],
             [
              0.4444444444444444,
              "#bd3786"
             ],
             [
              0.5555555555555556,
              "#d8576b"
             ],
             [
              0.6666666666666666,
              "#ed7953"
             ],
             [
              0.7777777777777778,
              "#fb9f3a"
             ],
             [
              0.8888888888888888,
              "#fdca26"
             ],
             [
              1,
              "#f0f921"
             ]
            ],
            "type": "contour"
           }
          ],
          "contourcarpet": [
           {
            "colorbar": {
             "outlinewidth": 0,
             "ticks": ""
            },
            "type": "contourcarpet"
           }
          ],
          "heatmap": [
           {
            "colorbar": {
             "outlinewidth": 0,
             "ticks": ""
            },
            "colorscale": [
             [
              0,
              "#0d0887"
             ],
             [
              0.1111111111111111,
              "#46039f"
             ],
             [
              0.2222222222222222,
              "#7201a8"
             ],
             [
              0.3333333333333333,
              "#9c179e"
             ],
             [
              0.4444444444444444,
              "#bd3786"
             ],
             [
              0.5555555555555556,
              "#d8576b"
             ],
             [
              0.6666666666666666,
              "#ed7953"
             ],
             [
              0.7777777777777778,
              "#fb9f3a"
             ],
             [
              0.8888888888888888,
              "#fdca26"
             ],
             [
              1,
              "#f0f921"
             ]
            ],
            "type": "heatmap"
           }
          ],
          "heatmapgl": [
           {
            "colorbar": {
             "outlinewidth": 0,
             "ticks": ""
            },
            "colorscale": [
             [
              0,
              "#0d0887"
             ],
             [
              0.1111111111111111,
              "#46039f"
             ],
             [
              0.2222222222222222,
              "#7201a8"
             ],
             [
              0.3333333333333333,
              "#9c179e"
             ],
             [
              0.4444444444444444,
              "#bd3786"
             ],
             [
              0.5555555555555556,
              "#d8576b"
             ],
             [
              0.6666666666666666,
              "#ed7953"
             ],
             [
              0.7777777777777778,
              "#fb9f3a"
             ],
             [
              0.8888888888888888,
              "#fdca26"
             ],
             [
              1,
              "#f0f921"
             ]
            ],
            "type": "heatmapgl"
           }
          ],
          "histogram": [
           {
            "marker": {
             "pattern": {
              "fillmode": "overlay",
              "size": 10,
              "solidity": 0.2
             }
            },
            "type": "histogram"
           }
          ],
          "histogram2d": [
           {
            "colorbar": {
             "outlinewidth": 0,
             "ticks": ""
            },
            "colorscale": [
             [
              0,
              "#0d0887"
             ],
             [
              0.1111111111111111,
              "#46039f"
             ],
             [
              0.2222222222222222,
              "#7201a8"
             ],
             [
              0.3333333333333333,
              "#9c179e"
             ],
             [
              0.4444444444444444,
              "#bd3786"
             ],
             [
              0.5555555555555556,
              "#d8576b"
             ],
             [
              0.6666666666666666,
              "#ed7953"
             ],
             [
              0.7777777777777778,
              "#fb9f3a"
             ],
             [
              0.8888888888888888,
              "#fdca26"
             ],
             [
              1,
              "#f0f921"
             ]
            ],
            "type": "histogram2d"
           }
          ],
          "histogram2dcontour": [
           {
            "colorbar": {
             "outlinewidth": 0,
             "ticks": ""
            },
            "colorscale": [
             [
              0,
              "#0d0887"
             ],
             [
              0.1111111111111111,
              "#46039f"
             ],
             [
              0.2222222222222222,
              "#7201a8"
             ],
             [
              0.3333333333333333,
              "#9c179e"
             ],
             [
              0.4444444444444444,
              "#bd3786"
             ],
             [
              0.5555555555555556,
              "#d8576b"
             ],
             [
              0.6666666666666666,
              "#ed7953"
             ],
             [
              0.7777777777777778,
              "#fb9f3a"
             ],
             [
              0.8888888888888888,
              "#fdca26"
             ],
             [
              1,
              "#f0f921"
             ]
            ],
            "type": "histogram2dcontour"
           }
          ],
          "mesh3d": [
           {
            "colorbar": {
             "outlinewidth": 0,
             "ticks": ""
            },
            "type": "mesh3d"
           }
          ],
          "parcoords": [
           {
            "line": {
             "colorbar": {
              "outlinewidth": 0,
              "ticks": ""
             }
            },
            "type": "parcoords"
           }
          ],
          "pie": [
           {
            "automargin": true,
            "type": "pie"
           }
          ],
          "scatter": [
           {
            "marker": {
             "colorbar": {
              "outlinewidth": 0,
              "ticks": ""
             }
            },
            "type": "scatter"
           }
          ],
          "scatter3d": [
           {
            "line": {
             "colorbar": {
              "outlinewidth": 0,
              "ticks": ""
             }
            },
            "marker": {
             "colorbar": {
              "outlinewidth": 0,
              "ticks": ""
             }
            },
            "type": "scatter3d"
           }
          ],
          "scattercarpet": [
           {
            "marker": {
             "colorbar": {
              "outlinewidth": 0,
              "ticks": ""
             }
            },
            "type": "scattercarpet"
           }
          ],
          "scattergeo": [
           {
            "marker": {
             "colorbar": {
              "outlinewidth": 0,
              "ticks": ""
             }
            },
            "type": "scattergeo"
           }
          ],
          "scattergl": [
           {
            "marker": {
             "colorbar": {
              "outlinewidth": 0,
              "ticks": ""
             }
            },
            "type": "scattergl"
           }
          ],
          "scattermapbox": [
           {
            "marker": {
             "colorbar": {
              "outlinewidth": 0,
              "ticks": ""
             }
            },
            "type": "scattermapbox"
           }
          ],
          "scatterpolar": [
           {
            "marker": {
             "colorbar": {
              "outlinewidth": 0,
              "ticks": ""
             }
            },
            "type": "scatterpolar"
           }
          ],
          "scatterpolargl": [
           {
            "marker": {
             "colorbar": {
              "outlinewidth": 0,
              "ticks": ""
             }
            },
            "type": "scatterpolargl"
           }
          ],
          "scatterternary": [
           {
            "marker": {
             "colorbar": {
              "outlinewidth": 0,
              "ticks": ""
             }
            },
            "type": "scatterternary"
           }
          ],
          "surface": [
           {
            "colorbar": {
             "outlinewidth": 0,
             "ticks": ""
            },
            "colorscale": [
             [
              0,
              "#0d0887"
             ],
             [
              0.1111111111111111,
              "#46039f"
             ],
             [
              0.2222222222222222,
              "#7201a8"
             ],
             [
              0.3333333333333333,
              "#9c179e"
             ],
             [
              0.4444444444444444,
              "#bd3786"
             ],
             [
              0.5555555555555556,
              "#d8576b"
             ],
             [
              0.6666666666666666,
              "#ed7953"
             ],
             [
              0.7777777777777778,
              "#fb9f3a"
             ],
             [
              0.8888888888888888,
              "#fdca26"
             ],
             [
              1,
              "#f0f921"
             ]
            ],
            "type": "surface"
           }
          ],
          "table": [
           {
            "cells": {
             "fill": {
              "color": "#EBF0F8"
             },
             "line": {
              "color": "white"
             }
            },
            "header": {
             "fill": {
              "color": "#C8D4E3"
             },
             "line": {
              "color": "white"
             }
            },
            "type": "table"
           }
          ]
         },
         "layout": {
          "annotationdefaults": {
           "arrowcolor": "#2a3f5f",
           "arrowhead": 0,
           "arrowwidth": 1
          },
          "autotypenumbers": "strict",
          "coloraxis": {
           "colorbar": {
            "outlinewidth": 0,
            "ticks": ""
           }
          },
          "colorscale": {
           "diverging": [
            [
             0,
             "#8e0152"
            ],
            [
             0.1,
             "#c51b7d"
            ],
            [
             0.2,
             "#de77ae"
            ],
            [
             0.3,
             "#f1b6da"
            ],
            [
             0.4,
             "#fde0ef"
            ],
            [
             0.5,
             "#f7f7f7"
            ],
            [
             0.6,
             "#e6f5d0"
            ],
            [
             0.7,
             "#b8e186"
            ],
            [
             0.8,
             "#7fbc41"
            ],
            [
             0.9,
             "#4d9221"
            ],
            [
             1,
             "#276419"
            ]
           ],
           "sequential": [
            [
             0,
             "#0d0887"
            ],
            [
             0.1111111111111111,
             "#46039f"
            ],
            [
             0.2222222222222222,
             "#7201a8"
            ],
            [
             0.3333333333333333,
             "#9c179e"
            ],
            [
             0.4444444444444444,
             "#bd3786"
            ],
            [
             0.5555555555555556,
             "#d8576b"
            ],
            [
             0.6666666666666666,
             "#ed7953"
            ],
            [
             0.7777777777777778,
             "#fb9f3a"
            ],
            [
             0.8888888888888888,
             "#fdca26"
            ],
            [
             1,
             "#f0f921"
            ]
           ],
           "sequentialminus": [
            [
             0,
             "#0d0887"
            ],
            [
             0.1111111111111111,
             "#46039f"
            ],
            [
             0.2222222222222222,
             "#7201a8"
            ],
            [
             0.3333333333333333,
             "#9c179e"
            ],
            [
             0.4444444444444444,
             "#bd3786"
            ],
            [
             0.5555555555555556,
             "#d8576b"
            ],
            [
             0.6666666666666666,
             "#ed7953"
            ],
            [
             0.7777777777777778,
             "#fb9f3a"
            ],
            [
             0.8888888888888888,
             "#fdca26"
            ],
            [
             1,
             "#f0f921"
            ]
           ]
          },
          "colorway": [
           "#636efa",
           "#EF553B",
           "#00cc96",
           "#ab63fa",
           "#FFA15A",
           "#19d3f3",
           "#FF6692",
           "#B6E880",
           "#FF97FF",
           "#FECB52"
          ],
          "font": {
           "color": "#2a3f5f"
          },
          "geo": {
           "bgcolor": "white",
           "lakecolor": "white",
           "landcolor": "#E5ECF6",
           "showlakes": true,
           "showland": true,
           "subunitcolor": "white"
          },
          "hoverlabel": {
           "align": "left"
          },
          "hovermode": "closest",
          "mapbox": {
           "style": "light"
          },
          "paper_bgcolor": "white",
          "plot_bgcolor": "#E5ECF6",
          "polar": {
           "angularaxis": {
            "gridcolor": "white",
            "linecolor": "white",
            "ticks": ""
           },
           "bgcolor": "#E5ECF6",
           "radialaxis": {
            "gridcolor": "white",
            "linecolor": "white",
            "ticks": ""
           }
          },
          "scene": {
           "xaxis": {
            "backgroundcolor": "#E5ECF6",
            "gridcolor": "white",
            "gridwidth": 2,
            "linecolor": "white",
            "showbackground": true,
            "ticks": "",
            "zerolinecolor": "white"
           },
           "yaxis": {
            "backgroundcolor": "#E5ECF6",
            "gridcolor": "white",
            "gridwidth": 2,
            "linecolor": "white",
            "showbackground": true,
            "ticks": "",
            "zerolinecolor": "white"
           },
           "zaxis": {
            "backgroundcolor": "#E5ECF6",
            "gridcolor": "white",
            "gridwidth": 2,
            "linecolor": "white",
            "showbackground": true,
            "ticks": "",
            "zerolinecolor": "white"
           }
          },
          "shapedefaults": {
           "line": {
            "color": "#2a3f5f"
           }
          },
          "ternary": {
           "aaxis": {
            "gridcolor": "white",
            "linecolor": "white",
            "ticks": ""
           },
           "baxis": {
            "gridcolor": "white",
            "linecolor": "white",
            "ticks": ""
           },
           "bgcolor": "#E5ECF6",
           "caxis": {
            "gridcolor": "white",
            "linecolor": "white",
            "ticks": ""
           }
          },
          "title": {
           "x": 0.05
          },
          "xaxis": {
           "automargin": true,
           "gridcolor": "white",
           "linecolor": "white",
           "ticks": "",
           "title": {
            "standoff": 15
           },
           "zerolinecolor": "white",
           "zerolinewidth": 2
          },
          "yaxis": {
           "automargin": true,
           "gridcolor": "white",
           "linecolor": "white",
           "ticks": "",
           "title": {
            "standoff": 15
           },
           "zerolinecolor": "white",
           "zerolinewidth": 2
          }
         }
        },
        "width": 1600,
        "xaxis": {
         "title": {
          "text": "quantile of window score"
         }
        },
        "yaxis": {
         "title": {
          "text": "enhancer-gene association"
         }
        }
       }
      },
      "text/html": [
       "<div>                            <div id=\"db56ac30-66fc-4703-9189-6836c410d3aa\" class=\"plotly-graph-div\" style=\"height:800px; width:1600px;\"></div>            <script type=\"text/javascript\">                require([\"plotly\"], function(Plotly) {                    window.PLOTLYENV=window.PLOTLYENV || {};                                    if (document.getElementById(\"db56ac30-66fc-4703-9189-6836c410d3aa\")) {                    Plotly.newPlot(                        \"db56ac30-66fc-4703-9189-6836c410d3aa\",                        [{\"hovertemplate\":\"%{text}\",\"marker\":{\"symbol\":\"square\"},\"mode\":\"lines+markers\",\"name\":\"negative new chen zscore\",\"text\":[\"negative new chen zscore mean: -5.174585846252422<br>negative new chen zscore std: 0.7074479748078504<br>number of windows: 7643<br>\",\"negative new chen zscore mean: -4.2159381837204055<br>negative new chen zscore std: 0.1442776846318651<br>number of windows: 7643<br>\",\"negative new chen zscore mean: -3.706450278498741<br>negative new chen zscore std: 0.1468509830253984<br>number of windows: 15286<br>\",\"negative new chen zscore mean: -3.0740648734233416<br>negative new chen zscore std: 0.20136070414238103<br>number of windows: 45856<br>\",\"negative new chen zscore mean: -2.4468741780596304<br>negative new chen zscore std: 0.16790350084437314<br>number of windows: 76428<br>\",\"negative new chen zscore mean: -1.6533064005628921<br>negative new chen zscore std: 0.27297372778405693<br>number of windows: 229284<br>\",\"negative new chen zscore mean: -0.654120866594227<br>negative new chen zscore std: 0.3153419794405299<br>number of windows: 382140<br>\",\"negative new chen zscore mean: 0.4571635312665124<br>negative new chen zscore std: 0.34874262895842867<br>number of windows: 382140<br>\",\"negative new chen zscore mean: 1.6669695766784935<br>negative new chen zscore std: 0.3649746505047182<br>number of windows: 229284<br>\",\"negative new chen zscore mean: 2.8150003213822035<br>negative new chen zscore std: 0.27134325880610666<br>number of windows: 76428<br>\",\"negative new chen zscore mean: 3.9225172885701363<br>negative new chen zscore std: 0.39039098591063504<br>number of windows: 45856<br>\",\"negative new chen zscore mean: 5.245233101252732<br>negative new chen zscore std: 0.3274925226532812<br>number of windows: 15286<br>\",\"negative new chen zscore mean: 6.373835304727502<br>negative new chen zscore std: 0.30790407499766753<br>number of windows: 7643<br>\",\"negative new chen zscore mean: 8.040172108989584<br>negative new chen zscore std: 0.806648572134095<br>number of windows: 7643<br>\"],\"type\":\"scatter\",\"x\":[\"0.0 - 0.005\",\"0.005 - 0.01\",\"0.01 - 0.02\",\"0.02 - 0.05\",\"0.05 - 0.1\",\"0.1 - 0.25\",\"0.25 - 0.5\",\"0.5 - 0.75\",\"0.75 - 0.9\",\"0.9 - 0.95\",\"0.95 - 0.98\",\"0.98 - 0.99\",\"0.99 - 0.995\",\"0.995 - 1.0\"],\"y\":[244.4975994351612,248.11416079669664,227.46255877258102,221.58759103887544,208.42805960040636,190.5783624242298,174.0194626114112,158.5711483569603,154.3687583972868,158.92076590106007,172.6760610545791,217.4795975855131,238.7184828711256,217.97284369114877]},{\"hovertemplate\":\"%{text}\",\"marker\":{\"symbol\":\"circle\"},\"mode\":\"lines+markers\",\"name\":\"N_bar_3_noncoding\",\"text\":[\"N_bar_3_noncoding mean: -4.8656137605161875<br>N_bar_3_noncoding std: 0.7481679737060338<br>number of windows: 7643<br>\",\"N_bar_3_noncoding mean: -4.066292024633301<br>N_bar_3_noncoding std: 0.10046122003190436<br>number of windows: 7643<br>\",\"N_bar_3_noncoding mean: -3.701777542423334<br>N_bar_3_noncoding std: 0.10734651089043447<br>number of windows: 15286<br>\",\"N_bar_3_noncoding mean: -3.215828021252798<br>N_bar_3_noncoding std: 0.1594808952651575<br>number of windows: 45856<br>\",\"N_bar_3_noncoding mean: -2.6901289358869085<br>N_bar_3_noncoding std: 0.14679645471963176<br>number of windows: 76428<br>\",\"N_bar_3_noncoding mean: -1.9678862730991906<br>N_bar_3_noncoding std: 0.25619594603999374<br>number of windows: 229284<br>\",\"N_bar_3_noncoding mean: -0.9906301373962754<br>N_bar_3_noncoding std: 0.3189196430058259<br>number of windows: 382140<br>\",\"N_bar_3_noncoding mean: 0.17252275247003737<br>N_bar_3_noncoding std: 0.37783177779912314<br>number of windows: 382140<br>\",\"N_bar_3_noncoding mean: 1.5608483313895878<br>N_bar_3_noncoding std: 0.4507399595568374<br>number of windows: 229284<br>\",\"N_bar_3_noncoding mean: 3.110208395327237<br>N_bar_3_noncoding std: 0.4132759499941197<br>number of windows: 76428<br>\",\"N_bar_3_noncoding mean: 4.925938867236032<br>N_bar_3_noncoding std: 0.6560219847918676<br>number of windows: 45856<br>\",\"N_bar_3_noncoding mean: 7.003687041378851<br>N_bar_3_noncoding std: 0.4785516105073061<br>number of windows: 15286<br>\",\"N_bar_3_noncoding mean: 8.584933084567242<br>N_bar_3_noncoding std: 0.4388848627290331<br>number of windows: 7643<br>\",\"N_bar_3_noncoding mean: 12.103917879462575<br>N_bar_3_noncoding std: 2.6794832651150693<br>number of windows: 7643<br>\"],\"type\":\"scatter\",\"x\":[\"0.0 - 0.005\",\"0.005 - 0.01\",\"0.01 - 0.02\",\"0.02 - 0.05\",\"0.05 - 0.1\",\"0.1 - 0.25\",\"0.25 - 0.5\",\"0.5 - 0.75\",\"0.75 - 0.9\",\"0.9 - 0.95\",\"0.95 - 0.98\",\"0.98 - 0.99\",\"0.99 - 0.995\",\"0.995 - 1.0\"],\"y\":[381.61720262510255,279.8149781659389,260.80118086318186,227.04059837864466,207.97382456744427,187.28909111031473,166.91441394903126,155.25909012892276,154.9353649261697,180.58659204970922,197.8347497903271,199.46576339285716,188.5278128078818,177.35198815566835]}],                        {\"font\":{\"size\":20},\"height\":800,\"template\":{\"data\":{\"bar\":[{\"error_x\":{\"color\":\"#2a3f5f\"},\"error_y\":{\"color\":\"#2a3f5f\"},\"marker\":{\"line\":{\"color\":\"#E5ECF6\",\"width\":0.5},\"pattern\":{\"fillmode\":\"overlay\",\"size\":10,\"solidity\":0.2}},\"type\":\"bar\"}],\"barpolar\":[{\"marker\":{\"line\":{\"color\":\"#E5ECF6\",\"width\":0.5},\"pattern\":{\"fillmode\":\"overlay\",\"size\":10,\"solidity\":0.2}},\"type\":\"barpolar\"}],\"carpet\":[{\"aaxis\":{\"endlinecolor\":\"#2a3f5f\",\"gridcolor\":\"white\",\"linecolor\":\"white\",\"minorgridcolor\":\"white\",\"startlinecolor\":\"#2a3f5f\"},\"baxis\":{\"endlinecolor\":\"#2a3f5f\",\"gridcolor\":\"white\",\"linecolor\":\"white\",\"minorgridcolor\":\"white\",\"startlinecolor\":\"#2a3f5f\"},\"type\":\"carpet\"}],\"choropleth\":[{\"colorbar\":{\"outlinewidth\":0,\"ticks\":\"\"},\"type\":\"choropleth\"}],\"contour\":[{\"colorbar\":{\"outlinewidth\":0,\"ticks\":\"\"},\"colorscale\":[[0.0,\"#0d0887\"],[0.1111111111111111,\"#46039f\"],[0.2222222222222222,\"#7201a8\"],[0.3333333333333333,\"#9c179e\"],[0.4444444444444444,\"#bd3786\"],[0.5555555555555556,\"#d8576b\"],[0.6666666666666666,\"#ed7953\"],[0.7777777777777778,\"#fb9f3a\"],[0.8888888888888888,\"#fdca26\"],[1.0,\"#f0f921\"]],\"type\":\"contour\"}],\"contourcarpet\":[{\"colorbar\":{\"outlinewidth\":0,\"ticks\":\"\"},\"type\":\"contourcarpet\"}],\"heatmap\":[{\"colorbar\":{\"outlinewidth\":0,\"ticks\":\"\"},\"colorscale\":[[0.0,\"#0d0887\"],[0.1111111111111111,\"#46039f\"],[0.2222222222222222,\"#7201a8\"],[0.3333333333333333,\"#9c179e\"],[0.4444444444444444,\"#bd3786\"],[0.5555555555555556,\"#d8576b\"],[0.6666666666666666,\"#ed7953\"],[0.7777777777777778,\"#fb9f3a\"],[0.8888888888888888,\"#fdca26\"],[1.0,\"#f0f921\"]],\"type\":\"heatmap\"}],\"heatmapgl\":[{\"colorbar\":{\"outlinewidth\":0,\"ticks\":\"\"},\"colorscale\":[[0.0,\"#0d0887\"],[0.1111111111111111,\"#46039f\"],[0.2222222222222222,\"#7201a8\"],[0.3333333333333333,\"#9c179e\"],[0.4444444444444444,\"#bd3786\"],[0.5555555555555556,\"#d8576b\"],[0.6666666666666666,\"#ed7953\"],[0.7777777777777778,\"#fb9f3a\"],[0.8888888888888888,\"#fdca26\"],[1.0,\"#f0f921\"]],\"type\":\"heatmapgl\"}],\"histogram\":[{\"marker\":{\"pattern\":{\"fillmode\":\"overlay\",\"size\":10,\"solidity\":0.2}},\"type\":\"histogram\"}],\"histogram2d\":[{\"colorbar\":{\"outlinewidth\":0,\"ticks\":\"\"},\"colorscale\":[[0.0,\"#0d0887\"],[0.1111111111111111,\"#46039f\"],[0.2222222222222222,\"#7201a8\"],[0.3333333333333333,\"#9c179e\"],[0.4444444444444444,\"#bd3786\"],[0.5555555555555556,\"#d8576b\"],[0.6666666666666666,\"#ed7953\"],[0.7777777777777778,\"#fb9f3a\"],[0.8888888888888888,\"#fdca26\"],[1.0,\"#f0f921\"]],\"type\":\"histogram2d\"}],\"histogram2dcontour\":[{\"colorbar\":{\"outlinewidth\":0,\"ticks\":\"\"},\"colorscale\":[[0.0,\"#0d0887\"],[0.1111111111111111,\"#46039f\"],[0.2222222222222222,\"#7201a8\"],[0.3333333333333333,\"#9c179e\"],[0.4444444444444444,\"#bd3786\"],[0.5555555555555556,\"#d8576b\"],[0.6666666666666666,\"#ed7953\"],[0.7777777777777778,\"#fb9f3a\"],[0.8888888888888888,\"#fdca26\"],[1.0,\"#f0f921\"]],\"type\":\"histogram2dcontour\"}],\"mesh3d\":[{\"colorbar\":{\"outlinewidth\":0,\"ticks\":\"\"},\"type\":\"mesh3d\"}],\"parcoords\":[{\"line\":{\"colorbar\":{\"outlinewidth\":0,\"ticks\":\"\"}},\"type\":\"parcoords\"}],\"pie\":[{\"automargin\":true,\"type\":\"pie\"}],\"scatter\":[{\"marker\":{\"colorbar\":{\"outlinewidth\":0,\"ticks\":\"\"}},\"type\":\"scatter\"}],\"scatter3d\":[{\"line\":{\"colorbar\":{\"outlinewidth\":0,\"ticks\":\"\"}},\"marker\":{\"colorbar\":{\"outlinewidth\":0,\"ticks\":\"\"}},\"type\":\"scatter3d\"}],\"scattercarpet\":[{\"marker\":{\"colorbar\":{\"outlinewidth\":0,\"ticks\":\"\"}},\"type\":\"scattercarpet\"}],\"scattergeo\":[{\"marker\":{\"colorbar\":{\"outlinewidth\":0,\"ticks\":\"\"}},\"type\":\"scattergeo\"}],\"scattergl\":[{\"marker\":{\"colorbar\":{\"outlinewidth\":0,\"ticks\":\"\"}},\"type\":\"scattergl\"}],\"scattermapbox\":[{\"marker\":{\"colorbar\":{\"outlinewidth\":0,\"ticks\":\"\"}},\"type\":\"scattermapbox\"}],\"scatterpolar\":[{\"marker\":{\"colorbar\":{\"outlinewidth\":0,\"ticks\":\"\"}},\"type\":\"scatterpolar\"}],\"scatterpolargl\":[{\"marker\":{\"colorbar\":{\"outlinewidth\":0,\"ticks\":\"\"}},\"type\":\"scatterpolargl\"}],\"scatterternary\":[{\"marker\":{\"colorbar\":{\"outlinewidth\":0,\"ticks\":\"\"}},\"type\":\"scatterternary\"}],\"surface\":[{\"colorbar\":{\"outlinewidth\":0,\"ticks\":\"\"},\"colorscale\":[[0.0,\"#0d0887\"],[0.1111111111111111,\"#46039f\"],[0.2222222222222222,\"#7201a8\"],[0.3333333333333333,\"#9c179e\"],[0.4444444444444444,\"#bd3786\"],[0.5555555555555556,\"#d8576b\"],[0.6666666666666666,\"#ed7953\"],[0.7777777777777778,\"#fb9f3a\"],[0.8888888888888888,\"#fdca26\"],[1.0,\"#f0f921\"]],\"type\":\"surface\"}],\"table\":[{\"cells\":{\"fill\":{\"color\":\"#EBF0F8\"},\"line\":{\"color\":\"white\"}},\"header\":{\"fill\":{\"color\":\"#C8D4E3\"},\"line\":{\"color\":\"white\"}},\"type\":\"table\"}]},\"layout\":{\"annotationdefaults\":{\"arrowcolor\":\"#2a3f5f\",\"arrowhead\":0,\"arrowwidth\":1},\"autotypenumbers\":\"strict\",\"coloraxis\":{\"colorbar\":{\"outlinewidth\":0,\"ticks\":\"\"}},\"colorscale\":{\"diverging\":[[0,\"#8e0152\"],[0.1,\"#c51b7d\"],[0.2,\"#de77ae\"],[0.3,\"#f1b6da\"],[0.4,\"#fde0ef\"],[0.5,\"#f7f7f7\"],[0.6,\"#e6f5d0\"],[0.7,\"#b8e186\"],[0.8,\"#7fbc41\"],[0.9,\"#4d9221\"],[1,\"#276419\"]],\"sequential\":[[0.0,\"#0d0887\"],[0.1111111111111111,\"#46039f\"],[0.2222222222222222,\"#7201a8\"],[0.3333333333333333,\"#9c179e\"],[0.4444444444444444,\"#bd3786\"],[0.5555555555555556,\"#d8576b\"],[0.6666666666666666,\"#ed7953\"],[0.7777777777777778,\"#fb9f3a\"],[0.8888888888888888,\"#fdca26\"],[1.0,\"#f0f921\"]],\"sequentialminus\":[[0.0,\"#0d0887\"],[0.1111111111111111,\"#46039f\"],[0.2222222222222222,\"#7201a8\"],[0.3333333333333333,\"#9c179e\"],[0.4444444444444444,\"#bd3786\"],[0.5555555555555556,\"#d8576b\"],[0.6666666666666666,\"#ed7953\"],[0.7777777777777778,\"#fb9f3a\"],[0.8888888888888888,\"#fdca26\"],[1.0,\"#f0f921\"]]},\"colorway\":[\"#636efa\",\"#EF553B\",\"#00cc96\",\"#ab63fa\",\"#FFA15A\",\"#19d3f3\",\"#FF6692\",\"#B6E880\",\"#FF97FF\",\"#FECB52\"],\"font\":{\"color\":\"#2a3f5f\"},\"geo\":{\"bgcolor\":\"white\",\"lakecolor\":\"white\",\"landcolor\":\"#E5ECF6\",\"showlakes\":true,\"showland\":true,\"subunitcolor\":\"white\"},\"hoverlabel\":{\"align\":\"left\"},\"hovermode\":\"closest\",\"mapbox\":{\"style\":\"light\"},\"paper_bgcolor\":\"white\",\"plot_bgcolor\":\"#E5ECF6\",\"polar\":{\"angularaxis\":{\"gridcolor\":\"white\",\"linecolor\":\"white\",\"ticks\":\"\"},\"bgcolor\":\"#E5ECF6\",\"radialaxis\":{\"gridcolor\":\"white\",\"linecolor\":\"white\",\"ticks\":\"\"}},\"scene\":{\"xaxis\":{\"backgroundcolor\":\"#E5ECF6\",\"gridcolor\":\"white\",\"gridwidth\":2,\"linecolor\":\"white\",\"showbackground\":true,\"ticks\":\"\",\"zerolinecolor\":\"white\"},\"yaxis\":{\"backgroundcolor\":\"#E5ECF6\",\"gridcolor\":\"white\",\"gridwidth\":2,\"linecolor\":\"white\",\"showbackground\":true,\"ticks\":\"\",\"zerolinecolor\":\"white\"},\"zaxis\":{\"backgroundcolor\":\"#E5ECF6\",\"gridcolor\":\"white\",\"gridwidth\":2,\"linecolor\":\"white\",\"showbackground\":true,\"ticks\":\"\",\"zerolinecolor\":\"white\"}},\"shapedefaults\":{\"line\":{\"color\":\"#2a3f5f\"}},\"ternary\":{\"aaxis\":{\"gridcolor\":\"white\",\"linecolor\":\"white\",\"ticks\":\"\"},\"baxis\":{\"gridcolor\":\"white\",\"linecolor\":\"white\",\"ticks\":\"\"},\"bgcolor\":\"#E5ECF6\",\"caxis\":{\"gridcolor\":\"white\",\"linecolor\":\"white\",\"ticks\":\"\"}},\"title\":{\"x\":0.05},\"xaxis\":{\"automargin\":true,\"gridcolor\":\"white\",\"linecolor\":\"white\",\"ticks\":\"\",\"title\":{\"standoff\":15},\"zerolinecolor\":\"white\",\"zerolinewidth\":2},\"yaxis\":{\"automargin\":true,\"gridcolor\":\"white\",\"linecolor\":\"white\",\"ticks\":\"\",\"title\":{\"standoff\":15},\"zerolinecolor\":\"white\",\"zerolinewidth\":2}}},\"width\":1600,\"xaxis\":{\"title\":{\"text\":\"quantile of window score\"}},\"yaxis\":{\"title\":{\"text\":\"enhancer-gene association\"}}},                        {\"responsive\": true}                    ).then(function(){\n",
       "                            \n",
       "var gd = document.getElementById('db56ac30-66fc-4703-9189-6836c410d3aa');\n",
       "var x = new MutationObserver(function (mutations, observer) {{\n",
       "        var display = window.getComputedStyle(gd).display;\n",
       "        if (!display || display === 'none') {{\n",
       "            console.log([gd, 'removed!']);\n",
       "            Plotly.purge(gd);\n",
       "            observer.disconnect();\n",
       "        }}\n",
       "}});\n",
       "\n",
       "// Listen for the removal of the full notebook cells\n",
       "var notebookContainer = gd.closest('#notebook-container');\n",
       "if (notebookContainer) {{\n",
       "    x.observe(notebookContainer, {childList: true});\n",
       "}}\n",
       "\n",
       "// Listen for the clearing of the current output cell\n",
       "var outputEl = gd.closest('.output');\n",
       "if (outputEl) {{\n",
       "    x.observe(outputEl, {childList: true});\n",
       "}}\n",
       "\n",
       "                        })                };                });            </script>        </div>"
      ]
     },
     "metadata": {},
     "output_type": "display_data"
    }
   ],
   "source": [
    "plot_enrichment(\n",
    "    chen_mchale_zscores_features_noncoding, \n",
    "    y='optimal_enhancer_gene_association_score max', \n",
    "    ylabel='enhancer-gene association'\n",
    ")"
   ]
  },
  {
   "cell_type": "code",
   "execution_count": 17,
   "id": "c992bb76",
   "metadata": {},
   "outputs": [
    {
     "name": "stderr",
     "output_type": "stream",
     "text": [
      "plot_enrichment: 100%|███████████████████████████| 2/2 [00:00<00:00,  2.58it/s]\n"
     ]
    },
    {
     "data": {
      "application/vnd.plotly.v1+json": {
       "config": {
        "plotlyServerURL": "https://plot.ly"
       },
       "data": [
        {
         "hovertemplate": "%{text}",
         "marker": {
          "symbol": "square"
         },
         "mode": "lines+markers",
         "name": "negative new chen zscore",
         "text": [
          "negative new chen zscore mean: -5.174585846252422<br>negative new chen zscore std: 0.7074479748078504<br>number of windows: 7643<br>",
          "negative new chen zscore mean: -4.2159381837204055<br>negative new chen zscore std: 0.1442776846318651<br>number of windows: 7643<br>",
          "negative new chen zscore mean: -3.706450278498741<br>negative new chen zscore std: 0.1468509830253984<br>number of windows: 15286<br>",
          "negative new chen zscore mean: -3.0740648734233416<br>negative new chen zscore std: 0.20136070414238103<br>number of windows: 45856<br>",
          "negative new chen zscore mean: -2.4468741780596304<br>negative new chen zscore std: 0.16790350084437314<br>number of windows: 76428<br>",
          "negative new chen zscore mean: -1.6533064005628921<br>negative new chen zscore std: 0.27297372778405693<br>number of windows: 229284<br>",
          "negative new chen zscore mean: -0.654120866594227<br>negative new chen zscore std: 0.3153419794405299<br>number of windows: 382140<br>",
          "negative new chen zscore mean: 0.4571635312665124<br>negative new chen zscore std: 0.34874262895842867<br>number of windows: 382140<br>",
          "negative new chen zscore mean: 1.6669695766784935<br>negative new chen zscore std: 0.3649746505047182<br>number of windows: 229284<br>",
          "negative new chen zscore mean: 2.8150003213822035<br>negative new chen zscore std: 0.27134325880610666<br>number of windows: 76428<br>",
          "negative new chen zscore mean: 3.9225172885701363<br>negative new chen zscore std: 0.39039098591063504<br>number of windows: 45856<br>",
          "negative new chen zscore mean: 5.245233101252732<br>negative new chen zscore std: 0.3274925226532812<br>number of windows: 15286<br>",
          "negative new chen zscore mean: 6.373835304727502<br>negative new chen zscore std: 0.30790407499766753<br>number of windows: 7643<br>",
          "negative new chen zscore mean: 8.040172108989584<br>negative new chen zscore std: 0.806648572134095<br>number of windows: 7643<br>"
         ],
         "type": "scatter",
         "x": [
          "0.0 - 0.005",
          "0.005 - 0.01",
          "0.01 - 0.02",
          "0.02 - 0.05",
          "0.05 - 0.1",
          "0.1 - 0.25",
          "0.25 - 0.5",
          "0.5 - 0.75",
          "0.75 - 0.9",
          "0.9 - 0.95",
          "0.95 - 0.98",
          "0.98 - 0.99",
          "0.99 - 0.995",
          "0.995 - 1.0"
         ],
         "y": [
          0.5394210402447635,
          0.5508865678892397,
          0.522395446671616,
          0.5159235668789809,
          0.5045151823004854,
          0.4803180001877954,
          0.44699703401543506,
          0.4121047946320031,
          0.3783507620062178,
          0.36201413427561835,
          0.38501387604070303,
          0.42521797451374915,
          0.42251223491027734,
          0.35969868173258
         ]
        },
        {
         "hovertemplate": "%{text}",
         "marker": {
          "symbol": "circle"
         },
         "mode": "lines+markers",
         "name": "N_bar_3_noncoding",
         "text": [
          "N_bar_3_noncoding mean: -4.8656137605161875<br>N_bar_3_noncoding std: 0.7481679737060338<br>number of windows: 7643<br>",
          "N_bar_3_noncoding mean: -4.066292024633301<br>N_bar_3_noncoding std: 0.10046122003190436<br>number of windows: 7643<br>",
          "N_bar_3_noncoding mean: -3.701777542423334<br>N_bar_3_noncoding std: 0.10734651089043447<br>number of windows: 15286<br>",
          "N_bar_3_noncoding mean: -3.215828021252798<br>N_bar_3_noncoding std: 0.1594808952651575<br>number of windows: 45856<br>",
          "N_bar_3_noncoding mean: -2.6901289358869085<br>N_bar_3_noncoding std: 0.14679645471963176<br>number of windows: 76428<br>",
          "N_bar_3_noncoding mean: -1.9678862730991906<br>N_bar_3_noncoding std: 0.25619594603999374<br>number of windows: 229284<br>",
          "N_bar_3_noncoding mean: -0.9906301373962754<br>N_bar_3_noncoding std: 0.3189196430058259<br>number of windows: 382140<br>",
          "N_bar_3_noncoding mean: 0.17252275247003737<br>N_bar_3_noncoding std: 0.37783177779912314<br>number of windows: 382140<br>",
          "N_bar_3_noncoding mean: 1.5608483313895878<br>N_bar_3_noncoding std: 0.4507399595568374<br>number of windows: 229284<br>",
          "N_bar_3_noncoding mean: 3.110208395327237<br>N_bar_3_noncoding std: 0.4132759499941197<br>number of windows: 76428<br>",
          "N_bar_3_noncoding mean: 4.925938867236032<br>N_bar_3_noncoding std: 0.6560219847918676<br>number of windows: 45856<br>",
          "N_bar_3_noncoding mean: 7.003687041378851<br>N_bar_3_noncoding std: 0.4785516105073061<br>number of windows: 15286<br>",
          "N_bar_3_noncoding mean: 8.584933084567242<br>N_bar_3_noncoding std: 0.4388848627290331<br>number of windows: 7643<br>",
          "N_bar_3_noncoding mean: 12.103917879462575<br>N_bar_3_noncoding std: 2.6794832651150693<br>number of windows: 7643<br>"
         ],
         "type": "scatter",
         "x": [
          "0.0 - 0.005",
          "0.005 - 0.01",
          "0.01 - 0.02",
          "0.02 - 0.05",
          "0.05 - 0.1",
          "0.1 - 0.25",
          "0.25 - 0.5",
          "0.5 - 0.75",
          "0.75 - 0.9",
          "0.9 - 0.95",
          "0.95 - 0.98",
          "0.98 - 0.99",
          "0.99 - 0.995",
          "0.995 - 1.0"
         ],
         "y": [
          0.6681706316652994,
          0.5824842309558467,
          0.563726110618909,
          0.5318224571147042,
          0.5122378124013658,
          0.47928831924447163,
          0.4407435690114695,
          0.39914376548146124,
          0.37508895214374666,
          0.39552298255397117,
          0.437237908862175,
          0.4642857142857143,
          0.46502463054187193,
          0.34686971235194586
         ]
        }
       ],
       "layout": {
        "font": {
         "size": 20
        },
        "height": 800,
        "template": {
         "data": {
          "bar": [
           {
            "error_x": {
             "color": "#2a3f5f"
            },
            "error_y": {
             "color": "#2a3f5f"
            },
            "marker": {
             "line": {
              "color": "#E5ECF6",
              "width": 0.5
             },
             "pattern": {
              "fillmode": "overlay",
              "size": 10,
              "solidity": 0.2
             }
            },
            "type": "bar"
           }
          ],
          "barpolar": [
           {
            "marker": {
             "line": {
              "color": "#E5ECF6",
              "width": 0.5
             },
             "pattern": {
              "fillmode": "overlay",
              "size": 10,
              "solidity": 0.2
             }
            },
            "type": "barpolar"
           }
          ],
          "carpet": [
           {
            "aaxis": {
             "endlinecolor": "#2a3f5f",
             "gridcolor": "white",
             "linecolor": "white",
             "minorgridcolor": "white",
             "startlinecolor": "#2a3f5f"
            },
            "baxis": {
             "endlinecolor": "#2a3f5f",
             "gridcolor": "white",
             "linecolor": "white",
             "minorgridcolor": "white",
             "startlinecolor": "#2a3f5f"
            },
            "type": "carpet"
           }
          ],
          "choropleth": [
           {
            "colorbar": {
             "outlinewidth": 0,
             "ticks": ""
            },
            "type": "choropleth"
           }
          ],
          "contour": [
           {
            "colorbar": {
             "outlinewidth": 0,
             "ticks": ""
            },
            "colorscale": [
             [
              0,
              "#0d0887"
             ],
             [
              0.1111111111111111,
              "#46039f"
             ],
             [
              0.2222222222222222,
              "#7201a8"
             ],
             [
              0.3333333333333333,
              "#9c179e"
             ],
             [
              0.4444444444444444,
              "#bd3786"
             ],
             [
              0.5555555555555556,
              "#d8576b"
             ],
             [
              0.6666666666666666,
              "#ed7953"
             ],
             [
              0.7777777777777778,
              "#fb9f3a"
             ],
             [
              0.8888888888888888,
              "#fdca26"
             ],
             [
              1,
              "#f0f921"
             ]
            ],
            "type": "contour"
           }
          ],
          "contourcarpet": [
           {
            "colorbar": {
             "outlinewidth": 0,
             "ticks": ""
            },
            "type": "contourcarpet"
           }
          ],
          "heatmap": [
           {
            "colorbar": {
             "outlinewidth": 0,
             "ticks": ""
            },
            "colorscale": [
             [
              0,
              "#0d0887"
             ],
             [
              0.1111111111111111,
              "#46039f"
             ],
             [
              0.2222222222222222,
              "#7201a8"
             ],
             [
              0.3333333333333333,
              "#9c179e"
             ],
             [
              0.4444444444444444,
              "#bd3786"
             ],
             [
              0.5555555555555556,
              "#d8576b"
             ],
             [
              0.6666666666666666,
              "#ed7953"
             ],
             [
              0.7777777777777778,
              "#fb9f3a"
             ],
             [
              0.8888888888888888,
              "#fdca26"
             ],
             [
              1,
              "#f0f921"
             ]
            ],
            "type": "heatmap"
           }
          ],
          "heatmapgl": [
           {
            "colorbar": {
             "outlinewidth": 0,
             "ticks": ""
            },
            "colorscale": [
             [
              0,
              "#0d0887"
             ],
             [
              0.1111111111111111,
              "#46039f"
             ],
             [
              0.2222222222222222,
              "#7201a8"
             ],
             [
              0.3333333333333333,
              "#9c179e"
             ],
             [
              0.4444444444444444,
              "#bd3786"
             ],
             [
              0.5555555555555556,
              "#d8576b"
             ],
             [
              0.6666666666666666,
              "#ed7953"
             ],
             [
              0.7777777777777778,
              "#fb9f3a"
             ],
             [
              0.8888888888888888,
              "#fdca26"
             ],
             [
              1,
              "#f0f921"
             ]
            ],
            "type": "heatmapgl"
           }
          ],
          "histogram": [
           {
            "marker": {
             "pattern": {
              "fillmode": "overlay",
              "size": 10,
              "solidity": 0.2
             }
            },
            "type": "histogram"
           }
          ],
          "histogram2d": [
           {
            "colorbar": {
             "outlinewidth": 0,
             "ticks": ""
            },
            "colorscale": [
             [
              0,
              "#0d0887"
             ],
             [
              0.1111111111111111,
              "#46039f"
             ],
             [
              0.2222222222222222,
              "#7201a8"
             ],
             [
              0.3333333333333333,
              "#9c179e"
             ],
             [
              0.4444444444444444,
              "#bd3786"
             ],
             [
              0.5555555555555556,
              "#d8576b"
             ],
             [
              0.6666666666666666,
              "#ed7953"
             ],
             [
              0.7777777777777778,
              "#fb9f3a"
             ],
             [
              0.8888888888888888,
              "#fdca26"
             ],
             [
              1,
              "#f0f921"
             ]
            ],
            "type": "histogram2d"
           }
          ],
          "histogram2dcontour": [
           {
            "colorbar": {
             "outlinewidth": 0,
             "ticks": ""
            },
            "colorscale": [
             [
              0,
              "#0d0887"
             ],
             [
              0.1111111111111111,
              "#46039f"
             ],
             [
              0.2222222222222222,
              "#7201a8"
             ],
             [
              0.3333333333333333,
              "#9c179e"
             ],
             [
              0.4444444444444444,
              "#bd3786"
             ],
             [
              0.5555555555555556,
              "#d8576b"
             ],
             [
              0.6666666666666666,
              "#ed7953"
             ],
             [
              0.7777777777777778,
              "#fb9f3a"
             ],
             [
              0.8888888888888888,
              "#fdca26"
             ],
             [
              1,
              "#f0f921"
             ]
            ],
            "type": "histogram2dcontour"
           }
          ],
          "mesh3d": [
           {
            "colorbar": {
             "outlinewidth": 0,
             "ticks": ""
            },
            "type": "mesh3d"
           }
          ],
          "parcoords": [
           {
            "line": {
             "colorbar": {
              "outlinewidth": 0,
              "ticks": ""
             }
            },
            "type": "parcoords"
           }
          ],
          "pie": [
           {
            "automargin": true,
            "type": "pie"
           }
          ],
          "scatter": [
           {
            "marker": {
             "colorbar": {
              "outlinewidth": 0,
              "ticks": ""
             }
            },
            "type": "scatter"
           }
          ],
          "scatter3d": [
           {
            "line": {
             "colorbar": {
              "outlinewidth": 0,
              "ticks": ""
             }
            },
            "marker": {
             "colorbar": {
              "outlinewidth": 0,
              "ticks": ""
             }
            },
            "type": "scatter3d"
           }
          ],
          "scattercarpet": [
           {
            "marker": {
             "colorbar": {
              "outlinewidth": 0,
              "ticks": ""
             }
            },
            "type": "scattercarpet"
           }
          ],
          "scattergeo": [
           {
            "marker": {
             "colorbar": {
              "outlinewidth": 0,
              "ticks": ""
             }
            },
            "type": "scattergeo"
           }
          ],
          "scattergl": [
           {
            "marker": {
             "colorbar": {
              "outlinewidth": 0,
              "ticks": ""
             }
            },
            "type": "scattergl"
           }
          ],
          "scattermapbox": [
           {
            "marker": {
             "colorbar": {
              "outlinewidth": 0,
              "ticks": ""
             }
            },
            "type": "scattermapbox"
           }
          ],
          "scatterpolar": [
           {
            "marker": {
             "colorbar": {
              "outlinewidth": 0,
              "ticks": ""
             }
            },
            "type": "scatterpolar"
           }
          ],
          "scatterpolargl": [
           {
            "marker": {
             "colorbar": {
              "outlinewidth": 0,
              "ticks": ""
             }
            },
            "type": "scatterpolargl"
           }
          ],
          "scatterternary": [
           {
            "marker": {
             "colorbar": {
              "outlinewidth": 0,
              "ticks": ""
             }
            },
            "type": "scatterternary"
           }
          ],
          "surface": [
           {
            "colorbar": {
             "outlinewidth": 0,
             "ticks": ""
            },
            "colorscale": [
             [
              0,
              "#0d0887"
             ],
             [
              0.1111111111111111,
              "#46039f"
             ],
             [
              0.2222222222222222,
              "#7201a8"
             ],
             [
              0.3333333333333333,
              "#9c179e"
             ],
             [
              0.4444444444444444,
              "#bd3786"
             ],
             [
              0.5555555555555556,
              "#d8576b"
             ],
             [
              0.6666666666666666,
              "#ed7953"
             ],
             [
              0.7777777777777778,
              "#fb9f3a"
             ],
             [
              0.8888888888888888,
              "#fdca26"
             ],
             [
              1,
              "#f0f921"
             ]
            ],
            "type": "surface"
           }
          ],
          "table": [
           {
            "cells": {
             "fill": {
              "color": "#EBF0F8"
             },
             "line": {
              "color": "white"
             }
            },
            "header": {
             "fill": {
              "color": "#C8D4E3"
             },
             "line": {
              "color": "white"
             }
            },
            "type": "table"
           }
          ]
         },
         "layout": {
          "annotationdefaults": {
           "arrowcolor": "#2a3f5f",
           "arrowhead": 0,
           "arrowwidth": 1
          },
          "autotypenumbers": "strict",
          "coloraxis": {
           "colorbar": {
            "outlinewidth": 0,
            "ticks": ""
           }
          },
          "colorscale": {
           "diverging": [
            [
             0,
             "#8e0152"
            ],
            [
             0.1,
             "#c51b7d"
            ],
            [
             0.2,
             "#de77ae"
            ],
            [
             0.3,
             "#f1b6da"
            ],
            [
             0.4,
             "#fde0ef"
            ],
            [
             0.5,
             "#f7f7f7"
            ],
            [
             0.6,
             "#e6f5d0"
            ],
            [
             0.7,
             "#b8e186"
            ],
            [
             0.8,
             "#7fbc41"
            ],
            [
             0.9,
             "#4d9221"
            ],
            [
             1,
             "#276419"
            ]
           ],
           "sequential": [
            [
             0,
             "#0d0887"
            ],
            [
             0.1111111111111111,
             "#46039f"
            ],
            [
             0.2222222222222222,
             "#7201a8"
            ],
            [
             0.3333333333333333,
             "#9c179e"
            ],
            [
             0.4444444444444444,
             "#bd3786"
            ],
            [
             0.5555555555555556,
             "#d8576b"
            ],
            [
             0.6666666666666666,
             "#ed7953"
            ],
            [
             0.7777777777777778,
             "#fb9f3a"
            ],
            [
             0.8888888888888888,
             "#fdca26"
            ],
            [
             1,
             "#f0f921"
            ]
           ],
           "sequentialminus": [
            [
             0,
             "#0d0887"
            ],
            [
             0.1111111111111111,
             "#46039f"
            ],
            [
             0.2222222222222222,
             "#7201a8"
            ],
            [
             0.3333333333333333,
             "#9c179e"
            ],
            [
             0.4444444444444444,
             "#bd3786"
            ],
            [
             0.5555555555555556,
             "#d8576b"
            ],
            [
             0.6666666666666666,
             "#ed7953"
            ],
            [
             0.7777777777777778,
             "#fb9f3a"
            ],
            [
             0.8888888888888888,
             "#fdca26"
            ],
            [
             1,
             "#f0f921"
            ]
           ]
          },
          "colorway": [
           "#636efa",
           "#EF553B",
           "#00cc96",
           "#ab63fa",
           "#FFA15A",
           "#19d3f3",
           "#FF6692",
           "#B6E880",
           "#FF97FF",
           "#FECB52"
          ],
          "font": {
           "color": "#2a3f5f"
          },
          "geo": {
           "bgcolor": "white",
           "lakecolor": "white",
           "landcolor": "#E5ECF6",
           "showlakes": true,
           "showland": true,
           "subunitcolor": "white"
          },
          "hoverlabel": {
           "align": "left"
          },
          "hovermode": "closest",
          "mapbox": {
           "style": "light"
          },
          "paper_bgcolor": "white",
          "plot_bgcolor": "#E5ECF6",
          "polar": {
           "angularaxis": {
            "gridcolor": "white",
            "linecolor": "white",
            "ticks": ""
           },
           "bgcolor": "#E5ECF6",
           "radialaxis": {
            "gridcolor": "white",
            "linecolor": "white",
            "ticks": ""
           }
          },
          "scene": {
           "xaxis": {
            "backgroundcolor": "#E5ECF6",
            "gridcolor": "white",
            "gridwidth": 2,
            "linecolor": "white",
            "showbackground": true,
            "ticks": "",
            "zerolinecolor": "white"
           },
           "yaxis": {
            "backgroundcolor": "#E5ECF6",
            "gridcolor": "white",
            "gridwidth": 2,
            "linecolor": "white",
            "showbackground": true,
            "ticks": "",
            "zerolinecolor": "white"
           },
           "zaxis": {
            "backgroundcolor": "#E5ECF6",
            "gridcolor": "white",
            "gridwidth": 2,
            "linecolor": "white",
            "showbackground": true,
            "ticks": "",
            "zerolinecolor": "white"
           }
          },
          "shapedefaults": {
           "line": {
            "color": "#2a3f5f"
           }
          },
          "ternary": {
           "aaxis": {
            "gridcolor": "white",
            "linecolor": "white",
            "ticks": ""
           },
           "baxis": {
            "gridcolor": "white",
            "linecolor": "white",
            "ticks": ""
           },
           "bgcolor": "#E5ECF6",
           "caxis": {
            "gridcolor": "white",
            "linecolor": "white",
            "ticks": ""
           }
          },
          "title": {
           "x": 0.05
          },
          "xaxis": {
           "automargin": true,
           "gridcolor": "white",
           "linecolor": "white",
           "ticks": "",
           "title": {
            "standoff": 15
           },
           "zerolinecolor": "white",
           "zerolinewidth": 2
          },
          "yaxis": {
           "automargin": true,
           "gridcolor": "white",
           "linecolor": "white",
           "ticks": "",
           "title": {
            "standoff": 15
           },
           "zerolinecolor": "white",
           "zerolinewidth": 2
          }
         }
        },
        "width": 1600,
        "xaxis": {
         "title": {
          "text": "quantile of window score"
         }
        },
        "yaxis": {
         "title": {
          "text": "fraction of enhancer-gene associations that are elite"
         }
        }
       }
      },
      "text/html": [
       "<div>                            <div id=\"f891cf50-b895-4879-88b3-0e88245a1b48\" class=\"plotly-graph-div\" style=\"height:800px; width:1600px;\"></div>            <script type=\"text/javascript\">                require([\"plotly\"], function(Plotly) {                    window.PLOTLYENV=window.PLOTLYENV || {};                                    if (document.getElementById(\"f891cf50-b895-4879-88b3-0e88245a1b48\")) {                    Plotly.newPlot(                        \"f891cf50-b895-4879-88b3-0e88245a1b48\",                        [{\"hovertemplate\":\"%{text}\",\"marker\":{\"symbol\":\"square\"},\"mode\":\"lines+markers\",\"name\":\"negative new chen zscore\",\"text\":[\"negative new chen zscore mean: -5.174585846252422<br>negative new chen zscore std: 0.7074479748078504<br>number of windows: 7643<br>\",\"negative new chen zscore mean: -4.2159381837204055<br>negative new chen zscore std: 0.1442776846318651<br>number of windows: 7643<br>\",\"negative new chen zscore mean: -3.706450278498741<br>negative new chen zscore std: 0.1468509830253984<br>number of windows: 15286<br>\",\"negative new chen zscore mean: -3.0740648734233416<br>negative new chen zscore std: 0.20136070414238103<br>number of windows: 45856<br>\",\"negative new chen zscore mean: -2.4468741780596304<br>negative new chen zscore std: 0.16790350084437314<br>number of windows: 76428<br>\",\"negative new chen zscore mean: -1.6533064005628921<br>negative new chen zscore std: 0.27297372778405693<br>number of windows: 229284<br>\",\"negative new chen zscore mean: -0.654120866594227<br>negative new chen zscore std: 0.3153419794405299<br>number of windows: 382140<br>\",\"negative new chen zscore mean: 0.4571635312665124<br>negative new chen zscore std: 0.34874262895842867<br>number of windows: 382140<br>\",\"negative new chen zscore mean: 1.6669695766784935<br>negative new chen zscore std: 0.3649746505047182<br>number of windows: 229284<br>\",\"negative new chen zscore mean: 2.8150003213822035<br>negative new chen zscore std: 0.27134325880610666<br>number of windows: 76428<br>\",\"negative new chen zscore mean: 3.9225172885701363<br>negative new chen zscore std: 0.39039098591063504<br>number of windows: 45856<br>\",\"negative new chen zscore mean: 5.245233101252732<br>negative new chen zscore std: 0.3274925226532812<br>number of windows: 15286<br>\",\"negative new chen zscore mean: 6.373835304727502<br>negative new chen zscore std: 0.30790407499766753<br>number of windows: 7643<br>\",\"negative new chen zscore mean: 8.040172108989584<br>negative new chen zscore std: 0.806648572134095<br>number of windows: 7643<br>\"],\"type\":\"scatter\",\"x\":[\"0.0 - 0.005\",\"0.005 - 0.01\",\"0.01 - 0.02\",\"0.02 - 0.05\",\"0.05 - 0.1\",\"0.1 - 0.25\",\"0.25 - 0.5\",\"0.5 - 0.75\",\"0.75 - 0.9\",\"0.9 - 0.95\",\"0.95 - 0.98\",\"0.98 - 0.99\",\"0.99 - 0.995\",\"0.995 - 1.0\"],\"y\":[0.5394210402447635,0.5508865678892397,0.522395446671616,0.5159235668789809,0.5045151823004854,0.4803180001877954,0.44699703401543506,0.4121047946320031,0.3783507620062178,0.36201413427561835,0.38501387604070303,0.42521797451374915,0.42251223491027734,0.35969868173258]},{\"hovertemplate\":\"%{text}\",\"marker\":{\"symbol\":\"circle\"},\"mode\":\"lines+markers\",\"name\":\"N_bar_3_noncoding\",\"text\":[\"N_bar_3_noncoding mean: -4.8656137605161875<br>N_bar_3_noncoding std: 0.7481679737060338<br>number of windows: 7643<br>\",\"N_bar_3_noncoding mean: -4.066292024633301<br>N_bar_3_noncoding std: 0.10046122003190436<br>number of windows: 7643<br>\",\"N_bar_3_noncoding mean: -3.701777542423334<br>N_bar_3_noncoding std: 0.10734651089043447<br>number of windows: 15286<br>\",\"N_bar_3_noncoding mean: -3.215828021252798<br>N_bar_3_noncoding std: 0.1594808952651575<br>number of windows: 45856<br>\",\"N_bar_3_noncoding mean: -2.6901289358869085<br>N_bar_3_noncoding std: 0.14679645471963176<br>number of windows: 76428<br>\",\"N_bar_3_noncoding mean: -1.9678862730991906<br>N_bar_3_noncoding std: 0.25619594603999374<br>number of windows: 229284<br>\",\"N_bar_3_noncoding mean: -0.9906301373962754<br>N_bar_3_noncoding std: 0.3189196430058259<br>number of windows: 382140<br>\",\"N_bar_3_noncoding mean: 0.17252275247003737<br>N_bar_3_noncoding std: 0.37783177779912314<br>number of windows: 382140<br>\",\"N_bar_3_noncoding mean: 1.5608483313895878<br>N_bar_3_noncoding std: 0.4507399595568374<br>number of windows: 229284<br>\",\"N_bar_3_noncoding mean: 3.110208395327237<br>N_bar_3_noncoding std: 0.4132759499941197<br>number of windows: 76428<br>\",\"N_bar_3_noncoding mean: 4.925938867236032<br>N_bar_3_noncoding std: 0.6560219847918676<br>number of windows: 45856<br>\",\"N_bar_3_noncoding mean: 7.003687041378851<br>N_bar_3_noncoding std: 0.4785516105073061<br>number of windows: 15286<br>\",\"N_bar_3_noncoding mean: 8.584933084567242<br>N_bar_3_noncoding std: 0.4388848627290331<br>number of windows: 7643<br>\",\"N_bar_3_noncoding mean: 12.103917879462575<br>N_bar_3_noncoding std: 2.6794832651150693<br>number of windows: 7643<br>\"],\"type\":\"scatter\",\"x\":[\"0.0 - 0.005\",\"0.005 - 0.01\",\"0.01 - 0.02\",\"0.02 - 0.05\",\"0.05 - 0.1\",\"0.1 - 0.25\",\"0.25 - 0.5\",\"0.5 - 0.75\",\"0.75 - 0.9\",\"0.9 - 0.95\",\"0.95 - 0.98\",\"0.98 - 0.99\",\"0.99 - 0.995\",\"0.995 - 1.0\"],\"y\":[0.6681706316652994,0.5824842309558467,0.563726110618909,0.5318224571147042,0.5122378124013658,0.47928831924447163,0.4407435690114695,0.39914376548146124,0.37508895214374666,0.39552298255397117,0.437237908862175,0.4642857142857143,0.46502463054187193,0.34686971235194586]}],                        {\"font\":{\"size\":20},\"height\":800,\"template\":{\"data\":{\"bar\":[{\"error_x\":{\"color\":\"#2a3f5f\"},\"error_y\":{\"color\":\"#2a3f5f\"},\"marker\":{\"line\":{\"color\":\"#E5ECF6\",\"width\":0.5},\"pattern\":{\"fillmode\":\"overlay\",\"size\":10,\"solidity\":0.2}},\"type\":\"bar\"}],\"barpolar\":[{\"marker\":{\"line\":{\"color\":\"#E5ECF6\",\"width\":0.5},\"pattern\":{\"fillmode\":\"overlay\",\"size\":10,\"solidity\":0.2}},\"type\":\"barpolar\"}],\"carpet\":[{\"aaxis\":{\"endlinecolor\":\"#2a3f5f\",\"gridcolor\":\"white\",\"linecolor\":\"white\",\"minorgridcolor\":\"white\",\"startlinecolor\":\"#2a3f5f\"},\"baxis\":{\"endlinecolor\":\"#2a3f5f\",\"gridcolor\":\"white\",\"linecolor\":\"white\",\"minorgridcolor\":\"white\",\"startlinecolor\":\"#2a3f5f\"},\"type\":\"carpet\"}],\"choropleth\":[{\"colorbar\":{\"outlinewidth\":0,\"ticks\":\"\"},\"type\":\"choropleth\"}],\"contour\":[{\"colorbar\":{\"outlinewidth\":0,\"ticks\":\"\"},\"colorscale\":[[0.0,\"#0d0887\"],[0.1111111111111111,\"#46039f\"],[0.2222222222222222,\"#7201a8\"],[0.3333333333333333,\"#9c179e\"],[0.4444444444444444,\"#bd3786\"],[0.5555555555555556,\"#d8576b\"],[0.6666666666666666,\"#ed7953\"],[0.7777777777777778,\"#fb9f3a\"],[0.8888888888888888,\"#fdca26\"],[1.0,\"#f0f921\"]],\"type\":\"contour\"}],\"contourcarpet\":[{\"colorbar\":{\"outlinewidth\":0,\"ticks\":\"\"},\"type\":\"contourcarpet\"}],\"heatmap\":[{\"colorbar\":{\"outlinewidth\":0,\"ticks\":\"\"},\"colorscale\":[[0.0,\"#0d0887\"],[0.1111111111111111,\"#46039f\"],[0.2222222222222222,\"#7201a8\"],[0.3333333333333333,\"#9c179e\"],[0.4444444444444444,\"#bd3786\"],[0.5555555555555556,\"#d8576b\"],[0.6666666666666666,\"#ed7953\"],[0.7777777777777778,\"#fb9f3a\"],[0.8888888888888888,\"#fdca26\"],[1.0,\"#f0f921\"]],\"type\":\"heatmap\"}],\"heatmapgl\":[{\"colorbar\":{\"outlinewidth\":0,\"ticks\":\"\"},\"colorscale\":[[0.0,\"#0d0887\"],[0.1111111111111111,\"#46039f\"],[0.2222222222222222,\"#7201a8\"],[0.3333333333333333,\"#9c179e\"],[0.4444444444444444,\"#bd3786\"],[0.5555555555555556,\"#d8576b\"],[0.6666666666666666,\"#ed7953\"],[0.7777777777777778,\"#fb9f3a\"],[0.8888888888888888,\"#fdca26\"],[1.0,\"#f0f921\"]],\"type\":\"heatmapgl\"}],\"histogram\":[{\"marker\":{\"pattern\":{\"fillmode\":\"overlay\",\"size\":10,\"solidity\":0.2}},\"type\":\"histogram\"}],\"histogram2d\":[{\"colorbar\":{\"outlinewidth\":0,\"ticks\":\"\"},\"colorscale\":[[0.0,\"#0d0887\"],[0.1111111111111111,\"#46039f\"],[0.2222222222222222,\"#7201a8\"],[0.3333333333333333,\"#9c179e\"],[0.4444444444444444,\"#bd3786\"],[0.5555555555555556,\"#d8576b\"],[0.6666666666666666,\"#ed7953\"],[0.7777777777777778,\"#fb9f3a\"],[0.8888888888888888,\"#fdca26\"],[1.0,\"#f0f921\"]],\"type\":\"histogram2d\"}],\"histogram2dcontour\":[{\"colorbar\":{\"outlinewidth\":0,\"ticks\":\"\"},\"colorscale\":[[0.0,\"#0d0887\"],[0.1111111111111111,\"#46039f\"],[0.2222222222222222,\"#7201a8\"],[0.3333333333333333,\"#9c179e\"],[0.4444444444444444,\"#bd3786\"],[0.5555555555555556,\"#d8576b\"],[0.6666666666666666,\"#ed7953\"],[0.7777777777777778,\"#fb9f3a\"],[0.8888888888888888,\"#fdca26\"],[1.0,\"#f0f921\"]],\"type\":\"histogram2dcontour\"}],\"mesh3d\":[{\"colorbar\":{\"outlinewidth\":0,\"ticks\":\"\"},\"type\":\"mesh3d\"}],\"parcoords\":[{\"line\":{\"colorbar\":{\"outlinewidth\":0,\"ticks\":\"\"}},\"type\":\"parcoords\"}],\"pie\":[{\"automargin\":true,\"type\":\"pie\"}],\"scatter\":[{\"marker\":{\"colorbar\":{\"outlinewidth\":0,\"ticks\":\"\"}},\"type\":\"scatter\"}],\"scatter3d\":[{\"line\":{\"colorbar\":{\"outlinewidth\":0,\"ticks\":\"\"}},\"marker\":{\"colorbar\":{\"outlinewidth\":0,\"ticks\":\"\"}},\"type\":\"scatter3d\"}],\"scattercarpet\":[{\"marker\":{\"colorbar\":{\"outlinewidth\":0,\"ticks\":\"\"}},\"type\":\"scattercarpet\"}],\"scattergeo\":[{\"marker\":{\"colorbar\":{\"outlinewidth\":0,\"ticks\":\"\"}},\"type\":\"scattergeo\"}],\"scattergl\":[{\"marker\":{\"colorbar\":{\"outlinewidth\":0,\"ticks\":\"\"}},\"type\":\"scattergl\"}],\"scattermapbox\":[{\"marker\":{\"colorbar\":{\"outlinewidth\":0,\"ticks\":\"\"}},\"type\":\"scattermapbox\"}],\"scatterpolar\":[{\"marker\":{\"colorbar\":{\"outlinewidth\":0,\"ticks\":\"\"}},\"type\":\"scatterpolar\"}],\"scatterpolargl\":[{\"marker\":{\"colorbar\":{\"outlinewidth\":0,\"ticks\":\"\"}},\"type\":\"scatterpolargl\"}],\"scatterternary\":[{\"marker\":{\"colorbar\":{\"outlinewidth\":0,\"ticks\":\"\"}},\"type\":\"scatterternary\"}],\"surface\":[{\"colorbar\":{\"outlinewidth\":0,\"ticks\":\"\"},\"colorscale\":[[0.0,\"#0d0887\"],[0.1111111111111111,\"#46039f\"],[0.2222222222222222,\"#7201a8\"],[0.3333333333333333,\"#9c179e\"],[0.4444444444444444,\"#bd3786\"],[0.5555555555555556,\"#d8576b\"],[0.6666666666666666,\"#ed7953\"],[0.7777777777777778,\"#fb9f3a\"],[0.8888888888888888,\"#fdca26\"],[1.0,\"#f0f921\"]],\"type\":\"surface\"}],\"table\":[{\"cells\":{\"fill\":{\"color\":\"#EBF0F8\"},\"line\":{\"color\":\"white\"}},\"header\":{\"fill\":{\"color\":\"#C8D4E3\"},\"line\":{\"color\":\"white\"}},\"type\":\"table\"}]},\"layout\":{\"annotationdefaults\":{\"arrowcolor\":\"#2a3f5f\",\"arrowhead\":0,\"arrowwidth\":1},\"autotypenumbers\":\"strict\",\"coloraxis\":{\"colorbar\":{\"outlinewidth\":0,\"ticks\":\"\"}},\"colorscale\":{\"diverging\":[[0,\"#8e0152\"],[0.1,\"#c51b7d\"],[0.2,\"#de77ae\"],[0.3,\"#f1b6da\"],[0.4,\"#fde0ef\"],[0.5,\"#f7f7f7\"],[0.6,\"#e6f5d0\"],[0.7,\"#b8e186\"],[0.8,\"#7fbc41\"],[0.9,\"#4d9221\"],[1,\"#276419\"]],\"sequential\":[[0.0,\"#0d0887\"],[0.1111111111111111,\"#46039f\"],[0.2222222222222222,\"#7201a8\"],[0.3333333333333333,\"#9c179e\"],[0.4444444444444444,\"#bd3786\"],[0.5555555555555556,\"#d8576b\"],[0.6666666666666666,\"#ed7953\"],[0.7777777777777778,\"#fb9f3a\"],[0.8888888888888888,\"#fdca26\"],[1.0,\"#f0f921\"]],\"sequentialminus\":[[0.0,\"#0d0887\"],[0.1111111111111111,\"#46039f\"],[0.2222222222222222,\"#7201a8\"],[0.3333333333333333,\"#9c179e\"],[0.4444444444444444,\"#bd3786\"],[0.5555555555555556,\"#d8576b\"],[0.6666666666666666,\"#ed7953\"],[0.7777777777777778,\"#fb9f3a\"],[0.8888888888888888,\"#fdca26\"],[1.0,\"#f0f921\"]]},\"colorway\":[\"#636efa\",\"#EF553B\",\"#00cc96\",\"#ab63fa\",\"#FFA15A\",\"#19d3f3\",\"#FF6692\",\"#B6E880\",\"#FF97FF\",\"#FECB52\"],\"font\":{\"color\":\"#2a3f5f\"},\"geo\":{\"bgcolor\":\"white\",\"lakecolor\":\"white\",\"landcolor\":\"#E5ECF6\",\"showlakes\":true,\"showland\":true,\"subunitcolor\":\"white\"},\"hoverlabel\":{\"align\":\"left\"},\"hovermode\":\"closest\",\"mapbox\":{\"style\":\"light\"},\"paper_bgcolor\":\"white\",\"plot_bgcolor\":\"#E5ECF6\",\"polar\":{\"angularaxis\":{\"gridcolor\":\"white\",\"linecolor\":\"white\",\"ticks\":\"\"},\"bgcolor\":\"#E5ECF6\",\"radialaxis\":{\"gridcolor\":\"white\",\"linecolor\":\"white\",\"ticks\":\"\"}},\"scene\":{\"xaxis\":{\"backgroundcolor\":\"#E5ECF6\",\"gridcolor\":\"white\",\"gridwidth\":2,\"linecolor\":\"white\",\"showbackground\":true,\"ticks\":\"\",\"zerolinecolor\":\"white\"},\"yaxis\":{\"backgroundcolor\":\"#E5ECF6\",\"gridcolor\":\"white\",\"gridwidth\":2,\"linecolor\":\"white\",\"showbackground\":true,\"ticks\":\"\",\"zerolinecolor\":\"white\"},\"zaxis\":{\"backgroundcolor\":\"#E5ECF6\",\"gridcolor\":\"white\",\"gridwidth\":2,\"linecolor\":\"white\",\"showbackground\":true,\"ticks\":\"\",\"zerolinecolor\":\"white\"}},\"shapedefaults\":{\"line\":{\"color\":\"#2a3f5f\"}},\"ternary\":{\"aaxis\":{\"gridcolor\":\"white\",\"linecolor\":\"white\",\"ticks\":\"\"},\"baxis\":{\"gridcolor\":\"white\",\"linecolor\":\"white\",\"ticks\":\"\"},\"bgcolor\":\"#E5ECF6\",\"caxis\":{\"gridcolor\":\"white\",\"linecolor\":\"white\",\"ticks\":\"\"}},\"title\":{\"x\":0.05},\"xaxis\":{\"automargin\":true,\"gridcolor\":\"white\",\"linecolor\":\"white\",\"ticks\":\"\",\"title\":{\"standoff\":15},\"zerolinecolor\":\"white\",\"zerolinewidth\":2},\"yaxis\":{\"automargin\":true,\"gridcolor\":\"white\",\"linecolor\":\"white\",\"ticks\":\"\",\"title\":{\"standoff\":15},\"zerolinecolor\":\"white\",\"zerolinewidth\":2}}},\"width\":1600,\"xaxis\":{\"title\":{\"text\":\"quantile of window score\"}},\"yaxis\":{\"title\":{\"text\":\"fraction of enhancer-gene associations that are elite\"}}},                        {\"responsive\": true}                    ).then(function(){\n",
       "                            \n",
       "var gd = document.getElementById('f891cf50-b895-4879-88b3-0e88245a1b48');\n",
       "var x = new MutationObserver(function (mutations, observer) {{\n",
       "        var display = window.getComputedStyle(gd).display;\n",
       "        if (!display || display === 'none') {{\n",
       "            console.log([gd, 'removed!']);\n",
       "            Plotly.purge(gd);\n",
       "            observer.disconnect();\n",
       "        }}\n",
       "}});\n",
       "\n",
       "// Listen for the removal of the full notebook cells\n",
       "var notebookContainer = gd.closest('#notebook-container');\n",
       "if (notebookContainer) {{\n",
       "    x.observe(notebookContainer, {childList: true});\n",
       "}}\n",
       "\n",
       "// Listen for the clearing of the current output cell\n",
       "var outputEl = gd.closest('.output');\n",
       "if (outputEl) {{\n",
       "    x.observe(outputEl, {childList: true});\n",
       "}}\n",
       "\n",
       "                        })                };                });            </script>        </div>"
      ]
     },
     "metadata": {},
     "output_type": "display_data"
    }
   ],
   "source": [
    "plot_enrichment(\n",
    "    chen_mchale_zscores_features_noncoding, \n",
    "    y='eliteness_of_optimal_enhancer_gene_association max', \n",
    "    ylabel='fraction of enhancer-gene associations that are elite'\n",
    ")"
   ]
  },
  {
   "attachments": {},
   "cell_type": "markdown",
   "id": "cb7fdb82",
   "metadata": {},
   "source": [
    "## Save data to disk"
   ]
  },
  {
   "cell_type": "code",
   "execution_count": 13,
   "id": "d9278587",
   "metadata": {},
   "outputs": [
    {
     "name": "stdout",
     "output_type": "stream",
     "text": [
      "Wrote data to /scratch/ucgd/lustre-work/quinlan/data-shared/constraint-tools/benchmark-genome-wide-predictions/chen-et-al-2022/enhancer-characteristics-enrichment.bed\n"
     ]
    }
   ],
   "source": [
    "out_filename = f'{CONSTRAINT_TOOLS_DATA}/benchmark-genome-wide-predictions/chen-et-al-2022/enhancer-characteristics-enrichment.bed'\n",
    "chen_mchale_zscores_features.to_csv(                                                                                \n",
    "    out_filename,\n",
    "    sep = '\\t',\n",
    "    index = False\n",
    ")\n",
    "print(f'Wrote data to {out_filename}')"
   ]
  },
  {
   "cell_type": "code",
   "execution_count": null,
   "id": "0d2f5c5c",
   "metadata": {},
   "outputs": [],
   "source": []
  }
 ],
 "metadata": {
  "kernelspec": {
   "display_name": "Python 3",
   "language": "python",
   "name": "python3"
  },
  "language_info": {
   "codemirror_mode": {
    "name": "ipython",
    "version": 3
   },
   "file_extension": ".py",
   "mimetype": "text/x-python",
   "name": "python",
   "nbconvert_exporter": "python",
   "pygments_lexer": "ipython3",
   "version": "3.9.0"
  }
 },
 "nbformat": 4,
 "nbformat_minor": 5
}
