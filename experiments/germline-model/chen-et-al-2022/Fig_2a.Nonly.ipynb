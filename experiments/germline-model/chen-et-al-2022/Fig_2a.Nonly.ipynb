{
 "cells": [
  {
   "cell_type": "code",
   "execution_count": 1,
   "id": "5b72fec4",
   "metadata": {},
   "outputs": [
    {
     "data": {
      "text/html": [
       "<style>.container { width: 100% !important; }</style>"
      ],
      "text/plain": [
       "<IPython.core.display.HTML object>"
      ]
     },
     "metadata": {},
     "output_type": "display_data"
    }
   ],
   "source": [
    "from IPython.display import display, HTML\n",
    "display(HTML(\"<style>.container { width: 100% !important; }</style>\"))"
   ]
  },
  {
   "cell_type": "markdown",
   "id": "ef98cb52",
   "metadata": {},
   "source": [
    "## z-scores for SNV density, for various kmer sizes, and various train sets, and overlap with various features (enhancers, exons, etc) \n",
    "\n",
    "First Chen et al preprint is at: \n",
    "https://github.com/quinlan-lab/constraint-tools/tree/main/literature/germline/chen%20et%20al%202022\n",
    "\n",
    "Second Chen et al preprint is at: \n",
    "https://github.com/quinlan-lab/constraint-tools/tree/main/literature/germline/chen-et-al-2022-second-preprint\n",
    "\n",
    "I used the following notebook to merge the old chen zscores (from first preprint) with the mchale zscores computed on the old Chen windows:\n",
    "```\n",
    "experiments/germline-model/chen-et-al-2022/merge_chen_zscores_with_mchale_zscores.Nonly.ipynb\n",
    "```\n",
    "\n",
    "I used the following script to compute the number of bps of each (old) Chen window that is covered by each feature:\n",
    "```\n",
    "experiments/germline-model/chen-et-al-2022/add-overlapAmounts.sh\n",
    "```\n",
    "\n",
    "writing the data to\n",
    "```\n",
    "${CONSTRAINT_TOOLS_DATA}/benchmark-genome-wide-predictions/chen-et-al-2022/chen-mchale.kmerSizes.trainSets.overlapAmounts.bed\n",
    "```\n"
   ]
  },
  {
   "cell_type": "code",
   "execution_count": 2,
   "id": "82623862",
   "metadata": {},
   "outputs": [],
   "source": [
    "CONSTRAINT_TOOLS_DATA = '/scratch/ucgd/lustre-work/quinlan/data-shared/constraint-tools'"
   ]
  },
  {
   "cell_type": "code",
   "execution_count": 5,
   "id": "cf9265a1",
   "metadata": {},
   "outputs": [
    {
     "data": {
      "text/html": [
       "<div>\n",
       "<style scoped>\n",
       "    .dataframe tbody tr th:only-of-type {\n",
       "        vertical-align: middle;\n",
       "    }\n",
       "\n",
       "    .dataframe tbody tr th {\n",
       "        vertical-align: top;\n",
       "    }\n",
       "\n",
       "    .dataframe thead th {\n",
       "        text-align: right;\n",
       "    }\n",
       "</style>\n",
       "<table border=\"1\" class=\"dataframe\">\n",
       "  <thead>\n",
       "    <tr style=\"text-align: right;\">\n",
       "      <th></th>\n",
       "      <th>chromosome</th>\n",
       "      <th>start</th>\n",
       "      <th>end</th>\n",
       "      <th>N_observed</th>\n",
       "      <th>N_bar_3_noncoding</th>\n",
       "      <th>N_bar_3_coding</th>\n",
       "      <th>N_bar_3_chenWindows</th>\n",
       "      <th>N_bar_5_noncoding</th>\n",
       "      <th>N_bar_5_coding</th>\n",
       "      <th>N_bar_5_chenWindows</th>\n",
       "      <th>N_bar_7_noncoding</th>\n",
       "      <th>N_bar_7_coding</th>\n",
       "      <th>N_bar_7_chenWindows</th>\n",
       "      <th>feature</th>\n",
       "      <th>feature_chromosome</th>\n",
       "      <th>feature_start</th>\n",
       "      <th>feature_end</th>\n",
       "      <th>window_feature_overlap_bps</th>\n",
       "    </tr>\n",
       "  </thead>\n",
       "  <tbody>\n",
       "    <tr>\n",
       "      <th>0</th>\n",
       "      <td>chr1</td>\n",
       "      <td>1432000</td>\n",
       "      <td>1433000</td>\n",
       "      <td>260</td>\n",
       "      <td>-0.247615</td>\n",
       "      <td>2.264194</td>\n",
       "      <td>0.118933</td>\n",
       "      <td>-0.339806</td>\n",
       "      <td>1.967525</td>\n",
       "      <td>0.075982</td>\n",
       "      <td>-0.372778</td>\n",
       "      <td>1.786749</td>\n",
       "      <td>0.081009</td>\n",
       "      <td>enhancer</td>\n",
       "      <td>chr1</td>\n",
       "      <td>1428218</td>\n",
       "      <td>1438733</td>\n",
       "      <td>1000</td>\n",
       "    </tr>\n",
       "    <tr>\n",
       "      <th>1</th>\n",
       "      <td>chr1</td>\n",
       "      <td>1435000</td>\n",
       "      <td>1436000</td>\n",
       "      <td>275</td>\n",
       "      <td>-7.547130</td>\n",
       "      <td>-2.542472</td>\n",
       "      <td>-6.944479</td>\n",
       "      <td>-6.810107</td>\n",
       "      <td>-2.075201</td>\n",
       "      <td>-6.071172</td>\n",
       "      <td>-6.280673</td>\n",
       "      <td>-1.910324</td>\n",
       "      <td>-5.310077</td>\n",
       "      <td>enhancer</td>\n",
       "      <td>chr1</td>\n",
       "      <td>1428218</td>\n",
       "      <td>1438733</td>\n",
       "      <td>1000</td>\n",
       "    </tr>\n",
       "    <tr>\n",
       "      <th>2</th>\n",
       "      <td>chr1</td>\n",
       "      <td>1435000</td>\n",
       "      <td>1436000</td>\n",
       "      <td>275</td>\n",
       "      <td>-7.547130</td>\n",
       "      <td>-2.542472</td>\n",
       "      <td>-6.944479</td>\n",
       "      <td>-6.810107</td>\n",
       "      <td>-2.075201</td>\n",
       "      <td>-6.071172</td>\n",
       "      <td>-6.280673</td>\n",
       "      <td>-1.910324</td>\n",
       "      <td>-5.310077</td>\n",
       "      <td>merged_exon</td>\n",
       "      <td>chr1</td>\n",
       "      <td>1434861</td>\n",
       "      <td>1435146</td>\n",
       "      <td>146</td>\n",
       "    </tr>\n",
       "    <tr>\n",
       "      <th>3</th>\n",
       "      <td>chr1</td>\n",
       "      <td>1435000</td>\n",
       "      <td>1436000</td>\n",
       "      <td>275</td>\n",
       "      <td>-7.547130</td>\n",
       "      <td>-2.542472</td>\n",
       "      <td>-6.944479</td>\n",
       "      <td>-6.810107</td>\n",
       "      <td>-2.075201</td>\n",
       "      <td>-6.071172</td>\n",
       "      <td>-6.280673</td>\n",
       "      <td>-1.910324</td>\n",
       "      <td>-5.310077</td>\n",
       "      <td>merged_exon</td>\n",
       "      <td>chr1</td>\n",
       "      <td>1435523</td>\n",
       "      <td>1435821</td>\n",
       "      <td>298</td>\n",
       "    </tr>\n",
       "    <tr>\n",
       "      <th>4</th>\n",
       "      <td>chr1</td>\n",
       "      <td>1449000</td>\n",
       "      <td>1450000</td>\n",
       "      <td>225</td>\n",
       "      <td>0.258359</td>\n",
       "      <td>2.316462</td>\n",
       "      <td>0.600034</td>\n",
       "      <td>0.330975</td>\n",
       "      <td>2.319833</td>\n",
       "      <td>0.684473</td>\n",
       "      <td>0.139977</td>\n",
       "      <td>2.101117</td>\n",
       "      <td>0.520413</td>\n",
       "      <td>merged_exon</td>\n",
       "      <td>chr1</td>\n",
       "      <td>1449689</td>\n",
       "      <td>1450758</td>\n",
       "      <td>311</td>\n",
       "    </tr>\n",
       "    <tr>\n",
       "      <th>...</th>\n",
       "      <td>...</td>\n",
       "      <td>...</td>\n",
       "      <td>...</td>\n",
       "      <td>...</td>\n",
       "      <td>...</td>\n",
       "      <td>...</td>\n",
       "      <td>...</td>\n",
       "      <td>...</td>\n",
       "      <td>...</td>\n",
       "      <td>...</td>\n",
       "      <td>...</td>\n",
       "      <td>...</td>\n",
       "      <td>...</td>\n",
       "      <td>...</td>\n",
       "      <td>...</td>\n",
       "      <td>...</td>\n",
       "      <td>...</td>\n",
       "      <td>...</td>\n",
       "    </tr>\n",
       "    <tr>\n",
       "      <th>2001165</th>\n",
       "      <td>chr22</td>\n",
       "      <td>50227000</td>\n",
       "      <td>50228000</td>\n",
       "      <td>283</td>\n",
       "      <td>1.220947</td>\n",
       "      <td>3.869722</td>\n",
       "      <td>1.602955</td>\n",
       "      <td>1.340543</td>\n",
       "      <td>3.779904</td>\n",
       "      <td>1.761348</td>\n",
       "      <td>1.371285</td>\n",
       "      <td>3.723743</td>\n",
       "      <td>1.823687</td>\n",
       "      <td>merged_exon</td>\n",
       "      <td>chr22</td>\n",
       "      <td>50227907</td>\n",
       "      <td>50228028</td>\n",
       "      <td>93</td>\n",
       "    </tr>\n",
       "    <tr>\n",
       "      <th>2001166</th>\n",
       "      <td>chr22</td>\n",
       "      <td>50228000</td>\n",
       "      <td>50229000</td>\n",
       "      <td>241</td>\n",
       "      <td>-0.317039</td>\n",
       "      <td>1.935872</td>\n",
       "      <td>0.024522</td>\n",
       "      <td>-0.348897</td>\n",
       "      <td>1.724601</td>\n",
       "      <td>0.033374</td>\n",
       "      <td>-0.330285</td>\n",
       "      <td>1.729511</td>\n",
       "      <td>0.101667</td>\n",
       "      <td>enhancer</td>\n",
       "      <td>chr22</td>\n",
       "      <td>50228803</td>\n",
       "      <td>50228983</td>\n",
       "      <td>180</td>\n",
       "    </tr>\n",
       "    <tr>\n",
       "      <th>2001167</th>\n",
       "      <td>chr22</td>\n",
       "      <td>50228000</td>\n",
       "      <td>50229000</td>\n",
       "      <td>241</td>\n",
       "      <td>-0.317039</td>\n",
       "      <td>1.935872</td>\n",
       "      <td>0.024522</td>\n",
       "      <td>-0.348897</td>\n",
       "      <td>1.724601</td>\n",
       "      <td>0.033374</td>\n",
       "      <td>-0.330285</td>\n",
       "      <td>1.729511</td>\n",
       "      <td>0.101667</td>\n",
       "      <td>merged_exon</td>\n",
       "      <td>chr22</td>\n",
       "      <td>50227907</td>\n",
       "      <td>50228028</td>\n",
       "      <td>28</td>\n",
       "    </tr>\n",
       "    <tr>\n",
       "      <th>2001168</th>\n",
       "      <td>chr22</td>\n",
       "      <td>50229000</td>\n",
       "      <td>50230000</td>\n",
       "      <td>231</td>\n",
       "      <td>-1.323602</td>\n",
       "      <td>1.031312</td>\n",
       "      <td>-0.978026</td>\n",
       "      <td>-1.250236</td>\n",
       "      <td>0.939094</td>\n",
       "      <td>-0.903616</td>\n",
       "      <td>-1.225998</td>\n",
       "      <td>0.927144</td>\n",
       "      <td>-0.855868</td>\n",
       "      <td>merged_exon</td>\n",
       "      <td>chr22</td>\n",
       "      <td>50229404</td>\n",
       "      <td>50229577</td>\n",
       "      <td>173</td>\n",
       "    </tr>\n",
       "    <tr>\n",
       "      <th>2001169</th>\n",
       "      <td>chr22</td>\n",
       "      <td>50236000</td>\n",
       "      <td>50237000</td>\n",
       "      <td>218</td>\n",
       "      <td>-1.017575</td>\n",
       "      <td>1.042335</td>\n",
       "      <td>-0.695490</td>\n",
       "      <td>-0.921063</td>\n",
       "      <td>0.955275</td>\n",
       "      <td>-0.590323</td>\n",
       "      <td>-0.900742</td>\n",
       "      <td>0.866145</td>\n",
       "      <td>-0.572580</td>\n",
       "      <td>.</td>\n",
       "      <td>.</td>\n",
       "      <td>-1</td>\n",
       "      <td>-1</td>\n",
       "      <td>0</td>\n",
       "    </tr>\n",
       "  </tbody>\n",
       "</table>\n",
       "<p>2001170 rows × 18 columns</p>\n",
       "</div>"
      ],
      "text/plain": [
       "        chromosome     start       end  N_observed  N_bar_3_noncoding  \\\n",
       "0             chr1   1432000   1433000         260          -0.247615   \n",
       "1             chr1   1435000   1436000         275          -7.547130   \n",
       "2             chr1   1435000   1436000         275          -7.547130   \n",
       "3             chr1   1435000   1436000         275          -7.547130   \n",
       "4             chr1   1449000   1450000         225           0.258359   \n",
       "...            ...       ...       ...         ...                ...   \n",
       "2001165      chr22  50227000  50228000         283           1.220947   \n",
       "2001166      chr22  50228000  50229000         241          -0.317039   \n",
       "2001167      chr22  50228000  50229000         241          -0.317039   \n",
       "2001168      chr22  50229000  50230000         231          -1.323602   \n",
       "2001169      chr22  50236000  50237000         218          -1.017575   \n",
       "\n",
       "         N_bar_3_coding  N_bar_3_chenWindows  N_bar_5_noncoding  \\\n",
       "0              2.264194             0.118933          -0.339806   \n",
       "1             -2.542472            -6.944479          -6.810107   \n",
       "2             -2.542472            -6.944479          -6.810107   \n",
       "3             -2.542472            -6.944479          -6.810107   \n",
       "4              2.316462             0.600034           0.330975   \n",
       "...                 ...                  ...                ...   \n",
       "2001165        3.869722             1.602955           1.340543   \n",
       "2001166        1.935872             0.024522          -0.348897   \n",
       "2001167        1.935872             0.024522          -0.348897   \n",
       "2001168        1.031312            -0.978026          -1.250236   \n",
       "2001169        1.042335            -0.695490          -0.921063   \n",
       "\n",
       "         N_bar_5_coding  N_bar_5_chenWindows  N_bar_7_noncoding  \\\n",
       "0              1.967525             0.075982          -0.372778   \n",
       "1             -2.075201            -6.071172          -6.280673   \n",
       "2             -2.075201            -6.071172          -6.280673   \n",
       "3             -2.075201            -6.071172          -6.280673   \n",
       "4              2.319833             0.684473           0.139977   \n",
       "...                 ...                  ...                ...   \n",
       "2001165        3.779904             1.761348           1.371285   \n",
       "2001166        1.724601             0.033374          -0.330285   \n",
       "2001167        1.724601             0.033374          -0.330285   \n",
       "2001168        0.939094            -0.903616          -1.225998   \n",
       "2001169        0.955275            -0.590323          -0.900742   \n",
       "\n",
       "         N_bar_7_coding  N_bar_7_chenWindows      feature feature_chromosome  \\\n",
       "0              1.786749             0.081009     enhancer               chr1   \n",
       "1             -1.910324            -5.310077     enhancer               chr1   \n",
       "2             -1.910324            -5.310077  merged_exon               chr1   \n",
       "3             -1.910324            -5.310077  merged_exon               chr1   \n",
       "4              2.101117             0.520413  merged_exon               chr1   \n",
       "...                 ...                  ...          ...                ...   \n",
       "2001165        3.723743             1.823687  merged_exon              chr22   \n",
       "2001166        1.729511             0.101667     enhancer              chr22   \n",
       "2001167        1.729511             0.101667  merged_exon              chr22   \n",
       "2001168        0.927144            -0.855868  merged_exon              chr22   \n",
       "2001169        0.866145            -0.572580            .                  .   \n",
       "\n",
       "         feature_start  feature_end  window_feature_overlap_bps  \n",
       "0              1428218      1438733                        1000  \n",
       "1              1428218      1438733                        1000  \n",
       "2              1434861      1435146                         146  \n",
       "3              1435523      1435821                         298  \n",
       "4              1449689      1450758                         311  \n",
       "...                ...          ...                         ...  \n",
       "2001165       50227907     50228028                          93  \n",
       "2001166       50228803     50228983                         180  \n",
       "2001167       50227907     50228028                          28  \n",
       "2001168       50229404     50229577                         173  \n",
       "2001169             -1           -1                           0  \n",
       "\n",
       "[2001170 rows x 18 columns]"
      ]
     },
     "execution_count": 5,
     "metadata": {},
     "output_type": "execute_result"
    }
   ],
   "source": [
    "import pandas as pd \n",
    "\n",
    "pd.set_option('display.max_rows', 30)\n",
    "\n",
    "def get_chen_mchale_features():\n",
    "    filename = f'{CONSTRAINT_TOOLS_DATA}/benchmark-genome-wide-predictions/chen-et-al-2022/chen-mchale.kmerSizes.trainSets.overlapAmounts.bed'\n",
    "    df = pd.read_csv(filename, sep='\\t')\n",
    "    df = df.drop(columns = ['chen_zscore'])\n",
    "    return df\n",
    "\n",
    "chen_mchale_zscores_features = get_chen_mchale_features()\n",
    "chen_mchale_zscores_features"
   ]
  },
  {
   "cell_type": "markdown",
   "id": "278e6134",
   "metadata": {},
   "source": [
    "## Create single record for each window, with overlap amounts for each feature type \n",
    "\n",
    "The code in this section is identical to the corresponding code in `Fig_2a.ipynb`. "
   ]
  },
  {
   "cell_type": "code",
   "execution_count": 6,
   "id": "c9b2b2a3",
   "metadata": {},
   "outputs": [
    {
     "data": {
      "text/html": [
       "<div>\n",
       "<style scoped>\n",
       "    .dataframe tbody tr th:only-of-type {\n",
       "        vertical-align: middle;\n",
       "    }\n",
       "\n",
       "    .dataframe tbody tr th {\n",
       "        vertical-align: top;\n",
       "    }\n",
       "\n",
       "    .dataframe thead th {\n",
       "        text-align: right;\n",
       "    }\n",
       "</style>\n",
       "<table border=\"1\" class=\"dataframe\">\n",
       "  <thead>\n",
       "    <tr style=\"text-align: right;\">\n",
       "      <th></th>\n",
       "      <th>chromosome</th>\n",
       "      <th>start</th>\n",
       "      <th>end</th>\n",
       "      <th>N_observed</th>\n",
       "      <th>N_bar_3_noncoding</th>\n",
       "      <th>N_bar_3_coding</th>\n",
       "      <th>N_bar_3_chenWindows</th>\n",
       "      <th>N_bar_5_noncoding</th>\n",
       "      <th>N_bar_5_coding</th>\n",
       "      <th>N_bar_5_chenWindows</th>\n",
       "      <th>N_bar_7_noncoding</th>\n",
       "      <th>N_bar_7_coding</th>\n",
       "      <th>N_bar_7_chenWindows</th>\n",
       "      <th>feature</th>\n",
       "      <th>window_feature_overlap_bps</th>\n",
       "    </tr>\n",
       "  </thead>\n",
       "  <tbody>\n",
       "    <tr>\n",
       "      <th>0</th>\n",
       "      <td>chr1</td>\n",
       "      <td>1432000</td>\n",
       "      <td>1433000</td>\n",
       "      <td>260</td>\n",
       "      <td>-0.247615</td>\n",
       "      <td>2.264194</td>\n",
       "      <td>0.118933</td>\n",
       "      <td>-0.339806</td>\n",
       "      <td>1.967525</td>\n",
       "      <td>0.075982</td>\n",
       "      <td>-0.372778</td>\n",
       "      <td>1.786749</td>\n",
       "      <td>0.081009</td>\n",
       "      <td>enhancer</td>\n",
       "      <td>1000</td>\n",
       "    </tr>\n",
       "    <tr>\n",
       "      <th>1</th>\n",
       "      <td>chr1</td>\n",
       "      <td>1435000</td>\n",
       "      <td>1436000</td>\n",
       "      <td>275</td>\n",
       "      <td>-7.547130</td>\n",
       "      <td>-2.542472</td>\n",
       "      <td>-6.944479</td>\n",
       "      <td>-6.810107</td>\n",
       "      <td>-2.075201</td>\n",
       "      <td>-6.071172</td>\n",
       "      <td>-6.280673</td>\n",
       "      <td>-1.910324</td>\n",
       "      <td>-5.310077</td>\n",
       "      <td>enhancer</td>\n",
       "      <td>1000</td>\n",
       "    </tr>\n",
       "    <tr>\n",
       "      <th>2</th>\n",
       "      <td>chr1</td>\n",
       "      <td>1435000</td>\n",
       "      <td>1436000</td>\n",
       "      <td>275</td>\n",
       "      <td>-7.547130</td>\n",
       "      <td>-2.542472</td>\n",
       "      <td>-6.944479</td>\n",
       "      <td>-6.810107</td>\n",
       "      <td>-2.075201</td>\n",
       "      <td>-6.071172</td>\n",
       "      <td>-6.280673</td>\n",
       "      <td>-1.910324</td>\n",
       "      <td>-5.310077</td>\n",
       "      <td>merged_exon</td>\n",
       "      <td>146</td>\n",
       "    </tr>\n",
       "    <tr>\n",
       "      <th>3</th>\n",
       "      <td>chr1</td>\n",
       "      <td>1435000</td>\n",
       "      <td>1436000</td>\n",
       "      <td>275</td>\n",
       "      <td>-7.547130</td>\n",
       "      <td>-2.542472</td>\n",
       "      <td>-6.944479</td>\n",
       "      <td>-6.810107</td>\n",
       "      <td>-2.075201</td>\n",
       "      <td>-6.071172</td>\n",
       "      <td>-6.280673</td>\n",
       "      <td>-1.910324</td>\n",
       "      <td>-5.310077</td>\n",
       "      <td>merged_exon</td>\n",
       "      <td>298</td>\n",
       "    </tr>\n",
       "    <tr>\n",
       "      <th>4</th>\n",
       "      <td>chr1</td>\n",
       "      <td>1449000</td>\n",
       "      <td>1450000</td>\n",
       "      <td>225</td>\n",
       "      <td>0.258359</td>\n",
       "      <td>2.316462</td>\n",
       "      <td>0.600034</td>\n",
       "      <td>0.330975</td>\n",
       "      <td>2.319833</td>\n",
       "      <td>0.684473</td>\n",
       "      <td>0.139977</td>\n",
       "      <td>2.101117</td>\n",
       "      <td>0.520413</td>\n",
       "      <td>merged_exon</td>\n",
       "      <td>311</td>\n",
       "    </tr>\n",
       "    <tr>\n",
       "      <th>...</th>\n",
       "      <td>...</td>\n",
       "      <td>...</td>\n",
       "      <td>...</td>\n",
       "      <td>...</td>\n",
       "      <td>...</td>\n",
       "      <td>...</td>\n",
       "      <td>...</td>\n",
       "      <td>...</td>\n",
       "      <td>...</td>\n",
       "      <td>...</td>\n",
       "      <td>...</td>\n",
       "      <td>...</td>\n",
       "      <td>...</td>\n",
       "      <td>...</td>\n",
       "      <td>...</td>\n",
       "    </tr>\n",
       "    <tr>\n",
       "      <th>2001165</th>\n",
       "      <td>chr22</td>\n",
       "      <td>50227000</td>\n",
       "      <td>50228000</td>\n",
       "      <td>283</td>\n",
       "      <td>1.220947</td>\n",
       "      <td>3.869722</td>\n",
       "      <td>1.602955</td>\n",
       "      <td>1.340543</td>\n",
       "      <td>3.779904</td>\n",
       "      <td>1.761348</td>\n",
       "      <td>1.371285</td>\n",
       "      <td>3.723743</td>\n",
       "      <td>1.823687</td>\n",
       "      <td>merged_exon</td>\n",
       "      <td>93</td>\n",
       "    </tr>\n",
       "    <tr>\n",
       "      <th>2001166</th>\n",
       "      <td>chr22</td>\n",
       "      <td>50228000</td>\n",
       "      <td>50229000</td>\n",
       "      <td>241</td>\n",
       "      <td>-0.317039</td>\n",
       "      <td>1.935872</td>\n",
       "      <td>0.024522</td>\n",
       "      <td>-0.348897</td>\n",
       "      <td>1.724601</td>\n",
       "      <td>0.033374</td>\n",
       "      <td>-0.330285</td>\n",
       "      <td>1.729511</td>\n",
       "      <td>0.101667</td>\n",
       "      <td>enhancer</td>\n",
       "      <td>180</td>\n",
       "    </tr>\n",
       "    <tr>\n",
       "      <th>2001167</th>\n",
       "      <td>chr22</td>\n",
       "      <td>50228000</td>\n",
       "      <td>50229000</td>\n",
       "      <td>241</td>\n",
       "      <td>-0.317039</td>\n",
       "      <td>1.935872</td>\n",
       "      <td>0.024522</td>\n",
       "      <td>-0.348897</td>\n",
       "      <td>1.724601</td>\n",
       "      <td>0.033374</td>\n",
       "      <td>-0.330285</td>\n",
       "      <td>1.729511</td>\n",
       "      <td>0.101667</td>\n",
       "      <td>merged_exon</td>\n",
       "      <td>28</td>\n",
       "    </tr>\n",
       "    <tr>\n",
       "      <th>2001168</th>\n",
       "      <td>chr22</td>\n",
       "      <td>50229000</td>\n",
       "      <td>50230000</td>\n",
       "      <td>231</td>\n",
       "      <td>-1.323602</td>\n",
       "      <td>1.031312</td>\n",
       "      <td>-0.978026</td>\n",
       "      <td>-1.250236</td>\n",
       "      <td>0.939094</td>\n",
       "      <td>-0.903616</td>\n",
       "      <td>-1.225998</td>\n",
       "      <td>0.927144</td>\n",
       "      <td>-0.855868</td>\n",
       "      <td>merged_exon</td>\n",
       "      <td>173</td>\n",
       "    </tr>\n",
       "    <tr>\n",
       "      <th>2001169</th>\n",
       "      <td>chr22</td>\n",
       "      <td>50236000</td>\n",
       "      <td>50237000</td>\n",
       "      <td>218</td>\n",
       "      <td>-1.017575</td>\n",
       "      <td>1.042335</td>\n",
       "      <td>-0.695490</td>\n",
       "      <td>-0.921063</td>\n",
       "      <td>0.955275</td>\n",
       "      <td>-0.590323</td>\n",
       "      <td>-0.900742</td>\n",
       "      <td>0.866145</td>\n",
       "      <td>-0.572580</td>\n",
       "      <td>.</td>\n",
       "      <td>0</td>\n",
       "    </tr>\n",
       "  </tbody>\n",
       "</table>\n",
       "<p>2001170 rows × 15 columns</p>\n",
       "</div>"
      ],
      "text/plain": [
       "        chromosome     start       end  N_observed  N_bar_3_noncoding  \\\n",
       "0             chr1   1432000   1433000         260          -0.247615   \n",
       "1             chr1   1435000   1436000         275          -7.547130   \n",
       "2             chr1   1435000   1436000         275          -7.547130   \n",
       "3             chr1   1435000   1436000         275          -7.547130   \n",
       "4             chr1   1449000   1450000         225           0.258359   \n",
       "...            ...       ...       ...         ...                ...   \n",
       "2001165      chr22  50227000  50228000         283           1.220947   \n",
       "2001166      chr22  50228000  50229000         241          -0.317039   \n",
       "2001167      chr22  50228000  50229000         241          -0.317039   \n",
       "2001168      chr22  50229000  50230000         231          -1.323602   \n",
       "2001169      chr22  50236000  50237000         218          -1.017575   \n",
       "\n",
       "         N_bar_3_coding  N_bar_3_chenWindows  N_bar_5_noncoding  \\\n",
       "0              2.264194             0.118933          -0.339806   \n",
       "1             -2.542472            -6.944479          -6.810107   \n",
       "2             -2.542472            -6.944479          -6.810107   \n",
       "3             -2.542472            -6.944479          -6.810107   \n",
       "4              2.316462             0.600034           0.330975   \n",
       "...                 ...                  ...                ...   \n",
       "2001165        3.869722             1.602955           1.340543   \n",
       "2001166        1.935872             0.024522          -0.348897   \n",
       "2001167        1.935872             0.024522          -0.348897   \n",
       "2001168        1.031312            -0.978026          -1.250236   \n",
       "2001169        1.042335            -0.695490          -0.921063   \n",
       "\n",
       "         N_bar_5_coding  N_bar_5_chenWindows  N_bar_7_noncoding  \\\n",
       "0              1.967525             0.075982          -0.372778   \n",
       "1             -2.075201            -6.071172          -6.280673   \n",
       "2             -2.075201            -6.071172          -6.280673   \n",
       "3             -2.075201            -6.071172          -6.280673   \n",
       "4              2.319833             0.684473           0.139977   \n",
       "...                 ...                  ...                ...   \n",
       "2001165        3.779904             1.761348           1.371285   \n",
       "2001166        1.724601             0.033374          -0.330285   \n",
       "2001167        1.724601             0.033374          -0.330285   \n",
       "2001168        0.939094            -0.903616          -1.225998   \n",
       "2001169        0.955275            -0.590323          -0.900742   \n",
       "\n",
       "         N_bar_7_coding  N_bar_7_chenWindows      feature  \\\n",
       "0              1.786749             0.081009     enhancer   \n",
       "1             -1.910324            -5.310077     enhancer   \n",
       "2             -1.910324            -5.310077  merged_exon   \n",
       "3             -1.910324            -5.310077  merged_exon   \n",
       "4              2.101117             0.520413  merged_exon   \n",
       "...                 ...                  ...          ...   \n",
       "2001165        3.723743             1.823687  merged_exon   \n",
       "2001166        1.729511             0.101667     enhancer   \n",
       "2001167        1.729511             0.101667  merged_exon   \n",
       "2001168        0.927144            -0.855868  merged_exon   \n",
       "2001169        0.866145            -0.572580            .   \n",
       "\n",
       "         window_feature_overlap_bps  \n",
       "0                              1000  \n",
       "1                              1000  \n",
       "2                               146  \n",
       "3                               298  \n",
       "4                               311  \n",
       "...                             ...  \n",
       "2001165                          93  \n",
       "2001166                         180  \n",
       "2001167                          28  \n",
       "2001168                         173  \n",
       "2001169                           0  \n",
       "\n",
       "[2001170 rows x 15 columns]"
      ]
     },
     "execution_count": 6,
     "metadata": {},
     "output_type": "execute_result"
    }
   ],
   "source": [
    "chen_mchale_zscores_features = chen_mchale_zscores_features.drop(['feature_chromosome', 'feature_start', 'feature_end'], axis=1)\n",
    "chen_mchale_zscores_features"
   ]
  },
  {
   "cell_type": "code",
   "execution_count": 7,
   "id": "d7ec48fa",
   "metadata": {},
   "outputs": [
    {
     "data": {
      "text/plain": [
       "['chromosome',\n",
       " 'start',\n",
       " 'end',\n",
       " 'N_observed',\n",
       " 'N_bar_3_noncoding',\n",
       " 'N_bar_3_coding',\n",
       " 'N_bar_3_chenWindows',\n",
       " 'N_bar_5_noncoding',\n",
       " 'N_bar_5_coding',\n",
       " 'N_bar_5_chenWindows',\n",
       " 'N_bar_7_noncoding',\n",
       " 'N_bar_7_coding',\n",
       " 'N_bar_7_chenWindows',\n",
       " 'feature']"
      ]
     },
     "execution_count": 7,
     "metadata": {},
     "output_type": "execute_result"
    }
   ],
   "source": [
    "columns_to_group_by = [column for column in chen_mchale_zscores_features.columns if column != 'window_feature_overlap_bps']\n",
    "columns_to_group_by"
   ]
  },
  {
   "cell_type": "code",
   "execution_count": 8,
   "id": "421dd621",
   "metadata": {},
   "outputs": [
    {
     "data": {
      "text/html": [
       "<div>\n",
       "<style scoped>\n",
       "    .dataframe tbody tr th:only-of-type {\n",
       "        vertical-align: middle;\n",
       "    }\n",
       "\n",
       "    .dataframe tbody tr th {\n",
       "        vertical-align: top;\n",
       "    }\n",
       "\n",
       "    .dataframe thead th {\n",
       "        text-align: right;\n",
       "    }\n",
       "</style>\n",
       "<table border=\"1\" class=\"dataframe\">\n",
       "  <thead>\n",
       "    <tr style=\"text-align: right;\">\n",
       "      <th></th>\n",
       "      <th></th>\n",
       "      <th></th>\n",
       "      <th></th>\n",
       "      <th></th>\n",
       "      <th></th>\n",
       "      <th></th>\n",
       "      <th></th>\n",
       "      <th></th>\n",
       "      <th></th>\n",
       "      <th></th>\n",
       "      <th></th>\n",
       "      <th></th>\n",
       "      <th></th>\n",
       "      <th>window_feature_overlap_bps</th>\n",
       "    </tr>\n",
       "    <tr>\n",
       "      <th>chromosome</th>\n",
       "      <th>start</th>\n",
       "      <th>end</th>\n",
       "      <th>N_observed</th>\n",
       "      <th>N_bar_3_noncoding</th>\n",
       "      <th>N_bar_3_coding</th>\n",
       "      <th>N_bar_3_chenWindows</th>\n",
       "      <th>N_bar_5_noncoding</th>\n",
       "      <th>N_bar_5_coding</th>\n",
       "      <th>N_bar_5_chenWindows</th>\n",
       "      <th>N_bar_7_noncoding</th>\n",
       "      <th>N_bar_7_coding</th>\n",
       "      <th>N_bar_7_chenWindows</th>\n",
       "      <th>feature</th>\n",
       "      <th></th>\n",
       "    </tr>\n",
       "  </thead>\n",
       "  <tbody>\n",
       "    <tr>\n",
       "      <th rowspan=\"5\" valign=\"top\">chr1</th>\n",
       "      <th>1432000</th>\n",
       "      <th>1433000</th>\n",
       "      <th>260</th>\n",
       "      <th>-0.247615</th>\n",
       "      <th>2.264194</th>\n",
       "      <th>0.118933</th>\n",
       "      <th>-0.339806</th>\n",
       "      <th>1.967525</th>\n",
       "      <th>0.075982</th>\n",
       "      <th>-0.372778</th>\n",
       "      <th>1.786749</th>\n",
       "      <th>0.081009</th>\n",
       "      <th>enhancer</th>\n",
       "      <td>1000</td>\n",
       "    </tr>\n",
       "    <tr>\n",
       "      <th rowspan=\"2\" valign=\"top\">1435000</th>\n",
       "      <th rowspan=\"2\" valign=\"top\">1436000</th>\n",
       "      <th rowspan=\"2\" valign=\"top\">275</th>\n",
       "      <th rowspan=\"2\" valign=\"top\">-7.547130</th>\n",
       "      <th rowspan=\"2\" valign=\"top\">-2.542472</th>\n",
       "      <th rowspan=\"2\" valign=\"top\">-6.944479</th>\n",
       "      <th rowspan=\"2\" valign=\"top\">-6.810107</th>\n",
       "      <th rowspan=\"2\" valign=\"top\">-2.075201</th>\n",
       "      <th rowspan=\"2\" valign=\"top\">-6.071172</th>\n",
       "      <th rowspan=\"2\" valign=\"top\">-6.280673</th>\n",
       "      <th rowspan=\"2\" valign=\"top\">-1.910324</th>\n",
       "      <th rowspan=\"2\" valign=\"top\">-5.310077</th>\n",
       "      <th>enhancer</th>\n",
       "      <td>1000</td>\n",
       "    </tr>\n",
       "    <tr>\n",
       "      <th>merged_exon</th>\n",
       "      <td>444</td>\n",
       "    </tr>\n",
       "    <tr>\n",
       "      <th>1449000</th>\n",
       "      <th>1450000</th>\n",
       "      <th>225</th>\n",
       "      <th>0.258359</th>\n",
       "      <th>2.316462</th>\n",
       "      <th>0.600034</th>\n",
       "      <th>0.330975</th>\n",
       "      <th>2.319833</th>\n",
       "      <th>0.684473</th>\n",
       "      <th>0.139977</th>\n",
       "      <th>2.101117</th>\n",
       "      <th>0.520413</th>\n",
       "      <th>merged_exon</th>\n",
       "      <td>311</td>\n",
       "    </tr>\n",
       "    <tr>\n",
       "      <th>1450000</th>\n",
       "      <th>1451000</th>\n",
       "      <th>313</th>\n",
       "      <th>2.197534</th>\n",
       "      <th>5.178077</th>\n",
       "      <th>2.607210</th>\n",
       "      <th>2.480911</th>\n",
       "      <th>5.214801</th>\n",
       "      <th>2.933478</th>\n",
       "      <th>2.524948</th>\n",
       "      <th>5.129449</th>\n",
       "      <th>2.997041</th>\n",
       "      <th>merged_exon</th>\n",
       "      <td>758</td>\n",
       "    </tr>\n",
       "    <tr>\n",
       "      <th>...</th>\n",
       "      <th>...</th>\n",
       "      <th>...</th>\n",
       "      <th>...</th>\n",
       "      <th>...</th>\n",
       "      <th>...</th>\n",
       "      <th>...</th>\n",
       "      <th>...</th>\n",
       "      <th>...</th>\n",
       "      <th>...</th>\n",
       "      <th>...</th>\n",
       "      <th>...</th>\n",
       "      <th>...</th>\n",
       "      <th>...</th>\n",
       "      <td>...</td>\n",
       "    </tr>\n",
       "    <tr>\n",
       "      <th rowspan=\"5\" valign=\"top\">chr9</th>\n",
       "      <th rowspan=\"2\" valign=\"top\">137282000</th>\n",
       "      <th rowspan=\"2\" valign=\"top\">137283000</th>\n",
       "      <th rowspan=\"2\" valign=\"top\">211</th>\n",
       "      <th rowspan=\"2\" valign=\"top\">-1.919711</th>\n",
       "      <th rowspan=\"2\" valign=\"top\">0.252487</th>\n",
       "      <th rowspan=\"2\" valign=\"top\">-1.596114</th>\n",
       "      <th rowspan=\"2\" valign=\"top\">-1.783906</th>\n",
       "      <th rowspan=\"2\" valign=\"top\">0.278109</th>\n",
       "      <th rowspan=\"2\" valign=\"top\">-1.452829</th>\n",
       "      <th rowspan=\"2\" valign=\"top\">-1.612483</th>\n",
       "      <th rowspan=\"2\" valign=\"top\">0.278168</th>\n",
       "      <th rowspan=\"2\" valign=\"top\">-1.309697</th>\n",
       "      <th>enhancer</th>\n",
       "      <td>572</td>\n",
       "    </tr>\n",
       "    <tr>\n",
       "      <th>merged_exon</th>\n",
       "      <td>641</td>\n",
       "    </tr>\n",
       "    <tr>\n",
       "      <th>137290000</th>\n",
       "      <th>137291000</th>\n",
       "      <th>224</th>\n",
       "      <th>-0.682673</th>\n",
       "      <th>1.438412</th>\n",
       "      <th>-0.362059</th>\n",
       "      <th>-0.522518</th>\n",
       "      <th>1.394931</th>\n",
       "      <th>-0.220129</th>\n",
       "      <th>-0.215971</th>\n",
       "      <th>1.436882</th>\n",
       "      <th>0.036259</th>\n",
       "      <th>.</th>\n",
       "      <td>0</td>\n",
       "    </tr>\n",
       "    <tr>\n",
       "      <th rowspan=\"2\" valign=\"top\">137294000</th>\n",
       "      <th rowspan=\"2\" valign=\"top\">137295000</th>\n",
       "      <th rowspan=\"2\" valign=\"top\">182</th>\n",
       "      <th rowspan=\"2\" valign=\"top\">-5.749158</th>\n",
       "      <th rowspan=\"2\" valign=\"top\">-3.146285</th>\n",
       "      <th rowspan=\"2\" valign=\"top\">-5.400950</th>\n",
       "      <th rowspan=\"2\" valign=\"top\">-5.529565</th>\n",
       "      <th rowspan=\"2\" valign=\"top\">-3.076692</th>\n",
       "      <th rowspan=\"2\" valign=\"top\">-5.160589</th>\n",
       "      <th rowspan=\"2\" valign=\"top\">-5.354983</th>\n",
       "      <th rowspan=\"2\" valign=\"top\">-2.987383</th>\n",
       "      <th rowspan=\"2\" valign=\"top\">-4.948494</th>\n",
       "      <th>enhancer</th>\n",
       "      <td>1000</td>\n",
       "    </tr>\n",
       "    <tr>\n",
       "      <th>merged_exon</th>\n",
       "      <td>1000</td>\n",
       "    </tr>\n",
       "  </tbody>\n",
       "</table>\n",
       "<p>1917155 rows × 1 columns</p>\n",
       "</div>"
      ],
      "text/plain": [
       "                                                                                                                                                                                                                      window_feature_overlap_bps\n",
       "chromosome start     end       N_observed N_bar_3_noncoding N_bar_3_coding N_bar_3_chenWindows N_bar_5_noncoding N_bar_5_coding N_bar_5_chenWindows N_bar_7_noncoding N_bar_7_coding N_bar_7_chenWindows feature                                \n",
       "chr1       1432000   1433000   260        -0.247615          2.264194       0.118933           -0.339806          1.967525       0.075982           -0.372778          1.786749       0.081009           enhancer                           1000\n",
       "           1435000   1436000   275        -7.547130         -2.542472      -6.944479           -6.810107         -2.075201      -6.071172           -6.280673         -1.910324      -5.310077           enhancer                           1000\n",
       "                                                                                                                                                                                                         merged_exon                         444\n",
       "           1449000   1450000   225         0.258359          2.316462       0.600034            0.330975          2.319833       0.684473            0.139977          2.101117       0.520413           merged_exon                         311\n",
       "           1450000   1451000   313         2.197534          5.178077       2.607210            2.480911          5.214801       2.933478            2.524948          5.129449       2.997041           merged_exon                         758\n",
       "...                                                                                                                                                                                                                                          ...\n",
       "chr9       137282000 137283000 211        -1.919711          0.252487      -1.596114           -1.783906          0.278109      -1.452829           -1.612483          0.278168      -1.309697           enhancer                            572\n",
       "                                                                                                                                                                                                         merged_exon                         641\n",
       "           137290000 137291000 224        -0.682673          1.438412      -0.362059           -0.522518          1.394931      -0.220129           -0.215971          1.436882       0.036259           .                                     0\n",
       "           137294000 137295000 182        -5.749158         -3.146285      -5.400950           -5.529565         -3.076692      -5.160589           -5.354983         -2.987383      -4.948494           enhancer                           1000\n",
       "                                                                                                                                                                                                         merged_exon                        1000\n",
       "\n",
       "[1917155 rows x 1 columns]"
      ]
     },
     "execution_count": 8,
     "metadata": {},
     "output_type": "execute_result"
    }
   ],
   "source": [
    "chen_mchale_zscores_features = ( \n",
    "    chen_mchale_zscores_features\n",
    "    .groupby(columns_to_group_by)\n",
    "    .agg({'window_feature_overlap_bps': 'sum'})\n",
    ")\n",
    "chen_mchale_zscores_features"
   ]
  },
  {
   "cell_type": "code",
   "execution_count": 9,
   "id": "d44ac0a0",
   "metadata": {},
   "outputs": [
    {
     "data": {
      "text/plain": [
       "['chromosome',\n",
       " 'start',\n",
       " 'end',\n",
       " 'N_observed',\n",
       " 'N_bar_3_noncoding',\n",
       " 'N_bar_3_coding',\n",
       " 'N_bar_3_chenWindows',\n",
       " 'N_bar_5_noncoding',\n",
       " 'N_bar_5_coding',\n",
       " 'N_bar_5_chenWindows',\n",
       " 'N_bar_7_noncoding',\n",
       " 'N_bar_7_coding',\n",
       " 'N_bar_7_chenWindows']"
      ]
     },
     "execution_count": 9,
     "metadata": {},
     "output_type": "execute_result"
    }
   ],
   "source": [
    "pivot_index = [column for column in columns_to_group_by if column != 'feature']\n",
    "pivot_index "
   ]
  },
  {
   "cell_type": "code",
   "execution_count": 10,
   "id": "735fe924",
   "metadata": {},
   "outputs": [
    {
     "data": {
      "text/html": [
       "<div>\n",
       "<style scoped>\n",
       "    .dataframe tbody tr th:only-of-type {\n",
       "        vertical-align: middle;\n",
       "    }\n",
       "\n",
       "    .dataframe tbody tr th {\n",
       "        vertical-align: top;\n",
       "    }\n",
       "\n",
       "    .dataframe thead th {\n",
       "        text-align: right;\n",
       "    }\n",
       "</style>\n",
       "<table border=\"1\" class=\"dataframe\">\n",
       "  <thead>\n",
       "    <tr style=\"text-align: right;\">\n",
       "      <th></th>\n",
       "      <th>chromosome</th>\n",
       "      <th>start</th>\n",
       "      <th>end</th>\n",
       "      <th>N_observed</th>\n",
       "      <th>N_bar_3_noncoding</th>\n",
       "      <th>N_bar_3_coding</th>\n",
       "      <th>N_bar_3_chenWindows</th>\n",
       "      <th>N_bar_5_noncoding</th>\n",
       "      <th>N_bar_5_coding</th>\n",
       "      <th>N_bar_5_chenWindows</th>\n",
       "      <th>N_bar_7_noncoding</th>\n",
       "      <th>N_bar_7_coding</th>\n",
       "      <th>N_bar_7_chenWindows</th>\n",
       "      <th>enhancer overlap</th>\n",
       "      <th>merged_encode_exclude_region overlap</th>\n",
       "      <th>merged_exon overlap</th>\n",
       "      <th>merged_gap overlap</th>\n",
       "      <th>uncovered_region overlap</th>\n",
       "    </tr>\n",
       "  </thead>\n",
       "  <tbody>\n",
       "    <tr>\n",
       "      <th>0</th>\n",
       "      <td>chr1</td>\n",
       "      <td>1432000</td>\n",
       "      <td>1433000</td>\n",
       "      <td>260</td>\n",
       "      <td>-0.247615</td>\n",
       "      <td>2.264194</td>\n",
       "      <td>0.118933</td>\n",
       "      <td>-0.339806</td>\n",
       "      <td>1.967525</td>\n",
       "      <td>0.075982</td>\n",
       "      <td>-0.372778</td>\n",
       "      <td>1.786749</td>\n",
       "      <td>0.081009</td>\n",
       "      <td>1000.0</td>\n",
       "      <td>NaN</td>\n",
       "      <td>NaN</td>\n",
       "      <td>NaN</td>\n",
       "      <td>NaN</td>\n",
       "    </tr>\n",
       "    <tr>\n",
       "      <th>1</th>\n",
       "      <td>chr1</td>\n",
       "      <td>1435000</td>\n",
       "      <td>1436000</td>\n",
       "      <td>275</td>\n",
       "      <td>-7.547130</td>\n",
       "      <td>-2.542472</td>\n",
       "      <td>-6.944479</td>\n",
       "      <td>-6.810107</td>\n",
       "      <td>-2.075201</td>\n",
       "      <td>-6.071172</td>\n",
       "      <td>-6.280673</td>\n",
       "      <td>-1.910324</td>\n",
       "      <td>-5.310077</td>\n",
       "      <td>1000.0</td>\n",
       "      <td>NaN</td>\n",
       "      <td>444.0</td>\n",
       "      <td>NaN</td>\n",
       "      <td>NaN</td>\n",
       "    </tr>\n",
       "    <tr>\n",
       "      <th>2</th>\n",
       "      <td>chr1</td>\n",
       "      <td>1449000</td>\n",
       "      <td>1450000</td>\n",
       "      <td>225</td>\n",
       "      <td>0.258359</td>\n",
       "      <td>2.316462</td>\n",
       "      <td>0.600034</td>\n",
       "      <td>0.330975</td>\n",
       "      <td>2.319833</td>\n",
       "      <td>0.684473</td>\n",
       "      <td>0.139977</td>\n",
       "      <td>2.101117</td>\n",
       "      <td>0.520413</td>\n",
       "      <td>NaN</td>\n",
       "      <td>NaN</td>\n",
       "      <td>311.0</td>\n",
       "      <td>NaN</td>\n",
       "      <td>NaN</td>\n",
       "    </tr>\n",
       "    <tr>\n",
       "      <th>3</th>\n",
       "      <td>chr1</td>\n",
       "      <td>1450000</td>\n",
       "      <td>1451000</td>\n",
       "      <td>313</td>\n",
       "      <td>2.197534</td>\n",
       "      <td>5.178077</td>\n",
       "      <td>2.607210</td>\n",
       "      <td>2.480911</td>\n",
       "      <td>5.214801</td>\n",
       "      <td>2.933478</td>\n",
       "      <td>2.524948</td>\n",
       "      <td>5.129449</td>\n",
       "      <td>2.997041</td>\n",
       "      <td>NaN</td>\n",
       "      <td>NaN</td>\n",
       "      <td>758.0</td>\n",
       "      <td>NaN</td>\n",
       "      <td>NaN</td>\n",
       "    </tr>\n",
       "    <tr>\n",
       "      <th>4</th>\n",
       "      <td>chr1</td>\n",
       "      <td>1451000</td>\n",
       "      <td>1452000</td>\n",
       "      <td>293</td>\n",
       "      <td>2.367303</td>\n",
       "      <td>5.056714</td>\n",
       "      <td>2.758334</td>\n",
       "      <td>2.725116</td>\n",
       "      <td>5.216863</td>\n",
       "      <td>3.145152</td>\n",
       "      <td>2.951595</td>\n",
       "      <td>5.311666</td>\n",
       "      <td>3.382963</td>\n",
       "      <td>NaN</td>\n",
       "      <td>NaN</td>\n",
       "      <td>NaN</td>\n",
       "      <td>NaN</td>\n",
       "      <td>NaN</td>\n",
       "    </tr>\n",
       "    <tr>\n",
       "      <th>...</th>\n",
       "      <td>...</td>\n",
       "      <td>...</td>\n",
       "      <td>...</td>\n",
       "      <td>...</td>\n",
       "      <td>...</td>\n",
       "      <td>...</td>\n",
       "      <td>...</td>\n",
       "      <td>...</td>\n",
       "      <td>...</td>\n",
       "      <td>...</td>\n",
       "      <td>...</td>\n",
       "      <td>...</td>\n",
       "      <td>...</td>\n",
       "      <td>...</td>\n",
       "      <td>...</td>\n",
       "      <td>...</td>\n",
       "      <td>...</td>\n",
       "      <td>...</td>\n",
       "    </tr>\n",
       "    <tr>\n",
       "      <th>1796995</th>\n",
       "      <td>chr9</td>\n",
       "      <td>137269000</td>\n",
       "      <td>137270000</td>\n",
       "      <td>210</td>\n",
       "      <td>-3.445370</td>\n",
       "      <td>-0.925010</td>\n",
       "      <td>-3.097011</td>\n",
       "      <td>-3.228932</td>\n",
       "      <td>-0.881123</td>\n",
       "      <td>-2.872507</td>\n",
       "      <td>-3.060479</td>\n",
       "      <td>-0.742758</td>\n",
       "      <td>-2.657076</td>\n",
       "      <td>1000.0</td>\n",
       "      <td>NaN</td>\n",
       "      <td>NaN</td>\n",
       "      <td>NaN</td>\n",
       "      <td>NaN</td>\n",
       "    </tr>\n",
       "    <tr>\n",
       "      <th>1796996</th>\n",
       "      <td>chr9</td>\n",
       "      <td>137275000</td>\n",
       "      <td>137276000</td>\n",
       "      <td>296</td>\n",
       "      <td>1.921453</td>\n",
       "      <td>4.684512</td>\n",
       "      <td>2.318246</td>\n",
       "      <td>1.974808</td>\n",
       "      <td>4.515817</td>\n",
       "      <td>2.405245</td>\n",
       "      <td>1.990841</td>\n",
       "      <td>4.391365</td>\n",
       "      <td>2.417947</td>\n",
       "      <td>712.0</td>\n",
       "      <td>NaN</td>\n",
       "      <td>NaN</td>\n",
       "      <td>NaN</td>\n",
       "      <td>NaN</td>\n",
       "    </tr>\n",
       "    <tr>\n",
       "      <th>1796997</th>\n",
       "      <td>chr9</td>\n",
       "      <td>137282000</td>\n",
       "      <td>137283000</td>\n",
       "      <td>211</td>\n",
       "      <td>-1.919711</td>\n",
       "      <td>0.252487</td>\n",
       "      <td>-1.596114</td>\n",
       "      <td>-1.783906</td>\n",
       "      <td>0.278109</td>\n",
       "      <td>-1.452829</td>\n",
       "      <td>-1.612483</td>\n",
       "      <td>0.278168</td>\n",
       "      <td>-1.309697</td>\n",
       "      <td>572.0</td>\n",
       "      <td>NaN</td>\n",
       "      <td>641.0</td>\n",
       "      <td>NaN</td>\n",
       "      <td>NaN</td>\n",
       "    </tr>\n",
       "    <tr>\n",
       "      <th>1796998</th>\n",
       "      <td>chr9</td>\n",
       "      <td>137290000</td>\n",
       "      <td>137291000</td>\n",
       "      <td>224</td>\n",
       "      <td>-0.682673</td>\n",
       "      <td>1.438412</td>\n",
       "      <td>-0.362059</td>\n",
       "      <td>-0.522518</td>\n",
       "      <td>1.394931</td>\n",
       "      <td>-0.220129</td>\n",
       "      <td>-0.215971</td>\n",
       "      <td>1.436882</td>\n",
       "      <td>0.036259</td>\n",
       "      <td>NaN</td>\n",
       "      <td>NaN</td>\n",
       "      <td>NaN</td>\n",
       "      <td>NaN</td>\n",
       "      <td>NaN</td>\n",
       "    </tr>\n",
       "    <tr>\n",
       "      <th>1796999</th>\n",
       "      <td>chr9</td>\n",
       "      <td>137294000</td>\n",
       "      <td>137295000</td>\n",
       "      <td>182</td>\n",
       "      <td>-5.749158</td>\n",
       "      <td>-3.146285</td>\n",
       "      <td>-5.400950</td>\n",
       "      <td>-5.529565</td>\n",
       "      <td>-3.076692</td>\n",
       "      <td>-5.160589</td>\n",
       "      <td>-5.354983</td>\n",
       "      <td>-2.987383</td>\n",
       "      <td>-4.948494</td>\n",
       "      <td>1000.0</td>\n",
       "      <td>NaN</td>\n",
       "      <td>1000.0</td>\n",
       "      <td>NaN</td>\n",
       "      <td>NaN</td>\n",
       "    </tr>\n",
       "  </tbody>\n",
       "</table>\n",
       "<p>1797000 rows × 18 columns</p>\n",
       "</div>"
      ],
      "text/plain": [
       "        chromosome      start        end  N_observed  N_bar_3_noncoding  \\\n",
       "0             chr1    1432000    1433000         260          -0.247615   \n",
       "1             chr1    1435000    1436000         275          -7.547130   \n",
       "2             chr1    1449000    1450000         225           0.258359   \n",
       "3             chr1    1450000    1451000         313           2.197534   \n",
       "4             chr1    1451000    1452000         293           2.367303   \n",
       "...            ...        ...        ...         ...                ...   \n",
       "1796995       chr9  137269000  137270000         210          -3.445370   \n",
       "1796996       chr9  137275000  137276000         296           1.921453   \n",
       "1796997       chr9  137282000  137283000         211          -1.919711   \n",
       "1796998       chr9  137290000  137291000         224          -0.682673   \n",
       "1796999       chr9  137294000  137295000         182          -5.749158   \n",
       "\n",
       "         N_bar_3_coding  N_bar_3_chenWindows  N_bar_5_noncoding  \\\n",
       "0              2.264194             0.118933          -0.339806   \n",
       "1             -2.542472            -6.944479          -6.810107   \n",
       "2              2.316462             0.600034           0.330975   \n",
       "3              5.178077             2.607210           2.480911   \n",
       "4              5.056714             2.758334           2.725116   \n",
       "...                 ...                  ...                ...   \n",
       "1796995       -0.925010            -3.097011          -3.228932   \n",
       "1796996        4.684512             2.318246           1.974808   \n",
       "1796997        0.252487            -1.596114          -1.783906   \n",
       "1796998        1.438412            -0.362059          -0.522518   \n",
       "1796999       -3.146285            -5.400950          -5.529565   \n",
       "\n",
       "         N_bar_5_coding  N_bar_5_chenWindows  N_bar_7_noncoding  \\\n",
       "0              1.967525             0.075982          -0.372778   \n",
       "1             -2.075201            -6.071172          -6.280673   \n",
       "2              2.319833             0.684473           0.139977   \n",
       "3              5.214801             2.933478           2.524948   \n",
       "4              5.216863             3.145152           2.951595   \n",
       "...                 ...                  ...                ...   \n",
       "1796995       -0.881123            -2.872507          -3.060479   \n",
       "1796996        4.515817             2.405245           1.990841   \n",
       "1796997        0.278109            -1.452829          -1.612483   \n",
       "1796998        1.394931            -0.220129          -0.215971   \n",
       "1796999       -3.076692            -5.160589          -5.354983   \n",
       "\n",
       "         N_bar_7_coding  N_bar_7_chenWindows  enhancer overlap  \\\n",
       "0              1.786749             0.081009            1000.0   \n",
       "1             -1.910324            -5.310077            1000.0   \n",
       "2              2.101117             0.520413               NaN   \n",
       "3              5.129449             2.997041               NaN   \n",
       "4              5.311666             3.382963               NaN   \n",
       "...                 ...                  ...               ...   \n",
       "1796995       -0.742758            -2.657076            1000.0   \n",
       "1796996        4.391365             2.417947             712.0   \n",
       "1796997        0.278168            -1.309697             572.0   \n",
       "1796998        1.436882             0.036259               NaN   \n",
       "1796999       -2.987383            -4.948494            1000.0   \n",
       "\n",
       "         merged_encode_exclude_region overlap  merged_exon overlap  \\\n",
       "0                                         NaN                  NaN   \n",
       "1                                         NaN                444.0   \n",
       "2                                         NaN                311.0   \n",
       "3                                         NaN                758.0   \n",
       "4                                         NaN                  NaN   \n",
       "...                                       ...                  ...   \n",
       "1796995                                   NaN                  NaN   \n",
       "1796996                                   NaN                  NaN   \n",
       "1796997                                   NaN                641.0   \n",
       "1796998                                   NaN                  NaN   \n",
       "1796999                                   NaN               1000.0   \n",
       "\n",
       "         merged_gap overlap  uncovered_region overlap  \n",
       "0                       NaN                       NaN  \n",
       "1                       NaN                       NaN  \n",
       "2                       NaN                       NaN  \n",
       "3                       NaN                       NaN  \n",
       "4                       NaN                       NaN  \n",
       "...                     ...                       ...  \n",
       "1796995                 NaN                       NaN  \n",
       "1796996                 NaN                       NaN  \n",
       "1796997                 NaN                       NaN  \n",
       "1796998                 NaN                       NaN  \n",
       "1796999                 NaN                       NaN  \n",
       "\n",
       "[1797000 rows x 18 columns]"
      ]
     },
     "execution_count": 10,
     "metadata": {},
     "output_type": "execute_result"
    }
   ],
   "source": [
    "# https://pandas.pydata.org/pandas-docs/stable/user_guide/reshaping.html#reshaping-by-pivoting-dataframe-objects\n",
    "# pivoting is possible in SQL too, but it is clunky: https://www.databricks.com/blog/2018/11/01/sql-pivot-converting-rows-to-columns.html\n",
    "chen_mchale_zscores_features = (\n",
    "    chen_mchale_zscores_features\n",
    "    .reset_index()\n",
    "    .pivot(\n",
    "        index = pivot_index, \n",
    "        columns = \"feature\", \n",
    "        values = \"window_feature_overlap_bps\"\n",
    "    )\n",
    "    .drop(['.'], axis=1)\n",
    "    .add_suffix(' overlap')\n",
    "    .reset_index()\n",
    ")\n",
    "chen_mchale_zscores_features.columns.name = None\n",
    "chen_mchale_zscores_features"
   ]
  },
  {
   "cell_type": "code",
   "execution_count": null,
   "id": "81375b92",
   "metadata": {},
   "outputs": [],
   "source": [
    "# Note: the groupby followed by pivot strategy, implemented above,\n",
    "# could be achieved in one step using pivot tables: \n",
    "# https://pandas.pydata.org/pandas-docs/stable/user_guide/reshaping.html#pivoting-with-single-aggregations"
   ]
  },
  {
   "cell_type": "markdown",
   "id": "7d2e66aa",
   "metadata": {},
   "source": [
    "## Throw out non-trustworthy windows, and classify the remainder according to whether they appreciably overlap enhancers or exons \n",
    "\n",
    "The code in this section is identical to the corresponding code in `Fig_2a.ipynb`."
   ]
  },
  {
   "cell_type": "code",
   "execution_count": 11,
   "id": "42de13aa",
   "metadata": {},
   "outputs": [
    {
     "data": {
      "text/html": [
       "<div>\n",
       "<style scoped>\n",
       "    .dataframe tbody tr th:only-of-type {\n",
       "        vertical-align: middle;\n",
       "    }\n",
       "\n",
       "    .dataframe tbody tr th {\n",
       "        vertical-align: top;\n",
       "    }\n",
       "\n",
       "    .dataframe thead th {\n",
       "        text-align: right;\n",
       "    }\n",
       "</style>\n",
       "<table border=\"1\" class=\"dataframe\">\n",
       "  <thead>\n",
       "    <tr style=\"text-align: right;\">\n",
       "      <th></th>\n",
       "      <th>chromosome</th>\n",
       "      <th>start</th>\n",
       "      <th>end</th>\n",
       "      <th>N_observed</th>\n",
       "      <th>N_bar_3_noncoding</th>\n",
       "      <th>N_bar_3_coding</th>\n",
       "      <th>N_bar_3_chenWindows</th>\n",
       "      <th>N_bar_5_noncoding</th>\n",
       "      <th>N_bar_5_coding</th>\n",
       "      <th>N_bar_5_chenWindows</th>\n",
       "      <th>N_bar_7_noncoding</th>\n",
       "      <th>N_bar_7_coding</th>\n",
       "      <th>N_bar_7_chenWindows</th>\n",
       "      <th>enhancer overlap</th>\n",
       "      <th>merged_encode_exclude_region overlap</th>\n",
       "      <th>merged_exon overlap</th>\n",
       "      <th>merged_gap overlap</th>\n",
       "      <th>uncovered_region overlap</th>\n",
       "      <th>window overlaps enhancer</th>\n",
       "      <th>window overlaps merged_encode_exclude_region</th>\n",
       "      <th>window overlaps merged_exon</th>\n",
       "      <th>window overlaps merged_gap</th>\n",
       "      <th>window overlaps uncovered_region</th>\n",
       "    </tr>\n",
       "  </thead>\n",
       "  <tbody>\n",
       "    <tr>\n",
       "      <th>0</th>\n",
       "      <td>chr1</td>\n",
       "      <td>1432000</td>\n",
       "      <td>1433000</td>\n",
       "      <td>260</td>\n",
       "      <td>-0.247615</td>\n",
       "      <td>2.264194</td>\n",
       "      <td>0.118933</td>\n",
       "      <td>-0.339806</td>\n",
       "      <td>1.967525</td>\n",
       "      <td>0.075982</td>\n",
       "      <td>-0.372778</td>\n",
       "      <td>1.786749</td>\n",
       "      <td>0.081009</td>\n",
       "      <td>1000.0</td>\n",
       "      <td>NaN</td>\n",
       "      <td>NaN</td>\n",
       "      <td>NaN</td>\n",
       "      <td>NaN</td>\n",
       "      <td>True</td>\n",
       "      <td>False</td>\n",
       "      <td>False</td>\n",
       "      <td>False</td>\n",
       "      <td>False</td>\n",
       "    </tr>\n",
       "    <tr>\n",
       "      <th>1</th>\n",
       "      <td>chr1</td>\n",
       "      <td>1435000</td>\n",
       "      <td>1436000</td>\n",
       "      <td>275</td>\n",
       "      <td>-7.547130</td>\n",
       "      <td>-2.542472</td>\n",
       "      <td>-6.944479</td>\n",
       "      <td>-6.810107</td>\n",
       "      <td>-2.075201</td>\n",
       "      <td>-6.071172</td>\n",
       "      <td>-6.280673</td>\n",
       "      <td>-1.910324</td>\n",
       "      <td>-5.310077</td>\n",
       "      <td>1000.0</td>\n",
       "      <td>NaN</td>\n",
       "      <td>444.0</td>\n",
       "      <td>NaN</td>\n",
       "      <td>NaN</td>\n",
       "      <td>True</td>\n",
       "      <td>False</td>\n",
       "      <td>True</td>\n",
       "      <td>False</td>\n",
       "      <td>False</td>\n",
       "    </tr>\n",
       "    <tr>\n",
       "      <th>2</th>\n",
       "      <td>chr1</td>\n",
       "      <td>1449000</td>\n",
       "      <td>1450000</td>\n",
       "      <td>225</td>\n",
       "      <td>0.258359</td>\n",
       "      <td>2.316462</td>\n",
       "      <td>0.600034</td>\n",
       "      <td>0.330975</td>\n",
       "      <td>2.319833</td>\n",
       "      <td>0.684473</td>\n",
       "      <td>0.139977</td>\n",
       "      <td>2.101117</td>\n",
       "      <td>0.520413</td>\n",
       "      <td>NaN</td>\n",
       "      <td>NaN</td>\n",
       "      <td>311.0</td>\n",
       "      <td>NaN</td>\n",
       "      <td>NaN</td>\n",
       "      <td>False</td>\n",
       "      <td>False</td>\n",
       "      <td>True</td>\n",
       "      <td>False</td>\n",
       "      <td>False</td>\n",
       "    </tr>\n",
       "    <tr>\n",
       "      <th>3</th>\n",
       "      <td>chr1</td>\n",
       "      <td>1450000</td>\n",
       "      <td>1451000</td>\n",
       "      <td>313</td>\n",
       "      <td>2.197534</td>\n",
       "      <td>5.178077</td>\n",
       "      <td>2.607210</td>\n",
       "      <td>2.480911</td>\n",
       "      <td>5.214801</td>\n",
       "      <td>2.933478</td>\n",
       "      <td>2.524948</td>\n",
       "      <td>5.129449</td>\n",
       "      <td>2.997041</td>\n",
       "      <td>NaN</td>\n",
       "      <td>NaN</td>\n",
       "      <td>758.0</td>\n",
       "      <td>NaN</td>\n",
       "      <td>NaN</td>\n",
       "      <td>False</td>\n",
       "      <td>False</td>\n",
       "      <td>True</td>\n",
       "      <td>False</td>\n",
       "      <td>False</td>\n",
       "    </tr>\n",
       "    <tr>\n",
       "      <th>4</th>\n",
       "      <td>chr1</td>\n",
       "      <td>1451000</td>\n",
       "      <td>1452000</td>\n",
       "      <td>293</td>\n",
       "      <td>2.367303</td>\n",
       "      <td>5.056714</td>\n",
       "      <td>2.758334</td>\n",
       "      <td>2.725116</td>\n",
       "      <td>5.216863</td>\n",
       "      <td>3.145152</td>\n",
       "      <td>2.951595</td>\n",
       "      <td>5.311666</td>\n",
       "      <td>3.382963</td>\n",
       "      <td>NaN</td>\n",
       "      <td>NaN</td>\n",
       "      <td>NaN</td>\n",
       "      <td>NaN</td>\n",
       "      <td>NaN</td>\n",
       "      <td>False</td>\n",
       "      <td>False</td>\n",
       "      <td>False</td>\n",
       "      <td>False</td>\n",
       "      <td>False</td>\n",
       "    </tr>\n",
       "    <tr>\n",
       "      <th>...</th>\n",
       "      <td>...</td>\n",
       "      <td>...</td>\n",
       "      <td>...</td>\n",
       "      <td>...</td>\n",
       "      <td>...</td>\n",
       "      <td>...</td>\n",
       "      <td>...</td>\n",
       "      <td>...</td>\n",
       "      <td>...</td>\n",
       "      <td>...</td>\n",
       "      <td>...</td>\n",
       "      <td>...</td>\n",
       "      <td>...</td>\n",
       "      <td>...</td>\n",
       "      <td>...</td>\n",
       "      <td>...</td>\n",
       "      <td>...</td>\n",
       "      <td>...</td>\n",
       "      <td>...</td>\n",
       "      <td>...</td>\n",
       "      <td>...</td>\n",
       "      <td>...</td>\n",
       "      <td>...</td>\n",
       "    </tr>\n",
       "    <tr>\n",
       "      <th>1796995</th>\n",
       "      <td>chr9</td>\n",
       "      <td>137269000</td>\n",
       "      <td>137270000</td>\n",
       "      <td>210</td>\n",
       "      <td>-3.445370</td>\n",
       "      <td>-0.925010</td>\n",
       "      <td>-3.097011</td>\n",
       "      <td>-3.228932</td>\n",
       "      <td>-0.881123</td>\n",
       "      <td>-2.872507</td>\n",
       "      <td>-3.060479</td>\n",
       "      <td>-0.742758</td>\n",
       "      <td>-2.657076</td>\n",
       "      <td>1000.0</td>\n",
       "      <td>NaN</td>\n",
       "      <td>NaN</td>\n",
       "      <td>NaN</td>\n",
       "      <td>NaN</td>\n",
       "      <td>True</td>\n",
       "      <td>False</td>\n",
       "      <td>False</td>\n",
       "      <td>False</td>\n",
       "      <td>False</td>\n",
       "    </tr>\n",
       "    <tr>\n",
       "      <th>1796996</th>\n",
       "      <td>chr9</td>\n",
       "      <td>137275000</td>\n",
       "      <td>137276000</td>\n",
       "      <td>296</td>\n",
       "      <td>1.921453</td>\n",
       "      <td>4.684512</td>\n",
       "      <td>2.318246</td>\n",
       "      <td>1.974808</td>\n",
       "      <td>4.515817</td>\n",
       "      <td>2.405245</td>\n",
       "      <td>1.990841</td>\n",
       "      <td>4.391365</td>\n",
       "      <td>2.417947</td>\n",
       "      <td>712.0</td>\n",
       "      <td>NaN</td>\n",
       "      <td>NaN</td>\n",
       "      <td>NaN</td>\n",
       "      <td>NaN</td>\n",
       "      <td>True</td>\n",
       "      <td>False</td>\n",
       "      <td>False</td>\n",
       "      <td>False</td>\n",
       "      <td>False</td>\n",
       "    </tr>\n",
       "    <tr>\n",
       "      <th>1796997</th>\n",
       "      <td>chr9</td>\n",
       "      <td>137282000</td>\n",
       "      <td>137283000</td>\n",
       "      <td>211</td>\n",
       "      <td>-1.919711</td>\n",
       "      <td>0.252487</td>\n",
       "      <td>-1.596114</td>\n",
       "      <td>-1.783906</td>\n",
       "      <td>0.278109</td>\n",
       "      <td>-1.452829</td>\n",
       "      <td>-1.612483</td>\n",
       "      <td>0.278168</td>\n",
       "      <td>-1.309697</td>\n",
       "      <td>572.0</td>\n",
       "      <td>NaN</td>\n",
       "      <td>641.0</td>\n",
       "      <td>NaN</td>\n",
       "      <td>NaN</td>\n",
       "      <td>True</td>\n",
       "      <td>False</td>\n",
       "      <td>True</td>\n",
       "      <td>False</td>\n",
       "      <td>False</td>\n",
       "    </tr>\n",
       "    <tr>\n",
       "      <th>1796998</th>\n",
       "      <td>chr9</td>\n",
       "      <td>137290000</td>\n",
       "      <td>137291000</td>\n",
       "      <td>224</td>\n",
       "      <td>-0.682673</td>\n",
       "      <td>1.438412</td>\n",
       "      <td>-0.362059</td>\n",
       "      <td>-0.522518</td>\n",
       "      <td>1.394931</td>\n",
       "      <td>-0.220129</td>\n",
       "      <td>-0.215971</td>\n",
       "      <td>1.436882</td>\n",
       "      <td>0.036259</td>\n",
       "      <td>NaN</td>\n",
       "      <td>NaN</td>\n",
       "      <td>NaN</td>\n",
       "      <td>NaN</td>\n",
       "      <td>NaN</td>\n",
       "      <td>False</td>\n",
       "      <td>False</td>\n",
       "      <td>False</td>\n",
       "      <td>False</td>\n",
       "      <td>False</td>\n",
       "    </tr>\n",
       "    <tr>\n",
       "      <th>1796999</th>\n",
       "      <td>chr9</td>\n",
       "      <td>137294000</td>\n",
       "      <td>137295000</td>\n",
       "      <td>182</td>\n",
       "      <td>-5.749158</td>\n",
       "      <td>-3.146285</td>\n",
       "      <td>-5.400950</td>\n",
       "      <td>-5.529565</td>\n",
       "      <td>-3.076692</td>\n",
       "      <td>-5.160589</td>\n",
       "      <td>-5.354983</td>\n",
       "      <td>-2.987383</td>\n",
       "      <td>-4.948494</td>\n",
       "      <td>1000.0</td>\n",
       "      <td>NaN</td>\n",
       "      <td>1000.0</td>\n",
       "      <td>NaN</td>\n",
       "      <td>NaN</td>\n",
       "      <td>True</td>\n",
       "      <td>False</td>\n",
       "      <td>True</td>\n",
       "      <td>False</td>\n",
       "      <td>False</td>\n",
       "    </tr>\n",
       "  </tbody>\n",
       "</table>\n",
       "<p>1797000 rows × 23 columns</p>\n",
       "</div>"
      ],
      "text/plain": [
       "        chromosome      start        end  N_observed  N_bar_3_noncoding  \\\n",
       "0             chr1    1432000    1433000         260          -0.247615   \n",
       "1             chr1    1435000    1436000         275          -7.547130   \n",
       "2             chr1    1449000    1450000         225           0.258359   \n",
       "3             chr1    1450000    1451000         313           2.197534   \n",
       "4             chr1    1451000    1452000         293           2.367303   \n",
       "...            ...        ...        ...         ...                ...   \n",
       "1796995       chr9  137269000  137270000         210          -3.445370   \n",
       "1796996       chr9  137275000  137276000         296           1.921453   \n",
       "1796997       chr9  137282000  137283000         211          -1.919711   \n",
       "1796998       chr9  137290000  137291000         224          -0.682673   \n",
       "1796999       chr9  137294000  137295000         182          -5.749158   \n",
       "\n",
       "         N_bar_3_coding  N_bar_3_chenWindows  N_bar_5_noncoding  \\\n",
       "0              2.264194             0.118933          -0.339806   \n",
       "1             -2.542472            -6.944479          -6.810107   \n",
       "2              2.316462             0.600034           0.330975   \n",
       "3              5.178077             2.607210           2.480911   \n",
       "4              5.056714             2.758334           2.725116   \n",
       "...                 ...                  ...                ...   \n",
       "1796995       -0.925010            -3.097011          -3.228932   \n",
       "1796996        4.684512             2.318246           1.974808   \n",
       "1796997        0.252487            -1.596114          -1.783906   \n",
       "1796998        1.438412            -0.362059          -0.522518   \n",
       "1796999       -3.146285            -5.400950          -5.529565   \n",
       "\n",
       "         N_bar_5_coding  N_bar_5_chenWindows  N_bar_7_noncoding  \\\n",
       "0              1.967525             0.075982          -0.372778   \n",
       "1             -2.075201            -6.071172          -6.280673   \n",
       "2              2.319833             0.684473           0.139977   \n",
       "3              5.214801             2.933478           2.524948   \n",
       "4              5.216863             3.145152           2.951595   \n",
       "...                 ...                  ...                ...   \n",
       "1796995       -0.881123            -2.872507          -3.060479   \n",
       "1796996        4.515817             2.405245           1.990841   \n",
       "1796997        0.278109            -1.452829          -1.612483   \n",
       "1796998        1.394931            -0.220129          -0.215971   \n",
       "1796999       -3.076692            -5.160589          -5.354983   \n",
       "\n",
       "         N_bar_7_coding  N_bar_7_chenWindows  enhancer overlap  \\\n",
       "0              1.786749             0.081009            1000.0   \n",
       "1             -1.910324            -5.310077            1000.0   \n",
       "2              2.101117             0.520413               NaN   \n",
       "3              5.129449             2.997041               NaN   \n",
       "4              5.311666             3.382963               NaN   \n",
       "...                 ...                  ...               ...   \n",
       "1796995       -0.742758            -2.657076            1000.0   \n",
       "1796996        4.391365             2.417947             712.0   \n",
       "1796997        0.278168            -1.309697             572.0   \n",
       "1796998        1.436882             0.036259               NaN   \n",
       "1796999       -2.987383            -4.948494            1000.0   \n",
       "\n",
       "         merged_encode_exclude_region overlap  merged_exon overlap  \\\n",
       "0                                         NaN                  NaN   \n",
       "1                                         NaN                444.0   \n",
       "2                                         NaN                311.0   \n",
       "3                                         NaN                758.0   \n",
       "4                                         NaN                  NaN   \n",
       "...                                       ...                  ...   \n",
       "1796995                                   NaN                  NaN   \n",
       "1796996                                   NaN                  NaN   \n",
       "1796997                                   NaN                641.0   \n",
       "1796998                                   NaN                  NaN   \n",
       "1796999                                   NaN               1000.0   \n",
       "\n",
       "         merged_gap overlap  uncovered_region overlap  \\\n",
       "0                       NaN                       NaN   \n",
       "1                       NaN                       NaN   \n",
       "2                       NaN                       NaN   \n",
       "3                       NaN                       NaN   \n",
       "4                       NaN                       NaN   \n",
       "...                     ...                       ...   \n",
       "1796995                 NaN                       NaN   \n",
       "1796996                 NaN                       NaN   \n",
       "1796997                 NaN                       NaN   \n",
       "1796998                 NaN                       NaN   \n",
       "1796999                 NaN                       NaN   \n",
       "\n",
       "        window overlaps enhancer  \\\n",
       "0                           True   \n",
       "1                           True   \n",
       "2                          False   \n",
       "3                          False   \n",
       "4                          False   \n",
       "...                          ...   \n",
       "1796995                     True   \n",
       "1796996                     True   \n",
       "1796997                     True   \n",
       "1796998                    False   \n",
       "1796999                     True   \n",
       "\n",
       "         window overlaps merged_encode_exclude_region  \\\n",
       "0                                               False   \n",
       "1                                               False   \n",
       "2                                               False   \n",
       "3                                               False   \n",
       "4                                               False   \n",
       "...                                               ...   \n",
       "1796995                                         False   \n",
       "1796996                                         False   \n",
       "1796997                                         False   \n",
       "1796998                                         False   \n",
       "1796999                                         False   \n",
       "\n",
       "        window overlaps merged_exon  window overlaps merged_gap  \\\n",
       "0                             False                       False   \n",
       "1                              True                       False   \n",
       "2                              True                       False   \n",
       "3                              True                       False   \n",
       "4                             False                       False   \n",
       "...                             ...                         ...   \n",
       "1796995                       False                       False   \n",
       "1796996                       False                       False   \n",
       "1796997                        True                       False   \n",
       "1796998                       False                       False   \n",
       "1796999                        True                       False   \n",
       "\n",
       "         window overlaps uncovered_region  \n",
       "0                                   False  \n",
       "1                                   False  \n",
       "2                                   False  \n",
       "3                                   False  \n",
       "4                                   False  \n",
       "...                                   ...  \n",
       "1796995                             False  \n",
       "1796996                             False  \n",
       "1796997                             False  \n",
       "1796998                             False  \n",
       "1796999                             False  \n",
       "\n",
       "[1797000 rows x 23 columns]"
      ]
     },
     "execution_count": 11,
     "metadata": {},
     "output_type": "execute_result"
    }
   ],
   "source": [
    "def classify(df, feature, min_overlap): \n",
    "    def overlaps_enhancer(overlap): \n",
    "        if pd.isna(overlap): \n",
    "            return False\n",
    "        if overlap > min_overlap: \n",
    "            return True \n",
    "        return 'ambiguous'\n",
    "\n",
    "    df[f'window overlaps {feature}'] = df[f'{feature} overlap'].apply(overlaps_enhancer)\n",
    "    return df\n",
    "    \n",
    "def classify_all(df): \n",
    "    for feature, min_overlap in [\n",
    "        ('enhancer', 10),\n",
    "        ('merged_encode_exclude_region', 0),\n",
    "        ('merged_exon', 5),\n",
    "        ('merged_gap', 0),\n",
    "        ('uncovered_region', 0),\n",
    "    ]:\n",
    "        df = classify(df, feature, min_overlap)\n",
    "    return df \n",
    "\n",
    "pd.set_option('display.max_columns', 40)\n",
    "\n",
    "chen_mchale_zscores_features = classify_all(chen_mchale_zscores_features)\n",
    "chen_mchale_zscores_features "
   ]
  },
  {
   "cell_type": "code",
   "execution_count": 12,
   "id": "d0b6a4cd",
   "metadata": {},
   "outputs": [
    {
     "data": {
      "text/html": [
       "<div>\n",
       "<style scoped>\n",
       "    .dataframe tbody tr th:only-of-type {\n",
       "        vertical-align: middle;\n",
       "    }\n",
       "\n",
       "    .dataframe tbody tr th {\n",
       "        vertical-align: top;\n",
       "    }\n",
       "\n",
       "    .dataframe thead th {\n",
       "        text-align: right;\n",
       "    }\n",
       "</style>\n",
       "<table border=\"1\" class=\"dataframe\">\n",
       "  <thead>\n",
       "    <tr style=\"text-align: right;\">\n",
       "      <th></th>\n",
       "      <th>chromosome</th>\n",
       "      <th>start</th>\n",
       "      <th>end</th>\n",
       "      <th>N_observed</th>\n",
       "      <th>N_bar_3_noncoding</th>\n",
       "      <th>N_bar_3_coding</th>\n",
       "      <th>N_bar_3_chenWindows</th>\n",
       "      <th>N_bar_5_noncoding</th>\n",
       "      <th>N_bar_5_coding</th>\n",
       "      <th>N_bar_5_chenWindows</th>\n",
       "      <th>N_bar_7_noncoding</th>\n",
       "      <th>N_bar_7_coding</th>\n",
       "      <th>N_bar_7_chenWindows</th>\n",
       "      <th>enhancer overlap</th>\n",
       "      <th>merged_exon overlap</th>\n",
       "      <th>window overlaps enhancer</th>\n",
       "      <th>window overlaps merged_exon</th>\n",
       "    </tr>\n",
       "  </thead>\n",
       "  <tbody>\n",
       "    <tr>\n",
       "      <th>0</th>\n",
       "      <td>chr1</td>\n",
       "      <td>1432000</td>\n",
       "      <td>1433000</td>\n",
       "      <td>260</td>\n",
       "      <td>-0.247615</td>\n",
       "      <td>2.264194</td>\n",
       "      <td>0.118933</td>\n",
       "      <td>-0.339806</td>\n",
       "      <td>1.967525</td>\n",
       "      <td>0.075982</td>\n",
       "      <td>-0.372778</td>\n",
       "      <td>1.786749</td>\n",
       "      <td>0.081009</td>\n",
       "      <td>1000.0</td>\n",
       "      <td>NaN</td>\n",
       "      <td>True</td>\n",
       "      <td>False</td>\n",
       "    </tr>\n",
       "    <tr>\n",
       "      <th>1</th>\n",
       "      <td>chr1</td>\n",
       "      <td>1435000</td>\n",
       "      <td>1436000</td>\n",
       "      <td>275</td>\n",
       "      <td>-7.547130</td>\n",
       "      <td>-2.542472</td>\n",
       "      <td>-6.944479</td>\n",
       "      <td>-6.810107</td>\n",
       "      <td>-2.075201</td>\n",
       "      <td>-6.071172</td>\n",
       "      <td>-6.280673</td>\n",
       "      <td>-1.910324</td>\n",
       "      <td>-5.310077</td>\n",
       "      <td>1000.0</td>\n",
       "      <td>444.0</td>\n",
       "      <td>True</td>\n",
       "      <td>True</td>\n",
       "    </tr>\n",
       "    <tr>\n",
       "      <th>2</th>\n",
       "      <td>chr1</td>\n",
       "      <td>1449000</td>\n",
       "      <td>1450000</td>\n",
       "      <td>225</td>\n",
       "      <td>0.258359</td>\n",
       "      <td>2.316462</td>\n",
       "      <td>0.600034</td>\n",
       "      <td>0.330975</td>\n",
       "      <td>2.319833</td>\n",
       "      <td>0.684473</td>\n",
       "      <td>0.139977</td>\n",
       "      <td>2.101117</td>\n",
       "      <td>0.520413</td>\n",
       "      <td>NaN</td>\n",
       "      <td>311.0</td>\n",
       "      <td>False</td>\n",
       "      <td>True</td>\n",
       "    </tr>\n",
       "    <tr>\n",
       "      <th>3</th>\n",
       "      <td>chr1</td>\n",
       "      <td>1450000</td>\n",
       "      <td>1451000</td>\n",
       "      <td>313</td>\n",
       "      <td>2.197534</td>\n",
       "      <td>5.178077</td>\n",
       "      <td>2.607210</td>\n",
       "      <td>2.480911</td>\n",
       "      <td>5.214801</td>\n",
       "      <td>2.933478</td>\n",
       "      <td>2.524948</td>\n",
       "      <td>5.129449</td>\n",
       "      <td>2.997041</td>\n",
       "      <td>NaN</td>\n",
       "      <td>758.0</td>\n",
       "      <td>False</td>\n",
       "      <td>True</td>\n",
       "    </tr>\n",
       "    <tr>\n",
       "      <th>4</th>\n",
       "      <td>chr1</td>\n",
       "      <td>1451000</td>\n",
       "      <td>1452000</td>\n",
       "      <td>293</td>\n",
       "      <td>2.367303</td>\n",
       "      <td>5.056714</td>\n",
       "      <td>2.758334</td>\n",
       "      <td>2.725116</td>\n",
       "      <td>5.216863</td>\n",
       "      <td>3.145152</td>\n",
       "      <td>2.951595</td>\n",
       "      <td>5.311666</td>\n",
       "      <td>3.382963</td>\n",
       "      <td>NaN</td>\n",
       "      <td>NaN</td>\n",
       "      <td>False</td>\n",
       "      <td>False</td>\n",
       "    </tr>\n",
       "    <tr>\n",
       "      <th>...</th>\n",
       "      <td>...</td>\n",
       "      <td>...</td>\n",
       "      <td>...</td>\n",
       "      <td>...</td>\n",
       "      <td>...</td>\n",
       "      <td>...</td>\n",
       "      <td>...</td>\n",
       "      <td>...</td>\n",
       "      <td>...</td>\n",
       "      <td>...</td>\n",
       "      <td>...</td>\n",
       "      <td>...</td>\n",
       "      <td>...</td>\n",
       "      <td>...</td>\n",
       "      <td>...</td>\n",
       "      <td>...</td>\n",
       "      <td>...</td>\n",
       "    </tr>\n",
       "    <tr>\n",
       "      <th>1796995</th>\n",
       "      <td>chr9</td>\n",
       "      <td>137269000</td>\n",
       "      <td>137270000</td>\n",
       "      <td>210</td>\n",
       "      <td>-3.445370</td>\n",
       "      <td>-0.925010</td>\n",
       "      <td>-3.097011</td>\n",
       "      <td>-3.228932</td>\n",
       "      <td>-0.881123</td>\n",
       "      <td>-2.872507</td>\n",
       "      <td>-3.060479</td>\n",
       "      <td>-0.742758</td>\n",
       "      <td>-2.657076</td>\n",
       "      <td>1000.0</td>\n",
       "      <td>NaN</td>\n",
       "      <td>True</td>\n",
       "      <td>False</td>\n",
       "    </tr>\n",
       "    <tr>\n",
       "      <th>1796996</th>\n",
       "      <td>chr9</td>\n",
       "      <td>137275000</td>\n",
       "      <td>137276000</td>\n",
       "      <td>296</td>\n",
       "      <td>1.921453</td>\n",
       "      <td>4.684512</td>\n",
       "      <td>2.318246</td>\n",
       "      <td>1.974808</td>\n",
       "      <td>4.515817</td>\n",
       "      <td>2.405245</td>\n",
       "      <td>1.990841</td>\n",
       "      <td>4.391365</td>\n",
       "      <td>2.417947</td>\n",
       "      <td>712.0</td>\n",
       "      <td>NaN</td>\n",
       "      <td>True</td>\n",
       "      <td>False</td>\n",
       "    </tr>\n",
       "    <tr>\n",
       "      <th>1796997</th>\n",
       "      <td>chr9</td>\n",
       "      <td>137282000</td>\n",
       "      <td>137283000</td>\n",
       "      <td>211</td>\n",
       "      <td>-1.919711</td>\n",
       "      <td>0.252487</td>\n",
       "      <td>-1.596114</td>\n",
       "      <td>-1.783906</td>\n",
       "      <td>0.278109</td>\n",
       "      <td>-1.452829</td>\n",
       "      <td>-1.612483</td>\n",
       "      <td>0.278168</td>\n",
       "      <td>-1.309697</td>\n",
       "      <td>572.0</td>\n",
       "      <td>641.0</td>\n",
       "      <td>True</td>\n",
       "      <td>True</td>\n",
       "    </tr>\n",
       "    <tr>\n",
       "      <th>1796998</th>\n",
       "      <td>chr9</td>\n",
       "      <td>137290000</td>\n",
       "      <td>137291000</td>\n",
       "      <td>224</td>\n",
       "      <td>-0.682673</td>\n",
       "      <td>1.438412</td>\n",
       "      <td>-0.362059</td>\n",
       "      <td>-0.522518</td>\n",
       "      <td>1.394931</td>\n",
       "      <td>-0.220129</td>\n",
       "      <td>-0.215971</td>\n",
       "      <td>1.436882</td>\n",
       "      <td>0.036259</td>\n",
       "      <td>NaN</td>\n",
       "      <td>NaN</td>\n",
       "      <td>False</td>\n",
       "      <td>False</td>\n",
       "    </tr>\n",
       "    <tr>\n",
       "      <th>1796999</th>\n",
       "      <td>chr9</td>\n",
       "      <td>137294000</td>\n",
       "      <td>137295000</td>\n",
       "      <td>182</td>\n",
       "      <td>-5.749158</td>\n",
       "      <td>-3.146285</td>\n",
       "      <td>-5.400950</td>\n",
       "      <td>-5.529565</td>\n",
       "      <td>-3.076692</td>\n",
       "      <td>-5.160589</td>\n",
       "      <td>-5.354983</td>\n",
       "      <td>-2.987383</td>\n",
       "      <td>-4.948494</td>\n",
       "      <td>1000.0</td>\n",
       "      <td>1000.0</td>\n",
       "      <td>True</td>\n",
       "      <td>True</td>\n",
       "    </tr>\n",
       "  </tbody>\n",
       "</table>\n",
       "<p>1787415 rows × 17 columns</p>\n",
       "</div>"
      ],
      "text/plain": [
       "        chromosome      start        end  N_observed  N_bar_3_noncoding  \\\n",
       "0             chr1    1432000    1433000         260          -0.247615   \n",
       "1             chr1    1435000    1436000         275          -7.547130   \n",
       "2             chr1    1449000    1450000         225           0.258359   \n",
       "3             chr1    1450000    1451000         313           2.197534   \n",
       "4             chr1    1451000    1452000         293           2.367303   \n",
       "...            ...        ...        ...         ...                ...   \n",
       "1796995       chr9  137269000  137270000         210          -3.445370   \n",
       "1796996       chr9  137275000  137276000         296           1.921453   \n",
       "1796997       chr9  137282000  137283000         211          -1.919711   \n",
       "1796998       chr9  137290000  137291000         224          -0.682673   \n",
       "1796999       chr9  137294000  137295000         182          -5.749158   \n",
       "\n",
       "         N_bar_3_coding  N_bar_3_chenWindows  N_bar_5_noncoding  \\\n",
       "0              2.264194             0.118933          -0.339806   \n",
       "1             -2.542472            -6.944479          -6.810107   \n",
       "2              2.316462             0.600034           0.330975   \n",
       "3              5.178077             2.607210           2.480911   \n",
       "4              5.056714             2.758334           2.725116   \n",
       "...                 ...                  ...                ...   \n",
       "1796995       -0.925010            -3.097011          -3.228932   \n",
       "1796996        4.684512             2.318246           1.974808   \n",
       "1796997        0.252487            -1.596114          -1.783906   \n",
       "1796998        1.438412            -0.362059          -0.522518   \n",
       "1796999       -3.146285            -5.400950          -5.529565   \n",
       "\n",
       "         N_bar_5_coding  N_bar_5_chenWindows  N_bar_7_noncoding  \\\n",
       "0              1.967525             0.075982          -0.372778   \n",
       "1             -2.075201            -6.071172          -6.280673   \n",
       "2              2.319833             0.684473           0.139977   \n",
       "3              5.214801             2.933478           2.524948   \n",
       "4              5.216863             3.145152           2.951595   \n",
       "...                 ...                  ...                ...   \n",
       "1796995       -0.881123            -2.872507          -3.060479   \n",
       "1796996        4.515817             2.405245           1.990841   \n",
       "1796997        0.278109            -1.452829          -1.612483   \n",
       "1796998        1.394931            -0.220129          -0.215971   \n",
       "1796999       -3.076692            -5.160589          -5.354983   \n",
       "\n",
       "         N_bar_7_coding  N_bar_7_chenWindows  enhancer overlap  \\\n",
       "0              1.786749             0.081009            1000.0   \n",
       "1             -1.910324            -5.310077            1000.0   \n",
       "2              2.101117             0.520413               NaN   \n",
       "3              5.129449             2.997041               NaN   \n",
       "4              5.311666             3.382963               NaN   \n",
       "...                 ...                  ...               ...   \n",
       "1796995       -0.742758            -2.657076            1000.0   \n",
       "1796996        4.391365             2.417947             712.0   \n",
       "1796997        0.278168            -1.309697             572.0   \n",
       "1796998        1.436882             0.036259               NaN   \n",
       "1796999       -2.987383            -4.948494            1000.0   \n",
       "\n",
       "         merged_exon overlap  window overlaps enhancer  \\\n",
       "0                        NaN                      True   \n",
       "1                      444.0                      True   \n",
       "2                      311.0                     False   \n",
       "3                      758.0                     False   \n",
       "4                        NaN                     False   \n",
       "...                      ...                       ...   \n",
       "1796995                  NaN                      True   \n",
       "1796996                  NaN                      True   \n",
       "1796997                641.0                      True   \n",
       "1796998                  NaN                     False   \n",
       "1796999               1000.0                      True   \n",
       "\n",
       "         window overlaps merged_exon  \n",
       "0                              False  \n",
       "1                               True  \n",
       "2                               True  \n",
       "3                               True  \n",
       "4                              False  \n",
       "...                              ...  \n",
       "1796995                        False  \n",
       "1796996                        False  \n",
       "1796997                         True  \n",
       "1796998                        False  \n",
       "1796999                         True  \n",
       "\n",
       "[1787415 rows x 17 columns]"
      ]
     },
     "execution_count": 12,
     "metadata": {},
     "output_type": "execute_result"
    }
   ],
   "source": [
    "def throw_out_untrustworthy(df): \n",
    "    throw_out = df[[\n",
    "        'window overlaps merged_encode_exclude_region',\n",
    "        'window overlaps merged_gap',\n",
    "        'window overlaps uncovered_region'\n",
    "    ]].any(axis='columns')\n",
    "    keep = ~throw_out\n",
    "    return (\n",
    "        df[keep]\n",
    "        .drop([\n",
    "            'merged_encode_exclude_region overlap',\n",
    "            'merged_gap overlap',\n",
    "            'uncovered_region overlap',\n",
    "            'window overlaps merged_encode_exclude_region',\n",
    "            'window overlaps merged_gap',\n",
    "            'window overlaps uncovered_region'\n",
    "        ], axis=1)\n",
    "    )\n",
    "\n",
    "def throw_out_ambiguous(df):\n",
    "    throw_out = (\n",
    "        df[[\n",
    "            'window overlaps enhancer',\n",
    "            'window overlaps merged_exon',\n",
    "        ]]\n",
    "        .isin(['ambiguous'])\n",
    "        .any(axis=1)\n",
    "    )\n",
    "    keep = ~throw_out\n",
    "    return (\n",
    "        df[keep]\n",
    "        .astype({\n",
    "            'window overlaps enhancer': bool,\n",
    "            'window overlaps merged_exon': bool,\n",
    "        })\n",
    "    )\n",
    "\n",
    "def filter_windows(df): \n",
    "    df = throw_out_untrustworthy(df)\n",
    "    df = throw_out_ambiguous(df)\n",
    "    return df \n",
    "\n",
    "chen_mchale_zscores_features = filter_windows(chen_mchale_zscores_features)\n",
    "chen_mchale_zscores_features"
   ]
  },
  {
   "cell_type": "code",
   "execution_count": 13,
   "id": "27969172",
   "metadata": {},
   "outputs": [
    {
     "data": {
      "text/html": [
       "<div>\n",
       "<style scoped>\n",
       "    .dataframe tbody tr th:only-of-type {\n",
       "        vertical-align: middle;\n",
       "    }\n",
       "\n",
       "    .dataframe tbody tr th {\n",
       "        vertical-align: top;\n",
       "    }\n",
       "\n",
       "    .dataframe thead th {\n",
       "        text-align: right;\n",
       "    }\n",
       "</style>\n",
       "<table border=\"1\" class=\"dataframe\">\n",
       "  <thead>\n",
       "    <tr style=\"text-align: right;\">\n",
       "      <th></th>\n",
       "      <th>chromosome</th>\n",
       "      <th>start</th>\n",
       "      <th>end</th>\n",
       "      <th>N_observed</th>\n",
       "      <th>N_bar_3_noncoding</th>\n",
       "      <th>N_bar_3_coding</th>\n",
       "      <th>N_bar_3_chenWindows</th>\n",
       "      <th>N_bar_5_noncoding</th>\n",
       "      <th>N_bar_5_coding</th>\n",
       "      <th>N_bar_5_chenWindows</th>\n",
       "      <th>N_bar_7_noncoding</th>\n",
       "      <th>N_bar_7_coding</th>\n",
       "      <th>N_bar_7_chenWindows</th>\n",
       "      <th>enhancer overlap</th>\n",
       "      <th>merged_exon overlap</th>\n",
       "      <th>window overlaps enhancer</th>\n",
       "      <th>window overlaps merged_exon</th>\n",
       "      <th>window overlaps (enhancer, merged_exon)</th>\n",
       "    </tr>\n",
       "  </thead>\n",
       "  <tbody>\n",
       "    <tr>\n",
       "      <th>0</th>\n",
       "      <td>chr1</td>\n",
       "      <td>1432000</td>\n",
       "      <td>1433000</td>\n",
       "      <td>260</td>\n",
       "      <td>-0.247615</td>\n",
       "      <td>2.264194</td>\n",
       "      <td>0.118933</td>\n",
       "      <td>-0.339806</td>\n",
       "      <td>1.967525</td>\n",
       "      <td>0.075982</td>\n",
       "      <td>-0.372778</td>\n",
       "      <td>1.786749</td>\n",
       "      <td>0.081009</td>\n",
       "      <td>1000.0</td>\n",
       "      <td>NaN</td>\n",
       "      <td>True</td>\n",
       "      <td>False</td>\n",
       "      <td>(True, False)</td>\n",
       "    </tr>\n",
       "    <tr>\n",
       "      <th>1</th>\n",
       "      <td>chr1</td>\n",
       "      <td>1435000</td>\n",
       "      <td>1436000</td>\n",
       "      <td>275</td>\n",
       "      <td>-7.547130</td>\n",
       "      <td>-2.542472</td>\n",
       "      <td>-6.944479</td>\n",
       "      <td>-6.810107</td>\n",
       "      <td>-2.075201</td>\n",
       "      <td>-6.071172</td>\n",
       "      <td>-6.280673</td>\n",
       "      <td>-1.910324</td>\n",
       "      <td>-5.310077</td>\n",
       "      <td>1000.0</td>\n",
       "      <td>444.0</td>\n",
       "      <td>True</td>\n",
       "      <td>True</td>\n",
       "      <td>(True, True)</td>\n",
       "    </tr>\n",
       "    <tr>\n",
       "      <th>2</th>\n",
       "      <td>chr1</td>\n",
       "      <td>1449000</td>\n",
       "      <td>1450000</td>\n",
       "      <td>225</td>\n",
       "      <td>0.258359</td>\n",
       "      <td>2.316462</td>\n",
       "      <td>0.600034</td>\n",
       "      <td>0.330975</td>\n",
       "      <td>2.319833</td>\n",
       "      <td>0.684473</td>\n",
       "      <td>0.139977</td>\n",
       "      <td>2.101117</td>\n",
       "      <td>0.520413</td>\n",
       "      <td>NaN</td>\n",
       "      <td>311.0</td>\n",
       "      <td>False</td>\n",
       "      <td>True</td>\n",
       "      <td>(False, True)</td>\n",
       "    </tr>\n",
       "    <tr>\n",
       "      <th>3</th>\n",
       "      <td>chr1</td>\n",
       "      <td>1450000</td>\n",
       "      <td>1451000</td>\n",
       "      <td>313</td>\n",
       "      <td>2.197534</td>\n",
       "      <td>5.178077</td>\n",
       "      <td>2.607210</td>\n",
       "      <td>2.480911</td>\n",
       "      <td>5.214801</td>\n",
       "      <td>2.933478</td>\n",
       "      <td>2.524948</td>\n",
       "      <td>5.129449</td>\n",
       "      <td>2.997041</td>\n",
       "      <td>NaN</td>\n",
       "      <td>758.0</td>\n",
       "      <td>False</td>\n",
       "      <td>True</td>\n",
       "      <td>(False, True)</td>\n",
       "    </tr>\n",
       "    <tr>\n",
       "      <th>4</th>\n",
       "      <td>chr1</td>\n",
       "      <td>1451000</td>\n",
       "      <td>1452000</td>\n",
       "      <td>293</td>\n",
       "      <td>2.367303</td>\n",
       "      <td>5.056714</td>\n",
       "      <td>2.758334</td>\n",
       "      <td>2.725116</td>\n",
       "      <td>5.216863</td>\n",
       "      <td>3.145152</td>\n",
       "      <td>2.951595</td>\n",
       "      <td>5.311666</td>\n",
       "      <td>3.382963</td>\n",
       "      <td>NaN</td>\n",
       "      <td>NaN</td>\n",
       "      <td>False</td>\n",
       "      <td>False</td>\n",
       "      <td>(False, False)</td>\n",
       "    </tr>\n",
       "    <tr>\n",
       "      <th>...</th>\n",
       "      <td>...</td>\n",
       "      <td>...</td>\n",
       "      <td>...</td>\n",
       "      <td>...</td>\n",
       "      <td>...</td>\n",
       "      <td>...</td>\n",
       "      <td>...</td>\n",
       "      <td>...</td>\n",
       "      <td>...</td>\n",
       "      <td>...</td>\n",
       "      <td>...</td>\n",
       "      <td>...</td>\n",
       "      <td>...</td>\n",
       "      <td>...</td>\n",
       "      <td>...</td>\n",
       "      <td>...</td>\n",
       "      <td>...</td>\n",
       "      <td>...</td>\n",
       "    </tr>\n",
       "    <tr>\n",
       "      <th>1796995</th>\n",
       "      <td>chr9</td>\n",
       "      <td>137269000</td>\n",
       "      <td>137270000</td>\n",
       "      <td>210</td>\n",
       "      <td>-3.445370</td>\n",
       "      <td>-0.925010</td>\n",
       "      <td>-3.097011</td>\n",
       "      <td>-3.228932</td>\n",
       "      <td>-0.881123</td>\n",
       "      <td>-2.872507</td>\n",
       "      <td>-3.060479</td>\n",
       "      <td>-0.742758</td>\n",
       "      <td>-2.657076</td>\n",
       "      <td>1000.0</td>\n",
       "      <td>NaN</td>\n",
       "      <td>True</td>\n",
       "      <td>False</td>\n",
       "      <td>(True, False)</td>\n",
       "    </tr>\n",
       "    <tr>\n",
       "      <th>1796996</th>\n",
       "      <td>chr9</td>\n",
       "      <td>137275000</td>\n",
       "      <td>137276000</td>\n",
       "      <td>296</td>\n",
       "      <td>1.921453</td>\n",
       "      <td>4.684512</td>\n",
       "      <td>2.318246</td>\n",
       "      <td>1.974808</td>\n",
       "      <td>4.515817</td>\n",
       "      <td>2.405245</td>\n",
       "      <td>1.990841</td>\n",
       "      <td>4.391365</td>\n",
       "      <td>2.417947</td>\n",
       "      <td>712.0</td>\n",
       "      <td>NaN</td>\n",
       "      <td>True</td>\n",
       "      <td>False</td>\n",
       "      <td>(True, False)</td>\n",
       "    </tr>\n",
       "    <tr>\n",
       "      <th>1796997</th>\n",
       "      <td>chr9</td>\n",
       "      <td>137282000</td>\n",
       "      <td>137283000</td>\n",
       "      <td>211</td>\n",
       "      <td>-1.919711</td>\n",
       "      <td>0.252487</td>\n",
       "      <td>-1.596114</td>\n",
       "      <td>-1.783906</td>\n",
       "      <td>0.278109</td>\n",
       "      <td>-1.452829</td>\n",
       "      <td>-1.612483</td>\n",
       "      <td>0.278168</td>\n",
       "      <td>-1.309697</td>\n",
       "      <td>572.0</td>\n",
       "      <td>641.0</td>\n",
       "      <td>True</td>\n",
       "      <td>True</td>\n",
       "      <td>(True, True)</td>\n",
       "    </tr>\n",
       "    <tr>\n",
       "      <th>1796998</th>\n",
       "      <td>chr9</td>\n",
       "      <td>137290000</td>\n",
       "      <td>137291000</td>\n",
       "      <td>224</td>\n",
       "      <td>-0.682673</td>\n",
       "      <td>1.438412</td>\n",
       "      <td>-0.362059</td>\n",
       "      <td>-0.522518</td>\n",
       "      <td>1.394931</td>\n",
       "      <td>-0.220129</td>\n",
       "      <td>-0.215971</td>\n",
       "      <td>1.436882</td>\n",
       "      <td>0.036259</td>\n",
       "      <td>NaN</td>\n",
       "      <td>NaN</td>\n",
       "      <td>False</td>\n",
       "      <td>False</td>\n",
       "      <td>(False, False)</td>\n",
       "    </tr>\n",
       "    <tr>\n",
       "      <th>1796999</th>\n",
       "      <td>chr9</td>\n",
       "      <td>137294000</td>\n",
       "      <td>137295000</td>\n",
       "      <td>182</td>\n",
       "      <td>-5.749158</td>\n",
       "      <td>-3.146285</td>\n",
       "      <td>-5.400950</td>\n",
       "      <td>-5.529565</td>\n",
       "      <td>-3.076692</td>\n",
       "      <td>-5.160589</td>\n",
       "      <td>-5.354983</td>\n",
       "      <td>-2.987383</td>\n",
       "      <td>-4.948494</td>\n",
       "      <td>1000.0</td>\n",
       "      <td>1000.0</td>\n",
       "      <td>True</td>\n",
       "      <td>True</td>\n",
       "      <td>(True, True)</td>\n",
       "    </tr>\n",
       "  </tbody>\n",
       "</table>\n",
       "<p>1787415 rows × 18 columns</p>\n",
       "</div>"
      ],
      "text/plain": [
       "        chromosome      start        end  N_observed  N_bar_3_noncoding  \\\n",
       "0             chr1    1432000    1433000         260          -0.247615   \n",
       "1             chr1    1435000    1436000         275          -7.547130   \n",
       "2             chr1    1449000    1450000         225           0.258359   \n",
       "3             chr1    1450000    1451000         313           2.197534   \n",
       "4             chr1    1451000    1452000         293           2.367303   \n",
       "...            ...        ...        ...         ...                ...   \n",
       "1796995       chr9  137269000  137270000         210          -3.445370   \n",
       "1796996       chr9  137275000  137276000         296           1.921453   \n",
       "1796997       chr9  137282000  137283000         211          -1.919711   \n",
       "1796998       chr9  137290000  137291000         224          -0.682673   \n",
       "1796999       chr9  137294000  137295000         182          -5.749158   \n",
       "\n",
       "         N_bar_3_coding  N_bar_3_chenWindows  N_bar_5_noncoding  \\\n",
       "0              2.264194             0.118933          -0.339806   \n",
       "1             -2.542472            -6.944479          -6.810107   \n",
       "2              2.316462             0.600034           0.330975   \n",
       "3              5.178077             2.607210           2.480911   \n",
       "4              5.056714             2.758334           2.725116   \n",
       "...                 ...                  ...                ...   \n",
       "1796995       -0.925010            -3.097011          -3.228932   \n",
       "1796996        4.684512             2.318246           1.974808   \n",
       "1796997        0.252487            -1.596114          -1.783906   \n",
       "1796998        1.438412            -0.362059          -0.522518   \n",
       "1796999       -3.146285            -5.400950          -5.529565   \n",
       "\n",
       "         N_bar_5_coding  N_bar_5_chenWindows  N_bar_7_noncoding  \\\n",
       "0              1.967525             0.075982          -0.372778   \n",
       "1             -2.075201            -6.071172          -6.280673   \n",
       "2              2.319833             0.684473           0.139977   \n",
       "3              5.214801             2.933478           2.524948   \n",
       "4              5.216863             3.145152           2.951595   \n",
       "...                 ...                  ...                ...   \n",
       "1796995       -0.881123            -2.872507          -3.060479   \n",
       "1796996        4.515817             2.405245           1.990841   \n",
       "1796997        0.278109            -1.452829          -1.612483   \n",
       "1796998        1.394931            -0.220129          -0.215971   \n",
       "1796999       -3.076692            -5.160589          -5.354983   \n",
       "\n",
       "         N_bar_7_coding  N_bar_7_chenWindows  enhancer overlap  \\\n",
       "0              1.786749             0.081009            1000.0   \n",
       "1             -1.910324            -5.310077            1000.0   \n",
       "2              2.101117             0.520413               NaN   \n",
       "3              5.129449             2.997041               NaN   \n",
       "4              5.311666             3.382963               NaN   \n",
       "...                 ...                  ...               ...   \n",
       "1796995       -0.742758            -2.657076            1000.0   \n",
       "1796996        4.391365             2.417947             712.0   \n",
       "1796997        0.278168            -1.309697             572.0   \n",
       "1796998        1.436882             0.036259               NaN   \n",
       "1796999       -2.987383            -4.948494            1000.0   \n",
       "\n",
       "         merged_exon overlap  window overlaps enhancer  \\\n",
       "0                        NaN                      True   \n",
       "1                      444.0                      True   \n",
       "2                      311.0                     False   \n",
       "3                      758.0                     False   \n",
       "4                        NaN                     False   \n",
       "...                      ...                       ...   \n",
       "1796995                  NaN                      True   \n",
       "1796996                  NaN                      True   \n",
       "1796997                641.0                      True   \n",
       "1796998                  NaN                     False   \n",
       "1796999               1000.0                      True   \n",
       "\n",
       "         window overlaps merged_exon window overlaps (enhancer, merged_exon)  \n",
       "0                              False                           (True, False)  \n",
       "1                               True                            (True, True)  \n",
       "2                               True                           (False, True)  \n",
       "3                               True                           (False, True)  \n",
       "4                              False                          (False, False)  \n",
       "...                              ...                                     ...  \n",
       "1796995                        False                           (True, False)  \n",
       "1796996                        False                           (True, False)  \n",
       "1796997                         True                            (True, True)  \n",
       "1796998                        False                          (False, False)  \n",
       "1796999                         True                            (True, True)  \n",
       "\n",
       "[1787415 rows x 18 columns]"
      ]
     },
     "execution_count": 13,
     "metadata": {},
     "output_type": "execute_result"
    }
   ],
   "source": [
    "def joint_classify(df): \n",
    "    new_column = 'window overlaps (enhancer, merged_exon)'\n",
    "    df[new_column] = list(zip(df['window overlaps enhancer'], df['window overlaps merged_exon'])) \n",
    "\n",
    "    from pandas.api.types import CategoricalDtype    \n",
    "    category_type = CategoricalDtype(categories=[(False, False), (True, False), (False, True), (True, True)], ordered=True)\n",
    "    df[new_column] = df[new_column].astype(category_type)\n",
    "    \n",
    "#     df = df.drop(['window overlaps enhancer', 'window overlaps merged_exon'], axis=1)\n",
    "\n",
    "    return df\n",
    "\n",
    "chen_mchale_zscores_features = joint_classify(chen_mchale_zscores_features)\n",
    "chen_mchale_zscores_features"
   ]
  },
  {
   "cell_type": "markdown",
   "id": "6a117020",
   "metadata": {},
   "source": [
    "## Merge in new Chen zscores (from second preprint) "
   ]
  },
  {
   "cell_type": "code",
   "execution_count": 14,
   "id": "0aa3cafd",
   "metadata": {},
   "outputs": [
    {
     "data": {
      "text/html": [
       "<div>\n",
       "<style scoped>\n",
       "    .dataframe tbody tr th:only-of-type {\n",
       "        vertical-align: middle;\n",
       "    }\n",
       "\n",
       "    .dataframe tbody tr th {\n",
       "        vertical-align: top;\n",
       "    }\n",
       "\n",
       "    .dataframe thead th {\n",
       "        text-align: right;\n",
       "    }\n",
       "</style>\n",
       "<table border=\"1\" class=\"dataframe\">\n",
       "  <thead>\n",
       "    <tr style=\"text-align: right;\">\n",
       "      <th></th>\n",
       "      <th>chromosome</th>\n",
       "      <th>start</th>\n",
       "      <th>end</th>\n",
       "      <th>new chen zscore</th>\n",
       "    </tr>\n",
       "  </thead>\n",
       "  <tbody>\n",
       "    <tr>\n",
       "      <th>0</th>\n",
       "      <td>chr1</td>\n",
       "      <td>783000</td>\n",
       "      <td>784000</td>\n",
       "      <td>1.355101</td>\n",
       "    </tr>\n",
       "    <tr>\n",
       "      <th>1</th>\n",
       "      <td>chr1</td>\n",
       "      <td>784000</td>\n",
       "      <td>785000</td>\n",
       "      <td>1.745145</td>\n",
       "    </tr>\n",
       "    <tr>\n",
       "      <th>2</th>\n",
       "      <td>chr1</td>\n",
       "      <td>786000</td>\n",
       "      <td>787000</td>\n",
       "      <td>4.388539</td>\n",
       "    </tr>\n",
       "    <tr>\n",
       "      <th>3</th>\n",
       "      <td>chr1</td>\n",
       "      <td>787000</td>\n",
       "      <td>788000</td>\n",
       "      <td>1.893217</td>\n",
       "    </tr>\n",
       "    <tr>\n",
       "      <th>4</th>\n",
       "      <td>chr1</td>\n",
       "      <td>792000</td>\n",
       "      <td>793000</td>\n",
       "      <td>2.075487</td>\n",
       "    </tr>\n",
       "    <tr>\n",
       "      <th>...</th>\n",
       "      <td>...</td>\n",
       "      <td>...</td>\n",
       "      <td>...</td>\n",
       "      <td>...</td>\n",
       "    </tr>\n",
       "    <tr>\n",
       "      <th>1984895</th>\n",
       "      <td>chr9</td>\n",
       "      <td>138138000</td>\n",
       "      <td>138139000</td>\n",
       "      <td>3.777362</td>\n",
       "    </tr>\n",
       "    <tr>\n",
       "      <th>1984896</th>\n",
       "      <td>chr9</td>\n",
       "      <td>138139000</td>\n",
       "      <td>138140000</td>\n",
       "      <td>4.693755</td>\n",
       "    </tr>\n",
       "    <tr>\n",
       "      <th>1984897</th>\n",
       "      <td>chr9</td>\n",
       "      <td>138158000</td>\n",
       "      <td>138159000</td>\n",
       "      <td>1.646564</td>\n",
       "    </tr>\n",
       "    <tr>\n",
       "      <th>1984898</th>\n",
       "      <td>chr9</td>\n",
       "      <td>138210000</td>\n",
       "      <td>138211000</td>\n",
       "      <td>2.748850</td>\n",
       "    </tr>\n",
       "    <tr>\n",
       "      <th>1984899</th>\n",
       "      <td>chr9</td>\n",
       "      <td>138217000</td>\n",
       "      <td>138218000</td>\n",
       "      <td>3.732342</td>\n",
       "    </tr>\n",
       "  </tbody>\n",
       "</table>\n",
       "<p>1984900 rows × 4 columns</p>\n",
       "</div>"
      ],
      "text/plain": [
       "        chromosome      start        end  new chen zscore\n",
       "0             chr1     783000     784000         1.355101\n",
       "1             chr1     784000     785000         1.745145\n",
       "2             chr1     786000     787000         4.388539\n",
       "3             chr1     787000     788000         1.893217\n",
       "4             chr1     792000     793000         2.075487\n",
       "...            ...        ...        ...              ...\n",
       "1984895       chr9  138138000  138139000         3.777362\n",
       "1984896       chr9  138139000  138140000         4.693755\n",
       "1984897       chr9  138158000  138159000         1.646564\n",
       "1984898       chr9  138210000  138211000         2.748850\n",
       "1984899       chr9  138217000  138218000         3.732342\n",
       "\n",
       "[1984900 rows x 4 columns]"
      ]
     },
     "execution_count": 14,
     "metadata": {},
     "output_type": "execute_result"
    }
   ],
   "source": [
    "def get_new_chen_zscores():\n",
    "    filename = f'{CONSTRAINT_TOOLS_DATA}/chen-et-al-2022-second-preprint/Supplementary_Datasets/Supplementary_Data_2.bed'\n",
    "    df = pd.read_csv(filename, sep='\\t', names=['chromosome', 'start', 'end', 'new chen zscore'])\n",
    "    return df\n",
    "\n",
    "get_new_chen_zscores()"
   ]
  },
  {
   "cell_type": "code",
   "execution_count": 15,
   "id": "d613b300",
   "metadata": {},
   "outputs": [
    {
     "data": {
      "text/html": [
       "<div>\n",
       "<style scoped>\n",
       "    .dataframe tbody tr th:only-of-type {\n",
       "        vertical-align: middle;\n",
       "    }\n",
       "\n",
       "    .dataframe tbody tr th {\n",
       "        vertical-align: top;\n",
       "    }\n",
       "\n",
       "    .dataframe thead th {\n",
       "        text-align: right;\n",
       "    }\n",
       "</style>\n",
       "<table border=\"1\" class=\"dataframe\">\n",
       "  <thead>\n",
       "    <tr style=\"text-align: right;\">\n",
       "      <th></th>\n",
       "      <th>chromosome</th>\n",
       "      <th>start</th>\n",
       "      <th>end</th>\n",
       "      <th>N_observed</th>\n",
       "      <th>N_bar_3_noncoding</th>\n",
       "      <th>N_bar_3_coding</th>\n",
       "      <th>N_bar_3_chenWindows</th>\n",
       "      <th>N_bar_5_noncoding</th>\n",
       "      <th>N_bar_5_coding</th>\n",
       "      <th>N_bar_5_chenWindows</th>\n",
       "      <th>N_bar_7_noncoding</th>\n",
       "      <th>N_bar_7_coding</th>\n",
       "      <th>N_bar_7_chenWindows</th>\n",
       "      <th>enhancer overlap</th>\n",
       "      <th>merged_exon overlap</th>\n",
       "      <th>window overlaps enhancer</th>\n",
       "      <th>window overlaps merged_exon</th>\n",
       "      <th>window overlaps (enhancer, merged_exon)</th>\n",
       "      <th>new chen zscore</th>\n",
       "    </tr>\n",
       "  </thead>\n",
       "  <tbody>\n",
       "    <tr>\n",
       "      <th>0</th>\n",
       "      <td>chr1</td>\n",
       "      <td>1432000</td>\n",
       "      <td>1433000</td>\n",
       "      <td>260</td>\n",
       "      <td>-0.247615</td>\n",
       "      <td>2.264194</td>\n",
       "      <td>0.118933</td>\n",
       "      <td>-0.339806</td>\n",
       "      <td>1.967525</td>\n",
       "      <td>0.075982</td>\n",
       "      <td>-0.372778</td>\n",
       "      <td>1.786749</td>\n",
       "      <td>0.081009</td>\n",
       "      <td>1000.0</td>\n",
       "      <td>NaN</td>\n",
       "      <td>True</td>\n",
       "      <td>False</td>\n",
       "      <td>(True, False)</td>\n",
       "      <td>4.299894</td>\n",
       "    </tr>\n",
       "    <tr>\n",
       "      <th>1</th>\n",
       "      <td>chr1</td>\n",
       "      <td>1435000</td>\n",
       "      <td>1436000</td>\n",
       "      <td>275</td>\n",
       "      <td>-7.547130</td>\n",
       "      <td>-2.542472</td>\n",
       "      <td>-6.944479</td>\n",
       "      <td>-6.810107</td>\n",
       "      <td>-2.075201</td>\n",
       "      <td>-6.071172</td>\n",
       "      <td>-6.280673</td>\n",
       "      <td>-1.910324</td>\n",
       "      <td>-5.310077</td>\n",
       "      <td>1000.0</td>\n",
       "      <td>444.0</td>\n",
       "      <td>True</td>\n",
       "      <td>True</td>\n",
       "      <td>(True, True)</td>\n",
       "      <td>3.331645</td>\n",
       "    </tr>\n",
       "    <tr>\n",
       "      <th>2</th>\n",
       "      <td>chr1</td>\n",
       "      <td>1449000</td>\n",
       "      <td>1450000</td>\n",
       "      <td>225</td>\n",
       "      <td>0.258359</td>\n",
       "      <td>2.316462</td>\n",
       "      <td>0.600034</td>\n",
       "      <td>0.330975</td>\n",
       "      <td>2.319833</td>\n",
       "      <td>0.684473</td>\n",
       "      <td>0.139977</td>\n",
       "      <td>2.101117</td>\n",
       "      <td>0.520413</td>\n",
       "      <td>NaN</td>\n",
       "      <td>311.0</td>\n",
       "      <td>False</td>\n",
       "      <td>True</td>\n",
       "      <td>(False, True)</td>\n",
       "      <td>1.817267</td>\n",
       "    </tr>\n",
       "    <tr>\n",
       "      <th>3</th>\n",
       "      <td>chr1</td>\n",
       "      <td>1450000</td>\n",
       "      <td>1451000</td>\n",
       "      <td>313</td>\n",
       "      <td>2.197534</td>\n",
       "      <td>5.178077</td>\n",
       "      <td>2.607210</td>\n",
       "      <td>2.480911</td>\n",
       "      <td>5.214801</td>\n",
       "      <td>2.933478</td>\n",
       "      <td>2.524948</td>\n",
       "      <td>5.129449</td>\n",
       "      <td>2.997041</td>\n",
       "      <td>NaN</td>\n",
       "      <td>758.0</td>\n",
       "      <td>False</td>\n",
       "      <td>True</td>\n",
       "      <td>(False, True)</td>\n",
       "      <td>1.365863</td>\n",
       "    </tr>\n",
       "    <tr>\n",
       "      <th>4</th>\n",
       "      <td>chr1</td>\n",
       "      <td>1451000</td>\n",
       "      <td>1452000</td>\n",
       "      <td>293</td>\n",
       "      <td>2.367303</td>\n",
       "      <td>5.056714</td>\n",
       "      <td>2.758334</td>\n",
       "      <td>2.725116</td>\n",
       "      <td>5.216863</td>\n",
       "      <td>3.145152</td>\n",
       "      <td>2.951595</td>\n",
       "      <td>5.311666</td>\n",
       "      <td>3.382963</td>\n",
       "      <td>NaN</td>\n",
       "      <td>NaN</td>\n",
       "      <td>False</td>\n",
       "      <td>False</td>\n",
       "      <td>(False, False)</td>\n",
       "      <td>0.666316</td>\n",
       "    </tr>\n",
       "    <tr>\n",
       "      <th>...</th>\n",
       "      <td>...</td>\n",
       "      <td>...</td>\n",
       "      <td>...</td>\n",
       "      <td>...</td>\n",
       "      <td>...</td>\n",
       "      <td>...</td>\n",
       "      <td>...</td>\n",
       "      <td>...</td>\n",
       "      <td>...</td>\n",
       "      <td>...</td>\n",
       "      <td>...</td>\n",
       "      <td>...</td>\n",
       "      <td>...</td>\n",
       "      <td>...</td>\n",
       "      <td>...</td>\n",
       "      <td>...</td>\n",
       "      <td>...</td>\n",
       "      <td>...</td>\n",
       "      <td>...</td>\n",
       "    </tr>\n",
       "    <tr>\n",
       "      <th>1786072</th>\n",
       "      <td>chr9</td>\n",
       "      <td>137269000</td>\n",
       "      <td>137270000</td>\n",
       "      <td>210</td>\n",
       "      <td>-3.445370</td>\n",
       "      <td>-0.925010</td>\n",
       "      <td>-3.097011</td>\n",
       "      <td>-3.228932</td>\n",
       "      <td>-0.881123</td>\n",
       "      <td>-2.872507</td>\n",
       "      <td>-3.060479</td>\n",
       "      <td>-0.742758</td>\n",
       "      <td>-2.657076</td>\n",
       "      <td>1000.0</td>\n",
       "      <td>NaN</td>\n",
       "      <td>True</td>\n",
       "      <td>False</td>\n",
       "      <td>(True, False)</td>\n",
       "      <td>5.276351</td>\n",
       "    </tr>\n",
       "    <tr>\n",
       "      <th>1786073</th>\n",
       "      <td>chr9</td>\n",
       "      <td>137275000</td>\n",
       "      <td>137276000</td>\n",
       "      <td>296</td>\n",
       "      <td>1.921453</td>\n",
       "      <td>4.684512</td>\n",
       "      <td>2.318246</td>\n",
       "      <td>1.974808</td>\n",
       "      <td>4.515817</td>\n",
       "      <td>2.405245</td>\n",
       "      <td>1.990841</td>\n",
       "      <td>4.391365</td>\n",
       "      <td>2.417947</td>\n",
       "      <td>712.0</td>\n",
       "      <td>NaN</td>\n",
       "      <td>True</td>\n",
       "      <td>False</td>\n",
       "      <td>(True, False)</td>\n",
       "      <td>2.687348</td>\n",
       "    </tr>\n",
       "    <tr>\n",
       "      <th>1786074</th>\n",
       "      <td>chr9</td>\n",
       "      <td>137282000</td>\n",
       "      <td>137283000</td>\n",
       "      <td>211</td>\n",
       "      <td>-1.919711</td>\n",
       "      <td>0.252487</td>\n",
       "      <td>-1.596114</td>\n",
       "      <td>-1.783906</td>\n",
       "      <td>0.278109</td>\n",
       "      <td>-1.452829</td>\n",
       "      <td>-1.612483</td>\n",
       "      <td>0.278168</td>\n",
       "      <td>-1.309697</td>\n",
       "      <td>572.0</td>\n",
       "      <td>641.0</td>\n",
       "      <td>True</td>\n",
       "      <td>True</td>\n",
       "      <td>(True, True)</td>\n",
       "      <td>-0.090791</td>\n",
       "    </tr>\n",
       "    <tr>\n",
       "      <th>1786075</th>\n",
       "      <td>chr9</td>\n",
       "      <td>137290000</td>\n",
       "      <td>137291000</td>\n",
       "      <td>224</td>\n",
       "      <td>-0.682673</td>\n",
       "      <td>1.438412</td>\n",
       "      <td>-0.362059</td>\n",
       "      <td>-0.522518</td>\n",
       "      <td>1.394931</td>\n",
       "      <td>-0.220129</td>\n",
       "      <td>-0.215971</td>\n",
       "      <td>1.436882</td>\n",
       "      <td>0.036259</td>\n",
       "      <td>NaN</td>\n",
       "      <td>NaN</td>\n",
       "      <td>False</td>\n",
       "      <td>False</td>\n",
       "      <td>(False, False)</td>\n",
       "      <td>2.162811</td>\n",
       "    </tr>\n",
       "    <tr>\n",
       "      <th>1786076</th>\n",
       "      <td>chr9</td>\n",
       "      <td>137294000</td>\n",
       "      <td>137295000</td>\n",
       "      <td>182</td>\n",
       "      <td>-5.749158</td>\n",
       "      <td>-3.146285</td>\n",
       "      <td>-5.400950</td>\n",
       "      <td>-5.529565</td>\n",
       "      <td>-3.076692</td>\n",
       "      <td>-5.160589</td>\n",
       "      <td>-5.354983</td>\n",
       "      <td>-2.987383</td>\n",
       "      <td>-4.948494</td>\n",
       "      <td>1000.0</td>\n",
       "      <td>1000.0</td>\n",
       "      <td>True</td>\n",
       "      <td>True</td>\n",
       "      <td>(True, True)</td>\n",
       "      <td>4.476550</td>\n",
       "    </tr>\n",
       "  </tbody>\n",
       "</table>\n",
       "<p>1786077 rows × 19 columns</p>\n",
       "</div>"
      ],
      "text/plain": [
       "        chromosome      start        end  N_observed  N_bar_3_noncoding  \\\n",
       "0             chr1    1432000    1433000         260          -0.247615   \n",
       "1             chr1    1435000    1436000         275          -7.547130   \n",
       "2             chr1    1449000    1450000         225           0.258359   \n",
       "3             chr1    1450000    1451000         313           2.197534   \n",
       "4             chr1    1451000    1452000         293           2.367303   \n",
       "...            ...        ...        ...         ...                ...   \n",
       "1786072       chr9  137269000  137270000         210          -3.445370   \n",
       "1786073       chr9  137275000  137276000         296           1.921453   \n",
       "1786074       chr9  137282000  137283000         211          -1.919711   \n",
       "1786075       chr9  137290000  137291000         224          -0.682673   \n",
       "1786076       chr9  137294000  137295000         182          -5.749158   \n",
       "\n",
       "         N_bar_3_coding  N_bar_3_chenWindows  N_bar_5_noncoding  \\\n",
       "0              2.264194             0.118933          -0.339806   \n",
       "1             -2.542472            -6.944479          -6.810107   \n",
       "2              2.316462             0.600034           0.330975   \n",
       "3              5.178077             2.607210           2.480911   \n",
       "4              5.056714             2.758334           2.725116   \n",
       "...                 ...                  ...                ...   \n",
       "1786072       -0.925010            -3.097011          -3.228932   \n",
       "1786073        4.684512             2.318246           1.974808   \n",
       "1786074        0.252487            -1.596114          -1.783906   \n",
       "1786075        1.438412            -0.362059          -0.522518   \n",
       "1786076       -3.146285            -5.400950          -5.529565   \n",
       "\n",
       "         N_bar_5_coding  N_bar_5_chenWindows  N_bar_7_noncoding  \\\n",
       "0              1.967525             0.075982          -0.372778   \n",
       "1             -2.075201            -6.071172          -6.280673   \n",
       "2              2.319833             0.684473           0.139977   \n",
       "3              5.214801             2.933478           2.524948   \n",
       "4              5.216863             3.145152           2.951595   \n",
       "...                 ...                  ...                ...   \n",
       "1786072       -0.881123            -2.872507          -3.060479   \n",
       "1786073        4.515817             2.405245           1.990841   \n",
       "1786074        0.278109            -1.452829          -1.612483   \n",
       "1786075        1.394931            -0.220129          -0.215971   \n",
       "1786076       -3.076692            -5.160589          -5.354983   \n",
       "\n",
       "         N_bar_7_coding  N_bar_7_chenWindows  enhancer overlap  \\\n",
       "0              1.786749             0.081009            1000.0   \n",
       "1             -1.910324            -5.310077            1000.0   \n",
       "2              2.101117             0.520413               NaN   \n",
       "3              5.129449             2.997041               NaN   \n",
       "4              5.311666             3.382963               NaN   \n",
       "...                 ...                  ...               ...   \n",
       "1786072       -0.742758            -2.657076            1000.0   \n",
       "1786073        4.391365             2.417947             712.0   \n",
       "1786074        0.278168            -1.309697             572.0   \n",
       "1786075        1.436882             0.036259               NaN   \n",
       "1786076       -2.987383            -4.948494            1000.0   \n",
       "\n",
       "         merged_exon overlap  window overlaps enhancer  \\\n",
       "0                        NaN                      True   \n",
       "1                      444.0                      True   \n",
       "2                      311.0                     False   \n",
       "3                      758.0                     False   \n",
       "4                        NaN                     False   \n",
       "...                      ...                       ...   \n",
       "1786072                  NaN                      True   \n",
       "1786073                  NaN                      True   \n",
       "1786074                641.0                      True   \n",
       "1786075                  NaN                     False   \n",
       "1786076               1000.0                      True   \n",
       "\n",
       "         window overlaps merged_exon window overlaps (enhancer, merged_exon)  \\\n",
       "0                              False                           (True, False)   \n",
       "1                               True                            (True, True)   \n",
       "2                               True                           (False, True)   \n",
       "3                               True                           (False, True)   \n",
       "4                              False                          (False, False)   \n",
       "...                              ...                                     ...   \n",
       "1786072                        False                           (True, False)   \n",
       "1786073                        False                           (True, False)   \n",
       "1786074                         True                            (True, True)   \n",
       "1786075                        False                          (False, False)   \n",
       "1786076                         True                            (True, True)   \n",
       "\n",
       "         new chen zscore  \n",
       "0               4.299894  \n",
       "1               3.331645  \n",
       "2               1.817267  \n",
       "3               1.365863  \n",
       "4               0.666316  \n",
       "...                  ...  \n",
       "1786072         5.276351  \n",
       "1786073         2.687348  \n",
       "1786074        -0.090791  \n",
       "1786075         2.162811  \n",
       "1786076         4.476550  \n",
       "\n",
       "[1786077 rows x 19 columns]"
      ]
     },
     "execution_count": 15,
     "metadata": {},
     "output_type": "execute_result"
    }
   ],
   "source": [
    "on = ['chromosome', 'start', 'end']\n",
    "how = 'inner'\n",
    "\n",
    "chen_mchale_zscores_features = pd.merge(chen_mchale_zscores_features, get_new_chen_zscores(), on=on, how=how)\n",
    "chen_mchale_zscores_features"
   ]
  },
  {
   "cell_type": "markdown",
   "id": "169fc0e2",
   "metadata": {},
   "source": [
    "## How correlated are the z-scores for different kmer sizes, and different train sets? "
   ]
  },
  {
   "cell_type": "code",
   "execution_count": 16,
   "id": "adb759e5",
   "metadata": {},
   "outputs": [
    {
     "data": {
      "text/plain": [
       "[<matplotlib.lines.Line2D at 0x2b752ab07f70>]"
      ]
     },
     "execution_count": 16,
     "metadata": {},
     "output_type": "execute_result"
    },
    {
     "data": {
      "image/png": "[encoded data removed]",
      "text/plain": [
       "<Figure size 432x288 with 1 Axes>"
      ]
     },
     "metadata": {
      "needs_background": "light"
     },
     "output_type": "display_data"
    }
   ],
   "source": [
    "import matplotlib.pyplot as plt \n",
    "\n",
    "chen_mchale_zscores_features.plot.scatter(x='N_bar_3_noncoding', y='N_bar_7_noncoding')\n",
    "plt.plot([-20, 40], [-20, 40], 'red')"
   ]
  },
  {
   "cell_type": "code",
   "execution_count": 17,
   "id": "ba525815",
   "metadata": {},
   "outputs": [
    {
     "data": {
      "text/plain": [
       "[<matplotlib.lines.Line2D at 0x2b752abb2280>]"
      ]
     },
     "execution_count": 17,
     "metadata": {},
     "output_type": "execute_result"
    },
    {
     "data": {
      "image/png": "[encoded data removed]",
      "text/plain": [
       "<Figure size 432x288 with 1 Axes>"
      ]
     },
     "metadata": {
      "needs_background": "light"
     },
     "output_type": "display_data"
    }
   ],
   "source": [
    "chen_mchale_zscores_features.plot.scatter(x='N_bar_3_noncoding', y='N_bar_3_coding')\n",
    "plt.plot([-20, 40], [-20, 40], 'red')"
   ]
  },
  {
   "cell_type": "code",
   "execution_count": 18,
   "id": "ae3a0782",
   "metadata": {
    "scrolled": true
   },
   "outputs": [
    {
     "data": {
      "text/plain": [
       "[<matplotlib.lines.Line2D at 0x2b752abfee20>]"
      ]
     },
     "execution_count": 18,
     "metadata": {},
     "output_type": "execute_result"
    },
    {
     "data": {
      "image/png": "[encoded data removed]",
      "text/plain": [
       "<Figure size 432x288 with 1 Axes>"
      ]
     },
     "metadata": {
      "needs_background": "light"
     },
     "output_type": "display_data"
    }
   ],
   "source": [
    "chen_mchale_zscores_features.plot.scatter(x='N_bar_3_noncoding', y='N_bar_3_chenWindows')\n",
    "plt.plot([-20, 40], [-20, 40], 'red')"
   ]
  },
  {
   "cell_type": "markdown",
   "id": "9c34f677",
   "metadata": {},
   "source": [
    "## How correlated are the Chen zscores with my zscores? "
   ]
  },
  {
   "cell_type": "code",
   "execution_count": 19,
   "id": "31e21d7f",
   "metadata": {},
   "outputs": [],
   "source": [
    "chen_mchale_zscores_features['negative new chen zscore'] = -chen_mchale_zscores_features['new chen zscore']"
   ]
  },
  {
   "cell_type": "code",
   "execution_count": 20,
   "id": "bc777316",
   "metadata": {},
   "outputs": [
    {
     "data": {
      "text/plain": [
       "[<matplotlib.lines.Line2D at 0x2b752acb8100>]"
      ]
     },
     "execution_count": 20,
     "metadata": {},
     "output_type": "execute_result"
    },
    {
     "data": {
      "image/png": "[encoded data removed]",
      "text/plain": [
       "<Figure size 432x288 with 1 Axes>"
      ]
     },
     "metadata": {
      "needs_background": "light"
     },
     "output_type": "display_data"
    }
   ],
   "source": [
    "chen_mchale_zscores_features.plot.scatter(x='N_bar_3_noncoding', y='negative new chen zscore')\n",
    "plt.plot([-20, 40], [-20, 40], 'red')"
   ]
  },
  {
   "cell_type": "markdown",
   "id": "b9e87dff",
   "metadata": {},
   "source": [
    "## Stratify windows by whether they overlap exons or not"
   ]
  },
  {
   "cell_type": "code",
   "execution_count": 21,
   "id": "2054366a",
   "metadata": {},
   "outputs": [],
   "source": [
    "def filter_df(\n",
    "    feature_to_stratify_by,\n",
    "    window_overlaps_stratify_feature\n",
    "): \n",
    "    df = chen_mchale_zscores_features\n",
    "    df = df[\n",
    "        (df[feature_to_stratify_by] == window_overlaps_stratify_feature) \n",
    "    ]\n",
    "    return df\n"
   ]
  },
  {
   "cell_type": "code",
   "execution_count": 22,
   "id": "5a4f60ed",
   "metadata": {},
   "outputs": [],
   "source": [
    "chen_mchale_zscores_features_noncoding = filter_df(\n",
    "    feature_to_stratify_by = 'window overlaps merged_exon',\n",
    "    window_overlaps_stratify_feature = False,\n",
    ")\n",
    "chen_mchale_zscores_features_coding = filter_df(\n",
    "    feature_to_stratify_by = 'window overlaps merged_exon',\n",
    "    window_overlaps_stratify_feature = True,\n",
    ")"
   ]
  },
  {
   "cell_type": "markdown",
   "id": "17c2857a",
   "metadata": {},
   "source": [
    "## Windows with extreme values of McHale's N_bar_X_Y are significantly more likely to overlap an enhancer than windows with similarly extreme values of Chen's zscore"
   ]
  },
  {
   "cell_type": "code",
   "execution_count": 44,
   "id": "396f9ae9",
   "metadata": {},
   "outputs": [
    {
     "name": "stderr",
     "output_type": "stream",
     "text": [
      "compute_enhancerFraction_vs_quantile: 100%|██████████████████████████████████████████████████████████████████████████████████████████████████████████████████████████████████████████████████████| 10/10 [00:02<00:00,  4.38it/s]\n"
     ]
    },
    {
     "data": {
      "application/vnd.plotly.v1+json": {
       "config": {
        "plotlyServerURL": "https://plot.ly"
       },
       "data": [
        {
         "hovertemplate": "%{text}",
         "marker": {
          "symbol": "square"
         },
         "mode": "lines+markers",
         "name": "negative new chen zscore",
         "text": [
          "negative new chen zscore mean: -5.80287763775625<br>negative new chen zscore std: 0.7413147514714268<br>number of windows: 3058<br>",
          "negative new chen zscore mean: -4.755554188252232<br>negative new chen zscore std: 0.169971086914762<br>number of windows: 4586<br>",
          "negative new chen zscore mean: -4.216041262878195<br>negative new chen zscore std: 0.1441953808092372<br>number of windows: 7643<br>",
          "negative new chen zscore mean: -3.706608788349369<br>negative new chen zscore std: 0.14688301256812758<br>number of windows: 15287<br>",
          "negative new chen zscore mean: -3.074171127722225<br>negative new chen zscore std: 0.20136520956676543<br>number of windows: 45861<br>",
          "negative new chen zscore mean: -2.4469565067045362<br>negative new chen zscore std: 0.16791481582474338<br>number of windows: 76434<br>",
          "negative new chen zscore mean: -1.6533653184767783<br>negative new chen zscore std: 0.27297863604739653<br>number of windows: 229303<br>",
          "negative new chen zscore mean: -0.6541900540996515<br>negative new chen zscore std: 0.3153356994663781<br>number of windows: 382171<br>",
          "negative new chen zscore mean: 0.4570975350437835<br>negative new chen zscore std: 0.3487447900608777<br>number of windows: 382171<br>",
          "negative new chen zscore mean: 1.666920910503694<br>negative new chen zscore std: 0.364978728111818<br>number of windows: 229303<br>",
          "negative new chen zscore mean: 2.8149794212257757<br>negative new chen zscore std: 0.2713472165960978<br>number of windows: 76434<br>",
          "negative new chen zscore mean: 3.922487788343145<br>negative new chen zscore std: 0.3903951960440469<br>number of windows: 45861<br>",
          "negative new chen zscore mean: 5.245200664147038<br>negative new chen zscore std: 0.32748515112642423<br>number of windows: 15287<br>",
          "negative new chen zscore mean: 6.373694471971899<br>negative new chen zscore std: 0.30788232109960934<br>number of windows: 7643<br>",
          "negative new chen zscore mean: 7.476458247356288<br>negative new chen zscore std: 0.328297150276121<br>number of windows: 4586<br>",
          "negative new chen zscore mean: 8.885205172256223<br>negative new chen zscore std: 0.5237395083009199<br>number of windows: 3058<br>"
         ],
         "type": "scatter",
         "x": [
          "0.0 - 0.002",
          "0.002 - 0.005",
          "0.005 - 0.01",
          "0.01 - 0.02",
          "0.02 - 0.05",
          "0.05 - 0.1",
          "0.1 - 0.25",
          "0.25 - 0.5",
          "0.5 - 0.75",
          "0.75 - 0.9",
          "0.9 - 0.95",
          "0.95 - 0.98",
          "0.98 - 0.99",
          "0.99 - 0.995",
          "0.995 - 0.998",
          "0.998 - 1.0"
         ],
         "y": [
          0.5801177240026161,
          0.5399040558220671,
          0.5385319900562606,
          0.5289461634068162,
          0.49650029436776344,
          0.4636810843341968,
          0.41809309080125423,
          0.3503274712105314,
          0.273409023709282,
          0.20063845654003654,
          0.14815396289609337,
          0.11792154553978326,
          0.09766468240989076,
          0.08020410833442365,
          0.07610117749672918,
          0.059516023544800525
         ]
        },
        {
         "hovertemplate": "%{text}",
         "marker": {
          "symbol": "circle"
         },
         "mode": "lines+markers",
         "name": "N_bar_3_noncoding",
         "text": [
          "N_bar_3_noncoding mean: -5.470383914232944<br>N_bar_3_noncoding std: 0.8736321328137008<br>number of windows: 3058<br>",
          "N_bar_3_noncoding mean: -4.463556553320523<br>N_bar_3_noncoding std: 0.13494460698885605<br>number of windows: 4586<br>",
          "N_bar_3_noncoding mean: -4.066855515231377<br>N_bar_3_noncoding std: 0.10043734446100908<br>number of windows: 7643<br>",
          "N_bar_3_noncoding mean: -3.7022629361930375<br>N_bar_3_noncoding std: 0.10737671971187764<br>number of windows: 15287<br>",
          "N_bar_3_noncoding mean: -3.216160136913721<br>N_bar_3_noncoding std: 0.15950676187187804<br>number of windows: 45861<br>",
          "N_bar_3_noncoding mean: -2.690376186199722<br>N_bar_3_noncoding std: 0.14682644994426713<br>number of windows: 76434<br>",
          "N_bar_3_noncoding mean: -1.968041661198355<br>N_bar_3_noncoding std: 0.2562194072253613<br>number of windows: 229303<br>",
          "N_bar_3_noncoding mean: -0.9907365901070821<br>N_bar_3_noncoding std: 0.3189290109611892<br>number of windows: 382171<br>",
          "N_bar_3_noncoding mean: 0.17243398738746818<br>N_bar_3_noncoding std: 0.3778342487789074<br>number of windows: 382171<br>",
          "N_bar_3_noncoding mean: 1.560757220901054<br>N_bar_3_noncoding std: 0.4507390967165505<br>number of windows: 229303<br>",
          "N_bar_3_noncoding mean: 3.110081058919272<br>N_bar_3_noncoding std: 0.41323944509589255<br>number of windows: 76434<br>",
          "N_bar_3_noncoding mean: 4.925732393240848<br>N_bar_3_noncoding std: 0.6560363721522069<br>number of windows: 45861<br>",
          "N_bar_3_noncoding mean: 7.003530592163433<br>N_bar_3_noncoding std: 0.4785542444366455<br>number of windows: 15287<br>",
          "N_bar_3_noncoding mean: 8.584730891875335<br>N_bar_3_noncoding std: 0.4388378534004684<br>number of windows: 7643<br>",
          "N_bar_3_noncoding mean: 10.406504864166376<br>N_bar_3_noncoding std: 0.6591390438377458<br>number of windows: 4586<br>",
          "N_bar_3_noncoding mean: 14.648617585976586<br>N_bar_3_noncoding std: 2.549247284691608<br>number of windows: 3058<br>"
         ],
         "type": "scatter",
         "x": [
          "0.0 - 0.002",
          "0.002 - 0.005",
          "0.005 - 0.01",
          "0.01 - 0.02",
          "0.02 - 0.05",
          "0.05 - 0.1",
          "0.1 - 0.25",
          "0.25 - 0.5",
          "0.5 - 0.75",
          "0.75 - 0.9",
          "0.9 - 0.95",
          "0.95 - 0.98",
          "0.98 - 0.99",
          "0.99 - 0.995",
          "0.995 - 0.998",
          "0.998 - 1.0"
         ],
         "y": [
          0.7249836494440811,
          0.5806803314435238,
          0.539709538139474,
          0.5172368679269967,
          0.48694969581997777,
          0.4561844205458304,
          0.4138061865740963,
          0.3495686485892441,
          0.26838509463041416,
          0.1961247781319913,
          0.1642593610173483,
          0.1560149146333486,
          0.14659514620265585,
          0.13267041737537616,
          0.14195377235063236,
          0.17396991497710923
         ]
        },
        {
         "hovertemplate": "%{text}",
         "marker": {
          "symbol": "circle"
         },
         "mode": "lines+markers",
         "name": "N_bar_3_coding",
         "text": [
          "N_bar_3_coding mean: -3.462604355639034<br>N_bar_3_coding std: 0.39068787664690785<br>number of windows: 3058<br>",
          "N_bar_3_coding mean: -2.8339355506226673<br>N_bar_3_coding std: 0.11339545820368867<br>number of windows: 4586<br>",
          "N_bar_3_coding mean: -2.4818445572030234<br>N_bar_3_coding std: 0.0932017785497549<br>number of windows: 7643<br>",
          "N_bar_3_coding mean: -2.1356613334773686<br>N_bar_3_coding std: 0.10468414390469186<br>number of windows: 15287<br>",
          "N_bar_3_coding mean: -1.6546284055503155<br>N_bar_3_coding std: 0.16014330726869166<br>number of windows: 45861<br>",
          "N_bar_3_coding mean: -1.1276662492254148<br>N_bar_3_coding std: 0.14717716340809647<br>number of windows: 76434<br>",
          "N_bar_3_coding mean: -0.39780368416125994<br>N_bar_3_coding std: 0.2597690157990238<br>number of windows: 229303<br>",
          "N_bar_3_coding mean: 0.5920747736877443<br>N_bar_3_coding std: 0.3235350915177684<br>number of windows: 382171<br>",
          "N_bar_3_coding mean: 1.7742405941646573<br>N_bar_3_coding std: 0.3856683939573295<br>number of windows: 382171<br>",
          "N_bar_3_coding mean: 3.198302745773801<br>N_bar_3_coding std: 0.46613195357138504<br>number of windows: 229303<br>",
          "N_bar_3_coding mean: 4.812694294028538<br>N_bar_3_coding std: 0.43486005114528403<br>number of windows: 76434<br>",
          "N_bar_3_coding mean: 6.722602422665456<br>N_bar_3_coding std: 0.6870069816667356<br>number of windows: 45861<br>",
          "N_bar_3_coding mean: 8.890927327333245<br>N_bar_3_coding std: 0.4981770849788197<br>number of windows: 15287<br>",
          "N_bar_3_coding mean: 10.549027987117963<br>N_bar_3_coding std: 0.4595589266496591<br>number of windows: 7643<br>",
          "N_bar_3_coding mean: 12.468955415356493<br>N_bar_3_coding std: 0.6918190799601812<br>number of windows: 4586<br>",
          "N_bar_3_coding mean: 16.878062911108106<br>N_bar_3_coding std: 2.6431143858438477<br>number of windows: 3058<br>"
         ],
         "type": "scatter",
         "x": [
          "0.0 - 0.002",
          "0.002 - 0.005",
          "0.005 - 0.01",
          "0.01 - 0.02",
          "0.02 - 0.05",
          "0.05 - 0.1",
          "0.1 - 0.25",
          "0.25 - 0.5",
          "0.5 - 0.75",
          "0.75 - 0.9",
          "0.9 - 0.95",
          "0.95 - 0.98",
          "0.98 - 0.99",
          "0.99 - 0.995",
          "0.995 - 0.998",
          "0.998 - 1.0"
         ],
         "y": [
          0.5546108567691301,
          0.5226777147841256,
          0.49156090540363734,
          0.4819781513704455,
          0.4656461917533416,
          0.4388099536855326,
          0.4032829923725377,
          0.3485141468086276,
          0.2757639904650013,
          0.2076815392733632,
          0.1741240809064029,
          0.16523843788840192,
          0.15032380453980507,
          0.14287583409655893,
          0.14762320104666377,
          0.17625899280575538
         ]
        },
        {
         "hovertemplate": "%{text}",
         "marker": {
          "symbol": "circle"
         },
         "mode": "lines+markers",
         "name": "N_bar_3_chenWindows",
         "text": [
          "N_bar_3_chenWindows mean: -5.144944770038314<br>N_bar_3_chenWindows std: 0.8121771096800391<br>number of windows: 3058<br>",
          "N_bar_3_chenWindows mean: -4.194138620230569<br>N_bar_3_chenWindows std: 0.13135193282371513<br>number of windows: 4586<br>",
          "N_bar_3_chenWindows mean: -3.802154541163017<br>N_bar_3_chenWindows std: 0.10004904634703847<br>number of windows: 7643<br>",
          "N_bar_3_chenWindows mean: -3.438735844679222<br>N_bar_3_chenWindows std: 0.107402495667204<br>number of windows: 15287<br>",
          "N_bar_3_chenWindows mean: -2.951835434224443<br>N_bar_3_chenWindows std: 0.1602646915340004<br>number of windows: 45861<br>",
          "N_bar_3_chenWindows mean: -2.4238355919996293<br>N_bar_3_chenWindows std: 0.14737234344148628<br>number of windows: 76434<br>",
          "N_bar_3_chenWindows mean: -1.6977856323905962<br>N_bar_3_chenWindows std: 0.2576531274538914<br>number of windows: 229303<br>",
          "N_bar_3_chenWindows mean: -0.7149163783625782<br>N_bar_3_chenWindows std: 0.32082416050970647<br>number of windows: 382171<br>",
          "N_bar_3_chenWindows mean: 0.4557036696473314<br>N_bar_3_chenWindows std: 0.3804842494343376<br>number of windows: 382171<br>",
          "N_bar_3_chenWindows mean: 1.8544805220639844<br>N_bar_3_chenWindows std: 0.4545635672395575<br>number of windows: 229303<br>",
          "N_bar_3_chenWindows mean: 3.4181492854369453<br>N_bar_3_chenWindows std: 0.4174670235912631<br>number of windows: 76434<br>",
          "N_bar_3_chenWindows mean: 5.252246043856234<br>N_bar_3_chenWindows std: 0.6624049978272026<br>number of windows: 45861<br>",
          "N_bar_3_chenWindows mean: 7.349639092798784<br>N_bar_3_chenWindows std: 0.48309845589594425<br>number of windows: 15287<br>",
          "N_bar_3_chenWindows mean: 8.94618005883215<br>N_bar_3_chenWindows std: 0.4432059772295695<br>number of windows: 7643<br>",
          "N_bar_3_chenWindows mean: 10.786452991602825<br>N_bar_3_chenWindows std: 0.6653435855063045<br>number of windows: 4586<br>",
          "N_bar_3_chenWindows mean: 15.065699337295355<br>N_bar_3_chenWindows std: 2.570959125026378<br>number of windows: 3058<br>"
         ],
         "type": "scatter",
         "x": [
          "0.0 - 0.002",
          "0.002 - 0.005",
          "0.005 - 0.01",
          "0.01 - 0.02",
          "0.02 - 0.05",
          "0.05 - 0.1",
          "0.1 - 0.25",
          "0.25 - 0.5",
          "0.5 - 0.75",
          "0.75 - 0.9",
          "0.9 - 0.95",
          "0.95 - 0.98",
          "0.98 - 0.99",
          "0.99 - 0.995",
          "0.995 - 0.998",
          "0.998 - 1.0"
         ],
         "y": [
          0.7050359712230215,
          0.5782817269952027,
          0.5313358628810676,
          0.5146202655851377,
          0.48487821896600597,
          0.45479760316089696,
          0.4128554794311457,
          0.34942473395417234,
          0.2691308341030586,
          0.19715398402986442,
          0.16539759792762385,
          0.15656004012123592,
          0.1470530516124812,
          0.13293209472720136,
          0.14369821194941126,
          0.17396991497710923
         ]
        },
        {
         "hovertemplate": "%{text}",
         "marker": {
          "symbol": "circle"
         },
         "mode": "lines+markers",
         "name": "N_bar_5_noncoding",
         "text": [
          "N_bar_5_noncoding mean: -5.372645895369634<br>N_bar_5_noncoding std: 0.7742595141265833<br>number of windows: 3058<br>",
          "N_bar_5_noncoding mean: -4.4553270843455675<br>N_bar_5_noncoding std: 0.12842012197806452<br>number of windows: 4586<br>",
          "N_bar_5_noncoding mean: -4.068619404596059<br>N_bar_5_noncoding std: 0.0993914535762919<br>number of windows: 7643<br>",
          "N_bar_5_noncoding mean: -3.707771727188924<br>N_bar_5_noncoding std: 0.10686788018918829<br>number of windows: 15287<br>",
          "N_bar_5_noncoding mean: -3.2244255686523418<br>N_bar_5_noncoding std: 0.15946114092197133<br>number of windows: 45861<br>",
          "N_bar_5_noncoding mean: -2.6996119533535765<br>N_bar_5_noncoding std: 0.14663032166250328<br>number of windows: 76434<br>",
          "N_bar_5_noncoding mean: -1.977529849079933<br>N_bar_5_noncoding std: 0.2561254163370849<br>number of windows: 229303<br>",
          "N_bar_5_noncoding mean: -1.00071839455168<br>N_bar_5_noncoding std: 0.31882145499413855<br>number of windows: 382171<br>",
          "N_bar_5_noncoding mean: 0.16234473733636834<br>N_bar_5_noncoding std: 0.3781851382791069<br>number of windows: 382171<br>",
          "N_bar_5_noncoding mean: 1.5526811314349855<br>N_bar_5_noncoding std: 0.4516199373418752<br>number of windows: 229303<br>",
          "N_bar_5_noncoding mean: 3.104476234818319<br>N_bar_5_noncoding std: 0.4137687089696623<br>number of windows: 76434<br>",
          "N_bar_5_noncoding mean: 4.924045848579834<br>N_bar_5_noncoding std: 0.6578064799188899<br>number of windows: 45861<br>",
          "N_bar_5_noncoding mean: 7.010985937984934<br>N_bar_5_noncoding std: 0.48019916936433216<br>number of windows: 15287<br>",
          "N_bar_5_noncoding mean: 8.60066942525876<br>N_bar_5_noncoding std: 0.44158303322443637<br>number of windows: 7643<br>",
          "N_bar_5_noncoding mean: 10.43699768321662<br>N_bar_5_noncoding std: 0.6634722468532094<br>number of windows: 4586<br>",
          "N_bar_5_noncoding mean: 14.717196694845008<br>N_bar_5_noncoding std: 2.565998050115656<br>number of windows: 3058<br>"
         ],
         "type": "scatter",
         "x": [
          "0.0 - 0.002",
          "0.002 - 0.005",
          "0.005 - 0.01",
          "0.01 - 0.02",
          "0.02 - 0.05",
          "0.05 - 0.1",
          "0.1 - 0.25",
          "0.25 - 0.5",
          "0.5 - 0.75",
          "0.75 - 0.9",
          "0.9 - 0.95",
          "0.95 - 0.98",
          "0.98 - 0.99",
          "0.99 - 0.995",
          "0.995 - 0.998",
          "0.998 - 1.0"
         ],
         "y": [
          0.6984957488554611,
          0.5780636720453555,
          0.5329059269920189,
          0.5171060378099038,
          0.4827195220339722,
          0.4525865452547296,
          0.4124542635726528,
          0.3499454432701592,
          0.2690000026166297,
          0.19775144677566364,
          0.16476960514954078,
          0.15780292623361897,
          0.1479034473735854,
          0.13528719089362815,
          0.1434801569995639,
          0.17593198168737736
         ]
        },
        {
         "hovertemplate": "%{text}",
         "marker": {
          "symbol": "circle"
         },
         "mode": "lines+markers",
         "name": "N_bar_5_coding",
         "text": [
          "N_bar_5_coding mean: -3.5046475966493382<br>N_bar_5_coding std: 0.37444765665434177<br>number of windows: 3058<br>",
          "N_bar_5_coding mean: -2.8849356961411274<br>N_bar_5_coding std: 0.11340097290221869<br>number of windows: 4586<br>",
          "N_bar_5_coding mean: -2.5322311772490336<br>N_bar_5_coding std: 0.09412832948897787<br>number of windows: 7643<br>",
          "N_bar_5_coding mean: -2.184305946472743<br>N_bar_5_coding std: 0.10393549433735118<br>number of windows: 15287<br>",
          "N_bar_5_coding mean: -1.7028918704048908<br>N_bar_5_coding std: 0.16117293617262504<br>number of windows: 45861<br>",
          "N_bar_5_coding mean: -1.1726334127991402<br>N_bar_5_coding std: 0.14858966804942433<br>number of windows: 76434<br>",
          "N_bar_5_coding mean: -0.4378187419596914<br>N_bar_5_coding std: 0.2612680693923106<br>number of windows: 229303<br>",
          "N_bar_5_coding mean: 0.5584880314242633<br>N_bar_5_coding std: 0.3255181054473877<br>number of windows: 382171<br>",
          "N_bar_5_coding mean: 1.7479600454183324<br>N_bar_5_coding std: 0.38799409569362064<br>number of windows: 382171<br>",
          "N_bar_5_coding mean: 3.180560655616307<br>N_bar_5_coding std: 0.4682444365371261<br>number of windows: 229303<br>",
          "N_bar_5_coding mean: 4.798542677742419<br>N_bar_5_coding std: 0.43469618953005734<br>number of windows: 76434<br>",
          "N_bar_5_coding mean: 6.711088325407301<br>N_bar_5_coding std: 0.6889309191949782<br>number of windows: 45861<br>",
          "N_bar_5_coding mean: 8.888979991693178<br>N_bar_5_coding std: 0.5008791411761376<br>number of windows: 15287<br>",
          "N_bar_5_coding mean: 10.550950346750318<br>N_bar_5_coding std: 0.4604426405238636<br>number of windows: 7643<br>",
          "N_bar_5_coding mean: 12.477618472191663<br>N_bar_5_coding std: 0.6935297622599798<br>number of windows: 4586<br>",
          "N_bar_5_coding mean: 16.917053982878762<br>N_bar_5_coding std: 2.6549210193939414<br>number of windows: 3058<br>"
         ],
         "type": "scatter",
         "x": [
          "0.0 - 0.002",
          "0.002 - 0.005",
          "0.005 - 0.01",
          "0.01 - 0.02",
          "0.02 - 0.05",
          "0.05 - 0.1",
          "0.1 - 0.25",
          "0.25 - 0.5",
          "0.5 - 0.75",
          "0.75 - 0.9",
          "0.9 - 0.95",
          "0.95 - 0.98",
          "0.98 - 0.99",
          "0.99 - 0.995",
          "0.995 - 0.998",
          "0.998 - 1.0"
         ],
         "y": [
          0.553629823413996,
          0.522895769733973,
          0.5000654193379563,
          0.484790998887944,
          0.4668672728462092,
          0.4399351074129314,
          0.40410722929922416,
          0.34941426743525805,
          0.27507581684638555,
          0.2060810368813317,
          0.17258026532694873,
          0.16414818691262728,
          0.15222084123765292,
          0.13986654455056916,
          0.14914958569559528,
          0.1775670372792675
         ]
        },
        {
         "hovertemplate": "%{text}",
         "marker": {
          "symbol": "circle"
         },
         "mode": "lines+markers",
         "name": "N_bar_5_chenWindows",
         "text": [
          "N_bar_5_chenWindows mean: -5.029293270643666<br>N_bar_5_chenWindows std: 0.6901784662652327<br>number of windows: 3058<br>",
          "N_bar_5_chenWindows mean: -4.181668305469834<br>N_bar_5_chenWindows std: 0.12353412217737106<br>number of windows: 4586<br>",
          "N_bar_5_chenWindows mean: -3.801534016223374<br>N_bar_5_chenWindows std: 0.09927527379588691<br>number of windows: 7643<br>",
          "N_bar_5_chenWindows mean: -3.44283065158162<br>N_bar_5_chenWindows std: 0.10660158969814101<br>number of windows: 15287<br>",
          "N_bar_5_chenWindows mean: -2.9591627270124237<br>N_bar_5_chenWindows std: 0.16022879726481523<br>number of windows: 45861<br>",
          "N_bar_5_chenWindows mean: -2.4321944249881815<br>N_bar_5_chenWindows std: 0.14707742294027035<br>number of windows: 76434<br>",
          "N_bar_5_chenWindows mean: -1.7063359775097449<br>N_bar_5_chenWindows std: 0.25760404415020205<br>number of windows: 229303<br>",
          "N_bar_5_chenWindows mean: -0.7237239683285899<br>N_bar_5_chenWindows std: 0.32078580905236875<br>number of windows: 382171<br>",
          "N_bar_5_chenWindows mean: 0.44707841126004316<br>N_bar_5_chenWindows std: 0.38091556636102014<br>number of windows: 382171<br>",
          "N_bar_5_chenWindows mean: 1.8484889264561537<br>N_bar_5_chenWindows std: 0.4556756445732158<br>number of windows: 229303<br>",
          "N_bar_5_chenWindows mean: 3.4155157832851715<br>N_bar_5_chenWindows std: 0.4184082658824755<br>number of windows: 76434<br>",
          "N_bar_5_chenWindows mean: 5.254858630744805<br>N_bar_5_chenWindows std: 0.6644561531322286<br>number of windows: 45861<br>",
          "N_bar_5_chenWindows mean: 7.362356045264315<br>N_bar_5_chenWindows std: 0.48491679608961297<br>number of windows: 15287<br>",
          "N_bar_5_chenWindows mean: 8.968084065023888<br>N_bar_5_chenWindows std: 0.44612284365295085<br>number of windows: 7643<br>",
          "N_bar_5_chenWindows mean: 10.824344645027525<br>N_bar_5_chenWindows std: 0.6701803054192689<br>number of windows: 4586<br>",
          "N_bar_5_chenWindows mean: 15.142466662553973<br>N_bar_5_chenWindows std: 2.5881698221559124<br>number of windows: 3058<br>"
         ],
         "type": "scatter",
         "x": [
          "0.0 - 0.002",
          "0.002 - 0.005",
          "0.005 - 0.01",
          "0.01 - 0.02",
          "0.02 - 0.05",
          "0.05 - 0.1",
          "0.1 - 0.25",
          "0.25 - 0.5",
          "0.5 - 0.75",
          "0.75 - 0.9",
          "0.9 - 0.95",
          "0.95 - 0.98",
          "0.98 - 0.99",
          "0.99 - 0.995",
          "0.995 - 0.998",
          "0.998 - 1.0"
         ],
         "y": [
          0.6746239372138653,
          0.5717400784997819,
          0.5258406384927384,
          0.5114803427749068,
          0.4807788752970934,
          0.4510427296752754,
          0.4108363170128607,
          0.35013122398088814,
          0.2698033079433029,
          0.19902050998024448,
          0.1659863411570767,
          0.1588495671703626,
          0.14809969254922484,
          0.13554886824545337,
          0.1450065416484954,
          0.17527795945062133
         ]
        },
        {
         "hovertemplate": "%{text}",
         "marker": {
          "symbol": "circle"
         },
         "mode": "lines+markers",
         "name": "N_bar_7_noncoding",
         "text": [
          "N_bar_7_noncoding mean: -5.271716886414666<br>N_bar_7_noncoding std: 0.6879158360374922<br>number of windows: 3058<br>",
          "N_bar_7_noncoding mean: -4.4221966614251516<br>N_bar_7_noncoding std: 0.12456886498930164<br>number of windows: 4586<br>",
          "N_bar_7_noncoding mean: -4.040521471161485<br>N_bar_7_noncoding std: 0.0994798902782238<br>number of windows: 7643<br>",
          "N_bar_7_noncoding mean: -3.684158494128257<br>N_bar_7_noncoding std: 0.10573110525848259<br>number of windows: 15287<br>",
          "N_bar_7_noncoding mean: -3.2034955382081804<br>N_bar_7_noncoding std: 0.15881759862193184<br>number of windows: 45861<br>",
          "N_bar_7_noncoding mean: -2.6832024272499657<br>N_bar_7_noncoding std: 0.14548564880326342<br>number of windows: 76434<br>",
          "N_bar_7_noncoding mean: -1.9655265351443205<br>N_bar_7_noncoding std: 0.25432537341189965<br>number of windows: 229303<br>",
          "N_bar_7_noncoding mean: -0.9954358662265431<br>N_bar_7_noncoding std: 0.31656351767103336<br>number of windows: 382171<br>",
          "N_bar_7_noncoding mean: 0.15897685769996198<br>N_bar_7_noncoding std: 0.3757597609454352<br>number of windows: 382171<br>",
          "N_bar_7_noncoding mean: 1.5418655328855662<br>N_bar_7_noncoding std: 0.4499933367772212<br>number of windows: 229303<br>",
          "N_bar_7_noncoding mean: 3.090587917334522<br>N_bar_7_noncoding std: 0.4136653230474077<br>number of windows: 76434<br>",
          "N_bar_7_noncoding mean: 4.907450866286149<br>N_bar_7_noncoding std: 0.6569931887540257<br>number of windows: 45861<br>",
          "N_bar_7_noncoding mean: 6.9948938191727255<br>N_bar_7_noncoding std: 0.4796822935838129<br>number of windows: 15287<br>",
          "N_bar_7_noncoding mean: 8.59121962182924<br>N_bar_7_noncoding std: 0.44370766281636415<br>number of windows: 7643<br>",
          "N_bar_7_noncoding mean: 10.43607129112241<br>N_bar_7_noncoding std: 0.6672156584115209<br>number of windows: 4586<br>",
          "N_bar_7_noncoding mean: 14.748509046170966<br>N_bar_7_noncoding std: 2.5834372555624276<br>number of windows: 3058<br>"
         ],
         "type": "scatter",
         "x": [
          "0.0 - 0.002",
          "0.002 - 0.005",
          "0.005 - 0.01",
          "0.01 - 0.02",
          "0.02 - 0.05",
          "0.05 - 0.1",
          "0.1 - 0.25",
          "0.25 - 0.5",
          "0.5 - 0.75",
          "0.75 - 0.9",
          "0.9 - 0.95",
          "0.95 - 0.98",
          "0.98 - 0.99",
          "0.99 - 0.995",
          "0.995 - 0.998",
          "0.998 - 1.0"
         ],
         "y": [
          0.683126226291694,
          0.5763192324465766,
          0.5230930262985739,
          0.5112186825407209,
          0.47912169381391595,
          0.449655912290342,
          0.4101559944701988,
          0.3490427060138001,
          0.2708813593914766,
          0.19953511292918105,
          0.16682366486118744,
          0.16026689343886963,
          0.14980048407143323,
          0.13947402852283136,
          0.14718709114696904,
          0.1775670372792675
         ]
        },
        {
         "hovertemplate": "%{text}",
         "marker": {
          "symbol": "circle"
         },
         "mode": "lines+markers",
         "name": "N_bar_7_coding",
         "text": [
          "N_bar_7_coding mean: -3.5148793352388052<br>N_bar_7_coding std: 0.37325171743068103<br>number of windows: 3058<br>",
          "N_bar_7_coding mean: -2.8934102309798337<br>N_bar_7_coding std: 0.11351469517479203<br>number of windows: 4586<br>",
          "N_bar_7_coding mean: -2.54096886258205<br>N_bar_7_coding std: 0.09398476864188028<br>number of windows: 7643<br>",
          "N_bar_7_coding mean: -2.194108317770652<br>N_bar_7_coding std: 0.10392875592063609<br>number of windows: 15287<br>",
          "N_bar_7_coding mean: -1.7119628789337724<br>N_bar_7_coding std: 0.16060588790279434<br>number of windows: 45861<br>",
          "N_bar_7_coding mean: -1.182385119781955<br>N_bar_7_coding std: 0.14841884272427347<br>number of windows: 76434<br>",
          "N_bar_7_coding mean: -0.4484985425466693<br>N_bar_7_coding std: 0.26101770026800536<br>number of windows: 229303<br>",
          "N_bar_7_coding mean: 0.5462559145555035<br>N_bar_7_coding std: 0.32490418364210477<br>number of windows: 382171<br>",
          "N_bar_7_coding mean: 1.7327050501846621<br>N_bar_7_coding std: 0.3870541703041979<br>number of windows: 382171<br>",
          "N_bar_7_coding mean: 3.1631991017447394<br>N_bar_7_coding std: 0.4682533456277601<br>number of windows: 229303<br>",
          "N_bar_7_coding mean: 4.784656156788291<br>N_bar_7_coding std: 0.4369339309878209<br>number of windows: 76434<br>",
          "N_bar_7_coding mean: 6.705290464105859<br>N_bar_7_coding std: 0.6927731491078707<br>number of windows: 45861<br>",
          "N_bar_7_coding mean: 8.89648977526289<br>N_bar_7_coding std: 0.5027923206134597<br>number of windows: 15287<br>",
          "N_bar_7_coding mean: 10.565788736458993<br>N_bar_7_coding std: 0.46137126472889595<br>number of windows: 7643<br>",
          "N_bar_7_coding mean: 12.49472029694377<br>N_bar_7_coding std: 0.6937482988028494<br>number of windows: 4586<br>",
          "N_bar_7_coding mean: 16.943899360837037<br>N_bar_7_coding std: 2.663829985403506<br>number of windows: 3058<br>"
         ],
         "type": "scatter",
         "x": [
          "0.0 - 0.002",
          "0.002 - 0.005",
          "0.005 - 0.01",
          "0.01 - 0.02",
          "0.02 - 0.05",
          "0.05 - 0.1",
          "0.1 - 0.25",
          "0.25 - 0.5",
          "0.5 - 0.75",
          "0.75 - 0.9",
          "0.9 - 0.95",
          "0.95 - 0.98",
          "0.98 - 0.99",
          "0.99 - 0.995",
          "0.995 - 0.998",
          "0.998 - 1.0"
         ],
         "y": [
          0.5474166121648136,
          0.5198430004361099,
          0.4940468402459767,
          0.47936154902858635,
          0.4653627264996402,
          0.43741005311772246,
          0.40342254571462216,
          0.3489668237516714,
          0.27632656585664533,
          0.2067308321304126,
          0.1742025800036633,
          0.1641045768735963,
          0.15261333158893178,
          0.14012822190239435,
          0.14893153074574794,
          0.17625899280575538
         ]
        },
        {
         "hovertemplate": "%{text}",
         "marker": {
          "symbol": "circle"
         },
         "mode": "lines+markers",
         "name": "N_bar_7_chenWindows",
         "text": [
          "N_bar_7_chenWindows mean: -4.9216477221632315<br>N_bar_7_chenWindows std: 0.5912107883479666<br>number of windows: 3058<br>",
          "N_bar_7_chenWindows mean: -4.150811705556578<br>N_bar_7_chenWindows std: 0.11941793981329861<br>number of windows: 4586<br>",
          "N_bar_7_chenWindows mean: -3.7790846677580774<br>N_bar_7_chenWindows std: 0.0975997063366255<br>number of windows: 7643<br>",
          "N_bar_7_chenWindows mean: -3.4255003899072554<br>N_bar_7_chenWindows std: 0.10495139183274806<br>number of windows: 15287<br>",
          "N_bar_7_chenWindows mean: -2.945389506643657<br>N_bar_7_chenWindows std: 0.15942370859817068<br>number of windows: 45861<br>",
          "N_bar_7_chenWindows mean: -2.423238621552797<br>N_bar_7_chenWindows std: 0.14598623515083192<br>number of windows: 76434<br>",
          "N_bar_7_chenWindows mean: -1.7022634940744337<br>N_bar_7_chenWindows std: 0.2557066985205965<br>number of windows: 229303<br>",
          "N_bar_7_chenWindows mean: -0.7266797618386972<br>N_bar_7_chenWindows std: 0.31843609983464854<br>number of windows: 382171<br>",
          "N_bar_7_chenWindows mean: 0.43504320777555805<br>N_bar_7_chenWindows std: 0.37835249617415057<br>number of windows: 382171<br>",
          "N_bar_7_chenWindows mean: 1.828852420355455<br>N_bar_7_chenWindows std: 0.4541226871531687<br>number of windows: 229303<br>",
          "N_bar_7_chenWindows mean: 3.3941941984156974<br>N_bar_7_chenWindows std: 0.41910236022680997<br>number of windows: 76434<br>",
          "N_bar_7_chenWindows mean: 5.234638212021629<br>N_bar_7_chenWindows std: 0.6651191095387603<br>number of windows: 45861<br>",
          "N_bar_7_chenWindows mean: 7.346301214770584<br>N_bar_7_chenWindows std: 0.48537743691619<br>number of windows: 15287<br>",
          "N_bar_7_chenWindows mean: 8.959701467226322<br>N_bar_7_chenWindows std: 0.44848511216094494<br>number of windows: 7643<br>",
          "N_bar_7_chenWindows mean: 10.825026820994976<br>N_bar_7_chenWindows std: 0.6733517171995819<br>number of windows: 4586<br>",
          "N_bar_7_chenWindows mean: 15.170899073084499<br>N_bar_7_chenWindows std: 2.6033483639848<br>number of windows: 3058<br>"
         ],
         "type": "scatter",
         "x": [
          "0.0 - 0.002",
          "0.002 - 0.005",
          "0.005 - 0.01",
          "0.01 - 0.02",
          "0.02 - 0.05",
          "0.05 - 0.1",
          "0.1 - 0.25",
          "0.25 - 0.5",
          "0.5 - 0.75",
          "0.75 - 0.9",
          "0.9 - 0.95",
          "0.95 - 0.98",
          "0.98 - 0.99",
          "0.99 - 0.995",
          "0.995 - 0.998",
          "0.998 - 1.0"
         ],
         "y": [
          0.6494440810987574,
          0.5647623201046664,
          0.5148501897160801,
          0.503565120690783,
          0.4754584505353132,
          0.4468037784232148,
          0.40853368686846664,
          0.3492572696515434,
          0.2719646440991075,
          0.20125772449553647,
          0.168930057304341,
          0.1609210440243344,
          0.150454634656898,
          0.14052073793013214,
          0.1456607064980375,
          0.17789404839764553
         ]
        },
        {
         "mode": "lines",
         "name": "fraction of all windows that overlap an enhancer",
         "type": "scatter",
         "x": [
          "0.0 - 0.002",
          "0.002 - 0.005",
          "0.005 - 0.01",
          "0.01 - 0.02",
          "0.02 - 0.05",
          "0.05 - 0.1",
          "0.1 - 0.25",
          "0.25 - 0.5",
          "0.5 - 0.75",
          "0.75 - 0.9",
          "0.9 - 0.95",
          "0.95 - 0.98",
          "0.98 - 0.99",
          "0.99 - 0.995",
          "0.995 - 0.998",
          "0.998 - 1.0"
         ],
         "y": [
          0.3102553434779935,
          0.3102553434779935,
          0.3102553434779935,
          0.3102553434779935,
          0.3102553434779935,
          0.3102553434779935,
          0.3102553434779935,
          0.3102553434779935,
          0.3102553434779935,
          0.3102553434779935,
          0.3102553434779935,
          0.3102553434779935,
          0.3102553434779935,
          0.3102553434779935,
          0.3102553434779935,
          0.3102553434779935
         ]
        }
       ],
       "layout": {
        "font": {
         "size": 20
        },
        "height": 800,
        "template": {
         "data": {
          "bar": [
           {
            "error_x": {
             "color": "#2a3f5f"
            },
            "error_y": {
             "color": "#2a3f5f"
            },
            "marker": {
             "line": {
              "color": "#E5ECF6",
              "width": 0.5
             },
             "pattern": {
              "fillmode": "overlay",
              "size": 10,
              "solidity": 0.2
             }
            },
            "type": "bar"
           }
          ],
          "barpolar": [
           {
            "marker": {
             "line": {
              "color": "#E5ECF6",
              "width": 0.5
             },
             "pattern": {
              "fillmode": "overlay",
              "size": 10,
              "solidity": 0.2
             }
            },
            "type": "barpolar"
           }
          ],
          "carpet": [
           {
            "aaxis": {
             "endlinecolor": "#2a3f5f",
             "gridcolor": "white",
             "linecolor": "white",
             "minorgridcolor": "white",
             "startlinecolor": "#2a3f5f"
            },
            "baxis": {
             "endlinecolor": "#2a3f5f",
             "gridcolor": "white",
             "linecolor": "white",
             "minorgridcolor": "white",
             "startlinecolor": "#2a3f5f"
            },
            "type": "carpet"
           }
          ],
          "choropleth": [
           {
            "colorbar": {
             "outlinewidth": 0,
             "ticks": ""
            },
            "type": "choropleth"
           }
          ],
          "contour": [
           {
            "colorbar": {
             "outlinewidth": 0,
             "ticks": ""
            },
            "colorscale": [
             [
              0,
              "#0d0887"
             ],
             [
              0.1111111111111111,
              "#46039f"
             ],
             [
              0.2222222222222222,
              "#7201a8"
             ],
             [
              0.3333333333333333,
              "#9c179e"
             ],
             [
              0.4444444444444444,
              "#bd3786"
             ],
             [
              0.5555555555555556,
              "#d8576b"
             ],
             [
              0.6666666666666666,
              "#ed7953"
             ],
             [
              0.7777777777777778,
              "#fb9f3a"
             ],
             [
              0.8888888888888888,
              "#fdca26"
             ],
             [
              1,
              "#f0f921"
             ]
            ],
            "type": "contour"
           }
          ],
          "contourcarpet": [
           {
            "colorbar": {
             "outlinewidth": 0,
             "ticks": ""
            },
            "type": "contourcarpet"
           }
          ],
          "heatmap": [
           {
            "colorbar": {
             "outlinewidth": 0,
             "ticks": ""
            },
            "colorscale": [
             [
              0,
              "#0d0887"
             ],
             [
              0.1111111111111111,
              "#46039f"
             ],
             [
              0.2222222222222222,
              "#7201a8"
             ],
             [
              0.3333333333333333,
              "#9c179e"
             ],
             [
              0.4444444444444444,
              "#bd3786"
             ],
             [
              0.5555555555555556,
              "#d8576b"
             ],
             [
              0.6666666666666666,
              "#ed7953"
             ],
             [
              0.7777777777777778,
              "#fb9f3a"
             ],
             [
              0.8888888888888888,
              "#fdca26"
             ],
             [
              1,
              "#f0f921"
             ]
            ],
            "type": "heatmap"
           }
          ],
          "heatmapgl": [
           {
            "colorbar": {
             "outlinewidth": 0,
             "ticks": ""
            },
            "colorscale": [
             [
              0,
              "#0d0887"
             ],
             [
              0.1111111111111111,
              "#46039f"
             ],
             [
              0.2222222222222222,
              "#7201a8"
             ],
             [
              0.3333333333333333,
              "#9c179e"
             ],
             [
              0.4444444444444444,
              "#bd3786"
             ],
             [
              0.5555555555555556,
              "#d8576b"
             ],
             [
              0.6666666666666666,
              "#ed7953"
             ],
             [
              0.7777777777777778,
              "#fb9f3a"
             ],
             [
              0.8888888888888888,
              "#fdca26"
             ],
             [
              1,
              "#f0f921"
             ]
            ],
            "type": "heatmapgl"
           }
          ],
          "histogram": [
           {
            "marker": {
             "pattern": {
              "fillmode": "overlay",
              "size": 10,
              "solidity": 0.2
             }
            },
            "type": "histogram"
           }
          ],
          "histogram2d": [
           {
            "colorbar": {
             "outlinewidth": 0,
             "ticks": ""
            },
            "colorscale": [
             [
              0,
              "#0d0887"
             ],
             [
              0.1111111111111111,
              "#46039f"
             ],
             [
              0.2222222222222222,
              "#7201a8"
             ],
             [
              0.3333333333333333,
              "#9c179e"
             ],
             [
              0.4444444444444444,
              "#bd3786"
             ],
             [
              0.5555555555555556,
              "#d8576b"
             ],
             [
              0.6666666666666666,
              "#ed7953"
             ],
             [
              0.7777777777777778,
              "#fb9f3a"
             ],
             [
              0.8888888888888888,
              "#fdca26"
             ],
             [
              1,
              "#f0f921"
             ]
            ],
            "type": "histogram2d"
           }
          ],
          "histogram2dcontour": [
           {
            "colorbar": {
             "outlinewidth": 0,
             "ticks": ""
            },
            "colorscale": [
             [
              0,
              "#0d0887"
             ],
             [
              0.1111111111111111,
              "#46039f"
             ],
             [
              0.2222222222222222,
              "#7201a8"
             ],
             [
              0.3333333333333333,
              "#9c179e"
             ],
             [
              0.4444444444444444,
              "#bd3786"
             ],
             [
              0.5555555555555556,
              "#d8576b"
             ],
             [
              0.6666666666666666,
              "#ed7953"
             ],
             [
              0.7777777777777778,
              "#fb9f3a"
             ],
             [
              0.8888888888888888,
              "#fdca26"
             ],
             [
              1,
              "#f0f921"
             ]
            ],
            "type": "histogram2dcontour"
           }
          ],
          "mesh3d": [
           {
            "colorbar": {
             "outlinewidth": 0,
             "ticks": ""
            },
            "type": "mesh3d"
           }
          ],
          "parcoords": [
           {
            "line": {
             "colorbar": {
              "outlinewidth": 0,
              "ticks": ""
             }
            },
            "type": "parcoords"
           }
          ],
          "pie": [
           {
            "automargin": true,
            "type": "pie"
           }
          ],
          "scatter": [
           {
            "marker": {
             "colorbar": {
              "outlinewidth": 0,
              "ticks": ""
             }
            },
            "type": "scatter"
           }
          ],
          "scatter3d": [
           {
            "line": {
             "colorbar": {
              "outlinewidth": 0,
              "ticks": ""
             }
            },
            "marker": {
             "colorbar": {
              "outlinewidth": 0,
              "ticks": ""
             }
            },
            "type": "scatter3d"
           }
          ],
          "scattercarpet": [
           {
            "marker": {
             "colorbar": {
              "outlinewidth": 0,
              "ticks": ""
             }
            },
            "type": "scattercarpet"
           }
          ],
          "scattergeo": [
           {
            "marker": {
             "colorbar": {
              "outlinewidth": 0,
              "ticks": ""
             }
            },
            "type": "scattergeo"
           }
          ],
          "scattergl": [
           {
            "marker": {
             "colorbar": {
              "outlinewidth": 0,
              "ticks": ""
             }
            },
            "type": "scattergl"
           }
          ],
          "scattermapbox": [
           {
            "marker": {
             "colorbar": {
              "outlinewidth": 0,
              "ticks": ""
             }
            },
            "type": "scattermapbox"
           }
          ],
          "scatterpolar": [
           {
            "marker": {
             "colorbar": {
              "outlinewidth": 0,
              "ticks": ""
             }
            },
            "type": "scatterpolar"
           }
          ],
          "scatterpolargl": [
           {
            "marker": {
             "colorbar": {
              "outlinewidth": 0,
              "ticks": ""
             }
            },
            "type": "scatterpolargl"
           }
          ],
          "scatterternary": [
           {
            "marker": {
             "colorbar": {
              "outlinewidth": 0,
              "ticks": ""
             }
            },
            "type": "scatterternary"
           }
          ],
          "surface": [
           {
            "colorbar": {
             "outlinewidth": 0,
             "ticks": ""
            },
            "colorscale": [
             [
              0,
              "#0d0887"
             ],
             [
              0.1111111111111111,
              "#46039f"
             ],
             [
              0.2222222222222222,
              "#7201a8"
             ],
             [
              0.3333333333333333,
              "#9c179e"
             ],
             [
              0.4444444444444444,
              "#bd3786"
             ],
             [
              0.5555555555555556,
              "#d8576b"
             ],
             [
              0.6666666666666666,
              "#ed7953"
             ],
             [
              0.7777777777777778,
              "#fb9f3a"
             ],
             [
              0.8888888888888888,
              "#fdca26"
             ],
             [
              1,
              "#f0f921"
             ]
            ],
            "type": "surface"
           }
          ],
          "table": [
           {
            "cells": {
             "fill": {
              "color": "#EBF0F8"
             },
             "line": {
              "color": "white"
             }
            },
            "header": {
             "fill": {
              "color": "#C8D4E3"
             },
             "line": {
              "color": "white"
             }
            },
            "type": "table"
           }
          ]
         },
         "layout": {
          "annotationdefaults": {
           "arrowcolor": "#2a3f5f",
           "arrowhead": 0,
           "arrowwidth": 1
          },
          "autotypenumbers": "strict",
          "coloraxis": {
           "colorbar": {
            "outlinewidth": 0,
            "ticks": ""
           }
          },
          "colorscale": {
           "diverging": [
            [
             0,
             "#8e0152"
            ],
            [
             0.1,
             "#c51b7d"
            ],
            [
             0.2,
             "#de77ae"
            ],
            [
             0.3,
             "#f1b6da"
            ],
            [
             0.4,
             "#fde0ef"
            ],
            [
             0.5,
             "#f7f7f7"
            ],
            [
             0.6,
             "#e6f5d0"
            ],
            [
             0.7,
             "#b8e186"
            ],
            [
             0.8,
             "#7fbc41"
            ],
            [
             0.9,
             "#4d9221"
            ],
            [
             1,
             "#276419"
            ]
           ],
           "sequential": [
            [
             0,
             "#0d0887"
            ],
            [
             0.1111111111111111,
             "#46039f"
            ],
            [
             0.2222222222222222,
             "#7201a8"
            ],
            [
             0.3333333333333333,
             "#9c179e"
            ],
            [
             0.4444444444444444,
             "#bd3786"
            ],
            [
             0.5555555555555556,
             "#d8576b"
            ],
            [
             0.6666666666666666,
             "#ed7953"
            ],
            [
             0.7777777777777778,
             "#fb9f3a"
            ],
            [
             0.8888888888888888,
             "#fdca26"
            ],
            [
             1,
             "#f0f921"
            ]
           ],
           "sequentialminus": [
            [
             0,
             "#0d0887"
            ],
            [
             0.1111111111111111,
             "#46039f"
            ],
            [
             0.2222222222222222,
             "#7201a8"
            ],
            [
             0.3333333333333333,
             "#9c179e"
            ],
            [
             0.4444444444444444,
             "#bd3786"
            ],
            [
             0.5555555555555556,
             "#d8576b"
            ],
            [
             0.6666666666666666,
             "#ed7953"
            ],
            [
             0.7777777777777778,
             "#fb9f3a"
            ],
            [
             0.8888888888888888,
             "#fdca26"
            ],
            [
             1,
             "#f0f921"
            ]
           ]
          },
          "colorway": [
           "#636efa",
           "#EF553B",
           "#00cc96",
           "#ab63fa",
           "#FFA15A",
           "#19d3f3",
           "#FF6692",
           "#B6E880",
           "#FF97FF",
           "#FECB52"
          ],
          "font": {
           "color": "#2a3f5f"
          },
          "geo": {
           "bgcolor": "white",
           "lakecolor": "white",
           "landcolor": "#E5ECF6",
           "showlakes": true,
           "showland": true,
           "subunitcolor": "white"
          },
          "hoverlabel": {
           "align": "left"
          },
          "hovermode": "closest",
          "mapbox": {
           "style": "light"
          },
          "paper_bgcolor": "white",
          "plot_bgcolor": "#E5ECF6",
          "polar": {
           "angularaxis": {
            "gridcolor": "white",
            "linecolor": "white",
            "ticks": ""
           },
           "bgcolor": "#E5ECF6",
           "radialaxis": {
            "gridcolor": "white",
            "linecolor": "white",
            "ticks": ""
           }
          },
          "scene": {
           "xaxis": {
            "backgroundcolor": "#E5ECF6",
            "gridcolor": "white",
            "gridwidth": 2,
            "linecolor": "white",
            "showbackground": true,
            "ticks": "",
            "zerolinecolor": "white"
           },
           "yaxis": {
            "backgroundcolor": "#E5ECF6",
            "gridcolor": "white",
            "gridwidth": 2,
            "linecolor": "white",
            "showbackground": true,
            "ticks": "",
            "zerolinecolor": "white"
           },
           "zaxis": {
            "backgroundcolor": "#E5ECF6",
            "gridcolor": "white",
            "gridwidth": 2,
            "linecolor": "white",
            "showbackground": true,
            "ticks": "",
            "zerolinecolor": "white"
           }
          },
          "shapedefaults": {
           "line": {
            "color": "#2a3f5f"
           }
          },
          "ternary": {
           "aaxis": {
            "gridcolor": "white",
            "linecolor": "white",
            "ticks": ""
           },
           "baxis": {
            "gridcolor": "white",
            "linecolor": "white",
            "ticks": ""
           },
           "bgcolor": "#E5ECF6",
           "caxis": {
            "gridcolor": "white",
            "linecolor": "white",
            "ticks": ""
           }
          },
          "title": {
           "x": 0.05
          },
          "xaxis": {
           "automargin": true,
           "gridcolor": "white",
           "linecolor": "white",
           "ticks": "",
           "title": {
            "standoff": 15
           },
           "zerolinecolor": "white",
           "zerolinewidth": 2
          },
          "yaxis": {
           "automargin": true,
           "gridcolor": "white",
           "linecolor": "white",
           "ticks": "",
           "title": {
            "standoff": 15
           },
           "zerolinecolor": "white",
           "zerolinewidth": 2
          }
         }
        },
        "width": 1600,
        "xaxis": {
         "title": {
          "text": "quantile of window score"
         }
        },
        "yaxis": {
         "title": {
          "text": "fraction of Chen windows that overlap a GeneHancer enhancer"
         }
        }
       }
      },
      "text/html": [
       "<div>                            <div id=\"c30dd22e-59b5-4638-95c7-e99f0f2cb617\" class=\"plotly-graph-div\" style=\"height:800px; width:1600px;\"></div>            <script type=\"text/javascript\">                require([\"plotly\"], function(Plotly) {                    window.PLOTLYENV=window.PLOTLYENV || {};                                    if (document.getElementById(\"c30dd22e-59b5-4638-95c7-e99f0f2cb617\")) {                    Plotly.newPlot(                        \"c30dd22e-59b5-4638-95c7-e99f0f2cb617\",                        [{\"hovertemplate\":\"%{text}\",\"marker\":{\"symbol\":\"square\"},\"mode\":\"lines+markers\",\"name\":\"negative new chen zscore\",\"text\":[\"negative new chen zscore mean: -5.80287763775625<br>negative new chen zscore std: 0.7413147514714268<br>number of windows: 3058<br>\",\"negative new chen zscore mean: -4.755554188252232<br>negative new chen zscore std: 0.169971086914762<br>number of windows: 4586<br>\",\"negative new chen zscore mean: -4.216041262878195<br>negative new chen zscore std: 0.1441953808092372<br>number of windows: 7643<br>\",\"negative new chen zscore mean: -3.706608788349369<br>negative new chen zscore std: 0.14688301256812758<br>number of windows: 15287<br>\",\"negative new chen zscore mean: -3.074171127722225<br>negative new chen zscore std: 0.20136520956676543<br>number of windows: 45861<br>\",\"negative new chen zscore mean: -2.4469565067045362<br>negative new chen zscore std: 0.16791481582474338<br>number of windows: 76434<br>\",\"negative new chen zscore mean: -1.6533653184767783<br>negative new chen zscore std: 0.27297863604739653<br>number of windows: 229303<br>\",\"negative new chen zscore mean: -0.6541900540996515<br>negative new chen zscore std: 0.3153356994663781<br>number of windows: 382171<br>\",\"negative new chen zscore mean: 0.4570975350437835<br>negative new chen zscore std: 0.3487447900608777<br>number of windows: 382171<br>\",\"negative new chen zscore mean: 1.666920910503694<br>negative new chen zscore std: 0.364978728111818<br>number of windows: 229303<br>\",\"negative new chen zscore mean: 2.8149794212257757<br>negative new chen zscore std: 0.2713472165960978<br>number of windows: 76434<br>\",\"negative new chen zscore mean: 3.922487788343145<br>negative new chen zscore std: 0.3903951960440469<br>number of windows: 45861<br>\",\"negative new chen zscore mean: 5.245200664147038<br>negative new chen zscore std: 0.32748515112642423<br>number of windows: 15287<br>\",\"negative new chen zscore mean: 6.373694471971899<br>negative new chen zscore std: 0.30788232109960934<br>number of windows: 7643<br>\",\"negative new chen zscore mean: 7.476458247356288<br>negative new chen zscore std: 0.328297150276121<br>number of windows: 4586<br>\",\"negative new chen zscore mean: 8.885205172256223<br>negative new chen zscore std: 0.5237395083009199<br>number of windows: 3058<br>\"],\"type\":\"scatter\",\"x\":[\"0.0 - 0.002\",\"0.002 - 0.005\",\"0.005 - 0.01\",\"0.01 - 0.02\",\"0.02 - 0.05\",\"0.05 - 0.1\",\"0.1 - 0.25\",\"0.25 - 0.5\",\"0.5 - 0.75\",\"0.75 - 0.9\",\"0.9 - 0.95\",\"0.95 - 0.98\",\"0.98 - 0.99\",\"0.99 - 0.995\",\"0.995 - 0.998\",\"0.998 - 1.0\"],\"y\":[0.5801177240026161,0.5399040558220671,0.5385319900562606,0.5289461634068162,0.49650029436776344,0.4636810843341968,0.41809309080125423,0.3503274712105314,0.273409023709282,0.20063845654003654,0.14815396289609337,0.11792154553978326,0.09766468240989076,0.08020410833442365,0.07610117749672918,0.059516023544800525]},{\"hovertemplate\":\"%{text}\",\"marker\":{\"symbol\":\"circle\"},\"mode\":\"lines+markers\",\"name\":\"N_bar_3_noncoding\",\"text\":[\"N_bar_3_noncoding mean: -5.470383914232944<br>N_bar_3_noncoding std: 0.8736321328137008<br>number of windows: 3058<br>\",\"N_bar_3_noncoding mean: -4.463556553320523<br>N_bar_3_noncoding std: 0.13494460698885605<br>number of windows: 4586<br>\",\"N_bar_3_noncoding mean: -4.066855515231377<br>N_bar_3_noncoding std: 0.10043734446100908<br>number of windows: 7643<br>\",\"N_bar_3_noncoding mean: -3.7022629361930375<br>N_bar_3_noncoding std: 0.10737671971187764<br>number of windows: 15287<br>\",\"N_bar_3_noncoding mean: -3.216160136913721<br>N_bar_3_noncoding std: 0.15950676187187804<br>number of windows: 45861<br>\",\"N_bar_3_noncoding mean: -2.690376186199722<br>N_bar_3_noncoding std: 0.14682644994426713<br>number of windows: 76434<br>\",\"N_bar_3_noncoding mean: -1.968041661198355<br>N_bar_3_noncoding std: 0.2562194072253613<br>number of windows: 229303<br>\",\"N_bar_3_noncoding mean: -0.9907365901070821<br>N_bar_3_noncoding std: 0.3189290109611892<br>number of windows: 382171<br>\",\"N_bar_3_noncoding mean: 0.17243398738746818<br>N_bar_3_noncoding std: 0.3778342487789074<br>number of windows: 382171<br>\",\"N_bar_3_noncoding mean: 1.560757220901054<br>N_bar_3_noncoding std: 0.4507390967165505<br>number of windows: 229303<br>\",\"N_bar_3_noncoding mean: 3.110081058919272<br>N_bar_3_noncoding std: 0.41323944509589255<br>number of windows: 76434<br>\",\"N_bar_3_noncoding mean: 4.925732393240848<br>N_bar_3_noncoding std: 0.6560363721522069<br>number of windows: 45861<br>\",\"N_bar_3_noncoding mean: 7.003530592163433<br>N_bar_3_noncoding std: 0.4785542444366455<br>number of windows: 15287<br>\",\"N_bar_3_noncoding mean: 8.584730891875335<br>N_bar_3_noncoding std: 0.4388378534004684<br>number of windows: 7643<br>\",\"N_bar_3_noncoding mean: 10.406504864166376<br>N_bar_3_noncoding std: 0.6591390438377458<br>number of windows: 4586<br>\",\"N_bar_3_noncoding mean: 14.648617585976586<br>N_bar_3_noncoding std: 2.549247284691608<br>number of windows: 3058<br>\"],\"type\":\"scatter\",\"x\":[\"0.0 - 0.002\",\"0.002 - 0.005\",\"0.005 - 0.01\",\"0.01 - 0.02\",\"0.02 - 0.05\",\"0.05 - 0.1\",\"0.1 - 0.25\",\"0.25 - 0.5\",\"0.5 - 0.75\",\"0.75 - 0.9\",\"0.9 - 0.95\",\"0.95 - 0.98\",\"0.98 - 0.99\",\"0.99 - 0.995\",\"0.995 - 0.998\",\"0.998 - 1.0\"],\"y\":[0.7249836494440811,0.5806803314435238,0.539709538139474,0.5172368679269967,0.48694969581997777,0.4561844205458304,0.4138061865740963,0.3495686485892441,0.26838509463041416,0.1961247781319913,0.1642593610173483,0.1560149146333486,0.14659514620265585,0.13267041737537616,0.14195377235063236,0.17396991497710923]},{\"hovertemplate\":\"%{text}\",\"marker\":{\"symbol\":\"circle\"},\"mode\":\"lines+markers\",\"name\":\"N_bar_3_coding\",\"text\":[\"N_bar_3_coding mean: -3.462604355639034<br>N_bar_3_coding std: 0.39068787664690785<br>number of windows: 3058<br>\",\"N_bar_3_coding mean: -2.8339355506226673<br>N_bar_3_coding std: 0.11339545820368867<br>number of windows: 4586<br>\",\"N_bar_3_coding mean: -2.4818445572030234<br>N_bar_3_coding std: 0.0932017785497549<br>number of windows: 7643<br>\",\"N_bar_3_coding mean: -2.1356613334773686<br>N_bar_3_coding std: 0.10468414390469186<br>number of windows: 15287<br>\",\"N_bar_3_coding mean: -1.6546284055503155<br>N_bar_3_coding std: 0.16014330726869166<br>number of windows: 45861<br>\",\"N_bar_3_coding mean: -1.1276662492254148<br>N_bar_3_coding std: 0.14717716340809647<br>number of windows: 76434<br>\",\"N_bar_3_coding mean: -0.39780368416125994<br>N_bar_3_coding std: 0.2597690157990238<br>number of windows: 229303<br>\",\"N_bar_3_coding mean: 0.5920747736877443<br>N_bar_3_coding std: 0.3235350915177684<br>number of windows: 382171<br>\",\"N_bar_3_coding mean: 1.7742405941646573<br>N_bar_3_coding std: 0.3856683939573295<br>number of windows: 382171<br>\",\"N_bar_3_coding mean: 3.198302745773801<br>N_bar_3_coding std: 0.46613195357138504<br>number of windows: 229303<br>\",\"N_bar_3_coding mean: 4.812694294028538<br>N_bar_3_coding std: 0.43486005114528403<br>number of windows: 76434<br>\",\"N_bar_3_coding mean: 6.722602422665456<br>N_bar_3_coding std: 0.6870069816667356<br>number of windows: 45861<br>\",\"N_bar_3_coding mean: 8.890927327333245<br>N_bar_3_coding std: 0.4981770849788197<br>number of windows: 15287<br>\",\"N_bar_3_coding mean: 10.549027987117963<br>N_bar_3_coding std: 0.4595589266496591<br>number of windows: 7643<br>\",\"N_bar_3_coding mean: 12.468955415356493<br>N_bar_3_coding std: 0.6918190799601812<br>number of windows: 4586<br>\",\"N_bar_3_coding mean: 16.878062911108106<br>N_bar_3_coding std: 2.6431143858438477<br>number of windows: 3058<br>\"],\"type\":\"scatter\",\"x\":[\"0.0 - 0.002\",\"0.002 - 0.005\",\"0.005 - 0.01\",\"0.01 - 0.02\",\"0.02 - 0.05\",\"0.05 - 0.1\",\"0.1 - 0.25\",\"0.25 - 0.5\",\"0.5 - 0.75\",\"0.75 - 0.9\",\"0.9 - 0.95\",\"0.95 - 0.98\",\"0.98 - 0.99\",\"0.99 - 0.995\",\"0.995 - 0.998\",\"0.998 - 1.0\"],\"y\":[0.5546108567691301,0.5226777147841256,0.49156090540363734,0.4819781513704455,0.4656461917533416,0.4388099536855326,0.4032829923725377,0.3485141468086276,0.2757639904650013,0.2076815392733632,0.1741240809064029,0.16523843788840192,0.15032380453980507,0.14287583409655893,0.14762320104666377,0.17625899280575538]},{\"hovertemplate\":\"%{text}\",\"marker\":{\"symbol\":\"circle\"},\"mode\":\"lines+markers\",\"name\":\"N_bar_3_chenWindows\",\"text\":[\"N_bar_3_chenWindows mean: -5.144944770038314<br>N_bar_3_chenWindows std: 0.8121771096800391<br>number of windows: 3058<br>\",\"N_bar_3_chenWindows mean: -4.194138620230569<br>N_bar_3_chenWindows std: 0.13135193282371513<br>number of windows: 4586<br>\",\"N_bar_3_chenWindows mean: -3.802154541163017<br>N_bar_3_chenWindows std: 0.10004904634703847<br>number of windows: 7643<br>\",\"N_bar_3_chenWindows mean: -3.438735844679222<br>N_bar_3_chenWindows std: 0.107402495667204<br>number of windows: 15287<br>\",\"N_bar_3_chenWindows mean: -2.951835434224443<br>N_bar_3_chenWindows std: 0.1602646915340004<br>number of windows: 45861<br>\",\"N_bar_3_chenWindows mean: -2.4238355919996293<br>N_bar_3_chenWindows std: 0.14737234344148628<br>number of windows: 76434<br>\",\"N_bar_3_chenWindows mean: -1.6977856323905962<br>N_bar_3_chenWindows std: 0.2576531274538914<br>number of windows: 229303<br>\",\"N_bar_3_chenWindows mean: -0.7149163783625782<br>N_bar_3_chenWindows std: 0.32082416050970647<br>number of windows: 382171<br>\",\"N_bar_3_chenWindows mean: 0.4557036696473314<br>N_bar_3_chenWindows std: 0.3804842494343376<br>number of windows: 382171<br>\",\"N_bar_3_chenWindows mean: 1.8544805220639844<br>N_bar_3_chenWindows std: 0.4545635672395575<br>number of windows: 229303<br>\",\"N_bar_3_chenWindows mean: 3.4181492854369453<br>N_bar_3_chenWindows std: 0.4174670235912631<br>number of windows: 76434<br>\",\"N_bar_3_chenWindows mean: 5.252246043856234<br>N_bar_3_chenWindows std: 0.6624049978272026<br>number of windows: 45861<br>\",\"N_bar_3_chenWindows mean: 7.349639092798784<br>N_bar_3_chenWindows std: 0.48309845589594425<br>number of windows: 15287<br>\",\"N_bar_3_chenWindows mean: 8.94618005883215<br>N_bar_3_chenWindows std: 0.4432059772295695<br>number of windows: 7643<br>\",\"N_bar_3_chenWindows mean: 10.786452991602825<br>N_bar_3_chenWindows std: 0.6653435855063045<br>number of windows: 4586<br>\",\"N_bar_3_chenWindows mean: 15.065699337295355<br>N_bar_3_chenWindows std: 2.570959125026378<br>number of windows: 3058<br>\"],\"type\":\"scatter\",\"x\":[\"0.0 - 0.002\",\"0.002 - 0.005\",\"0.005 - 0.01\",\"0.01 - 0.02\",\"0.02 - 0.05\",\"0.05 - 0.1\",\"0.1 - 0.25\",\"0.25 - 0.5\",\"0.5 - 0.75\",\"0.75 - 0.9\",\"0.9 - 0.95\",\"0.95 - 0.98\",\"0.98 - 0.99\",\"0.99 - 0.995\",\"0.995 - 0.998\",\"0.998 - 1.0\"],\"y\":[0.7050359712230215,0.5782817269952027,0.5313358628810676,0.5146202655851377,0.48487821896600597,0.45479760316089696,0.4128554794311457,0.34942473395417234,0.2691308341030586,0.19715398402986442,0.16539759792762385,0.15656004012123592,0.1470530516124812,0.13293209472720136,0.14369821194941126,0.17396991497710923]},{\"hovertemplate\":\"%{text}\",\"marker\":{\"symbol\":\"circle\"},\"mode\":\"lines+markers\",\"name\":\"N_bar_5_noncoding\",\"text\":[\"N_bar_5_noncoding mean: -5.372645895369634<br>N_bar_5_noncoding std: 0.7742595141265833<br>number of windows: 3058<br>\",\"N_bar_5_noncoding mean: -4.4553270843455675<br>N_bar_5_noncoding std: 0.12842012197806452<br>number of windows: 4586<br>\",\"N_bar_5_noncoding mean: -4.068619404596059<br>N_bar_5_noncoding std: 0.0993914535762919<br>number of windows: 7643<br>\",\"N_bar_5_noncoding mean: -3.707771727188924<br>N_bar_5_noncoding std: 0.10686788018918829<br>number of windows: 15287<br>\",\"N_bar_5_noncoding mean: -3.2244255686523418<br>N_bar_5_noncoding std: 0.15946114092197133<br>number of windows: 45861<br>\",\"N_bar_5_noncoding mean: -2.6996119533535765<br>N_bar_5_noncoding std: 0.14663032166250328<br>number of windows: 76434<br>\",\"N_bar_5_noncoding mean: -1.977529849079933<br>N_bar_5_noncoding std: 0.2561254163370849<br>number of windows: 229303<br>\",\"N_bar_5_noncoding mean: -1.00071839455168<br>N_bar_5_noncoding std: 0.31882145499413855<br>number of windows: 382171<br>\",\"N_bar_5_noncoding mean: 0.16234473733636834<br>N_bar_5_noncoding std: 0.3781851382791069<br>number of windows: 382171<br>\",\"N_bar_5_noncoding mean: 1.5526811314349855<br>N_bar_5_noncoding std: 0.4516199373418752<br>number of windows: 229303<br>\",\"N_bar_5_noncoding mean: 3.104476234818319<br>N_bar_5_noncoding std: 0.4137687089696623<br>number of windows: 76434<br>\",\"N_bar_5_noncoding mean: 4.924045848579834<br>N_bar_5_noncoding std: 0.6578064799188899<br>number of windows: 45861<br>\",\"N_bar_5_noncoding mean: 7.010985937984934<br>N_bar_5_noncoding std: 0.48019916936433216<br>number of windows: 15287<br>\",\"N_bar_5_noncoding mean: 8.60066942525876<br>N_bar_5_noncoding std: 0.44158303322443637<br>number of windows: 7643<br>\",\"N_bar_5_noncoding mean: 10.43699768321662<br>N_bar_5_noncoding std: 0.6634722468532094<br>number of windows: 4586<br>\",\"N_bar_5_noncoding mean: 14.717196694845008<br>N_bar_5_noncoding std: 2.565998050115656<br>number of windows: 3058<br>\"],\"type\":\"scatter\",\"x\":[\"0.0 - 0.002\",\"0.002 - 0.005\",\"0.005 - 0.01\",\"0.01 - 0.02\",\"0.02 - 0.05\",\"0.05 - 0.1\",\"0.1 - 0.25\",\"0.25 - 0.5\",\"0.5 - 0.75\",\"0.75 - 0.9\",\"0.9 - 0.95\",\"0.95 - 0.98\",\"0.98 - 0.99\",\"0.99 - 0.995\",\"0.995 - 0.998\",\"0.998 - 1.0\"],\"y\":[0.6984957488554611,0.5780636720453555,0.5329059269920189,0.5171060378099038,0.4827195220339722,0.4525865452547296,0.4124542635726528,0.3499454432701592,0.2690000026166297,0.19775144677566364,0.16476960514954078,0.15780292623361897,0.1479034473735854,0.13528719089362815,0.1434801569995639,0.17593198168737736]},{\"hovertemplate\":\"%{text}\",\"marker\":{\"symbol\":\"circle\"},\"mode\":\"lines+markers\",\"name\":\"N_bar_5_coding\",\"text\":[\"N_bar_5_coding mean: -3.5046475966493382<br>N_bar_5_coding std: 0.37444765665434177<br>number of windows: 3058<br>\",\"N_bar_5_coding mean: -2.8849356961411274<br>N_bar_5_coding std: 0.11340097290221869<br>number of windows: 4586<br>\",\"N_bar_5_coding mean: -2.5322311772490336<br>N_bar_5_coding std: 0.09412832948897787<br>number of windows: 7643<br>\",\"N_bar_5_coding mean: -2.184305946472743<br>N_bar_5_coding std: 0.10393549433735118<br>number of windows: 15287<br>\",\"N_bar_5_coding mean: -1.7028918704048908<br>N_bar_5_coding std: 0.16117293617262504<br>number of windows: 45861<br>\",\"N_bar_5_coding mean: -1.1726334127991402<br>N_bar_5_coding std: 0.14858966804942433<br>number of windows: 76434<br>\",\"N_bar_5_coding mean: -0.4378187419596914<br>N_bar_5_coding std: 0.2612680693923106<br>number of windows: 229303<br>\",\"N_bar_5_coding mean: 0.5584880314242633<br>N_bar_5_coding std: 0.3255181054473877<br>number of windows: 382171<br>\",\"N_bar_5_coding mean: 1.7479600454183324<br>N_bar_5_coding std: 0.38799409569362064<br>number of windows: 382171<br>\",\"N_bar_5_coding mean: 3.180560655616307<br>N_bar_5_coding std: 0.4682444365371261<br>number of windows: 229303<br>\",\"N_bar_5_coding mean: 4.798542677742419<br>N_bar_5_coding std: 0.43469618953005734<br>number of windows: 76434<br>\",\"N_bar_5_coding mean: 6.711088325407301<br>N_bar_5_coding std: 0.6889309191949782<br>number of windows: 45861<br>\",\"N_bar_5_coding mean: 8.888979991693178<br>N_bar_5_coding std: 0.5008791411761376<br>number of windows: 15287<br>\",\"N_bar_5_coding mean: 10.550950346750318<br>N_bar_5_coding std: 0.4604426405238636<br>number of windows: 7643<br>\",\"N_bar_5_coding mean: 12.477618472191663<br>N_bar_5_coding std: 0.6935297622599798<br>number of windows: 4586<br>\",\"N_bar_5_coding mean: 16.917053982878762<br>N_bar_5_coding std: 2.6549210193939414<br>number of windows: 3058<br>\"],\"type\":\"scatter\",\"x\":[\"0.0 - 0.002\",\"0.002 - 0.005\",\"0.005 - 0.01\",\"0.01 - 0.02\",\"0.02 - 0.05\",\"0.05 - 0.1\",\"0.1 - 0.25\",\"0.25 - 0.5\",\"0.5 - 0.75\",\"0.75 - 0.9\",\"0.9 - 0.95\",\"0.95 - 0.98\",\"0.98 - 0.99\",\"0.99 - 0.995\",\"0.995 - 0.998\",\"0.998 - 1.0\"],\"y\":[0.553629823413996,0.522895769733973,0.5000654193379563,0.484790998887944,0.4668672728462092,0.4399351074129314,0.40410722929922416,0.34941426743525805,0.27507581684638555,0.2060810368813317,0.17258026532694873,0.16414818691262728,0.15222084123765292,0.13986654455056916,0.14914958569559528,0.1775670372792675]},{\"hovertemplate\":\"%{text}\",\"marker\":{\"symbol\":\"circle\"},\"mode\":\"lines+markers\",\"name\":\"N_bar_5_chenWindows\",\"text\":[\"N_bar_5_chenWindows mean: -5.029293270643666<br>N_bar_5_chenWindows std: 0.6901784662652327<br>number of windows: 3058<br>\",\"N_bar_5_chenWindows mean: -4.181668305469834<br>N_bar_5_chenWindows std: 0.12353412217737106<br>number of windows: 4586<br>\",\"N_bar_5_chenWindows mean: -3.801534016223374<br>N_bar_5_chenWindows std: 0.09927527379588691<br>number of windows: 7643<br>\",\"N_bar_5_chenWindows mean: -3.44283065158162<br>N_bar_5_chenWindows std: 0.10660158969814101<br>number of windows: 15287<br>\",\"N_bar_5_chenWindows mean: -2.9591627270124237<br>N_bar_5_chenWindows std: 0.16022879726481523<br>number of windows: 45861<br>\",\"N_bar_5_chenWindows mean: -2.4321944249881815<br>N_bar_5_chenWindows std: 0.14707742294027035<br>number of windows: 76434<br>\",\"N_bar_5_chenWindows mean: -1.7063359775097449<br>N_bar_5_chenWindows std: 0.25760404415020205<br>number of windows: 229303<br>\",\"N_bar_5_chenWindows mean: -0.7237239683285899<br>N_bar_5_chenWindows std: 0.32078580905236875<br>number of windows: 382171<br>\",\"N_bar_5_chenWindows mean: 0.44707841126004316<br>N_bar_5_chenWindows std: 0.38091556636102014<br>number of windows: 382171<br>\",\"N_bar_5_chenWindows mean: 1.8484889264561537<br>N_bar_5_chenWindows std: 0.4556756445732158<br>number of windows: 229303<br>\",\"N_bar_5_chenWindows mean: 3.4155157832851715<br>N_bar_5_chenWindows std: 0.4184082658824755<br>number of windows: 76434<br>\",\"N_bar_5_chenWindows mean: 5.254858630744805<br>N_bar_5_chenWindows std: 0.6644561531322286<br>number of windows: 45861<br>\",\"N_bar_5_chenWindows mean: 7.362356045264315<br>N_bar_5_chenWindows std: 0.48491679608961297<br>number of windows: 15287<br>\",\"N_bar_5_chenWindows mean: 8.968084065023888<br>N_bar_5_chenWindows std: 0.44612284365295085<br>number of windows: 7643<br>\",\"N_bar_5_chenWindows mean: 10.824344645027525<br>N_bar_5_chenWindows std: 0.6701803054192689<br>number of windows: 4586<br>\",\"N_bar_5_chenWindows mean: 15.142466662553973<br>N_bar_5_chenWindows std: 2.5881698221559124<br>number of windows: 3058<br>\"],\"type\":\"scatter\",\"x\":[\"0.0 - 0.002\",\"0.002 - 0.005\",\"0.005 - 0.01\",\"0.01 - 0.02\",\"0.02 - 0.05\",\"0.05 - 0.1\",\"0.1 - 0.25\",\"0.25 - 0.5\",\"0.5 - 0.75\",\"0.75 - 0.9\",\"0.9 - 0.95\",\"0.95 - 0.98\",\"0.98 - 0.99\",\"0.99 - 0.995\",\"0.995 - 0.998\",\"0.998 - 1.0\"],\"y\":[0.6746239372138653,0.5717400784997819,0.5258406384927384,0.5114803427749068,0.4807788752970934,0.4510427296752754,0.4108363170128607,0.35013122398088814,0.2698033079433029,0.19902050998024448,0.1659863411570767,0.1588495671703626,0.14809969254922484,0.13554886824545337,0.1450065416484954,0.17527795945062133]},{\"hovertemplate\":\"%{text}\",\"marker\":{\"symbol\":\"circle\"},\"mode\":\"lines+markers\",\"name\":\"N_bar_7_noncoding\",\"text\":[\"N_bar_7_noncoding mean: -5.271716886414666<br>N_bar_7_noncoding std: 0.6879158360374922<br>number of windows: 3058<br>\",\"N_bar_7_noncoding mean: -4.4221966614251516<br>N_bar_7_noncoding std: 0.12456886498930164<br>number of windows: 4586<br>\",\"N_bar_7_noncoding mean: -4.040521471161485<br>N_bar_7_noncoding std: 0.0994798902782238<br>number of windows: 7643<br>\",\"N_bar_7_noncoding mean: -3.684158494128257<br>N_bar_7_noncoding std: 0.10573110525848259<br>number of windows: 15287<br>\",\"N_bar_7_noncoding mean: -3.2034955382081804<br>N_bar_7_noncoding std: 0.15881759862193184<br>number of windows: 45861<br>\",\"N_bar_7_noncoding mean: -2.6832024272499657<br>N_bar_7_noncoding std: 0.14548564880326342<br>number of windows: 76434<br>\",\"N_bar_7_noncoding mean: -1.9655265351443205<br>N_bar_7_noncoding std: 0.25432537341189965<br>number of windows: 229303<br>\",\"N_bar_7_noncoding mean: -0.9954358662265431<br>N_bar_7_noncoding std: 0.31656351767103336<br>number of windows: 382171<br>\",\"N_bar_7_noncoding mean: 0.15897685769996198<br>N_bar_7_noncoding std: 0.3757597609454352<br>number of windows: 382171<br>\",\"N_bar_7_noncoding mean: 1.5418655328855662<br>N_bar_7_noncoding std: 0.4499933367772212<br>number of windows: 229303<br>\",\"N_bar_7_noncoding mean: 3.090587917334522<br>N_bar_7_noncoding std: 0.4136653230474077<br>number of windows: 76434<br>\",\"N_bar_7_noncoding mean: 4.907450866286149<br>N_bar_7_noncoding std: 0.6569931887540257<br>number of windows: 45861<br>\",\"N_bar_7_noncoding mean: 6.9948938191727255<br>N_bar_7_noncoding std: 0.4796822935838129<br>number of windows: 15287<br>\",\"N_bar_7_noncoding mean: 8.59121962182924<br>N_bar_7_noncoding std: 0.44370766281636415<br>number of windows: 7643<br>\",\"N_bar_7_noncoding mean: 10.43607129112241<br>N_bar_7_noncoding std: 0.6672156584115209<br>number of windows: 4586<br>\",\"N_bar_7_noncoding mean: 14.748509046170966<br>N_bar_7_noncoding std: 2.5834372555624276<br>number of windows: 3058<br>\"],\"type\":\"scatter\",\"x\":[\"0.0 - 0.002\",\"0.002 - 0.005\",\"0.005 - 0.01\",\"0.01 - 0.02\",\"0.02 - 0.05\",\"0.05 - 0.1\",\"0.1 - 0.25\",\"0.25 - 0.5\",\"0.5 - 0.75\",\"0.75 - 0.9\",\"0.9 - 0.95\",\"0.95 - 0.98\",\"0.98 - 0.99\",\"0.99 - 0.995\",\"0.995 - 0.998\",\"0.998 - 1.0\"],\"y\":[0.683126226291694,0.5763192324465766,0.5230930262985739,0.5112186825407209,0.47912169381391595,0.449655912290342,0.4101559944701988,0.3490427060138001,0.2708813593914766,0.19953511292918105,0.16682366486118744,0.16026689343886963,0.14980048407143323,0.13947402852283136,0.14718709114696904,0.1775670372792675]},{\"hovertemplate\":\"%{text}\",\"marker\":{\"symbol\":\"circle\"},\"mode\":\"lines+markers\",\"name\":\"N_bar_7_coding\",\"text\":[\"N_bar_7_coding mean: -3.5148793352388052<br>N_bar_7_coding std: 0.37325171743068103<br>number of windows: 3058<br>\",\"N_bar_7_coding mean: -2.8934102309798337<br>N_bar_7_coding std: 0.11351469517479203<br>number of windows: 4586<br>\",\"N_bar_7_coding mean: -2.54096886258205<br>N_bar_7_coding std: 0.09398476864188028<br>number of windows: 7643<br>\",\"N_bar_7_coding mean: -2.194108317770652<br>N_bar_7_coding std: 0.10392875592063609<br>number of windows: 15287<br>\",\"N_bar_7_coding mean: -1.7119628789337724<br>N_bar_7_coding std: 0.16060588790279434<br>number of windows: 45861<br>\",\"N_bar_7_coding mean: -1.182385119781955<br>N_bar_7_coding std: 0.14841884272427347<br>number of windows: 76434<br>\",\"N_bar_7_coding mean: -0.4484985425466693<br>N_bar_7_coding std: 0.26101770026800536<br>number of windows: 229303<br>\",\"N_bar_7_coding mean: 0.5462559145555035<br>N_bar_7_coding std: 0.32490418364210477<br>number of windows: 382171<br>\",\"N_bar_7_coding mean: 1.7327050501846621<br>N_bar_7_coding std: 0.3870541703041979<br>number of windows: 382171<br>\",\"N_bar_7_coding mean: 3.1631991017447394<br>N_bar_7_coding std: 0.4682533456277601<br>number of windows: 229303<br>\",\"N_bar_7_coding mean: 4.784656156788291<br>N_bar_7_coding std: 0.4369339309878209<br>number of windows: 76434<br>\",\"N_bar_7_coding mean: 6.705290464105859<br>N_bar_7_coding std: 0.6927731491078707<br>number of windows: 45861<br>\",\"N_bar_7_coding mean: 8.89648977526289<br>N_bar_7_coding std: 0.5027923206134597<br>number of windows: 15287<br>\",\"N_bar_7_coding mean: 10.565788736458993<br>N_bar_7_coding std: 0.46137126472889595<br>number of windows: 7643<br>\",\"N_bar_7_coding mean: 12.49472029694377<br>N_bar_7_coding std: 0.6937482988028494<br>number of windows: 4586<br>\",\"N_bar_7_coding mean: 16.943899360837037<br>N_bar_7_coding std: 2.663829985403506<br>number of windows: 3058<br>\"],\"type\":\"scatter\",\"x\":[\"0.0 - 0.002\",\"0.002 - 0.005\",\"0.005 - 0.01\",\"0.01 - 0.02\",\"0.02 - 0.05\",\"0.05 - 0.1\",\"0.1 - 0.25\",\"0.25 - 0.5\",\"0.5 - 0.75\",\"0.75 - 0.9\",\"0.9 - 0.95\",\"0.95 - 0.98\",\"0.98 - 0.99\",\"0.99 - 0.995\",\"0.995 - 0.998\",\"0.998 - 1.0\"],\"y\":[0.5474166121648136,0.5198430004361099,0.4940468402459767,0.47936154902858635,0.4653627264996402,0.43741005311772246,0.40342254571462216,0.3489668237516714,0.27632656585664533,0.2067308321304126,0.1742025800036633,0.1641045768735963,0.15261333158893178,0.14012822190239435,0.14893153074574794,0.17625899280575538]},{\"hovertemplate\":\"%{text}\",\"marker\":{\"symbol\":\"circle\"},\"mode\":\"lines+markers\",\"name\":\"N_bar_7_chenWindows\",\"text\":[\"N_bar_7_chenWindows mean: -4.9216477221632315<br>N_bar_7_chenWindows std: 0.5912107883479666<br>number of windows: 3058<br>\",\"N_bar_7_chenWindows mean: -4.150811705556578<br>N_bar_7_chenWindows std: 0.11941793981329861<br>number of windows: 4586<br>\",\"N_bar_7_chenWindows mean: -3.7790846677580774<br>N_bar_7_chenWindows std: 0.0975997063366255<br>number of windows: 7643<br>\",\"N_bar_7_chenWindows mean: -3.4255003899072554<br>N_bar_7_chenWindows std: 0.10495139183274806<br>number of windows: 15287<br>\",\"N_bar_7_chenWindows mean: -2.945389506643657<br>N_bar_7_chenWindows std: 0.15942370859817068<br>number of windows: 45861<br>\",\"N_bar_7_chenWindows mean: -2.423238621552797<br>N_bar_7_chenWindows std: 0.14598623515083192<br>number of windows: 76434<br>\",\"N_bar_7_chenWindows mean: -1.7022634940744337<br>N_bar_7_chenWindows std: 0.2557066985205965<br>number of windows: 229303<br>\",\"N_bar_7_chenWindows mean: -0.7266797618386972<br>N_bar_7_chenWindows std: 0.31843609983464854<br>number of windows: 382171<br>\",\"N_bar_7_chenWindows mean: 0.43504320777555805<br>N_bar_7_chenWindows std: 0.37835249617415057<br>number of windows: 382171<br>\",\"N_bar_7_chenWindows mean: 1.828852420355455<br>N_bar_7_chenWindows std: 0.4541226871531687<br>number of windows: 229303<br>\",\"N_bar_7_chenWindows mean: 3.3941941984156974<br>N_bar_7_chenWindows std: 0.41910236022680997<br>number of windows: 76434<br>\",\"N_bar_7_chenWindows mean: 5.234638212021629<br>N_bar_7_chenWindows std: 0.6651191095387603<br>number of windows: 45861<br>\",\"N_bar_7_chenWindows mean: 7.346301214770584<br>N_bar_7_chenWindows std: 0.48537743691619<br>number of windows: 15287<br>\",\"N_bar_7_chenWindows mean: 8.959701467226322<br>N_bar_7_chenWindows std: 0.44848511216094494<br>number of windows: 7643<br>\",\"N_bar_7_chenWindows mean: 10.825026820994976<br>N_bar_7_chenWindows std: 0.6733517171995819<br>number of windows: 4586<br>\",\"N_bar_7_chenWindows mean: 15.170899073084499<br>N_bar_7_chenWindows std: 2.6033483639848<br>number of windows: 3058<br>\"],\"type\":\"scatter\",\"x\":[\"0.0 - 0.002\",\"0.002 - 0.005\",\"0.005 - 0.01\",\"0.01 - 0.02\",\"0.02 - 0.05\",\"0.05 - 0.1\",\"0.1 - 0.25\",\"0.25 - 0.5\",\"0.5 - 0.75\",\"0.75 - 0.9\",\"0.9 - 0.95\",\"0.95 - 0.98\",\"0.98 - 0.99\",\"0.99 - 0.995\",\"0.995 - 0.998\",\"0.998 - 1.0\"],\"y\":[0.6494440810987574,0.5647623201046664,0.5148501897160801,0.503565120690783,0.4754584505353132,0.4468037784232148,0.40853368686846664,0.3492572696515434,0.2719646440991075,0.20125772449553647,0.168930057304341,0.1609210440243344,0.150454634656898,0.14052073793013214,0.1456607064980375,0.17789404839764553]},{\"mode\":\"lines\",\"name\":\"fraction of all windows that overlap an enhancer\",\"type\":\"scatter\",\"x\":[\"0.0 - 0.002\",\"0.002 - 0.005\",\"0.005 - 0.01\",\"0.01 - 0.02\",\"0.02 - 0.05\",\"0.05 - 0.1\",\"0.1 - 0.25\",\"0.25 - 0.5\",\"0.5 - 0.75\",\"0.75 - 0.9\",\"0.9 - 0.95\",\"0.95 - 0.98\",\"0.98 - 0.99\",\"0.99 - 0.995\",\"0.995 - 0.998\",\"0.998 - 1.0\"],\"y\":[0.3102553434779935,0.3102553434779935,0.3102553434779935,0.3102553434779935,0.3102553434779935,0.3102553434779935,0.3102553434779935,0.3102553434779935,0.3102553434779935,0.3102553434779935,0.3102553434779935,0.3102553434779935,0.3102553434779935,0.3102553434779935,0.3102553434779935,0.3102553434779935]}],                        {\"font\":{\"size\":20},\"height\":800,\"template\":{\"data\":{\"bar\":[{\"error_x\":{\"color\":\"#2a3f5f\"},\"error_y\":{\"color\":\"#2a3f5f\"},\"marker\":{\"line\":{\"color\":\"#E5ECF6\",\"width\":0.5},\"pattern\":{\"fillmode\":\"overlay\",\"size\":10,\"solidity\":0.2}},\"type\":\"bar\"}],\"barpolar\":[{\"marker\":{\"line\":{\"color\":\"#E5ECF6\",\"width\":0.5},\"pattern\":{\"fillmode\":\"overlay\",\"size\":10,\"solidity\":0.2}},\"type\":\"barpolar\"}],\"carpet\":[{\"aaxis\":{\"endlinecolor\":\"#2a3f5f\",\"gridcolor\":\"white\",\"linecolor\":\"white\",\"minorgridcolor\":\"white\",\"startlinecolor\":\"#2a3f5f\"},\"baxis\":{\"endlinecolor\":\"#2a3f5f\",\"gridcolor\":\"white\",\"linecolor\":\"white\",\"minorgridcolor\":\"white\",\"startlinecolor\":\"#2a3f5f\"},\"type\":\"carpet\"}],\"choropleth\":[{\"colorbar\":{\"outlinewidth\":0,\"ticks\":\"\"},\"type\":\"choropleth\"}],\"contour\":[{\"colorbar\":{\"outlinewidth\":0,\"ticks\":\"\"},\"colorscale\":[[0.0,\"#0d0887\"],[0.1111111111111111,\"#46039f\"],[0.2222222222222222,\"#7201a8\"],[0.3333333333333333,\"#9c179e\"],[0.4444444444444444,\"#bd3786\"],[0.5555555555555556,\"#d8576b\"],[0.6666666666666666,\"#ed7953\"],[0.7777777777777778,\"#fb9f3a\"],[0.8888888888888888,\"#fdca26\"],[1.0,\"#f0f921\"]],\"type\":\"contour\"}],\"contourcarpet\":[{\"colorbar\":{\"outlinewidth\":0,\"ticks\":\"\"},\"type\":\"contourcarpet\"}],\"heatmap\":[{\"colorbar\":{\"outlinewidth\":0,\"ticks\":\"\"},\"colorscale\":[[0.0,\"#0d0887\"],[0.1111111111111111,\"#46039f\"],[0.2222222222222222,\"#7201a8\"],[0.3333333333333333,\"#9c179e\"],[0.4444444444444444,\"#bd3786\"],[0.5555555555555556,\"#d8576b\"],[0.6666666666666666,\"#ed7953\"],[0.7777777777777778,\"#fb9f3a\"],[0.8888888888888888,\"#fdca26\"],[1.0,\"#f0f921\"]],\"type\":\"heatmap\"}],\"heatmapgl\":[{\"colorbar\":{\"outlinewidth\":0,\"ticks\":\"\"},\"colorscale\":[[0.0,\"#0d0887\"],[0.1111111111111111,\"#46039f\"],[0.2222222222222222,\"#7201a8\"],[0.3333333333333333,\"#9c179e\"],[0.4444444444444444,\"#bd3786\"],[0.5555555555555556,\"#d8576b\"],[0.6666666666666666,\"#ed7953\"],[0.7777777777777778,\"#fb9f3a\"],[0.8888888888888888,\"#fdca26\"],[1.0,\"#f0f921\"]],\"type\":\"heatmapgl\"}],\"histogram\":[{\"marker\":{\"pattern\":{\"fillmode\":\"overlay\",\"size\":10,\"solidity\":0.2}},\"type\":\"histogram\"}],\"histogram2d\":[{\"colorbar\":{\"outlinewidth\":0,\"ticks\":\"\"},\"colorscale\":[[0.0,\"#0d0887\"],[0.1111111111111111,\"#46039f\"],[0.2222222222222222,\"#7201a8\"],[0.3333333333333333,\"#9c179e\"],[0.4444444444444444,\"#bd3786\"],[0.5555555555555556,\"#d8576b\"],[0.6666666666666666,\"#ed7953\"],[0.7777777777777778,\"#fb9f3a\"],[0.8888888888888888,\"#fdca26\"],[1.0,\"#f0f921\"]],\"type\":\"histogram2d\"}],\"histogram2dcontour\":[{\"colorbar\":{\"outlinewidth\":0,\"ticks\":\"\"},\"colorscale\":[[0.0,\"#0d0887\"],[0.1111111111111111,\"#46039f\"],[0.2222222222222222,\"#7201a8\"],[0.3333333333333333,\"#9c179e\"],[0.4444444444444444,\"#bd3786\"],[0.5555555555555556,\"#d8576b\"],[0.6666666666666666,\"#ed7953\"],[0.7777777777777778,\"#fb9f3a\"],[0.8888888888888888,\"#fdca26\"],[1.0,\"#f0f921\"]],\"type\":\"histogram2dcontour\"}],\"mesh3d\":[{\"colorbar\":{\"outlinewidth\":0,\"ticks\":\"\"},\"type\":\"mesh3d\"}],\"parcoords\":[{\"line\":{\"colorbar\":{\"outlinewidth\":0,\"ticks\":\"\"}},\"type\":\"parcoords\"}],\"pie\":[{\"automargin\":true,\"type\":\"pie\"}],\"scatter\":[{\"marker\":{\"colorbar\":{\"outlinewidth\":0,\"ticks\":\"\"}},\"type\":\"scatter\"}],\"scatter3d\":[{\"line\":{\"colorbar\":{\"outlinewidth\":0,\"ticks\":\"\"}},\"marker\":{\"colorbar\":{\"outlinewidth\":0,\"ticks\":\"\"}},\"type\":\"scatter3d\"}],\"scattercarpet\":[{\"marker\":{\"colorbar\":{\"outlinewidth\":0,\"ticks\":\"\"}},\"type\":\"scattercarpet\"}],\"scattergeo\":[{\"marker\":{\"colorbar\":{\"outlinewidth\":0,\"ticks\":\"\"}},\"type\":\"scattergeo\"}],\"scattergl\":[{\"marker\":{\"colorbar\":{\"outlinewidth\":0,\"ticks\":\"\"}},\"type\":\"scattergl\"}],\"scattermapbox\":[{\"marker\":{\"colorbar\":{\"outlinewidth\":0,\"ticks\":\"\"}},\"type\":\"scattermapbox\"}],\"scatterpolar\":[{\"marker\":{\"colorbar\":{\"outlinewidth\":0,\"ticks\":\"\"}},\"type\":\"scatterpolar\"}],\"scatterpolargl\":[{\"marker\":{\"colorbar\":{\"outlinewidth\":0,\"ticks\":\"\"}},\"type\":\"scatterpolargl\"}],\"scatterternary\":[{\"marker\":{\"colorbar\":{\"outlinewidth\":0,\"ticks\":\"\"}},\"type\":\"scatterternary\"}],\"surface\":[{\"colorbar\":{\"outlinewidth\":0,\"ticks\":\"\"},\"colorscale\":[[0.0,\"#0d0887\"],[0.1111111111111111,\"#46039f\"],[0.2222222222222222,\"#7201a8\"],[0.3333333333333333,\"#9c179e\"],[0.4444444444444444,\"#bd3786\"],[0.5555555555555556,\"#d8576b\"],[0.6666666666666666,\"#ed7953\"],[0.7777777777777778,\"#fb9f3a\"],[0.8888888888888888,\"#fdca26\"],[1.0,\"#f0f921\"]],\"type\":\"surface\"}],\"table\":[{\"cells\":{\"fill\":{\"color\":\"#EBF0F8\"},\"line\":{\"color\":\"white\"}},\"header\":{\"fill\":{\"color\":\"#C8D4E3\"},\"line\":{\"color\":\"white\"}},\"type\":\"table\"}]},\"layout\":{\"annotationdefaults\":{\"arrowcolor\":\"#2a3f5f\",\"arrowhead\":0,\"arrowwidth\":1},\"autotypenumbers\":\"strict\",\"coloraxis\":{\"colorbar\":{\"outlinewidth\":0,\"ticks\":\"\"}},\"colorscale\":{\"diverging\":[[0,\"#8e0152\"],[0.1,\"#c51b7d\"],[0.2,\"#de77ae\"],[0.3,\"#f1b6da\"],[0.4,\"#fde0ef\"],[0.5,\"#f7f7f7\"],[0.6,\"#e6f5d0\"],[0.7,\"#b8e186\"],[0.8,\"#7fbc41\"],[0.9,\"#4d9221\"],[1,\"#276419\"]],\"sequential\":[[0.0,\"#0d0887\"],[0.1111111111111111,\"#46039f\"],[0.2222222222222222,\"#7201a8\"],[0.3333333333333333,\"#9c179e\"],[0.4444444444444444,\"#bd3786\"],[0.5555555555555556,\"#d8576b\"],[0.6666666666666666,\"#ed7953\"],[0.7777777777777778,\"#fb9f3a\"],[0.8888888888888888,\"#fdca26\"],[1.0,\"#f0f921\"]],\"sequentialminus\":[[0.0,\"#0d0887\"],[0.1111111111111111,\"#46039f\"],[0.2222222222222222,\"#7201a8\"],[0.3333333333333333,\"#9c179e\"],[0.4444444444444444,\"#bd3786\"],[0.5555555555555556,\"#d8576b\"],[0.6666666666666666,\"#ed7953\"],[0.7777777777777778,\"#fb9f3a\"],[0.8888888888888888,\"#fdca26\"],[1.0,\"#f0f921\"]]},\"colorway\":[\"#636efa\",\"#EF553B\",\"#00cc96\",\"#ab63fa\",\"#FFA15A\",\"#19d3f3\",\"#FF6692\",\"#B6E880\",\"#FF97FF\",\"#FECB52\"],\"font\":{\"color\":\"#2a3f5f\"},\"geo\":{\"bgcolor\":\"white\",\"lakecolor\":\"white\",\"landcolor\":\"#E5ECF6\",\"showlakes\":true,\"showland\":true,\"subunitcolor\":\"white\"},\"hoverlabel\":{\"align\":\"left\"},\"hovermode\":\"closest\",\"mapbox\":{\"style\":\"light\"},\"paper_bgcolor\":\"white\",\"plot_bgcolor\":\"#E5ECF6\",\"polar\":{\"angularaxis\":{\"gridcolor\":\"white\",\"linecolor\":\"white\",\"ticks\":\"\"},\"bgcolor\":\"#E5ECF6\",\"radialaxis\":{\"gridcolor\":\"white\",\"linecolor\":\"white\",\"ticks\":\"\"}},\"scene\":{\"xaxis\":{\"backgroundcolor\":\"#E5ECF6\",\"gridcolor\":\"white\",\"gridwidth\":2,\"linecolor\":\"white\",\"showbackground\":true,\"ticks\":\"\",\"zerolinecolor\":\"white\"},\"yaxis\":{\"backgroundcolor\":\"#E5ECF6\",\"gridcolor\":\"white\",\"gridwidth\":2,\"linecolor\":\"white\",\"showbackground\":true,\"ticks\":\"\",\"zerolinecolor\":\"white\"},\"zaxis\":{\"backgroundcolor\":\"#E5ECF6\",\"gridcolor\":\"white\",\"gridwidth\":2,\"linecolor\":\"white\",\"showbackground\":true,\"ticks\":\"\",\"zerolinecolor\":\"white\"}},\"shapedefaults\":{\"line\":{\"color\":\"#2a3f5f\"}},\"ternary\":{\"aaxis\":{\"gridcolor\":\"white\",\"linecolor\":\"white\",\"ticks\":\"\"},\"baxis\":{\"gridcolor\":\"white\",\"linecolor\":\"white\",\"ticks\":\"\"},\"bgcolor\":\"#E5ECF6\",\"caxis\":{\"gridcolor\":\"white\",\"linecolor\":\"white\",\"ticks\":\"\"}},\"title\":{\"x\":0.05},\"xaxis\":{\"automargin\":true,\"gridcolor\":\"white\",\"linecolor\":\"white\",\"ticks\":\"\",\"title\":{\"standoff\":15},\"zerolinecolor\":\"white\",\"zerolinewidth\":2},\"yaxis\":{\"automargin\":true,\"gridcolor\":\"white\",\"linecolor\":\"white\",\"ticks\":\"\",\"title\":{\"standoff\":15},\"zerolinecolor\":\"white\",\"zerolinewidth\":2}}},\"width\":1600,\"xaxis\":{\"title\":{\"text\":\"quantile of window score\"}},\"yaxis\":{\"title\":{\"text\":\"fraction of Chen windows that overlap a GeneHancer enhancer\"}}},                        {\"responsive\": true}                    ).then(function(){\n",
       "                            \n",
       "var gd = document.getElementById('c30dd22e-59b5-4638-95c7-e99f0f2cb617');\n",
       "var x = new MutationObserver(function (mutations, observer) {{\n",
       "        var display = window.getComputedStyle(gd).display;\n",
       "        if (!display || display === 'none') {{\n",
       "            console.log([gd, 'removed!']);\n",
       "            Plotly.purge(gd);\n",
       "            observer.disconnect();\n",
       "        }}\n",
       "}});\n",
       "\n",
       "// Listen for the removal of the full notebook cells\n",
       "var notebookContainer = gd.closest('#notebook-container');\n",
       "if (notebookContainer) {{\n",
       "    x.observe(notebookContainer, {childList: true});\n",
       "}}\n",
       "\n",
       "// Listen for the clearing of the current output cell\n",
       "var outputEl = gd.closest('.output');\n",
       "if (outputEl) {{\n",
       "    x.observe(outputEl, {childList: true});\n",
       "}}\n",
       "\n",
       "                        })                };                });            </script>        </div>"
      ]
     },
     "metadata": {},
     "output_type": "display_data"
    }
   ],
   "source": [
    "def compute_fraction_of_windows_that_overlap_enhancer(df): \n",
    "    fraction_of_windows_that_overlap_enhancer = np.mean(df['window overlaps enhancer'])\n",
    "    return fraction_of_windows_that_overlap_enhancer\n",
    "\n",
    "import warnings\n",
    "\n",
    "def compute_array_of_quantiles():\n",
    "    array_of_quantiles = [0.00, 0.002, 0.005, 0.01, 0.02, 0.05, 0.10, 0.25, 0.5, 0.75, 0.90, 0.95, 0.98, 0.99, 0.995, 0.998, 1.00]\n",
    "#     array_of_quantiles = [0.00, 0.02, 0.05, 0.10, 0.25, 0.5, 0.75, 0.90, 0.95, 0.98, 1.00]\n",
    "#     array_of_quantiles = [0.00, 0.10, 0.25, 0.5, 0.75, 0.90, 1.00]\n",
    "#     array_of_quantiles = [0.00, 0.25, 0.5, 0.75, 1.00]\n",
    "\n",
    "    starts = array_of_quantiles[:-1]\n",
    "    ends = array_of_quantiles[1:]\n",
    "    quantile_labels = [f'{start} - {end}' for start, end in zip(starts, ends)]\n",
    "    \n",
    "    return array_of_quantiles, quantile_labels\n",
    "\n",
    "def label_windows_with_score_quantiles_core(df, score): \n",
    "    with warnings.catch_warnings():\n",
    "        warnings.simplefilter(\"ignore\")        \n",
    "\n",
    "        array_of_quantiles, quantile_labels = compute_array_of_quantiles()\n",
    "\n",
    "        df[f'{score} quantile'], bins = pd.qcut(\n",
    "            df[score],\n",
    "            q = array_of_quantiles, \n",
    "            labels = quantile_labels, \n",
    "            retbins = True,\n",
    "    #         duplicates='drop'\n",
    "        )\n",
    "\n",
    "        return df\n",
    "    \n",
    "import seaborn as sns\n",
    "sns.set(font_scale = 1.5)\n",
    "\n",
    "import plotly.graph_objects as go\n",
    "from tqdm import tqdm \n",
    "import numpy as np \n",
    "\n",
    "def compute_enhancerFraction_vs_quantile(df, score): \n",
    "    df = label_windows_with_score_quantiles_core(df, score)\n",
    "\n",
    "    groups = df.groupby([f'{score} quantile'])\n",
    "    aggregated = groups.agg({\n",
    "        'window overlaps enhancer': ['mean'],\n",
    "        score: ['mean', 'std', 'count']\n",
    "    })\n",
    "    \n",
    "    quantiles = np.array(aggregated.index)\n",
    "    fraction_overlap_enhancer = np.array(aggregated['window overlaps enhancer']).flatten()\n",
    "    hover_data = aggregated.to_dict(orient='records')\n",
    "\n",
    "    return quantiles, fraction_overlap_enhancer, hover_data\n",
    "\n",
    "def create_text(hover_datum, score):\n",
    "    mean = hover_datum[(score, 'mean')]\n",
    "    std = hover_datum[(score, 'std')]\n",
    "    count = hover_datum[(score, 'count')]\n",
    "    return (\n",
    "        f'{score} mean: {mean}<br>'\n",
    "        f'{score} std: {std}<br>' \n",
    "        f'number of windows: {count}<br>' \n",
    "    )\n",
    "\n",
    "def plot_enhancerFraction_vs_quantile(df): \n",
    "    with warnings.catch_warnings():\n",
    "        warnings.simplefilter(\"ignore\")    \n",
    "    \n",
    "        sns.set(font_scale = 1.6)\n",
    "        fig = go.Figure()\n",
    "\n",
    "        scores_markers = [\n",
    "            ('negative new chen zscore', 'square')\n",
    "        ]\n",
    "        for kmer_size in [3, 5, 7]: \n",
    "            for train_set_label in ['noncoding', 'coding', 'chenWindows']: \n",
    "                scores_markers.append((f'N_bar_{kmer_size}_{train_set_label}', 'circle'))\n",
    "                \n",
    "        for (score, marker) in tqdm(scores_markers, desc=f'compute_enhancerFraction_vs_quantile'): \n",
    "            (\n",
    "                quantiles, \n",
    "                fraction_overlap_enhancer,\n",
    "                hover_data \n",
    "            ) = compute_enhancerFraction_vs_quantile(df, score)\n",
    "            fig.add_trace(\n",
    "                go.Scatter(\n",
    "                    x = quantiles, \n",
    "                    y = fraction_overlap_enhancer,\n",
    "                    mode = 'lines+markers',\n",
    "                    marker = {\n",
    "                        'symbol': marker,\n",
    "                    },\n",
    "                    name = score,\n",
    "                    hovertemplate = (\n",
    "                        '%{text}'\n",
    "                    ),\n",
    "                    text = [create_text(hover_datum, score) for hover_datum in hover_data],\n",
    "                )\n",
    "            )\n",
    "\n",
    "        fraction_of_windows_that_overlap_enhancer = compute_fraction_of_windows_that_overlap_enhancer(df)\n",
    "        fig.add_trace(\n",
    "            go.Scatter(\n",
    "                x = quantiles, \n",
    "                y = [fraction_of_windows_that_overlap_enhancer]*len(quantiles),\n",
    "                mode = 'lines',\n",
    "                name = 'fraction of all windows that overlap an enhancer',\n",
    "            )\n",
    "        )\n",
    "\n",
    "        fig.update_xaxes(\n",
    "            title = 'quantile of window score',\n",
    "#             type = \"log\", \n",
    "#             exponentformat = 'power'\n",
    "        )\n",
    "        fig.update_yaxes(\n",
    "            title = 'fraction of Chen windows that overlap a GeneHancer enhancer',\n",
    "            range=None, \n",
    "        )    \n",
    "        fig.update_layout(\n",
    "            height = 800, \n",
    "            width = 1600,\n",
    "            font = dict(\n",
    "                size = 20,\n",
    "            )        \n",
    "        )\n",
    "        fig.update_annotations(font_size=24)\n",
    "        fig.show()\n",
    "        \n",
    "plot_enhancerFraction_vs_quantile(chen_mchale_zscores_features_noncoding)"
   ]
  },
  {
   "cell_type": "code",
   "execution_count": 45,
   "id": "71a75356",
   "metadata": {},
   "outputs": [
    {
     "name": "stderr",
     "output_type": "stream",
     "text": [
      "compute_enhancerFraction_vs_quantile: 100%|██████████████████████████████████████████████████████████████████████████████████████████████████████████████████████████████████████████████████████| 10/10 [00:00<00:00, 15.73it/s]\n"
     ]
    },
    {
     "data": {
      "application/vnd.plotly.v1+json": {
       "config": {
        "plotlyServerURL": "https://plot.ly"
       },
       "data": [
        {
         "hovertemplate": "%{text}",
         "marker": {
          "symbol": "square"
         },
         "mode": "lines+markers",
         "name": "negative new chen zscore",
         "text": [
          "negative new chen zscore mean: -8.17952157904678<br>negative new chen zscore std: 0.6483161325831029<br>number of windows: 515<br>",
          "negative new chen zscore mean: -6.878435798697642<br>negative new chen zscore std: 0.2520657150333085<br>number of windows: 772<br>",
          "negative new chen zscore mean: -6.145919358548195<br>negative new chen zscore std: 0.18626245455061385<br>number of windows: 1287<br>",
          "negative new chen zscore mean: -5.447062850502007<br>negative new chen zscore std: 0.20624886457571462<br>number of windows: 2574<br>",
          "negative new chen zscore mean: -4.569428727019669<br>negative new chen zscore std: 0.27558891195339186<br>number of windows: 7722<br>",
          "negative new chen zscore mean: -3.729791853696774<br>negative new chen zscore std: 0.21972680973064762<br>number of windows: 12870<br>",
          "negative new chen zscore mean: -2.7587403592188866<br>negative new chen zscore std: 0.31523260627787264<br>number of windows: 38608<br>",
          "negative new chen zscore mean: -1.681851222350803<br>negative new chen zscore std: 0.32385894814754207<br>number of windows: 64348<br>",
          "negative new chen zscore mean: -0.5923147944839052<br>negative new chen zscore std: 0.3287316864501504<br>number of windows: 64347<br>",
          "negative new chen zscore mean: 0.527360309977656<br>negative new chen zscore std: 0.3315674393067713<br>number of windows: 38609<br>",
          "negative new chen zscore mean: 1.5560545113366875<br>negative new chen zscore std: 0.2354596702646639<br>number of windows: 12869<br>",
          "negative new chen zscore mean: 2.4911753980743936<br>negative new chen zscore std: 0.3206223587866304<br>number of windows: 7722<br>",
          "negative new chen zscore mean: 3.5493823036797885<br>negative new chen zscore std: 0.270487134606143<br>number of windows: 2574<br>",
          "negative new chen zscore mean: 4.536844717396067<br>negative new chen zscore std: 0.28924456739496696<br>number of windows: 1287<br>",
          "negative new chen zscore mean: 5.707570335062137<br>negative new chen zscore std: 0.4099007915512853<br>number of windows: 772<br>",
          "negative new chen zscore mean: 7.744461862050895<br>negative new chen zscore std: 0.922058069270032<br>number of windows: 515<br>"
         ],
         "type": "scatter",
         "x": [
          "0.0 - 0.002",
          "0.002 - 0.005",
          "0.005 - 0.01",
          "0.01 - 0.02",
          "0.02 - 0.05",
          "0.05 - 0.1",
          "0.1 - 0.25",
          "0.25 - 0.5",
          "0.5 - 0.75",
          "0.75 - 0.9",
          "0.9 - 0.95",
          "0.95 - 0.98",
          "0.98 - 0.99",
          "0.99 - 0.995",
          "0.995 - 0.998",
          "0.998 - 1.0"
         ],
         "y": [
          0.6368932038834951,
          0.6787564766839378,
          0.6666666666666666,
          0.6235431235431236,
          0.6060606060606061,
          0.5707847707847707,
          0.5172762121840033,
          0.4683440044756636,
          0.4224905590004196,
          0.3897536843741097,
          0.36265444090449916,
          0.3418803418803419,
          0.32944832944832947,
          0.3550893550893551,
          0.3290155440414508,
          0.24854368932038834
         ]
        },
        {
         "hovertemplate": "%{text}",
         "marker": {
          "symbol": "circle"
         },
         "mode": "lines+markers",
         "name": "N_bar_3_noncoding",
         "text": [
          "N_bar_3_noncoding mean: -10.782727211581848<br>N_bar_3_noncoding std: 1.2273773524080802<br>number of windows: 515<br>",
          "N_bar_3_noncoding mean: -8.664532333002722<br>N_bar_3_noncoding std: 0.4097517920184334<br>number of windows: 772<br>",
          "N_bar_3_noncoding mean: -7.386471749372955<br>N_bar_3_noncoding std: 0.3329990611168054<br>number of windows: 1287<br>",
          "N_bar_3_noncoding mean: -6.210658907282423<br>N_bar_3_noncoding std: 0.3289254574555234<br>number of windows: 2574<br>",
          "N_bar_3_noncoding mean: -4.9424404516493805<br>N_bar_3_noncoding std: 0.3513968762460521<br>number of windows: 7722<br>",
          "N_bar_3_noncoding mean: -4.020416570382058<br>N_bar_3_noncoding std: 0.2135467587637075<br>number of windows: 12870<br>",
          "N_bar_3_noncoding mean: -3.116131028487235<br>N_bar_3_noncoding std: 0.28998390137443025<br>number of windows: 38608<br>",
          "N_bar_3_noncoding mean: -2.0927125844288987<br>N_bar_3_noncoding std: 0.31535759891214776<br>number of windows: 64348<br>",
          "N_bar_3_noncoding mean: -0.9893267451795148<br>N_bar_3_noncoding std: 0.34876309834900865<br>number of windows: 64347<br>",
          "N_bar_3_noncoding mean: 0.2647553984688377<br>N_bar_3_noncoding std: 0.3995955236694526<br>number of windows: 38609<br>",
          "N_bar_3_noncoding mean: 1.5985978395996712<br>N_bar_3_noncoding std: 0.3364374710217224<br>number of windows: 12869<br>",
          "N_bar_3_noncoding mean: 3.057091309086521<br>N_bar_3_noncoding std: 0.5443643092417353<br>number of windows: 7722<br>",
          "N_bar_3_noncoding mean: 4.885571836271373<br>N_bar_3_noncoding std: 0.44792628436227827<br>number of windows: 2574<br>",
          "N_bar_3_noncoding mean: 6.468503470417646<br>N_bar_3_noncoding std: 0.45857828463180583<br>number of windows: 1287<br>",
          "N_bar_3_noncoding mean: 8.30212176199289<br>N_bar_3_noncoding std: 0.6021942515937238<br>number of windows: 772<br>",
          "N_bar_3_noncoding mean: 12.09297069851477<br>N_bar_3_noncoding std: 2.947203164280439<br>number of windows: 515<br>"
         ],
         "type": "scatter",
         "x": [
          "0.0 - 0.002",
          "0.002 - 0.005",
          "0.005 - 0.01",
          "0.01 - 0.02",
          "0.02 - 0.05",
          "0.05 - 0.1",
          "0.1 - 0.25",
          "0.25 - 0.5",
          "0.5 - 0.75",
          "0.75 - 0.9",
          "0.9 - 0.95",
          "0.95 - 0.98",
          "0.98 - 0.99",
          "0.99 - 0.995",
          "0.995 - 0.998",
          "0.998 - 1.0"
         ],
         "y": [
          0.9514563106796117,
          0.917098445595855,
          0.9114219114219114,
          0.8306138306138307,
          0.6642061642061642,
          0.5449106449106449,
          0.4907532117695814,
          0.4547149872567912,
          0.42508586258877645,
          0.3921883498666114,
          0.3602455513248893,
          0.3587153587153587,
          0.3888888888888889,
          0.36363636363636365,
          0.3432642487046632,
          0.3572815533980582
         ]
        },
        {
         "hovertemplate": "%{text}",
         "marker": {
          "symbol": "circle"
         },
         "mode": "lines+markers",
         "name": "N_bar_3_coding",
         "text": [
          "N_bar_3_coding mean: -6.162495067174468<br>N_bar_3_coding std: 0.9048620364250738<br>number of windows: 515<br>",
          "N_bar_3_coding mean: -4.697773769183665<br>N_bar_3_coding std: 0.2509437564448095<br>number of windows: 772<br>",
          "N_bar_3_coding mean: -4.001668100716336<br>N_bar_3_coding std: 0.1734241410500823<br>number of windows: 1287<br>",
          "N_bar_3_coding mean: -3.435528437605088<br>N_bar_3_coding std: 0.15891127433318744<br>number of windows: 2574<br>",
          "N_bar_3_coding mean: -2.774034073747666<br>N_bar_3_coding std: 0.20489540518302155<br>number of windows: 7722<br>",
          "N_bar_3_coding mean: -2.150613811021423<br>N_bar_3_coding std: 0.1634318210307409<br>number of windows: 12870<br>",
          "N_bar_3_coding mean: -1.3699281571853463<br>N_bar_3_coding std: 0.2708010902617463<br>number of windows: 38608<br>",
          "N_bar_3_coding mean: -0.37728118111728765<br>N_bar_3_coding std: 0.3131789946390846<br>number of windows: 64348<br>",
          "N_bar_3_coding mean: 0.7390493342790814<br>N_bar_3_coding std: 0.35744110610091695<br>number of windows: 64347<br>",
          "N_bar_3_coding mean: 2.0357594821631597<br>N_bar_3_coding std: 0.4159268809217142<br>number of windows: 38609<br>",
          "N_bar_3_coding mean: 3.4299743004785515<br>N_bar_3_coding std: 0.3549914180314533<br>number of windows: 12869<br>",
          "N_bar_3_coding mean: 4.980489846581225<br>N_bar_3_coding std: 0.5786469735644165<br>number of windows: 7722<br>",
          "N_bar_3_coding mean: 6.907329886373012<br>N_bar_3_coding std: 0.47174397056631395<br>number of windows: 2574<br>",
          "N_bar_3_coding mean: 8.545804206346503<br>N_bar_3_coding std: 0.48138576007018974<br>number of windows: 1287<br>",
          "N_bar_3_coding mean: 10.446232767979453<br>N_bar_3_coding std: 0.6178461628317233<br>number of windows: 772<br>",
          "N_bar_3_coding mean: 14.4264215707709<br>N_bar_3_coding std: 3.0420614352868993<br>number of windows: 515<br>"
         ],
         "type": "scatter",
         "x": [
          "0.0 - 0.002",
          "0.002 - 0.005",
          "0.005 - 0.01",
          "0.01 - 0.02",
          "0.02 - 0.05",
          "0.05 - 0.1",
          "0.1 - 0.25",
          "0.25 - 0.5",
          "0.5 - 0.75",
          "0.75 - 0.9",
          "0.9 - 0.95",
          "0.95 - 0.98",
          "0.98 - 0.99",
          "0.99 - 0.995",
          "0.995 - 0.998",
          "0.998 - 1.0"
         ],
         "y": [
          0.8038834951456311,
          0.7474093264248705,
          0.6557886557886557,
          0.6002331002331003,
          0.5448070448070448,
          0.5003885003885004,
          0.48034086199751347,
          0.458879840865295,
          0.4392900989945141,
          0.4184516563495558,
          0.39482477270961225,
          0.3932918932918933,
          0.4121989121989122,
          0.38461538461538464,
          0.3588082901554404,
          0.3941747572815534
         ]
        },
        {
         "hovertemplate": "%{text}",
         "marker": {
          "symbol": "circle"
         },
         "mode": "lines+markers",
         "name": "N_bar_3_chenWindows",
         "text": [
          "N_bar_3_chenWindows mean: -10.182444136977315<br>N_bar_3_chenWindows std: 1.1928495294031904<br>number of windows: 515<br>",
          "N_bar_3_chenWindows mean: -8.13329990331052<br>N_bar_3_chenWindows std: 0.39882581243930854<br>number of windows: 772<br>",
          "N_bar_3_chenWindows mean: -6.9078257889474255<br>N_bar_3_chenWindows std: 0.31829974129067556<br>number of windows: 1287<br>",
          "N_bar_3_chenWindows mean: -5.794861679369866<br>N_bar_3_chenWindows std: 0.3078053386381032<br>number of windows: 2574<br>",
          "N_bar_3_chenWindows mean: -4.611213293627808<br>N_bar_3_chenWindows std: 0.3308047473540526<br>number of windows: 7722<br>",
          "N_bar_3_chenWindows mean: -3.7296967466116784<br>N_bar_3_chenWindows std: 0.20744272992851076<br>number of windows: 12870<br>",
          "N_bar_3_chenWindows mean: -2.8357805540095584<br>N_bar_3_chenWindows std: 0.2891628268133995<br>number of windows: 38608<br>",
          "N_bar_3_chenWindows mean: -1.8115287428640976<br>N_bar_3_chenWindows std: 0.3163310568711153<br>number of windows: 64348<br>",
          "N_bar_3_chenWindows mean: -0.7023600628079493<br>N_bar_3_chenWindows std: 0.3511361601948875<br>number of windows: 64347<br>",
          "N_bar_3_chenWindows mean: 0.5609485920847755<br>N_bar_3_chenWindows std: 0.40302806122252677<br>number of windows: 38609<br>",
          "N_bar_3_chenWindows mean: 1.907054869249215<br>N_bar_3_chenWindows std: 0.34017925231696766<br>number of windows: 12869<br>",
          "N_bar_3_chenWindows mean: 3.3809628514550023<br>N_bar_3_chenWindows std: 0.5502453438366978<br>number of windows: 7722<br>",
          "N_bar_3_chenWindows mean: 5.229453183541442<br>N_bar_3_chenWindows std: 0.4525292301809072<br>number of windows: 2574<br>",
          "N_bar_3_chenWindows mean: 6.824642864063901<br>N_bar_3_chenWindows std: 0.46386858814973314<br>number of windows: 1287<br>",
          "N_bar_3_chenWindows mean: 8.675217926830431<br>N_bar_3_chenWindows std: 0.6074010102937609<br>number of windows: 772<br>",
          "N_bar_3_chenWindows mean: 12.502093868727371<br>N_bar_3_chenWindows std: 2.970981998975809<br>number of windows: 515<br>"
         ],
         "type": "scatter",
         "x": [
          "0.0 - 0.002",
          "0.002 - 0.005",
          "0.005 - 0.01",
          "0.01 - 0.02",
          "0.02 - 0.05",
          "0.05 - 0.1",
          "0.1 - 0.25",
          "0.25 - 0.5",
          "0.5 - 0.75",
          "0.75 - 0.9",
          "0.9 - 0.95",
          "0.95 - 0.98",
          "0.98 - 0.99",
          "0.99 - 0.995",
          "0.995 - 0.998",
          "0.998 - 1.0"
         ],
         "y": [
          0.945631067961165,
          0.9119170984455959,
          0.9044289044289044,
          0.8135198135198135,
          0.6478891478891479,
          0.5428127428127428,
          0.48906962287608785,
          0.4556007956735252,
          0.42674872177413087,
          0.39345748400631975,
          0.3631983837127982,
          0.3614348614348614,
          0.38927738927738925,
          0.3667443667443667,
          0.34196891191709844,
          0.3611650485436893
         ]
        },
        {
         "hovertemplate": "%{text}",
         "marker": {
          "symbol": "circle"
         },
         "mode": "lines+markers",
         "name": "N_bar_5_noncoding",
         "text": [
          "N_bar_5_noncoding mean: -10.158953632063994<br>N_bar_5_noncoding std: 1.1421502164852146<br>number of windows: 515<br>",
          "N_bar_5_noncoding mean: -8.19309609216851<br>N_bar_5_noncoding std: 0.37858258527298566<br>number of windows: 772<br>",
          "N_bar_5_noncoding mean: -7.028249921585069<br>N_bar_5_noncoding std: 0.2943463853444045<br>number of windows: 1287<br>",
          "N_bar_5_noncoding mean: -5.978591182288874<br>N_bar_5_noncoding std: 0.28957588288540936<br>number of windows: 2574<br>",
          "N_bar_5_noncoding mean: -4.851523461731847<br>N_bar_5_noncoding std: 0.3174827385546115<br>number of windows: 7722<br>",
          "N_bar_5_noncoding mean: -3.9883616181706336<br>N_bar_5_noncoding std: 0.20572121311755484<br>number of windows: 12870<br>",
          "N_bar_5_noncoding mean: -3.1012315085859545<br>N_bar_5_noncoding std: 0.28790113272719325<br>number of windows: 38608<br>",
          "N_bar_5_noncoding mean: -2.0805599339652887<br>N_bar_5_noncoding std: 0.3149989008491287<br>number of windows: 64348<br>",
          "N_bar_5_noncoding mean: -0.9773088972138744<br>N_bar_5_noncoding std: 0.3493549270605723<br>number of windows: 64347<br>",
          "N_bar_5_noncoding mean: 0.27845240218662254<br>N_bar_5_noncoding std: 0.4006710411348104<br>number of windows: 38609<br>",
          "N_bar_5_noncoding mean: 1.6186845480942822<br>N_bar_5_noncoding std: 0.34008484190056315<br>number of windows: 12869<br>",
          "N_bar_5_noncoding mean: 3.085734743910857<br>N_bar_5_noncoding std: 0.5497186949394041<br>number of windows: 7722<br>",
          "N_bar_5_noncoding mean: 4.931291175159906<br>N_bar_5_noncoding std: 0.4515741272396945<br>number of windows: 2574<br>",
          "N_bar_5_noncoding mean: 6.518551529901996<br>N_bar_5_noncoding std: 0.4634188150132037<br>number of windows: 1287<br>",
          "N_bar_5_noncoding mean: 8.364449963042055<br>N_bar_5_noncoding std: 0.5997815502396247<br>number of windows: 772<br>",
          "N_bar_5_noncoding mean: 12.179468277179993<br>N_bar_5_noncoding std: 2.961198084594382<br>number of windows: 515<br>"
         ],
         "type": "scatter",
         "x": [
          "0.0 - 0.002",
          "0.002 - 0.005",
          "0.005 - 0.01",
          "0.01 - 0.02",
          "0.02 - 0.05",
          "0.05 - 0.1",
          "0.1 - 0.25",
          "0.25 - 0.5",
          "0.5 - 0.75",
          "0.75 - 0.9",
          "0.9 - 0.95",
          "0.95 - 0.98",
          "0.98 - 0.99",
          "0.99 - 0.995",
          "0.995 - 0.998",
          "0.998 - 1.0"
         ],
         "y": [
          0.9320388349514563,
          0.9106217616580311,
          0.8873348873348873,
          0.7987567987567987,
          0.6463351463351463,
          0.5463869463869464,
          0.4906496062992126,
          0.45643998259464164,
          0.42646898845323017,
          0.391825740112409,
          0.3624990286735566,
          0.36337736337736337,
          0.3877233877233877,
          0.3620823620823621,
          0.3484455958549223,
          0.3592233009708738
         ]
        },
        {
         "hovertemplate": "%{text}",
         "marker": {
          "symbol": "circle"
         },
         "mode": "lines+markers",
         "name": "N_bar_5_coding",
         "text": [
          "N_bar_5_coding mean: -5.983479714528993<br>N_bar_5_coding std: 0.8537046941336891<br>number of windows: 515<br>",
          "N_bar_5_coding mean: -4.60332151521448<br>N_bar_5_coding std: 0.23336688001804518<br>number of windows: 772<br>",
          "N_bar_5_coding mean: -3.9749388525786014<br>N_bar_5_coding std: 0.15524770217387845<br>number of windows: 1287<br>",
          "N_bar_5_coding mean: -3.4412789672997084<br>N_bar_5_coding std: 0.15390408965152347<br>number of windows: 2574<br>",
          "N_bar_5_coding mean: -2.798631230929768<br>N_bar_5_coding std: 0.20090233044124936<br>number of windows: 7722<br>",
          "N_bar_5_coding mean: -2.1812996442072694<br>N_bar_5_coding std: 0.16261645842096464<br>number of windows: 12870<br>",
          "N_bar_5_coding mean: -1.4026303776484432<br>N_bar_5_coding std: 0.27032142915248786<br>number of windows: 38608<br>",
          "N_bar_5_coding mean: -0.40684101867511935<br>N_bar_5_coding std: 0.31345597937025743<br>number of windows: 64348<br>",
          "N_bar_5_coding mean: 0.7130826980047126<br>N_bar_5_coding std: 0.3589890715378258<br>number of windows: 64347<br>",
          "N_bar_5_coding mean: 2.0153241778522615<br>N_bar_5_coding std: 0.41752353027390965<br>number of windows: 38609<br>",
          "N_bar_5_coding mean: 3.4162513067390874<br>N_bar_5_coding std: 0.35661844365992407<br>number of windows: 12869<br>",
          "N_bar_5_coding mean: 4.971796094209052<br>N_bar_5_coding std: 0.5801358650055585<br>number of windows: 7722<br>",
          "N_bar_5_coding mean: 6.906409560238934<br>N_bar_5_coding std: 0.47098185214165866<br>number of windows: 2574<br>",
          "N_bar_5_coding mean: 8.54065557939341<br>N_bar_5_coding std: 0.48300981667062864<br>number of windows: 1287<br>",
          "N_bar_5_coding mean: 10.453570939244027<br>N_bar_5_coding std: 0.6161931660596006<br>number of windows: 772<br>",
          "N_bar_5_coding mean: 14.434515918446207<br>N_bar_5_coding std: 3.0605120540269355<br>number of windows: 515<br>"
         ],
         "type": "scatter",
         "x": [
          "0.0 - 0.002",
          "0.002 - 0.005",
          "0.005 - 0.01",
          "0.01 - 0.02",
          "0.02 - 0.05",
          "0.05 - 0.1",
          "0.1 - 0.25",
          "0.25 - 0.5",
          "0.5 - 0.75",
          "0.75 - 0.9",
          "0.9 - 0.95",
          "0.95 - 0.98",
          "0.98 - 0.99",
          "0.99 - 0.995",
          "0.995 - 0.998",
          "0.998 - 1.0"
         ],
         "y": [
          0.7766990291262136,
          0.7020725388601037,
          0.634032634032634,
          0.5920745920745921,
          0.5451955451955453,
          0.5052059052059052,
          0.48148052217157067,
          0.46029402623236154,
          0.4383887360716117,
          0.4176487347509648,
          0.3932706504001865,
          0.39342139342139343,
          0.4188034188034188,
          0.37839937839937837,
          0.3601036269430052,
          0.3864077669902913
         ]
        },
        {
         "hovertemplate": "%{text}",
         "marker": {
          "symbol": "circle"
         },
         "mode": "lines+markers",
         "name": "N_bar_5_chenWindows",
         "text": [
          "N_bar_5_chenWindows mean: -9.415434297239733<br>N_bar_5_chenWindows std: 1.086667968123095<br>number of windows: 515<br>",
          "N_bar_5_chenWindows mean: -7.539842524582868<br>N_bar_5_chenWindows std: 0.3559135546667344<br>number of windows: 772<br>",
          "N_bar_5_chenWindows mean: -6.46034524476491<br>N_bar_5_chenWindows std: 0.27215350707662644<br>number of windows: 1287<br>",
          "N_bar_5_chenWindows mean: -5.509886086874022<br>N_bar_5_chenWindows std: 0.26138158851483456<br>number of windows: 2574<br>",
          "N_bar_5_chenWindows mean: -4.491423850383707<br>N_bar_5_chenWindows std: 0.2893921487772415<br>number of windows: 7722<br>",
          "N_bar_5_chenWindows mean: -3.6801140261151515<br>N_bar_5_chenWindows std: 0.198320604193213<br>number of windows: 12870<br>",
          "N_bar_5_chenWindows mean: -2.8118964947947176<br>N_bar_5_chenWindows std: 0.28589860583027515<br>number of windows: 38608<br>",
          "N_bar_5_chenWindows mean: -1.7922977169863807<br>N_bar_5_chenWindows std: 0.3152827038733893<br>number of windows: 64348<br>",
          "N_bar_5_chenWindows mean: -0.6839231552191698<br>N_bar_5_chenWindows std: 0.3519900178710036<br>number of windows: 64347<br>",
          "N_bar_5_chenWindows mean: 0.5817521013205841<br>N_bar_5_chenWindows std: 0.40425022164322744<br>number of windows: 38609<br>",
          "N_bar_5_chenWindows mean: 1.9350487417717301<br>N_bar_5_chenWindows std: 0.34422926961411926<br>number of windows: 12869<br>",
          "N_bar_5_chenWindows mean: 3.4204745132297143<br>N_bar_5_chenWindows std: 0.5562624851934467<br>number of windows: 7722<br>",
          "N_bar_5_chenWindows mean: 5.285767056873223<br>N_bar_5_chenWindows std: 0.456614482890989<br>number of windows: 2574<br>",
          "N_bar_5_chenWindows mean: 6.886271942244316<br>N_bar_5_chenWindows std: 0.467650857323251<br>number of windows: 1287<br>",
          "N_bar_5_chenWindows mean: 8.750732935636718<br>N_bar_5_chenWindows std: 0.6052780778293912<br>number of windows: 772<br>",
          "N_bar_5_chenWindows mean: 12.604515128818756<br>N_bar_5_chenWindows std: 2.9869553510964004<br>number of windows: 515<br>"
         ],
         "type": "scatter",
         "x": [
          "0.0 - 0.002",
          "0.002 - 0.005",
          "0.005 - 0.01",
          "0.01 - 0.02",
          "0.02 - 0.05",
          "0.05 - 0.1",
          "0.1 - 0.25",
          "0.25 - 0.5",
          "0.5 - 0.75",
          "0.75 - 0.9",
          "0.9 - 0.95",
          "0.95 - 0.98",
          "0.98 - 0.99",
          "0.99 - 0.995",
          "0.995 - 0.998",
          "0.998 - 1.0"
         ],
         "y": [
          0.9145631067961165,
          0.9015544041450777,
          0.8601398601398601,
          0.7738927738927739,
          0.6275576275576276,
          0.5422688422688423,
          0.48958765022793205,
          0.45654876608441597,
          0.4283338772592351,
          0.3953482348675179,
          0.3656072732924081,
          0.3672623672623673,
          0.3927738927738928,
          0.36596736596736595,
          0.35103626943005184,
          0.3611650485436893
         ]
        },
        {
         "hovertemplate": "%{text}",
         "marker": {
          "symbol": "circle"
         },
         "mode": "lines+markers",
         "name": "N_bar_7_noncoding",
         "text": [
          "N_bar_7_noncoding mean: -9.42719622657104<br>N_bar_7_noncoding std: 1.0175930702919642<br>number of windows: 515<br>",
          "N_bar_7_noncoding mean: -7.674793983887003<br>N_bar_7_noncoding std: 0.3346015066914321<br>number of windows: 772<br>",
          "N_bar_7_noncoding mean: -6.662821281243902<br>N_bar_7_noncoding std: 0.2629978606065316<br>number of windows: 1287<br>",
          "N_bar_7_noncoding mean: -5.7506604150263145<br>N_bar_7_noncoding std: 0.2562069288323845<br>number of windows: 2574<br>",
          "N_bar_7_noncoding mean: -4.748964266820189<br>N_bar_7_noncoding std: 0.2854964504365057<br>number of windows: 7722<br>",
          "N_bar_7_noncoding mean: -3.939682782590856<br>N_bar_7_noncoding std: 0.19824928954234633<br>number of windows: 12870<br>",
          "N_bar_7_noncoding mean: -3.074564572711923<br>N_bar_7_noncoding std: 0.2840855721621246<br>number of windows: 38608<br>",
          "N_bar_7_noncoding mean: -2.062826062384957<br>N_bar_7_noncoding std: 0.31277420437878894<br>number of windows: 64348<br>",
          "N_bar_7_noncoding mean: -0.9652237903724656<br>N_bar_7_noncoding std: 0.3487313658786435<br>number of windows: 64347<br>",
          "N_bar_7_noncoding mean: 0.28762358081855827<br>N_bar_7_noncoding std: 0.4008336549142379<br>number of windows: 38609<br>",
          "N_bar_7_noncoding mean: 1.6284676358687689<br>N_bar_7_noncoding std: 0.3404161739952035<br>number of windows: 12869<br>",
          "N_bar_7_noncoding mean: 3.101616669181953<br>N_bar_7_noncoding std: 0.5528280297365442<br>number of windows: 7722<br>",
          "N_bar_7_noncoding mean: 4.955926582678483<br>N_bar_7_noncoding std: 0.45519219606498806<br>number of windows: 2574<br>",
          "N_bar_7_noncoding mean: 6.544547735058691<br>N_bar_7_noncoding std: 0.46303712352826676<br>number of windows: 1287<br>",
          "N_bar_7_noncoding mean: 8.392945090892873<br>N_bar_7_noncoding std: 0.6033177498823474<br>number of windows: 772<br>",
          "N_bar_7_noncoding mean: 12.213400898698396<br>N_bar_7_noncoding std: 2.959535197604476<br>number of windows: 515<br>"
         ],
         "type": "scatter",
         "x": [
          "0.0 - 0.002",
          "0.002 - 0.005",
          "0.005 - 0.01",
          "0.01 - 0.02",
          "0.02 - 0.05",
          "0.05 - 0.1",
          "0.1 - 0.25",
          "0.25 - 0.5",
          "0.5 - 0.75",
          "0.75 - 0.9",
          "0.9 - 0.95",
          "0.95 - 0.98",
          "0.98 - 0.99",
          "0.99 - 0.995",
          "0.995 - 0.998",
          "0.998 - 1.0"
         ],
         "y": [
          0.9029126213592233,
          0.8989637305699482,
          0.8593628593628594,
          0.7684537684537684,
          0.6307951307951308,
          0.5434343434343434,
          0.48992436800663075,
          0.45667309007272955,
          0.4276190032169332,
          0.39633246134321015,
          0.3645193876758101,
          0.362988862988863,
          0.3978243978243978,
          0.36985236985236986,
          0.3536269430051813,
          0.3553398058252427
         ]
        },
        {
         "hovertemplate": "%{text}",
         "marker": {
          "symbol": "circle"
         },
         "mode": "lines+markers",
         "name": "N_bar_7_coding",
         "text": [
          "N_bar_7_coding mean: -5.903776912383233<br>N_bar_7_coding std: 0.8298969356953129<br>number of windows: 515<br>",
          "N_bar_7_coding mean: -4.570982442067003<br>N_bar_7_coding std: 0.2248156747702309<br>number of windows: 772<br>",
          "N_bar_7_coding mean: -3.962209622441831<br>N_bar_7_coding std: 0.15005140948736195<br>number of windows: 1287<br>",
          "N_bar_7_coding mean: -3.4445056537211585<br>N_bar_7_coding std: 0.1513042730011702<br>number of windows: 2574<br>",
          "N_bar_7_coding mean: -2.8071108013779296<br>N_bar_7_coding std: 0.1979283882597836<br>number of windows: 7722<br>",
          "N_bar_7_coding mean: -2.191223034502634<br>N_bar_7_coding std: 0.16214845451585258<br>number of windows: 12870<br>",
          "N_bar_7_coding mean: -1.414544709902013<br>N_bar_7_coding std: 0.26900624410145785<br>number of windows: 38608<br>",
          "N_bar_7_coding mean: -0.42006313110412585<br>N_bar_7_coding std: 0.31266142919100565<br>number of windows: 64348<br>",
          "N_bar_7_coding mean: 0.6987203801132104<br>N_bar_7_coding std: 0.35847775140470856<br>number of windows: 64347<br>",
          "N_bar_7_coding mean: 1.9999390001515844<br>N_bar_7_coding std: 0.41800776256483746<br>number of windows: 38609<br>",
          "N_bar_7_coding mean: 3.4023277307579964<br>N_bar_7_coding std: 0.3556049533539526<br>number of windows: 12869<br>",
          "N_bar_7_coding mean: 4.959540495707855<br>N_bar_7_coding std: 0.5815637052871544<br>number of windows: 7722<br>",
          "N_bar_7_coding mean: 6.904363473881487<br>N_bar_7_coding std: 0.4714503383958596<br>number of windows: 2574<br>",
          "N_bar_7_coding mean: 8.537667011146658<br>N_bar_7_coding std: 0.48484655572508245<br>number of windows: 1287<br>",
          "N_bar_7_coding mean: 10.454861706633057<br>N_bar_7_coding std: 0.6226140486274693<br>number of windows: 772<br>",
          "N_bar_7_coding mean: 14.43481511521443<br>N_bar_7_coding std: 3.0592852487771993<br>number of windows: 515<br>"
         ],
         "type": "scatter",
         "x": [
          "0.0 - 0.002",
          "0.002 - 0.005",
          "0.005 - 0.01",
          "0.01 - 0.02",
          "0.02 - 0.05",
          "0.05 - 0.1",
          "0.1 - 0.25",
          "0.25 - 0.5",
          "0.5 - 0.75",
          "0.75 - 0.9",
          "0.9 - 0.95",
          "0.95 - 0.98",
          "0.98 - 0.99",
          "0.99 - 0.995",
          "0.995 - 0.998",
          "0.998 - 1.0"
         ],
         "y": [
          0.7533980582524272,
          0.689119170984456,
          0.6348096348096348,
          0.5885780885780886,
          0.5423465423465423,
          0.5037296037296037,
          0.4808070866141732,
          0.4596724062907938,
          0.4391813138141638,
          0.4196171877023492,
          0.3945139482477271,
          0.39225589225589225,
          0.4172494172494173,
          0.3853923853923854,
          0.36528497409326427,
          0.37475728155339805
         ]
        },
        {
         "hovertemplate": "%{text}",
         "marker": {
          "symbol": "circle"
         },
         "mode": "lines+markers",
         "name": "N_bar_7_chenWindows",
         "text": [
          "N_bar_7_chenWindows mean: -8.61415062264191<br>N_bar_7_chenWindows std: 0.9808134827766446<br>number of windows: 515<br>",
          "N_bar_7_chenWindows mean: -6.957345595745124<br>N_bar_7_chenWindows std: 0.3049683338111825<br>number of windows: 772<br>",
          "N_bar_7_chenWindows mean: -6.047303033499119<br>N_bar_7_chenWindows std: 0.23691525435869332<br>number of windows: 1287<br>",
          "N_bar_7_chenWindows mean: -5.247941105171373<br>N_bar_7_chenWindows std: 0.22342331716266237<br>number of windows: 2574<br>",
          "N_bar_7_chenWindows mean: -4.368131631927884<br>N_bar_7_chenWindows std: 0.25611782554290596<br>number of windows: 7722<br>",
          "N_bar_7_chenWindows mean: -3.6204146807451703<br>N_bar_7_chenWindows std: 0.18771954989787842<br>number of windows: 12870<br>",
          "N_bar_7_chenWindows mean: -2.782153117075395<br>N_bar_7_chenWindows std: 0.27976429154661164<br>number of windows: 38608<br>",
          "N_bar_7_chenWindows mean: -1.77483244427242<br>N_bar_7_chenWindows std: 0.31239563752863314<br>number of windows: 64348<br>",
          "N_bar_7_chenWindows mean: -0.6738251936788123<br>N_bar_7_chenWindows std: 0.3509223981623283<br>number of windows: 64347<br>",
          "N_bar_7_chenWindows mean: 0.5896277895094586<br>N_bar_7_chenWindows std: 0.4045116157685408<br>number of windows: 38609<br>",
          "N_bar_7_chenWindows mean: 1.9431811697175627<br>N_bar_7_chenWindows std: 0.3442445405191559<br>number of windows: 12869<br>",
          "N_bar_7_chenWindows mean: 3.4378581274357387<br>N_bar_7_chenWindows std: 0.5604095542588294<br>number of windows: 7722<br>",
          "N_bar_7_chenWindows mean: 5.312399207686807<br>N_bar_7_chenWindows std: 0.4605994528224405<br>number of windows: 2574<br>",
          "N_bar_7_chenWindows mean: 6.914261884265827<br>N_bar_7_chenWindows std: 0.4700128315739456<br>number of windows: 1287<br>",
          "N_bar_7_chenWindows mean: 8.781590439467607<br>N_bar_7_chenWindows std: 0.6084845005286244<br>number of windows: 772<br>",
          "N_bar_7_chenWindows mean: 12.64644452094935<br>N_bar_7_chenWindows std: 2.9822433345313546<br>number of windows: 515<br>"
         ],
         "type": "scatter",
         "x": [
          "0.0 - 0.002",
          "0.002 - 0.005",
          "0.005 - 0.01",
          "0.01 - 0.02",
          "0.02 - 0.05",
          "0.05 - 0.1",
          "0.1 - 0.25",
          "0.25 - 0.5",
          "0.5 - 0.75",
          "0.75 - 0.9",
          "0.9 - 0.95",
          "0.95 - 0.98",
          "0.98 - 0.99",
          "0.99 - 0.995",
          "0.995 - 0.998",
          "0.998 - 1.0"
         ],
         "y": [
          0.8815533980582524,
          0.8652849740932642,
          0.8080808080808081,
          0.7245532245532246,
          0.6098161098161098,
          0.5365190365190365,
          0.48816307501036055,
          0.45659538758003354,
          0.43047849938614074,
          0.4020565153202621,
          0.3689486362576735,
          0.3711473711473712,
          0.40093240093240096,
          0.37373737373737376,
          0.35233160621761656,
          0.3611650485436893
         ]
        },
        {
         "mode": "lines",
         "name": "fraction of all windows that overlap an enhancer",
         "type": "scatter",
         "x": [
          "0.0 - 0.002",
          "0.002 - 0.005",
          "0.005 - 0.01",
          "0.01 - 0.02",
          "0.02 - 0.05",
          "0.05 - 0.1",
          "0.1 - 0.25",
          "0.25 - 0.5",
          "0.5 - 0.75",
          "0.75 - 0.9",
          "0.9 - 0.95",
          "0.95 - 0.98",
          "0.98 - 0.99",
          "0.99 - 0.995",
          "0.995 - 0.998",
          "0.998 - 1.0"
         ],
         "y": [
          0.4533064481664083,
          0.4533064481664083,
          0.4533064481664083,
          0.4533064481664083,
          0.4533064481664083,
          0.4533064481664083,
          0.4533064481664083,
          0.4533064481664083,
          0.4533064481664083,
          0.4533064481664083,
          0.4533064481664083,
          0.4533064481664083,
          0.4533064481664083,
          0.4533064481664083,
          0.4533064481664083,
          0.4533064481664083
         ]
        }
       ],
       "layout": {
        "font": {
         "size": 20
        },
        "height": 800,
        "template": {
         "data": {
          "bar": [
           {
            "error_x": {
             "color": "#2a3f5f"
            },
            "error_y": {
             "color": "#2a3f5f"
            },
            "marker": {
             "line": {
              "color": "#E5ECF6",
              "width": 0.5
             },
             "pattern": {
              "fillmode": "overlay",
              "size": 10,
              "solidity": 0.2
             }
            },
            "type": "bar"
           }
          ],
          "barpolar": [
           {
            "marker": {
             "line": {
              "color": "#E5ECF6",
              "width": 0.5
             },
             "pattern": {
              "fillmode": "overlay",
              "size": 10,
              "solidity": 0.2
             }
            },
            "type": "barpolar"
           }
          ],
          "carpet": [
           {
            "aaxis": {
             "endlinecolor": "#2a3f5f",
             "gridcolor": "white",
             "linecolor": "white",
             "minorgridcolor": "white",
             "startlinecolor": "#2a3f5f"
            },
            "baxis": {
             "endlinecolor": "#2a3f5f",
             "gridcolor": "white",
             "linecolor": "white",
             "minorgridcolor": "white",
             "startlinecolor": "#2a3f5f"
            },
            "type": "carpet"
           }
          ],
          "choropleth": [
           {
            "colorbar": {
             "outlinewidth": 0,
             "ticks": ""
            },
            "type": "choropleth"
           }
          ],
          "contour": [
           {
            "colorbar": {
             "outlinewidth": 0,
             "ticks": ""
            },
            "colorscale": [
             [
              0,
              "#0d0887"
             ],
             [
              0.1111111111111111,
              "#46039f"
             ],
             [
              0.2222222222222222,
              "#7201a8"
             ],
             [
              0.3333333333333333,
              "#9c179e"
             ],
             [
              0.4444444444444444,
              "#bd3786"
             ],
             [
              0.5555555555555556,
              "#d8576b"
             ],
             [
              0.6666666666666666,
              "#ed7953"
             ],
             [
              0.7777777777777778,
              "#fb9f3a"
             ],
             [
              0.8888888888888888,
              "#fdca26"
             ],
             [
              1,
              "#f0f921"
             ]
            ],
            "type": "contour"
           }
          ],
          "contourcarpet": [
           {
            "colorbar": {
             "outlinewidth": 0,
             "ticks": ""
            },
            "type": "contourcarpet"
           }
          ],
          "heatmap": [
           {
            "colorbar": {
             "outlinewidth": 0,
             "ticks": ""
            },
            "colorscale": [
             [
              0,
              "#0d0887"
             ],
             [
              0.1111111111111111,
              "#46039f"
             ],
             [
              0.2222222222222222,
              "#7201a8"
             ],
             [
              0.3333333333333333,
              "#9c179e"
             ],
             [
              0.4444444444444444,
              "#bd3786"
             ],
             [
              0.5555555555555556,
              "#d8576b"
             ],
             [
              0.6666666666666666,
              "#ed7953"
             ],
             [
              0.7777777777777778,
              "#fb9f3a"
             ],
             [
              0.8888888888888888,
              "#fdca26"
             ],
             [
              1,
              "#f0f921"
             ]
            ],
            "type": "heatmap"
           }
          ],
          "heatmapgl": [
           {
            "colorbar": {
             "outlinewidth": 0,
             "ticks": ""
            },
            "colorscale": [
             [
              0,
              "#0d0887"
             ],
             [
              0.1111111111111111,
              "#46039f"
             ],
             [
              0.2222222222222222,
              "#7201a8"
             ],
             [
              0.3333333333333333,
              "#9c179e"
             ],
             [
              0.4444444444444444,
              "#bd3786"
             ],
             [
              0.5555555555555556,
              "#d8576b"
             ],
             [
              0.6666666666666666,
              "#ed7953"
             ],
             [
              0.7777777777777778,
              "#fb9f3a"
             ],
             [
              0.8888888888888888,
              "#fdca26"
             ],
             [
              1,
              "#f0f921"
             ]
            ],
            "type": "heatmapgl"
           }
          ],
          "histogram": [
           {
            "marker": {
             "pattern": {
              "fillmode": "overlay",
              "size": 10,
              "solidity": 0.2
             }
            },
            "type": "histogram"
           }
          ],
          "histogram2d": [
           {
            "colorbar": {
             "outlinewidth": 0,
             "ticks": ""
            },
            "colorscale": [
             [
              0,
              "#0d0887"
             ],
             [
              0.1111111111111111,
              "#46039f"
             ],
             [
              0.2222222222222222,
              "#7201a8"
             ],
             [
              0.3333333333333333,
              "#9c179e"
             ],
             [
              0.4444444444444444,
              "#bd3786"
             ],
             [
              0.5555555555555556,
              "#d8576b"
             ],
             [
              0.6666666666666666,
              "#ed7953"
             ],
             [
              0.7777777777777778,
              "#fb9f3a"
             ],
             [
              0.8888888888888888,
              "#fdca26"
             ],
             [
              1,
              "#f0f921"
             ]
            ],
            "type": "histogram2d"
           }
          ],
          "histogram2dcontour": [
           {
            "colorbar": {
             "outlinewidth": 0,
             "ticks": ""
            },
            "colorscale": [
             [
              0,
              "#0d0887"
             ],
             [
              0.1111111111111111,
              "#46039f"
             ],
             [
              0.2222222222222222,
              "#7201a8"
             ],
             [
              0.3333333333333333,
              "#9c179e"
             ],
             [
              0.4444444444444444,
              "#bd3786"
             ],
             [
              0.5555555555555556,
              "#d8576b"
             ],
             [
              0.6666666666666666,
              "#ed7953"
             ],
             [
              0.7777777777777778,
              "#fb9f3a"
             ],
             [
              0.8888888888888888,
              "#fdca26"
             ],
             [
              1,
              "#f0f921"
             ]
            ],
            "type": "histogram2dcontour"
           }
          ],
          "mesh3d": [
           {
            "colorbar": {
             "outlinewidth": 0,
             "ticks": ""
            },
            "type": "mesh3d"
           }
          ],
          "parcoords": [
           {
            "line": {
             "colorbar": {
              "outlinewidth": 0,
              "ticks": ""
             }
            },
            "type": "parcoords"
           }
          ],
          "pie": [
           {
            "automargin": true,
            "type": "pie"
           }
          ],
          "scatter": [
           {
            "marker": {
             "colorbar": {
              "outlinewidth": 0,
              "ticks": ""
             }
            },
            "type": "scatter"
           }
          ],
          "scatter3d": [
           {
            "line": {
             "colorbar": {
              "outlinewidth": 0,
              "ticks": ""
             }
            },
            "marker": {
             "colorbar": {
              "outlinewidth": 0,
              "ticks": ""
             }
            },
            "type": "scatter3d"
           }
          ],
          "scattercarpet": [
           {
            "marker": {
             "colorbar": {
              "outlinewidth": 0,
              "ticks": ""
             }
            },
            "type": "scattercarpet"
           }
          ],
          "scattergeo": [
           {
            "marker": {
             "colorbar": {
              "outlinewidth": 0,
              "ticks": ""
             }
            },
            "type": "scattergeo"
           }
          ],
          "scattergl": [
           {
            "marker": {
             "colorbar": {
              "outlinewidth": 0,
              "ticks": ""
             }
            },
            "type": "scattergl"
           }
          ],
          "scattermapbox": [
           {
            "marker": {
             "colorbar": {
              "outlinewidth": 0,
              "ticks": ""
             }
            },
            "type": "scattermapbox"
           }
          ],
          "scatterpolar": [
           {
            "marker": {
             "colorbar": {
              "outlinewidth": 0,
              "ticks": ""
             }
            },
            "type": "scatterpolar"
           }
          ],
          "scatterpolargl": [
           {
            "marker": {
             "colorbar": {
              "outlinewidth": 0,
              "ticks": ""
             }
            },
            "type": "scatterpolargl"
           }
          ],
          "scatterternary": [
           {
            "marker": {
             "colorbar": {
              "outlinewidth": 0,
              "ticks": ""
             }
            },
            "type": "scatterternary"
           }
          ],
          "surface": [
           {
            "colorbar": {
             "outlinewidth": 0,
             "ticks": ""
            },
            "colorscale": [
             [
              0,
              "#0d0887"
             ],
             [
              0.1111111111111111,
              "#46039f"
             ],
             [
              0.2222222222222222,
              "#7201a8"
             ],
             [
              0.3333333333333333,
              "#9c179e"
             ],
             [
              0.4444444444444444,
              "#bd3786"
             ],
             [
              0.5555555555555556,
              "#d8576b"
             ],
             [
              0.6666666666666666,
              "#ed7953"
             ],
             [
              0.7777777777777778,
              "#fb9f3a"
             ],
             [
              0.8888888888888888,
              "#fdca26"
             ],
             [
              1,
              "#f0f921"
             ]
            ],
            "type": "surface"
           }
          ],
          "table": [
           {
            "cells": {
             "fill": {
              "color": "#EBF0F8"
             },
             "line": {
              "color": "white"
             }
            },
            "header": {
             "fill": {
              "color": "#C8D4E3"
             },
             "line": {
              "color": "white"
             }
            },
            "type": "table"
           }
          ]
         },
         "layout": {
          "annotationdefaults": {
           "arrowcolor": "#2a3f5f",
           "arrowhead": 0,
           "arrowwidth": 1
          },
          "autotypenumbers": "strict",
          "coloraxis": {
           "colorbar": {
            "outlinewidth": 0,
            "ticks": ""
           }
          },
          "colorscale": {
           "diverging": [
            [
             0,
             "#8e0152"
            ],
            [
             0.1,
             "#c51b7d"
            ],
            [
             0.2,
             "#de77ae"
            ],
            [
             0.3,
             "#f1b6da"
            ],
            [
             0.4,
             "#fde0ef"
            ],
            [
             0.5,
             "#f7f7f7"
            ],
            [
             0.6,
             "#e6f5d0"
            ],
            [
             0.7,
             "#b8e186"
            ],
            [
             0.8,
             "#7fbc41"
            ],
            [
             0.9,
             "#4d9221"
            ],
            [
             1,
             "#276419"
            ]
           ],
           "sequential": [
            [
             0,
             "#0d0887"
            ],
            [
             0.1111111111111111,
             "#46039f"
            ],
            [
             0.2222222222222222,
             "#7201a8"
            ],
            [
             0.3333333333333333,
             "#9c179e"
            ],
            [
             0.4444444444444444,
             "#bd3786"
            ],
            [
             0.5555555555555556,
             "#d8576b"
            ],
            [
             0.6666666666666666,
             "#ed7953"
            ],
            [
             0.7777777777777778,
             "#fb9f3a"
            ],
            [
             0.8888888888888888,
             "#fdca26"
            ],
            [
             1,
             "#f0f921"
            ]
           ],
           "sequentialminus": [
            [
             0,
             "#0d0887"
            ],
            [
             0.1111111111111111,
             "#46039f"
            ],
            [
             0.2222222222222222,
             "#7201a8"
            ],
            [
             0.3333333333333333,
             "#9c179e"
            ],
            [
             0.4444444444444444,
             "#bd3786"
            ],
            [
             0.5555555555555556,
             "#d8576b"
            ],
            [
             0.6666666666666666,
             "#ed7953"
            ],
            [
             0.7777777777777778,
             "#fb9f3a"
            ],
            [
             0.8888888888888888,
             "#fdca26"
            ],
            [
             1,
             "#f0f921"
            ]
           ]
          },
          "colorway": [
           "#636efa",
           "#EF553B",
           "#00cc96",
           "#ab63fa",
           "#FFA15A",
           "#19d3f3",
           "#FF6692",
           "#B6E880",
           "#FF97FF",
           "#FECB52"
          ],
          "font": {
           "color": "#2a3f5f"
          },
          "geo": {
           "bgcolor": "white",
           "lakecolor": "white",
           "landcolor": "#E5ECF6",
           "showlakes": true,
           "showland": true,
           "subunitcolor": "white"
          },
          "hoverlabel": {
           "align": "left"
          },
          "hovermode": "closest",
          "mapbox": {
           "style": "light"
          },
          "paper_bgcolor": "white",
          "plot_bgcolor": "#E5ECF6",
          "polar": {
           "angularaxis": {
            "gridcolor": "white",
            "linecolor": "white",
            "ticks": ""
           },
           "bgcolor": "#E5ECF6",
           "radialaxis": {
            "gridcolor": "white",
            "linecolor": "white",
            "ticks": ""
           }
          },
          "scene": {
           "xaxis": {
            "backgroundcolor": "#E5ECF6",
            "gridcolor": "white",
            "gridwidth": 2,
            "linecolor": "white",
            "showbackground": true,
            "ticks": "",
            "zerolinecolor": "white"
           },
           "yaxis": {
            "backgroundcolor": "#E5ECF6",
            "gridcolor": "white",
            "gridwidth": 2,
            "linecolor": "white",
            "showbackground": true,
            "ticks": "",
            "zerolinecolor": "white"
           },
           "zaxis": {
            "backgroundcolor": "#E5ECF6",
            "gridcolor": "white",
            "gridwidth": 2,
            "linecolor": "white",
            "showbackground": true,
            "ticks": "",
            "zerolinecolor": "white"
           }
          },
          "shapedefaults": {
           "line": {
            "color": "#2a3f5f"
           }
          },
          "ternary": {
           "aaxis": {
            "gridcolor": "white",
            "linecolor": "white",
            "ticks": ""
           },
           "baxis": {
            "gridcolor": "white",
            "linecolor": "white",
            "ticks": ""
           },
           "bgcolor": "#E5ECF6",
           "caxis": {
            "gridcolor": "white",
            "linecolor": "white",
            "ticks": ""
           }
          },
          "title": {
           "x": 0.05
          },
          "xaxis": {
           "automargin": true,
           "gridcolor": "white",
           "linecolor": "white",
           "ticks": "",
           "title": {
            "standoff": 15
           },
           "zerolinecolor": "white",
           "zerolinewidth": 2
          },
          "yaxis": {
           "automargin": true,
           "gridcolor": "white",
           "linecolor": "white",
           "ticks": "",
           "title": {
            "standoff": 15
           },
           "zerolinecolor": "white",
           "zerolinewidth": 2
          }
         }
        },
        "width": 1600,
        "xaxis": {
         "title": {
          "text": "quantile of window score"
         }
        },
        "yaxis": {
         "title": {
          "text": "fraction of Chen windows that overlap a GeneHancer enhancer"
         }
        }
       }
      },
      "text/html": [
       "<div>                            <div id=\"1aeb35ed-13b2-4f43-aaf5-c8a2afc8fadd\" class=\"plotly-graph-div\" style=\"height:800px; width:1600px;\"></div>            <script type=\"text/javascript\">                require([\"plotly\"], function(Plotly) {                    window.PLOTLYENV=window.PLOTLYENV || {};                                    if (document.getElementById(\"1aeb35ed-13b2-4f43-aaf5-c8a2afc8fadd\")) {                    Plotly.newPlot(                        \"1aeb35ed-13b2-4f43-aaf5-c8a2afc8fadd\",                        [{\"hovertemplate\":\"%{text}\",\"marker\":{\"symbol\":\"square\"},\"mode\":\"lines+markers\",\"name\":\"negative new chen zscore\",\"text\":[\"negative new chen zscore mean: -8.17952157904678<br>negative new chen zscore std: 0.6483161325831029<br>number of windows: 515<br>\",\"negative new chen zscore mean: -6.878435798697642<br>negative new chen zscore std: 0.2520657150333085<br>number of windows: 772<br>\",\"negative new chen zscore mean: -6.145919358548195<br>negative new chen zscore std: 0.18626245455061385<br>number of windows: 1287<br>\",\"negative new chen zscore mean: -5.447062850502007<br>negative new chen zscore std: 0.20624886457571462<br>number of windows: 2574<br>\",\"negative new chen zscore mean: -4.569428727019669<br>negative new chen zscore std: 0.27558891195339186<br>number of windows: 7722<br>\",\"negative new chen zscore mean: -3.729791853696774<br>negative new chen zscore std: 0.21972680973064762<br>number of windows: 12870<br>\",\"negative new chen zscore mean: -2.7587403592188866<br>negative new chen zscore std: 0.31523260627787264<br>number of windows: 38608<br>\",\"negative new chen zscore mean: -1.681851222350803<br>negative new chen zscore std: 0.32385894814754207<br>number of windows: 64348<br>\",\"negative new chen zscore mean: -0.5923147944839052<br>negative new chen zscore std: 0.3287316864501504<br>number of windows: 64347<br>\",\"negative new chen zscore mean: 0.527360309977656<br>negative new chen zscore std: 0.3315674393067713<br>number of windows: 38609<br>\",\"negative new chen zscore mean: 1.5560545113366875<br>negative new chen zscore std: 0.2354596702646639<br>number of windows: 12869<br>\",\"negative new chen zscore mean: 2.4911753980743936<br>negative new chen zscore std: 0.3206223587866304<br>number of windows: 7722<br>\",\"negative new chen zscore mean: 3.5493823036797885<br>negative new chen zscore std: 0.270487134606143<br>number of windows: 2574<br>\",\"negative new chen zscore mean: 4.536844717396067<br>negative new chen zscore std: 0.28924456739496696<br>number of windows: 1287<br>\",\"negative new chen zscore mean: 5.707570335062137<br>negative new chen zscore std: 0.4099007915512853<br>number of windows: 772<br>\",\"negative new chen zscore mean: 7.744461862050895<br>negative new chen zscore std: 0.922058069270032<br>number of windows: 515<br>\"],\"type\":\"scatter\",\"x\":[\"0.0 - 0.002\",\"0.002 - 0.005\",\"0.005 - 0.01\",\"0.01 - 0.02\",\"0.02 - 0.05\",\"0.05 - 0.1\",\"0.1 - 0.25\",\"0.25 - 0.5\",\"0.5 - 0.75\",\"0.75 - 0.9\",\"0.9 - 0.95\",\"0.95 - 0.98\",\"0.98 - 0.99\",\"0.99 - 0.995\",\"0.995 - 0.998\",\"0.998 - 1.0\"],\"y\":[0.6368932038834951,0.6787564766839378,0.6666666666666666,0.6235431235431236,0.6060606060606061,0.5707847707847707,0.5172762121840033,0.4683440044756636,0.4224905590004196,0.3897536843741097,0.36265444090449916,0.3418803418803419,0.32944832944832947,0.3550893550893551,0.3290155440414508,0.24854368932038834]},{\"hovertemplate\":\"%{text}\",\"marker\":{\"symbol\":\"circle\"},\"mode\":\"lines+markers\",\"name\":\"N_bar_3_noncoding\",\"text\":[\"N_bar_3_noncoding mean: -10.782727211581848<br>N_bar_3_noncoding std: 1.2273773524080802<br>number of windows: 515<br>\",\"N_bar_3_noncoding mean: -8.664532333002722<br>N_bar_3_noncoding std: 0.4097517920184334<br>number of windows: 772<br>\",\"N_bar_3_noncoding mean: -7.386471749372955<br>N_bar_3_noncoding std: 0.3329990611168054<br>number of windows: 1287<br>\",\"N_bar_3_noncoding mean: -6.210658907282423<br>N_bar_3_noncoding std: 0.3289254574555234<br>number of windows: 2574<br>\",\"N_bar_3_noncoding mean: -4.9424404516493805<br>N_bar_3_noncoding std: 0.3513968762460521<br>number of windows: 7722<br>\",\"N_bar_3_noncoding mean: -4.020416570382058<br>N_bar_3_noncoding std: 0.2135467587637075<br>number of windows: 12870<br>\",\"N_bar_3_noncoding mean: -3.116131028487235<br>N_bar_3_noncoding std: 0.28998390137443025<br>number of windows: 38608<br>\",\"N_bar_3_noncoding mean: -2.0927125844288987<br>N_bar_3_noncoding std: 0.31535759891214776<br>number of windows: 64348<br>\",\"N_bar_3_noncoding mean: -0.9893267451795148<br>N_bar_3_noncoding std: 0.34876309834900865<br>number of windows: 64347<br>\",\"N_bar_3_noncoding mean: 0.2647553984688377<br>N_bar_3_noncoding std: 0.3995955236694526<br>number of windows: 38609<br>\",\"N_bar_3_noncoding mean: 1.5985978395996712<br>N_bar_3_noncoding std: 0.3364374710217224<br>number of windows: 12869<br>\",\"N_bar_3_noncoding mean: 3.057091309086521<br>N_bar_3_noncoding std: 0.5443643092417353<br>number of windows: 7722<br>\",\"N_bar_3_noncoding mean: 4.885571836271373<br>N_bar_3_noncoding std: 0.44792628436227827<br>number of windows: 2574<br>\",\"N_bar_3_noncoding mean: 6.468503470417646<br>N_bar_3_noncoding std: 0.45857828463180583<br>number of windows: 1287<br>\",\"N_bar_3_noncoding mean: 8.30212176199289<br>N_bar_3_noncoding std: 0.6021942515937238<br>number of windows: 772<br>\",\"N_bar_3_noncoding mean: 12.09297069851477<br>N_bar_3_noncoding std: 2.947203164280439<br>number of windows: 515<br>\"],\"type\":\"scatter\",\"x\":[\"0.0 - 0.002\",\"0.002 - 0.005\",\"0.005 - 0.01\",\"0.01 - 0.02\",\"0.02 - 0.05\",\"0.05 - 0.1\",\"0.1 - 0.25\",\"0.25 - 0.5\",\"0.5 - 0.75\",\"0.75 - 0.9\",\"0.9 - 0.95\",\"0.95 - 0.98\",\"0.98 - 0.99\",\"0.99 - 0.995\",\"0.995 - 0.998\",\"0.998 - 1.0\"],\"y\":[0.9514563106796117,0.917098445595855,0.9114219114219114,0.8306138306138307,0.6642061642061642,0.5449106449106449,0.4907532117695814,0.4547149872567912,0.42508586258877645,0.3921883498666114,0.3602455513248893,0.3587153587153587,0.3888888888888889,0.36363636363636365,0.3432642487046632,0.3572815533980582]},{\"hovertemplate\":\"%{text}\",\"marker\":{\"symbol\":\"circle\"},\"mode\":\"lines+markers\",\"name\":\"N_bar_3_coding\",\"text\":[\"N_bar_3_coding mean: -6.162495067174468<br>N_bar_3_coding std: 0.9048620364250738<br>number of windows: 515<br>\",\"N_bar_3_coding mean: -4.697773769183665<br>N_bar_3_coding std: 0.2509437564448095<br>number of windows: 772<br>\",\"N_bar_3_coding mean: -4.001668100716336<br>N_bar_3_coding std: 0.1734241410500823<br>number of windows: 1287<br>\",\"N_bar_3_coding mean: -3.435528437605088<br>N_bar_3_coding std: 0.15891127433318744<br>number of windows: 2574<br>\",\"N_bar_3_coding mean: -2.774034073747666<br>N_bar_3_coding std: 0.20489540518302155<br>number of windows: 7722<br>\",\"N_bar_3_coding mean: -2.150613811021423<br>N_bar_3_coding std: 0.1634318210307409<br>number of windows: 12870<br>\",\"N_bar_3_coding mean: -1.3699281571853463<br>N_bar_3_coding std: 0.2708010902617463<br>number of windows: 38608<br>\",\"N_bar_3_coding mean: -0.37728118111728765<br>N_bar_3_coding std: 0.3131789946390846<br>number of windows: 64348<br>\",\"N_bar_3_coding mean: 0.7390493342790814<br>N_bar_3_coding std: 0.35744110610091695<br>number of windows: 64347<br>\",\"N_bar_3_coding mean: 2.0357594821631597<br>N_bar_3_coding std: 0.4159268809217142<br>number of windows: 38609<br>\",\"N_bar_3_coding mean: 3.4299743004785515<br>N_bar_3_coding std: 0.3549914180314533<br>number of windows: 12869<br>\",\"N_bar_3_coding mean: 4.980489846581225<br>N_bar_3_coding std: 0.5786469735644165<br>number of windows: 7722<br>\",\"N_bar_3_coding mean: 6.907329886373012<br>N_bar_3_coding std: 0.47174397056631395<br>number of windows: 2574<br>\",\"N_bar_3_coding mean: 8.545804206346503<br>N_bar_3_coding std: 0.48138576007018974<br>number of windows: 1287<br>\",\"N_bar_3_coding mean: 10.446232767979453<br>N_bar_3_coding std: 0.6178461628317233<br>number of windows: 772<br>\",\"N_bar_3_coding mean: 14.4264215707709<br>N_bar_3_coding std: 3.0420614352868993<br>number of windows: 515<br>\"],\"type\":\"scatter\",\"x\":[\"0.0 - 0.002\",\"0.002 - 0.005\",\"0.005 - 0.01\",\"0.01 - 0.02\",\"0.02 - 0.05\",\"0.05 - 0.1\",\"0.1 - 0.25\",\"0.25 - 0.5\",\"0.5 - 0.75\",\"0.75 - 0.9\",\"0.9 - 0.95\",\"0.95 - 0.98\",\"0.98 - 0.99\",\"0.99 - 0.995\",\"0.995 - 0.998\",\"0.998 - 1.0\"],\"y\":[0.8038834951456311,0.7474093264248705,0.6557886557886557,0.6002331002331003,0.5448070448070448,0.5003885003885004,0.48034086199751347,0.458879840865295,0.4392900989945141,0.4184516563495558,0.39482477270961225,0.3932918932918933,0.4121989121989122,0.38461538461538464,0.3588082901554404,0.3941747572815534]},{\"hovertemplate\":\"%{text}\",\"marker\":{\"symbol\":\"circle\"},\"mode\":\"lines+markers\",\"name\":\"N_bar_3_chenWindows\",\"text\":[\"N_bar_3_chenWindows mean: -10.182444136977315<br>N_bar_3_chenWindows std: 1.1928495294031904<br>number of windows: 515<br>\",\"N_bar_3_chenWindows mean: -8.13329990331052<br>N_bar_3_chenWindows std: 0.39882581243930854<br>number of windows: 772<br>\",\"N_bar_3_chenWindows mean: -6.9078257889474255<br>N_bar_3_chenWindows std: 0.31829974129067556<br>number of windows: 1287<br>\",\"N_bar_3_chenWindows mean: -5.794861679369866<br>N_bar_3_chenWindows std: 0.3078053386381032<br>number of windows: 2574<br>\",\"N_bar_3_chenWindows mean: -4.611213293627808<br>N_bar_3_chenWindows std: 0.3308047473540526<br>number of windows: 7722<br>\",\"N_bar_3_chenWindows mean: -3.7296967466116784<br>N_bar_3_chenWindows std: 0.20744272992851076<br>number of windows: 12870<br>\",\"N_bar_3_chenWindows mean: -2.8357805540095584<br>N_bar_3_chenWindows std: 0.2891628268133995<br>number of windows: 38608<br>\",\"N_bar_3_chenWindows mean: -1.8115287428640976<br>N_bar_3_chenWindows std: 0.3163310568711153<br>number of windows: 64348<br>\",\"N_bar_3_chenWindows mean: -0.7023600628079493<br>N_bar_3_chenWindows std: 0.3511361601948875<br>number of windows: 64347<br>\",\"N_bar_3_chenWindows mean: 0.5609485920847755<br>N_bar_3_chenWindows std: 0.40302806122252677<br>number of windows: 38609<br>\",\"N_bar_3_chenWindows mean: 1.907054869249215<br>N_bar_3_chenWindows std: 0.34017925231696766<br>number of windows: 12869<br>\",\"N_bar_3_chenWindows mean: 3.3809628514550023<br>N_bar_3_chenWindows std: 0.5502453438366978<br>number of windows: 7722<br>\",\"N_bar_3_chenWindows mean: 5.229453183541442<br>N_bar_3_chenWindows std: 0.4525292301809072<br>number of windows: 2574<br>\",\"N_bar_3_chenWindows mean: 6.824642864063901<br>N_bar_3_chenWindows std: 0.46386858814973314<br>number of windows: 1287<br>\",\"N_bar_3_chenWindows mean: 8.675217926830431<br>N_bar_3_chenWindows std: 0.6074010102937609<br>number of windows: 772<br>\",\"N_bar_3_chenWindows mean: 12.502093868727371<br>N_bar_3_chenWindows std: 2.970981998975809<br>number of windows: 515<br>\"],\"type\":\"scatter\",\"x\":[\"0.0 - 0.002\",\"0.002 - 0.005\",\"0.005 - 0.01\",\"0.01 - 0.02\",\"0.02 - 0.05\",\"0.05 - 0.1\",\"0.1 - 0.25\",\"0.25 - 0.5\",\"0.5 - 0.75\",\"0.75 - 0.9\",\"0.9 - 0.95\",\"0.95 - 0.98\",\"0.98 - 0.99\",\"0.99 - 0.995\",\"0.995 - 0.998\",\"0.998 - 1.0\"],\"y\":[0.945631067961165,0.9119170984455959,0.9044289044289044,0.8135198135198135,0.6478891478891479,0.5428127428127428,0.48906962287608785,0.4556007956735252,0.42674872177413087,0.39345748400631975,0.3631983837127982,0.3614348614348614,0.38927738927738925,0.3667443667443667,0.34196891191709844,0.3611650485436893]},{\"hovertemplate\":\"%{text}\",\"marker\":{\"symbol\":\"circle\"},\"mode\":\"lines+markers\",\"name\":\"N_bar_5_noncoding\",\"text\":[\"N_bar_5_noncoding mean: -10.158953632063994<br>N_bar_5_noncoding std: 1.1421502164852146<br>number of windows: 515<br>\",\"N_bar_5_noncoding mean: -8.19309609216851<br>N_bar_5_noncoding std: 0.37858258527298566<br>number of windows: 772<br>\",\"N_bar_5_noncoding mean: -7.028249921585069<br>N_bar_5_noncoding std: 0.2943463853444045<br>number of windows: 1287<br>\",\"N_bar_5_noncoding mean: -5.978591182288874<br>N_bar_5_noncoding std: 0.28957588288540936<br>number of windows: 2574<br>\",\"N_bar_5_noncoding mean: -4.851523461731847<br>N_bar_5_noncoding std: 0.3174827385546115<br>number of windows: 7722<br>\",\"N_bar_5_noncoding mean: -3.9883616181706336<br>N_bar_5_noncoding std: 0.20572121311755484<br>number of windows: 12870<br>\",\"N_bar_5_noncoding mean: -3.1012315085859545<br>N_bar_5_noncoding std: 0.28790113272719325<br>number of windows: 38608<br>\",\"N_bar_5_noncoding mean: -2.0805599339652887<br>N_bar_5_noncoding std: 0.3149989008491287<br>number of windows: 64348<br>\",\"N_bar_5_noncoding mean: -0.9773088972138744<br>N_bar_5_noncoding std: 0.3493549270605723<br>number of windows: 64347<br>\",\"N_bar_5_noncoding mean: 0.27845240218662254<br>N_bar_5_noncoding std: 0.4006710411348104<br>number of windows: 38609<br>\",\"N_bar_5_noncoding mean: 1.6186845480942822<br>N_bar_5_noncoding std: 0.34008484190056315<br>number of windows: 12869<br>\",\"N_bar_5_noncoding mean: 3.085734743910857<br>N_bar_5_noncoding std: 0.5497186949394041<br>number of windows: 7722<br>\",\"N_bar_5_noncoding mean: 4.931291175159906<br>N_bar_5_noncoding std: 0.4515741272396945<br>number of windows: 2574<br>\",\"N_bar_5_noncoding mean: 6.518551529901996<br>N_bar_5_noncoding std: 0.4634188150132037<br>number of windows: 1287<br>\",\"N_bar_5_noncoding mean: 8.364449963042055<br>N_bar_5_noncoding std: 0.5997815502396247<br>number of windows: 772<br>\",\"N_bar_5_noncoding mean: 12.179468277179993<br>N_bar_5_noncoding std: 2.961198084594382<br>number of windows: 515<br>\"],\"type\":\"scatter\",\"x\":[\"0.0 - 0.002\",\"0.002 - 0.005\",\"0.005 - 0.01\",\"0.01 - 0.02\",\"0.02 - 0.05\",\"0.05 - 0.1\",\"0.1 - 0.25\",\"0.25 - 0.5\",\"0.5 - 0.75\",\"0.75 - 0.9\",\"0.9 - 0.95\",\"0.95 - 0.98\",\"0.98 - 0.99\",\"0.99 - 0.995\",\"0.995 - 0.998\",\"0.998 - 1.0\"],\"y\":[0.9320388349514563,0.9106217616580311,0.8873348873348873,0.7987567987567987,0.6463351463351463,0.5463869463869464,0.4906496062992126,0.45643998259464164,0.42646898845323017,0.391825740112409,0.3624990286735566,0.36337736337736337,0.3877233877233877,0.3620823620823621,0.3484455958549223,0.3592233009708738]},{\"hovertemplate\":\"%{text}\",\"marker\":{\"symbol\":\"circle\"},\"mode\":\"lines+markers\",\"name\":\"N_bar_5_coding\",\"text\":[\"N_bar_5_coding mean: -5.983479714528993<br>N_bar_5_coding std: 0.8537046941336891<br>number of windows: 515<br>\",\"N_bar_5_coding mean: -4.60332151521448<br>N_bar_5_coding std: 0.23336688001804518<br>number of windows: 772<br>\",\"N_bar_5_coding mean: -3.9749388525786014<br>N_bar_5_coding std: 0.15524770217387845<br>number of windows: 1287<br>\",\"N_bar_5_coding mean: -3.4412789672997084<br>N_bar_5_coding std: 0.15390408965152347<br>number of windows: 2574<br>\",\"N_bar_5_coding mean: -2.798631230929768<br>N_bar_5_coding std: 0.20090233044124936<br>number of windows: 7722<br>\",\"N_bar_5_coding mean: -2.1812996442072694<br>N_bar_5_coding std: 0.16261645842096464<br>number of windows: 12870<br>\",\"N_bar_5_coding mean: -1.4026303776484432<br>N_bar_5_coding std: 0.27032142915248786<br>number of windows: 38608<br>\",\"N_bar_5_coding mean: -0.40684101867511935<br>N_bar_5_coding std: 0.31345597937025743<br>number of windows: 64348<br>\",\"N_bar_5_coding mean: 0.7130826980047126<br>N_bar_5_coding std: 0.3589890715378258<br>number of windows: 64347<br>\",\"N_bar_5_coding mean: 2.0153241778522615<br>N_bar_5_coding std: 0.41752353027390965<br>number of windows: 38609<br>\",\"N_bar_5_coding mean: 3.4162513067390874<br>N_bar_5_coding std: 0.35661844365992407<br>number of windows: 12869<br>\",\"N_bar_5_coding mean: 4.971796094209052<br>N_bar_5_coding std: 0.5801358650055585<br>number of windows: 7722<br>\",\"N_bar_5_coding mean: 6.906409560238934<br>N_bar_5_coding std: 0.47098185214165866<br>number of windows: 2574<br>\",\"N_bar_5_coding mean: 8.54065557939341<br>N_bar_5_coding std: 0.48300981667062864<br>number of windows: 1287<br>\",\"N_bar_5_coding mean: 10.453570939244027<br>N_bar_5_coding std: 0.6161931660596006<br>number of windows: 772<br>\",\"N_bar_5_coding mean: 14.434515918446207<br>N_bar_5_coding std: 3.0605120540269355<br>number of windows: 515<br>\"],\"type\":\"scatter\",\"x\":[\"0.0 - 0.002\",\"0.002 - 0.005\",\"0.005 - 0.01\",\"0.01 - 0.02\",\"0.02 - 0.05\",\"0.05 - 0.1\",\"0.1 - 0.25\",\"0.25 - 0.5\",\"0.5 - 0.75\",\"0.75 - 0.9\",\"0.9 - 0.95\",\"0.95 - 0.98\",\"0.98 - 0.99\",\"0.99 - 0.995\",\"0.995 - 0.998\",\"0.998 - 1.0\"],\"y\":[0.7766990291262136,0.7020725388601037,0.634032634032634,0.5920745920745921,0.5451955451955453,0.5052059052059052,0.48148052217157067,0.46029402623236154,0.4383887360716117,0.4176487347509648,0.3932706504001865,0.39342139342139343,0.4188034188034188,0.37839937839937837,0.3601036269430052,0.3864077669902913]},{\"hovertemplate\":\"%{text}\",\"marker\":{\"symbol\":\"circle\"},\"mode\":\"lines+markers\",\"name\":\"N_bar_5_chenWindows\",\"text\":[\"N_bar_5_chenWindows mean: -9.415434297239733<br>N_bar_5_chenWindows std: 1.086667968123095<br>number of windows: 515<br>\",\"N_bar_5_chenWindows mean: -7.539842524582868<br>N_bar_5_chenWindows std: 0.3559135546667344<br>number of windows: 772<br>\",\"N_bar_5_chenWindows mean: -6.46034524476491<br>N_bar_5_chenWindows std: 0.27215350707662644<br>number of windows: 1287<br>\",\"N_bar_5_chenWindows mean: -5.509886086874022<br>N_bar_5_chenWindows std: 0.26138158851483456<br>number of windows: 2574<br>\",\"N_bar_5_chenWindows mean: -4.491423850383707<br>N_bar_5_chenWindows std: 0.2893921487772415<br>number of windows: 7722<br>\",\"N_bar_5_chenWindows mean: -3.6801140261151515<br>N_bar_5_chenWindows std: 0.198320604193213<br>number of windows: 12870<br>\",\"N_bar_5_chenWindows mean: -2.8118964947947176<br>N_bar_5_chenWindows std: 0.28589860583027515<br>number of windows: 38608<br>\",\"N_bar_5_chenWindows mean: -1.7922977169863807<br>N_bar_5_chenWindows std: 0.3152827038733893<br>number of windows: 64348<br>\",\"N_bar_5_chenWindows mean: -0.6839231552191698<br>N_bar_5_chenWindows std: 0.3519900178710036<br>number of windows: 64347<br>\",\"N_bar_5_chenWindows mean: 0.5817521013205841<br>N_bar_5_chenWindows std: 0.40425022164322744<br>number of windows: 38609<br>\",\"N_bar_5_chenWindows mean: 1.9350487417717301<br>N_bar_5_chenWindows std: 0.34422926961411926<br>number of windows: 12869<br>\",\"N_bar_5_chenWindows mean: 3.4204745132297143<br>N_bar_5_chenWindows std: 0.5562624851934467<br>number of windows: 7722<br>\",\"N_bar_5_chenWindows mean: 5.285767056873223<br>N_bar_5_chenWindows std: 0.456614482890989<br>number of windows: 2574<br>\",\"N_bar_5_chenWindows mean: 6.886271942244316<br>N_bar_5_chenWindows std: 0.467650857323251<br>number of windows: 1287<br>\",\"N_bar_5_chenWindows mean: 8.750732935636718<br>N_bar_5_chenWindows std: 0.6052780778293912<br>number of windows: 772<br>\",\"N_bar_5_chenWindows mean: 12.604515128818756<br>N_bar_5_chenWindows std: 2.9869553510964004<br>number of windows: 515<br>\"],\"type\":\"scatter\",\"x\":[\"0.0 - 0.002\",\"0.002 - 0.005\",\"0.005 - 0.01\",\"0.01 - 0.02\",\"0.02 - 0.05\",\"0.05 - 0.1\",\"0.1 - 0.25\",\"0.25 - 0.5\",\"0.5 - 0.75\",\"0.75 - 0.9\",\"0.9 - 0.95\",\"0.95 - 0.98\",\"0.98 - 0.99\",\"0.99 - 0.995\",\"0.995 - 0.998\",\"0.998 - 1.0\"],\"y\":[0.9145631067961165,0.9015544041450777,0.8601398601398601,0.7738927738927739,0.6275576275576276,0.5422688422688423,0.48958765022793205,0.45654876608441597,0.4283338772592351,0.3953482348675179,0.3656072732924081,0.3672623672623673,0.3927738927738928,0.36596736596736595,0.35103626943005184,0.3611650485436893]},{\"hovertemplate\":\"%{text}\",\"marker\":{\"symbol\":\"circle\"},\"mode\":\"lines+markers\",\"name\":\"N_bar_7_noncoding\",\"text\":[\"N_bar_7_noncoding mean: -9.42719622657104<br>N_bar_7_noncoding std: 1.0175930702919642<br>number of windows: 515<br>\",\"N_bar_7_noncoding mean: -7.674793983887003<br>N_bar_7_noncoding std: 0.3346015066914321<br>number of windows: 772<br>\",\"N_bar_7_noncoding mean: -6.662821281243902<br>N_bar_7_noncoding std: 0.2629978606065316<br>number of windows: 1287<br>\",\"N_bar_7_noncoding mean: -5.7506604150263145<br>N_bar_7_noncoding std: 0.2562069288323845<br>number of windows: 2574<br>\",\"N_bar_7_noncoding mean: -4.748964266820189<br>N_bar_7_noncoding std: 0.2854964504365057<br>number of windows: 7722<br>\",\"N_bar_7_noncoding mean: -3.939682782590856<br>N_bar_7_noncoding std: 0.19824928954234633<br>number of windows: 12870<br>\",\"N_bar_7_noncoding mean: -3.074564572711923<br>N_bar_7_noncoding std: 0.2840855721621246<br>number of windows: 38608<br>\",\"N_bar_7_noncoding mean: -2.062826062384957<br>N_bar_7_noncoding std: 0.31277420437878894<br>number of windows: 64348<br>\",\"N_bar_7_noncoding mean: -0.9652237903724656<br>N_bar_7_noncoding std: 0.3487313658786435<br>number of windows: 64347<br>\",\"N_bar_7_noncoding mean: 0.28762358081855827<br>N_bar_7_noncoding std: 0.4008336549142379<br>number of windows: 38609<br>\",\"N_bar_7_noncoding mean: 1.6284676358687689<br>N_bar_7_noncoding std: 0.3404161739952035<br>number of windows: 12869<br>\",\"N_bar_7_noncoding mean: 3.101616669181953<br>N_bar_7_noncoding std: 0.5528280297365442<br>number of windows: 7722<br>\",\"N_bar_7_noncoding mean: 4.955926582678483<br>N_bar_7_noncoding std: 0.45519219606498806<br>number of windows: 2574<br>\",\"N_bar_7_noncoding mean: 6.544547735058691<br>N_bar_7_noncoding std: 0.46303712352826676<br>number of windows: 1287<br>\",\"N_bar_7_noncoding mean: 8.392945090892873<br>N_bar_7_noncoding std: 0.6033177498823474<br>number of windows: 772<br>\",\"N_bar_7_noncoding mean: 12.213400898698396<br>N_bar_7_noncoding std: 2.959535197604476<br>number of windows: 515<br>\"],\"type\":\"scatter\",\"x\":[\"0.0 - 0.002\",\"0.002 - 0.005\",\"0.005 - 0.01\",\"0.01 - 0.02\",\"0.02 - 0.05\",\"0.05 - 0.1\",\"0.1 - 0.25\",\"0.25 - 0.5\",\"0.5 - 0.75\",\"0.75 - 0.9\",\"0.9 - 0.95\",\"0.95 - 0.98\",\"0.98 - 0.99\",\"0.99 - 0.995\",\"0.995 - 0.998\",\"0.998 - 1.0\"],\"y\":[0.9029126213592233,0.8989637305699482,0.8593628593628594,0.7684537684537684,0.6307951307951308,0.5434343434343434,0.48992436800663075,0.45667309007272955,0.4276190032169332,0.39633246134321015,0.3645193876758101,0.362988862988863,0.3978243978243978,0.36985236985236986,0.3536269430051813,0.3553398058252427]},{\"hovertemplate\":\"%{text}\",\"marker\":{\"symbol\":\"circle\"},\"mode\":\"lines+markers\",\"name\":\"N_bar_7_coding\",\"text\":[\"N_bar_7_coding mean: -5.903776912383233<br>N_bar_7_coding std: 0.8298969356953129<br>number of windows: 515<br>\",\"N_bar_7_coding mean: -4.570982442067003<br>N_bar_7_coding std: 0.2248156747702309<br>number of windows: 772<br>\",\"N_bar_7_coding mean: -3.962209622441831<br>N_bar_7_coding std: 0.15005140948736195<br>number of windows: 1287<br>\",\"N_bar_7_coding mean: -3.4445056537211585<br>N_bar_7_coding std: 0.1513042730011702<br>number of windows: 2574<br>\",\"N_bar_7_coding mean: -2.8071108013779296<br>N_bar_7_coding std: 0.1979283882597836<br>number of windows: 7722<br>\",\"N_bar_7_coding mean: -2.191223034502634<br>N_bar_7_coding std: 0.16214845451585258<br>number of windows: 12870<br>\",\"N_bar_7_coding mean: -1.414544709902013<br>N_bar_7_coding std: 0.26900624410145785<br>number of windows: 38608<br>\",\"N_bar_7_coding mean: -0.42006313110412585<br>N_bar_7_coding std: 0.31266142919100565<br>number of windows: 64348<br>\",\"N_bar_7_coding mean: 0.6987203801132104<br>N_bar_7_coding std: 0.35847775140470856<br>number of windows: 64347<br>\",\"N_bar_7_coding mean: 1.9999390001515844<br>N_bar_7_coding std: 0.41800776256483746<br>number of windows: 38609<br>\",\"N_bar_7_coding mean: 3.4023277307579964<br>N_bar_7_coding std: 0.3556049533539526<br>number of windows: 12869<br>\",\"N_bar_7_coding mean: 4.959540495707855<br>N_bar_7_coding std: 0.5815637052871544<br>number of windows: 7722<br>\",\"N_bar_7_coding mean: 6.904363473881487<br>N_bar_7_coding std: 0.4714503383958596<br>number of windows: 2574<br>\",\"N_bar_7_coding mean: 8.537667011146658<br>N_bar_7_coding std: 0.48484655572508245<br>number of windows: 1287<br>\",\"N_bar_7_coding mean: 10.454861706633057<br>N_bar_7_coding std: 0.6226140486274693<br>number of windows: 772<br>\",\"N_bar_7_coding mean: 14.43481511521443<br>N_bar_7_coding std: 3.0592852487771993<br>number of windows: 515<br>\"],\"type\":\"scatter\",\"x\":[\"0.0 - 0.002\",\"0.002 - 0.005\",\"0.005 - 0.01\",\"0.01 - 0.02\",\"0.02 - 0.05\",\"0.05 - 0.1\",\"0.1 - 0.25\",\"0.25 - 0.5\",\"0.5 - 0.75\",\"0.75 - 0.9\",\"0.9 - 0.95\",\"0.95 - 0.98\",\"0.98 - 0.99\",\"0.99 - 0.995\",\"0.995 - 0.998\",\"0.998 - 1.0\"],\"y\":[0.7533980582524272,0.689119170984456,0.6348096348096348,0.5885780885780886,0.5423465423465423,0.5037296037296037,0.4808070866141732,0.4596724062907938,0.4391813138141638,0.4196171877023492,0.3945139482477271,0.39225589225589225,0.4172494172494173,0.3853923853923854,0.36528497409326427,0.37475728155339805]},{\"hovertemplate\":\"%{text}\",\"marker\":{\"symbol\":\"circle\"},\"mode\":\"lines+markers\",\"name\":\"N_bar_7_chenWindows\",\"text\":[\"N_bar_7_chenWindows mean: -8.61415062264191<br>N_bar_7_chenWindows std: 0.9808134827766446<br>number of windows: 515<br>\",\"N_bar_7_chenWindows mean: -6.957345595745124<br>N_bar_7_chenWindows std: 0.3049683338111825<br>number of windows: 772<br>\",\"N_bar_7_chenWindows mean: -6.047303033499119<br>N_bar_7_chenWindows std: 0.23691525435869332<br>number of windows: 1287<br>\",\"N_bar_7_chenWindows mean: -5.247941105171373<br>N_bar_7_chenWindows std: 0.22342331716266237<br>number of windows: 2574<br>\",\"N_bar_7_chenWindows mean: -4.368131631927884<br>N_bar_7_chenWindows std: 0.25611782554290596<br>number of windows: 7722<br>\",\"N_bar_7_chenWindows mean: -3.6204146807451703<br>N_bar_7_chenWindows std: 0.18771954989787842<br>number of windows: 12870<br>\",\"N_bar_7_chenWindows mean: -2.782153117075395<br>N_bar_7_chenWindows std: 0.27976429154661164<br>number of windows: 38608<br>\",\"N_bar_7_chenWindows mean: -1.77483244427242<br>N_bar_7_chenWindows std: 0.31239563752863314<br>number of windows: 64348<br>\",\"N_bar_7_chenWindows mean: -0.6738251936788123<br>N_bar_7_chenWindows std: 0.3509223981623283<br>number of windows: 64347<br>\",\"N_bar_7_chenWindows mean: 0.5896277895094586<br>N_bar_7_chenWindows std: 0.4045116157685408<br>number of windows: 38609<br>\",\"N_bar_7_chenWindows mean: 1.9431811697175627<br>N_bar_7_chenWindows std: 0.3442445405191559<br>number of windows: 12869<br>\",\"N_bar_7_chenWindows mean: 3.4378581274357387<br>N_bar_7_chenWindows std: 0.5604095542588294<br>number of windows: 7722<br>\",\"N_bar_7_chenWindows mean: 5.312399207686807<br>N_bar_7_chenWindows std: 0.4605994528224405<br>number of windows: 2574<br>\",\"N_bar_7_chenWindows mean: 6.914261884265827<br>N_bar_7_chenWindows std: 0.4700128315739456<br>number of windows: 1287<br>\",\"N_bar_7_chenWindows mean: 8.781590439467607<br>N_bar_7_chenWindows std: 0.6084845005286244<br>number of windows: 772<br>\",\"N_bar_7_chenWindows mean: 12.64644452094935<br>N_bar_7_chenWindows std: 2.9822433345313546<br>number of windows: 515<br>\"],\"type\":\"scatter\",\"x\":[\"0.0 - 0.002\",\"0.002 - 0.005\",\"0.005 - 0.01\",\"0.01 - 0.02\",\"0.02 - 0.05\",\"0.05 - 0.1\",\"0.1 - 0.25\",\"0.25 - 0.5\",\"0.5 - 0.75\",\"0.75 - 0.9\",\"0.9 - 0.95\",\"0.95 - 0.98\",\"0.98 - 0.99\",\"0.99 - 0.995\",\"0.995 - 0.998\",\"0.998 - 1.0\"],\"y\":[0.8815533980582524,0.8652849740932642,0.8080808080808081,0.7245532245532246,0.6098161098161098,0.5365190365190365,0.48816307501036055,0.45659538758003354,0.43047849938614074,0.4020565153202621,0.3689486362576735,0.3711473711473712,0.40093240093240096,0.37373737373737376,0.35233160621761656,0.3611650485436893]},{\"mode\":\"lines\",\"name\":\"fraction of all windows that overlap an enhancer\",\"type\":\"scatter\",\"x\":[\"0.0 - 0.002\",\"0.002 - 0.005\",\"0.005 - 0.01\",\"0.01 - 0.02\",\"0.02 - 0.05\",\"0.05 - 0.1\",\"0.1 - 0.25\",\"0.25 - 0.5\",\"0.5 - 0.75\",\"0.75 - 0.9\",\"0.9 - 0.95\",\"0.95 - 0.98\",\"0.98 - 0.99\",\"0.99 - 0.995\",\"0.995 - 0.998\",\"0.998 - 1.0\"],\"y\":[0.4533064481664083,0.4533064481664083,0.4533064481664083,0.4533064481664083,0.4533064481664083,0.4533064481664083,0.4533064481664083,0.4533064481664083,0.4533064481664083,0.4533064481664083,0.4533064481664083,0.4533064481664083,0.4533064481664083,0.4533064481664083,0.4533064481664083,0.4533064481664083]}],                        {\"font\":{\"size\":20},\"height\":800,\"template\":{\"data\":{\"bar\":[{\"error_x\":{\"color\":\"#2a3f5f\"},\"error_y\":{\"color\":\"#2a3f5f\"},\"marker\":{\"line\":{\"color\":\"#E5ECF6\",\"width\":0.5},\"pattern\":{\"fillmode\":\"overlay\",\"size\":10,\"solidity\":0.2}},\"type\":\"bar\"}],\"barpolar\":[{\"marker\":{\"line\":{\"color\":\"#E5ECF6\",\"width\":0.5},\"pattern\":{\"fillmode\":\"overlay\",\"size\":10,\"solidity\":0.2}},\"type\":\"barpolar\"}],\"carpet\":[{\"aaxis\":{\"endlinecolor\":\"#2a3f5f\",\"gridcolor\":\"white\",\"linecolor\":\"white\",\"minorgridcolor\":\"white\",\"startlinecolor\":\"#2a3f5f\"},\"baxis\":{\"endlinecolor\":\"#2a3f5f\",\"gridcolor\":\"white\",\"linecolor\":\"white\",\"minorgridcolor\":\"white\",\"startlinecolor\":\"#2a3f5f\"},\"type\":\"carpet\"}],\"choropleth\":[{\"colorbar\":{\"outlinewidth\":0,\"ticks\":\"\"},\"type\":\"choropleth\"}],\"contour\":[{\"colorbar\":{\"outlinewidth\":0,\"ticks\":\"\"},\"colorscale\":[[0.0,\"#0d0887\"],[0.1111111111111111,\"#46039f\"],[0.2222222222222222,\"#7201a8\"],[0.3333333333333333,\"#9c179e\"],[0.4444444444444444,\"#bd3786\"],[0.5555555555555556,\"#d8576b\"],[0.6666666666666666,\"#ed7953\"],[0.7777777777777778,\"#fb9f3a\"],[0.8888888888888888,\"#fdca26\"],[1.0,\"#f0f921\"]],\"type\":\"contour\"}],\"contourcarpet\":[{\"colorbar\":{\"outlinewidth\":0,\"ticks\":\"\"},\"type\":\"contourcarpet\"}],\"heatmap\":[{\"colorbar\":{\"outlinewidth\":0,\"ticks\":\"\"},\"colorscale\":[[0.0,\"#0d0887\"],[0.1111111111111111,\"#46039f\"],[0.2222222222222222,\"#7201a8\"],[0.3333333333333333,\"#9c179e\"],[0.4444444444444444,\"#bd3786\"],[0.5555555555555556,\"#d8576b\"],[0.6666666666666666,\"#ed7953\"],[0.7777777777777778,\"#fb9f3a\"],[0.8888888888888888,\"#fdca26\"],[1.0,\"#f0f921\"]],\"type\":\"heatmap\"}],\"heatmapgl\":[{\"colorbar\":{\"outlinewidth\":0,\"ticks\":\"\"},\"colorscale\":[[0.0,\"#0d0887\"],[0.1111111111111111,\"#46039f\"],[0.2222222222222222,\"#7201a8\"],[0.3333333333333333,\"#9c179e\"],[0.4444444444444444,\"#bd3786\"],[0.5555555555555556,\"#d8576b\"],[0.6666666666666666,\"#ed7953\"],[0.7777777777777778,\"#fb9f3a\"],[0.8888888888888888,\"#fdca26\"],[1.0,\"#f0f921\"]],\"type\":\"heatmapgl\"}],\"histogram\":[{\"marker\":{\"pattern\":{\"fillmode\":\"overlay\",\"size\":10,\"solidity\":0.2}},\"type\":\"histogram\"}],\"histogram2d\":[{\"colorbar\":{\"outlinewidth\":0,\"ticks\":\"\"},\"colorscale\":[[0.0,\"#0d0887\"],[0.1111111111111111,\"#46039f\"],[0.2222222222222222,\"#7201a8\"],[0.3333333333333333,\"#9c179e\"],[0.4444444444444444,\"#bd3786\"],[0.5555555555555556,\"#d8576b\"],[0.6666666666666666,\"#ed7953\"],[0.7777777777777778,\"#fb9f3a\"],[0.8888888888888888,\"#fdca26\"],[1.0,\"#f0f921\"]],\"type\":\"histogram2d\"}],\"histogram2dcontour\":[{\"colorbar\":{\"outlinewidth\":0,\"ticks\":\"\"},\"colorscale\":[[0.0,\"#0d0887\"],[0.1111111111111111,\"#46039f\"],[0.2222222222222222,\"#7201a8\"],[0.3333333333333333,\"#9c179e\"],[0.4444444444444444,\"#bd3786\"],[0.5555555555555556,\"#d8576b\"],[0.6666666666666666,\"#ed7953\"],[0.7777777777777778,\"#fb9f3a\"],[0.8888888888888888,\"#fdca26\"],[1.0,\"#f0f921\"]],\"type\":\"histogram2dcontour\"}],\"mesh3d\":[{\"colorbar\":{\"outlinewidth\":0,\"ticks\":\"\"},\"type\":\"mesh3d\"}],\"parcoords\":[{\"line\":{\"colorbar\":{\"outlinewidth\":0,\"ticks\":\"\"}},\"type\":\"parcoords\"}],\"pie\":[{\"automargin\":true,\"type\":\"pie\"}],\"scatter\":[{\"marker\":{\"colorbar\":{\"outlinewidth\":0,\"ticks\":\"\"}},\"type\":\"scatter\"}],\"scatter3d\":[{\"line\":{\"colorbar\":{\"outlinewidth\":0,\"ticks\":\"\"}},\"marker\":{\"colorbar\":{\"outlinewidth\":0,\"ticks\":\"\"}},\"type\":\"scatter3d\"}],\"scattercarpet\":[{\"marker\":{\"colorbar\":{\"outlinewidth\":0,\"ticks\":\"\"}},\"type\":\"scattercarpet\"}],\"scattergeo\":[{\"marker\":{\"colorbar\":{\"outlinewidth\":0,\"ticks\":\"\"}},\"type\":\"scattergeo\"}],\"scattergl\":[{\"marker\":{\"colorbar\":{\"outlinewidth\":0,\"ticks\":\"\"}},\"type\":\"scattergl\"}],\"scattermapbox\":[{\"marker\":{\"colorbar\":{\"outlinewidth\":0,\"ticks\":\"\"}},\"type\":\"scattermapbox\"}],\"scatterpolar\":[{\"marker\":{\"colorbar\":{\"outlinewidth\":0,\"ticks\":\"\"}},\"type\":\"scatterpolar\"}],\"scatterpolargl\":[{\"marker\":{\"colorbar\":{\"outlinewidth\":0,\"ticks\":\"\"}},\"type\":\"scatterpolargl\"}],\"scatterternary\":[{\"marker\":{\"colorbar\":{\"outlinewidth\":0,\"ticks\":\"\"}},\"type\":\"scatterternary\"}],\"surface\":[{\"colorbar\":{\"outlinewidth\":0,\"ticks\":\"\"},\"colorscale\":[[0.0,\"#0d0887\"],[0.1111111111111111,\"#46039f\"],[0.2222222222222222,\"#7201a8\"],[0.3333333333333333,\"#9c179e\"],[0.4444444444444444,\"#bd3786\"],[0.5555555555555556,\"#d8576b\"],[0.6666666666666666,\"#ed7953\"],[0.7777777777777778,\"#fb9f3a\"],[0.8888888888888888,\"#fdca26\"],[1.0,\"#f0f921\"]],\"type\":\"surface\"}],\"table\":[{\"cells\":{\"fill\":{\"color\":\"#EBF0F8\"},\"line\":{\"color\":\"white\"}},\"header\":{\"fill\":{\"color\":\"#C8D4E3\"},\"line\":{\"color\":\"white\"}},\"type\":\"table\"}]},\"layout\":{\"annotationdefaults\":{\"arrowcolor\":\"#2a3f5f\",\"arrowhead\":0,\"arrowwidth\":1},\"autotypenumbers\":\"strict\",\"coloraxis\":{\"colorbar\":{\"outlinewidth\":0,\"ticks\":\"\"}},\"colorscale\":{\"diverging\":[[0,\"#8e0152\"],[0.1,\"#c51b7d\"],[0.2,\"#de77ae\"],[0.3,\"#f1b6da\"],[0.4,\"#fde0ef\"],[0.5,\"#f7f7f7\"],[0.6,\"#e6f5d0\"],[0.7,\"#b8e186\"],[0.8,\"#7fbc41\"],[0.9,\"#4d9221\"],[1,\"#276419\"]],\"sequential\":[[0.0,\"#0d0887\"],[0.1111111111111111,\"#46039f\"],[0.2222222222222222,\"#7201a8\"],[0.3333333333333333,\"#9c179e\"],[0.4444444444444444,\"#bd3786\"],[0.5555555555555556,\"#d8576b\"],[0.6666666666666666,\"#ed7953\"],[0.7777777777777778,\"#fb9f3a\"],[0.8888888888888888,\"#fdca26\"],[1.0,\"#f0f921\"]],\"sequentialminus\":[[0.0,\"#0d0887\"],[0.1111111111111111,\"#46039f\"],[0.2222222222222222,\"#7201a8\"],[0.3333333333333333,\"#9c179e\"],[0.4444444444444444,\"#bd3786\"],[0.5555555555555556,\"#d8576b\"],[0.6666666666666666,\"#ed7953\"],[0.7777777777777778,\"#fb9f3a\"],[0.8888888888888888,\"#fdca26\"],[1.0,\"#f0f921\"]]},\"colorway\":[\"#636efa\",\"#EF553B\",\"#00cc96\",\"#ab63fa\",\"#FFA15A\",\"#19d3f3\",\"#FF6692\",\"#B6E880\",\"#FF97FF\",\"#FECB52\"],\"font\":{\"color\":\"#2a3f5f\"},\"geo\":{\"bgcolor\":\"white\",\"lakecolor\":\"white\",\"landcolor\":\"#E5ECF6\",\"showlakes\":true,\"showland\":true,\"subunitcolor\":\"white\"},\"hoverlabel\":{\"align\":\"left\"},\"hovermode\":\"closest\",\"mapbox\":{\"style\":\"light\"},\"paper_bgcolor\":\"white\",\"plot_bgcolor\":\"#E5ECF6\",\"polar\":{\"angularaxis\":{\"gridcolor\":\"white\",\"linecolor\":\"white\",\"ticks\":\"\"},\"bgcolor\":\"#E5ECF6\",\"radialaxis\":{\"gridcolor\":\"white\",\"linecolor\":\"white\",\"ticks\":\"\"}},\"scene\":{\"xaxis\":{\"backgroundcolor\":\"#E5ECF6\",\"gridcolor\":\"white\",\"gridwidth\":2,\"linecolor\":\"white\",\"showbackground\":true,\"ticks\":\"\",\"zerolinecolor\":\"white\"},\"yaxis\":{\"backgroundcolor\":\"#E5ECF6\",\"gridcolor\":\"white\",\"gridwidth\":2,\"linecolor\":\"white\",\"showbackground\":true,\"ticks\":\"\",\"zerolinecolor\":\"white\"},\"zaxis\":{\"backgroundcolor\":\"#E5ECF6\",\"gridcolor\":\"white\",\"gridwidth\":2,\"linecolor\":\"white\",\"showbackground\":true,\"ticks\":\"\",\"zerolinecolor\":\"white\"}},\"shapedefaults\":{\"line\":{\"color\":\"#2a3f5f\"}},\"ternary\":{\"aaxis\":{\"gridcolor\":\"white\",\"linecolor\":\"white\",\"ticks\":\"\"},\"baxis\":{\"gridcolor\":\"white\",\"linecolor\":\"white\",\"ticks\":\"\"},\"bgcolor\":\"#E5ECF6\",\"caxis\":{\"gridcolor\":\"white\",\"linecolor\":\"white\",\"ticks\":\"\"}},\"title\":{\"x\":0.05},\"xaxis\":{\"automargin\":true,\"gridcolor\":\"white\",\"linecolor\":\"white\",\"ticks\":\"\",\"title\":{\"standoff\":15},\"zerolinecolor\":\"white\",\"zerolinewidth\":2},\"yaxis\":{\"automargin\":true,\"gridcolor\":\"white\",\"linecolor\":\"white\",\"ticks\":\"\",\"title\":{\"standoff\":15},\"zerolinecolor\":\"white\",\"zerolinewidth\":2}}},\"width\":1600,\"xaxis\":{\"title\":{\"text\":\"quantile of window score\"}},\"yaxis\":{\"title\":{\"text\":\"fraction of Chen windows that overlap a GeneHancer enhancer\"}}},                        {\"responsive\": true}                    ).then(function(){\n",
       "                            \n",
       "var gd = document.getElementById('1aeb35ed-13b2-4f43-aaf5-c8a2afc8fadd');\n",
       "var x = new MutationObserver(function (mutations, observer) {{\n",
       "        var display = window.getComputedStyle(gd).display;\n",
       "        if (!display || display === 'none') {{\n",
       "            console.log([gd, 'removed!']);\n",
       "            Plotly.purge(gd);\n",
       "            observer.disconnect();\n",
       "        }}\n",
       "}});\n",
       "\n",
       "// Listen for the removal of the full notebook cells\n",
       "var notebookContainer = gd.closest('#notebook-container');\n",
       "if (notebookContainer) {{\n",
       "    x.observe(notebookContainer, {childList: true});\n",
       "}}\n",
       "\n",
       "// Listen for the clearing of the current output cell\n",
       "var outputEl = gd.closest('.output');\n",
       "if (outputEl) {{\n",
       "    x.observe(outputEl, {childList: true});\n",
       "}}\n",
       "\n",
       "                        })                };                });            </script>        </div>"
      ]
     },
     "metadata": {},
     "output_type": "display_data"
    }
   ],
   "source": [
    "plot_enhancerFraction_vs_quantile(chen_mchale_zscores_features_coding)"
   ]
  },
  {
   "cell_type": "markdown",
   "id": "cb7fdb82",
   "metadata": {},
   "source": [
    "## Save data to disk"
   ]
  },
  {
   "cell_type": "code",
   "execution_count": 47,
   "id": "d9278587",
   "metadata": {},
   "outputs": [],
   "source": [
    "chen_mchale_zscores_features.iloc[:,:-1].to_csv(                                                                                \n",
    "    f'{CONSTRAINT_TOOLS_DATA}/benchmark-genome-wide-predictions/chen-et-al-2022/chen-mchale.kmerSizes.trainSets.enhancer-exon.bed', \n",
    "    sep = '\\t',\n",
    "    index = False\n",
    ")"
   ]
  },
  {
   "cell_type": "code",
   "execution_count": null,
   "id": "0d2f5c5c",
   "metadata": {},
   "outputs": [],
   "source": []
  }
 ],
 "metadata": {
  "kernelspec": {
   "display_name": "Python 3",
   "language": "python",
   "name": "python3"
  },
  "language_info": {
   "codemirror_mode": {
    "name": "ipython",
    "version": 3
   },
   "file_extension": ".py",
   "mimetype": "text/x-python",
   "name": "python",
   "nbconvert_exporter": "python",
   "pygments_lexer": "ipython3",
   "version": "3.9.0"
  }
 },
 "nbformat": 4,
 "nbformat_minor": 5
}
