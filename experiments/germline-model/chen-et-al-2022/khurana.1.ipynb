{
 "cells": [
  {
   "cell_type": "code",
   "execution_count": null,
   "metadata": {},
   "outputs": [],
   "source": [
    "# TODO \n",
    "# 1. assign chen scores to khurana enhancers (in hg38 coordinates) (see aps.*) \n",
    "# 2. scatter plot zscores and Khurana scores "
   ]
  },
  {
   "cell_type": "code",
   "execution_count": null,
   "metadata": {},
   "outputs": [],
   "source": [
    "# TODO\n",
    "# 1. pull out \"vista\" and \"LoF tolerant\" enhancers from \"khurana_table_S2\"\n",
    "# 2. annotate all enhancers as \"vista\" or \"LoF tolerant\" or \"neither\"\n",
    "# 3. Look at the CDF of scores (Chen, McHale, Khurana) for all enhancers, just those annotated as \"vista\", and just those annotated as \"LoF-tolerant\", similar to Fig 4A"
   ]
  },
  {
   "cell_type": "code",
   "execution_count": null,
   "metadata": {},
   "outputs": [],
   "source": [
    "# TODO [LONG SHOT] \n",
    "# Do SNVs (het or hom alt) in vista enhancers avoid the motifs that are enriched in those enhancers? "
   ]
  }
 ],
 "metadata": {
  "kernelspec": {
   "display_name": "constraint-tools",
   "language": "python",
   "name": "python3"
  },
  "language_info": {
   "name": "python",
   "version": "3.9.0"
  },
  "orig_nbformat": 4
 },
 "nbformat": 4,
 "nbformat_minor": 2
}
