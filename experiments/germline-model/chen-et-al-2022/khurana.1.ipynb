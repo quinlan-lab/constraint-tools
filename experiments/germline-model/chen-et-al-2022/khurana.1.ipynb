{
 "cells": [
  {
   "cell_type": "markdown",
   "metadata": {},
   "source": [
    "## Probability of LoF tolerance for a set of enhancers "
   ]
  },
  {
   "cell_type": "code",
   "execution_count": 8,
   "metadata": {},
   "outputs": [],
   "source": [
    "# Khurana paper: \n",
    "# https://journals.plos.org/plosgenetics/article?id=10.1371/journal.pgen.1008663\n",
    "\n",
    "CONSTRAINT_TOOLS_DATA = '/scratch/ucgd/lustre-work/quinlan/data-shared/constraint-tools'\n",
    "\n",
    "import pandas as pd\n",
    "\n",
    "# Read in the Excel file, which contains multiple sheets\n",
    "khurana_table_S2 = pd.read_excel(f'{CONSTRAINT_TOOLS_DATA}/khurana/table-S2.xlsx', sheet_name=None)"
   ]
  },
  {
   "cell_type": "code",
   "execution_count": 11,
   "metadata": {},
   "outputs": [
    {
     "data": {
      "text/plain": [
       "dict_keys(['SupplementaryTable3', 'LoF-tolerant enhancers', 'Low-LoF-tolerance enhancers', 'Feature importance'])"
      ]
     },
     "execution_count": 11,
     "metadata": {},
     "output_type": "execute_result"
    }
   ],
   "source": [
    "khurana_table_S2.keys()"
   ]
  },
  {
   "cell_type": "code",
   "execution_count": 13,
   "metadata": {},
   "outputs": [
    {
     "data": {
      "text/html": [
       "<div>\n",
       "<style scoped>\n",
       "    .dataframe tbody tr th:only-of-type {\n",
       "        vertical-align: middle;\n",
       "    }\n",
       "\n",
       "    .dataframe tbody tr th {\n",
       "        vertical-align: top;\n",
       "    }\n",
       "\n",
       "    .dataframe thead th {\n",
       "        text-align: right;\n",
       "    }\n",
       "</style>\n",
       "<table border=\"1\" class=\"dataframe\">\n",
       "  <thead>\n",
       "    <tr style=\"text-align: right;\">\n",
       "      <th></th>\n",
       "      <th>enhancer</th>\n",
       "      <th>original</th>\n",
       "      <th>predict LoF-tolerant</th>\n",
       "      <th>prob LoF-tolerance</th>\n",
       "    </tr>\n",
       "  </thead>\n",
       "  <tbody>\n",
       "    <tr>\n",
       "      <th>0</th>\n",
       "      <td>chr13-101408800-101409200</td>\n",
       "      <td>NotDeleted</td>\n",
       "      <td>Low-LoF-tolerance</td>\n",
       "      <td>0.248020</td>\n",
       "    </tr>\n",
       "    <tr>\n",
       "      <th>1</th>\n",
       "      <td>chr18-45880000-45880200</td>\n",
       "      <td>NotDeleted</td>\n",
       "      <td>LoF-tolerant</td>\n",
       "      <td>0.646635</td>\n",
       "    </tr>\n",
       "    <tr>\n",
       "      <th>2</th>\n",
       "      <td>chr5-174837800-174840000</td>\n",
       "      <td>NotDeleted</td>\n",
       "      <td>LoF-tolerant</td>\n",
       "      <td>0.881760</td>\n",
       "    </tr>\n",
       "    <tr>\n",
       "      <th>3</th>\n",
       "      <td>chr9-115430200-115432000</td>\n",
       "      <td>NotDeleted</td>\n",
       "      <td>LoF-tolerant</td>\n",
       "      <td>0.903623</td>\n",
       "    </tr>\n",
       "    <tr>\n",
       "      <th>4</th>\n",
       "      <td>chr11-134077600-134078200</td>\n",
       "      <td>NotDeleted</td>\n",
       "      <td>LoF-tolerant</td>\n",
       "      <td>0.729862</td>\n",
       "    </tr>\n",
       "    <tr>\n",
       "      <th>...</th>\n",
       "      <td>...</td>\n",
       "      <td>...</td>\n",
       "      <td>...</td>\n",
       "      <td>...</td>\n",
       "    </tr>\n",
       "    <tr>\n",
       "      <th>245088</th>\n",
       "      <td>chr22-51047400-51049200</td>\n",
       "      <td>NotDeleted</td>\n",
       "      <td>LoF-tolerant</td>\n",
       "      <td>0.592781</td>\n",
       "    </tr>\n",
       "    <tr>\n",
       "      <th>245089</th>\n",
       "      <td>chr5-55940400-55941400</td>\n",
       "      <td>NotDeleted</td>\n",
       "      <td>LoF-tolerant</td>\n",
       "      <td>0.647929</td>\n",
       "    </tr>\n",
       "    <tr>\n",
       "      <th>245090</th>\n",
       "      <td>chr10-61223600-61224000</td>\n",
       "      <td>NotDeleted</td>\n",
       "      <td>LoF-tolerant</td>\n",
       "      <td>0.516712</td>\n",
       "    </tr>\n",
       "    <tr>\n",
       "      <th>245091</th>\n",
       "      <td>chr14-63648400-63648600</td>\n",
       "      <td>NotDeleted</td>\n",
       "      <td>LoF-tolerant</td>\n",
       "      <td>0.665555</td>\n",
       "    </tr>\n",
       "    <tr>\n",
       "      <th>245092</th>\n",
       "      <td>chr16-30331600-30332200</td>\n",
       "      <td>NotDeleted</td>\n",
       "      <td>LoF-tolerant</td>\n",
       "      <td>0.611116</td>\n",
       "    </tr>\n",
       "  </tbody>\n",
       "</table>\n",
       "<p>245093 rows × 4 columns</p>\n",
       "</div>"
      ],
      "text/plain": [
       "                         enhancer    original predict LoF-tolerant  \\\n",
       "0       chr13-101408800-101409200  NotDeleted    Low-LoF-tolerance   \n",
       "1         chr18-45880000-45880200  NotDeleted         LoF-tolerant   \n",
       "2        chr5-174837800-174840000  NotDeleted         LoF-tolerant   \n",
       "3        chr9-115430200-115432000  NotDeleted         LoF-tolerant   \n",
       "4       chr11-134077600-134078200  NotDeleted         LoF-tolerant   \n",
       "...                           ...         ...                  ...   \n",
       "245088    chr22-51047400-51049200  NotDeleted         LoF-tolerant   \n",
       "245089     chr5-55940400-55941400  NotDeleted         LoF-tolerant   \n",
       "245090    chr10-61223600-61224000  NotDeleted         LoF-tolerant   \n",
       "245091    chr14-63648400-63648600  NotDeleted         LoF-tolerant   \n",
       "245092    chr16-30331600-30332200  NotDeleted         LoF-tolerant   \n",
       "\n",
       "        prob LoF-tolerance  \n",
       "0                 0.248020  \n",
       "1                 0.646635  \n",
       "2                 0.881760  \n",
       "3                 0.903623  \n",
       "4                 0.729862  \n",
       "...                    ...  \n",
       "245088            0.592781  \n",
       "245089            0.647929  \n",
       "245090            0.516712  \n",
       "245091            0.665555  \n",
       "245092            0.611116  \n",
       "\n",
       "[245093 rows x 4 columns]"
      ]
     },
     "execution_count": 13,
     "metadata": {},
     "output_type": "execute_result"
    }
   ],
   "source": [
    "enhancers_and_khurana_scores = khurana_table_S2['SupplementaryTable3']\n",
    "enhancers_and_khurana_scores"
   ]
  },
  {
   "cell_type": "code",
   "execution_count": null,
   "metadata": {},
   "outputs": [],
   "source": [
    "# TODO \n",
    "# 1. assign chen scores to the enhancers listed above (see aps.*) (did Khurana use hg19 or hg38?)\n",
    "# 2. Scatter plot zscores and Khurana scores "
   ]
  },
  {
   "cell_type": "code",
   "execution_count": null,
   "metadata": {},
   "outputs": [],
   "source": [
    "# TODO\n",
    "# 1. pull out \"vista\" and \"LoF tolerant\" enhancers from \"khurana_table_S2\"\n",
    "# 2. annotate all enhancers as \"vista\" or \"LoF tolerant\" or \"neither\"\n",
    "# 3. Look at the CDF of scores (Chen, McHale, Khurana) for all enhancers, just those annotated as \"vista\", and just those annotated as \"LoF-tolerant\", similar to Fig 4A"
   ]
  },
  {
   "cell_type": "code",
   "execution_count": null,
   "metadata": {},
   "outputs": [],
   "source": [
    "# TODO [LONG SHOT] \n",
    "# Do SNVs (het or hom alt) in vista enhancers avoid the motifs that are enriched in those enhancers? "
   ]
  }
 ],
 "metadata": {
  "kernelspec": {
   "display_name": "constraint-tools",
   "language": "python",
   "name": "python3"
  },
  "language_info": {
   "codemirror_mode": {
    "name": "ipython",
    "version": 3
   },
   "file_extension": ".py",
   "mimetype": "text/x-python",
   "name": "python",
   "nbconvert_exporter": "python",
   "pygments_lexer": "ipython3",
   "version": "3.9.0"
  },
  "orig_nbformat": 4
 },
 "nbformat": 4,
 "nbformat_minor": 2
}
