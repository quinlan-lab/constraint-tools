{
 "cells": [
  {
   "cell_type": "markdown",
   "metadata": {},
   "source": [
    "## Visualize pileup of deletions in the vicinity of enhancers \n",
    "https://www.nxn.se/valent/visualizing-overlapping-intervals"
   ]
  },
  {
   "cell_type": "code",
   "execution_count": 3,
   "metadata": {},
   "outputs": [
    {
     "data": {
      "text/plain": [
       "(0.0, 6.0)"
      ]
     },
     "execution_count": 3,
     "metadata": {},
     "output_type": "execute_result"
    },
    {
     "data": {
      "image/png": "[encoded data removed]",
      "text/plain": [
       "<Figure size 432x288 with 1 Axes>"
      ]
     },
     "metadata": {
      "needs_background": "light"
     },
     "output_type": "display_data"
    }
   ],
   "source": [
    "import matplotlib.pyplot as plt\n",
    "\n",
    "intervals = [(2, 6), (7, 10), (1, 3), (4, 6), (8, 10), (1, 2), (3, 7), (9, 10), (1, 2), (3, 5), (6, 7), (8, 10), (2, 5), (8, 10)]\n",
    "\n",
    "def intervals2layers(si):\n",
    "    layers = [[si[0]]]\n",
    "    for p in si[1:]:\n",
    "        for lay in layers:\n",
    "            if lay[-1][-1] < p[0]:\n",
    "                lay.append(p)\n",
    "                break\n",
    "        else:\n",
    "            layers.append([p])\n",
    "\n",
    "    return layers\n",
    "\n",
    "si = sorted(intervals, key=lambda p: p[0])\n",
    "layers = intervals2layers(si)\n",
    "\n",
    "for i, lay in enumerate(layers):\n",
    "    x1, x2 = zip(*lay)\n",
    "    plt.hlines([i + 1] * len(x1), x1, x2, lw=30)\n",
    "\n",
    "plt.xlim(0, 11)\n",
    "plt.ylim(0, 6)"
   ]
  },
  {
   "cell_type": "code",
   "execution_count": 12,
   "metadata": {},
   "outputs": [
    {
     "data": {
      "image/png": "[encoded data removed]",
      "text/plain": [
       "<Figure size 432x288 with 1 Axes>"
      ]
     },
     "metadata": {
      "needs_background": "light"
     },
     "output_type": "display_data"
    }
   ],
   "source": [
    "import random \n",
    "\n",
    "intervals = []\n",
    "for i in range(1024):\n",
    "    x1 = random.normalvariate(0.5, 0.25)\n",
    "    x2 = x1 + random.random() / 16\n",
    "    intervals.append((x1, x2))\n",
    "\n",
    "si = sorted(intervals, key=lambda p: p[0])\n",
    "layers = intervals2layers(si)\n",
    "\n",
    "for i, lay in enumerate(layers):\n",
    "    x1, x2 = zip(*lay)\n",
    "    plt.hlines([i + 1] * len(x1), x1, x2)\n"
   ]
  },
  {
   "cell_type": "markdown",
   "metadata": {},
   "source": [
    "## Compute per-bp coverage of deletions in the vicinity of enhancers\n",
    "\n",
    "https://www.geeksforgeeks.org/maximum-number-of-overlapping-intervals/ "
   ]
  },
  {
   "cell_type": "code",
   "execution_count": 14,
   "metadata": {},
   "outputs": [],
   "source": [
    "# TODO \n",
    "# Generalize the code below to include a per-bp coverage variable that is updated as the intervals are traversed "
   ]
  },
  {
   "cell_type": "code",
   "execution_count": 13,
   "metadata": {},
   "outputs": [
    {
     "name": "stdout",
     "output_type": "stream",
     "text": [
      "2\n"
     ]
    }
   ],
   "source": [
    "# Python3 program that print maximum\n",
    "# number of overlap\n",
    "# among given ranges\n",
    "\n",
    "# Function that print maximum\n",
    "# overlap among ranges\n",
    "def overlap(v):\n",
    "\n",
    "\t# variable to store the maximum\n",
    "\t# count\n",
    "\tans = 0\n",
    "\tcount = 0\n",
    "\tdata = []\n",
    "\n",
    "\t# storing the x and y\n",
    "\t# coordinates in data vector\n",
    "\tfor i in range(len(v)):\n",
    "\n",
    "\t\t# pushing the x coordinate\n",
    "\t\tdata.append([v[i][0], 'x'])\n",
    "\n",
    "\t\t# pushing the y coordinate\n",
    "\t\tdata.append([v[i][1], 'y'])\n",
    "\n",
    "\t# sorting of ranges\n",
    "\tdata = sorted(data)\n",
    "\n",
    "\t# Traverse the data vector to\n",
    "\t# count number of overlaps\n",
    "\tfor i in range(len(data)):\n",
    "\n",
    "\t\t# if x occur it means a new range\n",
    "\t\t# is added so we increase count\n",
    "\t\tif (data[i][1] == 'x'):\n",
    "\t\t\tcount += 1\n",
    "\n",
    "\t\t# if y occur it means a range\n",
    "\t\t# is ended so we decrease count\n",
    "\t\tif (data[i][1] == 'y'):\n",
    "\t\t\tcount -= 1\n",
    "\n",
    "\t\t# updating the value of ans\n",
    "\t\t# after every traversal\n",
    "\t\tans = max(ans, count)\n",
    "\n",
    "\t# printing the maximum value\n",
    "\tprint(ans)\n",
    "\n",
    "# Driver code\n",
    "v = [ [ 1, 2 ], [ 2, 4 ], [ 3, 6 ] ]\n",
    "overlap(v)\n",
    "\n",
    "# This code is contributed by mohit kumar 29\n"
   ]
  }
 ],
 "metadata": {
  "kernelspec": {
   "display_name": "constraint-tools",
   "language": "python",
   "name": "python3"
  },
  "language_info": {
   "codemirror_mode": {
    "name": "ipython",
    "version": 3
   },
   "file_extension": ".py",
   "mimetype": "text/x-python",
   "name": "python",
   "nbconvert_exporter": "python",
   "pygments_lexer": "ipython3",
   "version": "3.9.0"
  }
 },
 "nbformat": 4,
 "nbformat_minor": 2
}
