{
 "cells": [
  {
   "attachments": {},
   "cell_type": "markdown",
   "metadata": {},
   "source": [
    "## [TODO]  \n",
    "\n",
    "1. load gnomad vcf into UCSC genome browser: https://genome.ucsc.edu/goldenPath/help/hgVcfTrackHelp.html\n",
    "2. do inference using ChromBPNet, produce bigwig, and load into UCSC genome browser: https://github.com/kundajelab/chrombpnet/wiki/Variant-effect-prediction\n"
   ]
  },
  {
   "cell_type": "code",
   "execution_count": null,
   "metadata": {},
   "outputs": [],
   "source": []
  }
 ],
 "metadata": {
  "language_info": {
   "name": "python"
  },
  "orig_nbformat": 4
 },
 "nbformat": 4,
 "nbformat_minor": 2
}
