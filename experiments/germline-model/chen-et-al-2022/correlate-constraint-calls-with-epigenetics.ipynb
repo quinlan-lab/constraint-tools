{
 "cells": [
  {
   "cell_type": "code",
   "execution_count": null,
   "id": "ccdf958f",
   "metadata": {},
   "outputs": [],
   "source": [
    "# 1. fetch non-sequence features (methylation levels, etc) for each window, \n",
    "#    and add those features as additional columns\n",
    "# 2. do PCA on features, and add PC1 and PC2 as additional columns \n",
    "# 3. plot windows in the space of the two principal components\n",
    "# 4. label windows with \"method for which window is in top quantile\"\n",
    "# 5. ask whether windows cluster according to the label "
   ]
  },
  {
   "cell_type": "code",
   "execution_count": null,
   "id": "005919de",
   "metadata": {},
   "outputs": [],
   "source": [
    "# TODO: once features have been fetched, ask whether contiguous windows \n",
    "# that correspond to only one method correlate with intervals defined by \n",
    "# non-sequence features, e.g., methylation levels "
   ]
  }
 ],
 "metadata": {
  "kernelspec": {
   "display_name": "Python 3",
   "language": "python",
   "name": "python3"
  },
  "language_info": {
   "codemirror_mode": {
    "name": "ipython",
    "version": 3
   },
   "file_extension": ".py",
   "mimetype": "text/x-python",
   "name": "python",
   "nbconvert_exporter": "python",
   "pygments_lexer": "ipython3",
   "version": "3.9.0"
  }
 },
 "nbformat": 4,
 "nbformat_minor": 5
}
