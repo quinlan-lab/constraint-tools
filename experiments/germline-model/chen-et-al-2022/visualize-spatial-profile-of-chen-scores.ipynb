{
 "cells": [
  {
   "cell_type": "code",
   "execution_count": 1,
   "metadata": {},
   "outputs": [],
   "source": [
    "CONSTRAINT_TOOLS = '/scratch/ucgd/lustre-work/quinlan/u6018199/constraint-tools'\n",
    "CONSTRAINT_TOOLS_DATA = '/scratch/ucgd/lustre-work/quinlan/data-shared/constraint-tools'\n",
    "\n",
    "import sys\n",
    "sys.path.append(f'{CONSTRAINT_TOOLS}/utilities')\n",
    "\n",
    "CHEN_DATA_DIRECTORY = f'{CONSTRAINT_TOOLS_DATA}/chen-et-al-2023-published-version/41586_2023_6045_MOESM4_ESM'\n",
    "CHEN_FILE_STEM = f'Supplementary_Data_2' # chen scores for 1kb windows\n",
    "\n",
    "PUBLIC_REPO = 'constraint-tools-data'\n",
    "PUBLIC_REPO_DIR = f'/scratch/ucgd/lustre-work/quinlan/u6018199/{PUBLIC_REPO}'"
   ]
  },
  {
   "cell_type": "markdown",
   "metadata": {},
   "source": [
    "## Visualize Chen scores in UCSC genome browser "
   ]
  },
  {
   "cell_type": "code",
   "execution_count": 2,
   "metadata": {},
   "outputs": [
    {
     "name": "stdout",
     "output_type": "stream",
     "text": [
      "\u001b[0;36mWrote Chen z-scores in UCSC-genome-browser format to: \u001b[0m/scratch/ucgd/lustre-work/quinlan/data-shared/constraint-tools/chen-et-al-2023-published-version/41586_2023_6045_MOESM4_ESM/Supplementary_Data_2.bedGraph\n",
      "Everything up-to-date\n",
      "\u001b[0;36mPushed Supplementary_Data_2.bedGraph to public repo\u001b[0m\n",
      "On branch main\n",
      "Your branch is up to date with 'origin/main'.\n",
      "\n",
      "nothing to commit, working tree clean\n"
     ]
    }
   ],
   "source": [
    "from shell import shell \n",
    "\n",
    "def prepare_chen_scores_for_UCSC_genome_browser():\n",
    "  prepare_scores = f'{CONSTRAINT_TOOLS}/experiments/germline-model/chen-et-al-2022/prepare-chen-scores-for-UCSC-genome-browser.sh' \n",
    "\n",
    "  cmd = (\n",
    "    f'bash '\n",
    "    f'{prepare_scores} '\n",
    "    f'{CHEN_DATA_DIRECTORY} {CHEN_FILE_STEM} {PUBLIC_REPO_DIR} '\n",
    "  )\n",
    "  print(shell(cmd))\n",
    "\n",
    "prepare_chen_scores_for_UCSC_genome_browser()"
   ]
  },
  {
   "cell_type": "code",
   "execution_count": 3,
   "metadata": {},
   "outputs": [
    {
     "name": "stdout",
     "output_type": "stream",
     "text": [
      "UCSC genome browser: https://genome.ucsc.edu/cgi-bin/hgTracks?db=hg38&position=chr1%3A700000-800000&hgct_customText=https://github.com/petermchale/constraint-tools-data/raw/main/Supplementary_Data_2.bedGraph\n"
     ]
    }
   ],
   "source": [
    "def get_ucsc_genome_browser_link(chrom, start, end): \n",
    "  attribute_value_pair = f'position={chrom}%3A{start}-{end}'\n",
    "\n",
    "  data_url = f'https://github.com/petermchale/constraint-tools-data/raw/main/{CHEN_FILE_STEM}.bedGraph'\n",
    "\n",
    "  # https://genome-blog.gi.ucsc.edu/blog/2021/08/13/sharing-data-with-sessions-and-urls/  \n",
    "  browser_url = f'https://genome.ucsc.edu/cgi-bin/hgTracks?db=hg38&{attribute_value_pair}&hgct_customText={data_url}' \n",
    "  \n",
    "  print(f'UCSC genome browser: {browser_url}')\n",
    "\n",
    "get_ucsc_genome_browser_link(chrom='chr1', start=700000, end=800000)"
   ]
  }
 ],
 "metadata": {
  "kernelspec": {
   "display_name": "constraint-tools",
   "language": "python",
   "name": "python3"
  },
  "language_info": {
   "codemirror_mode": {
    "name": "ipython",
    "version": 3
   },
   "file_extension": ".py",
   "mimetype": "text/x-python",
   "name": "python",
   "nbconvert_exporter": "python",
   "pygments_lexer": "ipython3",
   "version": "3.9.0"
  }
 },
 "nbformat": 4,
 "nbformat_minor": 2
}
