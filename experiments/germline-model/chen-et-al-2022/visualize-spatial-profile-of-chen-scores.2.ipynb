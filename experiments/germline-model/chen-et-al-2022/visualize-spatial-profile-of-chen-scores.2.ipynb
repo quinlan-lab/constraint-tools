{
 "cells": [
  {
   "cell_type": "code",
   "execution_count": 1,
   "metadata": {},
   "outputs": [],
   "source": [
    "CONSTRAINT_TOOLS = '/scratch/ucgd/lustre-work/quinlan/u6018199/constraint-tools'\n",
    "CONSTRAINT_TOOLS_DATA = '/scratch/ucgd/lustre-work/quinlan/data-shared/constraint-tools'\n",
    "\n",
    "import sys\n",
    "sys.path.append(f'{CONSTRAINT_TOOLS}/utilities')\n",
    "\n",
    "CHEN_DATA_DIRECTORY = f'{CONSTRAINT_TOOLS_DATA}/chen-et-al-2023-published-version/41586_2023_6045_MOESM4_ESM'\n",
    "CHEN_FILE_STEM = f'Supplementary_Data_2' # chen scores for 1kb windows\n",
    "\n",
    "PUBLIC_REPO = 'constraint-tools-data'\n",
    "PUBLIC_REPO_DIR = f'/scratch/ucgd/lustre-work/quinlan/u6018199/{PUBLIC_REPO}'"
   ]
  },
  {
   "cell_type": "markdown",
   "metadata": {},
   "source": [
    "## Compute observed SNV counts, expected counts under gnocchi, and Kbar for Chen's windows "
   ]
  },
  {
   "cell_type": "code",
   "execution_count": 8,
   "metadata": {},
   "outputs": [
    {
     "name": "stderr",
     "output_type": "stream",
     "text": [
      "<ipython-input-8-7f6eac66a965>:36: SettingWithCopyWarning: \n",
      "A value is trying to be set on a copy of a slice from a DataFrame.\n",
      "Try using .loc[row_indexer,col_indexer] = value instead\n",
      "\n",
      "See the caveats in the documentation: https://pandas.pydata.org/pandas-docs/stable/user_guide/indexing.html#returning-a-view-versus-a-copy\n",
      "  df['negative_K_bar'] = -df['K_bar']\n",
      "100%|█████████████████████████████| 1794224/1794224 [00:32<00:00, 55135.76it/s]\n"
     ]
    },
    {
     "data": {
      "text/html": [
       "<div>\n",
       "<style scoped>\n",
       "    .dataframe tbody tr th:only-of-type {\n",
       "        vertical-align: middle;\n",
       "    }\n",
       "\n",
       "    .dataframe tbody tr th {\n",
       "        vertical-align: top;\n",
       "    }\n",
       "\n",
       "    .dataframe thead th {\n",
       "        text-align: right;\n",
       "    }\n",
       "</style>\n",
       "<table border=\"1\" class=\"dataframe\">\n",
       "  <thead>\n",
       "    <tr style=\"text-align: right;\">\n",
       "      <th></th>\n",
       "      <th>chromosome</th>\n",
       "      <th>start</th>\n",
       "      <th>end</th>\n",
       "      <th>gnocchi</th>\n",
       "      <th>N_observed</th>\n",
       "      <th>K_bar</th>\n",
       "      <th>negative_K_bar</th>\n",
       "      <th>N_expected_gnocchi</th>\n",
       "    </tr>\n",
       "  </thead>\n",
       "  <tbody>\n",
       "    <tr>\n",
       "      <th>0</th>\n",
       "      <td>chr1</td>\n",
       "      <td>1432000</td>\n",
       "      <td>1433000</td>\n",
       "      <td>4.299894</td>\n",
       "      <td>259</td>\n",
       "      <td>-1.954207</td>\n",
       "      <td>1.954207</td>\n",
       "      <td>338.059552</td>\n",
       "    </tr>\n",
       "    <tr>\n",
       "      <th>1</th>\n",
       "      <td>chr1</td>\n",
       "      <td>1435000</td>\n",
       "      <td>1436000</td>\n",
       "      <td>3.331645</td>\n",
       "      <td>273</td>\n",
       "      <td>1.006365</td>\n",
       "      <td>-1.006365</td>\n",
       "      <td>333.876799</td>\n",
       "    </tr>\n",
       "    <tr>\n",
       "      <th>2</th>\n",
       "      <td>chr1</td>\n",
       "      <td>1449000</td>\n",
       "      <td>1450000</td>\n",
       "      <td>1.817267</td>\n",
       "      <td>225</td>\n",
       "      <td>-0.402920</td>\n",
       "      <td>0.402920</td>\n",
       "      <td>253.960193</td>\n",
       "    </tr>\n",
       "    <tr>\n",
       "      <th>3</th>\n",
       "      <td>chr1</td>\n",
       "      <td>1450000</td>\n",
       "      <td>1451000</td>\n",
       "      <td>1.365863</td>\n",
       "      <td>312</td>\n",
       "      <td>-3.416013</td>\n",
       "      <td>3.416013</td>\n",
       "      <td>337.076763</td>\n",
       "    </tr>\n",
       "    <tr>\n",
       "      <th>4</th>\n",
       "      <td>chr1</td>\n",
       "      <td>1451000</td>\n",
       "      <td>1452000</td>\n",
       "      <td>0.666316</td>\n",
       "      <td>291</td>\n",
       "      <td>-1.317331</td>\n",
       "      <td>1.317331</td>\n",
       "      <td>302.590657</td>\n",
       "    </tr>\n",
       "    <tr>\n",
       "      <th>...</th>\n",
       "      <td>...</td>\n",
       "      <td>...</td>\n",
       "      <td>...</td>\n",
       "      <td>...</td>\n",
       "      <td>...</td>\n",
       "      <td>...</td>\n",
       "      <td>...</td>\n",
       "      <td>...</td>\n",
       "    </tr>\n",
       "    <tr>\n",
       "      <th>1795651</th>\n",
       "      <td>chr9</td>\n",
       "      <td>137269000</td>\n",
       "      <td>137270000</td>\n",
       "      <td>5.276351</td>\n",
       "      <td>209</td>\n",
       "      <td>-0.785837</td>\n",
       "      <td>0.785837</td>\n",
       "      <td>300.458958</td>\n",
       "    </tr>\n",
       "    <tr>\n",
       "      <th>1795652</th>\n",
       "      <td>chr9</td>\n",
       "      <td>137275000</td>\n",
       "      <td>137276000</td>\n",
       "      <td>2.687348</td>\n",
       "      <td>290</td>\n",
       "      <td>-2.409468</td>\n",
       "      <td>2.409468</td>\n",
       "      <td>339.517045</td>\n",
       "    </tr>\n",
       "    <tr>\n",
       "      <th>1795653</th>\n",
       "      <td>chr9</td>\n",
       "      <td>137282000</td>\n",
       "      <td>137283000</td>\n",
       "      <td>-0.090791</td>\n",
       "      <td>210</td>\n",
       "      <td>-0.333503</td>\n",
       "      <td>0.333503</td>\n",
       "      <td>208.688422</td>\n",
       "    </tr>\n",
       "    <tr>\n",
       "      <th>1795654</th>\n",
       "      <td>chr9</td>\n",
       "      <td>137290000</td>\n",
       "      <td>137291000</td>\n",
       "      <td>2.162811</td>\n",
       "      <td>223</td>\n",
       "      <td>-1.182283</td>\n",
       "      <td>1.182283</td>\n",
       "      <td>257.721105</td>\n",
       "    </tr>\n",
       "    <tr>\n",
       "      <th>1795655</th>\n",
       "      <td>chr9</td>\n",
       "      <td>137294000</td>\n",
       "      <td>137295000</td>\n",
       "      <td>4.476550</td>\n",
       "      <td>180</td>\n",
       "      <td>-0.774728</td>\n",
       "      <td>0.774728</td>\n",
       "      <td>250.909039</td>\n",
       "    </tr>\n",
       "  </tbody>\n",
       "</table>\n",
       "<p>1794224 rows × 8 columns</p>\n",
       "</div>"
      ],
      "text/plain": [
       "        chromosome      start        end   gnocchi  N_observed     K_bar  \\\n",
       "0             chr1    1432000    1433000  4.299894         259 -1.954207   \n",
       "1             chr1    1435000    1436000  3.331645         273  1.006365   \n",
       "2             chr1    1449000    1450000  1.817267         225 -0.402920   \n",
       "3             chr1    1450000    1451000  1.365863         312 -3.416013   \n",
       "4             chr1    1451000    1452000  0.666316         291 -1.317331   \n",
       "...            ...        ...        ...       ...         ...       ...   \n",
       "1795651       chr9  137269000  137270000  5.276351         209 -0.785837   \n",
       "1795652       chr9  137275000  137276000  2.687348         290 -2.409468   \n",
       "1795653       chr9  137282000  137283000 -0.090791         210 -0.333503   \n",
       "1795654       chr9  137290000  137291000  2.162811         223 -1.182283   \n",
       "1795655       chr9  137294000  137295000  4.476550         180 -0.774728   \n",
       "\n",
       "         negative_K_bar  N_expected_gnocchi  \n",
       "0              1.954207          338.059552  \n",
       "1             -1.006365          333.876799  \n",
       "2              0.402920          253.960193  \n",
       "3              3.416013          337.076763  \n",
       "4              1.317331          302.590657  \n",
       "...                 ...                 ...  \n",
       "1795651        0.785837          300.458958  \n",
       "1795652        2.409468          339.517045  \n",
       "1795653        0.333503          208.688422  \n",
       "1795654        1.182283          257.721105  \n",
       "1795655        0.774728          250.909039  \n",
       "\n",
       "[1794224 rows x 8 columns]"
      ]
     },
     "execution_count": 8,
     "metadata": {},
     "output_type": "execute_result"
    }
   ],
   "source": [
    "import pandas as pd\n",
    "import numpy as np \n",
    "\n",
    "from tqdm import tqdm\n",
    "tqdm.pandas()\n",
    "\n",
    "def get_gnocchi(): \n",
    "  filename = f'{CHEN_DATA_DIRECTORY}/{CHEN_FILE_STEM}.bed'  \n",
    "  df = pd.read_csv(\n",
    "    filename, \n",
    "    sep='\\t',\n",
    "    names=['chromosome', 'start', 'end', 'gnocchi']\n",
    "  )\n",
    "  return df \n",
    "\n",
    "def get_observed_counts_and_Kbar():\n",
    "  filename = f'{CONSTRAINT_TOOLS_DATA}/genome-wide-predictions/predict-germline-grch38.chen-windows.bed'\n",
    "  df = pd.read_csv(\n",
    "    filename, \n",
    "    sep='\\t',\n",
    "  )\n",
    "  df = df[['chromosome', 'start', 'end', 'N_observed', 'K_bar']]\n",
    "  return df \n",
    "\n",
    "def compute_expected_count_under_gnocchi(row): \n",
    "  a = 1 \n",
    "  b = -(2*row['N_observed'] + row['gnocchi']**2)\n",
    "  c = row['N_observed']**2\n",
    "  sqrt = np.sqrt(b**2 - 4*a*c) \n",
    "  sign = 1 if row['gnocchi'] > 0 else -1\n",
    "  return (-b + sign*sqrt)/(2*a)\n",
    "  \n",
    "def wrangle_K_bar(df): \n",
    "  df['K_bar'] = pd.to_numeric(df['K_bar'], errors='coerce') # convert '.' to 'NaN'\n",
    "  df = df.dropna(subset=['K_bar']) # drop windows for which K_bar == NaN\n",
    "  df['negative_K_bar'] = -df['K_bar']\n",
    "  return df\n",
    "\n",
    "def compute_expected_counts_under_gnocchi_and_Kbar(): \n",
    "  df = pd.merge(\n",
    "    get_gnocchi(), \n",
    "    get_observed_counts_and_Kbar(), \n",
    "    how='inner', \n",
    "    on=['chromosome', 'start', 'end']\n",
    "  )\n",
    "\n",
    "  df = wrangle_K_bar(df)\n",
    "\n",
    "  df['N_expected_gnocchi'] = df.progress_apply(compute_expected_count_under_gnocchi, axis=1) # type: ignore\n",
    "\n",
    "  for col in ['gnocchi', 'N_observed', 'negative_K_bar', 'N_expected_gnocchi']: \n",
    "    df[['chromosome', 'start', 'end', f'{col}']].to_csv(\n",
    "      f'{CHEN_DATA_DIRECTORY}/{CHEN_FILE_STEM}-{col}.bed', \n",
    "      sep='\\t', \n",
    "      index=False, \n",
    "      header=False\n",
    "    )\n",
    "\n",
    "  return df \n",
    "\n",
    "compute_expected_counts_under_gnocchi_and_Kbar()"
   ]
  },
  {
   "cell_type": "markdown",
   "metadata": {},
   "source": [
    "## Visualize these variables in UCSC genome browser "
   ]
  },
  {
   "cell_type": "code",
   "execution_count": 9,
   "metadata": {},
   "outputs": [
    {
     "name": "stderr",
     "output_type": "stream",
     "text": [
      "  0%|                                                    | 0/4 [00:00<?, ?it/s]"
     ]
    },
    {
     "name": "stderr",
     "output_type": "stream",
     "text": [
      " 25%|███████████                                 | 1/4 [00:11<00:35, 11.74s/it]"
     ]
    },
    {
     "name": "stdout",
     "output_type": "stream",
     "text": [
      "\u001b[0;36mWrote: \u001b[0m/scratch/ucgd/lustre-work/quinlan/data-shared/constraint-tools/chen-et-al-2023-published-version/41586_2023_6045_MOESM4_ESM/Supplementary_Data_2-gnocchi.bedGraph\n",
      "To https://github.com/petermchale/constraint-tools-data.git\n",
      "   c4a792f..f1e1698  main -> main\n",
      "\u001b[0;36mPushed Supplementary_Data_2-gnocchi.bedGraph to public repo\u001b[0m\n",
      "\"Supplementary_Data_2-gnocchi.bedGraph\" already supported\n",
      "[main f1e1698] Add Supplementary_Data_2-gnocchi in UCSC-genome-browser format (bedgraph)\n",
      " 1 file changed, 2 insertions(+), 2 deletions(-)\n",
      "Uploading LFS objects: 100% (1/1), 77 MB | 28 MB/s, done.\n"
     ]
    },
    {
     "name": "stderr",
     "output_type": "stream",
     "text": [
      " 50%|██████████████████████                      | 2/4 [00:22<00:22, 11.23s/it]"
     ]
    },
    {
     "name": "stdout",
     "output_type": "stream",
     "text": [
      "\u001b[0;36mWrote: \u001b[0m/scratch/ucgd/lustre-work/quinlan/data-shared/constraint-tools/chen-et-al-2023-published-version/41586_2023_6045_MOESM4_ESM/Supplementary_Data_2-N_observed.bedGraph\n",
      "To https://github.com/petermchale/constraint-tools-data.git\n",
      "   f1e1698..29e6e89  main -> main\n",
      "\u001b[0;36mPushed Supplementary_Data_2-N_observed.bedGraph to public repo\u001b[0m\n",
      "\"Supplementary_Data_2-N_observed.bedGraph\" already supported\n",
      "[main 29e6e89] Add Supplementary_Data_2-N_observed in UCSC-genome-browser format (bedgraph)\n",
      " 1 file changed, 2 insertions(+), 2 deletions(-)\n",
      "Uploading LFS objects: 100% (1/1), 50 MB | 21 MB/s, done.\n"
     ]
    },
    {
     "name": "stderr",
     "output_type": "stream",
     "text": [
      " 75%|█████████████████████████████████           | 3/4 [00:34<00:11, 11.60s/it]"
     ]
    },
    {
     "name": "stdout",
     "output_type": "stream",
     "text": [
      "\u001b[0;36mWrote: \u001b[0m/scratch/ucgd/lustre-work/quinlan/data-shared/constraint-tools/chen-et-al-2023-published-version/41586_2023_6045_MOESM4_ESM/Supplementary_Data_2-negative_K_bar.bedGraph\n",
      "To https://github.com/petermchale/constraint-tools-data.git\n",
      "   29e6e89..70c8794  main -> main\n",
      "\u001b[0;36mPushed Supplementary_Data_2-negative_K_bar.bedGraph to public repo\u001b[0m\n",
      "\"Supplementary_Data_2-negative_K_bar.bedGraph\" already supported\n",
      "[main 70c8794] Add Supplementary_Data_2-negative_K_bar in UCSC-genome-browser format (bedgraph)\n",
      " 1 file changed, 2 insertions(+), 2 deletions(-)\n",
      "Uploading LFS objects: 100% (1/1), 78 MB | 20 MB/s, done.\n"
     ]
    },
    {
     "name": "stderr",
     "output_type": "stream",
     "text": [
      "100%|████████████████████████████████████████████| 4/4 [00:46<00:00, 11.57s/it]"
     ]
    },
    {
     "name": "stdout",
     "output_type": "stream",
     "text": [
      "\u001b[0;36mWrote: \u001b[0m/scratch/ucgd/lustre-work/quinlan/data-shared/constraint-tools/chen-et-al-2023-published-version/41586_2023_6045_MOESM4_ESM/Supplementary_Data_2-N_expected_gnocchi.bedGraph\n",
      "To https://github.com/petermchale/constraint-tools-data.git\n",
      "   70c8794..9cc2858  main -> main\n",
      "\u001b[0;36mPushed Supplementary_Data_2-N_expected_gnocchi.bedGraph to public repo\u001b[0m\n",
      "\"Supplementary_Data_2-N_expected_gnocchi.bedGraph\" already supported\n",
      "[main 9cc2858] Add Supplementary_Data_2-N_expected_gnocchi in UCSC-genome-browser format (bedgraph)\n",
      " 1 file changed, 2 insertions(+), 2 deletions(-)\n",
      "Uploading LFS objects: 100% (1/1), 76 MB | 25 MB/s, done.\n"
     ]
    },
    {
     "name": "stderr",
     "output_type": "stream",
     "text": [
      "\n"
     ]
    }
   ],
   "source": [
    "from shell import shell \n",
    "\n",
    "def prepare_data_for_UCSC_genome_browser():\n",
    "  prepare_data = f'{CONSTRAINT_TOOLS}/experiments/germline-model/chen-et-al-2022/prepare-data-for-UCSC-genome-browser.sh' \n",
    "\n",
    "  for suffix in tqdm(['gnocchi', 'N_observed', 'negative_K_bar', 'N_expected_gnocchi']): \n",
    "    data_directory = CHEN_DATA_DIRECTORY\n",
    "    data_stem = f'{CHEN_FILE_STEM}-{suffix}'\n",
    "    track_name = suffix\n",
    "    track_description = suffix\n",
    "    cmd = (\n",
    "      f'bash '\n",
    "      f'{prepare_data} '\n",
    "      f'{data_directory} {data_stem} {PUBLIC_REPO_DIR} '\n",
    "      f'{track_name} {track_description}'\n",
    "    )\n",
    "    print(shell(cmd))\n",
    "\n",
    "prepare_data_for_UCSC_genome_browser()"
   ]
  },
  {
   "cell_type": "code",
   "execution_count": 7,
   "metadata": {},
   "outputs": [
    {
     "name": "stdout",
     "output_type": "stream",
     "text": [
      "UCSC genome browser: https://genome.ucsc.edu/cgi-bin/hgTracks?db=hg38&position=chr4%3A1-190214555&hgct_customText=http://github.com/petermchale/constraint-tools-data/raw/main/Supplementary_Data_2-gnocchi.bedGraph\n",
      "UCSC genome browser: https://genome.ucsc.edu/cgi-bin/hgTracks?db=hg38&position=chr4%3A1-190214555&hgct_customText=http://github.com/petermchale/constraint-tools-data/raw/main/Supplementary_Data_2-N_observed.bedGraph\n",
      "UCSC genome browser: https://genome.ucsc.edu/cgi-bin/hgTracks?db=hg38&position=chr4%3A1-190214555&hgct_customText=http://github.com/petermchale/constraint-tools-data/raw/main/Supplementary_Data_2-negative_K_bar.bedGraph\n",
      "UCSC genome browser: https://genome.ucsc.edu/cgi-bin/hgTracks?db=hg38&position=chr4%3A1-190214555&hgct_customText=http://github.com/petermchale/constraint-tools-data/raw/main/Supplementary_Data_2-N_expected_gnocchi.bedGraph\n"
     ]
    }
   ],
   "source": [
    "# TODO: a \"track hub\" might make more sense when there are multiple custom tracks \n",
    "\n",
    "def get_ucsc_genome_browser_link(chrom, start, end): \n",
    "  attribute_value_pair = f'position={chrom}%3A{start}-{end}'\n",
    "  for suffix in ['gnocchi', 'N_observed', 'negative_K_bar', 'N_expected_gnocchi']: \n",
    "    data_stem = f'{CHEN_FILE_STEM}-{suffix}'\n",
    "    data_url = f'http://github.com/petermchale/constraint-tools-data/raw/main/{data_stem}.bedGraph'\n",
    "    # https://genome-blog.gi.ucsc.edu/blog/2021/08/13/sharing-data-with-sessions-and-urls/  \n",
    "    browser_url = f'https://genome.ucsc.edu/cgi-bin/hgTracks?db=hg38&{attribute_value_pair}&hgct_customText={data_url}'\n",
    "    print(f'UCSC genome browser: {browser_url}')\n",
    "\n",
    "get_ucsc_genome_browser_link(chrom='chr4', start=1, end=190214555)"
   ]
  }
 ],
 "metadata": {
  "kernelspec": {
   "display_name": "constraint-tools",
   "language": "python",
   "name": "python3"
  },
  "language_info": {
   "codemirror_mode": {
    "name": "ipython",
    "version": 3
   },
   "file_extension": ".py",
   "mimetype": "text/x-python",
   "name": "python",
   "nbconvert_exporter": "python",
   "pygments_lexer": "ipython3",
   "version": "3.9.0"
  }
 },
 "nbformat": 4,
 "nbformat_minor": 2
}
