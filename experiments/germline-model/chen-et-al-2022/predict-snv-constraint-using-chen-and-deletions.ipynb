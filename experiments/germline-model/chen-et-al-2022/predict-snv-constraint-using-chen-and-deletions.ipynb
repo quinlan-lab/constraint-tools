{
 "cells": [
  {
   "cell_type": "markdown",
   "metadata": {},
   "source": [
    "## Using Chen zscore to predict whether a SNV is deleterious or not, and improving that prediction using homozygous deletions "
   ]
  },
  {
   "cell_type": "code",
   "execution_count": 1,
   "metadata": {},
   "outputs": [],
   "source": [
    "# TODO \n",
    "# 0. resources: \n",
    "#    experiments/germline-model/chen-et-al-2022/pathogenic_variant_enrichment*.ipynb\n",
    "#    experiments/germline-model/chen-et-al-2022/*clin*\n",
    "#    download-process-data/noncoding-variants-associated-with-Mendelian-traits\n",
    "#    download-process-data/compute-trustworthy-exon-adjacent-windows.sh\n",
    "#    download-process-data/clinvar-noncoding-with-negative-controls\n",
    "# 1. intersect clinvar variants with chen windows (with chen scores), \n",
    "#    instead of the other way around (as I previously did when testing for enrichment of clinvar variants in constrained windows)\n",
    "# 2. this gives a single chen score to each clinvar variant \n",
    "# 3. do the same for a set of gnomad variants of equal number \n",
    "# 4. we now have a positive and negative set of SNVs, which we can use to draw a ROC curve, by thresholding the chen score\n",
    "# 5. next, as above, we can declare those variants that overlap homozygous deletions as false positives, and recompute the ROC curve"
   ]
  },
  {
   "cell_type": "code",
   "execution_count": null,
   "metadata": {},
   "outputs": [],
   "source": []
  }
 ],
 "metadata": {
  "kernelspec": {
   "display_name": "constraint-tools",
   "language": "python",
   "name": "python3"
  },
  "language_info": {
   "codemirror_mode": {
    "name": "ipython",
    "version": 3
   },
   "file_extension": ".py",
   "mimetype": "text/x-python",
   "name": "python",
   "nbconvert_exporter": "python",
   "pygments_lexer": "ipython3",
   "version": "3.9.0"
  },
  "orig_nbformat": 4
 },
 "nbformat": 4,
 "nbformat_minor": 2
}
