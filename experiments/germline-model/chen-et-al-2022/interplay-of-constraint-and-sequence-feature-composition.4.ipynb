{
 "cells": [
  {
   "cell_type": "markdown",
   "id": "ca04bc6b",
   "metadata": {},
   "source": [
    "## TODO #2 [COOL] (i) Show that my model is overestimating SNV density in CpG regions, but (ii) can sequence alone predict constraint as well as a sequence+features model like Chen? \n",
    "\n",
    "1. infer the expected SNV count from Chen's model from observed SNV count and zscore \n",
    "2. plot expected (under chen's model) and observed SNV count as a function of zscore (under chen's model) \n",
    "3. expect to find that expected SNV count is much flatter as a function of zscore (compared to my model), and that low-zscore windows have the lowest observed SNV count (in constrast to my model). this expectation follows from the fact that CpG islands are unmethylated, and consequently are expected to have a reduced substitution probability, which Chen's model ought to capture, but which my model ought to miss. \n",
    "4. this suggests that my model is overestimating constraint for windows that are CpG rich (by over-estimating the sub probs) \n",
    "5. But could we develop a model comparable to chen, that uses only sequence information? For example, if the window contains many CpG sites in close proximity, then that could be a predictor of lower substitution probability (a la Sneppen's model) than my model would have predicted. Related, others have shown than sequence predicts methylation https://www.pnas.org/doi/epdf/10.1073/pnas.2037852100 So, can we train a generalizable model that maps embeddings to chen zscore? \n",
    "6. If so, one can then build a sequence-only model from scratch, by mapping embeddings to SNV counts in all windows, and then scoring windows by O/E, and reporting outliers! This is basically what MURAL does. \n",
    "7. point out that delta_f for chen vs 3mer model quantifies how anomalous the methylation levels are in windows (among other things), which would explain why the 3mer model picks up more enhancers: enhancers probably are enriched for CpG islands, which are known to have unusually low methylation levels! "
   ]
  },
  {
   "cell_type": "markdown",
   "id": "fb4af510",
   "metadata": {},
   "source": [
    "## TODO #3 [COOL] Dissect the apparently constrained windows (as determined by chen) using Nucleotide Transformer to make discoveries about genome biology\n",
    "\n",
    "https://github.com/instadeepai/nucleotide-transformer\n",
    "\n",
    "1. [INCREASE SPATIAL RESOLUTION] Compute attention weights for low-zscore windows using template code in https://github.com/instadeepai/nucleotide-transformer/blob/efc3fa5b6bc57ae8ec2704c792cfb038dd0c689e/examples/inference.ipynb. Do pairs of 100bp regions with high attention also have low SNV density? Does this happen for windows that don’t harbor known enhancers, potentially discovering new enhancers? For windows that harbor enhancers, does the attention scores coincide with the enhancers? [Aggregate attention scores, weighting them by an enhancer matrix, similar to, e.g., Fig 3C, to identify layers and heads that are paying attention to enhancers in a window that contains the enhancer.]\n",
    "2. Compute predicted effect of SNVs in a window using distance between embeddings of REF and ALT alleles for each site (as done in Fig 4A of nucleotide transformer paper). Average predicted effects over all SNP sites in window. Does average predicted effect correlate with zscore of window? One could also repeat this analysis for all monomorphic sites. (This result would nicely parallel results regarding singleton density.)\n",
    "3. do pca on embeddings, but color by actual zscore (not quantized version of it), OR measure L2 norm between embedding and average of all embeddings, and correlate that metric with zscore, and ask whether that correlation is stronger than simply counting the proportion of all sites that are CpG+. If so, then embeddings is a better \"representation\" of sequence than CpG density, when modeling the mapping from sequence to constraint\n"
   ]
  },
  {
   "cell_type": "markdown",
   "id": "6fcb21fe",
   "metadata": {},
   "source": [
    "## [TODO] cpg islands\n",
    "\n",
    "are constrained windows enriched in cpg islands? is the cpg-island enrichment larger than the enhancer enrichment? "
   ]
  },
  {
   "cell_type": "markdown",
   "id": "533f9c41",
   "metadata": {},
   "source": [
    "## [TODO] Aaron's questions (may help discover new biology)\n",
    "\n",
    "1. Correlate z-scores of windows with average CpG content (relative to genome-wide average) of windows [compare with https://docs.google.com/presentation/d/1XzvnTeJBGnXG9t2UhkrAEBUdemvSNydwC25zglp5Y14/edit#slide=id.g230fb7471c0_0_150 )\n",
    "2. If 1. Succeeds, then do: Fraction of noncoding windows that overlap CpG islands vs fraction of extreme-zscore windows that overlaps CpG islands \n",
    "\n",
    "Are zscores correlated with Ultraconserved elements? \n",
    "Fetch ultra conserved elements from zoonomia paper: https://quinlangroup.slack.com/archives/C449KJT3J/p1683166940410939\n",
    "* [ Aaron’s earlier remarks on UCEs: https://quinlangroup.slack.com/archives/C01U5FGKAHM/p1671468415354519\n",
    "* [ Also, bear in mind prior conservation scores: \n",
    "\t* Supplementary Figure 7 of https://www.nature.com/articles/s41588-018-0062-7 shows that low-SNV-density regions are largely different from high conservation regions; \n",
    "\t* LOGO paper and Venter paper have GERP data links\n",
    "\n"
   ]
  },
  {
   "cell_type": "markdown",
   "id": "b927f44c",
   "metadata": {},
   "source": [
    "## [TODO] compute delta_f, where f = methylation level, for each window, and recompute the heat map in the delta_sf-delta_f plane, where this time delta_sf is replaced by z_chen\n",
    "\n",
    "Hopefully, this will show that measuring how anomalous the methylation levels are can improve upon the Chen zscore for many surrogates of constraint. "
   ]
  },
  {
   "cell_type": "code",
   "execution_count": null,
   "id": "f2f7cefa",
   "metadata": {},
   "outputs": [],
   "source": []
  }
 ],
 "metadata": {
  "kernelspec": {
   "display_name": "Python 3",
   "language": "python",
   "name": "python3"
  },
  "language_info": {
   "codemirror_mode": {
    "name": "ipython",
    "version": 3
   },
   "file_extension": ".py",
   "mimetype": "text/x-python",
   "name": "python",
   "nbconvert_exporter": "python",
   "pygments_lexer": "ipython3",
   "version": "3.9.0"
  }
 },
 "nbformat": 4,
 "nbformat_minor": 5
}
