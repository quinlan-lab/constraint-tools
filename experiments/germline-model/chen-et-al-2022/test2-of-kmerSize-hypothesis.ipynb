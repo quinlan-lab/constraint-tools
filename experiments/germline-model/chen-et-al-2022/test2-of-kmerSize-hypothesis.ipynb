{
 "cells": [
  {
   "cell_type": "code",
   "execution_count": 1,
   "id": "183a7df7",
   "metadata": {
    "scrolled": true
   },
   "outputs": [
    {
     "data": {
      "text/html": [
       "<style>.container { width: 100% !important; }</style>"
      ],
      "text/plain": [
       "<IPython.core.display.HTML object>"
      ]
     },
     "metadata": {},
     "output_type": "display_data"
    }
   ],
   "source": [
    "from IPython.display import display, HTML\n",
    "display(HTML(\"<style>.container { width: 100% !important; }</style>\"))"
   ]
  },
  {
   "cell_type": "code",
   "execution_count": 46,
   "id": "aacacc6c",
   "metadata": {},
   "outputs": [],
   "source": [
    "# TODO \n",
    "\n",
    "# 0. sub_probs_old = get_p0s_p1s_p2s_p3s(window, genome, model, log=True) # utilities/get_p0s_p1s_p2s_p3s.py\n",
    "# 1. alt_counts_new = np.random.multinomial(3mer_count_new, sub_probs_old, size=1)\n",
    "# 2. kmer_counts_new = f(alt_counts_new)\n",
    "# 3. sub_probs_new = estimate_kmer_probabilities(kmer_counts_new, args) # train/germline-model/estimate-probabilities\n",
    "# 4. repeat for all 3mers, and dump dictionary to model-3-new.json \n",
    "\n",
    "# TODO: has reverse complementarity been handled correctly?"
   ]
  },
  {
   "cell_type": "code",
   "execution_count": 45,
   "id": "eadb372c",
   "metadata": {
    "scrolled": false
   },
   "outputs": [
    {
     "data": {
      "text/plain": [
       "{'{C}': 0.03064242457603776,\n",
       " '{G}': 0.05273588266099003,\n",
       " '{T}': 0.017067843522482667,\n",
       " '{C,G}': 0.002132047830285883,\n",
       " '{C,T}': 0.0008130795794212962,\n",
       " '{G,T}': 0.001257811676431882,\n",
       " '{C,G,T}': 8.906225027289328e-05}"
      ]
     },
     "execution_count": 45,
     "metadata": {},
     "output_type": "execute_result"
    }
   ],
   "source": [
    "CONSTRAINT_TOOLS = '/scratch/ucgd/lustre-work/quinlan/u6018199/constraint-tools'\n",
    "\n",
    "import pandas as pd \n",
    "\n",
    "pd.set_option('display.max_rows', 30)\n",
    "\n",
    "import sys\n",
    "sys.path.append(f'{CONSTRAINT_TOOLS}/utilities')\n",
    "\n",
    "import matplotlib.pyplot as plt \n",
    "plt.rcParams.update({'font.size': 20})\n",
    "\n",
    "import seaborn as sns \n",
    "import numpy as np \n",
    "\n",
    "from read_model import read_model \n",
    "\n",
    "def read_model_wrapper(kmer_size, train_set_label='noncoding'):\n",
    "    filename = f'{CONSTRAINT_TOOLS}/dist/model-germline-grch38-Nonly.kmerSize-{kmer_size}.trainSet-{train_set_label}.json'\n",
    "    model = read_model(filename)\n",
    "    return model\n",
    "\n",
    "def f(three_mer='AAA'):\n",
    "    model_7 = read_model_wrapper(kmer_size=7)\n",
    "    seven_mers = [seven_mer for seven_mer in model_7['kmerCounts'].keys() if seven_mer[2:5] == three_mer]\n",
    "    seven_mer_counts = [model_7['kmerCounts'][seven_mer]['count'] for seven_mer in seven_mers]\n",
    "    three_mer_count_new = int(np.mean(seven_mer_counts))\n",
    "\n",
    "    # update 3mer counts AND 3mer probs\n",
    "    model_3 = read_model_wrapper(kmer_size=3)\n",
    "    three_mer_probabilities = model_3['kmerProbabilities'][three_mer]\n",
    "    return three_mer_probabilities\n",
    "    for ALT_state in three_mer_probabilities.keys(): \n",
    "        three_mer_probabilities[ALT_state] = None # TODO \n",
    "    return three_mer_probabilities\n",
    "        \n",
    "    np.random.multinomial(three_mer_count_new, None, size=1)\n",
    "        \n",
    "    three_mer_probability = None\n",
    "\n",
    "def g(): \n",
    "    model_3 = read_model_wrapper(kmer_size=3)\n",
    "    three_mers = model_3['kmerCounts'].keys()\n",
    "    for three_mer in three_mers: \n",
    "        return f(three_mer)\n",
    "\n",
    "g()"
   ]
  },
  {
   "cell_type": "code",
   "execution_count": null,
   "id": "80a4395b",
   "metadata": {},
   "outputs": [],
   "source": []
  }
 ],
 "metadata": {
  "kernelspec": {
   "display_name": "Python 3",
   "language": "python",
   "name": "python3"
  },
  "language_info": {
   "codemirror_mode": {
    "name": "ipython",
    "version": 3
   },
   "file_extension": ".py",
   "mimetype": "text/x-python",
   "name": "python",
   "nbconvert_exporter": "python",
   "pygments_lexer": "ipython3",
   "version": "3.9.0"
  }
 },
 "nbformat": 4,
 "nbformat_minor": 5
}
