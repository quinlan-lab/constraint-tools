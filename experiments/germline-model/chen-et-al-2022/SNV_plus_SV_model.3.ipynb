{
 "cells": [
  {
   "cell_type": "markdown",
   "metadata": {},
   "source": [
    "## Steps to address Aaron’s surprise that SV-predictor is so much worse than SNV-predictor at predicting coding constraint\n"
   ]
  },
  {
   "cell_type": "code",
   "execution_count": null,
   "metadata": {},
   "outputs": [],
   "source": [
    "# 1. let genes (critical and olfactory) be the \"large\" windows (they are now of varying sizes)\n",
    "# 2. get their exon coordinates (together with parent genes)\n",
    "# 3. assign z-scores to exons, group by parent genes, aggregate across exons, and get z-scores for genes \n",
    "# 4. remove large deletions, intersect deletions with exons (not introns), and possibly make -f parameter more stringent, and include -r bedtools parameter, group by parent genes, aggregate across exons, to get deletion count for each gene\n",
    "# 5. normalize deletion count by total exon length, so that we can compare across genes\n",
    "# 6. re-run PR curves \n",
    "\n",
    "# 7. Visually inspect overlap of deletions with positive examples\n"
   ]
  }
 ],
 "metadata": {
  "kernelspec": {
   "display_name": "constraint-tools",
   "language": "python",
   "name": "python3"
  },
  "language_info": {
   "name": "python",
   "version": "3.9.0"
  }
 },
 "nbformat": 4,
 "nbformat_minor": 2
}
